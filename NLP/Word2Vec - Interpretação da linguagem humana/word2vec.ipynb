{
 "cells": [
  {
   "cell_type": "markdown",
   "metadata": {
    "id": "0xhn85VDeHhb"
   },
   "source": [
    "# Word2Vec: Interpretação da linguagem humana com word embedding\n",
    "## Classificação de notícias"
   ]
  },
  {
   "cell_type": "markdown",
   "metadata": {
    "id": "eA7gQYUdeTYv"
   },
   "source": [
    "### Bibliotecas básicas e outras inicializações"
   ]
  },
  {
   "cell_type": "code",
   "execution_count": 1,
   "metadata": {
    "ExecuteTime": {
     "end_time": "2021-04-23T13:14:28.557068Z",
     "start_time": "2021-04-23T13:14:27.540548Z"
    },
    "id": "va-PnIzxekAO"
   },
   "outputs": [],
   "source": [
    "import pandas as pd\n",
    "import numpy as np\n",
    "import seaborn as sns\n",
    "from sklearn.feature_extraction.text import CountVectorizer\n",
    "import matplotlib.pyplot as plt\n",
    "%matplotlib inline"
   ]
  },
  {
   "cell_type": "markdown",
   "metadata": {
    "id": "bQ0zb-2YeZg_"
   },
   "source": [
    "### Carregamento dos dados"
   ]
  },
  {
   "cell_type": "code",
   "execution_count": 2,
   "metadata": {
    "ExecuteTime": {
     "end_time": "2021-04-23T13:14:36.905305Z",
     "start_time": "2021-04-23T13:14:28.561592Z"
    },
    "colab": {
     "base_uri": "https://localhost:8080/",
     "height": 298
    },
    "id": "9bd0ILj6vDPg",
    "outputId": "b9a5e79d-c524-43a5-dc1a-d6b3bcc9d54d"
   },
   "outputs": [
    {
     "name": "stdout",
     "output_type": "stream",
     "text": [
      "(90000, 6)\n"
     ]
    },
    {
     "data": {
      "text/html": [
       "<div>\n",
       "<style scoped>\n",
       "    .dataframe tbody tr th:only-of-type {\n",
       "        vertical-align: middle;\n",
       "    }\n",
       "\n",
       "    .dataframe tbody tr th {\n",
       "        vertical-align: top;\n",
       "    }\n",
       "\n",
       "    .dataframe thead th {\n",
       "        text-align: right;\n",
       "    }\n",
       "</style>\n",
       "<table border=\"1\" class=\"dataframe\">\n",
       "  <thead>\n",
       "    <tr style=\"text-align: right;\">\n",
       "      <th></th>\n",
       "      <th>title</th>\n",
       "      <th>text</th>\n",
       "      <th>date</th>\n",
       "      <th>category</th>\n",
       "      <th>subcategory</th>\n",
       "      <th>link</th>\n",
       "    </tr>\n",
       "  </thead>\n",
       "  <tbody>\n",
       "    <tr>\n",
       "      <th>21725</th>\n",
       "      <td>\\n\\t\\tMinistro reafirma continuidade do Bolsa ...</td>\n",
       "      <td>DO UOL  O ministro do Esporte, Leonardo Piccia...</td>\n",
       "      <td>2016-05-10</td>\n",
       "      <td>esporte</td>\n",
       "      <td>olimpiada-no-rio</td>\n",
       "      <td>http://www1.folha.uol.com.br/esporte/olimpiada...</td>\n",
       "    </tr>\n",
       "    <tr>\n",
       "      <th>53852</th>\n",
       "      <td>Sérgio Reis defende redução da maioridade pena...</td>\n",
       "      <td>Ainda mais radical que alguns de seus colegas,...</td>\n",
       "      <td>2015-04-28</td>\n",
       "      <td>cotidiano</td>\n",
       "      <td>NaN</td>\n",
       "      <td>http://www1.folha.uol.com.br/cotidiano/2015/04...</td>\n",
       "    </tr>\n",
       "    <tr>\n",
       "      <th>10913</th>\n",
       "      <td>Justiça nega recurso e mantém suspensa cobranç...</td>\n",
       "      <td>A Justiça Federal negou nesta terça-feira (14)...</td>\n",
       "      <td>2017-03-14</td>\n",
       "      <td>cotidiano</td>\n",
       "      <td>NaN</td>\n",
       "      <td>http://www1.folha.uol.com.br/cotidiano/2017/03...</td>\n",
       "    </tr>\n",
       "    <tr>\n",
       "      <th>930</th>\n",
       "      <td>Nova primeira-dama de SP diz que Doria fará 'm...</td>\n",
       "      <td>Ladeada de amigas e seguranças, a nova primeir...</td>\n",
       "      <td>2016-10-24</td>\n",
       "      <td>ilustrada</td>\n",
       "      <td>NaN</td>\n",
       "      <td>http://www1.folha.uol.com.br/ilustrada/2016/10...</td>\n",
       "    </tr>\n",
       "    <tr>\n",
       "      <th>28643</th>\n",
       "      <td>Coleção apresenta os sabores picantes da culin...</td>\n",
       "      <td>A cozinha colorida e condimentada do México é ...</td>\n",
       "      <td>2016-07-17</td>\n",
       "      <td>ilustrada</td>\n",
       "      <td>NaN</td>\n",
       "      <td>http://www1.folha.uol.com.br/ilustrada/2016/07...</td>\n",
       "    </tr>\n",
       "  </tbody>\n",
       "</table>\n",
       "</div>"
      ],
      "text/plain": [
       "                                                   title  \\\n",
       "21725  \\n\\t\\tMinistro reafirma continuidade do Bolsa ...   \n",
       "53852  Sérgio Reis defende redução da maioridade pena...   \n",
       "10913  Justiça nega recurso e mantém suspensa cobranç...   \n",
       "930    Nova primeira-dama de SP diz que Doria fará 'm...   \n",
       "28643  Coleção apresenta os sabores picantes da culin...   \n",
       "\n",
       "                                                    text        date  \\\n",
       "21725  DO UOL  O ministro do Esporte, Leonardo Piccia...  2016-05-10   \n",
       "53852  Ainda mais radical que alguns de seus colegas,...  2015-04-28   \n",
       "10913  A Justiça Federal negou nesta terça-feira (14)...  2017-03-14   \n",
       "930    Ladeada de amigas e seguranças, a nova primeir...  2016-10-24   \n",
       "28643  A cozinha colorida e condimentada do México é ...  2016-07-17   \n",
       "\n",
       "        category       subcategory  \\\n",
       "21725    esporte  olimpiada-no-rio   \n",
       "53852  cotidiano               NaN   \n",
       "10913  cotidiano               NaN   \n",
       "930    ilustrada               NaN   \n",
       "28643  ilustrada               NaN   \n",
       "\n",
       "                                                    link  \n",
       "21725  http://www1.folha.uol.com.br/esporte/olimpiada...  \n",
       "53852  http://www1.folha.uol.com.br/cotidiano/2015/04...  \n",
       "10913  http://www1.folha.uol.com.br/cotidiano/2017/03...  \n",
       "930    http://www1.folha.uol.com.br/ilustrada/2016/10...  \n",
       "28643  http://www1.folha.uol.com.br/ilustrada/2016/07...  "
      ]
     },
     "execution_count": 2,
     "metadata": {},
     "output_type": "execute_result"
    }
   ],
   "source": [
    "artigo_treino = pd.read_csv('./dataset/treino.csv')\n",
    "print(artigo_treino.shape)\n",
    "artigo_treino.sample(5)"
   ]
  },
  {
   "cell_type": "code",
   "execution_count": 3,
   "metadata": {
    "ExecuteTime": {
     "end_time": "2021-04-23T13:14:38.914953Z",
     "start_time": "2021-04-23T13:14:36.909773Z"
    },
    "colab": {
     "base_uri": "https://localhost:8080/",
     "height": 298
    },
    "id": "cUEAbrNoyvXm",
    "outputId": "c3c5f2f0-7ef4-481d-b03d-cb629c1d45fd"
   },
   "outputs": [
    {
     "name": "stdout",
     "output_type": "stream",
     "text": [
      "(20513, 6)\n"
     ]
    },
    {
     "data": {
      "text/html": [
       "<div>\n",
       "<style scoped>\n",
       "    .dataframe tbody tr th:only-of-type {\n",
       "        vertical-align: middle;\n",
       "    }\n",
       "\n",
       "    .dataframe tbody tr th {\n",
       "        vertical-align: top;\n",
       "    }\n",
       "\n",
       "    .dataframe thead th {\n",
       "        text-align: right;\n",
       "    }\n",
       "</style>\n",
       "<table border=\"1\" class=\"dataframe\">\n",
       "  <thead>\n",
       "    <tr style=\"text-align: right;\">\n",
       "      <th></th>\n",
       "      <th>title</th>\n",
       "      <th>text</th>\n",
       "      <th>date</th>\n",
       "      <th>category</th>\n",
       "      <th>subcategory</th>\n",
       "      <th>link</th>\n",
       "    </tr>\n",
       "  </thead>\n",
       "  <tbody>\n",
       "    <tr>\n",
       "      <th>12947</th>\n",
       "      <td>EUA estabelecem margem de dumping para importa...</td>\n",
       "      <td>O Departamento de Comércio dos Estados Unidos ...</td>\n",
       "      <td>2016-12-01</td>\n",
       "      <td>mercado</td>\n",
       "      <td>NaN</td>\n",
       "      <td>http://www1.folha.uol.com.br/mercado/2016/01/1...</td>\n",
       "    </tr>\n",
       "    <tr>\n",
       "      <th>16278</th>\n",
       "      <td>Palmeiras busca 1ª vitória pelo Brasileiro na ...</td>\n",
       "      <td>O Palmeiras busca contra o Goiás, neste doming...</td>\n",
       "      <td>2015-05-24</td>\n",
       "      <td>esporte</td>\n",
       "      <td>NaN</td>\n",
       "      <td>http://www1.folha.uol.com.br/esporte/2015/05/1...</td>\n",
       "    </tr>\n",
       "    <tr>\n",
       "      <th>18731</th>\n",
       "      <td>Em clima de campanha, prefeito Eduardo Paes re...</td>\n",
       "      <td>Em clima de campanha antecipada, o prefeito do...</td>\n",
       "      <td>2015-06-09</td>\n",
       "      <td>cotidiano</td>\n",
       "      <td>NaN</td>\n",
       "      <td>http://www1.folha.uol.com.br/cotidiano/2015/09...</td>\n",
       "    </tr>\n",
       "    <tr>\n",
       "      <th>18405</th>\n",
       "      <td>Trump é fruto inesperado dos desvios dos liber...</td>\n",
       "      <td>\"Um liberal não passa de um fascista em férias...</td>\n",
       "      <td>2016-12-31</td>\n",
       "      <td>colunas</td>\n",
       "      <td>demetriomagnoli</td>\n",
       "      <td>http://www1.folha.uol.com.br/colunas/demetriom...</td>\n",
       "    </tr>\n",
       "    <tr>\n",
       "      <th>2430</th>\n",
       "      <td>Fato inédito nos pontos corridos, título sem j...</td>\n",
       "      <td>Os jogadores do Corinthians podem ser os prime...</td>\n",
       "      <td>2015-04-11</td>\n",
       "      <td>esporte</td>\n",
       "      <td>NaN</td>\n",
       "      <td>http://www1.folha.uol.com.br/esporte/2015/11/1...</td>\n",
       "    </tr>\n",
       "  </tbody>\n",
       "</table>\n",
       "</div>"
      ],
      "text/plain": [
       "                                                   title  \\\n",
       "12947  EUA estabelecem margem de dumping para importa...   \n",
       "16278  Palmeiras busca 1ª vitória pelo Brasileiro na ...   \n",
       "18731  Em clima de campanha, prefeito Eduardo Paes re...   \n",
       "18405  Trump é fruto inesperado dos desvios dos liber...   \n",
       "2430   Fato inédito nos pontos corridos, título sem j...   \n",
       "\n",
       "                                                    text        date  \\\n",
       "12947  O Departamento de Comércio dos Estados Unidos ...  2016-12-01   \n",
       "16278  O Palmeiras busca contra o Goiás, neste doming...  2015-05-24   \n",
       "18731  Em clima de campanha antecipada, o prefeito do...  2015-06-09   \n",
       "18405  \"Um liberal não passa de um fascista em férias...  2016-12-31   \n",
       "2430   Os jogadores do Corinthians podem ser os prime...  2015-04-11   \n",
       "\n",
       "        category      subcategory  \\\n",
       "12947    mercado              NaN   \n",
       "16278    esporte              NaN   \n",
       "18731  cotidiano              NaN   \n",
       "18405    colunas  demetriomagnoli   \n",
       "2430     esporte              NaN   \n",
       "\n",
       "                                                    link  \n",
       "12947  http://www1.folha.uol.com.br/mercado/2016/01/1...  \n",
       "16278  http://www1.folha.uol.com.br/esporte/2015/05/1...  \n",
       "18731  http://www1.folha.uol.com.br/cotidiano/2015/09...  \n",
       "18405  http://www1.folha.uol.com.br/colunas/demetriom...  \n",
       "2430   http://www1.folha.uol.com.br/esporte/2015/11/1...  "
      ]
     },
     "execution_count": 3,
     "metadata": {},
     "output_type": "execute_result"
    }
   ],
   "source": [
    "artigo_teste = pd.read_csv('./dataset/teste.csv')\n",
    "print(artigo_teste.shape)\n",
    "artigo_teste.sample(5)"
   ]
  },
  {
   "cell_type": "markdown",
   "metadata": {
    "id": "yNSnSeXAsahb"
   },
   "source": [
    "### Modelo pré-treinado\n",
    "\n",
    "Fonte: http://www.nilc.icmc.usp.br/nilc/index.php/repositorio-de-word-embeddings-do-nilc"
   ]
  },
  {
   "cell_type": "code",
   "execution_count": 4,
   "metadata": {
    "ExecuteTime": {
     "end_time": "2021-04-23T13:22:22.605975Z",
     "start_time": "2021-04-23T13:14:38.921698Z"
    }
   },
   "outputs": [
    {
     "data": {
      "text/plain": [
       "[('índia', 0.7630469799041748),\n",
       " ('taiwan', 0.7408342361450195),\n",
       " ('tailândia', 0.710228443145752),\n",
       " ('indonésia', 0.6836247444152832),\n",
       " ('malásia', 0.6769840717315674),\n",
       " ('mongólia', 0.6427473425865173),\n",
       " ('coreia', 0.6382735967636108),\n",
       " ('manchúria', 0.6369147896766663),\n",
       " ('singapura', 0.6189110279083252),\n",
       " ('rússia', 0.5982829332351685)]"
      ]
     },
     "execution_count": 4,
     "metadata": {},
     "output_type": "execute_result"
    }
   ],
   "source": [
    "from gensim.models import KeyedVectors\n",
    "modelo = KeyedVectors.load_word2vec_format('./embbedings/skip_s300.txt')\n",
    "\n",
    "modelo.most_similar('china')"
   ]
  },
  {
   "cell_type": "code",
   "execution_count": 5,
   "metadata": {
    "ExecuteTime": {
     "end_time": "2021-04-23T13:22:22.822793Z",
     "start_time": "2021-04-23T13:22:22.626860Z"
    }
   },
   "outputs": [
    {
     "data": {
      "text/plain": [
       "[('chile', 0.7519630193710327),\n",
       " ('paraguai', 0.6889568567276001),\n",
       " ('peru', 0.6882554292678833),\n",
       " ('uruguai', 0.6853610873222351),\n",
       " ('venezuela', 0.6830991506576538),\n",
       " ('bolívia', 0.6790730953216553),\n",
       " ('méxico', 0.6655052900314331),\n",
       " ('colômbia', 0.664671003818512),\n",
       " ('equador', 0.6520291566848755),\n",
       " ('panamá', 0.5880077481269836)]"
      ]
     },
     "execution_count": 5,
     "metadata": {},
     "output_type": "execute_result"
    }
   ],
   "source": [
    "modelo.most_similar(positive=['brasil', 'argentina'])"
   ]
  },
  {
   "cell_type": "code",
   "execution_count": 6,
   "metadata": {
    "ExecuteTime": {
     "end_time": "2021-04-23T13:22:23.315133Z",
     "start_time": "2021-04-23T13:22:22.826843Z"
    }
   },
   "outputs": [
    {
     "data": {
      "text/plain": [
       "[('enfermeira', 0.6510195732116699),\n",
       " ('obstetra', 0.6261360049247742),\n",
       " ('pediatra', 0.5951809883117676),\n",
       " ('neonatologista', 0.5767174959182739),\n",
       " ('anestesista', 0.5706735849380493),\n",
       " ('ginecologista', 0.5536660552024841),\n",
       " ('fisioterapeuta', 0.5470119714736938),\n",
       " ('voluti', 0.5362079739570618),\n",
       " ('nutricionista', 0.5361762046813965),\n",
       " ('fonoaudióloga', 0.5353548526763916)]"
      ]
     },
     "execution_count": 6,
     "metadata": {},
     "output_type": "execute_result"
    }
   ],
   "source": [
    "modelo.most_similar(positive=['médico', 'mulher'], negative=['homem'])"
   ]
  },
  {
   "cell_type": "markdown",
   "metadata": {},
   "source": [
    "### Vetorização do texto"
   ]
  },
  {
   "cell_type": "code",
   "execution_count": 7,
   "metadata": {
    "ExecuteTime": {
     "end_time": "2021-04-23T13:22:29.790582Z",
     "start_time": "2021-04-23T13:22:23.320116Z"
    }
   },
   "outputs": [
    {
     "data": {
      "text/plain": [
       "['após',\n",
       " 'polêmica',\n",
       " 'marine',\n",
       " 'le',\n",
       " 'pen',\n",
       " 'diz',\n",
       " 'que',\n",
       " 'abomina',\n",
       " 'negacionistas',\n",
       " 'do',\n",
       " 'holocausto']"
      ]
     },
     "execution_count": 7,
     "metadata": {},
     "output_type": "execute_result"
    }
   ],
   "source": [
    "import nltk\n",
    "import string\n",
    "\n",
    "def tokenizador(texto):\n",
    "    texto = texto.lower()\n",
    "    lista_alfanumerico = []\n",
    "    \n",
    "    for token_valido in nltk.word_tokenize(texto):\n",
    "        if token_valido in string.punctuation: continue\n",
    "        lista_alfanumerico.append(token_valido)        \n",
    "    return lista_alfanumerico\n",
    "\n",
    "tokenizador(artigo_treino['title'][0])"
   ]
  },
  {
   "cell_type": "markdown",
   "metadata": {},
   "source": [
    "### Combinando vetores"
   ]
  },
  {
   "cell_type": "code",
   "execution_count": 12,
   "metadata": {
    "ExecuteTime": {
     "end_time": "2021-04-23T14:00:05.847061Z",
     "start_time": "2021-04-23T14:00:05.834152Z"
    }
   },
   "outputs": [
    {
     "data": {
      "text/plain": [
       "array([-0.86259399, -0.09650198, -0.04621498,  0.062894  , -0.42186402,\n",
       "        0.949122  , -1.08391203,  0.30013298, -0.34467998, -0.77671101])"
      ]
     },
     "execution_count": 12,
     "metadata": {},
     "output_type": "execute_result"
    }
   ],
   "source": [
    "def combinacao_vetores_por_soma(palavras_numeros):\n",
    "    vetor_resultante = np.zeros(300)\n",
    "    for pn in palavras_numeros:\n",
    "        try:\n",
    "            vetor_resultante += modelo.get_vector(pn)\n",
    "        except KeyError:\n",
    "            if pn.isnumeric():\n",
    "                pn = '0'*len(pn)\n",
    "                vetor_resultante += modelo.get_vector(pn)\n",
    "            else:\n",
    "                vetor_resultante += modelo.get_vector('unknown')                \n",
    "    return vetor_resultante\n",
    "\n",
    "vetor_resultante = combinacao_vetores_por_soma(tokenizador(artigo_treino['title'][0]))\n",
    "vetor_resultante[:10]"
   ]
  },
  {
   "cell_type": "markdown",
   "metadata": {},
   "source": [
    "### Dados de treino e teste"
   ]
  },
  {
   "cell_type": "code",
   "execution_count": 17,
   "metadata": {
    "ExecuteTime": {
     "end_time": "2021-04-23T14:08:56.487738Z",
     "start_time": "2021-04-23T14:08:16.191225Z"
    }
   },
   "outputs": [],
   "source": [
    "def matriz_vetores(textos):\n",
    "    x = len(textos)\n",
    "    y = 300\n",
    "    matriz = np.zeros((x, y))\n",
    "    \n",
    "    for i in range(x):\n",
    "        palavras_numeros = tokenizador(textos.iloc[i])\n",
    "        matriz[i] = combinacao_vetores_por_soma(palavras_numeros)\n",
    "    return matriz\n",
    "\n",
    "matriz_vetores_treino = matriz_vetores(artigo_treino['title'])\n",
    "matriz_vetores_teste = matriz_vetores(artigo_teste['title'])"
   ]
  },
  {
   "cell_type": "code",
   "execution_count": 18,
   "metadata": {
    "ExecuteTime": {
     "end_time": "2021-04-23T14:08:56.639631Z",
     "start_time": "2021-04-23T14:08:56.633614Z"
    }
   },
   "outputs": [
    {
     "name": "stdout",
     "output_type": "stream",
     "text": [
      "(90000, 300)\n",
      "(20513, 300)\n"
     ]
    }
   ],
   "source": [
    "print(matriz_vetores_treino.shape)\n",
    "print(matriz_vetores_teste.shape)"
   ]
  },
  {
   "cell_type": "markdown",
   "metadata": {},
   "source": [
    "### Classificação"
   ]
  },
  {
   "cell_type": "code",
   "execution_count": 28,
   "metadata": {
    "ExecuteTime": {
     "end_time": "2021-04-23T14:22:22.658488Z",
     "start_time": "2021-04-23T14:21:24.510783Z"
    }
   },
   "outputs": [
    {
     "data": {
      "text/plain": [
       "LogisticRegression(max_iter=1000)"
      ]
     },
     "execution_count": 28,
     "metadata": {},
     "output_type": "execute_result"
    }
   ],
   "source": [
    "from sklearn.linear_model import LogisticRegression\n",
    "modelo = LogisticRegression(solver='lbfgs', max_iter=1000, penalty='l2', tol=0.0001, C=1.0)\n",
    "modelo.fit(matriz_vetores_treino, artigo_treino['category'])"
   ]
  },
  {
   "cell_type": "code",
   "execution_count": 29,
   "metadata": {
    "ExecuteTime": {
     "end_time": "2021-04-23T14:22:22.927475Z",
     "start_time": "2021-04-23T14:22:22.921395Z"
    }
   },
   "outputs": [
    {
     "data": {
      "text/plain": [
       "array([245], dtype=int32)"
      ]
     },
     "execution_count": 29,
     "metadata": {},
     "output_type": "execute_result"
    }
   ],
   "source": [
    "modelo.n_iter_"
   ]
  },
  {
   "cell_type": "code",
   "execution_count": 30,
   "metadata": {
    "ExecuteTime": {
     "end_time": "2021-04-23T14:22:23.230526Z",
     "start_time": "2021-04-23T14:22:23.104484Z"
    }
   },
   "outputs": [
    {
     "data": {
      "text/plain": [
       "0.806805440452396"
      ]
     },
     "execution_count": 30,
     "metadata": {},
     "output_type": "execute_result"
    }
   ],
   "source": [
    "modelo.score(matriz_vetores_teste, artigo_teste['category'])"
   ]
  },
  {
   "cell_type": "markdown",
   "metadata": {},
   "source": [
    "#### Predição"
   ]
  },
  {
   "cell_type": "code",
   "execution_count": 31,
   "metadata": {
    "ExecuteTime": {
     "end_time": "2021-04-23T14:22:23.431412Z",
     "start_time": "2021-04-23T14:22:23.406294Z"
    }
   },
   "outputs": [],
   "source": [
    "y_pred = modelo.predict(matriz_vetores_teste)"
   ]
  },
  {
   "cell_type": "markdown",
   "metadata": {},
   "source": [
    "#### Interpretando o resultado"
   ]
  },
  {
   "cell_type": "code",
   "execution_count": 32,
   "metadata": {
    "ExecuteTime": {
     "end_time": "2021-04-23T14:22:24.645702Z",
     "start_time": "2021-04-23T14:22:23.643226Z"
    }
   },
   "outputs": [
    {
     "name": "stdout",
     "output_type": "stream",
     "text": [
      "              precision    recall  f1-score   support\n",
      "\n",
      "     colunas       0.86      0.72      0.78      6103\n",
      "   cotidiano       0.63      0.81      0.70      1698\n",
      "     esporte       0.93      0.89      0.91      4663\n",
      "   ilustrada       0.15      0.91      0.26       131\n",
      "     mercado       0.84      0.81      0.83      5867\n",
      "       mundo       0.76      0.86      0.80      2051\n",
      "\n",
      "    accuracy                           0.81     20513\n",
      "   macro avg       0.69      0.83      0.71     20513\n",
      "weighted avg       0.84      0.81      0.82     20513\n",
      "\n"
     ]
    }
   ],
   "source": [
    "from sklearn.metrics import classification_report\n",
    "print(classification_report(artigo_teste['category'], y_pred))"
   ]
  },
  {
   "cell_type": "markdown",
   "metadata": {},
   "source": [
    "### Comparando classificadores"
   ]
  },
  {
   "cell_type": "code",
   "execution_count": 37,
   "metadata": {
    "ExecuteTime": {
     "end_time": "2021-04-23T14:37:46.621950Z",
     "start_time": "2021-04-23T14:37:46.507289Z"
    }
   },
   "outputs": [
    {
     "data": {
      "text/plain": [
       "DummyClassifier()"
      ]
     },
     "execution_count": 37,
     "metadata": {},
     "output_type": "execute_result"
    }
   ],
   "source": [
    "from sklearn.dummy import DummyClassifier\n",
    "dummy = DummyClassifier()\n",
    "dummy.fit(matriz_vetores_treino, artigo_treino['category'])"
   ]
  },
  {
   "cell_type": "code",
   "execution_count": 39,
   "metadata": {
    "ExecuteTime": {
     "end_time": "2021-04-23T14:39:42.623173Z",
     "start_time": "2021-04-23T14:39:41.941939Z"
    }
   },
   "outputs": [
    {
     "name": "stdout",
     "output_type": "stream",
     "text": [
      "              precision    recall  f1-score   support\n",
      "\n",
      "     colunas       0.30      1.00      0.46      6103\n",
      "   cotidiano       0.00      0.00      0.00      1698\n",
      "     esporte       0.00      0.00      0.00      4663\n",
      "   ilustrada       0.00      0.00      0.00       131\n",
      "     mercado       0.00      0.00      0.00      5867\n",
      "       mundo       0.00      0.00      0.00      2051\n",
      "\n",
      "    accuracy                           0.30     20513\n",
      "   macro avg       0.05      0.17      0.08     20513\n",
      "weighted avg       0.09      0.30      0.14     20513\n",
      "\n"
     ]
    }
   ],
   "source": [
    "y_pred = dummy.predict(matriz_vetores_teste)\n",
    "print(classification_report(artigo_teste['category'], y_pred, zero_division=0))"
   ]
  }
 ],
 "metadata": {
  "colab": {
   "collapsed_sections": [],
   "name": "word2vec.ipynb",
   "provenance": []
  },
  "hide_input": false,
  "kernelspec": {
   "display_name": "Python 3",
   "language": "python",
   "name": "python3"
  },
  "language_info": {
   "codemirror_mode": {
    "name": "ipython",
    "version": 3
   },
   "file_extension": ".py",
   "mimetype": "text/x-python",
   "name": "python",
   "nbconvert_exporter": "python",
   "pygments_lexer": "ipython3",
   "version": "3.7.5"
  },
  "toc": {
   "base_numbering": 1,
   "nav_menu": {},
   "number_sections": true,
   "sideBar": true,
   "skip_h1_title": false,
   "title_cell": "Table of Contents",
   "title_sidebar": "Contents",
   "toc_cell": false,
   "toc_position": {},
   "toc_section_display": true,
   "toc_window_display": false
  },
  "varInspector": {
   "cols": {
    "lenName": 16,
    "lenType": 16,
    "lenVar": 40
   },
   "kernels_config": {
    "python": {
     "delete_cmd_postfix": "",
     "delete_cmd_prefix": "del ",
     "library": "var_list.py",
     "varRefreshCmd": "print(var_dic_list())"
    },
    "r": {
     "delete_cmd_postfix": ") ",
     "delete_cmd_prefix": "rm(",
     "library": "var_list.r",
     "varRefreshCmd": "cat(var_dic_list()) "
    }
   },
   "types_to_exclude": [
    "module",
    "function",
    "builtin_function_or_method",
    "instance",
    "_Feature"
   ],
   "window_display": false
  }
 },
 "nbformat": 4,
 "nbformat_minor": 1
}
