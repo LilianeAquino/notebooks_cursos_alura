{
 "cells": [
  {
   "cell_type": "markdown",
   "metadata": {},
   "source": [
    "# Word2Vec - Treinamento de word embbeding"
   ]
  },
  {
   "cell_type": "markdown",
   "metadata": {},
   "source": [
    "### Bibliotecas básicas e outras inicializações"
   ]
  },
  {
   "cell_type": "code",
   "execution_count": 1,
   "metadata": {
    "ExecuteTime": {
     "end_time": "2021-04-26T18:17:16.572900Z",
     "start_time": "2021-04-26T18:17:15.349788Z"
    }
   },
   "outputs": [],
   "source": [
    "import pandas as pd\n",
    "import numpy as np\n",
    "import spacy\n",
    "import seaborn as sns\n",
    "from sklearn.feature_extraction.text import CountVectorizer\n",
    "import matplotlib.pyplot as plt\n",
    "%matplotlib inline"
   ]
  },
  {
   "cell_type": "code",
   "execution_count": 2,
   "metadata": {
    "ExecuteTime": {
     "end_time": "2021-04-26T18:17:19.969268Z",
     "start_time": "2021-04-26T18:17:16.576261Z"
    }
   },
   "outputs": [],
   "source": [
    "nlp = spacy.load('pt_core_news_sm')"
   ]
  },
  {
   "cell_type": "markdown",
   "metadata": {},
   "source": [
    "### Carregando os dados"
   ]
  },
  {
   "cell_type": "code",
   "execution_count": 3,
   "metadata": {
    "ExecuteTime": {
     "end_time": "2021-04-26T18:17:24.352521Z",
     "start_time": "2021-04-26T18:17:19.972166Z"
    }
   },
   "outputs": [
    {
     "name": "stdout",
     "output_type": "stream",
     "text": [
      "(90000, 6)\n"
     ]
    },
    {
     "data": {
      "text/html": [
       "<div>\n",
       "<style scoped>\n",
       "    .dataframe tbody tr th:only-of-type {\n",
       "        vertical-align: middle;\n",
       "    }\n",
       "\n",
       "    .dataframe tbody tr th {\n",
       "        vertical-align: top;\n",
       "    }\n",
       "\n",
       "    .dataframe thead th {\n",
       "        text-align: right;\n",
       "    }\n",
       "</style>\n",
       "<table border=\"1\" class=\"dataframe\">\n",
       "  <thead>\n",
       "    <tr style=\"text-align: right;\">\n",
       "      <th></th>\n",
       "      <th>title</th>\n",
       "      <th>text</th>\n",
       "      <th>date</th>\n",
       "      <th>category</th>\n",
       "      <th>subcategory</th>\n",
       "      <th>link</th>\n",
       "    </tr>\n",
       "  </thead>\n",
       "  <tbody>\n",
       "    <tr>\n",
       "      <th>33679</th>\n",
       "      <td>Prestes a estrear série, Lázaro Ramos se prepa...</td>\n",
       "      <td>Ao atender à ligação de Jorge Furtado, há algu...</td>\n",
       "      <td>2015-09-13</td>\n",
       "      <td>ilustrada</td>\n",
       "      <td>NaN</td>\n",
       "      <td>http://www1.folha.uol.com.br/ilustrada/2015/09...</td>\n",
       "    </tr>\n",
       "  </tbody>\n",
       "</table>\n",
       "</div>"
      ],
      "text/plain": [
       "                                                   title  \\\n",
       "33679  Prestes a estrear série, Lázaro Ramos se prepa...   \n",
       "\n",
       "                                                    text        date  \\\n",
       "33679  Ao atender à ligação de Jorge Furtado, há algu...  2015-09-13   \n",
       "\n",
       "        category subcategory  \\\n",
       "33679  ilustrada         NaN   \n",
       "\n",
       "                                                    link  \n",
       "33679  http://www1.folha.uol.com.br/ilustrada/2015/09...  "
      ]
     },
     "execution_count": 3,
     "metadata": {},
     "output_type": "execute_result"
    }
   ],
   "source": [
    "dados_treino = pd.read_csv('./datasets/treino.csv')\n",
    "print(dados_treino.shape)\n",
    "dados_treino.sample()"
   ]
  },
  {
   "cell_type": "code",
   "execution_count": 4,
   "metadata": {
    "ExecuteTime": {
     "end_time": "2021-04-26T18:17:25.400437Z",
     "start_time": "2021-04-26T18:17:24.356009Z"
    }
   },
   "outputs": [
    {
     "name": "stdout",
     "output_type": "stream",
     "text": [
      "(20513, 6)\n"
     ]
    },
    {
     "data": {
      "text/html": [
       "<div>\n",
       "<style scoped>\n",
       "    .dataframe tbody tr th:only-of-type {\n",
       "        vertical-align: middle;\n",
       "    }\n",
       "\n",
       "    .dataframe tbody tr th {\n",
       "        vertical-align: top;\n",
       "    }\n",
       "\n",
       "    .dataframe thead th {\n",
       "        text-align: right;\n",
       "    }\n",
       "</style>\n",
       "<table border=\"1\" class=\"dataframe\">\n",
       "  <thead>\n",
       "    <tr style=\"text-align: right;\">\n",
       "      <th></th>\n",
       "      <th>title</th>\n",
       "      <th>text</th>\n",
       "      <th>date</th>\n",
       "      <th>category</th>\n",
       "      <th>subcategory</th>\n",
       "      <th>link</th>\n",
       "    </tr>\n",
       "  </thead>\n",
       "  <tbody>\n",
       "    <tr>\n",
       "      <th>6137</th>\n",
       "      <td>Bruno Soares garante vaga nas quartas de dupla...</td>\n",
       "      <td>O tenista brasileiro Bruno Soares está nas qua...</td>\n",
       "      <td>2015-06-07</td>\n",
       "      <td>esporte</td>\n",
       "      <td>NaN</td>\n",
       "      <td>http://www1.folha.uol.com.br/esporte/2015/07/1...</td>\n",
       "    </tr>\n",
       "  </tbody>\n",
       "</table>\n",
       "</div>"
      ],
      "text/plain": [
       "                                                  title  \\\n",
       "6137  Bruno Soares garante vaga nas quartas de dupla...   \n",
       "\n",
       "                                                   text        date category  \\\n",
       "6137  O tenista brasileiro Bruno Soares está nas qua...  2015-06-07  esporte   \n",
       "\n",
       "     subcategory                                               link  \n",
       "6137         NaN  http://www1.folha.uol.com.br/esporte/2015/07/1...  "
      ]
     },
     "execution_count": 4,
     "metadata": {},
     "output_type": "execute_result"
    }
   ],
   "source": [
    "dados_teste = pd.read_csv('./datasets/teste.csv')\n",
    "print(dados_teste.shape)\n",
    "dados_teste.sample()"
   ]
  },
  {
   "cell_type": "markdown",
   "metadata": {},
   "source": [
    "### Pré-processamento do dados"
   ]
  },
  {
   "cell_type": "code",
   "execution_count": 5,
   "metadata": {
    "ExecuteTime": {
     "end_time": "2021-04-26T18:17:25.416964Z",
     "start_time": "2021-04-26T18:17:25.408227Z"
    }
   },
   "outputs": [],
   "source": [
    "def trata_textos(doc):\n",
    "    tokens_validos = []\n",
    "    for token in doc:\n",
    "        e_valido = not token.is_stop and token.is_alpha\n",
    "        if e_valido:\n",
    "            tokens_validos.append(token.text)\n",
    "    \n",
    "    if len(tokens_validos) > 2:\n",
    "        return ' '.join(tokens_validos)"
   ]
  },
  {
   "cell_type": "code",
   "execution_count": 6,
   "metadata": {
    "ExecuteTime": {
     "end_time": "2021-04-26T18:18:51.923160Z",
     "start_time": "2021-04-26T18:17:25.423654Z"
    }
   },
   "outputs": [
    {
     "data": {
      "text/html": [
       "<div>\n",
       "<style scoped>\n",
       "    .dataframe tbody tr th:only-of-type {\n",
       "        vertical-align: middle;\n",
       "    }\n",
       "\n",
       "    .dataframe tbody tr th {\n",
       "        vertical-align: top;\n",
       "    }\n",
       "\n",
       "    .dataframe thead th {\n",
       "        text-align: right;\n",
       "    }\n",
       "</style>\n",
       "<table border=\"1\" class=\"dataframe\">\n",
       "  <thead>\n",
       "    <tr style=\"text-align: right;\">\n",
       "      <th></th>\n",
       "      <th>titulo</th>\n",
       "    </tr>\n",
       "  </thead>\n",
       "  <tbody>\n",
       "    <tr>\n",
       "      <th>0</th>\n",
       "      <td>polêmica marine le pen abomina negacionistas h...</td>\n",
       "    </tr>\n",
       "    <tr>\n",
       "      <th>1</th>\n",
       "      <td>macron e le pen turno frança revés siglas trad...</td>\n",
       "    </tr>\n",
       "    <tr>\n",
       "      <th>2</th>\n",
       "      <td>apesar larga vitória legislativas macron terá ...</td>\n",
       "    </tr>\n",
       "    <tr>\n",
       "      <th>3</th>\n",
       "      <td>governo antecipa balanço e alckmin anuncia que...</td>\n",
       "    </tr>\n",
       "    <tr>\n",
       "      <th>4</th>\n",
       "      <td>queda maio a atividade econômica sobe junho bc</td>\n",
       "    </tr>\n",
       "  </tbody>\n",
       "</table>\n",
       "</div>"
      ],
      "text/plain": [
       "                                              titulo\n",
       "0  polêmica marine le pen abomina negacionistas h...\n",
       "1  macron e le pen turno frança revés siglas trad...\n",
       "2  apesar larga vitória legislativas macron terá ...\n",
       "3  governo antecipa balanço e alckmin anuncia que...\n",
       "4     queda maio a atividade econômica sobe junho bc"
      ]
     },
     "execution_count": 6,
     "metadata": {},
     "output_type": "execute_result"
    }
   ],
   "source": [
    "textos_para_tratamento = (titulos.lower() for titulos in dados_treino['title'])\n",
    "textos_tratados = [trata_textos(doc) for doc in nlp.pipe(textos_para_tratamento, batch_size=1000, n_process=-1)]\n",
    "titulos_tratados = pd.DataFrame({'titulo': textos_tratados})\n",
    "titulos_tratados = titulos_tratados.dropna().drop_duplicates()\n",
    "titulos_tratados.head()"
   ]
  },
  {
   "cell_type": "markdown",
   "metadata": {},
   "source": [
    "### Treinamento Word2Vec"
   ]
  },
  {
   "cell_type": "markdown",
   "metadata": {},
   "source": [
    "#### CBOW"
   ]
  },
  {
   "cell_type": "code",
   "execution_count": 7,
   "metadata": {
    "ExecuteTime": {
     "end_time": "2021-04-26T18:18:57.508991Z",
     "start_time": "2021-04-26T18:18:51.926346Z"
    }
   },
   "outputs": [],
   "source": [
    "from gensim.models import Word2Vec\n",
    "w2v_modelo = Word2Vec(sg=0, window=2, size=300, min_count=5, alpha=0.03, min_alpha=0.007)\n",
    "tokens = [titulo.split(' ') for titulo in titulos_tratados['titulo']]\n",
    "w2v_modelo.build_vocab(tokens)"
   ]
  },
  {
   "cell_type": "code",
   "execution_count": 8,
   "metadata": {
    "ExecuteTime": {
     "end_time": "2021-04-26T18:19:27.967560Z",
     "start_time": "2021-04-26T18:18:57.512020Z"
    }
   },
   "outputs": [
    {
     "name": "stdout",
     "output_type": "stream",
     "text": [
      "Loss após a época 0: 620431.1875\n",
      "Loss após a época 1: 480012.8125\n",
      "Loss após a época 2: 449128.375\n",
      "Loss após a época 3: 415414.5\n",
      "Loss após a época 4: 362346.625\n",
      "Loss após a época 5: 335055.5\n",
      "Loss após a época 6: 316724.25\n",
      "Loss após a época 7: 299389.75\n",
      "Loss após a época 8: 283879.25\n",
      "Loss após a época 9: 267534.0\n",
      "Loss após a época 10: 255700.0\n",
      "Loss após a época 11: 228554.75\n",
      "Loss após a época 12: 210435.5\n",
      "Loss após a época 13: 211631.0\n",
      "Loss após a época 14: 193749.5\n",
      "Loss após a época 15: 178115.5\n",
      "Loss após a época 16: 179651.0\n",
      "Loss após a época 17: 174133.0\n",
      "Loss após a época 18: 159310.0\n",
      "Loss após a época 19: 161251.5\n",
      "Loss após a época 20: 158471.0\n",
      "Loss após a época 21: 159798.5\n",
      "Loss após a época 22: 149005.0\n",
      "Loss após a época 23: 145559.0\n",
      "Loss após a época 24: 140659.0\n",
      "Loss após a época 25: 137757.5\n",
      "Loss após a época 26: 127541.0\n",
      "Loss após a época 27: 131672.5\n",
      "Loss após a época 28: 134854.0\n",
      "Loss após a época 29: 126752.0\n"
     ]
    },
    {
     "data": {
      "text/plain": [
       "(14995050, 17644710)"
      ]
     },
     "execution_count": 8,
     "metadata": {},
     "output_type": "execute_result"
    }
   ],
   "source": [
    "from gensim.models.callbacks import CallbackAny2Vec\n",
    "\n",
    "class callback(CallbackAny2Vec):\n",
    "    def __init__(self):\n",
    "        self.epoch = 0\n",
    "\n",
    "    def on_epoch_end(self, model):\n",
    "        loss = model.get_latest_training_loss()\n",
    "        if self.epoch == 0:\n",
    "            print('Loss após a época {}: {}'.format(self.epoch, loss))\n",
    "        else:\n",
    "            print('Loss após a época {}: {}'.format(self.epoch, loss- self.loss_previous_step))\n",
    "        self.epoch += 1\n",
    "        self.loss_previous_step = loss\n",
    "\n",
    "\n",
    "w2v_modelo.train(tokens, total_examples=w2v_modelo.corpus_count, epochs=30, compute_loss=True, callbacks=[callback()]) "
   ]
  },
  {
   "cell_type": "code",
   "execution_count": 9,
   "metadata": {
    "ExecuteTime": {
     "end_time": "2021-04-26T18:19:28.010794Z",
     "start_time": "2021-04-26T18:19:27.970265Z"
    }
   },
   "outputs": [
    {
     "data": {
      "text/plain": [
       "[('facebook', 0.6091756820678711),\n",
       " ('apple', 0.5727623105049133),\n",
       " ('amazon', 0.5125503540039062),\n",
       " ('uber', 0.4780091643333435),\n",
       " ('yahoo', 0.4703161120414734),\n",
       " ('tesla', 0.4588194489479065),\n",
       " ('airbnb', 0.4499620497226715),\n",
       " ('walmart', 0.4396229386329651),\n",
       " ('waze', 0.43843623995780945),\n",
       " ('alibaba', 0.43683409690856934)]"
      ]
     },
     "execution_count": 9,
     "metadata": {},
     "output_type": "execute_result"
    }
   ],
   "source": [
    "w2v_modelo.wv.most_similar('google')"
   ]
  },
  {
   "cell_type": "markdown",
   "metadata": {},
   "source": [
    "#### SKIP-GRAM"
   ]
  },
  {
   "cell_type": "code",
   "execution_count": 10,
   "metadata": {
    "ExecuteTime": {
     "end_time": "2021-04-26T18:21:53.087389Z",
     "start_time": "2021-04-26T18:20:31.956792Z"
    }
   },
   "outputs": [
    {
     "name": "stdout",
     "output_type": "stream",
     "text": [
      "Loss após a época 0: 1924311.875\n",
      "Loss após a época 1: 1520951.625\n",
      "Loss após a época 2: 1307483.0\n",
      "Loss após a época 3: 1155441.5\n",
      "Loss após a época 4: 1174818.0\n",
      "Loss após a época 5: 1088112.5\n",
      "Loss após a época 6: 949190.5\n",
      "Loss após a época 7: 902036.0\n",
      "Loss após a época 8: 878130.0\n",
      "Loss após a época 9: 863686.0\n",
      "Loss após a época 10: 797922.0\n",
      "Loss após a época 11: 783432.0\n",
      "Loss após a época 12: 766337.0\n",
      "Loss após a época 13: 786010.0\n",
      "Loss após a época 14: 766761.0\n",
      "Loss após a época 15: 748570.0\n",
      "Loss após a época 16: 645185.0\n",
      "Loss após a época 17: 550600.0\n",
      "Loss após a época 18: 545014.0\n",
      "Loss após a época 19: 527192.0\n",
      "Loss após a época 20: 516716.0\n",
      "Loss após a época 21: 506732.0\n",
      "Loss após a época 22: 498592.0\n",
      "Loss após a época 23: 488752.0\n",
      "Loss após a época 24: 481176.0\n",
      "Loss após a época 25: 453590.0\n",
      "Loss após a época 26: 469396.0\n",
      "Loss após a época 27: 461542.0\n",
      "Loss após a época 28: 454000.0\n",
      "Loss após a época 29: 446070.0\n"
     ]
    },
    {
     "data": {
      "text/plain": [
       "(14995519, 17644710)"
      ]
     },
     "execution_count": 10,
     "metadata": {},
     "output_type": "execute_result"
    }
   ],
   "source": [
    "w2v_modelo_sg = Word2Vec(sg=1, window=5, size=300, min_count=5, alpha=0.03, min_alpha=0.007)\n",
    "w2v_modelo_sg.build_vocab(tokens)\n",
    "w2v_modelo_sg.train(tokens, total_examples=w2v_modelo.corpus_count, epochs=30, compute_loss=True, callbacks=[callback()]) "
   ]
  },
  {
   "cell_type": "code",
   "execution_count": 11,
   "metadata": {
    "ExecuteTime": {
     "end_time": "2021-04-26T18:21:56.003612Z",
     "start_time": "2021-04-26T18:21:55.960739Z"
    }
   },
   "outputs": [
    {
     "data": {
      "text/plain": [
       "[('reguladores', 0.45003873109817505),\n",
       " ('android', 0.41569453477859497),\n",
       " ('buffett', 0.41071152687072754),\n",
       " ('patentes', 0.4014918804168701),\n",
       " ('apple', 0.3949420154094696),\n",
       " ('concorda', 0.3683273196220398),\n",
       " ('yahoo', 0.3673931658267975),\n",
       " ('waze', 0.3651007413864136),\n",
       " ('warren', 0.35934484004974365),\n",
       " ('toshiba', 0.357677698135376)]"
      ]
     },
     "execution_count": 11,
     "metadata": {},
     "output_type": "execute_result"
    }
   ],
   "source": [
    "w2v_modelo_sg.wv.most_similar('google')"
   ]
  }
 ],
 "metadata": {
  "hide_input": false,
  "kernelspec": {
   "display_name": "Python 3",
   "language": "python",
   "name": "python3"
  },
  "language_info": {
   "codemirror_mode": {
    "name": "ipython",
    "version": 3
   },
   "file_extension": ".py",
   "mimetype": "text/x-python",
   "name": "python",
   "nbconvert_exporter": "python",
   "pygments_lexer": "ipython3",
   "version": "3.7.5"
  },
  "toc": {
   "base_numbering": 1,
   "nav_menu": {},
   "number_sections": true,
   "sideBar": true,
   "skip_h1_title": false,
   "title_cell": "Table of Contents",
   "title_sidebar": "Contents",
   "toc_cell": false,
   "toc_position": {},
   "toc_section_display": true,
   "toc_window_display": false
  },
  "varInspector": {
   "cols": {
    "lenName": 16,
    "lenType": 16,
    "lenVar": 40
   },
   "kernels_config": {
    "python": {
     "delete_cmd_postfix": "",
     "delete_cmd_prefix": "del ",
     "library": "var_list.py",
     "varRefreshCmd": "print(var_dic_list())"
    },
    "r": {
     "delete_cmd_postfix": ") ",
     "delete_cmd_prefix": "rm(",
     "library": "var_list.r",
     "varRefreshCmd": "cat(var_dic_list()) "
    }
   },
   "types_to_exclude": [
    "module",
    "function",
    "builtin_function_or_method",
    "instance",
    "_Feature"
   ],
   "window_display": false
  }
 },
 "nbformat": 4,
 "nbformat_minor": 4
}
