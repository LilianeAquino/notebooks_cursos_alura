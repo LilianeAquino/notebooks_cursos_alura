{
 "cells": [
  {
   "cell_type": "markdown",
   "metadata": {},
   "source": [
    "# Word2Vec - Treinamento de word embbeding"
   ]
  },
  {
   "cell_type": "markdown",
   "metadata": {},
   "source": [
    "### Bibliotecas básicas e outras inicializações"
   ]
  },
  {
   "cell_type": "code",
   "execution_count": 1,
   "metadata": {
    "ExecuteTime": {
     "end_time": "2021-04-27T16:51:19.288508Z",
     "start_time": "2021-04-27T16:51:14.173659Z"
    }
   },
   "outputs": [],
   "source": [
    "import pandas as pd\n",
    "import numpy as np\n",
    "import spacy\n",
    "import seaborn as sns\n",
    "import matplotlib.pyplot as plt\n",
    "%matplotlib inline"
   ]
  },
  {
   "cell_type": "code",
   "execution_count": 2,
   "metadata": {
    "ExecuteTime": {
     "end_time": "2021-04-27T16:51:23.940155Z",
     "start_time": "2021-04-27T16:51:19.291843Z"
    }
   },
   "outputs": [],
   "source": [
    "nlp = spacy.load('pt_core_news_sm')"
   ]
  },
  {
   "cell_type": "markdown",
   "metadata": {},
   "source": [
    "### Carregando os dados"
   ]
  },
  {
   "cell_type": "code",
   "execution_count": 3,
   "metadata": {
    "ExecuteTime": {
     "end_time": "2021-04-27T16:51:35.169337Z",
     "start_time": "2021-04-27T16:51:23.944536Z"
    }
   },
   "outputs": [
    {
     "name": "stdout",
     "output_type": "stream",
     "text": [
      "(90000, 6)\n"
     ]
    },
    {
     "data": {
      "text/html": [
       "<div>\n",
       "<style scoped>\n",
       "    .dataframe tbody tr th:only-of-type {\n",
       "        vertical-align: middle;\n",
       "    }\n",
       "\n",
       "    .dataframe tbody tr th {\n",
       "        vertical-align: top;\n",
       "    }\n",
       "\n",
       "    .dataframe thead th {\n",
       "        text-align: right;\n",
       "    }\n",
       "</style>\n",
       "<table border=\"1\" class=\"dataframe\">\n",
       "  <thead>\n",
       "    <tr style=\"text-align: right;\">\n",
       "      <th></th>\n",
       "      <th>title</th>\n",
       "      <th>text</th>\n",
       "      <th>date</th>\n",
       "      <th>category</th>\n",
       "      <th>subcategory</th>\n",
       "      <th>link</th>\n",
       "    </tr>\n",
       "  </thead>\n",
       "  <tbody>\n",
       "    <tr>\n",
       "      <th>41226</th>\n",
       "      <td>Problema do Palmeiras é não ter projeto para c...</td>\n",
       "      <td>A folha de pagamento do Palmeiras está perto d...</td>\n",
       "      <td>2017-06-18</td>\n",
       "      <td>colunas</td>\n",
       "      <td>pvc</td>\n",
       "      <td>http://www1.folha.uol.com.br/colunas/pvc/2017/...</td>\n",
       "    </tr>\n",
       "  </tbody>\n",
       "</table>\n",
       "</div>"
      ],
      "text/plain": [
       "                                                   title  \\\n",
       "41226  Problema do Palmeiras é não ter projeto para c...   \n",
       "\n",
       "                                                    text        date category  \\\n",
       "41226  A folha de pagamento do Palmeiras está perto d...  2017-06-18  colunas   \n",
       "\n",
       "      subcategory                                               link  \n",
       "41226         pvc  http://www1.folha.uol.com.br/colunas/pvc/2017/...  "
      ]
     },
     "execution_count": 3,
     "metadata": {},
     "output_type": "execute_result"
    }
   ],
   "source": [
    "dados_treino = pd.read_csv('./datasets/treino.csv')\n",
    "print(dados_treino.shape)\n",
    "dados_treino.sample()"
   ]
  },
  {
   "cell_type": "code",
   "execution_count": 4,
   "metadata": {
    "ExecuteTime": {
     "end_time": "2021-04-27T16:51:38.207353Z",
     "start_time": "2021-04-27T16:51:35.175139Z"
    }
   },
   "outputs": [
    {
     "name": "stdout",
     "output_type": "stream",
     "text": [
      "(20513, 6)\n"
     ]
    },
    {
     "data": {
      "text/html": [
       "<div>\n",
       "<style scoped>\n",
       "    .dataframe tbody tr th:only-of-type {\n",
       "        vertical-align: middle;\n",
       "    }\n",
       "\n",
       "    .dataframe tbody tr th {\n",
       "        vertical-align: top;\n",
       "    }\n",
       "\n",
       "    .dataframe thead th {\n",
       "        text-align: right;\n",
       "    }\n",
       "</style>\n",
       "<table border=\"1\" class=\"dataframe\">\n",
       "  <thead>\n",
       "    <tr style=\"text-align: right;\">\n",
       "      <th></th>\n",
       "      <th>title</th>\n",
       "      <th>text</th>\n",
       "      <th>date</th>\n",
       "      <th>category</th>\n",
       "      <th>subcategory</th>\n",
       "      <th>link</th>\n",
       "    </tr>\n",
       "  </thead>\n",
       "  <tbody>\n",
       "    <tr>\n",
       "      <th>3084</th>\n",
       "      <td>Combinar com o mar</td>\n",
       "      <td>RIO DE JANEIRO - Em janeiro, na véspera da ina...</td>\n",
       "      <td>2016-04-23</td>\n",
       "      <td>colunas</td>\n",
       "      <td>ruycastro</td>\n",
       "      <td>http://www1.folha.uol.com.br/colunas/ruycastro...</td>\n",
       "    </tr>\n",
       "  </tbody>\n",
       "</table>\n",
       "</div>"
      ],
      "text/plain": [
       "                   title                                               text  \\\n",
       "3084  Combinar com o mar  RIO DE JANEIRO - Em janeiro, na véspera da ina...   \n",
       "\n",
       "            date category subcategory  \\\n",
       "3084  2016-04-23  colunas   ruycastro   \n",
       "\n",
       "                                                   link  \n",
       "3084  http://www1.folha.uol.com.br/colunas/ruycastro...  "
      ]
     },
     "execution_count": 4,
     "metadata": {},
     "output_type": "execute_result"
    }
   ],
   "source": [
    "dados_teste = pd.read_csv('./datasets/teste.csv')\n",
    "print(dados_teste.shape)\n",
    "dados_teste.sample()"
   ]
  },
  {
   "cell_type": "markdown",
   "metadata": {},
   "source": [
    "### Pré-processamento do dados"
   ]
  },
  {
   "cell_type": "code",
   "execution_count": 5,
   "metadata": {
    "ExecuteTime": {
     "end_time": "2021-04-27T16:51:38.221785Z",
     "start_time": "2021-04-27T16:51:38.210848Z"
    }
   },
   "outputs": [],
   "source": [
    "def trata_textos(doc):\n",
    "    tokens_validos = []\n",
    "    for token in doc:\n",
    "        e_valido = not token.is_stop and token.is_alpha\n",
    "        if e_valido:\n",
    "            tokens_validos.append(token.text)\n",
    "    \n",
    "    if len(tokens_validos) > 2:\n",
    "        return ' '.join(tokens_validos)"
   ]
  },
  {
   "cell_type": "code",
   "execution_count": 6,
   "metadata": {
    "ExecuteTime": {
     "end_time": "2021-04-27T16:53:10.750832Z",
     "start_time": "2021-04-27T16:51:38.225591Z"
    }
   },
   "outputs": [
    {
     "data": {
      "text/html": [
       "<div>\n",
       "<style scoped>\n",
       "    .dataframe tbody tr th:only-of-type {\n",
       "        vertical-align: middle;\n",
       "    }\n",
       "\n",
       "    .dataframe tbody tr th {\n",
       "        vertical-align: top;\n",
       "    }\n",
       "\n",
       "    .dataframe thead th {\n",
       "        text-align: right;\n",
       "    }\n",
       "</style>\n",
       "<table border=\"1\" class=\"dataframe\">\n",
       "  <thead>\n",
       "    <tr style=\"text-align: right;\">\n",
       "      <th></th>\n",
       "      <th>titulo</th>\n",
       "    </tr>\n",
       "  </thead>\n",
       "  <tbody>\n",
       "    <tr>\n",
       "      <th>0</th>\n",
       "      <td>polêmica marine le pen abomina negacionistas h...</td>\n",
       "    </tr>\n",
       "    <tr>\n",
       "      <th>1</th>\n",
       "      <td>macron e le pen turno frança revés siglas trad...</td>\n",
       "    </tr>\n",
       "    <tr>\n",
       "      <th>2</th>\n",
       "      <td>apesar larga vitória legislativas macron terá ...</td>\n",
       "    </tr>\n",
       "    <tr>\n",
       "      <th>3</th>\n",
       "      <td>governo antecipa balanço e alckmin anuncia que...</td>\n",
       "    </tr>\n",
       "    <tr>\n",
       "      <th>4</th>\n",
       "      <td>queda maio a atividade econômica sobe junho bc</td>\n",
       "    </tr>\n",
       "  </tbody>\n",
       "</table>\n",
       "</div>"
      ],
      "text/plain": [
       "                                              titulo\n",
       "0  polêmica marine le pen abomina negacionistas h...\n",
       "1  macron e le pen turno frança revés siglas trad...\n",
       "2  apesar larga vitória legislativas macron terá ...\n",
       "3  governo antecipa balanço e alckmin anuncia que...\n",
       "4     queda maio a atividade econômica sobe junho bc"
      ]
     },
     "execution_count": 6,
     "metadata": {},
     "output_type": "execute_result"
    }
   ],
   "source": [
    "textos_para_tratamento = (titulos.lower() for titulos in dados_treino['title'])\n",
    "textos_tratados = [trata_textos(doc) for doc in nlp.pipe(textos_para_tratamento, batch_size=1000, n_process=-1)]\n",
    "titulos_tratados = pd.DataFrame({'titulo': textos_tratados})\n",
    "titulos_tratados = titulos_tratados.dropna().drop_duplicates()\n",
    "titulos_tratados.head()"
   ]
  },
  {
   "cell_type": "markdown",
   "metadata": {},
   "source": [
    "### Treinamento Word2Vec"
   ]
  },
  {
   "cell_type": "markdown",
   "metadata": {},
   "source": [
    "#### CBOW"
   ]
  },
  {
   "cell_type": "code",
   "execution_count": 7,
   "metadata": {
    "ExecuteTime": {
     "end_time": "2021-04-27T16:53:21.233687Z",
     "start_time": "2021-04-27T16:53:10.754019Z"
    }
   },
   "outputs": [],
   "source": [
    "from gensim.models import Word2Vec\n",
    "w2v_modelo = Word2Vec(sg=0, window=2, size=300, min_count=5, alpha=0.03, min_alpha=0.007)\n",
    "tokens = [titulo.split(' ') for titulo in titulos_tratados['titulo']]\n",
    "w2v_modelo.build_vocab(tokens)"
   ]
  },
  {
   "cell_type": "code",
   "execution_count": 8,
   "metadata": {
    "ExecuteTime": {
     "end_time": "2021-04-27T16:53:53.401251Z",
     "start_time": "2021-04-27T16:53:21.236473Z"
    }
   },
   "outputs": [
    {
     "name": "stdout",
     "output_type": "stream",
     "text": [
      "Loss após a época 0: 629875.875\n",
      "Loss após a época 1: 503941.5\n",
      "Loss após a época 2: 409089.5\n",
      "Loss após a época 3: 375963.5\n",
      "Loss após a época 4: 362940.625\n",
      "Loss após a época 5: 318465.75\n",
      "Loss após a época 6: 301026.25\n",
      "Loss após a época 7: 299670.0\n",
      "Loss após a época 8: 295305.5\n",
      "Loss após a época 9: 254407.5\n",
      "Loss após a época 10: 255349.75\n",
      "Loss após a época 11: 237791.75\n",
      "Loss após a época 12: 210967.5\n",
      "Loss após a época 13: 202848.5\n",
      "Loss após a época 14: 201810.5\n",
      "Loss após a época 15: 194977.0\n",
      "Loss após a época 16: 180257.0\n",
      "Loss após a época 17: 173183.0\n",
      "Loss após a época 18: 158873.0\n",
      "Loss após a época 19: 162802.5\n",
      "Loss após a época 20: 148605.5\n",
      "Loss após a época 21: 152450.0\n",
      "Loss após a época 22: 141840.0\n",
      "Loss após a época 23: 144707.5\n",
      "Loss após a época 24: 148800.0\n",
      "Loss após a época 25: 139279.0\n",
      "Loss após a época 26: 128141.0\n",
      "Loss após a época 27: 131237.5\n",
      "Loss após a época 28: 128627.5\n",
      "Loss após a época 29: 128205.0\n"
     ]
    },
    {
     "data": {
      "text/plain": [
       "(14993931, 17644710)"
      ]
     },
     "execution_count": 8,
     "metadata": {},
     "output_type": "execute_result"
    }
   ],
   "source": [
    "from gensim.models.callbacks import CallbackAny2Vec\n",
    "\n",
    "class callback(CallbackAny2Vec):\n",
    "    def __init__(self):\n",
    "        self.epoch = 0\n",
    "\n",
    "    def on_epoch_end(self, model):\n",
    "        loss = model.get_latest_training_loss()\n",
    "        if self.epoch == 0:\n",
    "            print('Loss após a época {}: {}'.format(self.epoch, loss))\n",
    "        else:\n",
    "            print('Loss após a época {}: {}'.format(self.epoch, loss- self.loss_previous_step))\n",
    "        self.epoch += 1\n",
    "        self.loss_previous_step = loss\n",
    "\n",
    "\n",
    "w2v_modelo.train(tokens, total_examples=w2v_modelo.corpus_count, epochs=30, compute_loss=True, callbacks=[callback()]) "
   ]
  },
  {
   "cell_type": "code",
   "execution_count": 9,
   "metadata": {
    "ExecuteTime": {
     "end_time": "2021-04-27T16:53:53.721691Z",
     "start_time": "2021-04-27T16:53:53.405110Z"
    }
   },
   "outputs": [
    {
     "data": {
      "text/plain": [
       "[('facebook', 0.6001596450805664),\n",
       " ('apple', 0.5977469682693481),\n",
       " ('software', 0.5043631792068481),\n",
       " ('uber', 0.47655439376831055),\n",
       " ('airbnb', 0.4682568311691284),\n",
       " ('amazon', 0.46755990386009216),\n",
       " ('apps', 0.462656706571579),\n",
       " ('yahoo', 0.45818811655044556),\n",
       " ('waze', 0.4439406991004944),\n",
       " ('fbi', 0.4402138590812683)]"
      ]
     },
     "execution_count": 9,
     "metadata": {},
     "output_type": "execute_result"
    }
   ],
   "source": [
    "w2v_modelo.wv.most_similar('google')"
   ]
  },
  {
   "cell_type": "markdown",
   "metadata": {},
   "source": [
    "#### SKIP-GRAM"
   ]
  },
  {
   "cell_type": "code",
   "execution_count": 10,
   "metadata": {
    "ExecuteTime": {
     "end_time": "2021-04-27T16:55:16.962254Z",
     "start_time": "2021-04-27T16:53:53.742595Z"
    }
   },
   "outputs": [
    {
     "name": "stdout",
     "output_type": "stream",
     "text": [
      "Loss após a época 0: 1928031.125\n",
      "Loss após a época 1: 1516673.375\n",
      "Loss após a época 2: 1318825.5\n",
      "Loss após a época 3: 1155002.5\n",
      "Loss após a época 4: 1119180.5\n",
      "Loss após a época 5: 1038607.5\n",
      "Loss após a época 6: 962070.5\n",
      "Loss após a época 7: 900627.0\n",
      "Loss após a época 8: 878897.0\n",
      "Loss após a época 9: 858729.0\n",
      "Loss após a época 10: 880373.0\n",
      "Loss após a época 11: 855779.0\n",
      "Loss após a época 12: 836868.0\n",
      "Loss após a época 13: 779539.0\n",
      "Loss após a época 14: 799678.0\n",
      "Loss após a época 15: 750945.0\n",
      "Loss após a época 16: 613878.0\n",
      "Loss após a época 17: 556666.0\n",
      "Loss após a época 18: 545234.0\n",
      "Loss após a época 19: 529814.0\n",
      "Loss após a época 20: 516806.0\n",
      "Loss após a época 21: 511364.0\n",
      "Loss após a época 22: 501940.0\n",
      "Loss após a época 23: 489488.0\n",
      "Loss após a época 24: 482034.0\n",
      "Loss após a época 25: 474102.0\n",
      "Loss após a época 26: 468218.0\n",
      "Loss após a época 27: 459906.0\n",
      "Loss após a época 28: 449560.0\n",
      "Loss após a época 29: 449476.0\n"
     ]
    },
    {
     "data": {
      "text/plain": [
       "(14993330, 17644710)"
      ]
     },
     "execution_count": 10,
     "metadata": {},
     "output_type": "execute_result"
    }
   ],
   "source": [
    "w2v_modelo_sg = Word2Vec(sg=1, window=5, size=300, min_count=5, alpha=0.03, min_alpha=0.007)\n",
    "w2v_modelo_sg.build_vocab(tokens)\n",
    "w2v_modelo_sg.train(tokens, total_examples=w2v_modelo.corpus_count, epochs=30, compute_loss=True, callbacks=[callback()]) "
   ]
  },
  {
   "cell_type": "code",
   "execution_count": 11,
   "metadata": {
    "ExecuteTime": {
     "end_time": "2021-04-27T16:55:17.005380Z",
     "start_time": "2021-04-27T16:55:16.965694Z"
    }
   },
   "outputs": [
    {
     "data": {
      "text/plain": [
       "[('apple', 0.42483484745025635),\n",
       " ('buffett', 0.4066280126571655),\n",
       " ('android', 0.4054515063762665),\n",
       " ('reguladores', 0.4016849100589752),\n",
       " ('waze', 0.39828798174858093),\n",
       " ('patentes', 0.39816367626190186),\n",
       " ('facebook', 0.3842591643333435),\n",
       " ('app', 0.3688926100730896),\n",
       " ('anunciantes', 0.36745041608810425),\n",
       " ('bmw', 0.36109450459480286)]"
      ]
     },
     "execution_count": 11,
     "metadata": {},
     "output_type": "execute_result"
    }
   ],
   "source": [
    "w2v_modelo_sg.wv.most_similar('google')"
   ]
  },
  {
   "cell_type": "markdown",
   "metadata": {},
   "source": [
    "#### Salva os modelos"
   ]
  },
  {
   "cell_type": "code",
   "execution_count": 12,
   "metadata": {
    "ExecuteTime": {
     "end_time": "2021-04-27T16:58:19.051629Z",
     "start_time": "2021-04-27T16:58:09.676732Z"
    }
   },
   "outputs": [],
   "source": [
    "w2v_modelo.wv.save_word2vec_format('models/modelo_cbow.txt', binary=False)\n",
    "w2v_modelo_sg.wv.save_word2vec_format('models/modelo_skipgram.txt', binary=False)"
   ]
  },
  {
   "cell_type": "markdown",
   "metadata": {},
   "source": [
    "### Classificador"
   ]
  },
  {
   "cell_type": "markdown",
   "metadata": {},
   "source": [
    "#### Carrega os modelos"
   ]
  },
  {
   "cell_type": "code",
   "execution_count": 33,
   "metadata": {
    "ExecuteTime": {
     "end_time": "2021-04-27T17:22:02.613240Z",
     "start_time": "2021-04-27T17:21:48.510146Z"
    }
   },
   "outputs": [],
   "source": [
    "from gensim.models import KeyedVectors\n",
    "w2v_modelo = KeyedVectors.load_word2vec_format('models/modelo_cbow.txt')\n",
    "w2v_modelo_sg = KeyedVectors.load_word2vec_format('models/modelo_skipgram.txt')"
   ]
  },
  {
   "cell_type": "markdown",
   "metadata": {},
   "source": [
    "#### Vetorizando os dados"
   ]
  },
  {
   "cell_type": "code",
   "execution_count": 34,
   "metadata": {
    "ExecuteTime": {
     "end_time": "2021-04-27T17:22:08.857167Z",
     "start_time": "2021-04-27T17:22:05.367436Z"
    }
   },
   "outputs": [],
   "source": [
    "nlp = spacy.load('pt_core_news_sm', disable=['paser', 'ner', 'tagger', 'textcat'])\n",
    "\n",
    "def tokenizador(texto):    \n",
    "    doc = nlp(texto)\n",
    "    tokens_validos = []\n",
    "    for token in doc:\n",
    "        e_valido = not token.is_stop and token.is_alpha\n",
    "        if e_valido:\n",
    "            tokens_validos.append(token.text.lower()) \n",
    "    return  tokens_validos\n",
    "\n",
    "\n",
    "def combinacao_de_vetores_por_soma(palavras, modelo):\n",
    "    vetor_resultante = np.zeros((1, 300))\n",
    "    for pn in palavras:\n",
    "        try:\n",
    "            vetor_resultante += modelo.get_vector(pn)\n",
    "        except KeyError:\n",
    "            pass\n",
    "    return vetor_resultante\n",
    "\n",
    "\n",
    "\n",
    "def matriz_vetores(textos, modelo):\n",
    "    x = len(textos)\n",
    "    y = 300\n",
    "    matriz = np.zeros((x,y))\n",
    "    for i in range(x):\n",
    "        palavras = tokenizador(textos.iloc[i])\n",
    "        matriz[i] = combinacao_de_vetores_por_soma(palavras, modelo)\n",
    "    return matriz"
   ]
  },
  {
   "cell_type": "code",
   "execution_count": 37,
   "metadata": {
    "ExecuteTime": {
     "end_time": "2021-04-27T17:35:18.081407Z",
     "start_time": "2021-04-27T17:25:11.164886Z"
    }
   },
   "outputs": [
    {
     "name": "stdout",
     "output_type": "stream",
     "text": [
      "(90000, 300)\n",
      "(20513, 300)\n"
     ]
    }
   ],
   "source": [
    "matriz_vetores_treino_cbow = matriz_vetores(dados_treino['title'], w2v_modelo)\n",
    "print(matriz_vetores_treino_cbow.shape)\n",
    "matriz_vetores_teste_cbow = matriz_vetores(dados_teste['title'], w2v_modelo)\n",
    "print(matriz_vetores_teste_cbow.shape)"
   ]
  },
  {
   "cell_type": "markdown",
   "metadata": {},
   "source": [
    "#### Classificando os dados"
   ]
  },
  {
   "cell_type": "code",
   "execution_count": 39,
   "metadata": {
    "ExecuteTime": {
     "end_time": "2021-04-27T17:35:33.318424Z",
     "start_time": "2021-04-27T17:35:33.311530Z"
    }
   },
   "outputs": [],
   "source": [
    "from sklearn.linear_model import LogisticRegression\n",
    "from sklearn.metrics import classification_report\n",
    "\n",
    "def classificador(modelo, x_treino, y_treino, x_teste, y_teste):\n",
    "    model = LogisticRegression(max_iter=800)\n",
    "    model.fit(x_treino, y_treino)\n",
    "    categorias = model.predict(x_teste)\n",
    "    resultados = classification_report(y_teste, categorias)\n",
    "    print(resultados)\n",
    "    return model"
   ]
  },
  {
   "cell_type": "markdown",
   "metadata": {},
   "source": [
    "CBOW"
   ]
  },
  {
   "cell_type": "code",
   "execution_count": 40,
   "metadata": {
    "ExecuteTime": {
     "end_time": "2021-04-27T17:38:37.820053Z",
     "start_time": "2021-04-27T17:35:40.130253Z"
    }
   },
   "outputs": [
    {
     "name": "stdout",
     "output_type": "stream",
     "text": [
      "              precision    recall  f1-score   support\n",
      "\n",
      "     colunas       0.81      0.71      0.76      6103\n",
      "   cotidiano       0.63      0.80      0.71      1698\n",
      "     esporte       0.93      0.87      0.90      4663\n",
      "   ilustrada       0.13      0.83      0.22       131\n",
      "     mercado       0.83      0.78      0.81      5867\n",
      "       mundo       0.74      0.84      0.79      2051\n",
      "\n",
      "    accuracy                           0.79     20513\n",
      "   macro avg       0.68      0.80      0.70     20513\n",
      "weighted avg       0.82      0.79      0.80     20513\n",
      "\n"
     ]
    }
   ],
   "source": [
    "RL_cbow = classificador(w2v_modelo, \n",
    "                        matriz_vetores_treino_cbow, \n",
    "                        dados_treino['category'], \n",
    "                        matriz_vetores_teste_cbow, dados_teste['category'])"
   ]
  },
  {
   "cell_type": "markdown",
   "metadata": {
    "ExecuteTime": {
     "end_time": "2021-04-27T17:49:22.427215Z",
     "start_time": "2021-04-27T17:49:22.402555Z"
    }
   },
   "source": [
    "SKIP-GRAM"
   ]
  },
  {
   "cell_type": "code",
   "execution_count": 41,
   "metadata": {
    "ExecuteTime": {
     "end_time": "2021-04-27T17:49:21.624215Z",
     "start_time": "2021-04-27T17:38:38.580411Z"
    }
   },
   "outputs": [
    {
     "name": "stdout",
     "output_type": "stream",
     "text": [
      "              precision    recall  f1-score   support\n",
      "\n",
      "     colunas       0.81      0.71      0.76      6103\n",
      "   cotidiano       0.64      0.80      0.71      1698\n",
      "     esporte       0.93      0.87      0.90      4663\n",
      "   ilustrada       0.14      0.86      0.24       131\n",
      "     mercado       0.84      0.79      0.82      5867\n",
      "       mundo       0.75      0.84      0.79      2051\n",
      "\n",
      "    accuracy                           0.79     20513\n",
      "   macro avg       0.69      0.81      0.70     20513\n",
      "weighted avg       0.82      0.79      0.80     20513\n",
      "\n"
     ]
    }
   ],
   "source": [
    "matriz_vetores_treino_sg = matriz_vetores(dados_treino['title'], w2v_modelo_sg)\n",
    "matriz_vetores_teste_sg = matriz_vetores(dados_teste['title'], w2v_modelo_sg)\n",
    "\n",
    "RL_skip = classificador(w2v_modelo_sg, \n",
    "                        matriz_vetores_treino_sg, \n",
    "                        dados_treino['category'], \n",
    "                        matriz_vetores_teste_sg, dados_teste['category'])"
   ]
  },
  {
   "cell_type": "markdown",
   "metadata": {},
   "source": [
    "Salvando os modelos"
   ]
  },
  {
   "cell_type": "code",
   "execution_count": 43,
   "metadata": {
    "ExecuteTime": {
     "end_time": "2021-04-27T17:51:32.385320Z",
     "start_time": "2021-04-27T17:51:32.379192Z"
    }
   },
   "outputs": [],
   "source": [
    "import pickle\n",
    "with open('models/rl_cbow.pkl', 'wb') as f:\n",
    "    pickle.dump(RL_cbow, f)\n",
    "    \n",
    "with open('models/rl_sg.pkl', 'wb') as f:\n",
    "    pickle.dump(RL_skip, f)"
   ]
  }
 ],
 "metadata": {
  "hide_input": false,
  "kernelspec": {
   "display_name": "Python 3",
   "language": "python",
   "name": "python3"
  },
  "language_info": {
   "codemirror_mode": {
    "name": "ipython",
    "version": 3
   },
   "file_extension": ".py",
   "mimetype": "text/x-python",
   "name": "python",
   "nbconvert_exporter": "python",
   "pygments_lexer": "ipython3",
   "version": "3.7.5"
  },
  "toc": {
   "base_numbering": 1,
   "nav_menu": {},
   "number_sections": true,
   "sideBar": true,
   "skip_h1_title": false,
   "title_cell": "Table of Contents",
   "title_sidebar": "Contents",
   "toc_cell": false,
   "toc_position": {},
   "toc_section_display": true,
   "toc_window_display": false
  },
  "varInspector": {
   "cols": {
    "lenName": 16,
    "lenType": 16,
    "lenVar": 40
   },
   "kernels_config": {
    "python": {
     "delete_cmd_postfix": "",
     "delete_cmd_prefix": "del ",
     "library": "var_list.py",
     "varRefreshCmd": "print(var_dic_list())"
    },
    "r": {
     "delete_cmd_postfix": ") ",
     "delete_cmd_prefix": "rm(",
     "library": "var_list.r",
     "varRefreshCmd": "cat(var_dic_list()) "
    }
   },
   "types_to_exclude": [
    "module",
    "function",
    "builtin_function_or_method",
    "instance",
    "_Feature"
   ],
   "window_display": false
  }
 },
 "nbformat": 4,
 "nbformat_minor": 4
}
