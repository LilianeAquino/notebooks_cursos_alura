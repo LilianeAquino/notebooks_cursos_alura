{
  "nbformat": 4,
  "nbformat_minor": 0,
  "metadata": {
    "colab": {
      "name": "nlp-modelos-de-linguagens.ipynb",
      "provenance": [],
      "collapsed_sections": []
    },
    "kernelspec": {
      "name": "python3",
      "display_name": "Python 3"
    },
    "language_info": {
      "name": "python"
    }
  },
  "cells": [
    {
      "cell_type": "markdown",
      "metadata": {
        "id": "t8Tf6LgH3tFs"
      },
      "source": [
        "# NLP - Modelos de linguagem"
      ]
    },
    {
      "cell_type": "markdown",
      "metadata": {
        "id": "iN2UuBdL31CO"
      },
      "source": [
        "### Bibliotecas básicas e outros imports"
      ]
    },
    {
      "cell_type": "code",
      "metadata": {
        "colab": {
          "base_uri": "https://localhost:8080/"
        },
        "id": "45TLW94C4E2M",
        "outputId": "b22ab6ed-7e29-41e0-8073-53c76613e446"
      },
      "source": [
        "from google.colab import drive\n",
        "drive.mount('/content/drive')"
      ],
      "execution_count": 1,
      "outputs": [
        {
          "output_type": "stream",
          "text": [
            "Drive already mounted at /content/drive; to attempt to forcibly remount, call drive.mount(\"/content/drive\", force_remount=True).\n"
          ],
          "name": "stdout"
        }
      ]
    },
    {
      "cell_type": "code",
      "metadata": {
        "id": "pi6VZnb83sd8"
      },
      "source": [
        "import re\n",
        "import pandas as pd\n",
        "import numpy as np\n",
        "import seaborn as sns\n",
        "import matplotlib.pyplot as plt\n",
        "%matplotlib inline"
      ],
      "execution_count": 2,
      "outputs": []
    },
    {
      "cell_type": "code",
      "metadata": {
        "id": "_MGXfxSv4ORg"
      },
      "source": [
        "import matplotlib as mpl\n",
        "mpl.rcParams['figure.figsize'] = (10, 6)\n",
        "mpl.rcParams['font.size'] = 14"
      ],
      "execution_count": 3,
      "outputs": []
    },
    {
      "cell_type": "code",
      "metadata": {
        "colab": {
          "base_uri": "https://localhost:8080/"
        },
        "id": "mO4YdcxX4H1t",
        "outputId": "40d61312-e795-43f2-8bef-958b71742644"
      },
      "source": [
        "import nltk\n",
        "nltk.download('stopwords')\n",
        "nltk.download('punkt')\n",
        "nltk.download('rslp')\n",
        "\n",
        "from nltk import tokenize\n",
        "from nltk.corpus import stopwords\n",
        "STOP_WORDS = stopwords.words('portuguese')"
      ],
      "execution_count": 4,
      "outputs": [
        {
          "output_type": "stream",
          "text": [
            "[nltk_data] Downloading package stopwords to /root/nltk_data...\n",
            "[nltk_data]   Package stopwords is already up-to-date!\n",
            "[nltk_data] Downloading package punkt to /root/nltk_data...\n",
            "[nltk_data]   Package punkt is already up-to-date!\n",
            "[nltk_data] Downloading package rslp to /root/nltk_data...\n",
            "[nltk_data]   Package rslp is already up-to-date!\n"
          ],
          "name": "stdout"
        }
      ]
    },
    {
      "cell_type": "markdown",
      "metadata": {
        "id": "5L14BvOn4iCj"
      },
      "source": [
        "### Carregando os dados"
      ]
    },
    {
      "cell_type": "code",
      "metadata": {
        "colab": {
          "base_uri": "https://localhost:8080/",
          "height": 141
        },
        "id": "s27cx0rx4kTE",
        "outputId": "a9b21958-9d5a-43fe-dd05-600cfb7e2710"
      },
      "source": [
        "dados_portugues = pd.read_csv('/content/drive/MyDrive/Colab Notebooks/Alura/stackoverflow_portugues.csv')\n",
        "dados_portugues.head(2)"
      ],
      "execution_count": 5,
      "outputs": [
        {
          "output_type": "execute_result",
          "data": {
            "text/html": [
              "<div>\n",
              "<style scoped>\n",
              "    .dataframe tbody tr th:only-of-type {\n",
              "        vertical-align: middle;\n",
              "    }\n",
              "\n",
              "    .dataframe tbody tr th {\n",
              "        vertical-align: top;\n",
              "    }\n",
              "\n",
              "    .dataframe thead th {\n",
              "        text-align: right;\n",
              "    }\n",
              "</style>\n",
              "<table border=\"1\" class=\"dataframe\">\n",
              "  <thead>\n",
              "    <tr style=\"text-align: right;\">\n",
              "      <th></th>\n",
              "      <th>Id</th>\n",
              "      <th>Título</th>\n",
              "      <th>Questão</th>\n",
              "      <th>Tags</th>\n",
              "      <th>Pontuação</th>\n",
              "      <th>Visualizações</th>\n",
              "    </tr>\n",
              "  </thead>\n",
              "  <tbody>\n",
              "    <tr>\n",
              "      <th>0</th>\n",
              "      <td>2402</td>\n",
              "      <td>Como fazer hash de senhas de forma segura?</td>\n",
              "      <td>&lt;p&gt;Se eu fizer o &lt;em&gt;&lt;a href=\"http://pt.wikipe...</td>\n",
              "      <td>&lt;hash&gt;&lt;segurança&gt;&lt;senhas&gt;&lt;criptografia&gt;</td>\n",
              "      <td>350</td>\n",
              "      <td>22367</td>\n",
              "    </tr>\n",
              "    <tr>\n",
              "      <th>1</th>\n",
              "      <td>6441</td>\n",
              "      <td>Qual é a diferença entre INNER JOIN e OUTER JOIN?</td>\n",
              "      <td>&lt;p&gt;Qual é a diferença entre &lt;code&gt;INNER JOIN&lt;/...</td>\n",
              "      <td>&lt;sql&gt;&lt;join&gt;</td>\n",
              "      <td>276</td>\n",
              "      <td>176953</td>\n",
              "    </tr>\n",
              "  </tbody>\n",
              "</table>\n",
              "</div>"
            ],
            "text/plain": [
              "     Id  ... Visualizações\n",
              "0  2402  ...         22367\n",
              "1  6441  ...        176953\n",
              "\n",
              "[2 rows x 6 columns]"
            ]
          },
          "metadata": {
            "tags": []
          },
          "execution_count": 5
        }
      ]
    },
    {
      "cell_type": "code",
      "metadata": {
        "colab": {
          "base_uri": "https://localhost:8080/"
        },
        "id": "Il28ACfo40RI",
        "outputId": "2a33addf-e092-4e18-b4ff-72bec3bfe992"
      },
      "source": [
        "print(dados_portugues['Questão'][5])"
      ],
      "execution_count": 6,
      "outputs": [
        {
          "output_type": "stream",
          "text": [
            "<p>Desenvolvi uma página em PHP para uso interno da empresa que trabalho e apenas pouquíssimas pessoas a utilizam. Através dessa página é possível fazer algumas consultas, inserções, alterações e remoções de dados de uma tabela em um banco de dados MySQL, porém eu acredito que meu código em PHP não está protegido contra injeção de código SQL, por exemplo:</p>\n",
            "\n",
            "<pre><code>//----CONSULTA SQL----//\n",
            "$busca = mysql_query ('insert into Produtos (coluna) values(' . $valor . ')');\n",
            "</code></pre>\n",
            "\n",
            "<p>Logo, digamos que o usuário usar a sentença: <code>1); DROP TABLE Produtos;</code> para ao campo <code>valor</code> o comando ficaria: </p>\n",
            "\n",
            "<pre><code>insert into Produtos (coluna) values(1); DROP TABLE Produtos;\n",
            "</code></pre>\n",
            "\n",
            "<p>Ele vai inserir um novo registro cujo o campo <code>coluna</code> será <code>1</code> e logo em seguida ele vai deletar a tabela Produtos.</p>\n",
            "\n",
            "<p>Como posso melhorar meu código para prevenir essa situação?</p>\n",
            "\n"
          ],
          "name": "stdout"
        }
      ]
    },
    {
      "cell_type": "code",
      "metadata": {
        "colab": {
          "base_uri": "https://localhost:8080/",
          "height": 141
        },
        "id": "SuvI24wBB-ke",
        "outputId": "f096f469-d6a5-4d3a-e9f7-948cdee933b3"
      },
      "source": [
        "dados_ingles = pd.read_csv('/content/drive/MyDrive/Colab Notebooks/Alura/stackoverflow_ingles.csv')\n",
        "dados_ingles.head(2)"
      ],
      "execution_count": 7,
      "outputs": [
        {
          "output_type": "execute_result",
          "data": {
            "text/html": [
              "<div>\n",
              "<style scoped>\n",
              "    .dataframe tbody tr th:only-of-type {\n",
              "        vertical-align: middle;\n",
              "    }\n",
              "\n",
              "    .dataframe tbody tr th {\n",
              "        vertical-align: top;\n",
              "    }\n",
              "\n",
              "    .dataframe thead th {\n",
              "        text-align: right;\n",
              "    }\n",
              "</style>\n",
              "<table border=\"1\" class=\"dataframe\">\n",
              "  <thead>\n",
              "    <tr style=\"text-align: right;\">\n",
              "      <th></th>\n",
              "      <th>Id</th>\n",
              "      <th>Título</th>\n",
              "      <th>Questão</th>\n",
              "      <th>Tags</th>\n",
              "      <th>Pontuação</th>\n",
              "      <th>Visualizações</th>\n",
              "    </tr>\n",
              "  </thead>\n",
              "  <tbody>\n",
              "    <tr>\n",
              "      <th>0</th>\n",
              "      <td>11227809</td>\n",
              "      <td>Why is it faster to process a sorted array tha...</td>\n",
              "      <td>&lt;p&gt;Here is a piece of C++ code that seems very...</td>\n",
              "      <td>&lt;java&gt;&lt;c++&gt;&lt;performance&gt;&lt;optimization&gt;&lt;branch-...</td>\n",
              "      <td>23057</td>\n",
              "      <td>1358574</td>\n",
              "    </tr>\n",
              "    <tr>\n",
              "      <th>1</th>\n",
              "      <td>927358</td>\n",
              "      <td>How do I undo the most recent local commits in...</td>\n",
              "      <td>&lt;p&gt;I accidentally committed the wrong files to...</td>\n",
              "      <td>&lt;git&gt;&lt;version-control&gt;&lt;git-commit&gt;&lt;undo&gt;</td>\n",
              "      <td>19640</td>\n",
              "      <td>7906137</td>\n",
              "    </tr>\n",
              "  </tbody>\n",
              "</table>\n",
              "</div>"
            ],
            "text/plain": [
              "         Id  ... Visualizações\n",
              "0  11227809  ...       1358574\n",
              "1    927358  ...       7906137\n",
              "\n",
              "[2 rows x 6 columns]"
            ]
          },
          "metadata": {
            "tags": []
          },
          "execution_count": 7
        }
      ]
    },
    {
      "cell_type": "code",
      "metadata": {
        "colab": {
          "base_uri": "https://localhost:8080/"
        },
        "id": "oyV27ouLB_KW",
        "outputId": "3d38faa0-0913-4d86-b128-a67f0acb7133"
      },
      "source": [
        "print(dados_ingles['Questão'][0])"
      ],
      "execution_count": 8,
      "outputs": [
        {
          "output_type": "stream",
          "text": [
            "<p>Here is a piece of C++ code that seems very peculiar. For some strange reason, sorting the data miraculously makes the code almost six times faster.</p>\n",
            "\n",
            "<pre class=\"lang-cpp prettyprint-override\"><code>#include &lt;algorithm&gt;\n",
            "#include &lt;ctime&gt;\n",
            "#include &lt;iostream&gt;\n",
            "\n",
            "int main()\n",
            "{\n",
            "    // Generate data\n",
            "    const unsigned arraySize = 32768;\n",
            "    int data[arraySize];\n",
            "\n",
            "    for (unsigned c = 0; c &lt; arraySize; ++c)\n",
            "        data[c] = std::rand() % 256;\n",
            "\n",
            "    // !!! With this, the next loop runs faster\n",
            "    std::sort(data, data + arraySize);\n",
            "\n",
            "    // Test\n",
            "    clock_t start = clock();\n",
            "    long long sum = 0;\n",
            "\n",
            "    for (unsigned i = 0; i &lt; 100000; ++i)\n",
            "    {\n",
            "        // Primary loop\n",
            "        for (unsigned c = 0; c &lt; arraySize; ++c)\n",
            "        {\n",
            "            if (data[c] &gt;= 128)\n",
            "                sum += data[c];\n",
            "        }\n",
            "    }\n",
            "\n",
            "    double elapsedTime = static_cast&lt;double&gt;(clock() - start) / CLOCKS_PER_SEC;\n",
            "\n",
            "    std::cout &lt;&lt; elapsedTime &lt;&lt; std::endl;\n",
            "    std::cout &lt;&lt; \"sum = \" &lt;&lt; sum &lt;&lt; std::endl;\n",
            "}\n",
            "</code></pre>\n",
            "\n",
            "<ul>\n",
            "<li>Without <code>std::sort(data, data + arraySize);</code>, the code runs in 11.54 seconds.</li>\n",
            "<li>With the sorted data, the code runs in 1.93 seconds.</li>\n",
            "</ul>\n",
            "\n",
            "<p>Initially, I thought this might be just a language or compiler anomaly. So I tried it in Java.</p>\n",
            "\n",
            "<pre class=\"lang-java prettyprint-override\"><code>import java.util.Arrays;\n",
            "import java.util.Random;\n",
            "\n",
            "public class Main\n",
            "{\n",
            "    public static void main(String[] args)\n",
            "    {\n",
            "        // Generate data\n",
            "        int arraySize = 32768;\n",
            "        int data[] = new int[arraySize];\n",
            "\n",
            "        Random rnd = new Random(0);\n",
            "        for (int c = 0; c &lt; arraySize; ++c)\n",
            "            data[c] = rnd.nextInt() % 256;\n",
            "\n",
            "        // !!! With this, the next loop runs faster\n",
            "        Arrays.sort(data);\n",
            "\n",
            "        // Test\n",
            "        long start = System.nanoTime();\n",
            "        long sum = 0;\n",
            "\n",
            "        for (int i = 0; i &lt; 100000; ++i)\n",
            "        {\n",
            "            // Primary loop\n",
            "            for (int c = 0; c &lt; arraySize; ++c)\n",
            "            {\n",
            "                if (data[c] &gt;= 128)\n",
            "                    sum += data[c];\n",
            "            }\n",
            "        }\n",
            "\n",
            "        System.out.println((System.nanoTime() - start) / 1000000000.0);\n",
            "        System.out.println(\"sum = \" + sum);\n",
            "    }\n",
            "}\n",
            "</code></pre>\n",
            "\n",
            "<p>With a somewhat similar but less extreme result.</p>\n",
            "\n",
            "<hr>\n",
            "\n",
            "<p>My first thought was that sorting brings the data into the cache, but then I thought how silly that is because the array was just generated.</p>\n",
            "\n",
            "<ul>\n",
            "<li>What is going on?</li>\n",
            "<li>Why is it faster to process a sorted array than an unsorted array?</li>\n",
            "<li>The code is summing up some independent terms, and the order should not matter.</li>\n",
            "</ul>\n",
            "\n"
          ],
          "name": "stdout"
        }
      ]
    },
    {
      "cell_type": "code",
      "metadata": {
        "colab": {
          "base_uri": "https://localhost:8080/",
          "height": 141
        },
        "id": "d-vb_TDhCICb",
        "outputId": "84edc126-86da-4aad-a0bc-98ff52c917d8"
      },
      "source": [
        "dados_espanhol = pd.read_csv('/content/drive/MyDrive/Colab Notebooks/Alura/stackoverflow_espanhol.csv')\n",
        "dados_espanhol.head(2)"
      ],
      "execution_count": 9,
      "outputs": [
        {
          "output_type": "execute_result",
          "data": {
            "text/html": [
              "<div>\n",
              "<style scoped>\n",
              "    .dataframe tbody tr th:only-of-type {\n",
              "        vertical-align: middle;\n",
              "    }\n",
              "\n",
              "    .dataframe tbody tr th {\n",
              "        vertical-align: top;\n",
              "    }\n",
              "\n",
              "    .dataframe thead th {\n",
              "        text-align: right;\n",
              "    }\n",
              "</style>\n",
              "<table border=\"1\" class=\"dataframe\">\n",
              "  <thead>\n",
              "    <tr style=\"text-align: right;\">\n",
              "      <th></th>\n",
              "      <th>Id</th>\n",
              "      <th>Título</th>\n",
              "      <th>Questão</th>\n",
              "      <th>Tags</th>\n",
              "      <th>Pontuação</th>\n",
              "      <th>Visualizações</th>\n",
              "    </tr>\n",
              "  </thead>\n",
              "  <tbody>\n",
              "    <tr>\n",
              "      <th>0</th>\n",
              "      <td>18232</td>\n",
              "      <td>¿Cómo evitar la inyección SQL en PHP?</td>\n",
              "      <td>&lt;p&gt;Las sentencias dinámicas son sentencias SQL...</td>\n",
              "      <td>&lt;php&gt;&lt;mysql&gt;&lt;sql&gt;&lt;seguridad&gt;&lt;inyección-sql&gt;</td>\n",
              "      <td>169</td>\n",
              "      <td>38614</td>\n",
              "    </tr>\n",
              "    <tr>\n",
              "      <th>1</th>\n",
              "      <td>197</td>\n",
              "      <td>¿Por qué mis programas no pueden hacer cálculo...</td>\n",
              "      <td>&lt;p&gt;Unas veces los cálculos funcionan correctam...</td>\n",
              "      <td>&lt;matemáticas&gt;&lt;coma-flotante&gt;&lt;lenguaje-agnóstico&gt;</td>\n",
              "      <td>141</td>\n",
              "      <td>3860</td>\n",
              "    </tr>\n",
              "  </tbody>\n",
              "</table>\n",
              "</div>"
            ],
            "text/plain": [
              "      Id  ... Visualizações\n",
              "0  18232  ...         38614\n",
              "1    197  ...          3860\n",
              "\n",
              "[2 rows x 6 columns]"
            ]
          },
          "metadata": {
            "tags": []
          },
          "execution_count": 9
        }
      ]
    },
    {
      "cell_type": "code",
      "metadata": {
        "colab": {
          "base_uri": "https://localhost:8080/"
        },
        "id": "Q9NDk0NLCIKy",
        "outputId": "6f27c161-b95f-4521-8d95-fbe6d029358b"
      },
      "source": [
        "print(dados_espanhol['Questão'][0])"
      ],
      "execution_count": 10,
      "outputs": [
        {
          "output_type": "stream",
          "text": [
            "<p>Las sentencias dinámicas son sentencias SQL que se crean como cadenas de texto (strings) y en las que se insertan/concatenan valores obtenidos de alguna fuente (normalmente proveniente del usuario), lo que puede hacer que sean vulnerables a inyección SQL si no se sanean las entradas, como por ejemplo:</p>\n",
            "\n",
            "<pre><code>$id_usuario = $_POST[\"id\"];\n",
            "\n",
            "mysql_query(\"SELECT * FROM usuarios WHERE id = $id_usuario\");\n",
            "</code></pre>\n",
            "\n",
            "<p>Eso es un ejemplo de una vulnerabilidad grave en la seguridad de una aplicación (web o no) porque si el usuario introdujese un valor como <code>1; DROP TABLE usuarios;--</code> nos encontraríamos con que la sentencia ejecutada sería:</p>\n",
            "\n",
            "<pre><code>SELECT * FROM usuarios WHERE id = 1; DROP TABLE usuarios;--\n",
            "</code></pre>\n",
            "\n",
            "<p>Y se eliminaría la tabla Usuarios con todos los datos contenidos en ella. </p>\n",
            "\n",
            "<p><strong>¿Cómo puedo evitar que la inyección SQL ocurra en PHP?</strong></p>\n",
            "\n"
          ],
          "name": "stdout"
        }
      ]
    },
    {
      "cell_type": "markdown",
      "metadata": {
        "id": "XYn6wb4bwNw2"
      },
      "source": [
        "### Removendo Tag HTML"
      ]
    },
    {
      "cell_type": "code",
      "metadata": {
        "colab": {
          "base_uri": "https://localhost:8080/",
          "height": 121
        },
        "id": "mxZoN4bbwOAV",
        "outputId": "bd81bd4c-2a1b-4a9e-a8b0-5ed3c446c535"
      },
      "source": [
        "def remover(textos, regex):\n",
        "  if type(textos) == str:\n",
        "    return regex.sub(' ', textos  )\n",
        "  else:\n",
        "    return [regex.sub(' ', texto) for texto in textos]\n",
        "\n",
        "remove_tag_regex = re.compile(r'<.*?>')\n",
        "remover(dados_portugues['Questão'][5], remove_tag_regex)"
      ],
      "execution_count": 11,
      "outputs": [
        {
          "output_type": "execute_result",
          "data": {
            "application/vnd.google.colaboratory.intrinsic+json": {
              "type": "string"
            },
            "text/plain": [
              "\" Desenvolvi uma página em PHP para uso interno da empresa que trabalho e apenas pouquíssimas pessoas a utilizam. Através dessa página é possível fazer algumas consultas, inserções, alterações e remoções de dados de uma tabela em um banco de dados MySQL, porém eu acredito que meu código em PHP não está protegido contra injeção de código SQL, por exemplo: \\n\\n  //----CONSULTA SQL----//\\n$busca = mysql_query ('insert into Produtos (coluna) values(' . $valor . ')');\\n  \\n\\n Logo, digamos que o usuário usar a sentença:  1); DROP TABLE Produtos;  para ao campo  valor  o comando ficaria:  \\n\\n  insert into Produtos (coluna) values(1); DROP TABLE Produtos;\\n  \\n\\n Ele vai inserir um novo registro cujo o campo  coluna  será  1  e logo em seguida ele vai deletar a tabela Produtos. \\n\\n Como posso melhorar meu código para prevenir essa situação? \\n\""
            ]
          },
          "metadata": {
            "tags": []
          },
          "execution_count": 11
        }
      ]
    },
    {
      "cell_type": "markdown",
      "metadata": {
        "id": "31IMsDfByEjz"
      },
      "source": [
        "### Removendo trechos de código"
      ]
    },
    {
      "cell_type": "code",
      "metadata": {
        "colab": {
          "base_uri": "https://localhost:8080/",
          "height": 104
        },
        "id": "IaUgNf-yyFD3",
        "outputId": "8984c4cf-6890-4b98-9a94-8437b564623a"
      },
      "source": [
        "def substituir_codigo(textos, regex):\n",
        "  if type(textos) == str:\n",
        "    return regex.sub('CODE', textos  )\n",
        "  else:\n",
        "    return [regex.sub('CODE', texto) for texto in textos]\n",
        "  \n",
        "remove_code_regex = re.compile(r'<code>(.|(\\n))*?</code>')\n",
        "substituir_codigo(dados_portugues['Questão'][5], remove_code_regex)"
      ],
      "execution_count": 12,
      "outputs": [
        {
          "output_type": "execute_result",
          "data": {
            "application/vnd.google.colaboratory.intrinsic+json": {
              "type": "string"
            },
            "text/plain": [
              "'<p>Desenvolvi uma página em PHP para uso interno da empresa que trabalho e apenas pouquíssimas pessoas a utilizam. Através dessa página é possível fazer algumas consultas, inserções, alterações e remoções de dados de uma tabela em um banco de dados MySQL, porém eu acredito que meu código em PHP não está protegido contra injeção de código SQL, por exemplo:</p>\\n\\n<pre>CODE</pre>\\n\\n<p>Logo, digamos que o usuário usar a sentença: CODE para ao campo CODE o comando ficaria: </p>\\n\\n<pre>CODE</pre>\\n\\n<p>Ele vai inserir um novo registro cujo o campo CODE será CODE e logo em seguida ele vai deletar a tabela Produtos.</p>\\n\\n<p>Como posso melhorar meu código para prevenir essa situação?</p>\\n'"
            ]
          },
          "metadata": {
            "tags": []
          },
          "execution_count": 12
        }
      ]
    },
    {
      "cell_type": "markdown",
      "metadata": {
        "id": "GaAFLXdw097o"
      },
      "source": [
        "### Removendo as pontuações"
      ]
    },
    {
      "cell_type": "code",
      "metadata": {
        "colab": {
          "base_uri": "https://localhost:8080/",
          "height": 138
        },
        "id": "o5br7K940-Ge",
        "outputId": "3a024066-3679-44e0-b990-7edfc648e41f"
      },
      "source": [
        "remove_pontuacao_regex = re.compile(r'[^\\w\\s]')\n",
        "remover(dados_portugues['Questão'][5], remove_pontuacao_regex)"
      ],
      "execution_count": 13,
      "outputs": [
        {
          "output_type": "execute_result",
          "data": {
            "application/vnd.google.colaboratory.intrinsic+json": {
              "type": "string"
            },
            "text/plain": [
              "' p Desenvolvi uma página em PHP para uso interno da empresa que trabalho e apenas pouquíssimas pessoas a utilizam  Através dessa página é possível fazer algumas consultas  inserções  alterações e remoções de dados de uma tabela em um banco de dados MySQL  porém eu acredito que meu código em PHP não está protegido contra injeção de código SQL  por exemplo   p \\n\\n pre  code       CONSULTA SQL      \\n busca   mysql_query   insert into Produtos  coluna  values      valor        \\n  code   pre \\n\\n p Logo  digamos que o usuário usar a sentença   code 1   DROP TABLE Produtos   code  para ao campo  code valor  code  o comando ficaria    p \\n\\n pre  code insert into Produtos  coluna  values 1   DROP TABLE Produtos \\n  code   pre \\n\\n p Ele vai inserir um novo registro cujo o campo  code coluna  code  será  code 1  code  e logo em seguida ele vai deletar a tabela Produtos   p \\n\\n p Como posso melhorar meu código para prevenir essa situação   p \\n'"
            ]
          },
          "metadata": {
            "tags": []
          },
          "execution_count": 13
        }
      ]
    },
    {
      "cell_type": "markdown",
      "metadata": {
        "id": "0eZ_N-0i21lT"
      },
      "source": [
        "### Removendo os dígitos"
      ]
    },
    {
      "cell_type": "code",
      "metadata": {
        "colab": {
          "base_uri": "https://localhost:8080/",
          "height": 138
        },
        "id": "8vjQPYlC2y8q",
        "outputId": "7f2db661-3ee0-44c0-8dbb-d682d42ee00b"
      },
      "source": [
        "remove_digitos_regex = re.compile(r'\\d+')\n",
        "remover(dados_portugues['Questão'][5], remove_digitos_regex)"
      ],
      "execution_count": 14,
      "outputs": [
        {
          "output_type": "execute_result",
          "data": {
            "application/vnd.google.colaboratory.intrinsic+json": {
              "type": "string"
            },
            "text/plain": [
              "\"<p>Desenvolvi uma página em PHP para uso interno da empresa que trabalho e apenas pouquíssimas pessoas a utilizam. Através dessa página é possível fazer algumas consultas, inserções, alterações e remoções de dados de uma tabela em um banco de dados MySQL, porém eu acredito que meu código em PHP não está protegido contra injeção de código SQL, por exemplo:</p>\\n\\n<pre><code>//----CONSULTA SQL----//\\n$busca = mysql_query ('insert into Produtos (coluna) values(' . $valor . ')');\\n</code></pre>\\n\\n<p>Logo, digamos que o usuário usar a sentença: <code> ); DROP TABLE Produtos;</code> para ao campo <code>valor</code> o comando ficaria: </p>\\n\\n<pre><code>insert into Produtos (coluna) values( ); DROP TABLE Produtos;\\n</code></pre>\\n\\n<p>Ele vai inserir um novo registro cujo o campo <code>coluna</code> será <code> </code> e logo em seguida ele vai deletar a tabela Produtos.</p>\\n\\n<p>Como posso melhorar meu código para prevenir essa situação?</p>\\n\""
            ]
          },
          "metadata": {
            "tags": []
          },
          "execution_count": 14
        }
      ]
    },
    {
      "cell_type": "markdown",
      "metadata": {
        "id": "uwp-laZY3iBS"
      },
      "source": [
        "### Removendo espaços duplicados"
      ]
    },
    {
      "cell_type": "code",
      "metadata": {
        "colab": {
          "base_uri": "https://localhost:8080/",
          "height": 138
        },
        "id": "QYpGdUr63iUa",
        "outputId": "45579622-47a2-4a5f-c235-564e9b9c5fb4"
      },
      "source": [
        "remove_espaco_regex = re.compile(r' +')\n",
        "remove_quebra_de_linha_regex = re.compile(r'(\\n)')\n",
        "\n",
        "def substituir_espaco(textos, regex):\n",
        "    if type(textos) == str:\n",
        "      return regex.sub(' ', textos  )\n",
        "    else:\n",
        "      return [regex.sub(' ', texto) for texto in textos]\n",
        "\n",
        "substituir_espaco(dados_portugues['Questão'][21], remove_espaco_regex)"
      ],
      "execution_count": 15,
      "outputs": [
        {
          "output_type": "execute_result",
          "data": {
            "application/vnd.google.colaboratory.intrinsic+json": {
              "type": "string"
            },
            "text/plain": [
              "'<p>Para facilitar a busca de informações comumente grafadas erradas, usamos <a href=\"http://pt.wikipedia.org/wiki/String_Fon%C3%A9tica\" rel=\"noreferrer\">algoritmos fonéticos</a>. Um recurso que é extremamente útil mas que costuma ser negligenciado, especialmente fora da língua inglesa onde existem alguns algoritmos conhecidos como os citados na <a href=\"http://en.wikipedia.org/wiki/Phonetic_algorithm\" rel=\"noreferrer\">Wikipedia</a><sup>(en)</sup>, particularmente o <strong>Soundex</strong> disponível em diversos DBs e linguagens.</p>\\n\\n<p>Temos particularidades na nossa língua que inviabilizam o uso de algoritmos de outras línguas. Na verdade é até mais regionalizado. Um <strong>algoritmo que funciona para o Brasil</strong>, não funciona para Portugal e talvez para outros países lusófonos. Tenho até dúvidas se precisaria de especializações para o <a href=\"http://pt.wikipedia.org/wiki/Dialeto_da_costa_norte\" rel=\"noreferrer\">cearense</a>, <a href=\"http://pt.wikipedia.org/wiki/Dialeto_ga%C3%BAcho\" rel=\"noreferrer\">gaúcho</a> ou mesmo para o <a href=\"http://seumukifo.blogspot.com.br/2009/12/dicionario-piracicabano.html\" rel=\"noreferrer\">piracicabano</a> e <a href=\"http://www.aprovincia.com.br/conversa-de-pescador/cultura-caipira/delicias-do-diferenciado-falar-caipira/\" rel=\"noreferrer\">adjacências</a> (de centenas de quilômetros :) ), só para citar alguns.</p>\\n\\n<ul>\\n<li>Existe alguma fonte oficial, um estudo conclusivo de como deveria ser o nosso algoritmo fonético?</li>\\n<li>Baseado nesses estudos ou por experiência, como seria esse algoritmo? Podemos aproveitar alguma variante do <a href=\"http://en.wikipedia.org/wiki/Soundex\" rel=\"noreferrer\">Soundex</a>, <a href=\"http://en.wikipedia.org/wiki/Metaphone\" rel=\"noreferrer\">Metaphone</a> ou outro algoritmo consagrado da língua inglesa, só trocando os fonemas?</li>\\n<li>Podemos ou devemos usar (opcionalmente) fonemas estrangeiros comuns também, já que usamos nomes estrangeiros?</li>\\n<li>Estou interessado no algoritmo em si, portanto, como desenvolvê-lo em detalhes (não basta linhas gerais que já tem informação suficiente), um pseudo-código ou código real em alguma linguagem seria útil mas não funadamental.</li>\\n</ul>\\n\\n<p>Já que posso portar código de quase qualquer linguagem <em>mainstream</em>, e de fato eu vou (e outros poderão) usar em algumas linguagens diferentes, não me importa se está em C, C++, C#, Java, Javascript, PHP, Perl, Python, Ruby, Lua, Delphi, Go, D, Scala, F#, ou variantes de BASIC, xBase (Clipper, Harbour, FoxPro), SQL, etc. ou até COBOL :). Use o que já possui ou sinta-se mais confortável.</p>\\n\\n<p>Note que o melhor algoritmo é o que vale, não a implementação, por isso não me importa a linguagem. O mesmo algoritmo em linguagem diferente será considerado duplicado.</p>\\n\\n<p>Algumas referências que eu conheço <sub>(algumas são bem ruins)</sub>:</p>\\n\\n<ul>\\n<li><a href=\"http://www.brunoportfolio.com/arquivos/pdf/BuscaBR_Fonetica.pdf\" rel=\"noreferrer\">Busca Fonética em Português do Brasil</a></li>\\n<li><a href=\"http://www.uniritter.edu.br/graduacao/informatica/sistemas/downloads/tcc2k9/TCCII_2009_1_Roni.pdf\" rel=\"noreferrer\">Recuperação De Informações por Similaridade de Fonemas Adaptada à Língua Portuguesa</a></li>\\n<li><a href=\"http://www.devmedia.com.br/forum/soundex-em-portugues/274192\" rel=\"noreferrer\">exemplo em Delphi</a></li>\\n<li><a href=\"http://www.linhadecodigo.com.br/artigo/2237/implementando-algoritmo-buscabr.aspx\" rel=\"noreferrer\">exemplo em C#</a></li>\\n<li><a href=\"http://eduardospaki.blogspot.com.br/2011/07/fonetica-sql-server.html\" rel=\"noreferrer\">outro exemplo em C#</a></li>\\n<li><a href=\"http://www.macoratti.net/sql_sdex.htm\" rel=\"noreferrer\">exemplo VB.NET</a></li>\\n<li><a href=\"http://informatica.varzeapaulista.sp.gov.br/metaphone/\" rel=\"noreferrer\">exemplo em PHP</a></li>\\n<li><a href=\"https://github.com/timotta/elasticsearch-fonetica-portuguesa\" rel=\"noreferrer\">exemplo em Java</a></li>\\n<li><a href=\"https://github.com/MagoMatematico/Fonetico\" rel=\"noreferrer\">outro exemplo em C#</a></li>\\n<li><a href=\"https://github.com/quicoli/Fonetiza\" rel=\"noreferrer\">mais um em C#</a>.</li>\\n</ul>\\n\\n<p><sup>Apesar de ter aceito uma resposta, acho que ainda pode surgir algo melhor e estou disposto a mudar a aceitação caso isto ocorra. Ainda quero ver sua resposta.</sup></p>\\n'"
            ]
          },
          "metadata": {
            "tags": []
          },
          "execution_count": 15
        }
      ]
    },
    {
      "cell_type": "markdown",
      "metadata": {
        "id": "9Wl3vqfSzRPz"
      },
      "source": [
        "### Limpando os dados"
      ]
    },
    {
      "cell_type": "code",
      "metadata": {
        "id": "R0ljNXFDzT3V"
      },
      "source": [
        "def cleaning(textos):\n",
        "  textos = textos.lower()\n",
        "  textos = substituir_codigo(textos, remove_code_regex)\n",
        "  textos = remover(textos, remove_tag_regex)\n",
        "  textos = remover(textos, remove_pontuacao_regex)\n",
        "  textos = remover(textos, remove_digitos_regex)\n",
        "  textos = substituir_espaco(textos, remove_quebra_de_linha_regex)\n",
        "  textos = substituir_espaco(textos, remove_espaco_regex)\n",
        "  return textos"
      ],
      "execution_count": 21,
      "outputs": []
    },
    {
      "cell_type": "code",
      "metadata": {
        "colab": {
          "base_uri": "https://localhost:8080/"
        },
        "id": "oDYddY2b0SK0",
        "outputId": "53cfa57e-958f-4ec5-9e27-e7bac107a25d"
      },
      "source": [
        "dados_portugues['cleaning'] = dados_portugues['Questão'].apply(cleaning)\n",
        "print(dados_portugues['cleaning'][5])"
      ],
      "execution_count": 22,
      "outputs": [
        {
          "output_type": "stream",
          "text": [
            " desenvolvi uma página em php para uso interno da empresa que trabalho e apenas pouquíssimas pessoas a utilizam através dessa página é possível fazer algumas consultas inserções alterações e remoções de dados de uma tabela em um banco de dados mysql porém eu acredito que meu código em php não está protegido contra injeção de código sql por exemplo CODE logo digamos que o usuário usar a sentença CODE para ao campo CODE o comando ficaria CODE ele vai inserir um novo registro cujo o campo CODE será CODE e logo em seguida ele vai deletar a tabela produtos como posso melhorar meu código para prevenir essa situação \n"
          ],
          "name": "stdout"
        }
      ]
    },
    {
      "cell_type": "code",
      "metadata": {
        "colab": {
          "base_uri": "https://localhost:8080/"
        },
        "id": "GjhzWWcj0lv-",
        "outputId": "2c561aa3-95c4-4f3e-b397-6d28421d289b"
      },
      "source": [
        "dados_ingles['cleaning'] = dados_ingles['Questão'].apply(cleaning)\n",
        "print(dados_ingles['cleaning'][15])"
      ],
      "execution_count": 23,
      "outputs": [
        {
          "output_type": "stream",
          "text": [
            " i have an array of numbers and i m using the CODE method to add elements to it is there a simple way to remove a specific element from an array the equivalent of something like CODE i have to use core javascript no frameworks are allowed \n"
          ],
          "name": "stdout"
        }
      ]
    },
    {
      "cell_type": "code",
      "metadata": {
        "colab": {
          "base_uri": "https://localhost:8080/"
        },
        "id": "KGxSdCh40l64",
        "outputId": "93f4870b-98f8-4f63-c716-4011e2c7a45e"
      },
      "source": [
        "dados_espanhol['cleaning'] = dados_espanhol['Questão'].apply(cleaning)\n",
        "print(dados_espanhol['cleaning'][0])"
      ],
      "execution_count": 24,
      "outputs": [
        {
          "output_type": "stream",
          "text": [
            " las sentencias dinámicas son sentencias sql que se crean como cadenas de texto strings y en las que se insertan concatenan valores obtenidos de alguna fuente normalmente proveniente del usuario lo que puede hacer que sean vulnerables a inyección sql si no se sanean las entradas como por ejemplo CODE eso es un ejemplo de una vulnerabilidad grave en la seguridad de una aplicación web o no porque si el usuario introdujese un valor como CODE nos encontraríamos con que la sentencia ejecutada sería CODE y se eliminaría la tabla usuarios con todos los datos contenidos en ella cómo puedo evitar que la inyección sql ocurra en php \n"
          ],
          "name": "stdout"
        }
      ]
    }
  ]
}