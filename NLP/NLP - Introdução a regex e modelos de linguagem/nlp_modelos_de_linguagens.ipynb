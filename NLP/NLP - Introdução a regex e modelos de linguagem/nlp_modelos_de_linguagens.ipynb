{
  "nbformat": 4,
  "nbformat_minor": 0,
  "metadata": {
    "colab": {
      "name": "nlp-modelos-de-linguagens.ipynb",
      "provenance": [],
      "collapsed_sections": []
    },
    "kernelspec": {
      "name": "python3",
      "display_name": "Python 3"
    },
    "language_info": {
      "name": "python"
    }
  },
  "cells": [
    {
      "cell_type": "markdown",
      "metadata": {
        "id": "t8Tf6LgH3tFs"
      },
      "source": [
        "# NLP - Modelos de linguagem"
      ]
    },
    {
      "cell_type": "markdown",
      "metadata": {
        "id": "iN2UuBdL31CO"
      },
      "source": [
        "### Bibliotecas básicas e outros imports"
      ]
    },
    {
      "cell_type": "code",
      "metadata": {
        "id": "L7CdSL226yPB"
      },
      "source": [
        "!pip install nltk==3.5"
      ],
      "execution_count": null,
      "outputs": []
    },
    {
      "cell_type": "code",
      "metadata": {
        "colab": {
          "base_uri": "https://localhost:8080/"
        },
        "id": "45TLW94C4E2M",
        "outputId": "ec22f83f-17a0-4f84-c063-9eea2821f2eb"
      },
      "source": [
        "from google.colab import drive\n",
        "drive.mount('/content/drive')"
      ],
      "execution_count": 2,
      "outputs": [
        {
          "output_type": "stream",
          "text": [
            "Drive already mounted at /content/drive; to attempt to forcibly remount, call drive.mount(\"/content/drive\", force_remount=True).\n"
          ],
          "name": "stdout"
        }
      ]
    },
    {
      "cell_type": "code",
      "metadata": {
        "id": "pi6VZnb83sd8"
      },
      "source": [
        "import re\n",
        "import pandas as pd\n",
        "import numpy as np\n",
        "import seaborn as sns\n",
        "import matplotlib.pyplot as plt\n",
        "%matplotlib inline"
      ],
      "execution_count": 3,
      "outputs": []
    },
    {
      "cell_type": "code",
      "metadata": {
        "id": "_MGXfxSv4ORg"
      },
      "source": [
        "import matplotlib as mpl\n",
        "mpl.rcParams['figure.figsize'] = (10, 6)\n",
        "mpl.rcParams['font.size'] = 14"
      ],
      "execution_count": 4,
      "outputs": []
    },
    {
      "cell_type": "code",
      "metadata": {
        "id": "mO4YdcxX4H1t"
      },
      "source": [
        "import nltk\n",
        "nltk.download('all')\n",
        "\n",
        "from nltk import tokenize\n",
        "from nltk.util import bigrams\n",
        "from nltk.lm.preprocessing import pad_both_ends\n",
        "from nltk.corpus import stopwords\n",
        "STOP_WORDS = stopwords.words('portuguese')"
      ],
      "execution_count": null,
      "outputs": []
    },
    {
      "cell_type": "markdown",
      "metadata": {
        "id": "5L14BvOn4iCj"
      },
      "source": [
        "### Carregando os dados"
      ]
    },
    {
      "cell_type": "code",
      "metadata": {
        "colab": {
          "base_uri": "https://localhost:8080/",
          "height": 141
        },
        "id": "s27cx0rx4kTE",
        "outputId": "9e169389-6792-47c0-e49d-bf7835ec99cd"
      },
      "source": [
        "dados_portugues = pd.read_csv('/content/drive/MyDrive/Colab Notebooks/Alura/stackoverflow_portugues.csv')\n",
        "dados_portugues.head(2)"
      ],
      "execution_count": 6,
      "outputs": [
        {
          "output_type": "execute_result",
          "data": {
            "text/html": [
              "<div>\n",
              "<style scoped>\n",
              "    .dataframe tbody tr th:only-of-type {\n",
              "        vertical-align: middle;\n",
              "    }\n",
              "\n",
              "    .dataframe tbody tr th {\n",
              "        vertical-align: top;\n",
              "    }\n",
              "\n",
              "    .dataframe thead th {\n",
              "        text-align: right;\n",
              "    }\n",
              "</style>\n",
              "<table border=\"1\" class=\"dataframe\">\n",
              "  <thead>\n",
              "    <tr style=\"text-align: right;\">\n",
              "      <th></th>\n",
              "      <th>Id</th>\n",
              "      <th>Título</th>\n",
              "      <th>Questão</th>\n",
              "      <th>Tags</th>\n",
              "      <th>Pontuação</th>\n",
              "      <th>Visualizações</th>\n",
              "    </tr>\n",
              "  </thead>\n",
              "  <tbody>\n",
              "    <tr>\n",
              "      <th>0</th>\n",
              "      <td>2402</td>\n",
              "      <td>Como fazer hash de senhas de forma segura?</td>\n",
              "      <td>&lt;p&gt;Se eu fizer o &lt;em&gt;&lt;a href=\"http://pt.wikipe...</td>\n",
              "      <td>&lt;hash&gt;&lt;segurança&gt;&lt;senhas&gt;&lt;criptografia&gt;</td>\n",
              "      <td>350</td>\n",
              "      <td>22367</td>\n",
              "    </tr>\n",
              "    <tr>\n",
              "      <th>1</th>\n",
              "      <td>6441</td>\n",
              "      <td>Qual é a diferença entre INNER JOIN e OUTER JOIN?</td>\n",
              "      <td>&lt;p&gt;Qual é a diferença entre &lt;code&gt;INNER JOIN&lt;/...</td>\n",
              "      <td>&lt;sql&gt;&lt;join&gt;</td>\n",
              "      <td>276</td>\n",
              "      <td>176953</td>\n",
              "    </tr>\n",
              "  </tbody>\n",
              "</table>\n",
              "</div>"
            ],
            "text/plain": [
              "     Id  ... Visualizações\n",
              "0  2402  ...         22367\n",
              "1  6441  ...        176953\n",
              "\n",
              "[2 rows x 6 columns]"
            ]
          },
          "metadata": {
            "tags": []
          },
          "execution_count": 6
        }
      ]
    },
    {
      "cell_type": "code",
      "metadata": {
        "colab": {
          "base_uri": "https://localhost:8080/"
        },
        "id": "Il28ACfo40RI",
        "outputId": "28137319-1b00-4a36-84fe-730773a27e74"
      },
      "source": [
        "print(dados_portugues['Questão'][5])"
      ],
      "execution_count": 7,
      "outputs": [
        {
          "output_type": "stream",
          "text": [
            "<p>Desenvolvi uma página em PHP para uso interno da empresa que trabalho e apenas pouquíssimas pessoas a utilizam. Através dessa página é possível fazer algumas consultas, inserções, alterações e remoções de dados de uma tabela em um banco de dados MySQL, porém eu acredito que meu código em PHP não está protegido contra injeção de código SQL, por exemplo:</p>\n",
            "\n",
            "<pre><code>//----CONSULTA SQL----//\n",
            "$busca = mysql_query ('insert into Produtos (coluna) values(' . $valor . ')');\n",
            "</code></pre>\n",
            "\n",
            "<p>Logo, digamos que o usuário usar a sentença: <code>1); DROP TABLE Produtos;</code> para ao campo <code>valor</code> o comando ficaria: </p>\n",
            "\n",
            "<pre><code>insert into Produtos (coluna) values(1); DROP TABLE Produtos;\n",
            "</code></pre>\n",
            "\n",
            "<p>Ele vai inserir um novo registro cujo o campo <code>coluna</code> será <code>1</code> e logo em seguida ele vai deletar a tabela Produtos.</p>\n",
            "\n",
            "<p>Como posso melhorar meu código para prevenir essa situação?</p>\n",
            "\n"
          ],
          "name": "stdout"
        }
      ]
    },
    {
      "cell_type": "code",
      "metadata": {
        "colab": {
          "base_uri": "https://localhost:8080/",
          "height": 141
        },
        "id": "SuvI24wBB-ke",
        "outputId": "c00b134b-14b1-4609-96de-37ffe3b1cbad"
      },
      "source": [
        "dados_ingles = pd.read_csv('/content/drive/MyDrive/Colab Notebooks/Alura/stackoverflow_ingles.csv')\n",
        "dados_ingles.head(2)"
      ],
      "execution_count": 8,
      "outputs": [
        {
          "output_type": "execute_result",
          "data": {
            "text/html": [
              "<div>\n",
              "<style scoped>\n",
              "    .dataframe tbody tr th:only-of-type {\n",
              "        vertical-align: middle;\n",
              "    }\n",
              "\n",
              "    .dataframe tbody tr th {\n",
              "        vertical-align: top;\n",
              "    }\n",
              "\n",
              "    .dataframe thead th {\n",
              "        text-align: right;\n",
              "    }\n",
              "</style>\n",
              "<table border=\"1\" class=\"dataframe\">\n",
              "  <thead>\n",
              "    <tr style=\"text-align: right;\">\n",
              "      <th></th>\n",
              "      <th>Id</th>\n",
              "      <th>Título</th>\n",
              "      <th>Questão</th>\n",
              "      <th>Tags</th>\n",
              "      <th>Pontuação</th>\n",
              "      <th>Visualizações</th>\n",
              "    </tr>\n",
              "  </thead>\n",
              "  <tbody>\n",
              "    <tr>\n",
              "      <th>0</th>\n",
              "      <td>11227809</td>\n",
              "      <td>Why is it faster to process a sorted array tha...</td>\n",
              "      <td>&lt;p&gt;Here is a piece of C++ code that seems very...</td>\n",
              "      <td>&lt;java&gt;&lt;c++&gt;&lt;performance&gt;&lt;optimization&gt;&lt;branch-...</td>\n",
              "      <td>23057</td>\n",
              "      <td>1358574</td>\n",
              "    </tr>\n",
              "    <tr>\n",
              "      <th>1</th>\n",
              "      <td>927358</td>\n",
              "      <td>How do I undo the most recent local commits in...</td>\n",
              "      <td>&lt;p&gt;I accidentally committed the wrong files to...</td>\n",
              "      <td>&lt;git&gt;&lt;version-control&gt;&lt;git-commit&gt;&lt;undo&gt;</td>\n",
              "      <td>19640</td>\n",
              "      <td>7906137</td>\n",
              "    </tr>\n",
              "  </tbody>\n",
              "</table>\n",
              "</div>"
            ],
            "text/plain": [
              "         Id  ... Visualizações\n",
              "0  11227809  ...       1358574\n",
              "1    927358  ...       7906137\n",
              "\n",
              "[2 rows x 6 columns]"
            ]
          },
          "metadata": {
            "tags": []
          },
          "execution_count": 8
        }
      ]
    },
    {
      "cell_type": "code",
      "metadata": {
        "colab": {
          "base_uri": "https://localhost:8080/"
        },
        "id": "oyV27ouLB_KW",
        "outputId": "f036b70b-9275-4bbe-be6d-227dfeb7b911"
      },
      "source": [
        "print(dados_ingles['Questão'][0])"
      ],
      "execution_count": 9,
      "outputs": [
        {
          "output_type": "stream",
          "text": [
            "<p>Here is a piece of C++ code that seems very peculiar. For some strange reason, sorting the data miraculously makes the code almost six times faster.</p>\n",
            "\n",
            "<pre class=\"lang-cpp prettyprint-override\"><code>#include &lt;algorithm&gt;\n",
            "#include &lt;ctime&gt;\n",
            "#include &lt;iostream&gt;\n",
            "\n",
            "int main()\n",
            "{\n",
            "    // Generate data\n",
            "    const unsigned arraySize = 32768;\n",
            "    int data[arraySize];\n",
            "\n",
            "    for (unsigned c = 0; c &lt; arraySize; ++c)\n",
            "        data[c] = std::rand() % 256;\n",
            "\n",
            "    // !!! With this, the next loop runs faster\n",
            "    std::sort(data, data + arraySize);\n",
            "\n",
            "    // Test\n",
            "    clock_t start = clock();\n",
            "    long long sum = 0;\n",
            "\n",
            "    for (unsigned i = 0; i &lt; 100000; ++i)\n",
            "    {\n",
            "        // Primary loop\n",
            "        for (unsigned c = 0; c &lt; arraySize; ++c)\n",
            "        {\n",
            "            if (data[c] &gt;= 128)\n",
            "                sum += data[c];\n",
            "        }\n",
            "    }\n",
            "\n",
            "    double elapsedTime = static_cast&lt;double&gt;(clock() - start) / CLOCKS_PER_SEC;\n",
            "\n",
            "    std::cout &lt;&lt; elapsedTime &lt;&lt; std::endl;\n",
            "    std::cout &lt;&lt; \"sum = \" &lt;&lt; sum &lt;&lt; std::endl;\n",
            "}\n",
            "</code></pre>\n",
            "\n",
            "<ul>\n",
            "<li>Without <code>std::sort(data, data + arraySize);</code>, the code runs in 11.54 seconds.</li>\n",
            "<li>With the sorted data, the code runs in 1.93 seconds.</li>\n",
            "</ul>\n",
            "\n",
            "<p>Initially, I thought this might be just a language or compiler anomaly. So I tried it in Java.</p>\n",
            "\n",
            "<pre class=\"lang-java prettyprint-override\"><code>import java.util.Arrays;\n",
            "import java.util.Random;\n",
            "\n",
            "public class Main\n",
            "{\n",
            "    public static void main(String[] args)\n",
            "    {\n",
            "        // Generate data\n",
            "        int arraySize = 32768;\n",
            "        int data[] = new int[arraySize];\n",
            "\n",
            "        Random rnd = new Random(0);\n",
            "        for (int c = 0; c &lt; arraySize; ++c)\n",
            "            data[c] = rnd.nextInt() % 256;\n",
            "\n",
            "        // !!! With this, the next loop runs faster\n",
            "        Arrays.sort(data);\n",
            "\n",
            "        // Test\n",
            "        long start = System.nanoTime();\n",
            "        long sum = 0;\n",
            "\n",
            "        for (int i = 0; i &lt; 100000; ++i)\n",
            "        {\n",
            "            // Primary loop\n",
            "            for (int c = 0; c &lt; arraySize; ++c)\n",
            "            {\n",
            "                if (data[c] &gt;= 128)\n",
            "                    sum += data[c];\n",
            "            }\n",
            "        }\n",
            "\n",
            "        System.out.println((System.nanoTime() - start) / 1000000000.0);\n",
            "        System.out.println(\"sum = \" + sum);\n",
            "    }\n",
            "}\n",
            "</code></pre>\n",
            "\n",
            "<p>With a somewhat similar but less extreme result.</p>\n",
            "\n",
            "<hr>\n",
            "\n",
            "<p>My first thought was that sorting brings the data into the cache, but then I thought how silly that is because the array was just generated.</p>\n",
            "\n",
            "<ul>\n",
            "<li>What is going on?</li>\n",
            "<li>Why is it faster to process a sorted array than an unsorted array?</li>\n",
            "<li>The code is summing up some independent terms, and the order should not matter.</li>\n",
            "</ul>\n",
            "\n"
          ],
          "name": "stdout"
        }
      ]
    },
    {
      "cell_type": "code",
      "metadata": {
        "colab": {
          "base_uri": "https://localhost:8080/",
          "height": 141
        },
        "id": "d-vb_TDhCICb",
        "outputId": "4ebe3462-128e-43b1-e3bb-6f7b4c9479c3"
      },
      "source": [
        "dados_espanhol = pd.read_csv('/content/drive/MyDrive/Colab Notebooks/Alura/stackoverflow_espanhol.csv')\n",
        "dados_espanhol.head(2)"
      ],
      "execution_count": 10,
      "outputs": [
        {
          "output_type": "execute_result",
          "data": {
            "text/html": [
              "<div>\n",
              "<style scoped>\n",
              "    .dataframe tbody tr th:only-of-type {\n",
              "        vertical-align: middle;\n",
              "    }\n",
              "\n",
              "    .dataframe tbody tr th {\n",
              "        vertical-align: top;\n",
              "    }\n",
              "\n",
              "    .dataframe thead th {\n",
              "        text-align: right;\n",
              "    }\n",
              "</style>\n",
              "<table border=\"1\" class=\"dataframe\">\n",
              "  <thead>\n",
              "    <tr style=\"text-align: right;\">\n",
              "      <th></th>\n",
              "      <th>Id</th>\n",
              "      <th>Título</th>\n",
              "      <th>Questão</th>\n",
              "      <th>Tags</th>\n",
              "      <th>Pontuação</th>\n",
              "      <th>Visualizações</th>\n",
              "    </tr>\n",
              "  </thead>\n",
              "  <tbody>\n",
              "    <tr>\n",
              "      <th>0</th>\n",
              "      <td>18232</td>\n",
              "      <td>¿Cómo evitar la inyección SQL en PHP?</td>\n",
              "      <td>&lt;p&gt;Las sentencias dinámicas son sentencias SQL...</td>\n",
              "      <td>&lt;php&gt;&lt;mysql&gt;&lt;sql&gt;&lt;seguridad&gt;&lt;inyección-sql&gt;</td>\n",
              "      <td>169</td>\n",
              "      <td>38614</td>\n",
              "    </tr>\n",
              "    <tr>\n",
              "      <th>1</th>\n",
              "      <td>197</td>\n",
              "      <td>¿Por qué mis programas no pueden hacer cálculo...</td>\n",
              "      <td>&lt;p&gt;Unas veces los cálculos funcionan correctam...</td>\n",
              "      <td>&lt;matemáticas&gt;&lt;coma-flotante&gt;&lt;lenguaje-agnóstico&gt;</td>\n",
              "      <td>141</td>\n",
              "      <td>3860</td>\n",
              "    </tr>\n",
              "  </tbody>\n",
              "</table>\n",
              "</div>"
            ],
            "text/plain": [
              "      Id  ... Visualizações\n",
              "0  18232  ...         38614\n",
              "1    197  ...          3860\n",
              "\n",
              "[2 rows x 6 columns]"
            ]
          },
          "metadata": {
            "tags": []
          },
          "execution_count": 10
        }
      ]
    },
    {
      "cell_type": "code",
      "metadata": {
        "colab": {
          "base_uri": "https://localhost:8080/"
        },
        "id": "Q9NDk0NLCIKy",
        "outputId": "5dee875d-dc21-4ef2-8a6b-3b697e3ace78"
      },
      "source": [
        "print(dados_espanhol['Questão'][0])"
      ],
      "execution_count": 11,
      "outputs": [
        {
          "output_type": "stream",
          "text": [
            "<p>Las sentencias dinámicas son sentencias SQL que se crean como cadenas de texto (strings) y en las que se insertan/concatenan valores obtenidos de alguna fuente (normalmente proveniente del usuario), lo que puede hacer que sean vulnerables a inyección SQL si no se sanean las entradas, como por ejemplo:</p>\n",
            "\n",
            "<pre><code>$id_usuario = $_POST[\"id\"];\n",
            "\n",
            "mysql_query(\"SELECT * FROM usuarios WHERE id = $id_usuario\");\n",
            "</code></pre>\n",
            "\n",
            "<p>Eso es un ejemplo de una vulnerabilidad grave en la seguridad de una aplicación (web o no) porque si el usuario introdujese un valor como <code>1; DROP TABLE usuarios;--</code> nos encontraríamos con que la sentencia ejecutada sería:</p>\n",
            "\n",
            "<pre><code>SELECT * FROM usuarios WHERE id = 1; DROP TABLE usuarios;--\n",
            "</code></pre>\n",
            "\n",
            "<p>Y se eliminaría la tabla Usuarios con todos los datos contenidos en ella. </p>\n",
            "\n",
            "<p><strong>¿Cómo puedo evitar que la inyección SQL ocurra en PHP?</strong></p>\n",
            "\n"
          ],
          "name": "stdout"
        }
      ]
    },
    {
      "cell_type": "markdown",
      "metadata": {
        "id": "XYn6wb4bwNw2"
      },
      "source": [
        "### Removendo Tag HTML"
      ]
    },
    {
      "cell_type": "code",
      "metadata": {
        "colab": {
          "base_uri": "https://localhost:8080/",
          "height": 121
        },
        "id": "mxZoN4bbwOAV",
        "outputId": "ac3dc572-a85b-4fcc-c8b2-ec3b86742bcc"
      },
      "source": [
        "def remover(textos, regex):\n",
        "  if type(textos) == str:\n",
        "    return regex.sub(' ', textos  )\n",
        "  else:\n",
        "    return [regex.sub(' ', texto) for texto in textos]\n",
        "\n",
        "remove_tag_regex = re.compile(r'<.*?>')\n",
        "remover(dados_portugues['Questão'][5], remove_tag_regex)"
      ],
      "execution_count": 12,
      "outputs": [
        {
          "output_type": "execute_result",
          "data": {
            "application/vnd.google.colaboratory.intrinsic+json": {
              "type": "string"
            },
            "text/plain": [
              "\" Desenvolvi uma página em PHP para uso interno da empresa que trabalho e apenas pouquíssimas pessoas a utilizam. Através dessa página é possível fazer algumas consultas, inserções, alterações e remoções de dados de uma tabela em um banco de dados MySQL, porém eu acredito que meu código em PHP não está protegido contra injeção de código SQL, por exemplo: \\n\\n  //----CONSULTA SQL----//\\n$busca = mysql_query ('insert into Produtos (coluna) values(' . $valor . ')');\\n  \\n\\n Logo, digamos que o usuário usar a sentença:  1); DROP TABLE Produtos;  para ao campo  valor  o comando ficaria:  \\n\\n  insert into Produtos (coluna) values(1); DROP TABLE Produtos;\\n  \\n\\n Ele vai inserir um novo registro cujo o campo  coluna  será  1  e logo em seguida ele vai deletar a tabela Produtos. \\n\\n Como posso melhorar meu código para prevenir essa situação? \\n\""
            ]
          },
          "metadata": {
            "tags": []
          },
          "execution_count": 12
        }
      ]
    },
    {
      "cell_type": "markdown",
      "metadata": {
        "id": "31IMsDfByEjz"
      },
      "source": [
        "### Removendo trechos de código"
      ]
    },
    {
      "cell_type": "code",
      "metadata": {
        "colab": {
          "base_uri": "https://localhost:8080/",
          "height": 104
        },
        "id": "IaUgNf-yyFD3",
        "outputId": "eeb1028c-6e59-4327-ee64-4dddde72b589"
      },
      "source": [
        "def substituir_codigo(textos, regex):\n",
        "  if type(textos) == str:\n",
        "    return regex.sub('CODE', textos  )\n",
        "  else:\n",
        "    return [regex.sub('CODE', texto) for texto in textos]\n",
        "  \n",
        "remove_code_regex = re.compile(r'<code>(.|(\\n))*?</code>')\n",
        "substituir_codigo(dados_portugues['Questão'][5], remove_code_regex)"
      ],
      "execution_count": 13,
      "outputs": [
        {
          "output_type": "execute_result",
          "data": {
            "application/vnd.google.colaboratory.intrinsic+json": {
              "type": "string"
            },
            "text/plain": [
              "'<p>Desenvolvi uma página em PHP para uso interno da empresa que trabalho e apenas pouquíssimas pessoas a utilizam. Através dessa página é possível fazer algumas consultas, inserções, alterações e remoções de dados de uma tabela em um banco de dados MySQL, porém eu acredito que meu código em PHP não está protegido contra injeção de código SQL, por exemplo:</p>\\n\\n<pre>CODE</pre>\\n\\n<p>Logo, digamos que o usuário usar a sentença: CODE para ao campo CODE o comando ficaria: </p>\\n\\n<pre>CODE</pre>\\n\\n<p>Ele vai inserir um novo registro cujo o campo CODE será CODE e logo em seguida ele vai deletar a tabela Produtos.</p>\\n\\n<p>Como posso melhorar meu código para prevenir essa situação?</p>\\n'"
            ]
          },
          "metadata": {
            "tags": []
          },
          "execution_count": 13
        }
      ]
    },
    {
      "cell_type": "markdown",
      "metadata": {
        "id": "GaAFLXdw097o"
      },
      "source": [
        "### Removendo as pontuações"
      ]
    },
    {
      "cell_type": "code",
      "metadata": {
        "colab": {
          "base_uri": "https://localhost:8080/",
          "height": 138
        },
        "id": "o5br7K940-Ge",
        "outputId": "74280868-50c5-4918-a076-a42c880f62fc"
      },
      "source": [
        "remove_pontuacao_regex = re.compile(r'[^\\w\\s]')\n",
        "remover(dados_portugues['Questão'][5], remove_pontuacao_regex)"
      ],
      "execution_count": 14,
      "outputs": [
        {
          "output_type": "execute_result",
          "data": {
            "application/vnd.google.colaboratory.intrinsic+json": {
              "type": "string"
            },
            "text/plain": [
              "' p Desenvolvi uma página em PHP para uso interno da empresa que trabalho e apenas pouquíssimas pessoas a utilizam  Através dessa página é possível fazer algumas consultas  inserções  alterações e remoções de dados de uma tabela em um banco de dados MySQL  porém eu acredito que meu código em PHP não está protegido contra injeção de código SQL  por exemplo   p \\n\\n pre  code       CONSULTA SQL      \\n busca   mysql_query   insert into Produtos  coluna  values      valor        \\n  code   pre \\n\\n p Logo  digamos que o usuário usar a sentença   code 1   DROP TABLE Produtos   code  para ao campo  code valor  code  o comando ficaria    p \\n\\n pre  code insert into Produtos  coluna  values 1   DROP TABLE Produtos \\n  code   pre \\n\\n p Ele vai inserir um novo registro cujo o campo  code coluna  code  será  code 1  code  e logo em seguida ele vai deletar a tabela Produtos   p \\n\\n p Como posso melhorar meu código para prevenir essa situação   p \\n'"
            ]
          },
          "metadata": {
            "tags": []
          },
          "execution_count": 14
        }
      ]
    },
    {
      "cell_type": "markdown",
      "metadata": {
        "id": "0eZ_N-0i21lT"
      },
      "source": [
        "### Removendo os dígitos"
      ]
    },
    {
      "cell_type": "code",
      "metadata": {
        "colab": {
          "base_uri": "https://localhost:8080/",
          "height": 138
        },
        "id": "8vjQPYlC2y8q",
        "outputId": "dc67a7a6-9354-49c0-b9f5-18f598da3c81"
      },
      "source": [
        "remove_digitos_regex = re.compile(r'\\d+')\n",
        "remover(dados_portugues['Questão'][5], remove_digitos_regex)"
      ],
      "execution_count": 15,
      "outputs": [
        {
          "output_type": "execute_result",
          "data": {
            "application/vnd.google.colaboratory.intrinsic+json": {
              "type": "string"
            },
            "text/plain": [
              "\"<p>Desenvolvi uma página em PHP para uso interno da empresa que trabalho e apenas pouquíssimas pessoas a utilizam. Através dessa página é possível fazer algumas consultas, inserções, alterações e remoções de dados de uma tabela em um banco de dados MySQL, porém eu acredito que meu código em PHP não está protegido contra injeção de código SQL, por exemplo:</p>\\n\\n<pre><code>//----CONSULTA SQL----//\\n$busca = mysql_query ('insert into Produtos (coluna) values(' . $valor . ')');\\n</code></pre>\\n\\n<p>Logo, digamos que o usuário usar a sentença: <code> ); DROP TABLE Produtos;</code> para ao campo <code>valor</code> o comando ficaria: </p>\\n\\n<pre><code>insert into Produtos (coluna) values( ); DROP TABLE Produtos;\\n</code></pre>\\n\\n<p>Ele vai inserir um novo registro cujo o campo <code>coluna</code> será <code> </code> e logo em seguida ele vai deletar a tabela Produtos.</p>\\n\\n<p>Como posso melhorar meu código para prevenir essa situação?</p>\\n\""
            ]
          },
          "metadata": {
            "tags": []
          },
          "execution_count": 15
        }
      ]
    },
    {
      "cell_type": "markdown",
      "metadata": {
        "id": "uwp-laZY3iBS"
      },
      "source": [
        "### Removendo espaços duplicados"
      ]
    },
    {
      "cell_type": "code",
      "metadata": {
        "colab": {
          "base_uri": "https://localhost:8080/",
          "height": 138
        },
        "id": "QYpGdUr63iUa",
        "outputId": "1ff2370d-6b5f-4c94-9500-8201d5bbd37d"
      },
      "source": [
        "remove_espaco_regex = re.compile(r' +')\n",
        "remove_quebra_de_linha_regex = re.compile(r'(\\n)')\n",
        "\n",
        "def substituir_espaco(textos, regex):\n",
        "    if type(textos) == str:\n",
        "      return regex.sub(' ', textos  )\n",
        "    else:\n",
        "      return [regex.sub(' ', texto) for texto in textos]\n",
        "\n",
        "substituir_espaco(dados_portugues['Questão'][21], remove_espaco_regex)"
      ],
      "execution_count": 16,
      "outputs": [
        {
          "output_type": "execute_result",
          "data": {
            "application/vnd.google.colaboratory.intrinsic+json": {
              "type": "string"
            },
            "text/plain": [
              "'<p>Para facilitar a busca de informações comumente grafadas erradas, usamos <a href=\"http://pt.wikipedia.org/wiki/String_Fon%C3%A9tica\" rel=\"noreferrer\">algoritmos fonéticos</a>. Um recurso que é extremamente útil mas que costuma ser negligenciado, especialmente fora da língua inglesa onde existem alguns algoritmos conhecidos como os citados na <a href=\"http://en.wikipedia.org/wiki/Phonetic_algorithm\" rel=\"noreferrer\">Wikipedia</a><sup>(en)</sup>, particularmente o <strong>Soundex</strong> disponível em diversos DBs e linguagens.</p>\\n\\n<p>Temos particularidades na nossa língua que inviabilizam o uso de algoritmos de outras línguas. Na verdade é até mais regionalizado. Um <strong>algoritmo que funciona para o Brasil</strong>, não funciona para Portugal e talvez para outros países lusófonos. Tenho até dúvidas se precisaria de especializações para o <a href=\"http://pt.wikipedia.org/wiki/Dialeto_da_costa_norte\" rel=\"noreferrer\">cearense</a>, <a href=\"http://pt.wikipedia.org/wiki/Dialeto_ga%C3%BAcho\" rel=\"noreferrer\">gaúcho</a> ou mesmo para o <a href=\"http://seumukifo.blogspot.com.br/2009/12/dicionario-piracicabano.html\" rel=\"noreferrer\">piracicabano</a> e <a href=\"http://www.aprovincia.com.br/conversa-de-pescador/cultura-caipira/delicias-do-diferenciado-falar-caipira/\" rel=\"noreferrer\">adjacências</a> (de centenas de quilômetros :) ), só para citar alguns.</p>\\n\\n<ul>\\n<li>Existe alguma fonte oficial, um estudo conclusivo de como deveria ser o nosso algoritmo fonético?</li>\\n<li>Baseado nesses estudos ou por experiência, como seria esse algoritmo? Podemos aproveitar alguma variante do <a href=\"http://en.wikipedia.org/wiki/Soundex\" rel=\"noreferrer\">Soundex</a>, <a href=\"http://en.wikipedia.org/wiki/Metaphone\" rel=\"noreferrer\">Metaphone</a> ou outro algoritmo consagrado da língua inglesa, só trocando os fonemas?</li>\\n<li>Podemos ou devemos usar (opcionalmente) fonemas estrangeiros comuns também, já que usamos nomes estrangeiros?</li>\\n<li>Estou interessado no algoritmo em si, portanto, como desenvolvê-lo em detalhes (não basta linhas gerais que já tem informação suficiente), um pseudo-código ou código real em alguma linguagem seria útil mas não funadamental.</li>\\n</ul>\\n\\n<p>Já que posso portar código de quase qualquer linguagem <em>mainstream</em>, e de fato eu vou (e outros poderão) usar em algumas linguagens diferentes, não me importa se está em C, C++, C#, Java, Javascript, PHP, Perl, Python, Ruby, Lua, Delphi, Go, D, Scala, F#, ou variantes de BASIC, xBase (Clipper, Harbour, FoxPro), SQL, etc. ou até COBOL :). Use o que já possui ou sinta-se mais confortável.</p>\\n\\n<p>Note que o melhor algoritmo é o que vale, não a implementação, por isso não me importa a linguagem. O mesmo algoritmo em linguagem diferente será considerado duplicado.</p>\\n\\n<p>Algumas referências que eu conheço <sub>(algumas são bem ruins)</sub>:</p>\\n\\n<ul>\\n<li><a href=\"http://www.brunoportfolio.com/arquivos/pdf/BuscaBR_Fonetica.pdf\" rel=\"noreferrer\">Busca Fonética em Português do Brasil</a></li>\\n<li><a href=\"http://www.uniritter.edu.br/graduacao/informatica/sistemas/downloads/tcc2k9/TCCII_2009_1_Roni.pdf\" rel=\"noreferrer\">Recuperação De Informações por Similaridade de Fonemas Adaptada à Língua Portuguesa</a></li>\\n<li><a href=\"http://www.devmedia.com.br/forum/soundex-em-portugues/274192\" rel=\"noreferrer\">exemplo em Delphi</a></li>\\n<li><a href=\"http://www.linhadecodigo.com.br/artigo/2237/implementando-algoritmo-buscabr.aspx\" rel=\"noreferrer\">exemplo em C#</a></li>\\n<li><a href=\"http://eduardospaki.blogspot.com.br/2011/07/fonetica-sql-server.html\" rel=\"noreferrer\">outro exemplo em C#</a></li>\\n<li><a href=\"http://www.macoratti.net/sql_sdex.htm\" rel=\"noreferrer\">exemplo VB.NET</a></li>\\n<li><a href=\"http://informatica.varzeapaulista.sp.gov.br/metaphone/\" rel=\"noreferrer\">exemplo em PHP</a></li>\\n<li><a href=\"https://github.com/timotta/elasticsearch-fonetica-portuguesa\" rel=\"noreferrer\">exemplo em Java</a></li>\\n<li><a href=\"https://github.com/MagoMatematico/Fonetico\" rel=\"noreferrer\">outro exemplo em C#</a></li>\\n<li><a href=\"https://github.com/quicoli/Fonetiza\" rel=\"noreferrer\">mais um em C#</a>.</li>\\n</ul>\\n\\n<p><sup>Apesar de ter aceito uma resposta, acho que ainda pode surgir algo melhor e estou disposto a mudar a aceitação caso isto ocorra. Ainda quero ver sua resposta.</sup></p>\\n'"
            ]
          },
          "metadata": {
            "tags": []
          },
          "execution_count": 16
        }
      ]
    },
    {
      "cell_type": "markdown",
      "metadata": {
        "id": "9Wl3vqfSzRPz"
      },
      "source": [
        "### Limpando os dados"
      ]
    },
    {
      "cell_type": "code",
      "metadata": {
        "id": "R0ljNXFDzT3V"
      },
      "source": [
        "def cleaning(textos):\n",
        "  textos = textos.lower()\n",
        "  textos = substituir_codigo(textos, remove_code_regex)\n",
        "  textos = remover(textos, remove_tag_regex)\n",
        "  textos = remover(textos, remove_pontuacao_regex)\n",
        "  textos = remover(textos, remove_digitos_regex)\n",
        "  textos = substituir_espaco(textos, remove_quebra_de_linha_regex)\n",
        "  textos = substituir_espaco(textos, remove_espaco_regex)\n",
        "  return textos"
      ],
      "execution_count": 17,
      "outputs": []
    },
    {
      "cell_type": "code",
      "metadata": {
        "colab": {
          "base_uri": "https://localhost:8080/"
        },
        "id": "oDYddY2b0SK0",
        "outputId": "fee81d07-d1ca-4274-8919-caf34ace89e4"
      },
      "source": [
        "dados_portugues['cleaning'] = dados_portugues['Questão'].apply(cleaning)\n",
        "print(dados_portugues['cleaning'][5])"
      ],
      "execution_count": 18,
      "outputs": [
        {
          "output_type": "stream",
          "text": [
            " desenvolvi uma página em php para uso interno da empresa que trabalho e apenas pouquíssimas pessoas a utilizam através dessa página é possível fazer algumas consultas inserções alterações e remoções de dados de uma tabela em um banco de dados mysql porém eu acredito que meu código em php não está protegido contra injeção de código sql por exemplo CODE logo digamos que o usuário usar a sentença CODE para ao campo CODE o comando ficaria CODE ele vai inserir um novo registro cujo o campo CODE será CODE e logo em seguida ele vai deletar a tabela produtos como posso melhorar meu código para prevenir essa situação \n"
          ],
          "name": "stdout"
        }
      ]
    },
    {
      "cell_type": "code",
      "metadata": {
        "colab": {
          "base_uri": "https://localhost:8080/"
        },
        "id": "GjhzWWcj0lv-",
        "outputId": "f9251acd-9137-4728-8241-d956a59ca8b3"
      },
      "source": [
        "dados_ingles['cleaning'] = dados_ingles['Questão'].apply(cleaning)\n",
        "print(dados_ingles['cleaning'][15])"
      ],
      "execution_count": 19,
      "outputs": [
        {
          "output_type": "stream",
          "text": [
            " i have an array of numbers and i m using the CODE method to add elements to it is there a simple way to remove a specific element from an array the equivalent of something like CODE i have to use core javascript no frameworks are allowed \n"
          ],
          "name": "stdout"
        }
      ]
    },
    {
      "cell_type": "code",
      "metadata": {
        "colab": {
          "base_uri": "https://localhost:8080/"
        },
        "id": "KGxSdCh40l64",
        "outputId": "d3cf009d-37e0-470a-db41-7ff8d0ef43ad"
      },
      "source": [
        "dados_espanhol['cleaning'] = dados_espanhol['Questão'].apply(cleaning)\n",
        "print(dados_espanhol['cleaning'][0])"
      ],
      "execution_count": 20,
      "outputs": [
        {
          "output_type": "stream",
          "text": [
            " las sentencias dinámicas son sentencias sql que se crean como cadenas de texto strings y en las que se insertan concatenan valores obtenidos de alguna fuente normalmente proveniente del usuario lo que puede hacer que sean vulnerables a inyección sql si no se sanean las entradas como por ejemplo CODE eso es un ejemplo de una vulnerabilidad grave en la seguridad de una aplicación web o no porque si el usuario introdujese un valor como CODE nos encontraríamos con que la sentencia ejecutada sería CODE y se eliminaría la tabla usuarios con todos los datos contenidos en ella cómo puedo evitar que la inyección sql ocurra en php \n"
          ],
          "name": "stdout"
        }
      ]
    },
    {
      "cell_type": "markdown",
      "metadata": {
        "id": "LYBFthe13xxx"
      },
      "source": [
        "### Separação dos dados"
      ]
    },
    {
      "cell_type": "code",
      "metadata": {
        "id": "lL4c43xD6sie"
      },
      "source": [
        "from sklearn.model_selection import train_test_split\n",
        "\n",
        "dados_portugues['idioma'] = 'port'\n",
        "dados_espanhol['idioma'] = 'esp'\n",
        "dados_ingles['idioma'] = 'ing'\n",
        "\n",
        "port_treino, port_teste = train_test_split(dados_portugues['cleaning'], test_size=0.2, random_state=123)\n",
        "esp_treino, esp_teste = train_test_split(dados_espanhol['cleaning'], test_size=0.2, random_state=123)\n",
        "ing_treino, ing_teste = train_test_split(dados_ingles['cleaning'], test_size=0.2, random_state=123)"
      ],
      "execution_count": 29,
      "outputs": []
    },
    {
      "cell_type": "markdown",
      "metadata": {
        "id": "aUiMIn7e9gDN"
      },
      "source": [
        "### Pipeline de treinamento"
      ]
    },
    {
      "cell_type": "code",
      "metadata": {
        "id": "CRzR9IR59KL-"
      },
      "source": [
        "from nltk.lm.preprocessing import padded_everygram_pipeline\n",
        "\n",
        "todas_questoes_port = ' '.join(port_treino)\n",
        "todas_as_palavras_port = tokenize.WhitespaceTokenizer().tokenize(todas_questoes_port)\n",
        "\n",
        "port_treino_bigram, vocab_port = padded_everygram_pipeline(2, todas_as_palavras_port)"
      ],
      "execution_count": 35,
      "outputs": []
    },
    {
      "cell_type": "markdown",
      "metadata": {
        "id": "BWWjb05__orn"
      },
      "source": [
        "### Modelo de linguagem MLE: máxima verossimilhança"
      ]
    },
    {
      "cell_type": "code",
      "metadata": {
        "id": "m133AyfC_w_E"
      },
      "source": [
        "from nltk.lm import MLE\n",
        "modelo_port = MLE(2)\n",
        "modelo_port.fit(port_treino_bigram, vocab_port)"
      ],
      "execution_count": 39,
      "outputs": []
    },
    {
      "cell_type": "code",
      "metadata": {
        "colab": {
          "base_uri": "https://localhost:8080/"
        },
        "id": "HAycoNUsAKlk",
        "outputId": "139cb7df-f418-4238-e7b1-351bf9f72c4e"
      },
      "source": [
        "from nltk.lm import NgramCounter\n",
        "print(modelo_port.generate(num_words=6))\n",
        "print(modelo_port.counts[['m']].items())"
      ],
      "execution_count": 43,
      "outputs": [
        {
          "output_type": "stream",
          "text": [
            "['r', '</s>', 'r', 'a', 'm', 'a']\n",
            "dict_items([('</s>', 2756), ('a', 2051), ('b', 143), ('p', 719), ('o', 854), ('e', 1503), ('u', 227), ('v', 13), ('í', 13), ('i', 290), ('ó', 37), ('â', 11), ('l', 22), ('é', 76), ('ú', 5), ('ã', 4), ('á', 32), ('s', 8), ('g', 4), ('_', 1), ('m', 23), ('y', 9), ('d', 2)])\n"
          ],
          "name": "stdout"
        }
      ]
    }
  ]
}