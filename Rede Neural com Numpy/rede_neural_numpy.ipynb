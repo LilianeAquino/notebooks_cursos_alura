{
  "nbformat": 4,
  "nbformat_minor": 0,
  "metadata": {
    "kernelspec": {
      "display_name": "Python 3",
      "language": "python",
      "name": "python3"
    },
    "language_info": {
      "codemirror_mode": {
        "name": "ipython",
        "version": 3
      },
      "file_extension": ".py",
      "mimetype": "text/x-python",
      "name": "python",
      "nbconvert_exporter": "python",
      "pygments_lexer": "ipython3",
      "version": "3.7.3"
    },
    "colab": {
      "name": "Bikes.ipynb",
      "provenance": [],
      "collapsed_sections": []
    }
  },
  "cells": [
    {
      "cell_type": "markdown",
      "metadata": {
        "id": "jGj87i9dgW5U"
      },
      "source": [
        "# Rede Neural com Numpy"
      ]
    },
    {
      "cell_type": "markdown",
      "metadata": {
        "id": "ZdEzDQDoha-H"
      },
      "source": [
        "### Bibliotecas básicas"
      ]
    },
    {
      "cell_type": "code",
      "metadata": {
        "id": "-i2z7k6VgW5f",
        "colab": {
          "resources": {
            "http://localhost:8080/nbextensions/google.colab/files.js": {
              "data": "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",
              "ok": true,
              "headers": [
                [
                  "content-type",
                  "application/javascript"
                ]
              ],
              "status": 200,
              "status_text": ""
            }
          },
          "base_uri": "https://localhost:8080/",
          "height": 110
        },
        "outputId": "9d106894-dad2-4c8e-e5cb-53552ebaf73f"
      },
      "source": [
        "from google.colab import files\n",
        "files.upload()"
      ],
      "execution_count": 1,
      "outputs": [
        {
          "output_type": "display_data",
          "data": {
            "text/html": [
              "\n",
              "     <input type=\"file\" id=\"files-30d620d7-aa7f-4594-8702-2f473a6172d8\" name=\"files[]\" multiple disabled\n",
              "        style=\"border:none\" />\n",
              "     <output id=\"result-30d620d7-aa7f-4594-8702-2f473a6172d8\">\n",
              "      Upload widget is only available when the cell has been executed in the\n",
              "      current browser session. Please rerun this cell to enable.\n",
              "      </output>\n",
              "      <script src=\"/nbextensions/google.colab/files.js\"></script> "
            ],
            "text/plain": [
              "<IPython.core.display.HTML object>"
            ]
          },
          "metadata": {
            "tags": []
          }
        },
        {
          "output_type": "stream",
          "text": [
            "Saving Bicicletas.csv to Bicicletas.csv\n"
          ],
          "name": "stdout"
        },
        {
          "output_type": "execute_result",
          "data": {
            "text/plain": [
              "{'Bicicletas.csv': b'clima,temperatura,bicicletas_alugadas\\n2,0.363625,985\\n2,0.35373899999999997,801\\n1,0.189405,1349\\n1,0.21212199999999998,1562\\n1,0.22926999999999997,1600\\n1,0.23320900000000003,1606\\n2,0.208839,1510\\n2,0.162254,959\\n1,0.116175,822\\n1,0.15088800000000002,1321\\n2,0.19146400000000002,1263\\n1,0.160473,1162\\n1,0.150883,1406\\n1,0.188413,1421\\n2,0.248112,1248\\n1,0.234217,1204\\n2,0.176771,1000\\n2,0.23233299999999998,683\\n2,0.29842199999999997,1650\\n2,0.25505,1927\\n1,0.157833,1543\\n1,0.0790696,981\\n1,0.09883910000000001,986\\n1,0.11793,1416\\n2,0.234526,1985\\n3,0.2036,506\\n1,0.2197,431\\n2,0.22331700000000002,1167\\n1,0.212126,1098\\n1,0.250322,1096\\n2,0.18625,1501\\n2,0.23453000000000002,1360\\n2,0.254417,1526\\n1,0.177878,1550\\n2,0.22858699999999998,1708\\n2,0.243058,1005\\n1,0.291671,1623\\n1,0.303658,1712\\n1,0.198246,1530\\n2,0.144283,1605\\n1,0.14954800000000001,1538\\n1,0.213509,1746\\n1,0.232954,1472\\n1,0.324113,1589\\n1,0.39835,1913\\n1,0.254274,1815\\n1,0.3162,2115\\n1,0.428658,2475\\n1,0.511983,2927\\n1,0.391404,1635\\n1,0.27733,1812\\n2,0.284075,1107\\n1,0.186033,1450\\n1,0.24571700000000002,1917\\n2,0.289191,1807\\n2,0.350461,1461\\n1,0.282192,1969\\n1,0.351109,2402\\n2,0.400118,1446\\n1,0.263879,1851\\n1,0.320071,2134\\n1,0.200133,1685\\n2,0.255679,1944\\n2,0.378779,2077\\n2,0.366252,605\\n1,0.238461,1872\\n1,0.3024,2133\\n2,0.286608,1891\\n3,0.385668,623\\n2,0.305,1977\\n1,0.32575,2132\\n1,0.380091,2417\\n1,0.332,2046\\n2,0.318178,2056\\n2,0.36693000000000003,2192\\n1,0.410333,2744\\n1,0.5270090000000001,3239\\n1,0.466525,3117\\n1,0.32575,2471\\n2,0.409735,2077\\n1,0.44064200000000003,2703\\n2,0.337939,2121\\n2,0.270833,1865\\n1,0.256312,2210\\n1,0.257571,2496\\n2,0.250339,1693\\n1,0.25757399999999997,2028\\n1,0.292908,2425\\n2,0.29735,1536\\n3,0.257575,1685\\n2,0.283454,2227\\n2,0.315637,2252\\n1,0.378767,3249\\n1,0.542929,3115\\n2,0.39835,1795\\n1,0.387608,2808\\n1,0.433696,3141\\n2,0.324479,1471\\n2,0.34152899999999997,2455\\n2,0.426737,2895\\n2,0.565217,3348\\n2,0.493054,2034\\n2,0.417283,2162\\n1,0.462742,3267\\n1,0.441913,3126\\n3,0.425492,795\\n1,0.445696,3744\\n1,0.503146,3429\\n2,0.48925799999999997,3204\\n1,0.564392,3944\\n1,0.453892,4189\\n2,0.321954,1683\\n2,0.450121,4036\\n2,0.551763,4191\\n1,0.5745,4073\\n1,0.594083,4400\\n2,0.575142,3872\\n2,0.578929,4058\\n1,0.497463,4595\\n1,0.464021,5312\\n2,0.448204,3351\\n2,0.532833,4401\\n2,0.582079,4451\\n2,0.40465,2633\\n1,0.441917,4433\\n1,0.474117,4608\\n1,0.512621,4714\\n1,0.518933,4333\\n1,0.525246,4362\\n1,0.522721,4803\\n1,0.5284,4182\\n1,0.523363,4864\\n2,0.4943,4105\\n2,0.500629,3409\\n2,0.536,4553\\n1,0.550512,3958\\n2,0.538529,4123\\n2,0.527158,3855\\n2,0.510742,4575\\n1,0.529042,4917\\n1,0.571975,5805\\n1,0.5745,4660\\n2,0.590296,4274\\n2,0.604813,4492\\n1,0.615542,4978\\n1,0.654688,4677\\n1,0.637008,4679\\n1,0.612379,4758\\n1,0.61555,4788\\n1,0.671092,4098\\n1,0.725383,3982\\n2,0.720967,3974\\n1,0.643942,4968\\n1,0.587133,5312\\n1,0.594696,5342\\n2,0.616804,4906\\n1,0.621858,4548\\n1,0.65595,4833\\n1,0.727279,4401\\n2,0.757579,3915\\n1,0.703292,4586\\n1,0.678038,4966\\n1,0.643325,4460\\n1,0.601654,5020\\n1,0.591546,4891\\n1,0.587754,5180\\n2,0.595346,3767\\n1,0.600383,4844\\n1,0.643954,5119\\n2,0.645846,4744\\n2,0.595346,4010\\n2,0.637646,4835\\n1,0.693829,4507\\n2,0.693833,4790\\n1,0.656583,4991\\n1,0.643313,5202\\n1,0.637629,5305\\n2,0.637004,4708\\n1,0.692558,4648\\n1,0.654688,5225\\n1,0.637008,5515\\n1,0.652162,5362\\n1,0.667308,5119\\n2,0.668575,4649\\n2,0.665417,6043\\n1,0.696338,4665\\n1,0.685633,4629\\n1,0.686871,4592\\n2,0.6704829999999999,4040\\n1,0.664158,5336\\n1,0.690025,4881\\n1,0.729804,4086\\n1,0.739275,4258\\n1,0.689404,4342\\n1,0.635104,5084\\n1,0.624371,5538\\n1,0.638263,5923\\n1,0.669833,5302\\n1,0.703925,4458\\n1,0.747479,4541\\n1,0.74685,4332\\n2,0.826371,3784\\n1,0.8408959999999999,3387\\n1,0.804287,3285\\n1,0.794829,3606\\n1,0.720958,3840\\n1,0.696979,4590\\n1,0.690667,4656\\n1,0.7399,4390\\n1,0.785967,3846\\n1,0.728537,4475\\n1,0.729796,4302\\n1,0.703292,4266\\n1,0.707071,4845\\n2,0.679937,3574\\n2,0.664788,4576\\n1,0.656567,4866\\n2,0.676154,4294\\n1,0.715292,3785\\n1,0.703283,4326\\n1,0.724121,4602\\n1,0.684983,4780\\n1,0.651521,4792\\n1,0.654042,4905\\n2,0.645858,4150\\n2,0.624388,3820\\n1,0.616167,4338\\n1,0.645837,4725\\n1,0.666671,4694\\n1,0.662258,3805\\n2,0.633221,4153\\n1,0.648996,5191\\n1,0.675525,3873\\n1,0.638254,4758\\n1,0.606067,5895\\n1,0.630692,5130\\n2,0.645854,3542\\n1,0.659733,4661\\n2,0.635556,1115\\n1,0.6479590000000001,4334\\n1,0.607958,4634\\n1,0.594704,5204\\n1,0.611121,5058\\n1,0.614921,5115\\n2,0.604808,4727\\n1,0.633213,4484\\n1,0.665429,4940\\n2,0.625646,3351\\n3,0.5152,2710\\n3,0.544229,1996\\n3,0.555361,1842\\n2,0.578946,3544\\n1,0.607962,5345\\n1,0.609229,5046\\n1,0.60213,4713\\n1,0.603554,4763\\n1,0.6269,4785\\n2,0.553671,3659\\n2,0.461475,4760\\n2,0.478512,4511\\n1,0.490537,4274\\n2,0.529675,4539\\n2,0.532217,3641\\n2,0.5505329999999999,4352\\n2,0.554963,4795\\n2,0.522125,2395\\n2,0.564412,5423\\n2,0.572637,5010\\n2,0.589042,4630\\n2,0.574525,4120\\n2,0.575158,3907\\n1,0.574512,4839\\n1,0.544829,5202\\n2,0.41286300000000004,2429\\n2,0.345317,2918\\n2,0.392046,3570\\n1,0.472858,4456\\n1,0.527138,4826\\n1,0.480425,4765\\n1,0.504404,4985\\n1,0.513242,5409\\n1,0.523983,5511\\n1,0.542925,5117\\n2,0.546096,4563\\n3,0.517717,2416\\n2,0.551804,2913\\n2,0.529675,3644\\n1,0.498725,5217\\n1,0.503154,5041\\n1,0.510725,4570\\n2,0.522721,4748\\n3,0.513848,2424\\n1,0.466525,4195\\n1,0.42359600000000003,4304\\n1,0.425492,4308\\n1,0.422333,4381\\n1,0.457067,4187\\n1,0.463375,4687\\n2,0.472846,3894\\n2,0.457046,2659\\n2,0.318812,3747\\n3,0.227913,627\\n1,0.321329,3331\\n1,0.356063,3669\\n1,0.397088,4068\\n1,0.390133,4186\\n1,0.405921,3974\\n2,0.40339200000000003,4046\\n1,0.323854,3926\\n1,0.362358,3649\\n1,0.400871,4035\\n1,0.412246,4205\\n1,0.40907899999999997,4109\\n2,0.373721,2933\\n1,0.306817,3368\\n1,0.357942,4067\\n1,0.43055,3717\\n1,0.524612,4486\\n2,0.507579,4195\\n3,0.451988,1817\\n2,0.323221,3053\\n1,0.272721,3392\\n1,0.32448299999999997,3663\\n2,0.457058,3520\\n3,0.445062,2765\\n3,0.421696,1607\\n2,0.430537,2566\\n1,0.372471,1495\\n1,0.380671,2792\\n1,0.385087,3068\\n1,0.4558,3071\\n1,0.490122,3867\\n2,0.451375,2914\\n1,0.311221,3613\\n1,0.305554,3727\\n1,0.331433,3940\\n1,0.310604,3614\\n1,0.3491,3485\\n2,0.393925,3811\\n3,0.4564,2594\\n3,0.400246,705\\n1,0.256938,3322\\n1,0.317542,3620\\n1,0.266412,3190\\n1,0.253154,2743\\n1,0.270196,3310\\n1,0.301138,3523\\n2,0.338362,3740\\n2,0.41223699999999996,3709\\n2,0.359825,3577\\n2,0.249371,2739\\n1,0.245579,2431\\n1,0.280933,3403\\n2,0.396454,3750\\n2,0.428017,2660\\n2,0.426121,3068\\n1,0.377513,2209\\n1,0.299242,1011\\n1,0.279961,754\\n1,0.315535,1317\\n2,0.327633,1162\\n1,0.279974,2302\\n1,0.263892,2423\\n1,0.318812,2999\\n1,0.414121,2485\\n1,0.375621,2294\\n1,0.252304,1951\\n1,0.126275,2236\\n2,0.11933699999999998,2368\\n1,0.278412,3272\\n1,0.340267,4098\\n1,0.390779,4521\\n1,0.340258,3425\\n2,0.247479,2376\\n1,0.318826,3598\\n2,0.282821,2177\\n2,0.381938,4097\\n1,0.249362,3214\\n1,0.183087,2493\\n1,0.161625,2311\\n1,0.190663,2298\\n2,0.36427800000000005,2935\\n1,0.275254,3376\\n1,0.190038,3292\\n2,0.220958,3163\\n2,0.174875,1301\\n2,0.16225,1977\\n2,0.243058,2432\\n1,0.349108,4339\\n1,0.294821,4270\\n2,0.35605,4075\\n2,0.415383,3456\\n1,0.326379,4023\\n1,0.272721,3243\\n1,0.262625,3624\\n1,0.381317,4509\\n1,0.466538,4579\\n2,0.398971,3761\\n1,0.309346,4151\\n2,0.272725,2832\\n2,0.264521,2947\\n1,0.296426,3784\\n1,0.361104,4375\\n2,0.266421,2802\\n1,0.261988,3830\\n2,0.293558,3831\\n3,0.210867,2169\\n1,0.101658,1529\\n1,0.227913,3422\\n2,0.333946,3922\\n1,0.35162899999999997,4169\\n2,0.330162,3005\\n1,0.35162899999999997,4154\\n1,0.355425,4318\\n2,0.265788,2689\\n1,0.273391,3129\\n1,0.295113,3777\\n1,0.392667,4773\\n1,0.444446,5062\\n2,0.41097100000000003,3487\\n1,0.255675,2732\\n1,0.268308,3389\\n1,0.357954,4322\\n1,0.353525,4363\\n2,0.34847,1834\\n1,0.475371,4990\\n2,0.359842,3194\\n2,0.413492,4066\\n1,0.303021,3423\\n1,0.241171,3333\\n1,0.255042,3956\\n1,0.3851,4916\\n1,0.524604,5382\\n2,0.397083,4569\\n1,0.277767,4118\\n1,0.35967,4911\\n1,0.459592,5298\\n1,0.542929,5847\\n1,0.548617,6312\\n1,0.532825,6192\\n2,0.436229,4378\\n2,0.505046,7836\\n2,0.46399999999999997,5892\\n1,0.532821,6153\\n1,0.538533,6093\\n2,0.513258,6230\\n1,0.531567,6871\\n2,0.570067,8362\\n2,0.48673299999999997,3372\\n2,0.437488,4996\\n1,0.43875,5558\\n1,0.315654,5102\\n1,0.47095,5698\\n1,0.482304,6133\\n2,0.375621,5459\\n2,0.42170799999999997,6235\\n2,0.41728699999999996,6041\\n1,0.42751300000000003,5936\\n1,0.461483,6772\\n1,0.53345,6436\\n1,0.431163,6457\\n1,0.39076700000000003,6460\\n1,0.426129,6857\\n1,0.492425,5169\\n1,0.476638,5585\\n1,0.436233,5918\\n1,0.33727399999999996,4862\\n1,0.387604,5409\\n1,0.43180799999999997,6398\\n1,0.487996,7460\\n1,0.573875,7132\\n1,0.614925,6370\\n1,0.598487,6691\\n2,0.457038,4367\\n1,0.493046,6565\\n1,0.515775,7290\\n1,0.542921,6624\\n3,0.389504,1027\\n2,0.301125,3214\\n1,0.405283,5633\\n1,0.470317,6196\\n2,0.483583,5026\\n1,0.452637,6233\\n2,0.377504,4220\\n1,0.450121,6304\\n2,0.457696,5572\\n2,0.577021,5740\\n1,0.537896,6169\\n2,0.537242,6421\\n1,0.590917,6296\\n2,0.584608,6883\\n2,0.546737,6359\\n2,0.527142,6273\\n2,0.557471,5728\\n2,0.553025,4717\\n1,0.49178299999999997,6572\\n1,0.520833,7030\\n1,0.544817,7429\\n1,0.585238,6118\\n2,0.5499,2843\\n2,0.576404,5115\\n1,0.595975,7424\\n1,0.572613,7384\\n1,0.551121,7639\\n1,0.566908,8294\\n1,0.583967,7129\\n2,0.565667,4359\\n2,0.580825,6073\\n2,0.584612,5260\\n1,0.6067,6770\\n1,0.627529,6734\\n1,0.642696,6536\\n1,0.641425,6591\\n1,0.6793,6043\\n1,0.672992,5743\\n2,0.611129,6855\\n1,0.631329,7338\\n2,0.607962,4127\\n1,0.566288,8120\\n1,0.575133,7641\\n1,0.578283,6998\\n2,0.525892,7001\\n1,0.542292,7055\\n1,0.569442,7494\\n1,0.597862,7736\\n1,0.648367,7498\\n1,0.663517,6598\\n2,0.659721,6664\\n2,0.597875,4972\\n1,0.611117,7421\\n1,0.624383,7363\\n1,0.599754,7665\\n1,0.594708,7702\\n1,0.571975,6978\\n2,0.544842,5099\\n1,0.654692,6825\\n1,0.720975,6211\\n1,0.752542,5905\\n1,0.724121,5823\\n1,0.652792,7458\\n1,0.674254,6891\\n1,0.654042,6779\\n1,0.594704,7442\\n1,0.640792,7335\\n1,0.675512,6879\\n1,0.786613,5463\\n1,0.687508,5687\\n1,0.750629,5531\\n1,0.702038,6227\\n1,0.70265,6660\\n1,0.732337,7403\\n1,0.761367,6241\\n1,0.752533,6207\\n1,0.804913,4840\\n1,0.790396,4672\\n2,0.654054,6569\\n2,0.664796,6290\\n1,0.650271,7264\\n1,0.654683,7446\\n2,0.667933,7499\\n2,0.666042,6969\\n1,0.705196,6031\\n1,0.724125,6830\\n1,0.755683,6786\\n1,0.745583,5713\\n1,0.714642,6591\\n2,0.613025,5870\\n3,0.549912,4459\\n2,0.623125,7410\\n1,0.690017,6966\\n1,0.70645,7592\\n1,0.654054,8173\\n1,0.739263,6861\\n1,0.734217,6904\\n1,0.697604,6685\\n1,0.667933,6597\\n1,0.684987,7105\\n1,0.662896,7216\\n1,0.667308,7580\\n1,0.707088,7261\\n2,0.722867,7175\\n1,0.751267,6824\\n1,0.731079,5464\\n2,0.710246,7013\\n2,0.697621,7273\\n2,0.707717,7534\\n1,0.699508,7286\\n2,0.667942,5786\\n2,0.638267,6299\\n1,0.644579,6544\\n1,0.662254,6883\\n1,0.676779,6784\\n1,0.654037,7347\\n1,0.654688,7605\\n1,0.2424,7148\\n1,0.618071,7865\\n2,0.603554,4549\\n2,0.595967,6530\\n1,0.601025,7006\\n1,0.621854,7375\\n1,0.637008,7765\\n2,0.6471,7582\\n2,0.618696,6053\\n2,0.595996,5255\\n1,0.654688,6917\\n1,0.66605,7040\\n1,0.635733,7697\\n1,0.652779,7713\\n1,0.6894,7350\\n2,0.702654,6140\\n2,0.649,5810\\n1,0.661629,6034\\n1,0.686888,6864\\n1,0.708983,7112\\n2,0.655329,6203\\n1,0.657204,7504\\n2,0.611121,5976\\n1,0.578925,8227\\n1,0.565654,7525\\n1,0.554292,7767\\n1,0.570075,7870\\n1,0.579558,7804\\n1,0.594083,8009\\n1,0.585867,8714\\n1,0.563125,7333\\n2,0.55305,6869\\n2,0.565067,4073\\n1,0.540404,7591\\n1,0.532192,7720\\n1,0.571971,8167\\n1,0.610488,8395\\n1,0.518933,7907\\n1,0.502513,7436\\n1,0.544179,7538\\n1,0.5966130000000001,7733\\n2,0.607975,7393\\n2,0.585863,7415\\n1,0.530296,8555\\n1,0.517663,6889\\n2,0.512,6778\\n3,0.542333,4639\\n2,0.599133,7572\\n2,0.607975,7328\\n1,0.580187,8156\\n1,0.538521,7965\\n2,0.419813,3510\\n2,0.387608,5478\\n2,0.438112,6392\\n1,0.503142,7691\\n1,0.431167,7570\\n1,0.433071,7282\\n1,0.391396,7109\\n1,0.508204,6639\\n2,0.53915,5875\\n1,0.460846,7534\\n1,0.450108,7461\\n2,0.512625,7509\\n2,0.537896,5424\\n1,0.472842,8090\\n1,0.456429,6824\\n1,0.482942,7058\\n1,0.530304,7466\\n1,0.558721,7693\\n2,0.529688,7359\\n2,0.52275,7444\\n2,0.515133,7852\\n2,0.467771,4459\\n3,0.4394,22\\n2,0.309909,1096\\n2,0.3611,5566\\n2,0.369942,5986\\n1,0.356042,5847\\n2,0.323846,5138\\n1,0.329538,5107\\n1,0.308075,5259\\n1,0.281567,5686\\n2,0.274621,5035\\n1,0.341891,5315\\n1,0.35541300000000003,5992\\n1,0.393937,6536\\n1,0.421713,6852\\n1,0.475383,6269\\n2,0.323225,4094\\n1,0.281563,5495\\n2,0.324492,5445\\n1,0.347204,5698\\n1,0.326383,5629\\n1,0.337746,4669\\n2,0.375621,5499\\n2,0.38066700000000003,5634\\n1,0.364892,5146\\n1,0.350371,2425\\n1,0.378779,3910\\n1,0.24874200000000002,2277\\n1,0.257583,2424\\n1,0.33900399999999997,5087\\n2,0.281558,3959\\n1,0.28976199999999996,5260\\n1,0.29842199999999997,5323\\n1,0.323867,5668\\n2,0.316904,5191\\n2,0.35920799999999997,4649\\n1,0.455796,6234\\n1,0.46905399999999997,6606\\n1,0.428012,5729\\n1,0.258204,5375\\n2,0.32195799999999997,5008\\n2,0.38950799999999997,5582\\n2,0.390146,3228\\n2,0.435575,5170\\n2,0.338363,5501\\n2,0.297338,5319\\n1,0.294188,5532\\n1,0.294192,5611\\n1,0.338383,5047\\n2,0.369938,3786\\n2,0.4015,4585\\n1,0.409708,5557\\n1,0.34216199999999997,5267\\n2,0.335217,4128\\n2,0.301767,3623\\n1,0.23611300000000002,1749\\n1,0.259471,1787\\n2,0.2589,920\\n2,0.29446500000000003,1013\\n3,0.220333,441\\n2,0.226642,2114\\n2,0.255046,3095\\n2,0.2424,1341\\n1,0.2317,1796\\n2,0.223487,2729\\n'}"
            ]
          },
          "metadata": {
            "tags": []
          },
          "execution_count": 1
        }
      ]
    },
    {
      "cell_type": "code",
      "metadata": {
        "id": "b14ABwuzhcwt"
      },
      "source": [
        "import pandas as pd\n",
        "import numpy as np\n",
        "import seaborn as sns\n",
        "import matplotlib.pyplot as plt"
      ],
      "execution_count": 2,
      "outputs": []
    },
    {
      "cell_type": "code",
      "metadata": {
        "id": "ahvLbqMHhkxQ"
      },
      "source": [
        "import matplotlib as mpl\n",
        "mpl.rcParams['figure.figsize'] = (10, 6)\n",
        "mpl.rcParams['font.size'] = 18"
      ],
      "execution_count": 3,
      "outputs": []
    },
    {
      "cell_type": "markdown",
      "metadata": {
        "id": "IzXsW1M7gW5e"
      },
      "source": [
        "### Carregando o dataset"
      ]
    },
    {
      "cell_type": "code",
      "metadata": {
        "id": "3BA-o9eLgW5g"
      },
      "source": [
        "dados = pd.read_csv('Bicicletas.csv')"
      ],
      "execution_count": 7,
      "outputs": []
    },
    {
      "cell_type": "markdown",
      "metadata": {
        "id": "BvPWaQwCgW5h"
      },
      "source": [
        "### Conhecendo a base de dados"
      ]
    },
    {
      "cell_type": "code",
      "metadata": {
        "id": "AEuycx2fgW5i",
        "colab": {
          "base_uri": "https://localhost:8080/",
          "height": 195
        },
        "outputId": "59cc72f2-8039-456a-caad-5a255bdf5fcc"
      },
      "source": [
        "dados.head()"
      ],
      "execution_count": 8,
      "outputs": [
        {
          "output_type": "execute_result",
          "data": {
            "text/html": [
              "<div>\n",
              "<style scoped>\n",
              "    .dataframe tbody tr th:only-of-type {\n",
              "        vertical-align: middle;\n",
              "    }\n",
              "\n",
              "    .dataframe tbody tr th {\n",
              "        vertical-align: top;\n",
              "    }\n",
              "\n",
              "    .dataframe thead th {\n",
              "        text-align: right;\n",
              "    }\n",
              "</style>\n",
              "<table border=\"1\" class=\"dataframe\">\n",
              "  <thead>\n",
              "    <tr style=\"text-align: right;\">\n",
              "      <th></th>\n",
              "      <th>clima</th>\n",
              "      <th>temperatura</th>\n",
              "      <th>bicicletas_alugadas</th>\n",
              "    </tr>\n",
              "  </thead>\n",
              "  <tbody>\n",
              "    <tr>\n",
              "      <th>0</th>\n",
              "      <td>2</td>\n",
              "      <td>0.363625</td>\n",
              "      <td>985</td>\n",
              "    </tr>\n",
              "    <tr>\n",
              "      <th>1</th>\n",
              "      <td>2</td>\n",
              "      <td>0.353739</td>\n",
              "      <td>801</td>\n",
              "    </tr>\n",
              "    <tr>\n",
              "      <th>2</th>\n",
              "      <td>1</td>\n",
              "      <td>0.189405</td>\n",
              "      <td>1349</td>\n",
              "    </tr>\n",
              "    <tr>\n",
              "      <th>3</th>\n",
              "      <td>1</td>\n",
              "      <td>0.212122</td>\n",
              "      <td>1562</td>\n",
              "    </tr>\n",
              "    <tr>\n",
              "      <th>4</th>\n",
              "      <td>1</td>\n",
              "      <td>0.229270</td>\n",
              "      <td>1600</td>\n",
              "    </tr>\n",
              "  </tbody>\n",
              "</table>\n",
              "</div>"
            ],
            "text/plain": [
              "   clima  temperatura  bicicletas_alugadas\n",
              "0      2     0.363625                  985\n",
              "1      2     0.353739                  801\n",
              "2      1     0.189405                 1349\n",
              "3      1     0.212122                 1562\n",
              "4      1     0.229270                 1600"
            ]
          },
          "metadata": {
            "tags": []
          },
          "execution_count": 8
        }
      ]
    },
    {
      "cell_type": "code",
      "metadata": {
        "id": "2cLTnqejgW5k",
        "colab": {
          "base_uri": "https://localhost:8080/"
        },
        "outputId": "c6012331-139a-4418-acc5-c724c112d0aa"
      },
      "source": [
        "dados.shape"
      ],
      "execution_count": 10,
      "outputs": [
        {
          "output_type": "execute_result",
          "data": {
            "text/plain": [
              "(731, 3)"
            ]
          },
          "metadata": {
            "tags": []
          },
          "execution_count": 10
        }
      ]
    },
    {
      "cell_type": "code",
      "metadata": {
        "id": "qv7wM2gegW5l",
        "colab": {
          "base_uri": "https://localhost:8080/",
          "height": 421
        },
        "outputId": "adcedfb4-6055-454a-8c95-4fba86fe102c"
      },
      "source": [
        "plt.scatter(dados['temperatura'],dados['bicicletas_alugadas'])\n",
        "plt.ylabel('bicicletas_alugadas')\n",
        "plt.xlabel('temperatura')\n",
        "plt.show()"
      ],
      "execution_count": 9,
      "outputs": [
        {
          "output_type": "execute_result",
          "data": {
            "text/plain": [
              "Text(0.5, 0, 'temperatura')"
            ]
          },
          "metadata": {
            "tags": []
          },
          "execution_count": 9
        },
        {
          "output_type": "display_data",
          "data": {
            "image/png": "[encoded data removed]",
            "text/plain": [
              "<Figure size 720x432 with 1 Axes>"
            ]
          },
          "metadata": {
            "tags": [],
            "needs_background": "light"
          }
        }
      ]
    },
    {
      "cell_type": "code",
      "metadata": {
        "id": "wnPVUUEqgW5n",
        "colab": {
          "base_uri": "https://localhost:8080/",
          "height": 402
        },
        "outputId": "c858a85f-8ae6-482d-cbf5-8b9c24b47ad7"
      },
      "source": [
        "plt.scatter(dados['clima'],dados['bicicletas_alugadas'])\n",
        "plt.ylabel('bicicletas_alugadas')\n",
        "plt.xlabel('clima')\n",
        "plt.rcParams.update({'font.size': 22})\n",
        "indice=[1,2,3]\n",
        "plt.xticks(indice, fontsize=14)\n",
        "plt.show()"
      ],
      "execution_count": 12,
      "outputs": [
        {
          "output_type": "display_data",
          "data": {
            "image/png": "[encoded data removed]",
            "text/plain": [
              "<Figure size 720x432 with 1 Axes>"
            ]
          },
          "metadata": {
            "tags": [],
            "needs_background": "light"
          }
        }
      ]
    },
    {
      "cell_type": "markdown",
      "metadata": {
        "id": "NNjKGECbgW5n"
      },
      "source": [
        "### Normalizando a base de dados"
      ]
    },
    {
      "cell_type": "code",
      "metadata": {
        "id": "-89vVgmZgW5p"
      },
      "source": [
        "y = dados['bicicletas_alugadas'].values"
      ],
      "execution_count": 13,
      "outputs": []
    },
    {
      "cell_type": "code",
      "metadata": {
        "id": "s_sxA4oOgW5p",
        "colab": {
          "base_uri": "https://localhost:8080/"
        },
        "outputId": "fea47d9e-c4f2-478d-e0d8-90a808364e00"
      },
      "source": [
        "X = dados[['clima','temperatura']].values\n",
        "print(X)"
      ],
      "execution_count": 14,
      "outputs": [
        {
          "output_type": "stream",
          "text": [
            "[[2.       0.363625]\n",
            " [2.       0.353739]\n",
            " [1.       0.189405]\n",
            " ...\n",
            " [2.       0.2424  ]\n",
            " [1.       0.2317  ]\n",
            " [2.       0.223487]]\n"
          ],
          "name": "stdout"
        }
      ]
    },
    {
      "cell_type": "code",
      "metadata": {
        "id": "Sf48I3tvgW5q",
        "colab": {
          "base_uri": "https://localhost:8080/"
        },
        "outputId": "dd73df11-d106-4e72-e396-875c7e30b431"
      },
      "source": [
        "X = X/np.amax(X,axis=0)\n",
        "print(X)"
      ],
      "execution_count": 15,
      "outputs": [
        {
          "output_type": "stream",
          "text": [
            "[[0.66666667 0.43242565]\n",
            " [0.66666667 0.42066914]\n",
            " [0.33333333 0.22524188]\n",
            " ...\n",
            " [0.66666667 0.28826395]\n",
            " [0.33333333 0.27553942]\n",
            " [0.66666667 0.26577246]]\n"
          ],
          "name": "stdout"
        }
      ]
    },
    {
      "cell_type": "code",
      "metadata": {
        "id": "o6P5-IUpgW5r",
        "colab": {
          "base_uri": "https://localhost:8080/"
        },
        "outputId": "505f50cd-c1ae-4d21-a5e5-36620877baf7"
      },
      "source": [
        "ymax=np.amax(y)\n",
        "y = y/ymax\n",
        "print(y[0:10])"
      ],
      "execution_count": 16,
      "outputs": [
        {
          "output_type": "stream",
          "text": [
            "[0.11303649 0.09192105 0.15480835 0.17925178 0.18361258 0.18430112\n",
            " 0.17328437 0.11005279 0.09433096 0.15159513]\n"
          ],
          "name": "stdout"
        }
      ]
    },
    {
      "cell_type": "markdown",
      "metadata": {
        "id": "P65Py_tMgW5s"
      },
      "source": [
        "### Funções de ativação"
      ]
    },
    {
      "cell_type": "code",
      "metadata": {
        "id": "QdI-VCyXgW5s"
      },
      "source": [
        "def sigmoid(Soma):\n",
        "    return 1/(1+np.exp(-Soma))\n",
        "\n",
        "def relu(Soma):\n",
        "    return np.maximum(0,Soma)"
      ],
      "execution_count": 17,
      "outputs": []
    },
    {
      "cell_type": "markdown",
      "metadata": {
        "id": "sniKD5w7gW5t"
      },
      "source": [
        "### Criando a estrutura da rede"
      ]
    },
    {
      "cell_type": "code",
      "metadata": {
        "id": "ryYHv-BLgW5t"
      },
      "source": [
        "arquitetura = [\n",
        "    {\"dim_entrada\": 2, \"dim_saida\": 50, \"ativacao\": \"relu\"},\n",
        "    {\"dim_entrada\": 50, \"dim_saida\": 1, \"ativacao\": \"sigmoid\"},\n",
        "]"
      ],
      "execution_count": 18,
      "outputs": []
    },
    {
      "cell_type": "markdown",
      "metadata": {
        "id": "lTz8OukmgW5u"
      },
      "source": [
        "### Pesos e viés"
      ]
    },
    {
      "cell_type": "code",
      "metadata": {
        "id": "YfHWwXAAgW5u"
      },
      "source": [
        "def inicia_camadas(arquitetura, seed = 99):\n",
        "    # inicia os valores aleatórios\n",
        "    np.random.seed(seed)\n",
        "    # numero de camadas da rede neural\n",
        "    numero_de_camadas = len(arquitetura)\n",
        "    # inicia armazenamento de parametros\n",
        "    valores_parametros = {}\n",
        "    \n",
        "    # itera nas camadas da rede\n",
        "    for indice, camada in enumerate(arquitetura):\n",
        "        \n",
        "        indice_camada = indice + 1\n",
        "        \n",
        "        # extrai o numero de nodos nas camadas\n",
        "        tamanho_camada_entrada = camada[\"dim_entrada\"]\n",
        "        tamanho_camada_saida = camada[\"dim_saida\"]\n",
        "        \n",
        "        # inicia os valores na matriz de pesos P\n",
        "        # e o vetor de viés ou bias b\n",
        "        valores_parametros['P' + str(indice_camada)] = np.random.randn(\n",
        "            tamanho_camada_saida, tamanho_camada_entrada)  * 0.1\n",
        "        valores_parametros['b' + str(indice_camada)] = np.random.randn(\n",
        "            tamanho_camada_saida, 1) * 0.1\n",
        "        \n",
        "    return valores_parametros"
      ],
      "execution_count": 20,
      "outputs": []
    },
    {
      "cell_type": "markdown",
      "metadata": {
        "id": "pPZeYwVsgW5v"
      },
      "source": [
        "### Propagação da rede"
      ]
    },
    {
      "cell_type": "code",
      "metadata": {
        "id": "fM8Y38ncgW5w"
      },
      "source": [
        "def propaga_uma_camada(Ativado_anterior, Pesos_atual, b_atual, ativacao=\"relu\"):\n",
        "    # cálculo da entrada para a função de ativação\n",
        "    Saida_atual = np.dot(Pesos_atual, Ativado_anterior) + b_atual\n",
        "    \n",
        "    # selecção da função de ativação\n",
        "    if ativacao is \"relu\":\n",
        "        func_ativacao = relu\n",
        "    elif ativacao is \"sigmoid\":\n",
        "        func_ativacao = sigmoid\n",
        "    else:\n",
        "        raise Exception('Ainda não implementamos essa funcao')\n",
        "        \n",
        "    # retorna a ativação calculada Ativado_atual e a matriz intermediária Saida\n",
        "    return func_ativacao(Saida_atual), Saida_atual"
      ],
      "execution_count": 21,
      "outputs": []
    },
    {
      "cell_type": "code",
      "metadata": {
        "id": "3_XBsb5XgW5w"
      },
      "source": [
        "def propaga_total(X, valores_parametros, arquitetura):\n",
        "    # memoria temporaria para a retropropagacao\n",
        "    memoria = {}\n",
        "    # O vetor X é a ativação para a camada 0 \n",
        "    Ativado_atual = X\n",
        "    \n",
        "    # iterações para as camadas\n",
        "    for indice, camada in enumerate(arquitetura):\n",
        "        # a numeração das camadas começa de 1\n",
        "        indice_camada = indice + 1\n",
        "        # utiliza a ativação da iteração anterior\n",
        "        Ativado_anterior = Ativado_atual\n",
        "        \n",
        "        # extrai a função de ativação para a camada atual\n",
        "        func_ativacao_atual = camada[\"ativacao\"]\n",
        "        # extrai os pesos da camada atual\n",
        "        Pesos_atual = valores_parametros[\"P\" + str(indice_camada)]\n",
        "        # extrai o bias para a camada atual\n",
        "        b_atual = valores_parametros[\"b\" + str(indice_camada)]\n",
        "        # cálculo da ativação para a camada atual\n",
        "        Ativado_atual, Saida_atual = propaga_uma_camada(Ativado_anterior, Pesos_atual, b_atual, func_ativacao_atual)\n",
        "        \n",
        "        # salca os valores calculados na memória\n",
        "        memoria[\"A\" + str(indice)] = Ativado_anterior\n",
        "        memoria[\"Z\" + str(indice_camada)] = Saida_atual\n",
        "       \n",
        "    # retorna o vetor predito e um dicionário contendo os valores intermediários\n",
        "    return Ativado_atual, memoria"
      ],
      "execution_count": 22,
      "outputs": []
    },
    {
      "cell_type": "markdown",
      "metadata": {
        "id": "gv88gchngW5x"
      },
      "source": [
        "### Testando a rede"
      ]
    },
    {
      "cell_type": "code",
      "metadata": {
        "id": "YaXNXUvUgW5y"
      },
      "source": [
        "valores_parametros = inicia_camadas(arquitetura, seed = 99)\n",
        "y_estimado, memoria = propaga_total(np.transpose(X), valores_parametros, arquitetura)"
      ],
      "execution_count": 26,
      "outputs": []
    },
    {
      "cell_type": "code",
      "metadata": {
        "id": "wT8YY9qHgW5y",
        "colab": {
          "base_uri": "https://localhost:8080/"
        },
        "outputId": "1f6904dc-bf9f-4202-8ea8-746cf79230eb"
      },
      "source": [
        "y_estimado[0,0]*ymax"
      ],
      "execution_count": 27,
      "outputs": [
        {
          "output_type": "execute_result",
          "data": {
            "text/plain": [
              "4579.982967258466"
            ]
          },
          "metadata": {
            "tags": []
          },
          "execution_count": 27
        }
      ]
    },
    {
      "cell_type": "code",
      "metadata": {
        "id": "TEfr8T99gW5z",
        "colab": {
          "base_uri": "https://localhost:8080/"
        },
        "outputId": "91eb61a4-b4f5-4842-e31b-c6d5aaca849f"
      },
      "source": [
        "y[0]*ymax"
      ],
      "execution_count": 28,
      "outputs": [
        {
          "output_type": "execute_result",
          "data": {
            "text/plain": [
              "985.0000000000001"
            ]
          },
          "metadata": {
            "tags": []
          },
          "execution_count": 28
        }
      ]
    },
    {
      "cell_type": "markdown",
      "metadata": {
        "id": "CJ1RwoTUgW50"
      },
      "source": [
        "### Atualização dos pesos"
      ]
    },
    {
      "cell_type": "code",
      "metadata": {
        "id": "IhnrO6qtgW50"
      },
      "source": [
        "def atualiza(valores_parametros, gradidentes, arquitetura, taxa_aprendizagem):\n",
        "\n",
        "    # iterações pelas camadas\n",
        "    for indice_camada, camada in enumerate(arquitetura, 1):\n",
        "        valores_parametros[\"P\" + str(indice_camada)] -= taxa_aprendizagem * gradidentes[\"dP\" + str(indice_camada)]        \n",
        "        valores_parametros[\"b\" + str(indice_camada)] -= taxa_aprendizagem * gradidentes[\"db\" + str(indice_camada)]\n",
        "\n",
        "    return valores_parametros;"
      ],
      "execution_count": 29,
      "outputs": []
    },
    {
      "cell_type": "markdown",
      "metadata": {
        "id": "8bUWz9DkgW51"
      },
      "source": [
        "### Função de custo"
      ]
    },
    {
      "cell_type": "code",
      "metadata": {
        "id": "u9-mAqZ3gW51"
      },
      "source": [
        "def valor_de_custo(Y_predito, Y):\n",
        "    # numero_de_exemplos\n",
        "    m = Y_predito.shape[1]\n",
        "    \n",
        "    custo = -1 / m * (np.dot(Y, np.log(Y_predito).T) + np.dot(1 - Y, np.log(1 - Y_predito).T))\n",
        "    return np.squeeze(custo)"
      ],
      "execution_count": 30,
      "outputs": []
    },
    {
      "cell_type": "markdown",
      "metadata": {
        "id": "3AZYO5X7gW52"
      },
      "source": [
        "### Retropropagação"
      ]
    },
    {
      "cell_type": "code",
      "metadata": {
        "id": "7U_nSy-hgW52"
      },
      "source": [
        "def retropropagacao_total(Y_predito, Y, memoria, valores_parametros, arquitetura):\n",
        "   \n",
        "    gradientes = {}\n",
        "    \n",
        "    # numero de exemplos\n",
        "    #m = Y.shape[1]\n",
        "    # para garantir que os dois vetores tenham a mesma dimensão\n",
        "    Y = Y.reshape(Y_predito.shape)\n",
        "    \n",
        "    # inicia o algoritmo de gradiente descendente\n",
        "    dAtivado_anterior = - (np.divide(Y, Y_predito) - np.divide(1 - Y, 1 - Y_predito));\n",
        "    \n",
        "    for indice_camada_anterior, camada in reversed(list(enumerate(arquitetura))):\n",
        "        \n",
        "        indice_camada_atual = indice_camada_anterior + 1\n",
        "        # Função de ativação para a camada atual\n",
        "        \n",
        "        funcao_ativao_atual = camada[\"ativacao\"]\n",
        "        \n",
        "        dAtivado_atual = dAtivado_anterior\n",
        "        \n",
        "        Ativado_anterior = memoria[\"A\" + str(indice_camada_anterior)]\n",
        "        Saida_atual = memoria[\"Z\" + str(indice_camada_atual)]\n",
        "        \n",
        "        Pesos_atual = valores_parametros[\"P\" + str(indice_camada_atual)]\n",
        "        b_atual = valores_parametros[\"b\" + str(indice_camada_atual)]\n",
        "        \n",
        "        dAtivado_anterior, dPesos_atual, db_atual = retropropagacao_uma_camada(\n",
        "            dAtivado_atual, Pesos_atual, b_atual, Saida_atual, Ativado_anterior, funcao_ativao_atual)\n",
        "        \n",
        "        gradientes[\"dP\" + str(indice_camada_atual)] = dPesos_atual\n",
        "        gradientes[\"db\" + str(indice_camada_atual)] = db_atual\n",
        "    \n",
        "    return gradientes"
      ],
      "execution_count": 31,
      "outputs": []
    },
    {
      "cell_type": "code",
      "metadata": {
        "id": "hAKVf3CYgW53"
      },
      "source": [
        "def sigmoid_retro(dAtivado, Saida):\n",
        "    sig = sigmoid(Saida)\n",
        "    return dAtivado * sig * (1 - sig)\n",
        "\n",
        "def relu_retro(dAtivado, Saida):\n",
        "    dSaida = np.array(dAtivado, copy = True)\n",
        "    dSaida[Saida <= 0] = 0;\n",
        "    return dSaida;"
      ],
      "execution_count": 32,
      "outputs": []
    },
    {
      "cell_type": "code",
      "metadata": {
        "id": "VJIixPtdgW54"
      },
      "source": [
        "def retropropagacao_uma_camada(dAtivado_atual, Pesos_atual, b_atual, Saida_atual, Ativado_anterior, ativacao=\"relu\"):\n",
        "    # número de exemplos\n",
        "    m = Ativado_anterior.shape[1]\n",
        "    \n",
        "    # seleção função de ativação\n",
        "    if ativacao is \"relu\":\n",
        "        func_ativacao_retro = relu_retro\n",
        "    elif ativacao is \"sigmoid\":\n",
        "        func_ativacao_retro = sigmoid_retro\n",
        "    else:\n",
        "        raise Exception('Ainda não implementamos essa funcao')\n",
        "    \n",
        "    # derivada da função de ativação\n",
        "    dSaida_atual = func_ativacao_retro(dAtivado_atual, Saida_atual)\n",
        "    \n",
        "    # derivada da matriz de Pesos\n",
        "    dPesos_atual = np.dot(dSaida_atual, Ativado_anterior.T) / m\n",
        "    # derivada do vetor b\n",
        "    db_atual = np.sum(dSaida_atual, axis=1, keepdims=True) / m\n",
        "    # derivada da matriz A_anterior\n",
        "    dAtivado_anterior = np.dot(Pesos_atual.T, dSaida_atual)\n",
        "\n",
        "    return dAtivado_anterior, dPesos_atual, db_atual"
      ],
      "execution_count": 33,
      "outputs": []
    },
    {
      "cell_type": "markdown",
      "metadata": {
        "id": "bwvusM4HgW55"
      },
      "source": [
        "### Treinamento"
      ]
    },
    {
      "cell_type": "code",
      "metadata": {
        "id": "IXCUoOBzgW55"
      },
      "source": [
        "def treino(X, Y,X_teste,Y_teste, arquitetura, epocas, taxa_aprendizagem):\n",
        "    # Inicia os parâmetros da rede neural\n",
        "    valores_parametros = inicia_camadas(arquitetura, 2)\n",
        "    # Listas que vão guardar o progresso da aprendizagem da rede \n",
        "    historia_custo = []\n",
        "    historia_custo_teste = []\n",
        "   \n",
        "    \n",
        "    # Atualiza a cada época\n",
        "    for i in range(epocas):\n",
        "        # Propaga a rede - Foward propagation\n",
        "        Y_predito, memoria = propaga_total(X, valores_parametros, arquitetura)\n",
        "        \n",
        "        Y_predito_teste, memoria2 = propaga_total(X_teste, valores_parametros, \n",
        "                                                  arquitetura)\n",
        "        \n",
        "        # calcula as métricas e salva nas listas de história\n",
        "        custo = valor_de_custo(Y_predito, Y)\n",
        "        historia_custo.append(custo)\n",
        "        custo_teste = valor_de_custo(Y_predito_teste, Y_teste)\n",
        "        historia_custo_teste.append(custo_teste)\n",
        "        \n",
        "        \n",
        "        # Retropropagação - Backpropagation\n",
        "        gradientes = retropropagacao_total(Y_predito, Y, memoria, \n",
        "                                           valores_parametros, arquitetura)\n",
        "        # Atualiza os pesos\n",
        "        valores_parametros = atualiza(valores_parametros, gradientes, \n",
        "                                      arquitetura, taxa_aprendizagem)\n",
        "        \n",
        "        if(i % 50 == 0):\n",
        "            \n",
        "            print(\"Iteração: {:05} - custo: {:.5f} \".format(i, custo))\n",
        "            \n",
        "            \n",
        "    return valores_parametros, historia_custo, historia_custo_teste"
      ],
      "execution_count": 34,
      "outputs": []
    },
    {
      "cell_type": "code",
      "metadata": {
        "id": "wP3z4RlJgW57"
      },
      "source": [
        "from sklearn.model_selection import train_test_split\n",
        "X_treino, X_teste, y_treino, y_teste = train_test_split( X, y, test_size=0.43, random_state=42)"
      ],
      "execution_count": 36,
      "outputs": []
    },
    {
      "cell_type": "code",
      "metadata": {
        "id": "owQvtiHdgW58",
        "colab": {
          "base_uri": "https://localhost:8080/"
        },
        "outputId": "4845f7fd-fce3-462e-ccb4-ec053aef8fc0"
      },
      "source": [
        "# Treinamento\n",
        "valores_parametros, historia_custo, historia_custo_teste = treino(np.transpose(X_treino), np.transpose(y_treino.reshape((y_treino.shape[0], 1))), \n",
        "                                                                  np.transpose(X_teste), np.transpose(y_teste.reshape((y_teste.shape[0], 1))), \n",
        "                                                                  arquitetura, 20000, 0.01)"
      ],
      "execution_count": 37,
      "outputs": [
        {
          "output_type": "stream",
          "text": [
            "Iteração: 00000 - custo: 0.69396 \n",
            "Iteração: 00050 - custo: 0.69246 \n",
            "Iteração: 00100 - custo: 0.69136 \n",
            "Iteração: 00150 - custo: 0.69054 \n",
            "Iteração: 00200 - custo: 0.68991 \n",
            "Iteração: 00250 - custo: 0.68939 \n",
            "Iteração: 00300 - custo: 0.68894 \n",
            "Iteração: 00350 - custo: 0.68852 \n",
            "Iteração: 00400 - custo: 0.68812 \n",
            "Iteração: 00450 - custo: 0.68773 \n",
            "Iteração: 00500 - custo: 0.68735 \n",
            "Iteração: 00550 - custo: 0.68700 \n",
            "Iteração: 00600 - custo: 0.68667 \n",
            "Iteração: 00650 - custo: 0.68635 \n",
            "Iteração: 00700 - custo: 0.68605 \n",
            "Iteração: 00750 - custo: 0.68575 \n",
            "Iteração: 00800 - custo: 0.68545 \n",
            "Iteração: 00850 - custo: 0.68515 \n",
            "Iteração: 00900 - custo: 0.68485 \n",
            "Iteração: 00950 - custo: 0.68455 \n",
            "Iteração: 01000 - custo: 0.68424 \n",
            "Iteração: 01050 - custo: 0.68394 \n",
            "Iteração: 01100 - custo: 0.68363 \n",
            "Iteração: 01150 - custo: 0.68333 \n",
            "Iteração: 01200 - custo: 0.68302 \n",
            "Iteração: 01250 - custo: 0.68271 \n",
            "Iteração: 01300 - custo: 0.68239 \n",
            "Iteração: 01350 - custo: 0.68208 \n",
            "Iteração: 01400 - custo: 0.68176 \n",
            "Iteração: 01450 - custo: 0.68145 \n",
            "Iteração: 01500 - custo: 0.68113 \n",
            "Iteração: 01550 - custo: 0.68080 \n",
            "Iteração: 01600 - custo: 0.68048 \n",
            "Iteração: 01650 - custo: 0.68015 \n",
            "Iteração: 01700 - custo: 0.67982 \n",
            "Iteração: 01750 - custo: 0.67949 \n",
            "Iteração: 01800 - custo: 0.67915 \n",
            "Iteração: 01850 - custo: 0.67882 \n",
            "Iteração: 01900 - custo: 0.67848 \n",
            "Iteração: 01950 - custo: 0.67814 \n",
            "Iteração: 02000 - custo: 0.67779 \n",
            "Iteração: 02050 - custo: 0.67745 \n",
            "Iteração: 02100 - custo: 0.67710 \n",
            "Iteração: 02150 - custo: 0.67675 \n",
            "Iteração: 02200 - custo: 0.67640 \n",
            "Iteração: 02250 - custo: 0.67604 \n",
            "Iteração: 02300 - custo: 0.67568 \n",
            "Iteração: 02350 - custo: 0.67533 \n",
            "Iteração: 02400 - custo: 0.67497 \n",
            "Iteração: 02450 - custo: 0.67460 \n",
            "Iteração: 02500 - custo: 0.67424 \n",
            "Iteração: 02550 - custo: 0.67387 \n",
            "Iteração: 02600 - custo: 0.67351 \n",
            "Iteração: 02650 - custo: 0.67314 \n",
            "Iteração: 02700 - custo: 0.67277 \n",
            "Iteração: 02750 - custo: 0.67239 \n",
            "Iteração: 02800 - custo: 0.67202 \n",
            "Iteração: 02850 - custo: 0.67165 \n",
            "Iteração: 02900 - custo: 0.67127 \n",
            "Iteração: 02950 - custo: 0.67089 \n",
            "Iteração: 03000 - custo: 0.67052 \n",
            "Iteração: 03050 - custo: 0.67014 \n",
            "Iteração: 03100 - custo: 0.66976 \n",
            "Iteração: 03150 - custo: 0.66938 \n",
            "Iteração: 03200 - custo: 0.66900 \n",
            "Iteração: 03250 - custo: 0.66862 \n",
            "Iteração: 03300 - custo: 0.66824 \n",
            "Iteração: 03350 - custo: 0.66786 \n",
            "Iteração: 03400 - custo: 0.66747 \n",
            "Iteração: 03450 - custo: 0.66709 \n",
            "Iteração: 03500 - custo: 0.66671 \n",
            "Iteração: 03550 - custo: 0.66633 \n",
            "Iteração: 03600 - custo: 0.66595 \n",
            "Iteração: 03650 - custo: 0.66558 \n",
            "Iteração: 03700 - custo: 0.66520 \n",
            "Iteração: 03750 - custo: 0.66482 \n",
            "Iteração: 03800 - custo: 0.66445 \n",
            "Iteração: 03850 - custo: 0.66407 \n",
            "Iteração: 03900 - custo: 0.66370 \n",
            "Iteração: 03950 - custo: 0.66333 \n",
            "Iteração: 04000 - custo: 0.66296 \n",
            "Iteração: 04050 - custo: 0.66260 \n",
            "Iteração: 04100 - custo: 0.66223 \n",
            "Iteração: 04150 - custo: 0.66187 \n",
            "Iteração: 04200 - custo: 0.66152 \n",
            "Iteração: 04250 - custo: 0.66116 \n",
            "Iteração: 04300 - custo: 0.66081 \n",
            "Iteração: 04350 - custo: 0.66046 \n",
            "Iteração: 04400 - custo: 0.66011 \n",
            "Iteração: 04450 - custo: 0.65977 \n",
            "Iteração: 04500 - custo: 0.65943 \n",
            "Iteração: 04550 - custo: 0.65909 \n",
            "Iteração: 04600 - custo: 0.65876 \n",
            "Iteração: 04650 - custo: 0.65843 \n",
            "Iteração: 04700 - custo: 0.65810 \n",
            "Iteração: 04750 - custo: 0.65778 \n",
            "Iteração: 04800 - custo: 0.65746 \n",
            "Iteração: 04850 - custo: 0.65715 \n",
            "Iteração: 04900 - custo: 0.65684 \n",
            "Iteração: 04950 - custo: 0.65654 \n",
            "Iteração: 05000 - custo: 0.65624 \n",
            "Iteração: 05050 - custo: 0.65594 \n",
            "Iteração: 05100 - custo: 0.65565 \n",
            "Iteração: 05150 - custo: 0.65536 \n",
            "Iteração: 05200 - custo: 0.65508 \n",
            "Iteração: 05250 - custo: 0.65480 \n",
            "Iteração: 05300 - custo: 0.65452 \n",
            "Iteração: 05350 - custo: 0.65425 \n",
            "Iteração: 05400 - custo: 0.65398 \n",
            "Iteração: 05450 - custo: 0.65372 \n",
            "Iteração: 05500 - custo: 0.65347 \n",
            "Iteração: 05550 - custo: 0.65321 \n",
            "Iteração: 05600 - custo: 0.65297 \n",
            "Iteração: 05650 - custo: 0.65272 \n",
            "Iteração: 05700 - custo: 0.65248 \n",
            "Iteração: 05750 - custo: 0.65225 \n",
            "Iteração: 05800 - custo: 0.65202 \n",
            "Iteração: 05850 - custo: 0.65180 \n",
            "Iteração: 05900 - custo: 0.65157 \n",
            "Iteração: 05950 - custo: 0.65136 \n",
            "Iteração: 06000 - custo: 0.65114 \n",
            "Iteração: 06050 - custo: 0.65094 \n",
            "Iteração: 06100 - custo: 0.65074 \n",
            "Iteração: 06150 - custo: 0.65054 \n",
            "Iteração: 06200 - custo: 0.65034 \n",
            "Iteração: 06250 - custo: 0.65016 \n",
            "Iteração: 06300 - custo: 0.64998 \n",
            "Iteração: 06350 - custo: 0.64980 \n",
            "Iteração: 06400 - custo: 0.64962 \n",
            "Iteração: 06450 - custo: 0.64945 \n",
            "Iteração: 06500 - custo: 0.64929 \n",
            "Iteração: 06550 - custo: 0.64913 \n",
            "Iteração: 06600 - custo: 0.64897 \n",
            "Iteração: 06650 - custo: 0.64881 \n",
            "Iteração: 06700 - custo: 0.64866 \n",
            "Iteração: 06750 - custo: 0.64852 \n",
            "Iteração: 06800 - custo: 0.64837 \n",
            "Iteração: 06850 - custo: 0.64823 \n",
            "Iteração: 06900 - custo: 0.64809 \n",
            "Iteração: 06950 - custo: 0.64795 \n",
            "Iteração: 07000 - custo: 0.64781 \n",
            "Iteração: 07050 - custo: 0.64768 \n",
            "Iteração: 07100 - custo: 0.64754 \n",
            "Iteração: 07150 - custo: 0.64741 \n",
            "Iteração: 07200 - custo: 0.64728 \n",
            "Iteração: 07250 - custo: 0.64715 \n",
            "Iteração: 07300 - custo: 0.64703 \n",
            "Iteração: 07350 - custo: 0.64691 \n",
            "Iteração: 07400 - custo: 0.64679 \n",
            "Iteração: 07450 - custo: 0.64668 \n",
            "Iteração: 07500 - custo: 0.64657 \n",
            "Iteração: 07550 - custo: 0.64646 \n",
            "Iteração: 07600 - custo: 0.64636 \n",
            "Iteração: 07650 - custo: 0.64625 \n",
            "Iteração: 07700 - custo: 0.64616 \n",
            "Iteração: 07750 - custo: 0.64606 \n",
            "Iteração: 07800 - custo: 0.64597 \n",
            "Iteração: 07850 - custo: 0.64588 \n",
            "Iteração: 07900 - custo: 0.64579 \n",
            "Iteração: 07950 - custo: 0.64570 \n",
            "Iteração: 08000 - custo: 0.64562 \n",
            "Iteração: 08050 - custo: 0.64554 \n",
            "Iteração: 08100 - custo: 0.64546 \n",
            "Iteração: 08150 - custo: 0.64539 \n",
            "Iteração: 08200 - custo: 0.64532 \n",
            "Iteração: 08250 - custo: 0.64524 \n",
            "Iteração: 08300 - custo: 0.64517 \n",
            "Iteração: 08350 - custo: 0.64511 \n",
            "Iteração: 08400 - custo: 0.64504 \n",
            "Iteração: 08450 - custo: 0.64497 \n",
            "Iteração: 08500 - custo: 0.64491 \n",
            "Iteração: 08550 - custo: 0.64485 \n",
            "Iteração: 08600 - custo: 0.64479 \n",
            "Iteração: 08650 - custo: 0.64473 \n",
            "Iteração: 08700 - custo: 0.64468 \n",
            "Iteração: 08750 - custo: 0.64462 \n",
            "Iteração: 08800 - custo: 0.64457 \n",
            "Iteração: 08850 - custo: 0.64452 \n",
            "Iteração: 08900 - custo: 0.64447 \n",
            "Iteração: 08950 - custo: 0.64442 \n",
            "Iteração: 09000 - custo: 0.64437 \n",
            "Iteração: 09050 - custo: 0.64433 \n",
            "Iteração: 09100 - custo: 0.64428 \n",
            "Iteração: 09150 - custo: 0.64424 \n",
            "Iteração: 09200 - custo: 0.64419 \n",
            "Iteração: 09250 - custo: 0.64415 \n",
            "Iteração: 09300 - custo: 0.64411 \n",
            "Iteração: 09350 - custo: 0.64407 \n",
            "Iteração: 09400 - custo: 0.64403 \n",
            "Iteração: 09450 - custo: 0.64399 \n",
            "Iteração: 09500 - custo: 0.64396 \n",
            "Iteração: 09550 - custo: 0.64392 \n",
            "Iteração: 09600 - custo: 0.64388 \n",
            "Iteração: 09650 - custo: 0.64385 \n",
            "Iteração: 09700 - custo: 0.64381 \n",
            "Iteração: 09750 - custo: 0.64378 \n",
            "Iteração: 09800 - custo: 0.64375 \n",
            "Iteração: 09850 - custo: 0.64372 \n",
            "Iteração: 09900 - custo: 0.64369 \n",
            "Iteração: 09950 - custo: 0.64366 \n",
            "Iteração: 10000 - custo: 0.64362 \n",
            "Iteração: 10050 - custo: 0.64359 \n",
            "Iteração: 10100 - custo: 0.64357 \n",
            "Iteração: 10150 - custo: 0.64354 \n",
            "Iteração: 10200 - custo: 0.64351 \n",
            "Iteração: 10250 - custo: 0.64348 \n",
            "Iteração: 10300 - custo: 0.64346 \n",
            "Iteração: 10350 - custo: 0.64343 \n",
            "Iteração: 10400 - custo: 0.64341 \n",
            "Iteração: 10450 - custo: 0.64339 \n",
            "Iteração: 10500 - custo: 0.64336 \n",
            "Iteração: 10550 - custo: 0.64334 \n",
            "Iteração: 10600 - custo: 0.64332 \n",
            "Iteração: 10650 - custo: 0.64330 \n",
            "Iteração: 10700 - custo: 0.64328 \n",
            "Iteração: 10750 - custo: 0.64326 \n",
            "Iteração: 10800 - custo: 0.64324 \n",
            "Iteração: 10850 - custo: 0.64322 \n",
            "Iteração: 10900 - custo: 0.64320 \n",
            "Iteração: 10950 - custo: 0.64318 \n",
            "Iteração: 11000 - custo: 0.64316 \n",
            "Iteração: 11050 - custo: 0.64314 \n",
            "Iteração: 11100 - custo: 0.64313 \n",
            "Iteração: 11150 - custo: 0.64311 \n",
            "Iteração: 11200 - custo: 0.64309 \n",
            "Iteração: 11250 - custo: 0.64308 \n",
            "Iteração: 11300 - custo: 0.64306 \n",
            "Iteração: 11350 - custo: 0.64305 \n",
            "Iteração: 11400 - custo: 0.64303 \n",
            "Iteração: 11450 - custo: 0.64302 \n",
            "Iteração: 11500 - custo: 0.64300 \n",
            "Iteração: 11550 - custo: 0.64299 \n",
            "Iteração: 11600 - custo: 0.64297 \n",
            "Iteração: 11650 - custo: 0.64296 \n",
            "Iteração: 11700 - custo: 0.64295 \n",
            "Iteração: 11750 - custo: 0.64293 \n",
            "Iteração: 11800 - custo: 0.64292 \n",
            "Iteração: 11850 - custo: 0.64291 \n",
            "Iteração: 11900 - custo: 0.64290 \n",
            "Iteração: 11950 - custo: 0.64289 \n",
            "Iteração: 12000 - custo: 0.64287 \n",
            "Iteração: 12050 - custo: 0.64286 \n",
            "Iteração: 12100 - custo: 0.64285 \n",
            "Iteração: 12150 - custo: 0.64284 \n",
            "Iteração: 12200 - custo: 0.64283 \n",
            "Iteração: 12250 - custo: 0.64282 \n",
            "Iteração: 12300 - custo: 0.64281 \n",
            "Iteração: 12350 - custo: 0.64280 \n",
            "Iteração: 12400 - custo: 0.64279 \n",
            "Iteração: 12450 - custo: 0.64278 \n",
            "Iteração: 12500 - custo: 0.64277 \n",
            "Iteração: 12550 - custo: 0.64276 \n",
            "Iteração: 12600 - custo: 0.64275 \n",
            "Iteração: 12650 - custo: 0.64274 \n",
            "Iteração: 12700 - custo: 0.64273 \n",
            "Iteração: 12750 - custo: 0.64272 \n",
            "Iteração: 12800 - custo: 0.64271 \n",
            "Iteração: 12850 - custo: 0.64271 \n",
            "Iteração: 12900 - custo: 0.64270 \n",
            "Iteração: 12950 - custo: 0.64269 \n",
            "Iteração: 13000 - custo: 0.64268 \n",
            "Iteração: 13050 - custo: 0.64267 \n",
            "Iteração: 13100 - custo: 0.64266 \n",
            "Iteração: 13150 - custo: 0.64266 \n",
            "Iteração: 13200 - custo: 0.64265 \n",
            "Iteração: 13250 - custo: 0.64264 \n",
            "Iteração: 13300 - custo: 0.64263 \n",
            "Iteração: 13350 - custo: 0.64263 \n",
            "Iteração: 13400 - custo: 0.64262 \n",
            "Iteração: 13450 - custo: 0.64261 \n",
            "Iteração: 13500 - custo: 0.64260 \n",
            "Iteração: 13550 - custo: 0.64260 \n",
            "Iteração: 13600 - custo: 0.64259 \n",
            "Iteração: 13650 - custo: 0.64258 \n",
            "Iteração: 13700 - custo: 0.64257 \n",
            "Iteração: 13750 - custo: 0.64256 \n",
            "Iteração: 13800 - custo: 0.64255 \n",
            "Iteração: 13850 - custo: 0.64254 \n",
            "Iteração: 13900 - custo: 0.64253 \n",
            "Iteração: 13950 - custo: 0.64252 \n",
            "Iteração: 14000 - custo: 0.64251 \n",
            "Iteração: 14050 - custo: 0.64250 \n",
            "Iteração: 14100 - custo: 0.64249 \n",
            "Iteração: 14150 - custo: 0.64248 \n",
            "Iteração: 14200 - custo: 0.64248 \n",
            "Iteração: 14250 - custo: 0.64247 \n",
            "Iteração: 14300 - custo: 0.64246 \n",
            "Iteração: 14350 - custo: 0.64245 \n",
            "Iteração: 14400 - custo: 0.64245 \n",
            "Iteração: 14450 - custo: 0.64244 \n",
            "Iteração: 14500 - custo: 0.64243 \n",
            "Iteração: 14550 - custo: 0.64243 \n",
            "Iteração: 14600 - custo: 0.64242 \n",
            "Iteração: 14650 - custo: 0.64241 \n",
            "Iteração: 14700 - custo: 0.64241 \n",
            "Iteração: 14750 - custo: 0.64240 \n",
            "Iteração: 14800 - custo: 0.64239 \n",
            "Iteração: 14850 - custo: 0.64239 \n",
            "Iteração: 14900 - custo: 0.64238 \n",
            "Iteração: 14950 - custo: 0.64237 \n",
            "Iteração: 15000 - custo: 0.64237 \n",
            "Iteração: 15050 - custo: 0.64236 \n",
            "Iteração: 15100 - custo: 0.64235 \n",
            "Iteração: 15150 - custo: 0.64235 \n",
            "Iteração: 15200 - custo: 0.64234 \n",
            "Iteração: 15250 - custo: 0.64233 \n",
            "Iteração: 15300 - custo: 0.64233 \n",
            "Iteração: 15350 - custo: 0.64232 \n",
            "Iteração: 15400 - custo: 0.64231 \n",
            "Iteração: 15450 - custo: 0.64231 \n",
            "Iteração: 15500 - custo: 0.64230 \n",
            "Iteração: 15550 - custo: 0.64230 \n",
            "Iteração: 15600 - custo: 0.64229 \n",
            "Iteração: 15650 - custo: 0.64228 \n",
            "Iteração: 15700 - custo: 0.64228 \n",
            "Iteração: 15750 - custo: 0.64227 \n",
            "Iteração: 15800 - custo: 0.64227 \n",
            "Iteração: 15850 - custo: 0.64226 \n",
            "Iteração: 15900 - custo: 0.64226 \n",
            "Iteração: 15950 - custo: 0.64225 \n",
            "Iteração: 16000 - custo: 0.64224 \n",
            "Iteração: 16050 - custo: 0.64224 \n",
            "Iteração: 16100 - custo: 0.64223 \n",
            "Iteração: 16150 - custo: 0.64222 \n",
            "Iteração: 16200 - custo: 0.64222 \n",
            "Iteração: 16250 - custo: 0.64221 \n",
            "Iteração: 16300 - custo: 0.64220 \n",
            "Iteração: 16350 - custo: 0.64220 \n",
            "Iteração: 16400 - custo: 0.64219 \n",
            "Iteração: 16450 - custo: 0.64218 \n",
            "Iteração: 16500 - custo: 0.64218 \n",
            "Iteração: 16550 - custo: 0.64217 \n",
            "Iteração: 16600 - custo: 0.64217 \n",
            "Iteração: 16650 - custo: 0.64216 \n",
            "Iteração: 16700 - custo: 0.64215 \n",
            "Iteração: 16750 - custo: 0.64215 \n",
            "Iteração: 16800 - custo: 0.64214 \n",
            "Iteração: 16850 - custo: 0.64213 \n",
            "Iteração: 16900 - custo: 0.64213 \n",
            "Iteração: 16950 - custo: 0.64212 \n",
            "Iteração: 17000 - custo: 0.64211 \n",
            "Iteração: 17050 - custo: 0.64211 \n",
            "Iteração: 17100 - custo: 0.64210 \n",
            "Iteração: 17150 - custo: 0.64210 \n",
            "Iteração: 17200 - custo: 0.64209 \n",
            "Iteração: 17250 - custo: 0.64208 \n",
            "Iteração: 17300 - custo: 0.64208 \n",
            "Iteração: 17350 - custo: 0.64207 \n",
            "Iteração: 17400 - custo: 0.64206 \n",
            "Iteração: 17450 - custo: 0.64206 \n",
            "Iteração: 17500 - custo: 0.64205 \n",
            "Iteração: 17550 - custo: 0.64205 \n",
            "Iteração: 17600 - custo: 0.64204 \n",
            "Iteração: 17650 - custo: 0.64203 \n",
            "Iteração: 17700 - custo: 0.64203 \n",
            "Iteração: 17750 - custo: 0.64202 \n",
            "Iteração: 17800 - custo: 0.64202 \n",
            "Iteração: 17850 - custo: 0.64201 \n",
            "Iteração: 17900 - custo: 0.64200 \n",
            "Iteração: 17950 - custo: 0.64200 \n",
            "Iteração: 18000 - custo: 0.64199 \n",
            "Iteração: 18050 - custo: 0.64199 \n",
            "Iteração: 18100 - custo: 0.64198 \n",
            "Iteração: 18150 - custo: 0.64197 \n",
            "Iteração: 18200 - custo: 0.64197 \n",
            "Iteração: 18250 - custo: 0.64196 \n",
            "Iteração: 18300 - custo: 0.64196 \n",
            "Iteração: 18350 - custo: 0.64195 \n",
            "Iteração: 18400 - custo: 0.64195 \n",
            "Iteração: 18450 - custo: 0.64194 \n",
            "Iteração: 18500 - custo: 0.64193 \n",
            "Iteração: 18550 - custo: 0.64193 \n",
            "Iteração: 18600 - custo: 0.64192 \n",
            "Iteração: 18650 - custo: 0.64192 \n",
            "Iteração: 18700 - custo: 0.64191 \n",
            "Iteração: 18750 - custo: 0.64191 \n",
            "Iteração: 18800 - custo: 0.64190 \n",
            "Iteração: 18850 - custo: 0.64190 \n",
            "Iteração: 18900 - custo: 0.64189 \n",
            "Iteração: 18950 - custo: 0.64189 \n",
            "Iteração: 19000 - custo: 0.64188 \n",
            "Iteração: 19050 - custo: 0.64187 \n",
            "Iteração: 19100 - custo: 0.64187 \n",
            "Iteração: 19150 - custo: 0.64186 \n",
            "Iteração: 19200 - custo: 0.64186 \n",
            "Iteração: 19250 - custo: 0.64185 \n",
            "Iteração: 19300 - custo: 0.64185 \n",
            "Iteração: 19350 - custo: 0.64185 \n",
            "Iteração: 19400 - custo: 0.64184 \n",
            "Iteração: 19450 - custo: 0.64184 \n",
            "Iteração: 19500 - custo: 0.64183 \n",
            "Iteração: 19550 - custo: 0.64183 \n",
            "Iteração: 19600 - custo: 0.64182 \n",
            "Iteração: 19650 - custo: 0.64182 \n",
            "Iteração: 19700 - custo: 0.64181 \n",
            "Iteração: 19750 - custo: 0.64181 \n",
            "Iteração: 19800 - custo: 0.64180 \n",
            "Iteração: 19850 - custo: 0.64180 \n",
            "Iteração: 19900 - custo: 0.64179 \n",
            "Iteração: 19950 - custo: 0.64179 \n"
          ],
          "name": "stdout"
        }
      ]
    },
    {
      "cell_type": "code",
      "metadata": {
        "id": "wz-elIXIgW58",
        "colab": {
          "base_uri": "https://localhost:8080/",
          "height": 412
        },
        "outputId": "dd32b288-0922-464f-cf4c-f684641818fa"
      },
      "source": [
        "plt.plot(historia_custo)\n",
        "plt.plot(historia_custo_teste, 'r')\n",
        "plt.legend(['Treinamento','Teste'])\n",
        "plt.ylabel('Custo')\n",
        "plt.xlabel('Épocas')\n",
        "plt.show()"
      ],
      "execution_count": 38,
      "outputs": [
        {
          "output_type": "display_data",
          "data": {
            "image/png": "[encoded data removed]",
            "text/plain": [
              "<Figure size 720x432 with 1 Axes>"
            ]
          },
          "metadata": {
            "tags": [],
            "needs_background": "light"
          }
        }
      ]
    },
    {
      "cell_type": "markdown",
      "metadata": {
        "id": "8Lyfz-zpgW5-"
      },
      "source": [
        "### Fazendo Previsões"
      ]
    },
    {
      "cell_type": "code",
      "metadata": {
        "id": "9G2mB8DugW5-"
      },
      "source": [
        "Y_pred, _ = propaga_total(np.transpose(X_teste), valores_parametros, arquitetura)"
      ],
      "execution_count": 39,
      "outputs": []
    },
    {
      "cell_type": "code",
      "metadata": {
        "id": "kZH1ZCnugW5_",
        "colab": {
          "base_uri": "https://localhost:8080/",
          "height": 408
        },
        "outputId": "1e75e55c-4945-4ba5-9918-7674b6960770"
      },
      "source": [
        "plt.plot(np.transpose(X_teste)[1],ymax*y_teste,'.')\n",
        "plt.plot(np.transpose(X_teste)[1],ymax*Y_pred.reshape([-1,1]),'.r')\n",
        "plt.legend(['Reais','Preditos'])\n",
        "plt.ylabel('bicicletas_alugadas')\n",
        "plt.xlabel('temperatura')\n",
        "plt.show()"
      ],
      "execution_count": 40,
      "outputs": [
        {
          "output_type": "display_data",
          "data": {
            "image/png": "[encoded data removed]",
            "text/plain": [
              "<Figure size 720x432 with 1 Axes>"
            ]
          },
          "metadata": {
            "tags": [],
            "needs_background": "light"
          }
        }
      ]
    },
    {
      "cell_type": "code",
      "metadata": {
        "id": "s1dArS4QgW6A",
        "colab": {
          "base_uri": "https://localhost:8080/",
          "height": 402
        },
        "outputId": "027650b3-2063-40c8-dcb0-cbba359d762a"
      },
      "source": [
        "plt.plot(3*np.transpose(X_teste)[0],ymax*y_teste,'.')\n",
        "plt.plot(3*np.transpose(X_teste)[0],ymax*Y_pred.reshape([-1,1]),'.r')\n",
        "plt.legend(['Reais','Preditos'])\n",
        "plt.ylabel('bicicletas_alugadas')\n",
        "plt.xlabel('clima')\n",
        "plt.rcParams.update({'font.size': 22})\n",
        "indice=[1,2,3]\n",
        "plt.xticks(indice, fontsize=14)\n",
        "plt.show()"
      ],
      "execution_count": 41,
      "outputs": [
        {
          "output_type": "display_data",
          "data": {
            "image/png": "[encoded data removed]",
            "text/plain": [
              "<Figure size 720x432 with 1 Axes>"
            ]
          },
          "metadata": {
            "tags": [],
            "needs_background": "light"
          }
        }
      ]
    }
  ]
}