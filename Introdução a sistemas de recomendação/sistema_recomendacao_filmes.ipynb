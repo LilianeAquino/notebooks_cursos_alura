{
 "cells": [
  {
   "cell_type": "markdown",
   "metadata": {},
   "source": [
    "# Introdução a sistemas de recomendação"
   ]
  },
  {
   "cell_type": "markdown",
   "metadata": {},
   "source": [
    "### Bibliotecas básicas"
   ]
  },
  {
   "cell_type": "code",
   "execution_count": 1,
   "metadata": {
    "ExecuteTime": {
     "end_time": "2021-04-25T13:42:08.680129Z",
     "start_time": "2021-04-25T13:42:07.729600Z"
    }
   },
   "outputs": [],
   "source": [
    "import pandas as pd\n",
    "import numpy as np\n",
    "import seaborn as sns\n",
    "import matplotlib.pyplot as plt\n",
    "%matplotlib inline"
   ]
  },
  {
   "cell_type": "markdown",
   "metadata": {},
   "source": [
    "### Carregamento dos dados"
   ]
  },
  {
   "cell_type": "code",
   "execution_count": 2,
   "metadata": {
    "ExecuteTime": {
     "end_time": "2021-04-25T13:42:08.737054Z",
     "start_time": "2021-04-25T13:42:08.683944Z"
    }
   },
   "outputs": [
    {
     "name": "stdout",
     "output_type": "stream",
     "text": [
      "(9742, 3)\n"
     ]
    },
    {
     "data": {
      "text/html": [
       "<div>\n",
       "<style scoped>\n",
       "    .dataframe tbody tr th:only-of-type {\n",
       "        vertical-align: middle;\n",
       "    }\n",
       "\n",
       "    .dataframe tbody tr th {\n",
       "        vertical-align: top;\n",
       "    }\n",
       "\n",
       "    .dataframe thead th {\n",
       "        text-align: right;\n",
       "    }\n",
       "</style>\n",
       "<table border=\"1\" class=\"dataframe\">\n",
       "  <thead>\n",
       "    <tr style=\"text-align: right;\">\n",
       "      <th></th>\n",
       "      <th>filmeId</th>\n",
       "      <th>titulo</th>\n",
       "      <th>generos</th>\n",
       "    </tr>\n",
       "  </thead>\n",
       "  <tbody>\n",
       "    <tr>\n",
       "      <th>0</th>\n",
       "      <td>1</td>\n",
       "      <td>Toy Story (1995)</td>\n",
       "      <td>Adventure|Animation|Children|Comedy|Fantasy</td>\n",
       "    </tr>\n",
       "    <tr>\n",
       "      <th>1</th>\n",
       "      <td>2</td>\n",
       "      <td>Jumanji (1995)</td>\n",
       "      <td>Adventure|Children|Fantasy</td>\n",
       "    </tr>\n",
       "    <tr>\n",
       "      <th>2</th>\n",
       "      <td>3</td>\n",
       "      <td>Grumpier Old Men (1995)</td>\n",
       "      <td>Comedy|Romance</td>\n",
       "    </tr>\n",
       "    <tr>\n",
       "      <th>3</th>\n",
       "      <td>4</td>\n",
       "      <td>Waiting to Exhale (1995)</td>\n",
       "      <td>Comedy|Drama|Romance</td>\n",
       "    </tr>\n",
       "    <tr>\n",
       "      <th>4</th>\n",
       "      <td>5</td>\n",
       "      <td>Father of the Bride Part II (1995)</td>\n",
       "      <td>Comedy</td>\n",
       "    </tr>\n",
       "  </tbody>\n",
       "</table>\n",
       "</div>"
      ],
      "text/plain": [
       "   filmeId                              titulo  \\\n",
       "0        1                    Toy Story (1995)   \n",
       "1        2                      Jumanji (1995)   \n",
       "2        3             Grumpier Old Men (1995)   \n",
       "3        4            Waiting to Exhale (1995)   \n",
       "4        5  Father of the Bride Part II (1995)   \n",
       "\n",
       "                                       generos  \n",
       "0  Adventure|Animation|Children|Comedy|Fantasy  \n",
       "1                   Adventure|Children|Fantasy  \n",
       "2                               Comedy|Romance  \n",
       "3                         Comedy|Drama|Romance  \n",
       "4                                       Comedy  "
      ]
     },
     "execution_count": 2,
     "metadata": {},
     "output_type": "execute_result"
    }
   ],
   "source": [
    "filmes = pd.read_csv('./dataset/movies.csv')\n",
    "filmes.columns = ['filmeId', 'titulo', 'generos']\n",
    "print(filmes.shape)\n",
    "filmes.head()"
   ]
  },
  {
   "cell_type": "code",
   "execution_count": 3,
   "metadata": {
    "ExecuteTime": {
     "end_time": "2021-04-25T13:42:08.948586Z",
     "start_time": "2021-04-25T13:42:08.740313Z"
    }
   },
   "outputs": [
    {
     "name": "stdout",
     "output_type": "stream",
     "text": [
      "(100836, 4)\n"
     ]
    },
    {
     "data": {
      "text/html": [
       "<div>\n",
       "<style scoped>\n",
       "    .dataframe tbody tr th:only-of-type {\n",
       "        vertical-align: middle;\n",
       "    }\n",
       "\n",
       "    .dataframe tbody tr th {\n",
       "        vertical-align: top;\n",
       "    }\n",
       "\n",
       "    .dataframe thead th {\n",
       "        text-align: right;\n",
       "    }\n",
       "</style>\n",
       "<table border=\"1\" class=\"dataframe\">\n",
       "  <thead>\n",
       "    <tr style=\"text-align: right;\">\n",
       "      <th></th>\n",
       "      <th>usuarioId</th>\n",
       "      <th>filmeId</th>\n",
       "      <th>nota</th>\n",
       "      <th>momento</th>\n",
       "    </tr>\n",
       "  </thead>\n",
       "  <tbody>\n",
       "    <tr>\n",
       "      <th>0</th>\n",
       "      <td>1</td>\n",
       "      <td>1</td>\n",
       "      <td>4.0</td>\n",
       "      <td>964982703</td>\n",
       "    </tr>\n",
       "    <tr>\n",
       "      <th>1</th>\n",
       "      <td>1</td>\n",
       "      <td>3</td>\n",
       "      <td>4.0</td>\n",
       "      <td>964981247</td>\n",
       "    </tr>\n",
       "    <tr>\n",
       "      <th>2</th>\n",
       "      <td>1</td>\n",
       "      <td>6</td>\n",
       "      <td>4.0</td>\n",
       "      <td>964982224</td>\n",
       "    </tr>\n",
       "    <tr>\n",
       "      <th>3</th>\n",
       "      <td>1</td>\n",
       "      <td>47</td>\n",
       "      <td>5.0</td>\n",
       "      <td>964983815</td>\n",
       "    </tr>\n",
       "    <tr>\n",
       "      <th>4</th>\n",
       "      <td>1</td>\n",
       "      <td>50</td>\n",
       "      <td>5.0</td>\n",
       "      <td>964982931</td>\n",
       "    </tr>\n",
       "  </tbody>\n",
       "</table>\n",
       "</div>"
      ],
      "text/plain": [
       "   usuarioId  filmeId  nota    momento\n",
       "0          1        1   4.0  964982703\n",
       "1          1        3   4.0  964981247\n",
       "2          1        6   4.0  964982224\n",
       "3          1       47   5.0  964983815\n",
       "4          1       50   5.0  964982931"
      ]
     },
     "execution_count": 3,
     "metadata": {},
     "output_type": "execute_result"
    }
   ],
   "source": [
    "notas = pd.read_csv('./dataset/ratings.csv')\n",
    "notas.columns = ['usuarioId', 'filmeId', 'nota', 'momento']\n",
    "print(notas.shape)\n",
    "notas.head()"
   ]
  },
  {
   "cell_type": "markdown",
   "metadata": {},
   "source": [
    "### Resumo das notas"
   ]
  },
  {
   "cell_type": "code",
   "execution_count": 4,
   "metadata": {
    "ExecuteTime": {
     "end_time": "2021-04-25T13:42:09.127096Z",
     "start_time": "2021-04-25T13:42:08.952325Z"
    }
   },
   "outputs": [
    {
     "data": {
      "text/html": [
       "<div>\n",
       "<style scoped>\n",
       "    .dataframe tbody tr th:only-of-type {\n",
       "        vertical-align: middle;\n",
       "    }\n",
       "\n",
       "    .dataframe tbody tr th {\n",
       "        vertical-align: top;\n",
       "    }\n",
       "\n",
       "    .dataframe thead th {\n",
       "        text-align: right;\n",
       "    }\n",
       "</style>\n",
       "<table border=\"1\" class=\"dataframe\">\n",
       "  <thead>\n",
       "    <tr style=\"text-align: right;\">\n",
       "      <th></th>\n",
       "      <th>usuarioId</th>\n",
       "      <th>filmeId</th>\n",
       "      <th>nota</th>\n",
       "      <th>momento</th>\n",
       "    </tr>\n",
       "  </thead>\n",
       "  <tbody>\n",
       "    <tr>\n",
       "      <th>count</th>\n",
       "      <td>100836.000000</td>\n",
       "      <td>100836.000000</td>\n",
       "      <td>100836.000000</td>\n",
       "      <td>1.008360e+05</td>\n",
       "    </tr>\n",
       "    <tr>\n",
       "      <th>mean</th>\n",
       "      <td>326.127564</td>\n",
       "      <td>19435.295718</td>\n",
       "      <td>3.501557</td>\n",
       "      <td>1.205946e+09</td>\n",
       "    </tr>\n",
       "    <tr>\n",
       "      <th>std</th>\n",
       "      <td>182.618491</td>\n",
       "      <td>35530.987199</td>\n",
       "      <td>1.042529</td>\n",
       "      <td>2.162610e+08</td>\n",
       "    </tr>\n",
       "    <tr>\n",
       "      <th>min</th>\n",
       "      <td>1.000000</td>\n",
       "      <td>1.000000</td>\n",
       "      <td>0.500000</td>\n",
       "      <td>8.281246e+08</td>\n",
       "    </tr>\n",
       "    <tr>\n",
       "      <th>25%</th>\n",
       "      <td>177.000000</td>\n",
       "      <td>1199.000000</td>\n",
       "      <td>3.000000</td>\n",
       "      <td>1.019124e+09</td>\n",
       "    </tr>\n",
       "    <tr>\n",
       "      <th>50%</th>\n",
       "      <td>325.000000</td>\n",
       "      <td>2991.000000</td>\n",
       "      <td>3.500000</td>\n",
       "      <td>1.186087e+09</td>\n",
       "    </tr>\n",
       "    <tr>\n",
       "      <th>75%</th>\n",
       "      <td>477.000000</td>\n",
       "      <td>8122.000000</td>\n",
       "      <td>4.000000</td>\n",
       "      <td>1.435994e+09</td>\n",
       "    </tr>\n",
       "    <tr>\n",
       "      <th>max</th>\n",
       "      <td>610.000000</td>\n",
       "      <td>193609.000000</td>\n",
       "      <td>5.000000</td>\n",
       "      <td>1.537799e+09</td>\n",
       "    </tr>\n",
       "  </tbody>\n",
       "</table>\n",
       "</div>"
      ],
      "text/plain": [
       "           usuarioId        filmeId           nota       momento\n",
       "count  100836.000000  100836.000000  100836.000000  1.008360e+05\n",
       "mean      326.127564   19435.295718       3.501557  1.205946e+09\n",
       "std       182.618491   35530.987199       1.042529  2.162610e+08\n",
       "min         1.000000       1.000000       0.500000  8.281246e+08\n",
       "25%       177.000000    1199.000000       3.000000  1.019124e+09\n",
       "50%       325.000000    2991.000000       3.500000  1.186087e+09\n",
       "75%       477.000000    8122.000000       4.000000  1.435994e+09\n",
       "max       610.000000  193609.000000       5.000000  1.537799e+09"
      ]
     },
     "execution_count": 4,
     "metadata": {},
     "output_type": "execute_result"
    }
   ],
   "source": [
    "notas.describe()"
   ]
  },
  {
   "cell_type": "markdown",
   "metadata": {},
   "source": [
    "### Primeira tentativa de recomendação: indicando os mais populares pelo total de votos"
   ]
  },
  {
   "cell_type": "code",
   "execution_count": 5,
   "metadata": {
    "ExecuteTime": {
     "end_time": "2021-04-25T13:42:09.293949Z",
     "start_time": "2021-04-25T13:42:09.132154Z"
    }
   },
   "outputs": [
    {
     "data": {
      "text/html": [
       "<div>\n",
       "<style scoped>\n",
       "    .dataframe tbody tr th:only-of-type {\n",
       "        vertical-align: middle;\n",
       "    }\n",
       "\n",
       "    .dataframe tbody tr th {\n",
       "        vertical-align: top;\n",
       "    }\n",
       "\n",
       "    .dataframe thead th {\n",
       "        text-align: right;\n",
       "    }\n",
       "</style>\n",
       "<table border=\"1\" class=\"dataframe\">\n",
       "  <thead>\n",
       "    <tr style=\"text-align: right;\">\n",
       "      <th></th>\n",
       "      <th>titulo</th>\n",
       "      <th>generos</th>\n",
       "      <th>total_de_votos</th>\n",
       "    </tr>\n",
       "    <tr>\n",
       "      <th>filmeId</th>\n",
       "      <th></th>\n",
       "      <th></th>\n",
       "      <th></th>\n",
       "    </tr>\n",
       "  </thead>\n",
       "  <tbody>\n",
       "    <tr>\n",
       "      <th>356</th>\n",
       "      <td>Forrest Gump (1994)</td>\n",
       "      <td>Comedy|Drama|Romance|War</td>\n",
       "      <td>329.0</td>\n",
       "    </tr>\n",
       "    <tr>\n",
       "      <th>318</th>\n",
       "      <td>Shawshank Redemption, The (1994)</td>\n",
       "      <td>Crime|Drama</td>\n",
       "      <td>317.0</td>\n",
       "    </tr>\n",
       "    <tr>\n",
       "      <th>296</th>\n",
       "      <td>Pulp Fiction (1994)</td>\n",
       "      <td>Comedy|Crime|Drama|Thriller</td>\n",
       "      <td>307.0</td>\n",
       "    </tr>\n",
       "    <tr>\n",
       "      <th>593</th>\n",
       "      <td>Silence of the Lambs, The (1991)</td>\n",
       "      <td>Crime|Horror|Thriller</td>\n",
       "      <td>279.0</td>\n",
       "    </tr>\n",
       "    <tr>\n",
       "      <th>2571</th>\n",
       "      <td>Matrix, The (1999)</td>\n",
       "      <td>Action|Sci-Fi|Thriller</td>\n",
       "      <td>278.0</td>\n",
       "    </tr>\n",
       "    <tr>\n",
       "      <th>260</th>\n",
       "      <td>Star Wars: Episode IV - A New Hope (1977)</td>\n",
       "      <td>Action|Adventure|Sci-Fi</td>\n",
       "      <td>251.0</td>\n",
       "    </tr>\n",
       "    <tr>\n",
       "      <th>480</th>\n",
       "      <td>Jurassic Park (1993)</td>\n",
       "      <td>Action|Adventure|Sci-Fi|Thriller</td>\n",
       "      <td>238.0</td>\n",
       "    </tr>\n",
       "    <tr>\n",
       "      <th>110</th>\n",
       "      <td>Braveheart (1995)</td>\n",
       "      <td>Action|Drama|War</td>\n",
       "      <td>237.0</td>\n",
       "    </tr>\n",
       "    <tr>\n",
       "      <th>589</th>\n",
       "      <td>Terminator 2: Judgment Day (1991)</td>\n",
       "      <td>Action|Sci-Fi</td>\n",
       "      <td>224.0</td>\n",
       "    </tr>\n",
       "    <tr>\n",
       "      <th>527</th>\n",
       "      <td>Schindler's List (1993)</td>\n",
       "      <td>Drama|War</td>\n",
       "      <td>220.0</td>\n",
       "    </tr>\n",
       "  </tbody>\n",
       "</table>\n",
       "</div>"
      ],
      "text/plain": [
       "                                            titulo  \\\n",
       "filmeId                                              \n",
       "356                            Forrest Gump (1994)   \n",
       "318               Shawshank Redemption, The (1994)   \n",
       "296                            Pulp Fiction (1994)   \n",
       "593               Silence of the Lambs, The (1991)   \n",
       "2571                            Matrix, The (1999)   \n",
       "260      Star Wars: Episode IV - A New Hope (1977)   \n",
       "480                           Jurassic Park (1993)   \n",
       "110                              Braveheart (1995)   \n",
       "589              Terminator 2: Judgment Day (1991)   \n",
       "527                        Schindler's List (1993)   \n",
       "\n",
       "                                  generos  total_de_votos  \n",
       "filmeId                                                    \n",
       "356              Comedy|Drama|Romance|War           329.0  \n",
       "318                           Crime|Drama           317.0  \n",
       "296           Comedy|Crime|Drama|Thriller           307.0  \n",
       "593                 Crime|Horror|Thriller           279.0  \n",
       "2571               Action|Sci-Fi|Thriller           278.0  \n",
       "260               Action|Adventure|Sci-Fi           251.0  \n",
       "480      Action|Adventure|Sci-Fi|Thriller           238.0  \n",
       "110                      Action|Drama|War           237.0  \n",
       "589                         Action|Sci-Fi           224.0  \n",
       "527                             Drama|War           220.0  "
      ]
     },
     "execution_count": 5,
     "metadata": {},
     "output_type": "execute_result"
    }
   ],
   "source": [
    "filmes.set_index('filmeId', inplace=True)\n",
    "\n",
    "total_de_votos = notas['filmeId'].value_counts()\n",
    "\n",
    "filmes['total_de_votos'] = total_de_votos\n",
    "filmes.sort_values('total_de_votos', ascending=False).head(10)"
   ]
  },
  {
   "cell_type": "markdown",
   "metadata": {},
   "source": [
    "### Segunda tentativa de recomendação: indicando os mais populares pela média das notas e total de votos a partir de 50"
   ]
  },
  {
   "cell_type": "code",
   "execution_count": 6,
   "metadata": {
    "ExecuteTime": {
     "end_time": "2021-04-25T13:42:09.478135Z",
     "start_time": "2021-04-25T13:42:09.298635Z"
    }
   },
   "outputs": [
    {
     "data": {
      "text/html": [
       "<div>\n",
       "<style scoped>\n",
       "    .dataframe tbody tr th:only-of-type {\n",
       "        vertical-align: middle;\n",
       "    }\n",
       "\n",
       "    .dataframe tbody tr th {\n",
       "        vertical-align: top;\n",
       "    }\n",
       "\n",
       "    .dataframe thead th {\n",
       "        text-align: right;\n",
       "    }\n",
       "</style>\n",
       "<table border=\"1\" class=\"dataframe\">\n",
       "  <thead>\n",
       "    <tr style=\"text-align: right;\">\n",
       "      <th></th>\n",
       "      <th>titulo</th>\n",
       "      <th>generos</th>\n",
       "      <th>total_de_votos</th>\n",
       "      <th>nota_media</th>\n",
       "    </tr>\n",
       "    <tr>\n",
       "      <th>filmeId</th>\n",
       "      <th></th>\n",
       "      <th></th>\n",
       "      <th></th>\n",
       "      <th></th>\n",
       "    </tr>\n",
       "  </thead>\n",
       "  <tbody>\n",
       "    <tr>\n",
       "      <th>318</th>\n",
       "      <td>Shawshank Redemption, The (1994)</td>\n",
       "      <td>Crime|Drama</td>\n",
       "      <td>317.0</td>\n",
       "      <td>4.429022</td>\n",
       "    </tr>\n",
       "    <tr>\n",
       "      <th>858</th>\n",
       "      <td>Godfather, The (1972)</td>\n",
       "      <td>Crime|Drama</td>\n",
       "      <td>192.0</td>\n",
       "      <td>4.289062</td>\n",
       "    </tr>\n",
       "    <tr>\n",
       "      <th>2959</th>\n",
       "      <td>Fight Club (1999)</td>\n",
       "      <td>Action|Crime|Drama|Thriller</td>\n",
       "      <td>218.0</td>\n",
       "      <td>4.272936</td>\n",
       "    </tr>\n",
       "    <tr>\n",
       "      <th>1276</th>\n",
       "      <td>Cool Hand Luke (1967)</td>\n",
       "      <td>Drama</td>\n",
       "      <td>57.0</td>\n",
       "      <td>4.271930</td>\n",
       "    </tr>\n",
       "    <tr>\n",
       "      <th>750</th>\n",
       "      <td>Dr. Strangelove or: How I Learned to Stop Worr...</td>\n",
       "      <td>Comedy|War</td>\n",
       "      <td>97.0</td>\n",
       "      <td>4.268041</td>\n",
       "    </tr>\n",
       "    <tr>\n",
       "      <th>904</th>\n",
       "      <td>Rear Window (1954)</td>\n",
       "      <td>Mystery|Thriller</td>\n",
       "      <td>84.0</td>\n",
       "      <td>4.261905</td>\n",
       "    </tr>\n",
       "    <tr>\n",
       "      <th>1221</th>\n",
       "      <td>Godfather: Part II, The (1974)</td>\n",
       "      <td>Crime|Drama</td>\n",
       "      <td>129.0</td>\n",
       "      <td>4.259690</td>\n",
       "    </tr>\n",
       "    <tr>\n",
       "      <th>48516</th>\n",
       "      <td>Departed, The (2006)</td>\n",
       "      <td>Crime|Drama|Thriller</td>\n",
       "      <td>107.0</td>\n",
       "      <td>4.252336</td>\n",
       "    </tr>\n",
       "    <tr>\n",
       "      <th>1213</th>\n",
       "      <td>Goodfellas (1990)</td>\n",
       "      <td>Crime|Drama</td>\n",
       "      <td>126.0</td>\n",
       "      <td>4.250000</td>\n",
       "    </tr>\n",
       "    <tr>\n",
       "      <th>912</th>\n",
       "      <td>Casablanca (1942)</td>\n",
       "      <td>Drama|Romance</td>\n",
       "      <td>100.0</td>\n",
       "      <td>4.240000</td>\n",
       "    </tr>\n",
       "  </tbody>\n",
       "</table>\n",
       "</div>"
      ],
      "text/plain": [
       "                                                    titulo  \\\n",
       "filmeId                                                      \n",
       "318                       Shawshank Redemption, The (1994)   \n",
       "858                                  Godfather, The (1972)   \n",
       "2959                                     Fight Club (1999)   \n",
       "1276                                 Cool Hand Luke (1967)   \n",
       "750      Dr. Strangelove or: How I Learned to Stop Worr...   \n",
       "904                                     Rear Window (1954)   \n",
       "1221                        Godfather: Part II, The (1974)   \n",
       "48516                                 Departed, The (2006)   \n",
       "1213                                     Goodfellas (1990)   \n",
       "912                                      Casablanca (1942)   \n",
       "\n",
       "                             generos  total_de_votos  nota_media  \n",
       "filmeId                                                           \n",
       "318                      Crime|Drama           317.0    4.429022  \n",
       "858                      Crime|Drama           192.0    4.289062  \n",
       "2959     Action|Crime|Drama|Thriller           218.0    4.272936  \n",
       "1276                           Drama            57.0    4.271930  \n",
       "750                       Comedy|War            97.0    4.268041  \n",
       "904                 Mystery|Thriller            84.0    4.261905  \n",
       "1221                     Crime|Drama           129.0    4.259690  \n",
       "48516           Crime|Drama|Thriller           107.0    4.252336  \n",
       "1213                     Crime|Drama           126.0    4.250000  \n",
       "912                    Drama|Romance           100.0    4.240000  "
      ]
     },
     "execution_count": 6,
     "metadata": {},
     "output_type": "execute_result"
    }
   ],
   "source": [
    "notas_medias = notas.groupby('filmeId').mean()['nota']\n",
    "filmes['nota_media'] = notas_medias\n",
    "filmes.query('total_de_votos>=50').sort_values('nota_media', ascending=False).head(10)"
   ]
  },
  {
   "cell_type": "markdown",
   "metadata": {},
   "source": [
    "### Recomendação baseada em similaridade de gênero"
   ]
  },
  {
   "cell_type": "code",
   "execution_count": 7,
   "metadata": {
    "ExecuteTime": {
     "end_time": "2021-04-25T13:42:09.647638Z",
     "start_time": "2021-04-25T13:42:09.481160Z"
    }
   },
   "outputs": [
    {
     "data": {
      "text/html": [
       "<div>\n",
       "<style scoped>\n",
       "    .dataframe tbody tr th:only-of-type {\n",
       "        vertical-align: middle;\n",
       "    }\n",
       "\n",
       "    .dataframe tbody tr th {\n",
       "        vertical-align: top;\n",
       "    }\n",
       "\n",
       "    .dataframe thead th {\n",
       "        text-align: right;\n",
       "    }\n",
       "</style>\n",
       "<table border=\"1\" class=\"dataframe\">\n",
       "  <thead>\n",
       "    <tr style=\"text-align: right;\">\n",
       "      <th></th>\n",
       "      <th>titulo</th>\n",
       "      <th>generos</th>\n",
       "      <th>total_de_votos</th>\n",
       "      <th>nota_media</th>\n",
       "    </tr>\n",
       "    <tr>\n",
       "      <th>filmeId</th>\n",
       "      <th></th>\n",
       "      <th></th>\n",
       "      <th></th>\n",
       "      <th></th>\n",
       "    </tr>\n",
       "  </thead>\n",
       "  <tbody>\n",
       "    <tr>\n",
       "      <th>1</th>\n",
       "      <td>Toy Story (1995)</td>\n",
       "      <td>Adventure|Animation|Children|Comedy|Fantasy</td>\n",
       "      <td>215.0</td>\n",
       "      <td>3.920930</td>\n",
       "    </tr>\n",
       "    <tr>\n",
       "      <th>21</th>\n",
       "      <td>Get Shorty (1995)</td>\n",
       "      <td>Comedy|Crime|Thriller</td>\n",
       "      <td>89.0</td>\n",
       "      <td>3.494382</td>\n",
       "    </tr>\n",
       "    <tr>\n",
       "      <th>19</th>\n",
       "      <td>Ace Ventura: When Nature Calls (1995)</td>\n",
       "      <td>Comedy</td>\n",
       "      <td>88.0</td>\n",
       "      <td>2.727273</td>\n",
       "    </tr>\n",
       "    <tr>\n",
       "      <th>10</th>\n",
       "      <td>GoldenEye (1995)</td>\n",
       "      <td>Action|Adventure|Thriller</td>\n",
       "      <td>132.0</td>\n",
       "      <td>3.496212</td>\n",
       "    </tr>\n",
       "    <tr>\n",
       "      <th>11</th>\n",
       "      <td>American President, The (1995)</td>\n",
       "      <td>Comedy|Drama|Romance</td>\n",
       "      <td>70.0</td>\n",
       "      <td>3.671429</td>\n",
       "    </tr>\n",
       "    <tr>\n",
       "      <th>7</th>\n",
       "      <td>Sabrina (1995)</td>\n",
       "      <td>Comedy|Romance</td>\n",
       "      <td>54.0</td>\n",
       "      <td>3.185185</td>\n",
       "    </tr>\n",
       "    <tr>\n",
       "      <th>2</th>\n",
       "      <td>Jumanji (1995)</td>\n",
       "      <td>Adventure|Children|Fantasy</td>\n",
       "      <td>110.0</td>\n",
       "      <td>3.431818</td>\n",
       "    </tr>\n",
       "  </tbody>\n",
       "</table>\n",
       "</div>"
      ],
      "text/plain": [
       "                                        titulo  \\\n",
       "filmeId                                          \n",
       "1                             Toy Story (1995)   \n",
       "21                           Get Shorty (1995)   \n",
       "19       Ace Ventura: When Nature Calls (1995)   \n",
       "10                            GoldenEye (1995)   \n",
       "11              American President, The (1995)   \n",
       "7                               Sabrina (1995)   \n",
       "2                               Jumanji (1995)   \n",
       "\n",
       "                                             generos  total_de_votos  \\\n",
       "filmeId                                                                \n",
       "1        Adventure|Animation|Children|Comedy|Fantasy           215.0   \n",
       "21                             Comedy|Crime|Thriller            89.0   \n",
       "19                                            Comedy            88.0   \n",
       "10                         Action|Adventure|Thriller           132.0   \n",
       "11                              Comedy|Drama|Romance            70.0   \n",
       "7                                     Comedy|Romance            54.0   \n",
       "2                         Adventure|Children|Fantasy           110.0   \n",
       "\n",
       "         nota_media  \n",
       "filmeId              \n",
       "1          3.920930  \n",
       "21         3.494382  \n",
       "19         2.727273  \n",
       "10         3.496212  \n",
       "11         3.671429  \n",
       "7          3.185185  \n",
       "2          3.431818  "
      ]
     },
     "execution_count": 7,
     "metadata": {},
     "output_type": "execute_result"
    }
   ],
   "source": [
    "eu_assisti = [1, 21, 19, 10, 11, 7, 2]\n",
    "filmes.loc[eu_assisti]"
   ]
  },
  {
   "cell_type": "code",
   "execution_count": 8,
   "metadata": {
    "ExecuteTime": {
     "end_time": "2021-04-25T13:42:09.809038Z",
     "start_time": "2021-04-25T13:42:09.652360Z"
    }
   },
   "outputs": [
    {
     "data": {
      "text/html": [
       "<div>\n",
       "<style scoped>\n",
       "    .dataframe tbody tr th:only-of-type {\n",
       "        vertical-align: middle;\n",
       "    }\n",
       "\n",
       "    .dataframe tbody tr th {\n",
       "        vertical-align: top;\n",
       "    }\n",
       "\n",
       "    .dataframe thead th {\n",
       "        text-align: right;\n",
       "    }\n",
       "</style>\n",
       "<table border=\"1\" class=\"dataframe\">\n",
       "  <thead>\n",
       "    <tr style=\"text-align: right;\">\n",
       "      <th></th>\n",
       "      <th>titulo</th>\n",
       "      <th>generos</th>\n",
       "      <th>total_de_votos</th>\n",
       "      <th>nota_media</th>\n",
       "    </tr>\n",
       "    <tr>\n",
       "      <th>filmeId</th>\n",
       "      <th></th>\n",
       "      <th></th>\n",
       "      <th></th>\n",
       "      <th></th>\n",
       "    </tr>\n",
       "  </thead>\n",
       "  <tbody>\n",
       "    <tr>\n",
       "      <th>4896</th>\n",
       "      <td>Harry Potter and the Sorcerer's Stone (a.k.a. ...</td>\n",
       "      <td>Adventure|Children|Fantasy</td>\n",
       "      <td>107.0</td>\n",
       "      <td>3.761682</td>\n",
       "    </tr>\n",
       "    <tr>\n",
       "      <th>41566</th>\n",
       "      <td>Chronicles of Narnia: The Lion, the Witch and ...</td>\n",
       "      <td>Adventure|Children|Fantasy</td>\n",
       "      <td>62.0</td>\n",
       "      <td>3.443548</td>\n",
       "    </tr>\n",
       "  </tbody>\n",
       "</table>\n",
       "</div>"
      ],
      "text/plain": [
       "                                                    titulo  \\\n",
       "filmeId                                                      \n",
       "4896     Harry Potter and the Sorcerer's Stone (a.k.a. ...   \n",
       "41566    Chronicles of Narnia: The Lion, the Witch and ...   \n",
       "\n",
       "                            generos  total_de_votos  nota_media  \n",
       "filmeId                                                          \n",
       "4896     Adventure|Children|Fantasy           107.0    3.761682  \n",
       "41566    Adventure|Children|Fantasy            62.0    3.443548  "
      ]
     },
     "execution_count": 8,
     "metadata": {},
     "output_type": "execute_result"
    }
   ],
   "source": [
    "aventura_infantil_fantasia = filmes.query('total_de_votos>=50 & generos==\"Adventure|Children|Fantasy\"')\n",
    "aventura_infantil_fantasia.drop(eu_assisti, errors='ignore').sort_values('nota_media', ascending=False)"
   ]
  },
  {
   "cell_type": "markdown",
   "metadata": {},
   "source": [
    "### Procurando usuários 'similares'"
   ]
  },
  {
   "cell_type": "code",
   "execution_count": 9,
   "metadata": {
    "ExecuteTime": {
     "end_time": "2021-04-25T13:42:09.951479Z",
     "start_time": "2021-04-25T13:42:09.813079Z"
    }
   },
   "outputs": [
    {
     "data": {
      "text/html": [
       "<div>\n",
       "<style scoped>\n",
       "    .dataframe tbody tr th:only-of-type {\n",
       "        vertical-align: middle;\n",
       "    }\n",
       "\n",
       "    .dataframe tbody tr th {\n",
       "        vertical-align: top;\n",
       "    }\n",
       "\n",
       "    .dataframe thead th {\n",
       "        text-align: right;\n",
       "    }\n",
       "</style>\n",
       "<table border=\"1\" class=\"dataframe\">\n",
       "  <thead>\n",
       "    <tr style=\"text-align: right;\">\n",
       "      <th></th>\n",
       "      <th>filmeId</th>\n",
       "      <th>usuarioId</th>\n",
       "      <th>nota</th>\n",
       "      <th>momento</th>\n",
       "    </tr>\n",
       "  </thead>\n",
       "  <tbody>\n",
       "    <tr>\n",
       "      <th>0</th>\n",
       "      <td>1</td>\n",
       "      <td>1</td>\n",
       "      <td>4.0</td>\n",
       "      <td>964982703</td>\n",
       "    </tr>\n",
       "    <tr>\n",
       "      <th>1</th>\n",
       "      <td>1</td>\n",
       "      <td>5</td>\n",
       "      <td>4.0</td>\n",
       "      <td>847434962</td>\n",
       "    </tr>\n",
       "    <tr>\n",
       "      <th>2</th>\n",
       "      <td>1</td>\n",
       "      <td>7</td>\n",
       "      <td>4.5</td>\n",
       "      <td>1106635946</td>\n",
       "    </tr>\n",
       "    <tr>\n",
       "      <th>3</th>\n",
       "      <td>1</td>\n",
       "      <td>15</td>\n",
       "      <td>2.5</td>\n",
       "      <td>1510577970</td>\n",
       "    </tr>\n",
       "    <tr>\n",
       "      <th>4</th>\n",
       "      <td>1</td>\n",
       "      <td>17</td>\n",
       "      <td>4.5</td>\n",
       "      <td>1305696483</td>\n",
       "    </tr>\n",
       "  </tbody>\n",
       "</table>\n",
       "</div>"
      ],
      "text/plain": [
       "   filmeId  usuarioId  nota     momento\n",
       "0        1          1   4.0   964982703\n",
       "1        1          5   4.0   847434962\n",
       "2        1          7   4.5  1106635946\n",
       "3        1         15   2.5  1510577970\n",
       "4        1         17   4.5  1305696483"
      ]
     },
     "execution_count": 9,
     "metadata": {},
     "output_type": "execute_result"
    }
   ],
   "source": [
    "filmes_com_mais_de_50_votos = filmes.query('total_de_votos>=50')\n",
    "notas = notas.set_index('filmeId').loc[filmes_com_mais_de_50_votos.index]\n",
    "notas.reset_index(inplace=True)\n",
    "notas.head()"
   ]
  },
  {
   "cell_type": "markdown",
   "metadata": {},
   "source": [
    "Distância entre dois usuários"
   ]
  },
  {
   "cell_type": "code",
   "execution_count": 10,
   "metadata": {
    "ExecuteTime": {
     "end_time": "2021-04-25T13:42:09.997503Z",
     "start_time": "2021-04-25T13:42:09.954313Z"
    }
   },
   "outputs": [],
   "source": [
    "def distancia_de_vetores(a, b):\n",
    "    return np.linalg.norm(a-b)\n",
    "\n",
    "def notas_usuario(usuario):\n",
    "    notas_usuario = notas.query('usuarioId==%d' % usuario)[['filmeId', 'nota']].set_index('filmeId')\n",
    "    return notas_usuario\n",
    "\n",
    "def distancia_de_usuarios(usuario_id1, usuario_id2, minimo=5):\n",
    "    notas1 = notas_usuario(usuario_id1)\n",
    "    notas2 = notas_usuario(usuario_id2)\n",
    "    diferencas = notas1.join(notas2, lsuffix='_esquerda', rsuffix='_direita').dropna()    \n",
    "    if len(diferencas) < minimo: return None    \n",
    "    distancia = distancia_de_vetores(diferencas['nota_esquerda'], diferencas['nota_direita'])\n",
    "    return [usuario_id1, usuario_id2, distancia]"
   ]
  },
  {
   "cell_type": "markdown",
   "metadata": {},
   "source": [
    "Distância entre um e todos os usuários"
   ]
  },
  {
   "cell_type": "code",
   "execution_count": 11,
   "metadata": {
    "ExecuteTime": {
     "end_time": "2021-04-25T13:42:10.199885Z",
     "start_time": "2021-04-25T13:42:10.000912Z"
    }
   },
   "outputs": [
    {
     "name": "stdout",
     "output_type": "stream",
     "text": [
      "Temos 606 usuários\n"
     ]
    }
   ],
   "source": [
    "quantidade_de_usuarios = len(notas['usuarioId'].unique())\n",
    "print('Temos %d usuários' % quantidade_de_usuarios)"
   ]
  },
  {
   "cell_type": "code",
   "execution_count": 12,
   "metadata": {
    "ExecuteTime": {
     "end_time": "2021-04-25T13:42:10.369034Z",
     "start_time": "2021-04-25T13:42:10.206200Z"
    }
   },
   "outputs": [],
   "source": [
    "def distancia_de_todos(voce_id, numero_de_usuarios_a_analisar=None):\n",
    "    todos_usuarios = notas['usuarioId'].unique()    \n",
    "    if numero_de_usuarios_a_analisar:\n",
    "        todos_usuarios = todos_usuarios[:numero_de_usuarios_a_analisar]       \n",
    "    distancias = [distancia_de_usuarios(voce_id, usuario_id) for usuario_id in todos_usuarios]\n",
    "    distancias = list(filter(None, distancias))\n",
    "    distancias = pd.DataFrame(distancias, columns=['voce', 'outra_pessoa', 'distancia'])\n",
    "    return distancias"
   ]
  },
  {
   "cell_type": "markdown",
   "metadata": {},
   "source": [
    "Procurando os usuários mais próximos"
   ]
  },
  {
   "cell_type": "code",
   "execution_count": 13,
   "metadata": {
    "ExecuteTime": {
     "end_time": "2021-04-25T13:42:10.575589Z",
     "start_time": "2021-04-25T13:42:10.373628Z"
    }
   },
   "outputs": [],
   "source": [
    "def knn(voce_id, k_mais_proximos=10, numero_de_usuarios_a_analisar=None):\n",
    "    distancias = distancia_de_todos(voce_id, numero_de_usuarios_a_analisar=numero_de_usuarios_a_analisar)\n",
    "    distancias = distancias.sort_values('distancia')\n",
    "    distancias = distancias.set_index('outra_pessoa').drop(voce_id, errors='ignore')\n",
    "    return distancias.head(k_mais_proximos)"
   ]
  },
  {
   "cell_type": "markdown",
   "metadata": {},
   "source": [
    "Sugestão baseado em vários usuários"
   ]
  },
  {
   "cell_type": "code",
   "execution_count": 14,
   "metadata": {
    "ExecuteTime": {
     "end_time": "2021-04-25T13:42:10.686240Z",
     "start_time": "2021-04-25T13:42:10.578750Z"
    }
   },
   "outputs": [],
   "source": [
    "def sugere_para(voce_id, k_mais_proximos=10, numero_de_usuarios_a_analisar=None):\n",
    "    notas_de_voce = notas_usuario(voce_id)\n",
    "    filmes_que_voce_ja_viu = notas_de_voce.index\n",
    "    filtro_minimo = k_mais_proximos/2\n",
    "    \n",
    "    similares = knn(voce_id, k_mais_proximos, numero_de_usuarios_a_analisar)  \n",
    "    usuarios_similares = similares.index\n",
    "    notas_dos_similares = notas.set_index('usuarioId').loc[usuarios_similares]\n",
    "    \n",
    "    recomendacoes = notas_dos_similares.groupby('filmeId').mean()[['nota']]\n",
    "    aparicoes = notas_dos_similares.groupby('filmeId').count()[['nota']]\n",
    "    \n",
    "    recomendacoes = recomendacoes.join(aparicoes, lsuffix='_media_dos_usuarios', rsuffix='_aparicoes_nos_usuarios')\n",
    "    recomendacoes = recomendacoes.query('nota_aparicoes_nos_usuarios >= %.2f' % filtro_minimo)\n",
    "    recomendacoes = recomendacoes.sort_values('nota_media_dos_usuarios', ascending=False)\n",
    "    recomendacoes.drop(filmes_que_voce_ja_viu, errors='ignore', inplace=True)\n",
    "    return recomendacoes.join(filmes)"
   ]
  },
  {
   "cell_type": "markdown",
   "metadata": {},
   "source": [
    "Recomendação Knn"
   ]
  },
  {
   "cell_type": "code",
   "execution_count": 15,
   "metadata": {
    "ExecuteTime": {
     "end_time": "2021-04-25T13:42:21.557119Z",
     "start_time": "2021-04-25T13:42:10.689344Z"
    }
   },
   "outputs": [
    {
     "data": {
      "text/html": [
       "<div>\n",
       "<style scoped>\n",
       "    .dataframe tbody tr th:only-of-type {\n",
       "        vertical-align: middle;\n",
       "    }\n",
       "\n",
       "    .dataframe tbody tr th {\n",
       "        vertical-align: top;\n",
       "    }\n",
       "\n",
       "    .dataframe thead th {\n",
       "        text-align: right;\n",
       "    }\n",
       "</style>\n",
       "<table border=\"1\" class=\"dataframe\">\n",
       "  <thead>\n",
       "    <tr style=\"text-align: right;\">\n",
       "      <th></th>\n",
       "      <th>nota_media_dos_usuarios</th>\n",
       "      <th>nota_aparicoes_nos_usuarios</th>\n",
       "      <th>titulo</th>\n",
       "      <th>generos</th>\n",
       "      <th>total_de_votos</th>\n",
       "      <th>nota_media</th>\n",
       "    </tr>\n",
       "    <tr>\n",
       "      <th>filmeId</th>\n",
       "      <th></th>\n",
       "      <th></th>\n",
       "      <th></th>\n",
       "      <th></th>\n",
       "      <th></th>\n",
       "      <th></th>\n",
       "    </tr>\n",
       "  </thead>\n",
       "  <tbody>\n",
       "    <tr>\n",
       "      <th>318</th>\n",
       "      <td>4.6</td>\n",
       "      <td>5</td>\n",
       "      <td>Shawshank Redemption, The (1994)</td>\n",
       "      <td>Crime|Drama</td>\n",
       "      <td>317.0</td>\n",
       "      <td>4.429022</td>\n",
       "    </tr>\n",
       "    <tr>\n",
       "      <th>2571</th>\n",
       "      <td>4.5</td>\n",
       "      <td>5</td>\n",
       "      <td>Matrix, The (1999)</td>\n",
       "      <td>Action|Sci-Fi|Thriller</td>\n",
       "      <td>278.0</td>\n",
       "      <td>4.192446</td>\n",
       "    </tr>\n",
       "    <tr>\n",
       "      <th>2762</th>\n",
       "      <td>4.5</td>\n",
       "      <td>5</td>\n",
       "      <td>Sixth Sense, The (1999)</td>\n",
       "      <td>Drama|Horror|Mystery</td>\n",
       "      <td>179.0</td>\n",
       "      <td>3.893855</td>\n",
       "    </tr>\n",
       "    <tr>\n",
       "      <th>2959</th>\n",
       "      <td>4.2</td>\n",
       "      <td>5</td>\n",
       "      <td>Fight Club (1999)</td>\n",
       "      <td>Action|Crime|Drama|Thriller</td>\n",
       "      <td>218.0</td>\n",
       "      <td>4.272936</td>\n",
       "    </tr>\n",
       "    <tr>\n",
       "      <th>7153</th>\n",
       "      <td>4.2</td>\n",
       "      <td>5</td>\n",
       "      <td>Lord of the Rings: The Return of the King, The...</td>\n",
       "      <td>Action|Adventure|Drama|Fantasy</td>\n",
       "      <td>185.0</td>\n",
       "      <td>4.118919</td>\n",
       "    </tr>\n",
       "  </tbody>\n",
       "</table>\n",
       "</div>"
      ],
      "text/plain": [
       "         nota_media_dos_usuarios  nota_aparicoes_nos_usuarios  \\\n",
       "filmeId                                                         \n",
       "318                          4.6                            5   \n",
       "2571                         4.5                            5   \n",
       "2762                         4.5                            5   \n",
       "2959                         4.2                            5   \n",
       "7153                         4.2                            5   \n",
       "\n",
       "                                                    titulo  \\\n",
       "filmeId                                                      \n",
       "318                       Shawshank Redemption, The (1994)   \n",
       "2571                                    Matrix, The (1999)   \n",
       "2762                               Sixth Sense, The (1999)   \n",
       "2959                                     Fight Club (1999)   \n",
       "7153     Lord of the Rings: The Return of the King, The...   \n",
       "\n",
       "                                generos  total_de_votos  nota_media  \n",
       "filmeId                                                              \n",
       "318                         Crime|Drama           317.0    4.429022  \n",
       "2571             Action|Sci-Fi|Thriller           278.0    4.192446  \n",
       "2762               Drama|Horror|Mystery           179.0    3.893855  \n",
       "2959        Action|Crime|Drama|Thriller           218.0    4.272936  \n",
       "7153     Action|Adventure|Drama|Fantasy           185.0    4.118919  "
      ]
     },
     "execution_count": 15,
     "metadata": {},
     "output_type": "execute_result"
    }
   ],
   "source": [
    "sugere_para(500).head(10)"
   ]
  },
  {
   "cell_type": "markdown",
   "metadata": {},
   "source": [
    "### Testando um usuário novo"
   ]
  },
  {
   "cell_type": "code",
   "execution_count": 16,
   "metadata": {
    "ExecuteTime": {
     "end_time": "2021-04-25T13:42:21.566297Z",
     "start_time": "2021-04-25T13:42:21.560237Z"
    }
   },
   "outputs": [],
   "source": [
    "def novo_usuario(dados):\n",
    "    novo_usuario = notas['usuarioId'].max()+1\n",
    "    notas_novo_usuario = pd.DataFrame(dados, columns=['filmeId', 'nota'])\n",
    "    notas_novo_usuario['usuarioId'] = novo_usuario\n",
    "    return pd.concat([notas, notas_novo_usuario])"
   ]
  },
  {
   "cell_type": "code",
   "execution_count": 17,
   "metadata": {
    "ExecuteTime": {
     "end_time": "2021-04-25T13:42:21.734287Z",
     "start_time": "2021-04-25T13:42:21.569507Z"
    }
   },
   "outputs": [
    {
     "data": {
      "text/html": [
       "<div>\n",
       "<style scoped>\n",
       "    .dataframe tbody tr th:only-of-type {\n",
       "        vertical-align: middle;\n",
       "    }\n",
       "\n",
       "    .dataframe tbody tr th {\n",
       "        vertical-align: top;\n",
       "    }\n",
       "\n",
       "    .dataframe thead th {\n",
       "        text-align: right;\n",
       "    }\n",
       "</style>\n",
       "<table border=\"1\" class=\"dataframe\">\n",
       "  <thead>\n",
       "    <tr style=\"text-align: right;\">\n",
       "      <th></th>\n",
       "      <th>filmeId</th>\n",
       "      <th>usuarioId</th>\n",
       "      <th>nota</th>\n",
       "      <th>momento</th>\n",
       "    </tr>\n",
       "  </thead>\n",
       "  <tbody>\n",
       "    <tr>\n",
       "      <th>5</th>\n",
       "      <td>1</td>\n",
       "      <td>611</td>\n",
       "      <td>2.0</td>\n",
       "      <td>NaN</td>\n",
       "    </tr>\n",
       "    <tr>\n",
       "      <th>6</th>\n",
       "      <td>7</td>\n",
       "      <td>611</td>\n",
       "      <td>0.5</td>\n",
       "      <td>NaN</td>\n",
       "    </tr>\n",
       "    <tr>\n",
       "      <th>7</th>\n",
       "      <td>2</td>\n",
       "      <td>611</td>\n",
       "      <td>2.0</td>\n",
       "      <td>NaN</td>\n",
       "    </tr>\n",
       "    <tr>\n",
       "      <th>8</th>\n",
       "      <td>1196</td>\n",
       "      <td>611</td>\n",
       "      <td>1.0</td>\n",
       "      <td>NaN</td>\n",
       "    </tr>\n",
       "    <tr>\n",
       "      <th>9</th>\n",
       "      <td>260</td>\n",
       "      <td>611</td>\n",
       "      <td>1.0</td>\n",
       "      <td>NaN</td>\n",
       "    </tr>\n",
       "  </tbody>\n",
       "</table>\n",
       "</div>"
      ],
      "text/plain": [
       "   filmeId  usuarioId  nota  momento\n",
       "5        1        611   2.0      NaN\n",
       "6        7        611   0.5      NaN\n",
       "7        2        611   2.0      NaN\n",
       "8     1196        611   1.0      NaN\n",
       "9      260        611   1.0      NaN"
      ]
     },
     "execution_count": 17,
     "metadata": {},
     "output_type": "execute_result"
    }
   ],
   "source": [
    "notas = novo_usuario([[122904, 2], [1246, 5], [2529, 2], [2329, 5], [2324, 5], [1, 2], [7, 0.5], [2, 2], [1196, 1], [260, 1]])\n",
    "notas.tail()"
   ]
  },
  {
   "cell_type": "code",
   "execution_count": 18,
   "metadata": {
    "ExecuteTime": {
     "end_time": "2021-04-25T13:42:32.363791Z",
     "start_time": "2021-04-25T13:42:21.739139Z"
    }
   },
   "outputs": [
    {
     "data": {
      "text/html": [
       "<div>\n",
       "<style scoped>\n",
       "    .dataframe tbody tr th:only-of-type {\n",
       "        vertical-align: middle;\n",
       "    }\n",
       "\n",
       "    .dataframe tbody tr th {\n",
       "        vertical-align: top;\n",
       "    }\n",
       "\n",
       "    .dataframe thead th {\n",
       "        text-align: right;\n",
       "    }\n",
       "</style>\n",
       "<table border=\"1\" class=\"dataframe\">\n",
       "  <thead>\n",
       "    <tr style=\"text-align: right;\">\n",
       "      <th></th>\n",
       "      <th>nota_media_dos_usuarios</th>\n",
       "      <th>nota_aparicoes_nos_usuarios</th>\n",
       "      <th>titulo</th>\n",
       "      <th>generos</th>\n",
       "      <th>total_de_votos</th>\n",
       "      <th>nota_media</th>\n",
       "    </tr>\n",
       "    <tr>\n",
       "      <th>filmeId</th>\n",
       "      <th></th>\n",
       "      <th></th>\n",
       "      <th></th>\n",
       "      <th></th>\n",
       "      <th></th>\n",
       "      <th></th>\n",
       "    </tr>\n",
       "  </thead>\n",
       "  <tbody>\n",
       "    <tr>\n",
       "      <th>318</th>\n",
       "      <td>4.500000</td>\n",
       "      <td>8</td>\n",
       "      <td>Shawshank Redemption, The (1994)</td>\n",
       "      <td>Crime|Drama</td>\n",
       "      <td>317.0</td>\n",
       "      <td>4.429022</td>\n",
       "    </tr>\n",
       "    <tr>\n",
       "      <th>919</th>\n",
       "      <td>4.400000</td>\n",
       "      <td>5</td>\n",
       "      <td>Wizard of Oz, The (1939)</td>\n",
       "      <td>Adventure|Children|Fantasy|Musical</td>\n",
       "      <td>92.0</td>\n",
       "      <td>3.880435</td>\n",
       "    </tr>\n",
       "    <tr>\n",
       "      <th>79132</th>\n",
       "      <td>4.357143</td>\n",
       "      <td>7</td>\n",
       "      <td>Inception (2010)</td>\n",
       "      <td>Action|Crime|Drama|Mystery|Sci-Fi|Thriller|IMAX</td>\n",
       "      <td>143.0</td>\n",
       "      <td>4.066434</td>\n",
       "    </tr>\n",
       "    <tr>\n",
       "      <th>356</th>\n",
       "      <td>4.350000</td>\n",
       "      <td>10</td>\n",
       "      <td>Forrest Gump (1994)</td>\n",
       "      <td>Comedy|Drama|Romance|War</td>\n",
       "      <td>329.0</td>\n",
       "      <td>4.164134</td>\n",
       "    </tr>\n",
       "    <tr>\n",
       "      <th>7361</th>\n",
       "      <td>4.312500</td>\n",
       "      <td>8</td>\n",
       "      <td>Eternal Sunshine of the Spotless Mind (2004)</td>\n",
       "      <td>Drama|Romance|Sci-Fi</td>\n",
       "      <td>131.0</td>\n",
       "      <td>4.160305</td>\n",
       "    </tr>\n",
       "    <tr>\n",
       "      <th>904</th>\n",
       "      <td>4.300000</td>\n",
       "      <td>5</td>\n",
       "      <td>Rear Window (1954)</td>\n",
       "      <td>Mystery|Thriller</td>\n",
       "      <td>84.0</td>\n",
       "      <td>4.261905</td>\n",
       "    </tr>\n",
       "    <tr>\n",
       "      <th>593</th>\n",
       "      <td>4.222222</td>\n",
       "      <td>9</td>\n",
       "      <td>Silence of the Lambs, The (1991)</td>\n",
       "      <td>Crime|Horror|Thriller</td>\n",
       "      <td>279.0</td>\n",
       "      <td>4.161290</td>\n",
       "    </tr>\n",
       "    <tr>\n",
       "      <th>46578</th>\n",
       "      <td>4.214286</td>\n",
       "      <td>7</td>\n",
       "      <td>Little Miss Sunshine (2006)</td>\n",
       "      <td>Adventure|Comedy|Drama</td>\n",
       "      <td>77.0</td>\n",
       "      <td>3.883117</td>\n",
       "    </tr>\n",
       "    <tr>\n",
       "      <th>4246</th>\n",
       "      <td>4.200000</td>\n",
       "      <td>5</td>\n",
       "      <td>Bridget Jones's Diary (2001)</td>\n",
       "      <td>Comedy|Drama|Romance</td>\n",
       "      <td>65.0</td>\n",
       "      <td>3.623077</td>\n",
       "    </tr>\n",
       "    <tr>\n",
       "      <th>4011</th>\n",
       "      <td>4.200000</td>\n",
       "      <td>5</td>\n",
       "      <td>Snatch (2000)</td>\n",
       "      <td>Comedy|Crime|Thriller</td>\n",
       "      <td>93.0</td>\n",
       "      <td>4.155914</td>\n",
       "    </tr>\n",
       "  </tbody>\n",
       "</table>\n",
       "</div>"
      ],
      "text/plain": [
       "         nota_media_dos_usuarios  nota_aparicoes_nos_usuarios  \\\n",
       "filmeId                                                         \n",
       "318                     4.500000                            8   \n",
       "919                     4.400000                            5   \n",
       "79132                   4.357143                            7   \n",
       "356                     4.350000                           10   \n",
       "7361                    4.312500                            8   \n",
       "904                     4.300000                            5   \n",
       "593                     4.222222                            9   \n",
       "46578                   4.214286                            7   \n",
       "4246                    4.200000                            5   \n",
       "4011                    4.200000                            5   \n",
       "\n",
       "                                               titulo  \\\n",
       "filmeId                                                 \n",
       "318                  Shawshank Redemption, The (1994)   \n",
       "919                          Wizard of Oz, The (1939)   \n",
       "79132                                Inception (2010)   \n",
       "356                               Forrest Gump (1994)   \n",
       "7361     Eternal Sunshine of the Spotless Mind (2004)   \n",
       "904                                Rear Window (1954)   \n",
       "593                  Silence of the Lambs, The (1991)   \n",
       "46578                     Little Miss Sunshine (2006)   \n",
       "4246                     Bridget Jones's Diary (2001)   \n",
       "4011                                    Snatch (2000)   \n",
       "\n",
       "                                                 generos  total_de_votos  \\\n",
       "filmeId                                                                    \n",
       "318                                          Crime|Drama           317.0   \n",
       "919                   Adventure|Children|Fantasy|Musical            92.0   \n",
       "79132    Action|Crime|Drama|Mystery|Sci-Fi|Thriller|IMAX           143.0   \n",
       "356                             Comedy|Drama|Romance|War           329.0   \n",
       "7361                                Drama|Romance|Sci-Fi           131.0   \n",
       "904                                     Mystery|Thriller            84.0   \n",
       "593                                Crime|Horror|Thriller           279.0   \n",
       "46578                             Adventure|Comedy|Drama            77.0   \n",
       "4246                                Comedy|Drama|Romance            65.0   \n",
       "4011                               Comedy|Crime|Thriller            93.0   \n",
       "\n",
       "         nota_media  \n",
       "filmeId              \n",
       "318        4.429022  \n",
       "919        3.880435  \n",
       "79132      4.066434  \n",
       "356        4.164134  \n",
       "7361       4.160305  \n",
       "904        4.261905  \n",
       "593        4.161290  \n",
       "46578      3.883117  \n",
       "4246       3.623077  \n",
       "4011       4.155914  "
      ]
     },
     "execution_count": 18,
     "metadata": {},
     "output_type": "execute_result"
    }
   ],
   "source": [
    "sugere_para(611).head(10)"
   ]
  }
 ],
 "metadata": {
  "hide_input": false,
  "kernelspec": {
   "display_name": "Python 3",
   "language": "python",
   "name": "python3"
  },
  "language_info": {
   "codemirror_mode": {
    "name": "ipython",
    "version": 3
   },
   "file_extension": ".py",
   "mimetype": "text/x-python",
   "name": "python",
   "nbconvert_exporter": "python",
   "pygments_lexer": "ipython3",
   "version": "3.7.5"
  },
  "toc": {
   "base_numbering": 1,
   "nav_menu": {},
   "number_sections": true,
   "sideBar": true,
   "skip_h1_title": false,
   "title_cell": "Table of Contents",
   "title_sidebar": "Contents",
   "toc_cell": false,
   "toc_position": {},
   "toc_section_display": true,
   "toc_window_display": false
  },
  "varInspector": {
   "cols": {
    "lenName": 16,
    "lenType": 16,
    "lenVar": 40
   },
   "kernels_config": {
    "python": {
     "delete_cmd_postfix": "",
     "delete_cmd_prefix": "del ",
     "library": "var_list.py",
     "varRefreshCmd": "print(var_dic_list())"
    },
    "r": {
     "delete_cmd_postfix": ") ",
     "delete_cmd_prefix": "rm(",
     "library": "var_list.r",
     "varRefreshCmd": "cat(var_dic_list()) "
    }
   },
   "types_to_exclude": [
    "module",
    "function",
    "builtin_function_or_method",
    "instance",
    "_Feature"
   ],
   "window_display": false
  }
 },
 "nbformat": 4,
 "nbformat_minor": 4
}
