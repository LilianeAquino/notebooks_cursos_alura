{
  "nbformat": 4,
  "nbformat_minor": 0,
  "metadata": {
    "colab": {
      "name": "classificacao_roupas_parte_II.ipynb",
      "provenance": [],
      "collapsed_sections": []
    },
    "kernelspec": {
      "name": "python3",
      "display_name": "Python 3"
    }
  },
  "cells": [
    {
      "cell_type": "markdown",
      "metadata": {
        "id": "mdhUIWs4-qJC"
      },
      "source": [
        "# Introdução com Keras"
      ]
    },
    {
      "cell_type": "code",
      "metadata": {
        "colab": {
          "base_uri": "https://localhost:8080/"
        },
        "id": "3uVHEtE23li8",
        "outputId": "54aeb56f-604f-4d42-d29b-578cb22d11ba"
      },
      "source": [
        "from google.colab import drive\n",
        "drive.mount('/content/drive')"
      ],
      "execution_count": 1,
      "outputs": [
        {
          "output_type": "stream",
          "text": [
            "Mounted at /content/drive\n"
          ],
          "name": "stdout"
        }
      ]
    },
    {
      "cell_type": "markdown",
      "metadata": {
        "id": "GbYya2p7-z9t"
      },
      "source": [
        "### Bibliotecas básicas"
      ]
    },
    {
      "cell_type": "code",
      "metadata": {
        "id": "wNBE3J-I-pjn"
      },
      "source": [
        "import numpy as np\n",
        "import pandas as pd\n",
        "import seaborn as sns\n",
        "import matplotlib.pyplot as plt\n",
        "%matplotlib inline\n",
        "\n",
        "import tensorflow\n",
        "from tensorflow import keras\n",
        "\n",
        "import warnings\n",
        "warnings.filterwarnings('ignore')"
      ],
      "execution_count": 2,
      "outputs": []
    },
    {
      "cell_type": "markdown",
      "metadata": {
        "id": "y9ovis2D-5qr"
      },
      "source": [
        "### Carregando o dataset"
      ]
    },
    {
      "cell_type": "code",
      "metadata": {
        "id": "qnBOMfgCT8vY",
        "colab": {
          "base_uri": "https://localhost:8080/"
        },
        "outputId": "1a0a65a0-6050-46d5-c8b7-64c05da8cf62"
      },
      "source": [
        "dataset = keras.datasets.fashion_mnist\n",
        "((imagens_treino, identificacoes_treino), (imagens_teste, identificacoes_teste)) = dataset.load_data()"
      ],
      "execution_count": 3,
      "outputs": [
        {
          "output_type": "stream",
          "text": [
            "Downloading data from https://storage.googleapis.com/tensorflow/tf-keras-datasets/train-labels-idx1-ubyte.gz\n",
            "32768/29515 [=================================] - 0s 0us/step\n",
            "Downloading data from https://storage.googleapis.com/tensorflow/tf-keras-datasets/train-images-idx3-ubyte.gz\n",
            "26427392/26421880 [==============================] - 0s 0us/step\n",
            "Downloading data from https://storage.googleapis.com/tensorflow/tf-keras-datasets/t10k-labels-idx1-ubyte.gz\n",
            "8192/5148 [===============================================] - 0s 0us/step\n",
            "Downloading data from https://storage.googleapis.com/tensorflow/tf-keras-datasets/t10k-images-idx3-ubyte.gz\n",
            "4423680/4422102 [==============================] - 0s 0us/step\n"
          ],
          "name": "stdout"
        }
      ]
    },
    {
      "cell_type": "markdown",
      "metadata": {
        "id": "RC3WtJ5xEFMd"
      },
      "source": [
        "### Exploração dos dados"
      ]
    },
    {
      "cell_type": "code",
      "metadata": {
        "colab": {
          "base_uri": "https://localhost:8080/"
        },
        "id": "V3HUukUB_sEd",
        "outputId": "33b4a0aa-a102-4c8c-81fe-5e0329bd38ba"
      },
      "source": [
        "print(f'Shape treino: {imagens_treino.shape}')\n",
        "print(f'Shape teste: {imagens_teste.shape}')"
      ],
      "execution_count": 4,
      "outputs": [
        {
          "output_type": "stream",
          "text": [
            "Shape treino: (60000, 28, 28)\n",
            "Shape teste: (10000, 28, 28)\n"
          ],
          "name": "stdout"
        }
      ]
    },
    {
      "cell_type": "markdown",
      "metadata": {
        "id": "t4ImEjUXEISQ"
      },
      "source": [
        "### Exibição dos dados"
      ]
    },
    {
      "cell_type": "code",
      "metadata": {
        "colab": {
          "base_uri": "https://localhost:8080/",
          "height": 280
        },
        "id": "CI5jaGAP_fi9",
        "outputId": "2cbe3f1d-1874-4e10-aa30-53b16faf85e0"
      },
      "source": [
        "plt.imshow(imagens_treino[0])\n",
        "plt.title(identificacoes_treino[0])\n",
        "plt.show()"
      ],
      "execution_count": 5,
      "outputs": [
        {
          "output_type": "display_data",
          "data": {
            "image/png": "[encoded data removed]",
            "text/plain": [
              "<Figure size 432x288 with 1 Axes>"
            ]
          },
          "metadata": {
            "tags": [],
            "needs_background": "light"
          }
        }
      ]
    },
    {
      "cell_type": "code",
      "metadata": {
        "colab": {
          "base_uri": "https://localhost:8080/",
          "height": 331
        },
        "id": "UBL_i5XmEXa6",
        "outputId": "7c34a085-80dd-4e05-f86c-93a224aba0c9"
      },
      "source": [
        "total_labels = 10\n",
        "nome_classificacoes = ['camiseta', 'calça', 'pullover', 'vestido', 'casaco', 'sandália', 'camisa', 'tênis', 'bolsa', 'bota']\n",
        "\n",
        "\n",
        "for imagem in range(3):\n",
        "  plt.subplot(2, 5, imagem+1)\n",
        "  plt.imshow(imagens_treino[imagem])\n",
        "  plt.title(nome_classificacoes[identificacoes_treino[imagem]])\n",
        "  plt.show()  "
      ],
      "execution_count": 6,
      "outputs": [
        {
          "output_type": "display_data",
          "data": {
            "image/png": "[encoded data removed]",
            "text/plain": [
              "<Figure size 432x288 with 1 Axes>"
            ]
          },
          "metadata": {
            "tags": [],
            "needs_background": "light"
          }
        },
        {
          "output_type": "display_data",
          "data": {
            "image/png": "[encoded data removed]",
            "text/plain": [
              "<Figure size 432x288 with 1 Axes>"
            ]
          },
          "metadata": {
            "tags": [],
            "needs_background": "light"
          }
        },
        {
          "output_type": "display_data",
          "data": {
            "image/png": "[encoded data removed]",
            "text/plain": [
              "<Figure size 432x288 with 1 Axes>"
            ]
          },
          "metadata": {
            "tags": [],
            "needs_background": "light"
          }
        }
      ]
    },
    {
      "cell_type": "code",
      "metadata": {
        "colab": {
          "base_uri": "https://localhost:8080/",
          "height": 265
        },
        "id": "iWWCq0y7MJqx",
        "outputId": "65ceb6a4-208d-44d6-de9d-070b01016d11"
      },
      "source": [
        "plt.imshow(imagens_treino[0])\n",
        "plt.colorbar()\n",
        "plt.show()"
      ],
      "execution_count": 7,
      "outputs": [
        {
          "output_type": "display_data",
          "data": {
            "image/png": "[encoded data removed]",
            "text/plain": [
              "<Figure size 432x288 with 2 Axes>"
            ]
          },
          "metadata": {
            "tags": [],
            "needs_background": "light"
          }
        }
      ]
    },
    {
      "cell_type": "markdown",
      "metadata": {
        "id": "KogF6T7qFpfH"
      },
      "source": [
        "### Criando o modelo\n",
        "\n",
        "\n",
        "     modelo sequencia\n",
        "                        entrada\n",
        "                        processamento\n",
        "                        saída"
      ]
    },
    {
      "cell_type": "code",
      "metadata": {
        "id": "AK5uzRQFNCTi"
      },
      "source": [
        "imagens_treino_normalizado = imagens_treino/255.0"
      ],
      "execution_count": 8,
      "outputs": []
    },
    {
      "cell_type": "code",
      "metadata": {
        "id": "aMUUUPt7Frai",
        "colab": {
          "base_uri": "https://localhost:8080/"
        },
        "outputId": "ebfc9622-4cec-4694-bac5-cacdd5086ed6"
      },
      "source": [
        "modelo = keras.Sequential([\n",
        "                           keras.layers.Flatten(input_shape=(28, 28)),\n",
        "                           keras.layers.Dense(256, activation=tensorflow.nn.relu),\n",
        "                           keras.layers.Dropout(0.2),\n",
        "                           keras.layers.Dense(total_labels, activation=tensorflow.nn.softmax)\n",
        "                           ])\n",
        "modelo.compile(optimizer='adam', loss='sparse_categorical_crossentropy', metrics='accuracy')\n",
        "historico = modelo.fit(imagens_treino_normalizado, identificacoes_treino, epochs=5, validation_split=0.2)"
      ],
      "execution_count": 9,
      "outputs": [
        {
          "output_type": "stream",
          "text": [
            "Epoch 1/5\n",
            "1500/1500 [==============================] - 6s 4ms/step - loss: 0.6576 - accuracy: 0.7690 - val_loss: 0.3936 - val_accuracy: 0.8578\n",
            "Epoch 2/5\n",
            "1500/1500 [==============================] - 5s 3ms/step - loss: 0.4103 - accuracy: 0.8513 - val_loss: 0.3789 - val_accuracy: 0.8604\n",
            "Epoch 3/5\n",
            "1500/1500 [==============================] - 5s 3ms/step - loss: 0.3639 - accuracy: 0.8665 - val_loss: 0.4178 - val_accuracy: 0.8415\n",
            "Epoch 4/5\n",
            "1500/1500 [==============================] - 5s 3ms/step - loss: 0.3414 - accuracy: 0.8734 - val_loss: 0.3378 - val_accuracy: 0.8788\n",
            "Epoch 5/5\n",
            "1500/1500 [==============================] - 5s 3ms/step - loss: 0.3250 - accuracy: 0.8799 - val_loss: 0.3402 - val_accuracy: 0.8787\n"
          ],
          "name": "stdout"
        }
      ]
    },
    {
      "cell_type": "markdown",
      "metadata": {
        "id": "N5rTr3sHRQtF"
      },
      "source": [
        "### Avaliando o modelo"
      ]
    },
    {
      "cell_type": "code",
      "metadata": {
        "colab": {
          "base_uri": "https://localhost:8080/"
        },
        "id": "LlMOClx-RDwU",
        "outputId": "1f45cbc2-f35f-4a42-b31c-99941ed0aed0"
      },
      "source": [
        "testes = modelo.predict(imagens_teste)\n",
        "print(f'Predito: {np.argmax(testes[0])}')\n",
        "print(f'Real: {identificacoes_teste[0]}')"
      ],
      "execution_count": 10,
      "outputs": [
        {
          "output_type": "stream",
          "text": [
            "Predito: 9\n",
            "Real: 9\n"
          ],
          "name": "stdout"
        }
      ]
    },
    {
      "cell_type": "code",
      "metadata": {
        "colab": {
          "base_uri": "https://localhost:8080/"
        },
        "id": "J-Lr1T8lRQSE",
        "outputId": "94f242bb-99c7-417b-b56c-f517fa363469"
      },
      "source": [
        "perda_teste, acuracia_teste = modelo.evaluate(imagens_teste, identificacoes_teste)\n",
        "print(f'Perda: {perda_teste} | Acurácia: {acuracia_teste}')"
      ],
      "execution_count": 11,
      "outputs": [
        {
          "output_type": "stream",
          "text": [
            "313/313 [==============================] - 1s 2ms/step - loss: 51.3830 - accuracy: 0.8661\n",
            "Perda: 51.383026123046875 | Acurácia: 0.866100013256073\n"
          ],
          "name": "stdout"
        }
      ]
    },
    {
      "cell_type": "markdown",
      "metadata": {
        "id": "DL5INsYSTYzs"
      },
      "source": [
        "### Visualização das acurácias de treino e validação por época"
      ]
    },
    {
      "cell_type": "code",
      "metadata": {
        "colab": {
          "base_uri": "https://localhost:8080/",
          "height": 296
        },
        "id": "tQMPKdC3TaLe",
        "outputId": "0aefeb94-da6d-4854-809c-925ef7373dc1"
      },
      "source": [
        "plt.plot(historico.history['accuracy'])\n",
        "plt.plot(historico.history['val_accuracy'])\n",
        "plt.title('Acurácia por épocas')\n",
        "plt.xlabel('Épocas')\n",
        "plt.ylabel('Acurácia ')\n",
        "plt.legend(['treino', 'validação'])\n",
        "plt.show()"
      ],
      "execution_count": 12,
      "outputs": [
        {
          "output_type": "display_data",
          "data": {
            "image/png": "[encoded data removed]",
            "text/plain": [
              "<Figure size 432x288 with 1 Axes>"
            ]
          },
          "metadata": {
            "tags": [],
            "needs_background": "light"
          }
        }
      ]
    },
    {
      "cell_type": "markdown",
      "metadata": {
        "id": "CTB43j1Z5QZM"
      },
      "source": [
        "### Visualização das perdas de treino e validação por época"
      ]
    },
    {
      "cell_type": "code",
      "metadata": {
        "colab": {
          "base_uri": "https://localhost:8080/",
          "height": 296
        },
        "id": "LgPiDCOiUoVG",
        "outputId": "60d82718-fd6e-436f-c1f7-3972f7d06ccf"
      },
      "source": [
        "plt.plot(historico.history['loss'])\n",
        "plt.plot(historico.history['val_loss'])\n",
        "plt.title('Perda por épocas')\n",
        "plt.xlabel('Épocas')\n",
        "plt.ylabel('Perda ')\n",
        "plt.legend(['treino', 'validação'])\n",
        "plt.show()"
      ],
      "execution_count": 13,
      "outputs": [
        {
          "output_type": "display_data",
          "data": {
            "image/png": "[encoded data removed]",
            "text/plain": [
              "<Figure size 432x288 with 1 Axes>"
            ]
          },
          "metadata": {
            "tags": [],
            "needs_background": "light"
          }
        }
      ]
    },
    {
      "cell_type": "markdown",
      "metadata": {
        "id": "lqdgnBMmXUVZ"
      },
      "source": [
        "### Salvando o modelo"
      ]
    },
    {
      "cell_type": "code",
      "metadata": {
        "id": "iBxvOVlrXV3O"
      },
      "source": [
        "modelo.save('/content/drive/MyDrive/Colab Notebooks/Alura/modelo.h5')"
      ],
      "execution_count": 14,
      "outputs": []
    },
    {
      "cell_type": "markdown",
      "metadata": {
        "id": "43sisYEx4uGr"
      },
      "source": [
        "### Carregando o modelo"
      ]
    },
    {
      "cell_type": "code",
      "metadata": {
        "id": "4mn0LfuCXkh9"
      },
      "source": [
        "from tensorflow.keras.models import load_model\n",
        "modelo_salvo = load_model('/content/drive/MyDrive/Colab Notebooks/Alura/modelo.h5')"
      ],
      "execution_count": 15,
      "outputs": []
    },
    {
      "cell_type": "markdown",
      "metadata": {
        "id": "1nYJim5D4xBv"
      },
      "source": [
        "### Predição"
      ]
    },
    {
      "cell_type": "code",
      "metadata": {
        "colab": {
          "base_uri": "https://localhost:8080/"
        },
        "id": "2zOK8WXN4Irt",
        "outputId": "e20f2951-4f9f-4bfb-b878-6859d2fdb048"
      },
      "source": [
        "testes_modelo_salvo = modelo_salvo.predict(imagens_teste)\n",
        "print(f'Predito: {np.argmax(testes_modelo_salvo[0])}')"
      ],
      "execution_count": 16,
      "outputs": [
        {
          "output_type": "stream",
          "text": [
            "Predito: 9\n"
          ],
          "name": "stdout"
        }
      ]
    },
    {
      "cell_type": "markdown",
      "metadata": {
        "id": "B_pf3oNEEUWx"
      },
      "source": [
        "# Parte 2"
      ]
    },
    {
      "cell_type": "markdown",
      "metadata": {
        "id": "BuhC84wO7-l2"
      },
      "source": [
        "### Resumo do modelo"
      ]
    },
    {
      "cell_type": "code",
      "metadata": {
        "colab": {
          "base_uri": "https://localhost:8080/"
        },
        "id": "yWc6xDkd8A-I",
        "outputId": "ac1e0e13-8862-4706-e0c0-c154d838286c"
      },
      "source": [
        "sumario_do_modelo = modelo.summary()\n",
        "sumario_do_modelo"
      ],
      "execution_count": 17,
      "outputs": [
        {
          "output_type": "stream",
          "text": [
            "Model: \"sequential\"\n",
            "_________________________________________________________________\n",
            "Layer (type)                 Output Shape              Param #   \n",
            "=================================================================\n",
            "flatten (Flatten)            (None, 784)               0         \n",
            "_________________________________________________________________\n",
            "dense (Dense)                (None, 256)               200960    \n",
            "_________________________________________________________________\n",
            "dropout (Dropout)            (None, 256)               0         \n",
            "_________________________________________________________________\n",
            "dense_1 (Dense)              (None, 10)                2570      \n",
            "=================================================================\n",
            "Total params: 203,530\n",
            "Trainable params: 203,530\n",
            "Non-trainable params: 0\n",
            "_________________________________________________________________\n"
          ],
          "name": "stdout"
        }
      ]
    },
    {
      "cell_type": "markdown",
      "metadata": {
        "id": "sboNnBXp-BNr"
      },
      "source": [
        "### Pesos da camada 1"
      ]
    },
    {
      "cell_type": "code",
      "metadata": {
        "colab": {
          "base_uri": "https://localhost:8080/"
        },
        "id": "WptOQcCZ-F0N",
        "outputId": "9cce7225-b465-451c-c241-1f9917bad539"
      },
      "source": [
        "pesos_dense_1 = modelo.layers[1].get_weights()[0]\n",
        "pesos_dense_1"
      ],
      "execution_count": 18,
      "outputs": [
        {
          "output_type": "execute_result",
          "data": {
            "text/plain": [
              "array([[ 0.01012997,  0.11015033,  0.00935624, ...,  0.0342704 ,\n",
              "         0.0324109 ,  0.01354878],\n",
              "       [ 0.03389582,  0.07113414, -0.03362895, ..., -0.04065632,\n",
              "        -0.08135889, -0.081861  ],\n",
              "       [-0.04982436,  0.18748954, -0.02009995, ..., -0.08665759,\n",
              "        -0.06349906, -0.0777782 ],\n",
              "       ...,\n",
              "       [ 0.00996395, -0.09849817,  0.13379574, ..., -0.07061328,\n",
              "         0.02630072, -0.05171257],\n",
              "       [ 0.04187987, -0.01190138,  0.27581355, ..., -0.20320997,\n",
              "         0.03715806, -0.0237327 ],\n",
              "       [-0.05407104, -0.05439032,  0.04387961, ..., -0.21937874,\n",
              "        -0.06018431,  0.00432681]], dtype=float32)"
            ]
          },
          "metadata": {
            "tags": []
          },
          "execution_count": 18
        }
      ]
    },
    {
      "cell_type": "code",
      "metadata": {
        "colab": {
          "base_uri": "https://localhost:8080/"
        },
        "id": "C-0w6B5XCbUA",
        "outputId": "06c83e93-58e9-4975-9a1c-b605567ae9cc"
      },
      "source": [
        "pesos_dense_1.shape"
      ],
      "execution_count": 19,
      "outputs": [
        {
          "output_type": "execute_result",
          "data": {
            "text/plain": [
              "(784, 256)"
            ]
          },
          "metadata": {
            "tags": []
          },
          "execution_count": 19
        }
      ]
    },
    {
      "cell_type": "markdown",
      "metadata": {
        "id": "UR0IZBjzAn6f"
      },
      "source": [
        "### Vieses da camada 1"
      ]
    },
    {
      "cell_type": "code",
      "metadata": {
        "colab": {
          "base_uri": "https://localhost:8080/"
        },
        "id": "PADUvzgEAtPd",
        "outputId": "9e5847c7-a88e-400a-866d-090ab27c233b"
      },
      "source": [
        "vieses_dense_1 = modelo.layers[1].get_weights()[1] #viés mede a distância da classe correta\n",
        "vieses_dense_1[:10]"
      ],
      "execution_count": 20,
      "outputs": [
        {
          "output_type": "execute_result",
          "data": {
            "text/plain": [
              "array([-0.03164108,  0.12694666,  0.29062283,  0.23216376, -0.10695583,\n",
              "       -0.29275426,  0.07360135,  0.3429711 ,  0.16738923, -0.19327267],\n",
              "      dtype=float32)"
            ]
          },
          "metadata": {
            "tags": []
          },
          "execution_count": 20
        }
      ]
    },
    {
      "cell_type": "code",
      "metadata": {
        "colab": {
          "base_uri": "https://localhost:8080/"
        },
        "id": "rpU4hV4zCfTn",
        "outputId": "31e38b7c-516a-4632-da74-7227167b2940"
      },
      "source": [
        "vieses_dense_1.shape"
      ],
      "execution_count": 21,
      "outputs": [
        {
          "output_type": "execute_result",
          "data": {
            "text/plain": [
              "(256,)"
            ]
          },
          "metadata": {
            "tags": []
          },
          "execution_count": 21
        }
      ]
    },
    {
      "cell_type": "markdown",
      "metadata": {
        "id": "vEaNXFp5CnBv"
      },
      "source": [
        "### Zerando os pesos"
      ]
    },
    {
      "cell_type": "code",
      "metadata": {
        "colab": {
          "base_uri": "https://localhost:8080/"
        },
        "id": "SZ-wcfROCmY4",
        "outputId": "50b835f0-6eb3-452f-d9f1-26a86b9bbf91"
      },
      "source": [
        "pesos_dense_1_zerados = np.zeros(pesos_dense_1.shape)\n",
        "print(pesos_dense_1_zerados.shape)\n",
        "pesos_dense_1_zerados"
      ],
      "execution_count": 22,
      "outputs": [
        {
          "output_type": "stream",
          "text": [
            "(784, 256)\n"
          ],
          "name": "stdout"
        },
        {
          "output_type": "execute_result",
          "data": {
            "text/plain": [
              "array([[0., 0., 0., ..., 0., 0., 0.],\n",
              "       [0., 0., 0., ..., 0., 0., 0.],\n",
              "       [0., 0., 0., ..., 0., 0., 0.],\n",
              "       ...,\n",
              "       [0., 0., 0., ..., 0., 0., 0.],\n",
              "       [0., 0., 0., ..., 0., 0., 0.],\n",
              "       [0., 0., 0., ..., 0., 0., 0.]])"
            ]
          },
          "metadata": {
            "tags": []
          },
          "execution_count": 22
        }
      ]
    },
    {
      "cell_type": "code",
      "metadata": {
        "colab": {
          "base_uri": "https://localhost:8080/"
        },
        "id": "KtM8X36IDlEq",
        "outputId": "045f78b0-1218-43df-ea20-6be409ca4529"
      },
      "source": [
        "modelo.layers[1].set_weights([pesos_dense_1_zerados, vieses_dense_1])\n",
        "modelo.compile(optimizer='adam', loss='sparse_categorical_crossentropy', metrics='accuracy')\n",
        "historico = modelo.fit(imagens_treino_normalizado, identificacoes_treino, epochs=5, validation_split=0.2)"
      ],
      "execution_count": 23,
      "outputs": [
        {
          "output_type": "stream",
          "text": [
            "Epoch 1/5\n",
            "1500/1500 [==============================] - 5s 3ms/step - loss: 0.6926 - accuracy: 0.7545 - val_loss: 0.4247 - val_accuracy: 0.8410\n",
            "Epoch 2/5\n",
            "1500/1500 [==============================] - 5s 3ms/step - loss: 0.4165 - accuracy: 0.8455 - val_loss: 0.3783 - val_accuracy: 0.8660\n",
            "Epoch 3/5\n",
            "1500/1500 [==============================] - 5s 3ms/step - loss: 0.3676 - accuracy: 0.8664 - val_loss: 0.3482 - val_accuracy: 0.8721\n",
            "Epoch 4/5\n",
            "1500/1500 [==============================] - 5s 3ms/step - loss: 0.3568 - accuracy: 0.8682 - val_loss: 0.3500 - val_accuracy: 0.8729\n",
            "Epoch 5/5\n",
            "1500/1500 [==============================] - 5s 3ms/step - loss: 0.3370 - accuracy: 0.8759 - val_loss: 0.3404 - val_accuracy: 0.8775\n"
          ],
          "name": "stdout"
        }
      ]
    },
    {
      "cell_type": "markdown",
      "metadata": {
        "id": "BiNLluYGEfRZ"
      },
      "source": [
        "### Visualizando as acurácias e perdas"
      ]
    },
    {
      "cell_type": "code",
      "metadata": {
        "colab": {
          "base_uri": "https://localhost:8080/",
          "height": 296
        },
        "id": "GkPzsggPEfYx",
        "outputId": "655f45b1-1af3-4f23-e991-7ebb6937e2b7"
      },
      "source": [
        "plt.plot(historico.history['accuracy'])\n",
        "plt.plot(historico.history['val_accuracy'])\n",
        "plt.title('Acurácia por épocas')\n",
        "plt.xlabel('Épocas')\n",
        "plt.ylabel('Acurácia ')\n",
        "plt.legend(['treino', 'validação'])\n",
        "plt.show()"
      ],
      "execution_count": 24,
      "outputs": [
        {
          "output_type": "display_data",
          "data": {
            "image/png": "[encoded data removed]",
            "text/plain": [
              "<Figure size 432x288 with 1 Axes>"
            ]
          },
          "metadata": {
            "tags": [],
            "needs_background": "light"
          }
        }
      ]
    },
    {
      "cell_type": "markdown",
      "metadata": {
        "id": "-puY2Y9JFc8j"
      },
      "source": [
        "### Deixando os pesos aleatórios"
      ]
    },
    {
      "cell_type": "code",
      "metadata": {
        "colab": {
          "base_uri": "https://localhost:8080/"
        },
        "id": "coKPiFQ7FfgG",
        "outputId": "ca1e24f9-ed8e-419e-9687-abc2ac7e73b4"
      },
      "source": [
        "pesos_dense_1_aleatorios = np.random.rand(784, 256)\n",
        "print(pesos_dense_1_aleatorios.shape)\n",
        "pesos_dense_1_aleatorios"
      ],
      "execution_count": 25,
      "outputs": [
        {
          "output_type": "stream",
          "text": [
            "(784, 256)\n"
          ],
          "name": "stdout"
        },
        {
          "output_type": "execute_result",
          "data": {
            "text/plain": [
              "array([[0.53082924, 0.3917996 , 0.75237631, ..., 0.31294595, 0.51809002,\n",
              "        0.14597907],\n",
              "       [0.0740488 , 0.2732697 , 0.72187693, ..., 0.9449657 , 0.18182091,\n",
              "        0.05417285],\n",
              "       [0.05671552, 0.58492917, 0.36784635, ..., 0.91553132, 0.30292022,\n",
              "        0.0599394 ],\n",
              "       ...,\n",
              "       [0.74396453, 0.47349202, 0.50518712, ..., 0.47887205, 0.9953363 ,\n",
              "        0.41961713],\n",
              "       [0.50032737, 0.83452452, 0.24764337, ..., 0.75266572, 0.713041  ,\n",
              "        0.08647026],\n",
              "       [0.79679262, 0.24238073, 0.69986278, ..., 0.82978826, 0.73123547,\n",
              "        0.92423825]])"
            ]
          },
          "metadata": {
            "tags": []
          },
          "execution_count": 25
        }
      ]
    },
    {
      "cell_type": "code",
      "metadata": {
        "colab": {
          "base_uri": "https://localhost:8080/"
        },
        "id": "uk235m7LF5-i",
        "outputId": "a374f49b-518c-41c0-8c85-47e49e2b8127"
      },
      "source": [
        "modelo.layers[1].set_weights([pesos_dense_1_aleatorios, vieses_dense_1])\n",
        "modelo.compile(optimizer='adam', loss='sparse_categorical_crossentropy', metrics='accuracy')\n",
        "historico = modelo.fit(imagens_treino_normalizado, identificacoes_treino, epochs=5, validation_split=0.2)"
      ],
      "execution_count": 26,
      "outputs": [
        {
          "output_type": "stream",
          "text": [
            "Epoch 1/5\n",
            "1500/1500 [==============================] - 5s 3ms/step - loss: 212.4749 - accuracy: 0.2954 - val_loss: 15.5365 - val_accuracy: 0.7448\n",
            "Epoch 2/5\n",
            "1500/1500 [==============================] - 4s 3ms/step - loss: 36.9285 - accuracy: 0.6129 - val_loss: 9.6866 - val_accuracy: 0.7673\n",
            "Epoch 3/5\n",
            "1500/1500 [==============================] - 4s 3ms/step - loss: 16.6989 - accuracy: 0.6850 - val_loss: 6.3249 - val_accuracy: 0.7832\n",
            "Epoch 4/5\n",
            "1500/1500 [==============================] - 5s 3ms/step - loss: 8.3846 - accuracy: 0.7258 - val_loss: 3.7189 - val_accuracy: 0.8112\n",
            "Epoch 5/5\n",
            "1500/1500 [==============================] - 5s 3ms/step - loss: 4.1652 - accuracy: 0.7514 - val_loss: 2.4144 - val_accuracy: 0.7922\n"
          ],
          "name": "stdout"
        }
      ]
    },
    {
      "cell_type": "code",
      "metadata": {
        "colab": {
          "base_uri": "https://localhost:8080/",
          "height": 296
        },
        "id": "L7FWqK0wF_da",
        "outputId": "142cb8b8-074b-44b1-f32c-8722ae5ec835"
      },
      "source": [
        "plt.plot(historico.history['accuracy'])\n",
        "plt.plot(historico.history['val_accuracy'])\n",
        "plt.title('Acurácia por épocas')\n",
        "plt.xlabel('Épocas')\n",
        "plt.ylabel('Acurácia ')\n",
        "plt.legend(['treino', 'validação'])\n",
        "plt.show()"
      ],
      "execution_count": 27,
      "outputs": [
        {
          "output_type": "display_data",
          "data": {
            "image/png": "[encoded data removed]",
            "text/plain": [
              "<Figure size 432x288 with 1 Axes>"
            ]
          },
          "metadata": {
            "tags": [],
            "needs_background": "light"
          }
        }
      ]
    },
    {
      "cell_type": "markdown",
      "metadata": {
        "id": "3Yv0ktAzHgd-"
      },
      "source": [
        "### Configuração do modelo"
      ]
    },
    {
      "cell_type": "code",
      "metadata": {
        "id": "jOcHKMQQHc_x",
        "colab": {
          "base_uri": "https://localhost:8080/"
        },
        "outputId": "e6914e7c-01b1-44ce-b0c8-2f7dccc62e2a"
      },
      "source": [
        "modelo.get_config()"
      ],
      "execution_count": 28,
      "outputs": [
        {
          "output_type": "execute_result",
          "data": {
            "text/plain": [
              "{'layers': [{'class_name': 'InputLayer',\n",
              "   'config': {'batch_input_shape': (None, 28, 28),\n",
              "    'dtype': 'float32',\n",
              "    'name': 'flatten_input',\n",
              "    'ragged': False,\n",
              "    'sparse': False}},\n",
              "  {'class_name': 'Flatten',\n",
              "   'config': {'batch_input_shape': (None, 28, 28),\n",
              "    'data_format': 'channels_last',\n",
              "    'dtype': 'float32',\n",
              "    'name': 'flatten',\n",
              "    'trainable': True}},\n",
              "  {'class_name': 'Dense',\n",
              "   'config': {'activation': 'relu',\n",
              "    'activity_regularizer': None,\n",
              "    'bias_constraint': None,\n",
              "    'bias_initializer': {'class_name': 'Zeros', 'config': {}},\n",
              "    'bias_regularizer': None,\n",
              "    'dtype': 'float32',\n",
              "    'kernel_constraint': None,\n",
              "    'kernel_initializer': {'class_name': 'GlorotUniform',\n",
              "     'config': {'seed': None}},\n",
              "    'kernel_regularizer': None,\n",
              "    'name': 'dense',\n",
              "    'trainable': True,\n",
              "    'units': 256,\n",
              "    'use_bias': True}},\n",
              "  {'class_name': 'Dropout',\n",
              "   'config': {'dtype': 'float32',\n",
              "    'name': 'dropout',\n",
              "    'noise_shape': None,\n",
              "    'rate': 0.2,\n",
              "    'seed': None,\n",
              "    'trainable': True}},\n",
              "  {'class_name': 'Dense',\n",
              "   'config': {'activation': 'softmax',\n",
              "    'activity_regularizer': None,\n",
              "    'bias_constraint': None,\n",
              "    'bias_initializer': {'class_name': 'Zeros', 'config': {}},\n",
              "    'bias_regularizer': None,\n",
              "    'dtype': 'float32',\n",
              "    'kernel_constraint': None,\n",
              "    'kernel_initializer': {'class_name': 'GlorotUniform',\n",
              "     'config': {'seed': None}},\n",
              "    'kernel_regularizer': None,\n",
              "    'name': 'dense_1',\n",
              "    'trainable': True,\n",
              "    'units': 10,\n",
              "    'use_bias': True}}],\n",
              " 'name': 'sequential'}"
            ]
          },
          "metadata": {
            "tags": []
          },
          "execution_count": 28
        }
      ]
    },
    {
      "cell_type": "markdown",
      "metadata": {
        "id": "1HT3-l3Z-6P8"
      },
      "source": [
        "### Viéses zerados com pesos zerados"
      ]
    },
    {
      "cell_type": "code",
      "metadata": {
        "colab": {
          "base_uri": "https://localhost:8080/"
        },
        "id": "RXuanLBo-6fU",
        "outputId": "ad79ce2d-b7e6-4f92-e748-619e0817e83c"
      },
      "source": [
        "vieses_dense_1_zerados = np.zeros((256,))\n",
        "print(vieses_dense_1_zerados.shape)\n",
        "vieses_dense_1_zerados"
      ],
      "execution_count": 29,
      "outputs": [
        {
          "output_type": "stream",
          "text": [
            "(256,)\n"
          ],
          "name": "stdout"
        },
        {
          "output_type": "execute_result",
          "data": {
            "text/plain": [
              "array([0., 0., 0., 0., 0., 0., 0., 0., 0., 0., 0., 0., 0., 0., 0., 0., 0.,\n",
              "       0., 0., 0., 0., 0., 0., 0., 0., 0., 0., 0., 0., 0., 0., 0., 0., 0.,\n",
              "       0., 0., 0., 0., 0., 0., 0., 0., 0., 0., 0., 0., 0., 0., 0., 0., 0.,\n",
              "       0., 0., 0., 0., 0., 0., 0., 0., 0., 0., 0., 0., 0., 0., 0., 0., 0.,\n",
              "       0., 0., 0., 0., 0., 0., 0., 0., 0., 0., 0., 0., 0., 0., 0., 0., 0.,\n",
              "       0., 0., 0., 0., 0., 0., 0., 0., 0., 0., 0., 0., 0., 0., 0., 0., 0.,\n",
              "       0., 0., 0., 0., 0., 0., 0., 0., 0., 0., 0., 0., 0., 0., 0., 0., 0.,\n",
              "       0., 0., 0., 0., 0., 0., 0., 0., 0., 0., 0., 0., 0., 0., 0., 0., 0.,\n",
              "       0., 0., 0., 0., 0., 0., 0., 0., 0., 0., 0., 0., 0., 0., 0., 0., 0.,\n",
              "       0., 0., 0., 0., 0., 0., 0., 0., 0., 0., 0., 0., 0., 0., 0., 0., 0.,\n",
              "       0., 0., 0., 0., 0., 0., 0., 0., 0., 0., 0., 0., 0., 0., 0., 0., 0.,\n",
              "       0., 0., 0., 0., 0., 0., 0., 0., 0., 0., 0., 0., 0., 0., 0., 0., 0.,\n",
              "       0., 0., 0., 0., 0., 0., 0., 0., 0., 0., 0., 0., 0., 0., 0., 0., 0.,\n",
              "       0., 0., 0., 0., 0., 0., 0., 0., 0., 0., 0., 0., 0., 0., 0., 0., 0.,\n",
              "       0., 0., 0., 0., 0., 0., 0., 0., 0., 0., 0., 0., 0., 0., 0., 0., 0.,\n",
              "       0.])"
            ]
          },
          "metadata": {
            "tags": []
          },
          "execution_count": 29
        }
      ]
    },
    {
      "cell_type": "code",
      "metadata": {
        "colab": {
          "base_uri": "https://localhost:8080/"
        },
        "id": "0JH-gCYg_Quh",
        "outputId": "113b9f53-0c1d-443e-8755-acad292c70b5"
      },
      "source": [
        "modelo.layers[1].set_weights([pesos_dense_1_zerados, vieses_dense_1_zerados])\n",
        "modelo.compile(optimizer='adam', loss='sparse_categorical_crossentropy', metrics='accuracy')\n",
        "historico = modelo.fit(imagens_treino_normalizado, identificacoes_treino, epochs=5, validation_split=0.2)"
      ],
      "execution_count": 30,
      "outputs": [
        {
          "output_type": "stream",
          "text": [
            "Epoch 1/5\n",
            "1500/1500 [==============================] - 5s 3ms/step - loss: 2.5305 - accuracy: 0.0997 - val_loss: 2.3312 - val_accuracy: 0.0995\n",
            "Epoch 2/5\n",
            "1500/1500 [==============================] - 4s 3ms/step - loss: 2.3161 - accuracy: 0.1019 - val_loss: 2.3035 - val_accuracy: 0.0995\n",
            "Epoch 3/5\n",
            "1500/1500 [==============================] - 5s 3ms/step - loss: 2.3032 - accuracy: 0.0983 - val_loss: 2.3027 - val_accuracy: 0.0995\n",
            "Epoch 4/5\n",
            "1500/1500 [==============================] - 5s 3ms/step - loss: 2.3027 - accuracy: 0.1001 - val_loss: 2.3027 - val_accuracy: 0.0983\n",
            "Epoch 5/5\n",
            "1500/1500 [==============================] - 5s 3ms/step - loss: 2.3027 - accuracy: 0.0990 - val_loss: 2.3027 - val_accuracy: 0.0957\n"
          ],
          "name": "stdout"
        }
      ]
    },
    {
      "cell_type": "code",
      "metadata": {
        "colab": {
          "base_uri": "https://localhost:8080/",
          "height": 296
        },
        "id": "2z8sUhyD_VwQ",
        "outputId": "299a888d-1d8a-4ab4-fa86-587cdaf5c30b"
      },
      "source": [
        "plt.plot(historico.history['accuracy'])\n",
        "plt.plot(historico.history['val_accuracy'])\n",
        "plt.title('Acurácia por épocas')\n",
        "plt.xlabel('Épocas')\n",
        "plt.ylabel('Acurácia ')\n",
        "plt.legend(['treino', 'validação'])\n",
        "plt.show()"
      ],
      "execution_count": 31,
      "outputs": [
        {
          "output_type": "display_data",
          "data": {
            "image/png": "[encoded data removed]",
            "text/plain": [
              "<Figure size 432x288 with 1 Axes>"
            ]
          },
          "metadata": {
            "tags": [],
            "needs_background": "light"
          }
        }
      ]
    },
    {
      "cell_type": "markdown",
      "metadata": {
        "id": "a0e9PNJ5ADMV"
      },
      "source": [
        "### Viéses zerados com pesos aleatórios"
      ]
    },
    {
      "cell_type": "code",
      "metadata": {
        "colab": {
          "base_uri": "https://localhost:8080/"
        },
        "id": "3keFIHA4AHc-",
        "outputId": "aae63b9c-f01a-4767-f51e-3f9275f6c902"
      },
      "source": [
        "modelo.layers[1].set_weights([pesos_dense_1_aleatorios, vieses_dense_1_zerados])\n",
        "modelo.compile(optimizer='adam', loss='sparse_categorical_crossentropy', metrics='accuracy')\n",
        "historico = modelo.fit(imagens_treino_normalizado, identificacoes_treino, epochs=5, validation_split=0.2)"
      ],
      "execution_count": 32,
      "outputs": [
        {
          "output_type": "stream",
          "text": [
            "Epoch 1/5\n",
            "1500/1500 [==============================] - 5s 3ms/step - loss: 71.4399 - accuracy: 0.2953 - val_loss: 6.8564 - val_accuracy: 0.6011\n",
            "Epoch 2/5\n",
            "1500/1500 [==============================] - 5s 3ms/step - loss: 12.6509 - accuracy: 0.5620 - val_loss: 5.4311 - val_accuracy: 0.6891\n",
            "Epoch 3/5\n",
            "1500/1500 [==============================] - 4s 3ms/step - loss: 6.8419 - accuracy: 0.6327 - val_loss: 3.6773 - val_accuracy: 0.6515\n",
            "Epoch 4/5\n",
            "1500/1500 [==============================] - 4s 3ms/step - loss: 3.8328 - accuracy: 0.6803 - val_loss: 2.4982 - val_accuracy: 0.7625\n",
            "Epoch 5/5\n",
            "1500/1500 [==============================] - 4s 3ms/step - loss: 2.7017 - accuracy: 0.7103 - val_loss: 1.4062 - val_accuracy: 0.7883\n"
          ],
          "name": "stdout"
        }
      ]
    },
    {
      "cell_type": "code",
      "metadata": {
        "colab": {
          "base_uri": "https://localhost:8080/",
          "height": 296
        },
        "id": "CxuqFCXKAHfY",
        "outputId": "c324e77d-3c78-4117-b491-c3f4b01cc277"
      },
      "source": [
        "plt.plot(historico.history['accuracy'])\n",
        "plt.plot(historico.history['val_accuracy'])\n",
        "plt.title('Acurácia por épocas')\n",
        "plt.xlabel('Épocas')\n",
        "plt.ylabel('Acurácia ')\n",
        "plt.legend(['treino', 'validação'])\n",
        "plt.show()"
      ],
      "execution_count": 33,
      "outputs": [
        {
          "output_type": "display_data",
          "data": {
            "image/png": "[encoded data removed]",
            "text/plain": [
              "<Figure size 432x288 with 1 Axes>"
            ]
          },
          "metadata": {
            "tags": [],
            "needs_background": "light"
          }
        }
      ]
    },
    {
      "cell_type": "markdown",
      "metadata": {
        "id": "6wVPL3tUOEBo"
      },
      "source": [
        "### Turning de hiperparâmetros"
      ]
    },
    {
      "cell_type": "markdown",
      "metadata": {
        "id": "V5GlnYyXvFbc"
      },
      "source": [
        "#### Taxa de aprendizado"
      ]
    },
    {
      "cell_type": "code",
      "metadata": {
        "colab": {
          "base_uri": "https://localhost:8080/"
        },
        "id": "VMRAPvQ5OGmo",
        "outputId": "dcc7b054-be21-4877-e2c3-1cbac4bdd335"
      },
      "source": [
        "adam = keras.optimizers.Adam(lr=0.5)\n",
        "modelo.compile(optimizer=adam, loss='sparse_categorical_crossentropy', metrics='accuracy')\n",
        "historico = modelo.fit(imagens_treino_normalizado, identificacoes_treino, epochs=5, validation_split=0.2)"
      ],
      "execution_count": 34,
      "outputs": [
        {
          "output_type": "stream",
          "text": [
            "Epoch 1/5\n",
            "1500/1500 [==============================] - 5s 3ms/step - loss: 30.1327 - accuracy: 0.1062 - val_loss: 2.3907 - val_accuracy: 0.0983\n",
            "Epoch 2/5\n",
            "1500/1500 [==============================] - 5s 4ms/step - loss: 2.3589 - accuracy: 0.1018 - val_loss: 2.3532 - val_accuracy: 0.1030\n",
            "Epoch 3/5\n",
            "1500/1500 [==============================] - 5s 3ms/step - loss: 2.3627 - accuracy: 0.0971 - val_loss: 2.3505 - val_accuracy: 0.1030\n",
            "Epoch 4/5\n",
            "1500/1500 [==============================] - 5s 3ms/step - loss: 2.3602 - accuracy: 0.1035 - val_loss: 2.3367 - val_accuracy: 0.0957\n",
            "Epoch 5/5\n",
            "1500/1500 [==============================] - 6s 4ms/step - loss: 2.3570 - accuracy: 0.0975 - val_loss: 2.3495 - val_accuracy: 0.0983\n"
          ],
          "name": "stdout"
        }
      ]
    },
    {
      "cell_type": "markdown",
      "metadata": {
        "id": "H3JVcS93t6ob"
      },
      "source": [
        "#### Batch size"
      ]
    },
    {
      "cell_type": "code",
      "metadata": {
        "colab": {
          "base_uri": "https://localhost:8080/"
        },
        "id": "kukkqfmnt7E2",
        "outputId": "ee93658e-0bac-48bc-ff17-acff3bac24cc"
      },
      "source": [
        "adam = keras.optimizers.Adam(lr=0.002)\n",
        "modelo.compile(optimizer=adam, loss='sparse_categorical_crossentropy', metrics='accuracy')\n",
        "historico = modelo.fit(imagens_treino_normalizado, identificacoes_treino, batch_size=150 ,epochs=5, validation_split=0.2)"
      ],
      "execution_count": 37,
      "outputs": [
        {
          "output_type": "stream",
          "text": [
            "Epoch 1/5\n",
            "320/320 [==============================] - 2s 7ms/step - loss: 2.3089 - accuracy: 0.1009 - val_loss: 2.3029 - val_accuracy: 0.0983\n",
            "Epoch 2/5\n",
            "320/320 [==============================] - 2s 6ms/step - loss: 2.3028 - accuracy: 0.0982 - val_loss: 2.3027 - val_accuracy: 0.1003\n",
            "Epoch 3/5\n",
            "320/320 [==============================] - 2s 6ms/step - loss: 2.3028 - accuracy: 0.0989 - val_loss: 2.3028 - val_accuracy: 0.1003\n",
            "Epoch 4/5\n",
            "320/320 [==============================] - 2s 6ms/step - loss: 2.3027 - accuracy: 0.1007 - val_loss: 2.3028 - val_accuracy: 0.0957\n",
            "Epoch 5/5\n",
            "320/320 [==============================] - 2s 6ms/step - loss: 2.3028 - accuracy: 0.0988 - val_loss: 2.3027 - val_accuracy: 0.0957\n"
          ],
          "name": "stdout"
        }
      ]
    },
    {
      "cell_type": "markdown",
      "metadata": {
        "id": "XH0nE7J0wIwp"
      },
      "source": [
        "#### EarlyStopping"
      ]
    },
    {
      "cell_type": "code",
      "metadata": {
        "colab": {
          "base_uri": "https://localhost:8080/"
        },
        "id": "i1LOUiWUwI9Q",
        "outputId": "1b312e48-047e-4bad-b681-03befc33e496"
      },
      "source": [
        "adam = keras.optimizers.Adam(lr=0.002)\n",
        "callbacks = [keras.callbacks.EarlyStopping(monitor='val_loss'), \n",
        "             keras.callbacks.ModelCheckpoint(filepath='/content/drive/MyDrive/Colab Notebooks/Alura/melhor_modelo.hdf5', \n",
        "                                             monitor='val_loss', \n",
        "                                             save_best_only=True)]\n",
        "\n",
        "modelo.compile(optimizer=adam, loss='sparse_categorical_crossentropy', metrics='accuracy')\n",
        "historico = modelo.fit(imagens_treino_normalizado, \n",
        "                       identificacoes_treino, \n",
        "                       batch_size=150, \n",
        "                       epochs=5, \n",
        "                       validation_split=0.2, \n",
        "                       callbacks=callbacks)"
      ],
      "execution_count": 39,
      "outputs": [
        {
          "output_type": "stream",
          "text": [
            "Epoch 1/5\n",
            "320/320 [==============================] - 3s 7ms/step - loss: 2.3027 - accuracy: 0.0993 - val_loss: 2.3027 - val_accuracy: 0.0957\n",
            "Epoch 2/5\n",
            "320/320 [==============================] - 2s 6ms/step - loss: 2.3027 - accuracy: 0.0994 - val_loss: 2.3027 - val_accuracy: 0.0957\n"
          ],
          "name": "stdout"
        }
      ]
    }
  ]
}