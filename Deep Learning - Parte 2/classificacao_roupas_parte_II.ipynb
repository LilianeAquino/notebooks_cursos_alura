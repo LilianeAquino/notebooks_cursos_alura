{
  "nbformat": 4,
  "nbformat_minor": 0,
  "metadata": {
    "colab": {
      "name": "classificacao_roupas_parte_II.ipynb",
      "provenance": [],
      "collapsed_sections": []
    },
    "kernelspec": {
      "name": "python3",
      "display_name": "Python 3"
    }
  },
  "cells": [
    {
      "cell_type": "markdown",
      "metadata": {
        "id": "mdhUIWs4-qJC"
      },
      "source": [
        "# Introdução com Keras"
      ]
    },
    {
      "cell_type": "code",
      "metadata": {
        "colab": {
          "base_uri": "https://localhost:8080/"
        },
        "id": "3uVHEtE23li8",
        "outputId": "0b386805-6cda-431b-9291-a19879170081"
      },
      "source": [
        "from google.colab import drive\n",
        "drive.mount('/content/drive')"
      ],
      "execution_count": 1,
      "outputs": [
        {
          "output_type": "stream",
          "text": [
            "Drive already mounted at /content/drive; to attempt to forcibly remount, call drive.mount(\"/content/drive\", force_remount=True).\n"
          ],
          "name": "stdout"
        }
      ]
    },
    {
      "cell_type": "markdown",
      "metadata": {
        "id": "GbYya2p7-z9t"
      },
      "source": [
        "### Bibliotecas básicas"
      ]
    },
    {
      "cell_type": "code",
      "metadata": {
        "id": "wNBE3J-I-pjn"
      },
      "source": [
        "import numpy as np\n",
        "import pandas as pd\n",
        "import seaborn as sns\n",
        "import matplotlib.pyplot as plt\n",
        "%matplotlib inline\n",
        "\n",
        "import tensorflow\n",
        "from tensorflow import keras\n",
        "\n",
        "import warnings\n",
        "warnings.filterwarnings('ignore')"
      ],
      "execution_count": 2,
      "outputs": []
    },
    {
      "cell_type": "markdown",
      "metadata": {
        "id": "y9ovis2D-5qr"
      },
      "source": [
        "### Carregando o dataset"
      ]
    },
    {
      "cell_type": "code",
      "metadata": {
        "id": "qnBOMfgCT8vY"
      },
      "source": [
        "dataset = keras.datasets.fashion_mnist\n",
        "((imagens_treino, identificacoes_treino), (imagens_teste, identificacoes_teste)) = dataset.load_data()"
      ],
      "execution_count": 3,
      "outputs": []
    },
    {
      "cell_type": "markdown",
      "metadata": {
        "id": "RC3WtJ5xEFMd"
      },
      "source": [
        "### Exploração dos dados"
      ]
    },
    {
      "cell_type": "code",
      "metadata": {
        "colab": {
          "base_uri": "https://localhost:8080/"
        },
        "id": "V3HUukUB_sEd",
        "outputId": "e3902135-bf79-45f6-93b4-2e636c15f393"
      },
      "source": [
        "print(f'Shape treino: {imagens_treino.shape}')\n",
        "print(f'Shape teste: {imagens_teste.shape}')"
      ],
      "execution_count": 4,
      "outputs": [
        {
          "output_type": "stream",
          "text": [
            "Shape treino: (60000, 28, 28)\n",
            "Shape teste: (10000, 28, 28)\n"
          ],
          "name": "stdout"
        }
      ]
    },
    {
      "cell_type": "markdown",
      "metadata": {
        "id": "t4ImEjUXEISQ"
      },
      "source": [
        "### Exibição dos dados"
      ]
    },
    {
      "cell_type": "code",
      "metadata": {
        "colab": {
          "base_uri": "https://localhost:8080/",
          "height": 280
        },
        "id": "CI5jaGAP_fi9",
        "outputId": "9096a8c0-d6d8-4c06-aae3-d1ae72fa4e18"
      },
      "source": [
        "plt.imshow(imagens_treino[0])\n",
        "plt.title(identificacoes_treino[0])\n",
        "plt.show()"
      ],
      "execution_count": 5,
      "outputs": [
        {
          "output_type": "display_data",
          "data": {
            "image/png": "[encoded data removed]",
            "text/plain": [
              "<Figure size 432x288 with 1 Axes>"
            ]
          },
          "metadata": {
            "tags": [],
            "needs_background": "light"
          }
        }
      ]
    },
    {
      "cell_type": "code",
      "metadata": {
        "colab": {
          "base_uri": "https://localhost:8080/",
          "height": 331
        },
        "id": "UBL_i5XmEXa6",
        "outputId": "a76f16ea-3515-46fe-edc9-2d6c6edafc42"
      },
      "source": [
        "total_labels = 10\n",
        "nome_classificacoes = ['camiseta', 'calça', 'pullover', 'vestido', 'casaco', 'sandália', 'camisa', 'tênis', 'bolsa', 'bota']\n",
        "\n",
        "\n",
        "for imagem in range(3):\n",
        "  plt.subplot(2, 5, imagem+1)\n",
        "  plt.imshow(imagens_treino[imagem])\n",
        "  plt.title(nome_classificacoes[identificacoes_treino[imagem]])\n",
        "  plt.show()  "
      ],
      "execution_count": 6,
      "outputs": [
        {
          "output_type": "display_data",
          "data": {
            "image/png": "[encoded data removed]",
            "text/plain": [
              "<Figure size 432x288 with 1 Axes>"
            ]
          },
          "metadata": {
            "tags": [],
            "needs_background": "light"
          }
        },
        {
          "output_type": "display_data",
          "data": {
            "image/png": "[encoded data removed]",
            "text/plain": [
              "<Figure size 432x288 with 1 Axes>"
            ]
          },
          "metadata": {
            "tags": [],
            "needs_background": "light"
          }
        },
        {
          "output_type": "display_data",
          "data": {
            "image/png": "[encoded data removed]",
            "text/plain": [
              "<Figure size 432x288 with 1 Axes>"
            ]
          },
          "metadata": {
            "tags": [],
            "needs_background": "light"
          }
        }
      ]
    },
    {
      "cell_type": "code",
      "metadata": {
        "colab": {
          "base_uri": "https://localhost:8080/",
          "height": 265
        },
        "id": "iWWCq0y7MJqx",
        "outputId": "94827a65-9896-4806-d2d2-20cd236cd7cc"
      },
      "source": [
        "plt.imshow(imagens_treino[0])\n",
        "plt.colorbar()\n",
        "plt.show()"
      ],
      "execution_count": 7,
      "outputs": [
        {
          "output_type": "display_data",
          "data": {
            "image/png": "[encoded data removed]",
            "text/plain": [
              "<Figure size 432x288 with 2 Axes>"
            ]
          },
          "metadata": {
            "tags": [],
            "needs_background": "light"
          }
        }
      ]
    },
    {
      "cell_type": "markdown",
      "metadata": {
        "id": "KogF6T7qFpfH"
      },
      "source": [
        "### Criando o modelo\n",
        "\n",
        "\n",
        "     modelo sequencia\n",
        "                        entrada\n",
        "                        processamento\n",
        "                        saída"
      ]
    },
    {
      "cell_type": "code",
      "metadata": {
        "id": "AK5uzRQFNCTi"
      },
      "source": [
        "imagens_treino_normalizado = imagens_treino/255.0"
      ],
      "execution_count": 8,
      "outputs": []
    },
    {
      "cell_type": "code",
      "metadata": {
        "id": "aMUUUPt7Frai",
        "colab": {
          "base_uri": "https://localhost:8080/"
        },
        "outputId": "d4ff35d9-004d-4633-949b-a28acb81cd4b"
      },
      "source": [
        "modelo = keras.Sequential([\n",
        "                           keras.layers.Flatten(input_shape=(28, 28)),\n",
        "                           keras.layers.Dense(256, activation=tensorflow.nn.relu),\n",
        "                           keras.layers.Dropout(0.2),\n",
        "                           keras.layers.Dense(total_labels, activation=tensorflow.nn.softmax)\n",
        "                           ])\n",
        "modelo.compile(optimizer='adam', loss='sparse_categorical_crossentropy', metrics='accuracy')\n",
        "historico = modelo.fit(imagens_treino_normalizado, identificacoes_treino, epochs=5, validation_split=0.2)"
      ],
      "execution_count": 9,
      "outputs": [
        {
          "output_type": "stream",
          "text": [
            "Epoch 1/5\n",
            "1500/1500 [==============================] - 5s 3ms/step - loss: 0.6674 - accuracy: 0.7680 - val_loss: 0.4155 - val_accuracy: 0.8443\n",
            "Epoch 2/5\n",
            "1500/1500 [==============================] - 4s 3ms/step - loss: 0.4154 - accuracy: 0.8480 - val_loss: 0.3789 - val_accuracy: 0.8608\n",
            "Epoch 3/5\n",
            "1500/1500 [==============================] - 4s 3ms/step - loss: 0.3699 - accuracy: 0.8650 - val_loss: 0.3599 - val_accuracy: 0.8724\n",
            "Epoch 4/5\n",
            "1500/1500 [==============================] - 4s 3ms/step - loss: 0.3419 - accuracy: 0.8747 - val_loss: 0.3443 - val_accuracy: 0.8764\n",
            "Epoch 5/5\n",
            "1500/1500 [==============================] - 4s 3ms/step - loss: 0.3241 - accuracy: 0.8800 - val_loss: 0.3355 - val_accuracy: 0.8777\n"
          ],
          "name": "stdout"
        }
      ]
    },
    {
      "cell_type": "markdown",
      "metadata": {
        "id": "N5rTr3sHRQtF"
      },
      "source": [
        "### Avaliando o modelo"
      ]
    },
    {
      "cell_type": "code",
      "metadata": {
        "colab": {
          "base_uri": "https://localhost:8080/"
        },
        "id": "LlMOClx-RDwU",
        "outputId": "297290a3-02f2-4800-abaf-e0a1bc4a9327"
      },
      "source": [
        "testes = modelo.predict(imagens_teste)\n",
        "print(f'Predito: {np.argmax(testes[0])}')\n",
        "print(f'Real: {identificacoes_teste[0]}')"
      ],
      "execution_count": 10,
      "outputs": [
        {
          "output_type": "stream",
          "text": [
            "Predito: 9\n",
            "Real: 9\n"
          ],
          "name": "stdout"
        }
      ]
    },
    {
      "cell_type": "code",
      "metadata": {
        "colab": {
          "base_uri": "https://localhost:8080/"
        },
        "id": "J-Lr1T8lRQSE",
        "outputId": "bde1a5a4-9286-4ca7-a334-d03db1e2939f"
      },
      "source": [
        "perda_teste, acuracia_teste = modelo.evaluate(imagens_teste, identificacoes_teste)\n",
        "print(f'Perda: {perda_teste} | Acurácia: {acuracia_teste}')"
      ],
      "execution_count": 11,
      "outputs": [
        {
          "output_type": "stream",
          "text": [
            "313/313 [==============================] - 1s 2ms/step - loss: 52.9721 - accuracy: 0.8542\n",
            "Perda: 52.972145080566406 | Acurácia: 0.854200005531311\n"
          ],
          "name": "stdout"
        }
      ]
    },
    {
      "cell_type": "markdown",
      "metadata": {
        "id": "DL5INsYSTYzs"
      },
      "source": [
        "### Visualização das acurácias de treino e validação por época"
      ]
    },
    {
      "cell_type": "code",
      "metadata": {
        "colab": {
          "base_uri": "https://localhost:8080/",
          "height": 296
        },
        "id": "tQMPKdC3TaLe",
        "outputId": "355dcc79-1301-4072-e91c-383c9bfc029e"
      },
      "source": [
        "plt.plot(historico.history['accuracy'])\n",
        "plt.plot(historico.history['val_accuracy'])\n",
        "plt.title('Acurácia por épocas')\n",
        "plt.xlabel('Épocas')\n",
        "plt.ylabel('Acurácia ')\n",
        "plt.legend(['treino', 'validação'])\n",
        "plt.show()"
      ],
      "execution_count": 12,
      "outputs": [
        {
          "output_type": "display_data",
          "data": {
            "image/png": "[encoded data removed]",
            "text/plain": [
              "<Figure size 432x288 with 1 Axes>"
            ]
          },
          "metadata": {
            "tags": [],
            "needs_background": "light"
          }
        }
      ]
    },
    {
      "cell_type": "markdown",
      "metadata": {
        "id": "CTB43j1Z5QZM"
      },
      "source": [
        "### Visualização das perdas de treino e validação por época"
      ]
    },
    {
      "cell_type": "code",
      "metadata": {
        "colab": {
          "base_uri": "https://localhost:8080/",
          "height": 296
        },
        "id": "LgPiDCOiUoVG",
        "outputId": "75ee64ee-18e2-4697-c07e-6f79d8325507"
      },
      "source": [
        "plt.plot(historico.history['loss'])\n",
        "plt.plot(historico.history['val_loss'])\n",
        "plt.title('Perda por épocas')\n",
        "plt.xlabel('Épocas')\n",
        "plt.ylabel('Perda ')\n",
        "plt.legend(['treino', 'validação'])\n",
        "plt.show()"
      ],
      "execution_count": 13,
      "outputs": [
        {
          "output_type": "display_data",
          "data": {
            "image/png": "[encoded data removed]",
            "text/plain": [
              "<Figure size 432x288 with 1 Axes>"
            ]
          },
          "metadata": {
            "tags": [],
            "needs_background": "light"
          }
        }
      ]
    },
    {
      "cell_type": "markdown",
      "metadata": {
        "id": "lqdgnBMmXUVZ"
      },
      "source": [
        "### Salvando o modelo"
      ]
    },
    {
      "cell_type": "code",
      "metadata": {
        "id": "iBxvOVlrXV3O"
      },
      "source": [
        "modelo.save('/content/drive/MyDrive/Colab Notebooks/Alura/modelo.h5')"
      ],
      "execution_count": 14,
      "outputs": []
    },
    {
      "cell_type": "markdown",
      "metadata": {
        "id": "43sisYEx4uGr"
      },
      "source": [
        "### Carregando o modelo"
      ]
    },
    {
      "cell_type": "code",
      "metadata": {
        "id": "4mn0LfuCXkh9"
      },
      "source": [
        "from tensorflow.keras.models import load_model\n",
        "modelo_salvo = load_model('/content/drive/MyDrive/Colab Notebooks/Alura/modelo.h5')"
      ],
      "execution_count": 15,
      "outputs": []
    },
    {
      "cell_type": "markdown",
      "metadata": {
        "id": "1nYJim5D4xBv"
      },
      "source": [
        "### Predição"
      ]
    },
    {
      "cell_type": "code",
      "metadata": {
        "colab": {
          "base_uri": "https://localhost:8080/"
        },
        "id": "2zOK8WXN4Irt",
        "outputId": "b3725a2e-5f39-4901-b948-34d66e24a2b8"
      },
      "source": [
        "testes_modelo_salvo = modelo_salvo.predict(imagens_teste)\n",
        "print(f'Predito: {np.argmax(testes_modelo_salvo[0])}')"
      ],
      "execution_count": 16,
      "outputs": [
        {
          "output_type": "stream",
          "text": [
            "Predito: 9\n"
          ],
          "name": "stdout"
        }
      ]
    },
    {
      "cell_type": "markdown",
      "metadata": {
        "id": "B_pf3oNEEUWx"
      },
      "source": [
        "# Parte 2"
      ]
    },
    {
      "cell_type": "markdown",
      "metadata": {
        "id": "BuhC84wO7-l2"
      },
      "source": [
        "### Resumo do modelo"
      ]
    },
    {
      "cell_type": "code",
      "metadata": {
        "colab": {
          "base_uri": "https://localhost:8080/"
        },
        "id": "yWc6xDkd8A-I",
        "outputId": "603b1400-14c6-4d4e-bceb-524a33246faf"
      },
      "source": [
        "sumario_do_modelo = modelo.summary()\n",
        "sumario_do_modelo"
      ],
      "execution_count": 17,
      "outputs": [
        {
          "output_type": "stream",
          "text": [
            "Model: \"sequential\"\n",
            "_________________________________________________________________\n",
            "Layer (type)                 Output Shape              Param #   \n",
            "=================================================================\n",
            "flatten (Flatten)            (None, 784)               0         \n",
            "_________________________________________________________________\n",
            "dense (Dense)                (None, 256)               200960    \n",
            "_________________________________________________________________\n",
            "dropout (Dropout)            (None, 256)               0         \n",
            "_________________________________________________________________\n",
            "dense_1 (Dense)              (None, 10)                2570      \n",
            "=================================================================\n",
            "Total params: 203,530\n",
            "Trainable params: 203,530\n",
            "Non-trainable params: 0\n",
            "_________________________________________________________________\n"
          ],
          "name": "stdout"
        }
      ]
    },
    {
      "cell_type": "markdown",
      "metadata": {
        "id": "sboNnBXp-BNr"
      },
      "source": [
        "### Pesos da camada 1"
      ]
    },
    {
      "cell_type": "code",
      "metadata": {
        "colab": {
          "base_uri": "https://localhost:8080/"
        },
        "id": "WptOQcCZ-F0N",
        "outputId": "1adc3e6d-e80d-4d16-c8fd-fc6c90e9b476"
      },
      "source": [
        "pesos_dense_1 = modelo.layers[1].get_weights()[0]\n",
        "pesos_dense_1"
      ],
      "execution_count": 18,
      "outputs": [
        {
          "output_type": "execute_result",
          "data": {
            "text/plain": [
              "array([[ 0.09656806,  0.04787845, -0.07071303, ..., -0.06640173,\n",
              "         0.01227424, -0.01218792],\n",
              "       [-0.11739184,  0.11319685,  0.01282881, ..., -0.06919638,\n",
              "        -0.09645067, -0.00753323],\n",
              "       [-0.08974171,  0.05480606, -0.00065931, ..., -0.11372029,\n",
              "        -0.11110463, -0.0455971 ],\n",
              "       ...,\n",
              "       [-0.07537261, -0.04829836,  0.33175802, ..., -0.1260811 ,\n",
              "         0.08373075,  0.00818327],\n",
              "       [ 0.01150879,  0.162069  ,  0.36142752, ..., -0.01145112,\n",
              "         0.01652305,  0.01341471],\n",
              "       [-0.18569422,  0.12149421,  0.25049374, ..., -0.00345813,\n",
              "         0.18710813,  0.01070926]], dtype=float32)"
            ]
          },
          "metadata": {
            "tags": []
          },
          "execution_count": 18
        }
      ]
    },
    {
      "cell_type": "code",
      "metadata": {
        "colab": {
          "base_uri": "https://localhost:8080/"
        },
        "id": "C-0w6B5XCbUA",
        "outputId": "2571fcda-ae26-43f7-bff8-3e5b965795d4"
      },
      "source": [
        "pesos_dense_1.shape"
      ],
      "execution_count": 19,
      "outputs": [
        {
          "output_type": "execute_result",
          "data": {
            "text/plain": [
              "(784, 256)"
            ]
          },
          "metadata": {
            "tags": []
          },
          "execution_count": 19
        }
      ]
    },
    {
      "cell_type": "markdown",
      "metadata": {
        "id": "UR0IZBjzAn6f"
      },
      "source": [
        "### Vieses da camada 1"
      ]
    },
    {
      "cell_type": "code",
      "metadata": {
        "colab": {
          "base_uri": "https://localhost:8080/"
        },
        "id": "PADUvzgEAtPd",
        "outputId": "7ef67cd4-1c68-446d-fdbd-0e5501dc3a97"
      },
      "source": [
        "vieses_dense_1 = modelo.layers[1].get_weights()[1] #viés mede a distância da classe correta\n",
        "vieses_dense_1[:10]"
      ],
      "execution_count": 20,
      "outputs": [
        {
          "output_type": "execute_result",
          "data": {
            "text/plain": [
              "array([ 0.04205816, -0.20599213, -0.21231915, -0.04648375,  0.25559536,\n",
              "        0.33025828, -0.09020194,  0.14240041,  0.0193093 ,  0.06874711],\n",
              "      dtype=float32)"
            ]
          },
          "metadata": {
            "tags": []
          },
          "execution_count": 20
        }
      ]
    },
    {
      "cell_type": "code",
      "metadata": {
        "colab": {
          "base_uri": "https://localhost:8080/"
        },
        "id": "rpU4hV4zCfTn",
        "outputId": "82fe8b27-9260-45bb-8db8-6e136c8827c5"
      },
      "source": [
        "vieses_dense_1.shape"
      ],
      "execution_count": 21,
      "outputs": [
        {
          "output_type": "execute_result",
          "data": {
            "text/plain": [
              "(256,)"
            ]
          },
          "metadata": {
            "tags": []
          },
          "execution_count": 21
        }
      ]
    },
    {
      "cell_type": "markdown",
      "metadata": {
        "id": "vEaNXFp5CnBv"
      },
      "source": [
        "### Zerando os pesos"
      ]
    },
    {
      "cell_type": "code",
      "metadata": {
        "colab": {
          "base_uri": "https://localhost:8080/"
        },
        "id": "SZ-wcfROCmY4",
        "outputId": "379fd908-3370-4eb1-cf91-1520c40aeadd"
      },
      "source": [
        "pesos_dense_1_zerados = np.zeros(pesos_dense_1.shape)\n",
        "print(pesos_dense_1_zerados.shape)\n",
        "pesos_dense_1_zerados"
      ],
      "execution_count": 22,
      "outputs": [
        {
          "output_type": "stream",
          "text": [
            "(784, 256)\n"
          ],
          "name": "stdout"
        },
        {
          "output_type": "execute_result",
          "data": {
            "text/plain": [
              "array([[0., 0., 0., ..., 0., 0., 0.],\n",
              "       [0., 0., 0., ..., 0., 0., 0.],\n",
              "       [0., 0., 0., ..., 0., 0., 0.],\n",
              "       ...,\n",
              "       [0., 0., 0., ..., 0., 0., 0.],\n",
              "       [0., 0., 0., ..., 0., 0., 0.],\n",
              "       [0., 0., 0., ..., 0., 0., 0.]])"
            ]
          },
          "metadata": {
            "tags": []
          },
          "execution_count": 22
        }
      ]
    },
    {
      "cell_type": "code",
      "metadata": {
        "colab": {
          "base_uri": "https://localhost:8080/"
        },
        "id": "KtM8X36IDlEq",
        "outputId": "8a94dc1a-bfe2-4f97-a4de-4623a96ec484"
      },
      "source": [
        "modelo.layers[1].set_weights([pesos_dense_1_zerados, vieses_dense_1])\n",
        "modelo.compile(optimizer='adam', loss='sparse_categorical_crossentropy', metrics='accuracy')\n",
        "historico = modelo.fit(imagens_treino_normalizado, identificacoes_treino, epochs=5, validation_split=0.2)"
      ],
      "execution_count": 23,
      "outputs": [
        {
          "output_type": "stream",
          "text": [
            "Epoch 1/5\n",
            "1500/1500 [==============================] - 4s 3ms/step - loss: 0.7037 - accuracy: 0.7526 - val_loss: 0.3990 - val_accuracy: 0.8536\n",
            "Epoch 2/5\n",
            "1500/1500 [==============================] - 4s 3ms/step - loss: 0.4158 - accuracy: 0.8475 - val_loss: 0.3788 - val_accuracy: 0.8598\n",
            "Epoch 3/5\n",
            "1500/1500 [==============================] - 4s 3ms/step - loss: 0.3811 - accuracy: 0.8604 - val_loss: 0.3804 - val_accuracy: 0.8602\n",
            "Epoch 4/5\n",
            "1500/1500 [==============================] - 4s 3ms/step - loss: 0.3583 - accuracy: 0.8675 - val_loss: 0.3441 - val_accuracy: 0.8756\n",
            "Epoch 5/5\n",
            "1500/1500 [==============================] - 4s 3ms/step - loss: 0.3334 - accuracy: 0.8780 - val_loss: 0.3394 - val_accuracy: 0.8799\n"
          ],
          "name": "stdout"
        }
      ]
    },
    {
      "cell_type": "markdown",
      "metadata": {
        "id": "BiNLluYGEfRZ"
      },
      "source": [
        "### Visualizando as acurácias e perdas"
      ]
    },
    {
      "cell_type": "code",
      "metadata": {
        "colab": {
          "base_uri": "https://localhost:8080/",
          "height": 296
        },
        "id": "GkPzsggPEfYx",
        "outputId": "83ff47eb-ac29-4c7e-d4d3-46c2085c1726"
      },
      "source": [
        "plt.plot(historico.history['accuracy'])\n",
        "plt.plot(historico.history['val_accuracy'])\n",
        "plt.title('Acurácia por épocas')\n",
        "plt.xlabel('Épocas')\n",
        "plt.ylabel('Acurácia ')\n",
        "plt.legend(['treino', 'validação'])\n",
        "plt.show()"
      ],
      "execution_count": 24,
      "outputs": [
        {
          "output_type": "display_data",
          "data": {
            "image/png": "[encoded data removed]",
            "text/plain": [
              "<Figure size 432x288 with 1 Axes>"
            ]
          },
          "metadata": {
            "tags": [],
            "needs_background": "light"
          }
        }
      ]
    },
    {
      "cell_type": "code",
      "metadata": {
        "colab": {
          "base_uri": "https://localhost:8080/",
          "height": 296
        },
        "id": "aijvYRYaEoyr",
        "outputId": "14412ad4-1657-41f6-f119-a135b8b83f60"
      },
      "source": [
        "plt.plot(historico.history['loss'])\n",
        "plt.plot(historico.history['val_loss'])\n",
        "plt.title('Perda por épocas')\n",
        "plt.xlabel('Épocas')\n",
        "plt.ylabel('Perda ')\n",
        "plt.legend(['treino', 'validação'])\n",
        "plt.show()"
      ],
      "execution_count": 25,
      "outputs": [
        {
          "output_type": "display_data",
          "data": {
            "image/png": "[encoded data removed]",
            "text/plain": [
              "<Figure size 432x288 with 1 Axes>"
            ]
          },
          "metadata": {
            "tags": [],
            "needs_background": "light"
          }
        }
      ]
    },
    {
      "cell_type": "markdown",
      "metadata": {
        "id": "-puY2Y9JFc8j"
      },
      "source": [
        "### Deixando os pesos aleatórios"
      ]
    },
    {
      "cell_type": "code",
      "metadata": {
        "colab": {
          "base_uri": "https://localhost:8080/"
        },
        "id": "coKPiFQ7FfgG",
        "outputId": "3c06664c-cd3d-4256-af4c-caca88d377f1"
      },
      "source": [
        "pesos_dense_1_aleatorios = np.random.rand(784, 256)\n",
        "print(pesos_dense_1_aleatorios.shape)\n",
        "pesos_dense_1_aleatorios"
      ],
      "execution_count": 26,
      "outputs": [
        {
          "output_type": "stream",
          "text": [
            "(784, 256)\n"
          ],
          "name": "stdout"
        },
        {
          "output_type": "execute_result",
          "data": {
            "text/plain": [
              "array([[0.96008582, 0.5626946 , 0.22412464, ..., 0.84226671, 0.01824525,\n",
              "        0.35855058],\n",
              "       [0.81695045, 0.18165705, 0.26555274, ..., 0.24108745, 0.6939176 ,\n",
              "        0.12804631],\n",
              "       [0.19284595, 0.36128612, 0.35282914, ..., 0.13959528, 0.61982493,\n",
              "        0.25059374],\n",
              "       ...,\n",
              "       [0.93254793, 0.82203853, 0.6814046 , ..., 0.92014419, 0.51285355,\n",
              "        0.76378318],\n",
              "       [0.76541951, 0.01268795, 0.86487981, ..., 0.18380982, 0.03426778,\n",
              "        0.21479204],\n",
              "       [0.26472072, 0.051217  , 0.89034625, ..., 0.60624132, 0.62768231,\n",
              "        0.92084276]])"
            ]
          },
          "metadata": {
            "tags": []
          },
          "execution_count": 26
        }
      ]
    },
    {
      "cell_type": "code",
      "metadata": {
        "colab": {
          "base_uri": "https://localhost:8080/"
        },
        "id": "uk235m7LF5-i",
        "outputId": "61c61437-2570-4ab9-cdbf-f0320e7fe7d1"
      },
      "source": [
        "modelo.layers[1].set_weights([pesos_dense_1_aleatorios, vieses_dense_1])\n",
        "modelo.compile(optimizer='adam', loss='sparse_categorical_crossentropy', metrics='accuracy')\n",
        "historico = modelo.fit(imagens_treino_normalizado, identificacoes_treino, epochs=5, validation_split=0.2)"
      ],
      "execution_count": 27,
      "outputs": [
        {
          "output_type": "stream",
          "text": [
            "Epoch 1/5\n",
            "1500/1500 [==============================] - 4s 3ms/step - loss: 206.8965 - accuracy: 0.2956 - val_loss: 14.4637 - val_accuracy: 0.7413\n",
            "Epoch 2/5\n",
            "1500/1500 [==============================] - 4s 3ms/step - loss: 36.7726 - accuracy: 0.6083 - val_loss: 10.1592 - val_accuracy: 0.7694\n",
            "Epoch 3/5\n",
            "1500/1500 [==============================] - 4s 3ms/step - loss: 16.4654 - accuracy: 0.6897 - val_loss: 5.7037 - val_accuracy: 0.7886\n",
            "Epoch 4/5\n",
            "1500/1500 [==============================] - 4s 3ms/step - loss: 8.0003 - accuracy: 0.7275 - val_loss: 3.4314 - val_accuracy: 0.7808\n",
            "Epoch 5/5\n",
            "1500/1500 [==============================] - 4s 3ms/step - loss: 4.2749 - accuracy: 0.7510 - val_loss: 2.1981 - val_accuracy: 0.8138\n"
          ],
          "name": "stdout"
        }
      ]
    },
    {
      "cell_type": "code",
      "metadata": {
        "colab": {
          "base_uri": "https://localhost:8080/",
          "height": 296
        },
        "id": "L7FWqK0wF_da",
        "outputId": "8c3ceecd-95e3-441f-ba0b-8cdc5ab19ba2"
      },
      "source": [
        "plt.plot(historico.history['accuracy'])\n",
        "plt.plot(historico.history['val_accuracy'])\n",
        "plt.title('Acurácia por épocas')\n",
        "plt.xlabel('Épocas')\n",
        "plt.ylabel('Acurácia ')\n",
        "plt.legend(['treino', 'validação'])\n",
        "plt.show()"
      ],
      "execution_count": 28,
      "outputs": [
        {
          "output_type": "display_data",
          "data": {
            "image/png": "[encoded data removed]",
            "text/plain": [
              "<Figure size 432x288 with 1 Axes>"
            ]
          },
          "metadata": {
            "tags": [],
            "needs_background": "light"
          }
        }
      ]
    },
    {
      "cell_type": "code",
      "metadata": {
        "colab": {
          "base_uri": "https://localhost:8080/",
          "height": 296
        },
        "id": "QGP5gfbXGDjy",
        "outputId": "f8245936-c736-4f5d-ee22-0b69977d9886"
      },
      "source": [
        "plt.plot(historico.history['loss'])\n",
        "plt.plot(historico.history['val_loss'])\n",
        "plt.title('Perda por épocas')\n",
        "plt.xlabel('Épocas')\n",
        "plt.ylabel('Perda ')\n",
        "plt.legend(['treino', 'validação'])\n",
        "plt.show()"
      ],
      "execution_count": 29,
      "outputs": [
        {
          "output_type": "display_data",
          "data": {
            "image/png": "[encoded data removed]",
            "text/plain": [
              "<Figure size 432x288 with 1 Axes>"
            ]
          },
          "metadata": {
            "tags": [],
            "needs_background": "light"
          }
        }
      ]
    },
    {
      "cell_type": "markdown",
      "metadata": {
        "id": "3Yv0ktAzHgd-"
      },
      "source": [
        "### Configuração do modelo"
      ]
    },
    {
      "cell_type": "code",
      "metadata": {
        "colab": {
          "base_uri": "https://localhost:8080/"
        },
        "id": "jOcHKMQQHc_x",
        "outputId": "9606d1eb-59e0-43bb-9620-60e84fb9386b"
      },
      "source": [
        "modelo.get_config()"
      ],
      "execution_count": 30,
      "outputs": [
        {
          "output_type": "execute_result",
          "data": {
            "text/plain": [
              "{'layers': [{'class_name': 'InputLayer',\n",
              "   'config': {'batch_input_shape': (None, 28, 28),\n",
              "    'dtype': 'float32',\n",
              "    'name': 'flatten_input',\n",
              "    'ragged': False,\n",
              "    'sparse': False}},\n",
              "  {'class_name': 'Flatten',\n",
              "   'config': {'batch_input_shape': (None, 28, 28),\n",
              "    'data_format': 'channels_last',\n",
              "    'dtype': 'float32',\n",
              "    'name': 'flatten',\n",
              "    'trainable': True}},\n",
              "  {'class_name': 'Dense',\n",
              "   'config': {'activation': 'relu',\n",
              "    'activity_regularizer': None,\n",
              "    'bias_constraint': None,\n",
              "    'bias_initializer': {'class_name': 'Zeros', 'config': {}},\n",
              "    'bias_regularizer': None,\n",
              "    'dtype': 'float32',\n",
              "    'kernel_constraint': None,\n",
              "    'kernel_initializer': {'class_name': 'GlorotUniform',\n",
              "     'config': {'seed': None}},\n",
              "    'kernel_regularizer': None,\n",
              "    'name': 'dense',\n",
              "    'trainable': True,\n",
              "    'units': 256,\n",
              "    'use_bias': True}},\n",
              "  {'class_name': 'Dropout',\n",
              "   'config': {'dtype': 'float32',\n",
              "    'name': 'dropout',\n",
              "    'noise_shape': None,\n",
              "    'rate': 0.2,\n",
              "    'seed': None,\n",
              "    'trainable': True}},\n",
              "  {'class_name': 'Dense',\n",
              "   'config': {'activation': 'softmax',\n",
              "    'activity_regularizer': None,\n",
              "    'bias_constraint': None,\n",
              "    'bias_initializer': {'class_name': 'Zeros', 'config': {}},\n",
              "    'bias_regularizer': None,\n",
              "    'dtype': 'float32',\n",
              "    'kernel_constraint': None,\n",
              "    'kernel_initializer': {'class_name': 'GlorotUniform',\n",
              "     'config': {'seed': None}},\n",
              "    'kernel_regularizer': None,\n",
              "    'name': 'dense_1',\n",
              "    'trainable': True,\n",
              "    'units': 10,\n",
              "    'use_bias': True}}],\n",
              " 'name': 'sequential'}"
            ]
          },
          "metadata": {
            "tags": []
          },
          "execution_count": 30
        }
      ]
    }
  ]
}