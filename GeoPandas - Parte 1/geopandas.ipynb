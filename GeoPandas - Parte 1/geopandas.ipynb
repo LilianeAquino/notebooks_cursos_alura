{
  "nbformat": 4,
  "nbformat_minor": 0,
  "metadata": {
    "colab": {
      "name": "geopandas.ipynb",
      "provenance": [],
      "collapsed_sections": []
    },
    "kernelspec": {
      "name": "python3",
      "display_name": "Python 3"
    },
    "language_info": {
      "name": "python"
    }
  },
  "cells": [
    {
      "cell_type": "markdown",
      "metadata": {
        "id": "gMrWmS9LDXy9"
      },
      "source": [
        "# GeoPandas - Parte 1"
      ]
    },
    {
      "cell_type": "markdown",
      "metadata": {
        "id": "Ycbnnf0KDeAt"
      },
      "source": [
        "### Bibliotecas e outras inicializações"
      ]
    },
    {
      "cell_type": "code",
      "metadata": {
        "colab": {
          "base_uri": "https://localhost:8080/"
        },
        "id": "V_LEHIcMEEl1",
        "outputId": "5b9b5748-6ca8-4607-cc8e-5b2db9334ee6"
      },
      "source": [
        "from google.colab import drive\n",
        "drive.mount('/content/drive')"
      ],
      "execution_count": 1,
      "outputs": [
        {
          "output_type": "stream",
          "text": [
            "Drive already mounted at /content/drive; to attempt to forcibly remount, call drive.mount(\"/content/drive\", force_remount=True).\n"
          ],
          "name": "stdout"
        }
      ]
    },
    {
      "cell_type": "code",
      "metadata": {
        "colab": {
          "base_uri": "https://localhost:8080/"
        },
        "id": "Vy3VKbYADXFL",
        "outputId": "45ea6bb7-c7ea-4031-ea2e-33115927bf01"
      },
      "source": [
        "!pip install --upgrade geopandas"
      ],
      "execution_count": 2,
      "outputs": [
        {
          "output_type": "stream",
          "text": [
            "Requirement already up-to-date: geopandas in /usr/local/lib/python3.7/dist-packages (0.9.0)\n",
            "Requirement already satisfied, skipping upgrade: fiona>=1.8 in /usr/local/lib/python3.7/dist-packages (from geopandas) (1.8.19)\n",
            "Requirement already satisfied, skipping upgrade: pyproj>=2.2.0 in /usr/local/lib/python3.7/dist-packages (from geopandas) (3.0.1)\n",
            "Requirement already satisfied, skipping upgrade: pandas>=0.24.0 in /usr/local/lib/python3.7/dist-packages (from geopandas) (1.1.5)\n",
            "Requirement already satisfied, skipping upgrade: shapely>=1.6 in /usr/local/lib/python3.7/dist-packages (from geopandas) (1.7.1)\n",
            "Requirement already satisfied, skipping upgrade: attrs>=17 in /usr/local/lib/python3.7/dist-packages (from fiona>=1.8->geopandas) (20.3.0)\n",
            "Requirement already satisfied, skipping upgrade: click-plugins>=1.0 in /usr/local/lib/python3.7/dist-packages (from fiona>=1.8->geopandas) (1.1.1)\n",
            "Requirement already satisfied, skipping upgrade: certifi in /usr/local/lib/python3.7/dist-packages (from fiona>=1.8->geopandas) (2020.12.5)\n",
            "Requirement already satisfied, skipping upgrade: click<8,>=4.0 in /usr/local/lib/python3.7/dist-packages (from fiona>=1.8->geopandas) (7.1.2)\n",
            "Requirement already satisfied, skipping upgrade: munch in /usr/local/lib/python3.7/dist-packages (from fiona>=1.8->geopandas) (2.5.0)\n",
            "Requirement already satisfied, skipping upgrade: six>=1.7 in /usr/local/lib/python3.7/dist-packages (from fiona>=1.8->geopandas) (1.15.0)\n",
            "Requirement already satisfied, skipping upgrade: cligj>=0.5 in /usr/local/lib/python3.7/dist-packages (from fiona>=1.8->geopandas) (0.7.1)\n",
            "Requirement already satisfied, skipping upgrade: python-dateutil>=2.7.3 in /usr/local/lib/python3.7/dist-packages (from pandas>=0.24.0->geopandas) (2.8.1)\n",
            "Requirement already satisfied, skipping upgrade: numpy>=1.15.4 in /usr/local/lib/python3.7/dist-packages (from pandas>=0.24.0->geopandas) (1.19.5)\n",
            "Requirement already satisfied, skipping upgrade: pytz>=2017.2 in /usr/local/lib/python3.7/dist-packages (from pandas>=0.24.0->geopandas) (2018.9)\n"
          ],
          "name": "stdout"
        }
      ]
    },
    {
      "cell_type": "code",
      "metadata": {
        "id": "ffrVtIxVDkb0"
      },
      "source": [
        "import pandas as pd\n",
        "import numpy as np\n",
        "import seaborn as sns\n",
        "import matplotlib.pyplot as plt\n",
        "import geopandas as gpd\n",
        "from shapely.geometry import Polygon, Point, LineString, MultiPolygon\n",
        "%matplotlib inline"
      ],
      "execution_count": 3,
      "outputs": []
    },
    {
      "cell_type": "markdown",
      "metadata": {
        "id": "Xezi9WYOEwi3"
      },
      "source": [
        "## Entendendo o funcionamento do GeoPandas"
      ]
    },
    {
      "cell_type": "markdown",
      "metadata": {
        "id": "UECli-g3FOcl"
      },
      "source": [
        "### Fonte de dados"
      ]
    },
    {
      "cell_type": "code",
      "metadata": {
        "colab": {
          "base_uri": "https://localhost:8080/"
        },
        "id": "wgRHCOzXEx7R",
        "outputId": "d239eb98-eb8d-4b83-9a99-e1e93a9a59b5"
      },
      "source": [
        "rj = gpd.read_file('/content/drive/MyDrive/Colab Notebooks/Alura/Mapas/RJ/33MUE250GC_SIR.shp')\n",
        "type(rj)"
      ],
      "execution_count": 4,
      "outputs": [
        {
          "output_type": "execute_result",
          "data": {
            "text/plain": [
              "geopandas.geodataframe.GeoDataFrame"
            ]
          },
          "metadata": {
            "tags": []
          },
          "execution_count": 4
        }
      ]
    },
    {
      "cell_type": "code",
      "metadata": {
        "colab": {
          "base_uri": "https://localhost:8080/",
          "height": 195
        },
        "id": "W1o3aznsFwcV",
        "outputId": "599c8e5f-00a8-40ae-f01d-bca4b5f51464"
      },
      "source": [
        "rj.head()"
      ],
      "execution_count": 5,
      "outputs": [
        {
          "output_type": "execute_result",
          "data": {
            "text/html": [
              "<div>\n",
              "<style scoped>\n",
              "    .dataframe tbody tr th:only-of-type {\n",
              "        vertical-align: middle;\n",
              "    }\n",
              "\n",
              "    .dataframe tbody tr th {\n",
              "        vertical-align: top;\n",
              "    }\n",
              "\n",
              "    .dataframe thead th {\n",
              "        text-align: right;\n",
              "    }\n",
              "</style>\n",
              "<table border=\"1\" class=\"dataframe\">\n",
              "  <thead>\n",
              "    <tr style=\"text-align: right;\">\n",
              "      <th></th>\n",
              "      <th>ID</th>\n",
              "      <th>CD_GEOCODM</th>\n",
              "      <th>NM_MUNICIP</th>\n",
              "      <th>geometry</th>\n",
              "    </tr>\n",
              "  </thead>\n",
              "  <tbody>\n",
              "    <tr>\n",
              "      <th>0</th>\n",
              "      <td>1468</td>\n",
              "      <td>3300100</td>\n",
              "      <td>ANGRA DOS REIS</td>\n",
              "      <td>MULTIPOLYGON (((-44.33208 -23.02384, -44.33221...</td>\n",
              "    </tr>\n",
              "    <tr>\n",
              "      <th>1</th>\n",
              "      <td>1469</td>\n",
              "      <td>3300159</td>\n",
              "      <td>APERIBÉ</td>\n",
              "      <td>POLYGON ((-42.08950 -21.62893, -42.08912 -21.6...</td>\n",
              "    </tr>\n",
              "    <tr>\n",
              "      <th>2</th>\n",
              "      <td>1470</td>\n",
              "      <td>3300209</td>\n",
              "      <td>ARARUAMA</td>\n",
              "      <td>POLYGON ((-42.22526 -22.59253, -42.22521 -22.5...</td>\n",
              "    </tr>\n",
              "    <tr>\n",
              "      <th>3</th>\n",
              "      <td>1471</td>\n",
              "      <td>3300225</td>\n",
              "      <td>AREAL</td>\n",
              "      <td>POLYGON ((-43.16007 -22.20005, -43.16003 -22.1...</td>\n",
              "    </tr>\n",
              "    <tr>\n",
              "      <th>4</th>\n",
              "      <td>1472</td>\n",
              "      <td>3300233</td>\n",
              "      <td>ARMAÇÃO DOS BÚZIOS</td>\n",
              "      <td>MULTIPOLYGON (((-41.98427 -22.74458, -41.98296...</td>\n",
              "    </tr>\n",
              "  </tbody>\n",
              "</table>\n",
              "</div>"
            ],
            "text/plain": [
              "     ID  ...                                           geometry\n",
              "0  1468  ...  MULTIPOLYGON (((-44.33208 -23.02384, -44.33221...\n",
              "1  1469  ...  POLYGON ((-42.08950 -21.62893, -42.08912 -21.6...\n",
              "2  1470  ...  POLYGON ((-42.22526 -22.59253, -42.22521 -22.5...\n",
              "3  1471  ...  POLYGON ((-43.16007 -22.20005, -43.16003 -22.1...\n",
              "4  1472  ...  MULTIPOLYGON (((-41.98427 -22.74458, -41.98296...\n",
              "\n",
              "[5 rows x 4 columns]"
            ]
          },
          "metadata": {
            "tags": []
          },
          "execution_count": 5
        }
      ]
    },
    {
      "cell_type": "markdown",
      "metadata": {
        "id": "EWo6wTn0HOeX"
      },
      "source": [
        "### Primeiro Mapa"
      ]
    },
    {
      "cell_type": "code",
      "metadata": {
        "colab": {
          "base_uri": "https://localhost:8080/",
          "height": 503
        },
        "id": "FLdIWW-GFwfm",
        "outputId": "ef967770-6393-4a96-940b-4296842aa4b7"
      },
      "source": [
        "rj.plot(color='white', edgecolor='black', figsize=(15, 8))\n",
        "plt.title('Mapa do estado do Rio de Janeiro', y=1.09, fontsize=18)\n",
        "plt.show()"
      ],
      "execution_count": 6,
      "outputs": [
        {
          "output_type": "display_data",
          "data": {
            "image/png": "[encoded data removed]",
            "text/plain": [
              "<Figure size 1080x576 with 1 Axes>"
            ]
          },
          "metadata": {
            "tags": [],
            "needs_background": "light"
          }
        }
      ]
    },
    {
      "cell_type": "markdown",
      "metadata": {
        "id": "dCnALdbFHW88"
      },
      "source": [
        "### Polígonos, pontos e outros shapes"
      ]
    },
    {
      "cell_type": "code",
      "metadata": {
        "colab": {
          "base_uri": "https://localhost:8080/",
          "height": 410
        },
        "id": "V6I0XYDZFwhx",
        "outputId": "c6317cd2-8b76-4713-b795-951882630236"
      },
      "source": [
        "p1 = Polygon([(0, 0), (1, 0), (1, 1), (0, 1)])\n",
        "p2 = Polygon([(0, 0), (1, 0), (1, 1)])\n",
        "p3 = Polygon([(2, 0), (3, 0), (3, 1), (2, 1)])\n",
        "\n",
        "p4 = LineString([(0, 1), (3, 0), (1, 1)])\n",
        "\n",
        "p5 = Point(0.5, 0.5)\n",
        "\n",
        "p6 = Polygon([(1, 0), (1.5, 0.4), (2, 0)])\n",
        "p7 = Polygon([(1, 1), (1.5, 0.6), (2, 1)])\n",
        "p8 = MultiPolygon([p6, p7])\n",
        "\n",
        "g = gpd.GeoSeries([p1, p2, p3, p4, p5, p8])\n",
        "print(g, '\\n')\n",
        "g.plot(cmap='tab10', figsize=(12, 6))\n",
        "plt.show()"
      ],
      "execution_count": 7,
      "outputs": [
        {
          "output_type": "stream",
          "text": [
            "0    POLYGON ((0.00000 0.00000, 1.00000 0.00000, 1....\n",
            "1    POLYGON ((0.00000 0.00000, 1.00000 0.00000, 1....\n",
            "2    POLYGON ((2.00000 0.00000, 3.00000 0.00000, 3....\n",
            "3    LINESTRING (0.00000 1.00000, 3.00000 0.00000, ...\n",
            "4                              POINT (0.50000 0.50000)\n",
            "5    MULTIPOLYGON (((1.00000 0.00000, 1.50000 0.400...\n",
            "dtype: geometry \n",
            "\n"
          ],
          "name": "stdout"
        },
        {
          "output_type": "display_data",
          "data": {
            "image/png": "[encoded data removed]",
            "text/plain": [
              "<Figure size 864x432 with 1 Axes>"
            ]
          },
          "metadata": {
            "tags": [],
            "needs_background": "light"
          }
        }
      ]
    },
    {
      "cell_type": "markdown",
      "metadata": {
        "id": "s3H9bvI-LAuQ"
      },
      "source": [
        "### Shapefiles"
      ]
    },
    {
      "cell_type": "code",
      "metadata": {
        "colab": {
          "base_uri": "https://localhost:8080/",
          "height": 195
        },
        "id": "nh4WLoGeLDFR",
        "outputId": "b950c88a-ecc9-4755-b707-2525999c148f"
      },
      "source": [
        "rj.head()"
      ],
      "execution_count": 8,
      "outputs": [
        {
          "output_type": "execute_result",
          "data": {
            "text/html": [
              "<div>\n",
              "<style scoped>\n",
              "    .dataframe tbody tr th:only-of-type {\n",
              "        vertical-align: middle;\n",
              "    }\n",
              "\n",
              "    .dataframe tbody tr th {\n",
              "        vertical-align: top;\n",
              "    }\n",
              "\n",
              "    .dataframe thead th {\n",
              "        text-align: right;\n",
              "    }\n",
              "</style>\n",
              "<table border=\"1\" class=\"dataframe\">\n",
              "  <thead>\n",
              "    <tr style=\"text-align: right;\">\n",
              "      <th></th>\n",
              "      <th>ID</th>\n",
              "      <th>CD_GEOCODM</th>\n",
              "      <th>NM_MUNICIP</th>\n",
              "      <th>geometry</th>\n",
              "    </tr>\n",
              "  </thead>\n",
              "  <tbody>\n",
              "    <tr>\n",
              "      <th>0</th>\n",
              "      <td>1468</td>\n",
              "      <td>3300100</td>\n",
              "      <td>ANGRA DOS REIS</td>\n",
              "      <td>MULTIPOLYGON (((-44.33208 -23.02384, -44.33221...</td>\n",
              "    </tr>\n",
              "    <tr>\n",
              "      <th>1</th>\n",
              "      <td>1469</td>\n",
              "      <td>3300159</td>\n",
              "      <td>APERIBÉ</td>\n",
              "      <td>POLYGON ((-42.08950 -21.62893, -42.08912 -21.6...</td>\n",
              "    </tr>\n",
              "    <tr>\n",
              "      <th>2</th>\n",
              "      <td>1470</td>\n",
              "      <td>3300209</td>\n",
              "      <td>ARARUAMA</td>\n",
              "      <td>POLYGON ((-42.22526 -22.59253, -42.22521 -22.5...</td>\n",
              "    </tr>\n",
              "    <tr>\n",
              "      <th>3</th>\n",
              "      <td>1471</td>\n",
              "      <td>3300225</td>\n",
              "      <td>AREAL</td>\n",
              "      <td>POLYGON ((-43.16007 -22.20005, -43.16003 -22.1...</td>\n",
              "    </tr>\n",
              "    <tr>\n",
              "      <th>4</th>\n",
              "      <td>1472</td>\n",
              "      <td>3300233</td>\n",
              "      <td>ARMAÇÃO DOS BÚZIOS</td>\n",
              "      <td>MULTIPOLYGON (((-41.98427 -22.74458, -41.98296...</td>\n",
              "    </tr>\n",
              "  </tbody>\n",
              "</table>\n",
              "</div>"
            ],
            "text/plain": [
              "     ID  ...                                           geometry\n",
              "0  1468  ...  MULTIPOLYGON (((-44.33208 -23.02384, -44.33221...\n",
              "1  1469  ...  POLYGON ((-42.08950 -21.62893, -42.08912 -21.6...\n",
              "2  1470  ...  POLYGON ((-42.22526 -22.59253, -42.22521 -22.5...\n",
              "3  1471  ...  POLYGON ((-43.16007 -22.20005, -43.16003 -22.1...\n",
              "4  1472  ...  MULTIPOLYGON (((-41.98427 -22.74458, -41.98296...\n",
              "\n",
              "[5 rows x 4 columns]"
            ]
          },
          "metadata": {
            "tags": []
          },
          "execution_count": 8
        }
      ]
    },
    {
      "cell_type": "code",
      "metadata": {
        "colab": {
          "base_uri": "https://localhost:8080/",
          "height": 77
        },
        "id": "1_oIPE6HMVRe",
        "outputId": "e6980ed7-a773-42d8-deee-8f6c2c6e4f89"
      },
      "source": [
        "cidade_rj = rj.query('NM_MUNICIP==\"RIO DE JANEIRO\"')\n",
        "cidade_rj"
      ],
      "execution_count": 9,
      "outputs": [
        {
          "output_type": "execute_result",
          "data": {
            "text/html": [
              "<div>\n",
              "<style scoped>\n",
              "    .dataframe tbody tr th:only-of-type {\n",
              "        vertical-align: middle;\n",
              "    }\n",
              "\n",
              "    .dataframe tbody tr th {\n",
              "        vertical-align: top;\n",
              "    }\n",
              "\n",
              "    .dataframe thead th {\n",
              "        text-align: right;\n",
              "    }\n",
              "</style>\n",
              "<table border=\"1\" class=\"dataframe\">\n",
              "  <thead>\n",
              "    <tr style=\"text-align: right;\">\n",
              "      <th></th>\n",
              "      <th>ID</th>\n",
              "      <th>CD_GEOCODM</th>\n",
              "      <th>NM_MUNICIP</th>\n",
              "      <th>geometry</th>\n",
              "    </tr>\n",
              "  </thead>\n",
              "  <tbody>\n",
              "    <tr>\n",
              "      <th>67</th>\n",
              "      <td>1535</td>\n",
              "      <td>3304557</td>\n",
              "      <td>RIO DE JANEIRO</td>\n",
              "      <td>MULTIPOLYGON (((-43.12376 -22.80712, -43.12380...</td>\n",
              "    </tr>\n",
              "  </tbody>\n",
              "</table>\n",
              "</div>"
            ],
            "text/plain": [
              "      ID  ...                                           geometry\n",
              "67  1535  ...  MULTIPOLYGON (((-43.12376 -22.80712, -43.12380...\n",
              "\n",
              "[1 rows x 4 columns]"
            ]
          },
          "metadata": {
            "tags": []
          },
          "execution_count": 9
        }
      ]
    },
    {
      "cell_type": "code",
      "metadata": {
        "colab": {
          "base_uri": "https://localhost:8080/",
          "height": 393
        },
        "id": "T6dm-PdLMlv5",
        "outputId": "f692c733-7d39-46d8-c4f3-0b65f125b52f"
      },
      "source": [
        "cidade_rj.plot(color='orange', edgecolor='black', figsize=(12, 6))\n",
        "plt.title('Mapa da cidade do Rio de Janeiro', y=1.09, fontsize=18)\n",
        "plt.show()"
      ],
      "execution_count": 10,
      "outputs": [
        {
          "output_type": "display_data",
          "data": {
            "image/png": "[encoded data removed]",
            "text/plain": [
              "<Figure size 864x432 with 1 Axes>"
            ]
          },
          "metadata": {
            "tags": [],
            "needs_background": "light"
          }
        }
      ]
    },
    {
      "cell_type": "markdown",
      "metadata": {
        "id": "JA0EqC4nNGbh"
      },
      "source": [
        "#### Salvando o arquivo"
      ]
    },
    {
      "cell_type": "code",
      "metadata": {
        "id": "SU6_QqsBM7RD"
      },
      "source": [
        "import os\n",
        "dir = '/content/drive/MyDrive/Colab Notebooks/Alura/Mapas/RJ-MUNIC'\n",
        "if not os.path.exists(dir):\n",
        "  os.makedirs(dir)\n",
        "cidade_rj.to_file(dir+'/RJ-MUNIC.shp')"
      ],
      "execution_count": 11,
      "outputs": []
    },
    {
      "cell_type": "markdown",
      "metadata": {
        "id": "UJoTaNKALSgx"
      },
      "source": [
        "### Preparação dos dados"
      ]
    },
    {
      "cell_type": "code",
      "metadata": {
        "colab": {
          "base_uri": "https://localhost:8080/",
          "height": 282
        },
        "id": "wR21uYQqLS23",
        "outputId": "bdd4060f-3992-4b38-a14e-75c3763179f0"
      },
      "source": [
        "dados = pd.read_table('/content/drive/MyDrive/Colab Notebooks/Alura/dados.txt')\n",
        "dados.head()"
      ],
      "execution_count": 12,
      "outputs": [
        {
          "output_type": "execute_result",
          "data": {
            "text/html": [
              "<div>\n",
              "<style scoped>\n",
              "    .dataframe tbody tr th:only-of-type {\n",
              "        vertical-align: middle;\n",
              "    }\n",
              "\n",
              "    .dataframe tbody tr th {\n",
              "        vertical-align: top;\n",
              "    }\n",
              "\n",
              "    .dataframe thead th {\n",
              "        text-align: right;\n",
              "    }\n",
              "</style>\n",
              "<table border=\"1\" class=\"dataframe\">\n",
              "  <thead>\n",
              "    <tr style=\"text-align: right;\">\n",
              "      <th></th>\n",
              "      <th>Area</th>\n",
              "      <th>Bairro</th>\n",
              "      <th>Cidade</th>\n",
              "      <th>Endereco</th>\n",
              "      <th>Estado</th>\n",
              "      <th>Latitude</th>\n",
              "      <th>Longitude</th>\n",
              "      <th>Quartos</th>\n",
              "      <th>Suites</th>\n",
              "      <th>Vagas</th>\n",
              "      <th>Tipo</th>\n",
              "      <th>Transacao</th>\n",
              "      <th>Valor</th>\n",
              "    </tr>\n",
              "  </thead>\n",
              "  <tbody>\n",
              "    <tr>\n",
              "      <th>0</th>\n",
              "      <td>138</td>\n",
              "      <td>Recreio dos Bandeirantes</td>\n",
              "      <td>Rio de Janeiro</td>\n",
              "      <td>Rua Vicente Scofano</td>\n",
              "      <td>RJ</td>\n",
              "      <td>-23.016455</td>\n",
              "      <td>-43.462946</td>\n",
              "      <td>3</td>\n",
              "      <td>1</td>\n",
              "      <td>3</td>\n",
              "      <td>Apartamento</td>\n",
              "      <td>Venda</td>\n",
              "      <td>1095000</td>\n",
              "    </tr>\n",
              "    <tr>\n",
              "      <th>1</th>\n",
              "      <td>133</td>\n",
              "      <td>Freguesia (Jacarepaguá)</td>\n",
              "      <td>Rio de Janeiro</td>\n",
              "      <td>Rua Potiguara</td>\n",
              "      <td>RJ</td>\n",
              "      <td>-22.943199</td>\n",
              "      <td>-43.336911</td>\n",
              "      <td>3</td>\n",
              "      <td>1</td>\n",
              "      <td>2</td>\n",
              "      <td>Apartamento</td>\n",
              "      <td>Venda</td>\n",
              "      <td>650000</td>\n",
              "    </tr>\n",
              "    <tr>\n",
              "      <th>2</th>\n",
              "      <td>46</td>\n",
              "      <td>Pilares</td>\n",
              "      <td>Rio de Janeiro</td>\n",
              "      <td>Rua Professor Carneiro Felipe</td>\n",
              "      <td>RJ</td>\n",
              "      <td>-22.873849</td>\n",
              "      <td>-43.300517</td>\n",
              "      <td>1</td>\n",
              "      <td>0</td>\n",
              "      <td>0</td>\n",
              "      <td>Apartamento</td>\n",
              "      <td>Venda</td>\n",
              "      <td>150000</td>\n",
              "    </tr>\n",
              "    <tr>\n",
              "      <th>3</th>\n",
              "      <td>65</td>\n",
              "      <td>Barra da Tijuca</td>\n",
              "      <td>Rio de Janeiro</td>\n",
              "      <td>Avenida Salvador Allende</td>\n",
              "      <td>RJ</td>\n",
              "      <td>-22.984787</td>\n",
              "      <td>-43.412703</td>\n",
              "      <td>2</td>\n",
              "      <td>1</td>\n",
              "      <td>1</td>\n",
              "      <td>Apartamento</td>\n",
              "      <td>Venda</td>\n",
              "      <td>430000</td>\n",
              "    </tr>\n",
              "    <tr>\n",
              "      <th>4</th>\n",
              "      <td>85</td>\n",
              "      <td>Gávea</td>\n",
              "      <td>Rio de Janeiro</td>\n",
              "      <td>Rua Marquês de São Vicente</td>\n",
              "      <td>RJ</td>\n",
              "      <td>-14.235004</td>\n",
              "      <td>-51.925280</td>\n",
              "      <td>2</td>\n",
              "      <td>1</td>\n",
              "      <td>2</td>\n",
              "      <td>Apartamento</td>\n",
              "      <td>Venda</td>\n",
              "      <td>1800000</td>\n",
              "    </tr>\n",
              "  </tbody>\n",
              "</table>\n",
              "</div>"
            ],
            "text/plain": [
              "   Area                    Bairro  ... Transacao    Valor\n",
              "0   138  Recreio dos Bandeirantes  ...     Venda  1095000\n",
              "1   133   Freguesia (Jacarepaguá)  ...     Venda   650000\n",
              "2    46                   Pilares  ...     Venda   150000\n",
              "3    65           Barra da Tijuca  ...     Venda   430000\n",
              "4    85                     Gávea  ...     Venda  1800000\n",
              "\n",
              "[5 rows x 13 columns]"
            ]
          },
          "metadata": {
            "tags": []
          },
          "execution_count": 12
        }
      ]
    },
    {
      "cell_type": "markdown",
      "metadata": {
        "id": "J27Naz-NO3f-"
      },
      "source": [
        "#### Transformando em GeoDataFrame"
      ]
    },
    {
      "cell_type": "code",
      "metadata": {
        "colab": {
          "base_uri": "https://localhost:8080/",
          "height": 176
        },
        "id": "vuLpDVypNaHV",
        "outputId": "139d7d94-07ed-433b-ec88-7f9bb4134996"
      },
      "source": [
        "geometry = [Point(x) for x in zip(dados.Longitude, dados.Latitude)]\n",
        "crs = {'proj': 'latlong', 'ellps': 'WGS84', 'datum': 'WGS84', 'no_defs': True}\n",
        "\n",
        "geo_dados = gpd.GeoDataFrame(dados, crs=crs, geometry=geometry)\n",
        "geo_dados.to_file('/content/drive/MyDrive/Colab Notebooks/Alura/Mapas/RJ-DATASET/DATASET.shp')\n",
        "geo_dados.head(2)"
      ],
      "execution_count": 13,
      "outputs": [
        {
          "output_type": "execute_result",
          "data": {
            "text/html": [
              "<div>\n",
              "<style scoped>\n",
              "    .dataframe tbody tr th:only-of-type {\n",
              "        vertical-align: middle;\n",
              "    }\n",
              "\n",
              "    .dataframe tbody tr th {\n",
              "        vertical-align: top;\n",
              "    }\n",
              "\n",
              "    .dataframe thead th {\n",
              "        text-align: right;\n",
              "    }\n",
              "</style>\n",
              "<table border=\"1\" class=\"dataframe\">\n",
              "  <thead>\n",
              "    <tr style=\"text-align: right;\">\n",
              "      <th></th>\n",
              "      <th>Area</th>\n",
              "      <th>Bairro</th>\n",
              "      <th>Cidade</th>\n",
              "      <th>Endereco</th>\n",
              "      <th>Estado</th>\n",
              "      <th>Latitude</th>\n",
              "      <th>Longitude</th>\n",
              "      <th>Quartos</th>\n",
              "      <th>Suites</th>\n",
              "      <th>Vagas</th>\n",
              "      <th>Tipo</th>\n",
              "      <th>Transacao</th>\n",
              "      <th>Valor</th>\n",
              "      <th>geometry</th>\n",
              "    </tr>\n",
              "  </thead>\n",
              "  <tbody>\n",
              "    <tr>\n",
              "      <th>0</th>\n",
              "      <td>138</td>\n",
              "      <td>Recreio dos Bandeirantes</td>\n",
              "      <td>Rio de Janeiro</td>\n",
              "      <td>Rua Vicente Scofano</td>\n",
              "      <td>RJ</td>\n",
              "      <td>-23.016455</td>\n",
              "      <td>-43.462946</td>\n",
              "      <td>3</td>\n",
              "      <td>1</td>\n",
              "      <td>3</td>\n",
              "      <td>Apartamento</td>\n",
              "      <td>Venda</td>\n",
              "      <td>1095000</td>\n",
              "      <td>POINT (-43.46295 -23.01646)</td>\n",
              "    </tr>\n",
              "    <tr>\n",
              "      <th>1</th>\n",
              "      <td>133</td>\n",
              "      <td>Freguesia (Jacarepaguá)</td>\n",
              "      <td>Rio de Janeiro</td>\n",
              "      <td>Rua Potiguara</td>\n",
              "      <td>RJ</td>\n",
              "      <td>-22.943199</td>\n",
              "      <td>-43.336911</td>\n",
              "      <td>3</td>\n",
              "      <td>1</td>\n",
              "      <td>2</td>\n",
              "      <td>Apartamento</td>\n",
              "      <td>Venda</td>\n",
              "      <td>650000</td>\n",
              "      <td>POINT (-43.33691 -22.94320)</td>\n",
              "    </tr>\n",
              "  </tbody>\n",
              "</table>\n",
              "</div>"
            ],
            "text/plain": [
              "   Area                    Bairro  ...    Valor                     geometry\n",
              "0   138  Recreio dos Bandeirantes  ...  1095000  POINT (-43.46295 -23.01646)\n",
              "1   133   Freguesia (Jacarepaguá)  ...   650000  POINT (-43.33691 -22.94320)\n",
              "\n",
              "[2 rows x 14 columns]"
            ]
          },
          "metadata": {
            "tags": []
          },
          "execution_count": 13
        }
      ]
    },
    {
      "cell_type": "markdown",
      "metadata": {
        "id": "B2ZVKXPITo-I"
      },
      "source": [
        "#### Modificando o CRS dos arquivos"
      ]
    },
    {
      "cell_type": "code",
      "metadata": {
        "colab": {
          "base_uri": "https://localhost:8080/",
          "height": 107
        },
        "id": "_4aHp-tpOUCt",
        "outputId": "6ea4cb5c-1bb7-405a-ff11-f57a9a92cea8"
      },
      "source": [
        "rj.head(2)"
      ],
      "execution_count": 14,
      "outputs": [
        {
          "output_type": "execute_result",
          "data": {
            "text/html": [
              "<div>\n",
              "<style scoped>\n",
              "    .dataframe tbody tr th:only-of-type {\n",
              "        vertical-align: middle;\n",
              "    }\n",
              "\n",
              "    .dataframe tbody tr th {\n",
              "        vertical-align: top;\n",
              "    }\n",
              "\n",
              "    .dataframe thead th {\n",
              "        text-align: right;\n",
              "    }\n",
              "</style>\n",
              "<table border=\"1\" class=\"dataframe\">\n",
              "  <thead>\n",
              "    <tr style=\"text-align: right;\">\n",
              "      <th></th>\n",
              "      <th>ID</th>\n",
              "      <th>CD_GEOCODM</th>\n",
              "      <th>NM_MUNICIP</th>\n",
              "      <th>geometry</th>\n",
              "    </tr>\n",
              "  </thead>\n",
              "  <tbody>\n",
              "    <tr>\n",
              "      <th>0</th>\n",
              "      <td>1468</td>\n",
              "      <td>3300100</td>\n",
              "      <td>ANGRA DOS REIS</td>\n",
              "      <td>MULTIPOLYGON (((-44.33208 -23.02384, -44.33221...</td>\n",
              "    </tr>\n",
              "    <tr>\n",
              "      <th>1</th>\n",
              "      <td>1469</td>\n",
              "      <td>3300159</td>\n",
              "      <td>APERIBÉ</td>\n",
              "      <td>POLYGON ((-42.08950 -21.62893, -42.08912 -21.6...</td>\n",
              "    </tr>\n",
              "  </tbody>\n",
              "</table>\n",
              "</div>"
            ],
            "text/plain": [
              "     ID  ...                                           geometry\n",
              "0  1468  ...  MULTIPOLYGON (((-44.33208 -23.02384, -44.33221...\n",
              "1  1469  ...  POLYGON ((-42.08950 -21.62893, -42.08912 -21.6...\n",
              "\n",
              "[2 rows x 4 columns]"
            ]
          },
          "metadata": {
            "tags": []
          },
          "execution_count": 14
        }
      ]
    },
    {
      "cell_type": "code",
      "metadata": {
        "colab": {
          "base_uri": "https://localhost:8080/"
        },
        "id": "LEF4zTZeUVds",
        "outputId": "e64c11cd-4163-41e9-dabf-303dc589031a"
      },
      "source": [
        "rj.crs"
      ],
      "execution_count": 15,
      "outputs": [
        {
          "output_type": "execute_result",
          "data": {
            "text/plain": [
              "<Geographic 2D CRS: EPSG:4674>\n",
              "Name: SIRGAS 2000\n",
              "Axis Info [ellipsoidal]:\n",
              "- Lat[north]: Geodetic latitude (degree)\n",
              "- Lon[east]: Geodetic longitude (degree)\n",
              "Area of Use:\n",
              "- name: Latin America - Central America and South America - onshore and offshore. Brazil - onshore and offshore.\n",
              "- bounds: (-122.19, -59.87, -25.28, 32.72)\n",
              "Datum: Sistema de Referencia Geocentrico para las AmericaS 2000\n",
              "- Ellipsoid: GRS 1980\n",
              "- Prime Meridian: Greenwich"
            ]
          },
          "metadata": {
            "tags": []
          },
          "execution_count": 15
        }
      ]
    },
    {
      "cell_type": "code",
      "metadata": {
        "id": "nSoBSV3MVU1d"
      },
      "source": [
        "rj = rj.to_crs('+proj=utm +zone=23 +south +ellps=GRS80 +towgs84=0,0,0,0,0,0,0 +units=km +no_defs')\n",
        "cidade_rj.to_file(dir+'/RJ-MUNIC.shp')"
      ],
      "execution_count": 16,
      "outputs": []
    },
    {
      "cell_type": "code",
      "metadata": {
        "colab": {
          "base_uri": "https://localhost:8080/"
        },
        "id": "xjtVA6V-UVgj",
        "outputId": "5d959760-1217-473f-8a4d-1d8410fb57ce"
      },
      "source": [
        "geo_dados.crs"
      ],
      "execution_count": 17,
      "outputs": [
        {
          "output_type": "execute_result",
          "data": {
            "text/plain": [
              "<Geographic 2D CRS: +proj=latlong +ellps=WGS84 +datum=WGS84 +no_defs + ...>\n",
              "Name: unknown\n",
              "Axis Info [ellipsoidal]:\n",
              "- lon[east]: Longitude (degree)\n",
              "- lat[north]: Latitude (degree)\n",
              "Area of Use:\n",
              "- undefined\n",
              "Datum: World Geodetic System 1984\n",
              "- Ellipsoid: WGS 84\n",
              "- Prime Meridian: Greenwich"
            ]
          },
          "metadata": {
            "tags": []
          },
          "execution_count": 17
        }
      ]
    },
    {
      "cell_type": "code",
      "metadata": {
        "id": "uSyo-tkYVUbD"
      },
      "source": [
        "geo_dados = geo_dados.to_crs('+proj=utm +zone=23 +south +ellps=GRS80 +towgs84=0,0,0,0,0,0,0 +units=km +no_defs')\n",
        "geo_dados.to_file('/content/drive/MyDrive/Colab Notebooks/Alura/Mapas/RJ-DATASET/DATASET.shp')"
      ],
      "execution_count": 18,
      "outputs": []
    }
  ]
}