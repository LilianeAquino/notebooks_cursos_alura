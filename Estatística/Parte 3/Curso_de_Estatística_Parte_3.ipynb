{
  "nbformat": 4,
  "nbformat_minor": 0,
  "metadata": {
    "colab": {
      "name": "Curso_de_Estatística_Parte_3.ipynb",
      "provenance": [],
      "collapsed_sections": []
    },
    "kernelspec": {
      "display_name": "Python 3",
      "language": "python",
      "name": "python3"
    },
    "language_info": {
      "codemirror_mode": {
        "name": "ipython",
        "version": 3
      },
      "file_extension": ".py",
      "mimetype": "text/x-python",
      "name": "python",
      "nbconvert_exporter": "python",
      "pygments_lexer": "ipython3",
      "version": "3.6.5"
    }
  },
  "cells": [
    {
      "cell_type": "markdown",
      "metadata": {
        "id": "WvMflodMjQKe"
      },
      "source": [
        "# <font color=green size=10>CURSO DE ESTATÍSTICA - PARTE 3</font>\n",
        "\n",
        "***"
      ]
    },
    {
      "cell_type": "markdown",
      "metadata": {
        "id": "cVgsZ_E3jQKg"
      },
      "source": [
        "# <font color=green>1 CONHECENDO OS DADOS</font>\n",
        "***"
      ]
    },
    {
      "cell_type": "markdown",
      "metadata": {
        "id": "TDjqYYNojQKh"
      },
      "source": [
        "## <font color=green>1.1 Dataset do projeto</font>\n",
        "***"
      ]
    },
    {
      "cell_type": "markdown",
      "metadata": {
        "id": "iN1gIbaKjQKh"
      },
      "source": [
        "### Pesquisa Nacional por Amostra de Domicílios - 2015\n",
        "\n",
        "A <b>Pesquisa Nacional por Amostra de Domicílios - PNAD</b> investiga anualmente, de forma permanente, características gerais da população, de educação, trabalho, rendimento e habitação e outras, com periodicidade variável, de acordo com as necessidades de informação para o país, como as características sobre migração, fecundidade, nupcialidade, saúde, segurança alimentar, entre outros temas. O levantamento dessas estatísticas constitui, ao longo dos 49 anos de realização da pesquisa, um importante instrumento para formulação, validação e avaliação de políticas orientadas para o desenvolvimento socioeconômico e a melhoria das condições de vida no Brasil."
      ]
    },
    {
      "cell_type": "markdown",
      "metadata": {
        "id": "U6V7br1RjQKi"
      },
      "source": [
        "### Fonte dos Dados\n",
        "\n",
        "https://ww2.ibge.gov.br/home/estatistica/populacao/trabalhoerendimento/pnad2015/microdados.shtm"
      ]
    },
    {
      "cell_type": "markdown",
      "metadata": {
        "id": "r0Fe_qnzjQKj"
      },
      "source": [
        "### Variáveis utilizadas\n",
        "\n",
        "> ### Renda\n",
        "> ***\n",
        "\n",
        "Rendimento mensal do trabalho principal para pessoas de 10 anos ou mais de idade.\n",
        "\n",
        "> ### Idade\n",
        "> ***\n",
        "\n",
        "Idade do morador na data de referência em anos.\n",
        "\n",
        "> ### Altura (elaboração própria)\n",
        "> ***\n",
        "\n",
        "Altura do morador em metros.\n",
        "\n",
        "> ### UF\n",
        "> ***\n",
        "\n",
        "|Código|Descrição|\n",
        "|---|---|\n",
        "|11|Rondônia|\n",
        "|12|Acre|\n",
        "|13|Amazonas|\n",
        "|14|Roraima|\n",
        "|15|Pará|\n",
        "|16|Amapá|\n",
        "|17|Tocantins|\n",
        "|21|Maranhão|\n",
        "|22|Piauí|\n",
        "|23|Ceará|\n",
        "|24|Rio Grande do Norte|\n",
        "|25|Paraíba|\n",
        "|26|Pernambuco|\n",
        "|27|Alagoas|\n",
        "|28|Sergipe|\n",
        "|29|Bahia|\n",
        "|31|Minas Gerais|\n",
        "|32|Espírito Santo|\n",
        "|33|Rio de Janeiro|\n",
        "|35|São Paulo|\n",
        "|41|Paraná|\n",
        "|42|Santa Catarina|\n",
        "|43|Rio Grande do Sul|\n",
        "|50|Mato Grosso do Sul|\n",
        "|51|Mato Grosso|\n",
        "|52|Goiás|\n",
        "|53|Distrito Federal|\n",
        "\n",
        "> ### Sexo\t\n",
        "> ***\n",
        "\n",
        "|Código|Descrição|\n",
        "|---|---|\n",
        "|0|Masculino|\n",
        "|1|Feminino|\n",
        "\n",
        "> ### Anos de Estudo\n",
        "> ***\n",
        "\n",
        "|Código|Descrição|\n",
        "|---|---|\n",
        "|1|Sem instrução e menos de 1 ano|\n",
        "|2|1 ano|\n",
        "|3|2 anos|\n",
        "|4|3 anos|\n",
        "|5|4 anos|\n",
        "|6|5 anos|\n",
        "|7|6 anos|\n",
        "|8|7 anos|\n",
        "|9|8 anos|\n",
        "|10|9 anos|\n",
        "|11|10 anos|\n",
        "|12|11 anos|\n",
        "|13|12 anos|\n",
        "|14|13 anos|\n",
        "|15|14 anos|\n",
        "|16|15 anos ou mais|\n",
        "|17|Não determinados| \n",
        "||Não aplicável|\n",
        "\n",
        "> ### Cor\n",
        "> ***\n",
        "\n",
        "|Código|Descrição|\n",
        "|---|---|\n",
        "|0|Indígena|\n",
        "|2|Branca|\n",
        "|4|Preta|\n",
        "|6|Amarela|\n",
        "|8|Parda|\n",
        "|9|Sem declaração|"
      ]
    },
    {
      "cell_type": "markdown",
      "metadata": {
        "id": "OK1IQH5cX7Gb"
      },
      "source": [
        "#### <font color='red'>Observação</font>\n",
        "***\n",
        "> Os seguintes tratamentos foram realizados nos dados originais:\n",
        "> 1. Foram eliminados os registros onde a <b>Renda</b> era inválida (999 999 999 999);\n",
        "> 2. Foram eliminados os registros onde a <b>Renda</b> era missing;\n",
        "> 3. Foram considerados somente os registros das <b>Pessoas de Referência</b> de cada domicílio (responsável pelo domicílio)."
      ]
    },
    {
      "cell_type": "markdown",
      "metadata": {
        "id": "8Rw70V6ojQKk"
      },
      "source": [
        "### Importando pandas e lendo o dataset do projeto\n",
        "\n",
        "https://pandas.pydata.org/"
      ]
    },
    {
      "cell_type": "code",
      "metadata": {
        "colab": {
          "base_uri": "https://localhost:8080/"
        },
        "id": "8QgOpE-wjQKl",
        "outputId": "6dc7296a-ab41-49a6-b0ed-f0537c068b81"
      },
      "source": [
        "from google.colab import drive\n",
        "drive.mount('/content/drive')"
      ],
      "execution_count": 1,
      "outputs": [
        {
          "output_type": "stream",
          "text": [
            "Mounted at /content/drive\n"
          ],
          "name": "stdout"
        }
      ]
    },
    {
      "cell_type": "code",
      "metadata": {
        "id": "ufRZ7TLwjQKo"
      },
      "source": [
        "import pandas as pd\n",
        "import numpy as np\n",
        "import seaborn as sns\n",
        "import matplotlib.pyplot as plt\n",
        "%matplotlib inline"
      ],
      "execution_count": 2,
      "outputs": []
    },
    {
      "cell_type": "code",
      "metadata": {
        "colab": {
          "base_uri": "https://localhost:8080/",
          "height": 195
        },
        "id": "GsC_WhLFjQKq",
        "scrolled": true,
        "outputId": "65371183-1761-4b3a-a4e9-c653ad80f259"
      },
      "source": [
        "dados = pd.read_csv('/content/drive/MyDrive/Colab Notebooks/Alura/dados.csv')\n",
        "dados.head()"
      ],
      "execution_count": 3,
      "outputs": [
        {
          "output_type": "execute_result",
          "data": {
            "text/html": [
              "<div>\n",
              "<style scoped>\n",
              "    .dataframe tbody tr th:only-of-type {\n",
              "        vertical-align: middle;\n",
              "    }\n",
              "\n",
              "    .dataframe tbody tr th {\n",
              "        vertical-align: top;\n",
              "    }\n",
              "\n",
              "    .dataframe thead th {\n",
              "        text-align: right;\n",
              "    }\n",
              "</style>\n",
              "<table border=\"1\" class=\"dataframe\">\n",
              "  <thead>\n",
              "    <tr style=\"text-align: right;\">\n",
              "      <th></th>\n",
              "      <th>UF</th>\n",
              "      <th>Sexo</th>\n",
              "      <th>Idade</th>\n",
              "      <th>Cor</th>\n",
              "      <th>Anos de Estudo</th>\n",
              "      <th>Renda</th>\n",
              "      <th>Altura</th>\n",
              "    </tr>\n",
              "  </thead>\n",
              "  <tbody>\n",
              "    <tr>\n",
              "      <th>0</th>\n",
              "      <td>11</td>\n",
              "      <td>0</td>\n",
              "      <td>23</td>\n",
              "      <td>8</td>\n",
              "      <td>12</td>\n",
              "      <td>800</td>\n",
              "      <td>1.603808</td>\n",
              "    </tr>\n",
              "    <tr>\n",
              "      <th>1</th>\n",
              "      <td>11</td>\n",
              "      <td>1</td>\n",
              "      <td>23</td>\n",
              "      <td>2</td>\n",
              "      <td>12</td>\n",
              "      <td>1150</td>\n",
              "      <td>1.739790</td>\n",
              "    </tr>\n",
              "    <tr>\n",
              "      <th>2</th>\n",
              "      <td>11</td>\n",
              "      <td>1</td>\n",
              "      <td>35</td>\n",
              "      <td>8</td>\n",
              "      <td>15</td>\n",
              "      <td>880</td>\n",
              "      <td>1.760444</td>\n",
              "    </tr>\n",
              "    <tr>\n",
              "      <th>3</th>\n",
              "      <td>11</td>\n",
              "      <td>0</td>\n",
              "      <td>46</td>\n",
              "      <td>2</td>\n",
              "      <td>6</td>\n",
              "      <td>3500</td>\n",
              "      <td>1.783158</td>\n",
              "    </tr>\n",
              "    <tr>\n",
              "      <th>4</th>\n",
              "      <td>11</td>\n",
              "      <td>1</td>\n",
              "      <td>47</td>\n",
              "      <td>8</td>\n",
              "      <td>9</td>\n",
              "      <td>150</td>\n",
              "      <td>1.690631</td>\n",
              "    </tr>\n",
              "  </tbody>\n",
              "</table>\n",
              "</div>"
            ],
            "text/plain": [
              "   UF  Sexo  Idade  Cor  Anos de Estudo  Renda    Altura\n",
              "0  11     0     23    8              12    800  1.603808\n",
              "1  11     1     23    2              12   1150  1.739790\n",
              "2  11     1     35    8              15    880  1.760444\n",
              "3  11     0     46    2               6   3500  1.783158\n",
              "4  11     1     47    8               9    150  1.690631"
            ]
          },
          "metadata": {
            "tags": []
          },
          "execution_count": 3
        }
      ]
    },
    {
      "cell_type": "markdown",
      "metadata": {
        "id": "nk65O0lepz57"
      },
      "source": [
        "# <font color=green>2 TESTES DE HIPÓTESES</font>\n",
        "***"
      ]
    },
    {
      "cell_type": "markdown",
      "metadata": {
        "id": "OjHpQHFHpsi3"
      },
      "source": [
        "Testes estatísticos são regras de decisão que permitem avaliar a razoabilidade das hipóteses feitas sobre os parâmetros populacionais e aceitá-las ou rejeitá-las como provavelmente verdadeiras ou falsas tendo como base uma amostra."
      ]
    },
    {
      "cell_type": "markdown",
      "metadata": {
        "id": "qjqWccNspsi4"
      },
      "source": [
        "## <font color=green>2.1 Teste de normalidade</font>\n",
        "***"
      ]
    },
    {
      "cell_type": "markdown",
      "metadata": {
        "id": "O79kHHwYpsi5"
      },
      "source": [
        "### Importando bibliotecas\n",
        "https://docs.scipy.org/doc/scipy/reference/generated/scipy.stats.normaltest.html"
      ]
    },
    {
      "cell_type": "code",
      "metadata": {
        "id": "3LwfaqpFpsi5"
      },
      "source": [
        "from scipy.stats import normaltest"
      ],
      "execution_count": 4,
      "outputs": []
    },
    {
      "cell_type": "markdown",
      "metadata": {
        "id": "abDn-nKLpsi7"
      },
      "source": [
        "A função *normaltest* testa a hipótese nula $H_0$ de que a amostra é proveniente de uma distribuição normal."
      ]
    },
    {
      "cell_type": "markdown",
      "metadata": {
        "id": "gRDJ86zTpsi8"
      },
      "source": [
        "### Definindo a significância do teste ($\\alpha$)"
      ]
    },
    {
      "cell_type": "code",
      "metadata": {
        "colab": {
          "base_uri": "https://localhost:8080/",
          "height": 265
        },
        "id": "3s6ZAdCOpsi9",
        "outputId": "6cea33e6-a6dc-42ab-f8e0-b2aff3da758b"
      },
      "source": [
        "significancia = 0.05\n",
        "dados['Renda'].hist(bins=50)\n",
        "plt.show()"
      ],
      "execution_count": 5,
      "outputs": [
        {
          "output_type": "display_data",
          "data": {
            "image/png": "[encoded data removed]",
            "text/plain": [
              "<Figure size 432x288 with 1 Axes>"
            ]
          },
          "metadata": {
            "tags": [],
            "needs_background": "light"
          }
        }
      ]
    },
    {
      "cell_type": "markdown",
      "metadata": {
        "id": "sppYIE51psi_"
      },
      "source": [
        "### Testando a variável Renda"
      ]
    },
    {
      "cell_type": "code",
      "metadata": {
        "colab": {
          "base_uri": "https://localhost:8080/"
        },
        "id": "IZpa91lHpsi_",
        "outputId": "7bce8776-90df-483f-ec5d-735382cd117e"
      },
      "source": [
        "stat_test, p_valor = normaltest(dados['Renda'])\n",
        "print(p_valor)"
      ],
      "execution_count": 6,
      "outputs": [
        {
          "output_type": "stream",
          "text": [
            "0.0\n"
          ],
          "name": "stdout"
        }
      ]
    },
    {
      "cell_type": "markdown",
      "metadata": {
        "id": "qKeNZ0PUpsjC"
      },
      "source": [
        "### <font color='red'>Critério do valor $p$</font>\n",
        "\n",
        "> ### Rejeitar $H_0$ se o valor $p\\leq 0,05$"
      ]
    },
    {
      "cell_type": "code",
      "metadata": {
        "colab": {
          "base_uri": "https://localhost:8080/"
        },
        "id": "060ahVrrpsjD",
        "outputId": "a37b6893-0245-49bf-d878-85e97cf1bdc4"
      },
      "source": [
        "p_valor <= significancia"
      ],
      "execution_count": 7,
      "outputs": [
        {
          "output_type": "execute_result",
          "data": {
            "text/plain": [
              "True"
            ]
          },
          "metadata": {
            "tags": []
          },
          "execution_count": 7
        }
      ]
    },
    {
      "cell_type": "markdown",
      "metadata": {
        "id": "JkAxa9PqpsjM"
      },
      "source": [
        "### Testando a variável Altura"
      ]
    },
    {
      "cell_type": "code",
      "metadata": {
        "colab": {
          "base_uri": "https://localhost:8080/",
          "height": 265
        },
        "id": "n9r88dMKpsjN",
        "outputId": "159d443b-3d2d-4644-a9b2-cfbc934d52b0"
      },
      "source": [
        "dados['Altura'].hist(bins=50)\n",
        "plt.show()"
      ],
      "execution_count": 8,
      "outputs": [
        {
          "output_type": "display_data",
          "data": {
            "image/png": "[encoded data removed]",
            "text/plain": [
              "<Figure size 432x288 with 1 Axes>"
            ]
          },
          "metadata": {
            "tags": [],
            "needs_background": "light"
          }
        }
      ]
    },
    {
      "cell_type": "markdown",
      "metadata": {
        "id": "1ADrwGb5psjQ"
      },
      "source": [
        "### <font color='red'>Critério do valor $p$</font>\n",
        "\n",
        "> ### Rejeitar $H_0$ se o valor $p\\leq 0,05$"
      ]
    },
    {
      "cell_type": "code",
      "metadata": {
        "colab": {
          "base_uri": "https://localhost:8080/"
        },
        "id": "aV9fx6w5psjb",
        "outputId": "8dcf5e94-07eb-4682-c15b-13c1fbe36f41"
      },
      "source": [
        "stat_test, p_valor = normaltest(dados['Altura'])\n",
        "print(p_valor)"
      ],
      "execution_count": 9,
      "outputs": [
        {
          "output_type": "stream",
          "text": [
            "0.9049591541967501\n"
          ],
          "name": "stdout"
        }
      ]
    },
    {
      "cell_type": "code",
      "metadata": {
        "colab": {
          "base_uri": "https://localhost:8080/"
        },
        "id": "pP-NZCthpsje",
        "outputId": "5c9b33e5-4a26-4e49-da4a-4e27256de7b9"
      },
      "source": [
        "p_valor <= significancia"
      ],
      "execution_count": 10,
      "outputs": [
        {
          "output_type": "execute_result",
          "data": {
            "text/plain": [
              "False"
            ]
          },
          "metadata": {
            "tags": []
          },
          "execution_count": 10
        }
      ]
    },
    {
      "cell_type": "markdown",
      "metadata": {
        "id": "rWh-HSd-psji"
      },
      "source": [
        "## <font color=green>2.2 Etapas Básicas de um Teste</font>\n",
        "***"
      ]
    },
    {
      "cell_type": "markdown",
      "metadata": {
        "id": "DQF30K2Cpsjj"
      },
      "source": [
        "### **Passo 1** - formulação das hipóteses $H_0$ e $H_1$;\n",
        "\n",
        "> ### <font color='red'>Pontos importantes</font>\n",
        "> - De maneira geral, o alvo do estudo deve ser formulado como a hipótese alternativa $H_1$.\n",
        "> - A hipótese nula sempre afirma uma igualdade ou propriedade populacional, e $H_1$ a desigualdade que nega $H_0$.\n",
        "> - No caso da hipótese nula $H_0$ a igualdade pode ser representada por uma igualdade simples \"$=$\" ou por \"$\\geq$\" e \"$\\leq$\". Sempre complementar ao estabelecido pela hipótese alternativa.\n",
        "> - A hipótese alternativa $H_1$ deve definir uma desigualdade que pode ser uma diferença simples \"$\\neq$\" ou dos tipos \"$>$\" e \"$<$\".\n",
        "\n",
        "\n",
        "### **Passo 2** - escolha da distribuição amostral adequada;\n",
        "\n",
        "> ### <font color='red'>Pontos importantes</font>\n",
        "> - Quando o tamanho da amostra tiver 30 elementos ou mais, deve-se utilizar a distribuição normal, como estabelecido pelo **teorema do limite central**.\n",
        "> - Para um tamanho de amostra menor que 30 elementos, e se pudermos afirmar que a população se distribui aproximadamente como uma normal e o desvio padrão populacional for conhecido, deve-se utilizar a distribuição normal.\n",
        "> - Para um tamanho de amostra menor que 30 elementos, e se pudermos afirmar que a população se distribui aproximadamente como uma normal e o desvio padrão populacional for desconhecido, deve-se utilizar a distribuição t de Student.\n",
        "\n",
        "<img src='https://caelum-online-public.s3.amazonaws.com/1229-estatistica-parte3/01/img003.png' width=70%>\n",
        "\n",
        "### **Passo 3** - fixação da significância do teste ($\\alpha$), que define as regiões de aceitação e rejeição das hipóteses (os valores mais freqüentes são 10%, 5% e 1%);\n",
        "\n",
        "> ### <font color='red'>Pontos importantes</font>\n",
        "> - O **nível de confiança** ($1 - \\alpha$) representa a probabilidade de acerto da estimativa. De forma complementar o **nível de significância** ($\\alpha$) expressa a probabilidade de erro da estimativa.\n",
        ">\n",
        "> ![Níveis de Confiança e significância](https://caelum-online-public.s3.amazonaws.com/1229-estatistica-parte3/01/img001.png)\n",
        ">\n",
        "> - O **nível de confiança** representa o grau de confiabilidade do resultado da estimativa estar dentro de determinado intervalo. Quando fixamos em uma pesquisa um **nível de confiança** de 95%, por exemplo, estamos assumindo que existe uma probabilidade de 95% dos resultados da pesquisa representarem bem a realidade, ou seja, estarem corretos.\n",
        ">\n",
        "> ![Áreas de Aceitação e Rejeição](https://caelum-online-public.s3.amazonaws.com/1229-estatistica-parte3/01/img002.png)\n",
        "\n",
        "### **Passo 4** - cálculo da estatística-teste e verificação desse valor com as áreas de aceitação e rejeição do teste;\n",
        "\n",
        "> ### <font color='red'>Pontos importantes</font>\n",
        "> - Nos testes paramétricos, distância relativa entre a estatística amostral e o valor alegado como provável.\n",
        "> - Neste passo são obtidas as estatísticas amostrais necessárias à execução do teste (média, desvio-padrão, graus de liberdade etc.)\n",
        "\n",
        "\n",
        "### **Passo 5** - Aceitação ou rejeição da hipótese nula.\n",
        "\n",
        "> ### <font color='red'>Pontos importantes</font>\n",
        "> - No caso de o intervalo de aceitação conter a estatística-teste, aceita-se $H_0$ como estatisticamente válido e rejeita-se $H_1$ como tal.\n",
        "> - No caso de o intervalo de aceitação não conter a estatística-teste, rejeita-se $H_0$ e aceita-se $H_1$ como provavelmente verdadeira. \n",
        "> - A aceitação também se verifica com a probabilidade de cauda (p-valor): se maior que $\\alpha$, aceita-se $H_0$."
      ]
    },
    {
      "cell_type": "markdown",
      "metadata": {
        "id": "TXdMM0dOpsjm"
      },
      "source": [
        "---"
      ]
    },
    {
      "cell_type": "markdown",
      "metadata": {
        "id": "miGOADKYpsjn"
      },
      "source": [
        "# <font color=green>3 TESTES PARAMÉTRICOS</font>\n",
        "***"
      ]
    },
    {
      "cell_type": "markdown",
      "metadata": {
        "id": "pIHY_4Sspsjn"
      },
      "source": [
        "Quando um teste assume determinadas premissas sobre como os parâmetros de uma população se distribuem, estamos trabalhando com **Testes Paramétricos**."
      ]
    },
    {
      "cell_type": "markdown",
      "metadata": {
        "id": "rUKgxZ7_psjp"
      },
      "source": [
        "## <font color=green>3.1 Teste Bicaudal</font>\n",
        "***"
      ]
    },
    {
      "cell_type": "markdown",
      "metadata": {
        "id": "i1PMIB5cpsjp"
      },
      "source": [
        "## <font color='red'>Problema</font>"
      ]
    },
    {
      "cell_type": "markdown",
      "metadata": {
        "id": "vellTWzJpsjq"
      },
      "source": [
        "A empresa **Suco Bom** produz **sucos de frutas em embalagens de 500 ml**. Seu processo de produção é quase todo automatizado e as embalagens de sucos são preenchidas por uma máquina que às vezes apresenta um certo desajuste, levando a erros no preenchimento das embalagens para mais ou menos conteúdo. Quando o volume médio cai abaixo de 500 ml, a empresa se preocupa em perder vendas e ter problemas com os orgãos fiscalizadores. Quando o volume passa de 500 ml, a empresa começa a se preocupar com prejuízos no processo de produção.\n",
        "\n",
        "O setor de controle de qualidade da empresa **Suco Bom** extrai, periodicamente, **amostras de 50 embalagens** para monitorar o processo de produção. Para cada amostra, é realizado um **teste de hipóteses** para avaliar se o maquinário se desajustou. A equipe de controle de qualidade assume um **nível de significância de 5%**.\n",
        "\n",
        "Suponha agora que uma **amostra de 50 embalagens** foi selecionada e que a **média amostral observada foi de 503,24 ml**. **Esse valor de média amostral é suficientemente maior que 500 ml para nos fazer rejeitar a hipótese de que a média do processo é de 500 ml ao nível de significância de 5%?**"
      ]
    },
    {
      "cell_type": "markdown",
      "metadata": {
        "id": "-J15nugOpsjq"
      },
      "source": [
        "---"
      ]
    },
    {
      "cell_type": "markdown",
      "metadata": {
        "id": "076qvKgapsjr"
      },
      "source": [
        "O **teste bicaudal** é muito utilizado em **testes de qualidade**, como o apresentado em nosso problema acima. Outro exemplo é a avaliação de peças que devem ter um encaixe perfeito (porcas e parafusos, chaves e fechaduras)."
      ]
    },
    {
      "cell_type": "markdown",
      "metadata": {
        "id": "MyGUYz88psjr"
      },
      "source": [
        "![Teste Bicaudal](https://caelum-online-public.s3.amazonaws.com/1229-estatistica-parte3/01/img005.png)"
      ]
    },
    {
      "cell_type": "markdown",
      "metadata": {
        "id": "EOiKt64mpsjs"
      },
      "source": [
        "---"
      ]
    },
    {
      "cell_type": "markdown",
      "metadata": {
        "id": "011wNGXtpsjs"
      },
      "source": [
        "### Dados do problema"
      ]
    },
    {
      "cell_type": "code",
      "metadata": {
        "id": "lHLlGH7upsjt"
      },
      "source": [
        "amostra = [509, 505, 495, 510, 496, 509, 497, 502, 503, 505,\n",
        "           501, 505, 510, 505, 504, 497, 506, 506, 508, 505,\n",
        "           497, 504, 500, 498, 506, 496, 508, 497, 503, 501,\n",
        "           503, 506, 499, 498, 509, 507, 503, 499, 509, 495,\n",
        "           502, 505, 504, 509, 508, 501, 505, 497, 508, 507]"
      ],
      "execution_count": 11,
      "outputs": []
    },
    {
      "cell_type": "code",
      "metadata": {
        "colab": {
          "base_uri": "https://localhost:8080/",
          "height": 195
        },
        "id": "AJNH5RQtpsju",
        "scrolled": false,
        "outputId": "3f4d7637-6072-4592-8e1a-51c3931ed96f"
      },
      "source": [
        "amostra = pd.DataFrame(amostra, columns=['Amostra'])\n",
        "amostra.head()"
      ],
      "execution_count": 12,
      "outputs": [
        {
          "output_type": "execute_result",
          "data": {
            "text/html": [
              "<div>\n",
              "<style scoped>\n",
              "    .dataframe tbody tr th:only-of-type {\n",
              "        vertical-align: middle;\n",
              "    }\n",
              "\n",
              "    .dataframe tbody tr th {\n",
              "        vertical-align: top;\n",
              "    }\n",
              "\n",
              "    .dataframe thead th {\n",
              "        text-align: right;\n",
              "    }\n",
              "</style>\n",
              "<table border=\"1\" class=\"dataframe\">\n",
              "  <thead>\n",
              "    <tr style=\"text-align: right;\">\n",
              "      <th></th>\n",
              "      <th>Amostra</th>\n",
              "    </tr>\n",
              "  </thead>\n",
              "  <tbody>\n",
              "    <tr>\n",
              "      <th>0</th>\n",
              "      <td>509</td>\n",
              "    </tr>\n",
              "    <tr>\n",
              "      <th>1</th>\n",
              "      <td>505</td>\n",
              "    </tr>\n",
              "    <tr>\n",
              "      <th>2</th>\n",
              "      <td>495</td>\n",
              "    </tr>\n",
              "    <tr>\n",
              "      <th>3</th>\n",
              "      <td>510</td>\n",
              "    </tr>\n",
              "    <tr>\n",
              "      <th>4</th>\n",
              "      <td>496</td>\n",
              "    </tr>\n",
              "  </tbody>\n",
              "</table>\n",
              "</div>"
            ],
            "text/plain": [
              "   Amostra\n",
              "0      509\n",
              "1      505\n",
              "2      495\n",
              "3      510\n",
              "4      496"
            ]
          },
          "metadata": {
            "tags": []
          },
          "execution_count": 12
        }
      ]
    },
    {
      "cell_type": "code",
      "metadata": {
        "colab": {
          "base_uri": "https://localhost:8080/"
        },
        "id": "tnjD0A_ppsjw",
        "outputId": "2087013c-4ee0-4693-bd87-63b463e954ca"
      },
      "source": [
        "media_amostra = amostra.mean()[0]\n",
        "media_amostra "
      ],
      "execution_count": 13,
      "outputs": [
        {
          "output_type": "execute_result",
          "data": {
            "text/plain": [
              "503.24"
            ]
          },
          "metadata": {
            "tags": []
          },
          "execution_count": 13
        }
      ]
    },
    {
      "cell_type": "code",
      "metadata": {
        "colab": {
          "base_uri": "https://localhost:8080/"
        },
        "id": "JXz2IFCUpsjy",
        "outputId": "130558bd-e0e6-41a1-d3ff-e262db9423a0"
      },
      "source": [
        "desvio_padrao_amostra = amostra.std()[0]\n",
        "desvio_padrao_amostra"
      ],
      "execution_count": 14,
      "outputs": [
        {
          "output_type": "execute_result",
          "data": {
            "text/plain": [
              "4.483803050527347"
            ]
          },
          "metadata": {
            "tags": []
          },
          "execution_count": 14
        }
      ]
    },
    {
      "cell_type": "code",
      "metadata": {
        "id": "PE99TXSfpsj0"
      },
      "source": [
        "media = 500\n",
        "significancia= 0.05\n",
        "confianca = 1 - significancia\n",
        "n = 50"
      ],
      "execution_count": 15,
      "outputs": []
    },
    {
      "cell_type": "markdown",
      "metadata": {
        "id": "nqmFpl7wpsj2"
      },
      "source": [
        "### **Passo 1** - formulação das hipóteses $H_0$ e $H_1$\n",
        "\n",
        "#### <font color='red'>Lembre-se, a hipótese nula sempre contém a alegação de igualdade</font>"
      ]
    },
    {
      "cell_type": "markdown",
      "metadata": {
        "id": "QVcqkHZhpsj3"
      },
      "source": [
        "### $H_0: \\mu = 500$\n",
        "\n",
        "### $H_1: \\mu \\neq 500$"
      ]
    },
    {
      "cell_type": "markdown",
      "metadata": {
        "id": "MShPuVL6psj3"
      },
      "source": [
        "---"
      ]
    },
    {
      "cell_type": "markdown",
      "metadata": {
        "id": "_rAz73fzpsj4"
      },
      "source": [
        "### **Passo 2** - escolha da distribuição amostral adequada\n",
        "<img src='https://caelum-online-public.s3.amazonaws.com/1229-estatistica-parte3/01/img003.png' width=70%>"
      ]
    },
    {
      "cell_type": "markdown",
      "metadata": {
        "id": "XC1JOtU9psj4"
      },
      "source": [
        "### O tamanho da amostra é maior que 30?\n",
        "#### Resp.: Sim\n",
        "\n",
        "### O desvio padrão populacional é conhecido?\n",
        "#### Resp.: Não"
      ]
    },
    {
      "cell_type": "markdown",
      "metadata": {
        "id": "Uq-Zq_Sxpsj5"
      },
      "source": [
        "---"
      ]
    },
    {
      "cell_type": "markdown",
      "metadata": {
        "id": "V3OT4caspsj5"
      },
      "source": [
        "### **Passo 3** - fixação da significância do teste ($\\alpha$)"
      ]
    },
    {
      "cell_type": "markdown",
      "metadata": {
        "id": "wI1Nhj_vpsj6"
      },
      "source": [
        "https://docs.scipy.org/doc/scipy/reference/generated/scipy.stats.norm.html"
      ]
    },
    {
      "cell_type": "code",
      "metadata": {
        "id": "nUd-6AzZpsj6"
      },
      "source": [
        "from scipy.stats import norm"
      ],
      "execution_count": 16,
      "outputs": []
    },
    {
      "cell_type": "code",
      "metadata": {
        "id": "2JyYCHeQpsj8",
        "colab": {
          "base_uri": "https://localhost:8080/"
        },
        "outputId": "d993ab2a-2e65-4542-9321-06e541aecd30"
      },
      "source": [
        "probabilidade = (0.5 + (confianca/2))\n",
        "probabilidade"
      ],
      "execution_count": 17,
      "outputs": [
        {
          "output_type": "execute_result",
          "data": {
            "text/plain": [
              "0.975"
            ]
          },
          "metadata": {
            "tags": []
          },
          "execution_count": 17
        }
      ]
    },
    {
      "cell_type": "markdown",
      "metadata": {
        "id": "Fu4Wbd-ipsj-"
      },
      "source": [
        "### Obtendo $z_{\\alpha/2}$"
      ]
    },
    {
      "cell_type": "code",
      "metadata": {
        "id": "imc3GyDLpsj_",
        "colab": {
          "base_uri": "https://localhost:8080/"
        },
        "outputId": "0642062f-1e0a-4452-a7cb-ad3e65d4090c"
      },
      "source": [
        "z_alpha_2 = norm.ppf(probabilidade)\n",
        "z_alpha_2"
      ],
      "execution_count": 18,
      "outputs": [
        {
          "output_type": "execute_result",
          "data": {
            "text/plain": [
              "1.959963984540054"
            ]
          },
          "metadata": {
            "tags": []
          },
          "execution_count": 18
        }
      ]
    },
    {
      "cell_type": "markdown",
      "metadata": {
        "id": "d98Z21yOpskB"
      },
      "source": [
        "![Região de Aceitação](https://caelum-online-public.s3.amazonaws.com/1229-estatistica-parte3/01/img006.png)"
      ]
    },
    {
      "cell_type": "markdown",
      "metadata": {
        "id": "eyfX7pYMpskC"
      },
      "source": [
        "---"
      ]
    },
    {
      "cell_type": "markdown",
      "metadata": {
        "id": "aaLCZs0ApskC"
      },
      "source": [
        "### **Passo 4** - cálculo da estatística-teste e verificação desse valor com as áreas de aceitação e rejeição do teste\n",
        "\n",
        "# $$z = \\frac{\\bar{x} - \\mu_0}{\\frac{s}{\\sqrt{n}}}$$"
      ]
    },
    {
      "cell_type": "code",
      "metadata": {
        "id": "a6zMj0YzpskC",
        "colab": {
          "base_uri": "https://localhost:8080/"
        },
        "outputId": "b0d98397-6b4f-452c-941e-3828eee7973b"
      },
      "source": [
        "z = (media_amostra - media) / (desvio_padrao_amostra/np.sqrt(n))\n",
        "z"
      ],
      "execution_count": 19,
      "outputs": [
        {
          "output_type": "execute_result",
          "data": {
            "text/plain": [
              "5.109559775991877"
            ]
          },
          "metadata": {
            "tags": []
          },
          "execution_count": 19
        }
      ]
    },
    {
      "cell_type": "markdown",
      "metadata": {
        "id": "UMHqgrlupskE"
      },
      "source": [
        "![Estatística-Teste](https://caelum-online-public.s3.amazonaws.com/1229-estatistica-parte3/01/img007.png)"
      ]
    },
    {
      "cell_type": "markdown",
      "metadata": {
        "id": "tFfJX8G9pskF"
      },
      "source": [
        "---"
      ]
    },
    {
      "cell_type": "markdown",
      "metadata": {
        "id": "aqTnTTePpskF"
      },
      "source": [
        "### **Passo 5** - Aceitação ou rejeição da hipótese nula"
      ]
    },
    {
      "cell_type": "markdown",
      "metadata": {
        "id": "pD1cc4DHpskG"
      },
      "source": [
        "<img src='https://caelum-online-public.s3.amazonaws.com/1229-estatistica-parte3/01/img013.png' width=90%>"
      ]
    },
    {
      "cell_type": "markdown",
      "metadata": {
        "id": "qbnH6V15pskG"
      },
      "source": [
        "### <font color='red'>Critério do valor crítico</font>\n",
        "\n",
        "> ### Teste Bicaudal\n",
        "> ### Rejeitar $H_0$ se $z \\leq -z_{\\alpha / 2}$ ou se $z \\geq z_{\\alpha / 2}$"
      ]
    },
    {
      "cell_type": "code",
      "metadata": {
        "id": "-MkJyqSupskG",
        "colab": {
          "base_uri": "https://localhost:8080/"
        },
        "outputId": "c605bf6e-c136-4391-a866-e981fe28a29e"
      },
      "source": [
        "z <= -z_alpha_2"
      ],
      "execution_count": 20,
      "outputs": [
        {
          "output_type": "execute_result",
          "data": {
            "text/plain": [
              "False"
            ]
          },
          "metadata": {
            "tags": []
          },
          "execution_count": 20
        }
      ]
    },
    {
      "cell_type": "code",
      "metadata": {
        "id": "FVTIIXA3pskI",
        "colab": {
          "base_uri": "https://localhost:8080/"
        },
        "outputId": "45a1c850-57e5-4075-a5f8-69b33bfe862b"
      },
      "source": [
        "z >= z_alpha_2"
      ],
      "execution_count": 21,
      "outputs": [
        {
          "output_type": "execute_result",
          "data": {
            "text/plain": [
              "True"
            ]
          },
          "metadata": {
            "tags": []
          },
          "execution_count": 21
        }
      ]
    },
    {
      "cell_type": "markdown",
      "metadata": {
        "id": "YX-xSnZFpskM"
      },
      "source": [
        "### <font color='green'>Conclusão: Como a média amostral $\\bar{x}$ é significativamente maior que 500 ml, rejeitamos $H_0$. Neste caso, devem ser tomadas providências para ajustar o maquinário que preenche as embalagens.</font>"
      ]
    },
    {
      "cell_type": "markdown",
      "metadata": {
        "id": "Aqv_KZoYpskN"
      },
      "source": [
        "### <font color='red'>Critério do $p-valor$</font>\n",
        "\n",
        "> ### Teste Bicaudal\n",
        "> ### Rejeitar $H_0$ se o valor $p\\leq\\alpha$"
      ]
    },
    {
      "cell_type": "code",
      "metadata": {
        "id": "ucIaKkuopskN",
        "colab": {
          "base_uri": "https://localhost:8080/"
        },
        "outputId": "9035cbc8-bf9d-4f20-b3e0-dc9e86c7b617"
      },
      "source": [
        "p_valor = 2 * (1 - norm.cdf(z))\n",
        "p_valor"
      ],
      "execution_count": 22,
      "outputs": [
        {
          "output_type": "execute_result",
          "data": {
            "text/plain": [
              "3.2291031715203644e-07"
            ]
          },
          "metadata": {
            "tags": []
          },
          "execution_count": 22
        }
      ]
    },
    {
      "cell_type": "code",
      "metadata": {
        "id": "wGgZS83apskO",
        "colab": {
          "base_uri": "https://localhost:8080/"
        },
        "outputId": "5c6b7969-3528-4ca8-9ec5-cda1cf92d10b"
      },
      "source": [
        "p_valor = 2 * (norm.sf(z))\n",
        "p_valor"
      ],
      "execution_count": 23,
      "outputs": [
        {
          "output_type": "execute_result",
          "data": {
            "text/plain": [
              "3.229103172445718e-07"
            ]
          },
          "metadata": {
            "tags": []
          },
          "execution_count": 23
        }
      ]
    },
    {
      "cell_type": "code",
      "metadata": {
        "id": "vUHgYIHqpskR",
        "scrolled": true,
        "colab": {
          "base_uri": "https://localhost:8080/"
        },
        "outputId": "d8cccb38-c74c-4c27-d1cc-cdc5feb42768"
      },
      "source": [
        "p_valor <= significancia"
      ],
      "execution_count": 24,
      "outputs": [
        {
          "output_type": "execute_result",
          "data": {
            "text/plain": [
              "True"
            ]
          },
          "metadata": {
            "tags": []
          },
          "execution_count": 24
        }
      ]
    },
    {
      "cell_type": "markdown",
      "metadata": {
        "id": "YRw1O5X8pskT"
      },
      "source": [
        "https://www.statsmodels.org/stable/generated/statsmodels.stats.weightstats.ztest.html"
      ]
    },
    {
      "cell_type": "code",
      "metadata": {
        "id": "rg3hUlqfpskU",
        "colab": {
          "base_uri": "https://localhost:8080/"
        },
        "outputId": "8612bad9-3ee0-40ca-fbb1-588b2c424fbd"
      },
      "source": [
        "from statsmodels.stats.weightstats import ztest"
      ],
      "execution_count": 25,
      "outputs": [
        {
          "output_type": "stream",
          "text": [
            "/usr/local/lib/python3.6/dist-packages/statsmodels/tools/_testing.py:19: FutureWarning: pandas.util.testing is deprecated. Use the functions in the public API at pandas.testing instead.\n",
            "  import pandas.util.testing as tm\n"
          ],
          "name": "stderr"
        }
      ]
    },
    {
      "cell_type": "code",
      "metadata": {
        "id": "0pC3HAjzpskV",
        "colab": {
          "base_uri": "https://localhost:8080/"
        },
        "outputId": "8e25d3c2-0393-480e-9aa0-84deaaddfb4a"
      },
      "source": [
        "z_teste, p_valor = ztest(x1=amostra, value=media)\n",
        "(z_teste, p_valor)"
      ],
      "execution_count": 26,
      "outputs": [
        {
          "output_type": "execute_result",
          "data": {
            "text/plain": [
              "(array([5.10955978]), array([3.22910317e-07]))"
            ]
          },
          "metadata": {
            "tags": []
          },
          "execution_count": 26
        }
      ]
    },
    {
      "cell_type": "markdown",
      "metadata": {
        "id": "X5MVCXS6pskX"
      },
      "source": [
        "https://www.statsmodels.org/dev/generated/statsmodels.stats.weightstats.DescrStatsW.html"
      ]
    },
    {
      "cell_type": "code",
      "metadata": {
        "id": "ke2O2P00pskX"
      },
      "source": [
        "from statsmodels.stats.weightstats import DescrStatsW"
      ],
      "execution_count": 27,
      "outputs": []
    },
    {
      "cell_type": "code",
      "metadata": {
        "id": "Dz_iOYR4pskZ"
      },
      "source": [
        "test = DescrStatsW(amostra)"
      ],
      "execution_count": 28,
      "outputs": []
    },
    {
      "cell_type": "code",
      "metadata": {
        "id": "LJBxBo5dpskb",
        "colab": {
          "base_uri": "https://localhost:8080/"
        },
        "outputId": "736e5d0f-37b3-4ae0-8283-6139d80bf70f"
      },
      "source": [
        "test.ztest_mean(value=media)"
      ],
      "execution_count": 29,
      "outputs": [
        {
          "output_type": "execute_result",
          "data": {
            "text/plain": [
              "(array([5.10955978]), array([3.22910317e-07]))"
            ]
          },
          "metadata": {
            "tags": []
          },
          "execution_count": 29
        }
      ]
    },
    {
      "cell_type": "markdown",
      "metadata": {
        "id": "YQQdl-Nepskv"
      },
      "source": [
        "---"
      ]
    },
    {
      "cell_type": "markdown",
      "metadata": {
        "id": "U8OWXeVtpskv"
      },
      "source": [
        "## <font color=green>3.2 Teste Unicaudal</font>\n",
        "***"
      ]
    },
    {
      "cell_type": "markdown",
      "metadata": {
        "id": "CPHPL4nWpskw"
      },
      "source": [
        "## <font color='red'>Problema</font>"
      ]
    },
    {
      "cell_type": "markdown",
      "metadata": {
        "id": "vDyxOXLvpskw"
      },
      "source": [
        "Um famoso fabricante de refrigerantes alega que uma lata de 350 ml de seu principal produto contém, **no máximo**, **37 gramas de açúcar**. Esta alegação nos leva a entender que a quantidade média de açúcar em uma lata de refrigerante deve ser **igual ou menor que 37 g**.\n",
        "\n",
        "Um consumidor desconfiado e com conhecimentos em inferência estatística resolve testar a alegação do fabricante e seleciona, aleatóriamente, em um conjunto de estabelecimentos distintos, **uma amostra de 25 latas** do refrigerante em questão. Utilizando o equipamento correto o consumidor obteve as quantidades de açúcar em todas as 25 latas de sua amostra. \n",
        "\n",
        "**Assumindo que essa população se distribua aproximadamente como uma normal e considerando um nível de significância de 5%, é possível aceitar como válida a alegação do fabricante?**"
      ]
    },
    {
      "cell_type": "markdown",
      "metadata": {
        "id": "5P5nWN0epsky"
      },
      "source": [
        "### Construindo tabela $t$ de Student\n",
        "https://docs.scipy.org/doc/scipy/reference/generated/scipy.stats.t.html"
      ]
    },
    {
      "cell_type": "code",
      "metadata": {
        "id": "lKuhGKPEpsky",
        "scrolled": false
      },
      "source": [
        "from scipy.stats import t"
      ],
      "execution_count": 30,
      "outputs": []
    },
    {
      "cell_type": "code",
      "metadata": {
        "colab": {
          "base_uri": "https://localhost:8080/",
          "height": 965
        },
        "id": "N7EFwyZ7hBm-",
        "outputId": "0b7792b0-8270-4fad-9d16-9065137c66f4"
      },
      "source": [
        "import pandas as pd\n",
        "from scipy.stats import t as t_student\n",
        "\n",
        "tabela_t_student = pd.DataFrame(\n",
        "    [], \n",
        "    index=[i for i in range(1, 31)],\n",
        "    columns = [i / 100 for i in range(10, 0, -1)]\n",
        ")\n",
        "\n",
        "for index in tabela_t_student.index:\n",
        "    for column in tabela_t_student.columns:\n",
        "        tabela_t_student.loc[index, column] = t_student.ppf(1 - float(column) / 2, index)\n",
        "\n",
        "index=[('Graus de Liberdade (n - 1)', i) for i in range(1, 31)]\n",
        "tabela_t_student.index = pd.MultiIndex.from_tuples(index)\n",
        "\n",
        "columns = [(\"{0:0.3f}\".format(i / 100), \"{0:0.3f}\".format((i / 100) / 2)) for i in range(10, 0, -1)]\n",
        "tabela_t_student.columns = pd.MultiIndex.from_tuples(columns)\n",
        "\n",
        "tabela_t_student.rename_axis(['Bicaudal', 'Unicaudal'], axis=1, inplace = True)\n",
        "\n",
        "tabela_t_student"
      ],
      "execution_count": 31,
      "outputs": [
        {
          "output_type": "execute_result",
          "data": {
            "text/html": [
              "<div>\n",
              "<style scoped>\n",
              "    .dataframe tbody tr th:only-of-type {\n",
              "        vertical-align: middle;\n",
              "    }\n",
              "\n",
              "    .dataframe tbody tr th {\n",
              "        vertical-align: top;\n",
              "    }\n",
              "\n",
              "    .dataframe thead tr th {\n",
              "        text-align: left;\n",
              "    }\n",
              "</style>\n",
              "<table border=\"1\" class=\"dataframe\">\n",
              "  <thead>\n",
              "    <tr>\n",
              "      <th></th>\n",
              "      <th>Bicaudal</th>\n",
              "      <th>0.100</th>\n",
              "      <th>0.090</th>\n",
              "      <th>0.080</th>\n",
              "      <th>0.070</th>\n",
              "      <th>0.060</th>\n",
              "      <th>0.050</th>\n",
              "      <th>0.040</th>\n",
              "      <th>0.030</th>\n",
              "      <th>0.020</th>\n",
              "      <th>0.010</th>\n",
              "    </tr>\n",
              "    <tr>\n",
              "      <th></th>\n",
              "      <th>Unicaudal</th>\n",
              "      <th>0.050</th>\n",
              "      <th>0.045</th>\n",
              "      <th>0.040</th>\n",
              "      <th>0.035</th>\n",
              "      <th>0.030</th>\n",
              "      <th>0.025</th>\n",
              "      <th>0.020</th>\n",
              "      <th>0.015</th>\n",
              "      <th>0.010</th>\n",
              "      <th>0.005</th>\n",
              "    </tr>\n",
              "  </thead>\n",
              "  <tbody>\n",
              "    <tr>\n",
              "      <th rowspan=\"30\" valign=\"top\">Graus de Liberdade (n - 1)</th>\n",
              "      <th>1</th>\n",
              "      <td>6.31375</td>\n",
              "      <td>7.02637</td>\n",
              "      <td>7.91582</td>\n",
              "      <td>9.05789</td>\n",
              "      <td>10.5789</td>\n",
              "      <td>12.7062</td>\n",
              "      <td>15.8945</td>\n",
              "      <td>21.2049</td>\n",
              "      <td>31.8205</td>\n",
              "      <td>63.6567</td>\n",
              "    </tr>\n",
              "    <tr>\n",
              "      <th>2</th>\n",
              "      <td>2.91999</td>\n",
              "      <td>3.10398</td>\n",
              "      <td>3.31976</td>\n",
              "      <td>3.57825</td>\n",
              "      <td>3.89643</td>\n",
              "      <td>4.30265</td>\n",
              "      <td>4.84873</td>\n",
              "      <td>5.64278</td>\n",
              "      <td>6.96456</td>\n",
              "      <td>9.92484</td>\n",
              "    </tr>\n",
              "    <tr>\n",
              "      <th>3</th>\n",
              "      <td>2.35336</td>\n",
              "      <td>2.47081</td>\n",
              "      <td>2.60543</td>\n",
              "      <td>2.7626</td>\n",
              "      <td>2.95051</td>\n",
              "      <td>3.18245</td>\n",
              "      <td>3.48191</td>\n",
              "      <td>3.89605</td>\n",
              "      <td>4.5407</td>\n",
              "      <td>5.84091</td>\n",
              "    </tr>\n",
              "    <tr>\n",
              "      <th>4</th>\n",
              "      <td>2.13185</td>\n",
              "      <td>2.2261</td>\n",
              "      <td>2.33287</td>\n",
              "      <td>2.45589</td>\n",
              "      <td>2.60076</td>\n",
              "      <td>2.77645</td>\n",
              "      <td>2.99853</td>\n",
              "      <td>3.29763</td>\n",
              "      <td>3.74695</td>\n",
              "      <td>4.60409</td>\n",
              "    </tr>\n",
              "    <tr>\n",
              "      <th>5</th>\n",
              "      <td>2.01505</td>\n",
              "      <td>2.09784</td>\n",
              "      <td>2.19096</td>\n",
              "      <td>2.29739</td>\n",
              "      <td>2.42158</td>\n",
              "      <td>2.57058</td>\n",
              "      <td>2.75651</td>\n",
              "      <td>3.00287</td>\n",
              "      <td>3.36493</td>\n",
              "      <td>4.03214</td>\n",
              "    </tr>\n",
              "    <tr>\n",
              "      <th>6</th>\n",
              "      <td>1.94318</td>\n",
              "      <td>2.0192</td>\n",
              "      <td>2.10431</td>\n",
              "      <td>2.20106</td>\n",
              "      <td>2.31326</td>\n",
              "      <td>2.44691</td>\n",
              "      <td>2.61224</td>\n",
              "      <td>2.82893</td>\n",
              "      <td>3.14267</td>\n",
              "      <td>3.70743</td>\n",
              "    </tr>\n",
              "    <tr>\n",
              "      <th>7</th>\n",
              "      <td>1.89458</td>\n",
              "      <td>1.96615</td>\n",
              "      <td>2.04601</td>\n",
              "      <td>2.13645</td>\n",
              "      <td>2.24088</td>\n",
              "      <td>2.36462</td>\n",
              "      <td>2.51675</td>\n",
              "      <td>2.71457</td>\n",
              "      <td>2.99795</td>\n",
              "      <td>3.49948</td>\n",
              "    </tr>\n",
              "    <tr>\n",
              "      <th>8</th>\n",
              "      <td>1.85955</td>\n",
              "      <td>1.92799</td>\n",
              "      <td>2.00415</td>\n",
              "      <td>2.09017</td>\n",
              "      <td>2.18915</td>\n",
              "      <td>2.306</td>\n",
              "      <td>2.44898</td>\n",
              "      <td>2.63381</td>\n",
              "      <td>2.89646</td>\n",
              "      <td>3.35539</td>\n",
              "    </tr>\n",
              "    <tr>\n",
              "      <th>9</th>\n",
              "      <td>1.83311</td>\n",
              "      <td>1.89922</td>\n",
              "      <td>1.97265</td>\n",
              "      <td>2.05539</td>\n",
              "      <td>2.15038</td>\n",
              "      <td>2.26216</td>\n",
              "      <td>2.39844</td>\n",
              "      <td>2.5738</td>\n",
              "      <td>2.82144</td>\n",
              "      <td>3.24984</td>\n",
              "    </tr>\n",
              "    <tr>\n",
              "      <th>10</th>\n",
              "      <td>1.81246</td>\n",
              "      <td>1.87677</td>\n",
              "      <td>1.9481</td>\n",
              "      <td>2.02833</td>\n",
              "      <td>2.12023</td>\n",
              "      <td>2.22814</td>\n",
              "      <td>2.35931</td>\n",
              "      <td>2.52748</td>\n",
              "      <td>2.76377</td>\n",
              "      <td>3.16927</td>\n",
              "    </tr>\n",
              "    <tr>\n",
              "      <th>11</th>\n",
              "      <td>1.79588</td>\n",
              "      <td>1.85877</td>\n",
              "      <td>1.92843</td>\n",
              "      <td>2.00666</td>\n",
              "      <td>2.09614</td>\n",
              "      <td>2.20099</td>\n",
              "      <td>2.32814</td>\n",
              "      <td>2.49066</td>\n",
              "      <td>2.71808</td>\n",
              "      <td>3.10581</td>\n",
              "    </tr>\n",
              "    <tr>\n",
              "      <th>12</th>\n",
              "      <td>1.78229</td>\n",
              "      <td>1.84402</td>\n",
              "      <td>1.91231</td>\n",
              "      <td>1.98893</td>\n",
              "      <td>2.07644</td>\n",
              "      <td>2.17881</td>\n",
              "      <td>2.30272</td>\n",
              "      <td>2.4607</td>\n",
              "      <td>2.681</td>\n",
              "      <td>3.05454</td>\n",
              "    </tr>\n",
              "    <tr>\n",
              "      <th>13</th>\n",
              "      <td>1.77093</td>\n",
              "      <td>1.8317</td>\n",
              "      <td>1.89887</td>\n",
              "      <td>1.97416</td>\n",
              "      <td>2.06004</td>\n",
              "      <td>2.16037</td>\n",
              "      <td>2.2816</td>\n",
              "      <td>2.43585</td>\n",
              "      <td>2.65031</td>\n",
              "      <td>3.01228</td>\n",
              "    </tr>\n",
              "    <tr>\n",
              "      <th>14</th>\n",
              "      <td>1.76131</td>\n",
              "      <td>1.82127</td>\n",
              "      <td>1.8875</td>\n",
              "      <td>1.96166</td>\n",
              "      <td>2.04617</td>\n",
              "      <td>2.14479</td>\n",
              "      <td>2.26378</td>\n",
              "      <td>2.4149</td>\n",
              "      <td>2.62449</td>\n",
              "      <td>2.97684</td>\n",
              "    </tr>\n",
              "    <tr>\n",
              "      <th>15</th>\n",
              "      <td>1.75305</td>\n",
              "      <td>1.81232</td>\n",
              "      <td>1.87774</td>\n",
              "      <td>1.95094</td>\n",
              "      <td>2.03429</td>\n",
              "      <td>2.13145</td>\n",
              "      <td>2.24854</td>\n",
              "      <td>2.39701</td>\n",
              "      <td>2.60248</td>\n",
              "      <td>2.94671</td>\n",
              "    </tr>\n",
              "    <tr>\n",
              "      <th>16</th>\n",
              "      <td>1.74588</td>\n",
              "      <td>1.80455</td>\n",
              "      <td>1.86928</td>\n",
              "      <td>1.94165</td>\n",
              "      <td>2.024</td>\n",
              "      <td>2.11991</td>\n",
              "      <td>2.23536</td>\n",
              "      <td>2.38155</td>\n",
              "      <td>2.58349</td>\n",
              "      <td>2.92078</td>\n",
              "    </tr>\n",
              "    <tr>\n",
              "      <th>17</th>\n",
              "      <td>1.73961</td>\n",
              "      <td>1.79776</td>\n",
              "      <td>1.86187</td>\n",
              "      <td>1.93353</td>\n",
              "      <td>2.015</td>\n",
              "      <td>2.10982</td>\n",
              "      <td>2.22385</td>\n",
              "      <td>2.36805</td>\n",
              "      <td>2.56693</td>\n",
              "      <td>2.89823</td>\n",
              "    </tr>\n",
              "    <tr>\n",
              "      <th>18</th>\n",
              "      <td>1.73406</td>\n",
              "      <td>1.79175</td>\n",
              "      <td>1.85534</td>\n",
              "      <td>1.92636</td>\n",
              "      <td>2.00707</td>\n",
              "      <td>2.10092</td>\n",
              "      <td>2.2137</td>\n",
              "      <td>2.35618</td>\n",
              "      <td>2.55238</td>\n",
              "      <td>2.87844</td>\n",
              "    </tr>\n",
              "    <tr>\n",
              "      <th>19</th>\n",
              "      <td>1.72913</td>\n",
              "      <td>1.78642</td>\n",
              "      <td>1.84953</td>\n",
              "      <td>1.91999</td>\n",
              "      <td>2.00002</td>\n",
              "      <td>2.09302</td>\n",
              "      <td>2.2047</td>\n",
              "      <td>2.34565</td>\n",
              "      <td>2.53948</td>\n",
              "      <td>2.86093</td>\n",
              "    </tr>\n",
              "    <tr>\n",
              "      <th>20</th>\n",
              "      <td>1.72472</td>\n",
              "      <td>1.78164</td>\n",
              "      <td>1.84433</td>\n",
              "      <td>1.91429</td>\n",
              "      <td>1.99371</td>\n",
              "      <td>2.08596</td>\n",
              "      <td>2.19666</td>\n",
              "      <td>2.33624</td>\n",
              "      <td>2.52798</td>\n",
              "      <td>2.84534</td>\n",
              "    </tr>\n",
              "    <tr>\n",
              "      <th>21</th>\n",
              "      <td>1.72074</td>\n",
              "      <td>1.77734</td>\n",
              "      <td>1.83965</td>\n",
              "      <td>1.90916</td>\n",
              "      <td>1.98804</td>\n",
              "      <td>2.07961</td>\n",
              "      <td>2.18943</td>\n",
              "      <td>2.32779</td>\n",
              "      <td>2.51765</td>\n",
              "      <td>2.83136</td>\n",
              "    </tr>\n",
              "    <tr>\n",
              "      <th>22</th>\n",
              "      <td>1.71714</td>\n",
              "      <td>1.77345</td>\n",
              "      <td>1.83542</td>\n",
              "      <td>1.90452</td>\n",
              "      <td>1.98291</td>\n",
              "      <td>2.07387</td>\n",
              "      <td>2.18289</td>\n",
              "      <td>2.32016</td>\n",
              "      <td>2.50832</td>\n",
              "      <td>2.81876</td>\n",
              "    </tr>\n",
              "    <tr>\n",
              "      <th>23</th>\n",
              "      <td>1.71387</td>\n",
              "      <td>1.76991</td>\n",
              "      <td>1.83157</td>\n",
              "      <td>1.90031</td>\n",
              "      <td>1.97825</td>\n",
              "      <td>2.06866</td>\n",
              "      <td>2.17696</td>\n",
              "      <td>2.31323</td>\n",
              "      <td>2.49987</td>\n",
              "      <td>2.80734</td>\n",
              "    </tr>\n",
              "    <tr>\n",
              "      <th>24</th>\n",
              "      <td>1.71088</td>\n",
              "      <td>1.76667</td>\n",
              "      <td>1.82805</td>\n",
              "      <td>1.89646</td>\n",
              "      <td>1.97399</td>\n",
              "      <td>2.0639</td>\n",
              "      <td>2.17154</td>\n",
              "      <td>2.30691</td>\n",
              "      <td>2.49216</td>\n",
              "      <td>2.79694</td>\n",
              "    </tr>\n",
              "    <tr>\n",
              "      <th>25</th>\n",
              "      <td>1.70814</td>\n",
              "      <td>1.76371</td>\n",
              "      <td>1.82483</td>\n",
              "      <td>1.89293</td>\n",
              "      <td>1.9701</td>\n",
              "      <td>2.05954</td>\n",
              "      <td>2.16659</td>\n",
              "      <td>2.30113</td>\n",
              "      <td>2.48511</td>\n",
              "      <td>2.78744</td>\n",
              "    </tr>\n",
              "    <tr>\n",
              "      <th>26</th>\n",
              "      <td>1.70562</td>\n",
              "      <td>1.76098</td>\n",
              "      <td>1.82186</td>\n",
              "      <td>1.88968</td>\n",
              "      <td>1.96651</td>\n",
              "      <td>2.05553</td>\n",
              "      <td>2.16203</td>\n",
              "      <td>2.29581</td>\n",
              "      <td>2.47863</td>\n",
              "      <td>2.77871</td>\n",
              "    </tr>\n",
              "    <tr>\n",
              "      <th>27</th>\n",
              "      <td>1.70329</td>\n",
              "      <td>1.75847</td>\n",
              "      <td>1.81913</td>\n",
              "      <td>1.88669</td>\n",
              "      <td>1.9632</td>\n",
              "      <td>2.05183</td>\n",
              "      <td>2.15782</td>\n",
              "      <td>2.29091</td>\n",
              "      <td>2.47266</td>\n",
              "      <td>2.77068</td>\n",
              "    </tr>\n",
              "    <tr>\n",
              "      <th>28</th>\n",
              "      <td>1.70113</td>\n",
              "      <td>1.75613</td>\n",
              "      <td>1.81659</td>\n",
              "      <td>1.88391</td>\n",
              "      <td>1.96014</td>\n",
              "      <td>2.04841</td>\n",
              "      <td>2.15393</td>\n",
              "      <td>2.28638</td>\n",
              "      <td>2.46714</td>\n",
              "      <td>2.76326</td>\n",
              "    </tr>\n",
              "    <tr>\n",
              "      <th>29</th>\n",
              "      <td>1.69913</td>\n",
              "      <td>1.75397</td>\n",
              "      <td>1.81424</td>\n",
              "      <td>1.88134</td>\n",
              "      <td>1.95729</td>\n",
              "      <td>2.04523</td>\n",
              "      <td>2.15033</td>\n",
              "      <td>2.28217</td>\n",
              "      <td>2.46202</td>\n",
              "      <td>2.75639</td>\n",
              "    </tr>\n",
              "    <tr>\n",
              "      <th>30</th>\n",
              "      <td>1.69726</td>\n",
              "      <td>1.75195</td>\n",
              "      <td>1.81205</td>\n",
              "      <td>1.87894</td>\n",
              "      <td>1.95465</td>\n",
              "      <td>2.04227</td>\n",
              "      <td>2.14697</td>\n",
              "      <td>2.27826</td>\n",
              "      <td>2.45726</td>\n",
              "      <td>2.75</td>\n",
              "    </tr>\n",
              "  </tbody>\n",
              "</table>\n",
              "</div>"
            ],
            "text/plain": [
              "Bicaudal                         0.100    0.090  ...    0.020    0.010\n",
              "Unicaudal                        0.050    0.045  ...    0.010    0.005\n",
              "Graus de Liberdade (n - 1) 1   6.31375  7.02637  ...  31.8205  63.6567\n",
              "                           2   2.91999  3.10398  ...  6.96456  9.92484\n",
              "                           3   2.35336  2.47081  ...   4.5407  5.84091\n",
              "                           4   2.13185   2.2261  ...  3.74695  4.60409\n",
              "                           5   2.01505  2.09784  ...  3.36493  4.03214\n",
              "                           6   1.94318   2.0192  ...  3.14267  3.70743\n",
              "                           7   1.89458  1.96615  ...  2.99795  3.49948\n",
              "                           8   1.85955  1.92799  ...  2.89646  3.35539\n",
              "                           9   1.83311  1.89922  ...  2.82144  3.24984\n",
              "                           10  1.81246  1.87677  ...  2.76377  3.16927\n",
              "                           11  1.79588  1.85877  ...  2.71808  3.10581\n",
              "                           12  1.78229  1.84402  ...    2.681  3.05454\n",
              "                           13  1.77093   1.8317  ...  2.65031  3.01228\n",
              "                           14  1.76131  1.82127  ...  2.62449  2.97684\n",
              "                           15  1.75305  1.81232  ...  2.60248  2.94671\n",
              "                           16  1.74588  1.80455  ...  2.58349  2.92078\n",
              "                           17  1.73961  1.79776  ...  2.56693  2.89823\n",
              "                           18  1.73406  1.79175  ...  2.55238  2.87844\n",
              "                           19  1.72913  1.78642  ...  2.53948  2.86093\n",
              "                           20  1.72472  1.78164  ...  2.52798  2.84534\n",
              "                           21  1.72074  1.77734  ...  2.51765  2.83136\n",
              "                           22  1.71714  1.77345  ...  2.50832  2.81876\n",
              "                           23  1.71387  1.76991  ...  2.49987  2.80734\n",
              "                           24  1.71088  1.76667  ...  2.49216  2.79694\n",
              "                           25  1.70814  1.76371  ...  2.48511  2.78744\n",
              "                           26  1.70562  1.76098  ...  2.47863  2.77871\n",
              "                           27  1.70329  1.75847  ...  2.47266  2.77068\n",
              "                           28  1.70113  1.75613  ...  2.46714  2.76326\n",
              "                           29  1.69913  1.75397  ...  2.46202  2.75639\n",
              "                           30  1.69726  1.75195  ...  2.45726     2.75\n",
              "\n",
              "[30 rows x 10 columns]"
            ]
          },
          "metadata": {
            "tags": []
          },
          "execution_count": 31
        }
      ]
    },
    {
      "cell_type": "markdown",
      "metadata": {
        "id": "MbVu6FdNpsk0"
      },
      "source": [
        "<img src='https://caelum-online-public.s3.amazonaws.com/1229-estatistica-parte3/01/img004.png' width='250px'>\n",
        "\n",
        "As células da tabela acima são valores de $t$ para uma área ou probabilidade na cauda superior da distribuição $t$."
      ]
    },
    {
      "cell_type": "markdown",
      "metadata": {
        "id": "UXM3qdYUpsk0"
      },
      "source": [
        "---"
      ]
    },
    {
      "cell_type": "markdown",
      "metadata": {
        "id": "dDbUKs7-psk0"
      },
      "source": [
        "Os **testes unicaudais** verificam as variáveis em relação a um piso ou a um teto e avaliam os valores máximos ou mínimos esperados para os parâmetros em estudo e a chance de as estatísticas amostrais serem inferiores ou superiores a dado limite."
      ]
    },
    {
      "cell_type": "markdown",
      "metadata": {
        "id": "AvnFJnUrpsk1"
      },
      "source": [
        "<img src='https://caelum-online-public.s3.amazonaws.com/1229-estatistica-parte3/01/img008.png' width='700px'>"
      ]
    },
    {
      "cell_type": "markdown",
      "metadata": {
        "id": "IgDg23Xppsk1"
      },
      "source": [
        "### Dados do problema"
      ]
    },
    {
      "cell_type": "code",
      "metadata": {
        "id": "IKvYICfEpsk2"
      },
      "source": [
        "amostra = [37.27, 36.42, 34.84, 34.60, 37.49, \n",
        "           36.53, 35.49, 36.90, 34.52, 37.30, \n",
        "           34.99, 36.55, 36.29, 36.06, 37.42, \n",
        "           34.47, 36.70, 35.86, 36.80, 36.92, \n",
        "           37.04, 36.39, 37.32, 36.64, 35.45]"
      ],
      "execution_count": 32,
      "outputs": []
    },
    {
      "cell_type": "code",
      "metadata": {
        "id": "CBuciT30psk3",
        "scrolled": false,
        "colab": {
          "base_uri": "https://localhost:8080/",
          "height": 787
        },
        "outputId": "1f18f105-c0a3-44a9-d8b4-c599dbfe4540"
      },
      "source": [
        "amostra = pd.DataFrame(amostra, columns=['Amostra'])\n",
        "amostra"
      ],
      "execution_count": 33,
      "outputs": [
        {
          "output_type": "execute_result",
          "data": {
            "text/html": [
              "<div>\n",
              "<style scoped>\n",
              "    .dataframe tbody tr th:only-of-type {\n",
              "        vertical-align: middle;\n",
              "    }\n",
              "\n",
              "    .dataframe tbody tr th {\n",
              "        vertical-align: top;\n",
              "    }\n",
              "\n",
              "    .dataframe thead th {\n",
              "        text-align: right;\n",
              "    }\n",
              "</style>\n",
              "<table border=\"1\" class=\"dataframe\">\n",
              "  <thead>\n",
              "    <tr style=\"text-align: right;\">\n",
              "      <th></th>\n",
              "      <th>Amostra</th>\n",
              "    </tr>\n",
              "  </thead>\n",
              "  <tbody>\n",
              "    <tr>\n",
              "      <th>0</th>\n",
              "      <td>37.27</td>\n",
              "    </tr>\n",
              "    <tr>\n",
              "      <th>1</th>\n",
              "      <td>36.42</td>\n",
              "    </tr>\n",
              "    <tr>\n",
              "      <th>2</th>\n",
              "      <td>34.84</td>\n",
              "    </tr>\n",
              "    <tr>\n",
              "      <th>3</th>\n",
              "      <td>34.60</td>\n",
              "    </tr>\n",
              "    <tr>\n",
              "      <th>4</th>\n",
              "      <td>37.49</td>\n",
              "    </tr>\n",
              "    <tr>\n",
              "      <th>5</th>\n",
              "      <td>36.53</td>\n",
              "    </tr>\n",
              "    <tr>\n",
              "      <th>6</th>\n",
              "      <td>35.49</td>\n",
              "    </tr>\n",
              "    <tr>\n",
              "      <th>7</th>\n",
              "      <td>36.90</td>\n",
              "    </tr>\n",
              "    <tr>\n",
              "      <th>8</th>\n",
              "      <td>34.52</td>\n",
              "    </tr>\n",
              "    <tr>\n",
              "      <th>9</th>\n",
              "      <td>37.30</td>\n",
              "    </tr>\n",
              "    <tr>\n",
              "      <th>10</th>\n",
              "      <td>34.99</td>\n",
              "    </tr>\n",
              "    <tr>\n",
              "      <th>11</th>\n",
              "      <td>36.55</td>\n",
              "    </tr>\n",
              "    <tr>\n",
              "      <th>12</th>\n",
              "      <td>36.29</td>\n",
              "    </tr>\n",
              "    <tr>\n",
              "      <th>13</th>\n",
              "      <td>36.06</td>\n",
              "    </tr>\n",
              "    <tr>\n",
              "      <th>14</th>\n",
              "      <td>37.42</td>\n",
              "    </tr>\n",
              "    <tr>\n",
              "      <th>15</th>\n",
              "      <td>34.47</td>\n",
              "    </tr>\n",
              "    <tr>\n",
              "      <th>16</th>\n",
              "      <td>36.70</td>\n",
              "    </tr>\n",
              "    <tr>\n",
              "      <th>17</th>\n",
              "      <td>35.86</td>\n",
              "    </tr>\n",
              "    <tr>\n",
              "      <th>18</th>\n",
              "      <td>36.80</td>\n",
              "    </tr>\n",
              "    <tr>\n",
              "      <th>19</th>\n",
              "      <td>36.92</td>\n",
              "    </tr>\n",
              "    <tr>\n",
              "      <th>20</th>\n",
              "      <td>37.04</td>\n",
              "    </tr>\n",
              "    <tr>\n",
              "      <th>21</th>\n",
              "      <td>36.39</td>\n",
              "    </tr>\n",
              "    <tr>\n",
              "      <th>22</th>\n",
              "      <td>37.32</td>\n",
              "    </tr>\n",
              "    <tr>\n",
              "      <th>23</th>\n",
              "      <td>36.64</td>\n",
              "    </tr>\n",
              "    <tr>\n",
              "      <th>24</th>\n",
              "      <td>35.45</td>\n",
              "    </tr>\n",
              "  </tbody>\n",
              "</table>\n",
              "</div>"
            ],
            "text/plain": [
              "    Amostra\n",
              "0     37.27\n",
              "1     36.42\n",
              "2     34.84\n",
              "3     34.60\n",
              "4     37.49\n",
              "5     36.53\n",
              "6     35.49\n",
              "7     36.90\n",
              "8     34.52\n",
              "9     37.30\n",
              "10    34.99\n",
              "11    36.55\n",
              "12    36.29\n",
              "13    36.06\n",
              "14    37.42\n",
              "15    34.47\n",
              "16    36.70\n",
              "17    35.86\n",
              "18    36.80\n",
              "19    36.92\n",
              "20    37.04\n",
              "21    36.39\n",
              "22    37.32\n",
              "23    36.64\n",
              "24    35.45"
            ]
          },
          "metadata": {
            "tags": []
          },
          "execution_count": 33
        }
      ]
    },
    {
      "cell_type": "code",
      "metadata": {
        "id": "79TBzFsdpsk4",
        "colab": {
          "base_uri": "https://localhost:8080/"
        },
        "outputId": "b315e367-7f96-45cb-fe97-6410839eddb6"
      },
      "source": [
        "media_amostra = amostra.mean()[0]\n",
        "media_amostra"
      ],
      "execution_count": 34,
      "outputs": [
        {
          "output_type": "execute_result",
          "data": {
            "text/plain": [
              "36.250400000000006"
            ]
          },
          "metadata": {
            "tags": []
          },
          "execution_count": 34
        }
      ]
    },
    {
      "cell_type": "code",
      "metadata": {
        "id": "S82xbyghpsk6",
        "scrolled": true,
        "colab": {
          "base_uri": "https://localhost:8080/"
        },
        "outputId": "0d6a3289-7cb1-408c-a773-941340ef67ad"
      },
      "source": [
        "desvio_padrao_amostra = amostra.std()[0]\n",
        "desvio_padrao_amostra"
      ],
      "execution_count": 35,
      "outputs": [
        {
          "output_type": "execute_result",
          "data": {
            "text/plain": [
              "0.9667535018469453"
            ]
          },
          "metadata": {
            "tags": []
          },
          "execution_count": 35
        }
      ]
    },
    {
      "cell_type": "code",
      "metadata": {
        "id": "mvtiwLUWpsk8"
      },
      "source": [
        "media = 37\n",
        "significancia = 0.05\n",
        "confianca = 1 - significancia\n",
        "n = 25\n",
        "graus_de_liberdade = n - 1"
      ],
      "execution_count": 36,
      "outputs": []
    },
    {
      "cell_type": "markdown",
      "metadata": {
        "id": "rpLOiPU2psk9"
      },
      "source": [
        "### **Passo 1** - formulação das hipóteses $H_0$ e $H_1$"
      ]
    },
    {
      "cell_type": "markdown",
      "metadata": {
        "id": "iMBi2jUfsc4s"
      },
      "source": [
        "\n",
        "#### <font color='red'>Lembre-se, a hipótese nula sempre contém a alegação de igualdade</font>"
      ]
    },
    {
      "cell_type": "markdown",
      "metadata": {
        "id": "8roeH10fpsk-"
      },
      "source": [
        "### $H_0: \\mu \\leq 37$\n",
        "\n",
        "### $H_1: \\mu > 37$"
      ]
    },
    {
      "cell_type": "markdown",
      "metadata": {
        "id": "uqE6JXGspsk-"
      },
      "source": [
        "---"
      ]
    },
    {
      "cell_type": "markdown",
      "metadata": {
        "id": "XsOkFtncpsk_"
      },
      "source": [
        "### **Passo 2** - escolha da distribuição amostral adequada\n",
        "<img src='https://caelum-online-public.s3.amazonaws.com/1229-estatistica-parte3/01/img003.png' width=70%>"
      ]
    },
    {
      "cell_type": "markdown",
      "metadata": {
        "id": "jpXjRqO2psk_"
      },
      "source": [
        "### O tamanho da amostra é maior que 30?\n",
        "#### Resp.: Não\n",
        "\n",
        "### Podemos afirmar que a população se distribui aproximadamente como uma normal?\n",
        "#### Resp.: Sim\n",
        "\n",
        "### O desvio padrão populacional é conhecido?\n",
        "#### Resp.: Não"
      ]
    },
    {
      "cell_type": "markdown",
      "metadata": {
        "id": "J14v2aXOpslA"
      },
      "source": [
        "---"
      ]
    },
    {
      "cell_type": "markdown",
      "metadata": {
        "id": "DQvwhQWnpslA"
      },
      "source": [
        "### **Passo 3** - fixação da significância do teste ($\\alpha$)"
      ]
    },
    {
      "cell_type": "markdown",
      "metadata": {
        "id": "Qaxh6lsapslB"
      },
      "source": [
        "https://docs.scipy.org/doc/scipy/reference/generated/scipy.stats.t.html"
      ]
    },
    {
      "cell_type": "code",
      "metadata": {
        "id": "-WhDZiRopslC"
      },
      "source": [
        "from scipy.stats import t as t_student"
      ],
      "execution_count": 37,
      "outputs": []
    },
    {
      "cell_type": "code",
      "metadata": {
        "id": "12t8QJMzpslD",
        "scrolled": true,
        "colab": {
          "base_uri": "https://localhost:8080/",
          "height": 166
        },
        "outputId": "69e2b52d-d1be-46c8-9037-9ffea289054a"
      },
      "source": [
        "tabela_t_student[22:25]"
      ],
      "execution_count": 38,
      "outputs": [
        {
          "output_type": "execute_result",
          "data": {
            "text/html": [
              "<div>\n",
              "<style scoped>\n",
              "    .dataframe tbody tr th:only-of-type {\n",
              "        vertical-align: middle;\n",
              "    }\n",
              "\n",
              "    .dataframe tbody tr th {\n",
              "        vertical-align: top;\n",
              "    }\n",
              "\n",
              "    .dataframe thead tr th {\n",
              "        text-align: left;\n",
              "    }\n",
              "</style>\n",
              "<table border=\"1\" class=\"dataframe\">\n",
              "  <thead>\n",
              "    <tr>\n",
              "      <th></th>\n",
              "      <th>Bicaudal</th>\n",
              "      <th>0.100</th>\n",
              "      <th>0.090</th>\n",
              "      <th>0.080</th>\n",
              "      <th>0.070</th>\n",
              "      <th>0.060</th>\n",
              "      <th>0.050</th>\n",
              "      <th>0.040</th>\n",
              "      <th>0.030</th>\n",
              "      <th>0.020</th>\n",
              "      <th>0.010</th>\n",
              "    </tr>\n",
              "    <tr>\n",
              "      <th></th>\n",
              "      <th>Unicaudal</th>\n",
              "      <th>0.050</th>\n",
              "      <th>0.045</th>\n",
              "      <th>0.040</th>\n",
              "      <th>0.035</th>\n",
              "      <th>0.030</th>\n",
              "      <th>0.025</th>\n",
              "      <th>0.020</th>\n",
              "      <th>0.015</th>\n",
              "      <th>0.010</th>\n",
              "      <th>0.005</th>\n",
              "    </tr>\n",
              "  </thead>\n",
              "  <tbody>\n",
              "    <tr>\n",
              "      <th rowspan=\"3\" valign=\"top\">Graus de Liberdade (n - 1)</th>\n",
              "      <th>23</th>\n",
              "      <td>1.71387</td>\n",
              "      <td>1.76991</td>\n",
              "      <td>1.83157</td>\n",
              "      <td>1.90031</td>\n",
              "      <td>1.97825</td>\n",
              "      <td>2.06866</td>\n",
              "      <td>2.17696</td>\n",
              "      <td>2.31323</td>\n",
              "      <td>2.49987</td>\n",
              "      <td>2.80734</td>\n",
              "    </tr>\n",
              "    <tr>\n",
              "      <th>24</th>\n",
              "      <td>1.71088</td>\n",
              "      <td>1.76667</td>\n",
              "      <td>1.82805</td>\n",
              "      <td>1.89646</td>\n",
              "      <td>1.97399</td>\n",
              "      <td>2.0639</td>\n",
              "      <td>2.17154</td>\n",
              "      <td>2.30691</td>\n",
              "      <td>2.49216</td>\n",
              "      <td>2.79694</td>\n",
              "    </tr>\n",
              "    <tr>\n",
              "      <th>25</th>\n",
              "      <td>1.70814</td>\n",
              "      <td>1.76371</td>\n",
              "      <td>1.82483</td>\n",
              "      <td>1.89293</td>\n",
              "      <td>1.9701</td>\n",
              "      <td>2.05954</td>\n",
              "      <td>2.16659</td>\n",
              "      <td>2.30113</td>\n",
              "      <td>2.48511</td>\n",
              "      <td>2.78744</td>\n",
              "    </tr>\n",
              "  </tbody>\n",
              "</table>\n",
              "</div>"
            ],
            "text/plain": [
              "Bicaudal                         0.100    0.090  ...    0.020    0.010\n",
              "Unicaudal                        0.050    0.045  ...    0.010    0.005\n",
              "Graus de Liberdade (n - 1) 23  1.71387  1.76991  ...  2.49987  2.80734\n",
              "                           24  1.71088  1.76667  ...  2.49216  2.79694\n",
              "                           25  1.70814  1.76371  ...  2.48511  2.78744\n",
              "\n",
              "[3 rows x 10 columns]"
            ]
          },
          "metadata": {
            "tags": []
          },
          "execution_count": 38
        }
      ]
    },
    {
      "cell_type": "markdown",
      "metadata": {
        "id": "Brk3cI1npslE"
      },
      "source": [
        "### Obtendo $t_{\\alpha}$"
      ]
    },
    {
      "cell_type": "code",
      "metadata": {
        "id": "xXi0eYGYpslF",
        "colab": {
          "base_uri": "https://localhost:8080/"
        },
        "outputId": "37477ccd-e916-480c-d1d4-010349cf3430"
      },
      "source": [
        "t_alpha = t_student.ppf(confianca, graus_de_liberdade)\n",
        "t_alpha"
      ],
      "execution_count": 39,
      "outputs": [
        {
          "output_type": "execute_result",
          "data": {
            "text/plain": [
              "1.7108820799094275"
            ]
          },
          "metadata": {
            "tags": []
          },
          "execution_count": 39
        }
      ]
    },
    {
      "cell_type": "markdown",
      "metadata": {
        "id": "xMnBzjxLpslH"
      },
      "source": [
        "![Região de Aceitação](https://caelum-online-public.s3.amazonaws.com/1229-estatistica-parte3/01/img009.png)"
      ]
    },
    {
      "cell_type": "markdown",
      "metadata": {
        "id": "Azy_uNSGpslI"
      },
      "source": [
        "---"
      ]
    },
    {
      "cell_type": "markdown",
      "metadata": {
        "id": "YN4weG-1pslI"
      },
      "source": [
        "### **Passo 4** - cálculo da estatística-teste e verificação desse valor com as áreas de aceitação e rejeição do teste\n",
        "\n",
        "# $$t = \\frac{\\bar{x} - \\mu_0}{\\frac{s}{\\sqrt{n}}}$$"
      ]
    },
    {
      "cell_type": "code",
      "metadata": {
        "id": "qY0DfIffpslI",
        "colab": {
          "base_uri": "https://localhost:8080/"
        },
        "outputId": "d3fa2ce6-615d-4cb3-d442-8b8ba7f8e4b1"
      },
      "source": [
        "t = (media_amostra - media) / (desvio_padrao_amostra/np.sqrt(n))\n",
        "t"
      ],
      "execution_count": 40,
      "outputs": [
        {
          "output_type": "execute_result",
          "data": {
            "text/plain": [
              "-3.876893119952045"
            ]
          },
          "metadata": {
            "tags": []
          },
          "execution_count": 40
        }
      ]
    },
    {
      "cell_type": "markdown",
      "metadata": {
        "id": "SCIchVxNpslK"
      },
      "source": [
        "![Estatística-Teste](https://caelum-online-public.s3.amazonaws.com/1229-estatistica-parte3/01/img010.png)"
      ]
    },
    {
      "cell_type": "markdown",
      "metadata": {
        "id": "NiheMfTopslK"
      },
      "source": [
        "---"
      ]
    },
    {
      "cell_type": "markdown",
      "metadata": {
        "id": "YCsJySBGpslK"
      },
      "source": [
        "### **Passo 5** - Aceitação ou rejeição da hipótese nula"
      ]
    },
    {
      "cell_type": "markdown",
      "metadata": {
        "id": "ioLyTpbWpslL"
      },
      "source": [
        "<img src='https://caelum-online-public.s3.amazonaws.com/1229-estatistica-parte3/01/img013.png' width=90%>"
      ]
    },
    {
      "cell_type": "markdown",
      "metadata": {
        "id": "TQcuPzbPpslL"
      },
      "source": [
        "### <font color='red'>Critério do valor crítico</font>\n",
        "\n",
        "> ### Teste Unicaudal Superior\n",
        "> ### Rejeitar $H_0$ se $t \\geq t_{\\alpha}$"
      ]
    },
    {
      "cell_type": "code",
      "metadata": {
        "id": "pkoDYMLIpslM",
        "colab": {
          "base_uri": "https://localhost:8080/"
        },
        "outputId": "fcf07c90-4432-4266-ea5d-698a7b9ba612"
      },
      "source": [
        "t >= t_alpha"
      ],
      "execution_count": 41,
      "outputs": [
        {
          "output_type": "execute_result",
          "data": {
            "text/plain": [
              "False"
            ]
          },
          "metadata": {
            "tags": []
          },
          "execution_count": 41
        }
      ]
    },
    {
      "cell_type": "markdown",
      "metadata": {
        "id": "F-_AVTMJpslN"
      },
      "source": [
        "### <font color='green'>Conclusão: Com um nível de confiança de 95% não podemos rejeitar $H_0$, ou seja, a alegação do fabricante é verdadeira.</font>"
      ]
    },
    {
      "cell_type": "markdown",
      "metadata": {
        "id": "7ye3tS25pslO"
      },
      "source": [
        "### <font color='red'>Critério do valor $p$</font>\n",
        "\n",
        "> ### Teste Unicaudal Superior\n",
        "> ### Rejeitar $H_0$ se o valor $p\\leq\\alpha$"
      ]
    },
    {
      "cell_type": "code",
      "metadata": {
        "id": "AtPMeAz4pslQ",
        "colab": {
          "base_uri": "https://localhost:8080/"
        },
        "outputId": "4f0919d7-eef4-429e-d018-6ff616cee362"
      },
      "source": [
        "t"
      ],
      "execution_count": 42,
      "outputs": [
        {
          "output_type": "execute_result",
          "data": {
            "text/plain": [
              "-3.876893119952045"
            ]
          },
          "metadata": {
            "tags": []
          },
          "execution_count": 42
        }
      ]
    },
    {
      "cell_type": "code",
      "metadata": {
        "id": "gevdMX3apslS",
        "colab": {
          "base_uri": "https://localhost:8080/"
        },
        "outputId": "eee64cc1-2407-4c5d-df61-6741f24a5390"
      },
      "source": [
        "p_valor = t_student.sf(t, graus_de_liberdade)\n",
        "p_valor"
      ],
      "execution_count": 43,
      "outputs": [
        {
          "output_type": "execute_result",
          "data": {
            "text/plain": [
              "0.9996406170303819"
            ]
          },
          "metadata": {
            "tags": []
          },
          "execution_count": 43
        }
      ]
    },
    {
      "cell_type": "code",
      "metadata": {
        "id": "_hfVEPQQpslU",
        "colab": {
          "base_uri": "https://localhost:8080/"
        },
        "outputId": "e99d624c-7a8a-4bdd-a869-57eed38f002c"
      },
      "source": [
        "p_valor <= significancia"
      ],
      "execution_count": 44,
      "outputs": [
        {
          "output_type": "execute_result",
          "data": {
            "text/plain": [
              "False"
            ]
          },
          "metadata": {
            "tags": []
          },
          "execution_count": 44
        }
      ]
    },
    {
      "cell_type": "markdown",
      "metadata": {
        "id": "4JxGeADypslW"
      },
      "source": [
        "https://www.statsmodels.org/dev/generated/statsmodels.stats.weightstats.DescrStatsW.html"
      ]
    },
    {
      "cell_type": "code",
      "metadata": {
        "id": "Y1gP6yjvpslW"
      },
      "source": [
        "test = DescrStatsW(amostra)"
      ],
      "execution_count": 45,
      "outputs": []
    },
    {
      "cell_type": "code",
      "metadata": {
        "id": "7V555DeTpslX",
        "colab": {
          "base_uri": "https://localhost:8080/"
        },
        "outputId": "6b4e8697-5772-470b-c005-5394fd4255ee"
      },
      "source": [
        "stat_test, p_valor, grau_liberdade = test.ttest_mean(value=media, alternative='larger')\n",
        "p_valor = p_valor[0]\n",
        "p_valor"
      ],
      "execution_count": 46,
      "outputs": [
        {
          "output_type": "execute_result",
          "data": {
            "text/plain": [
              "0.9996406170303819"
            ]
          },
          "metadata": {
            "tags": []
          },
          "execution_count": 46
        }
      ]
    },
    {
      "cell_type": "code",
      "metadata": {
        "id": "y36SnhnWpslY",
        "colab": {
          "base_uri": "https://localhost:8080/"
        },
        "outputId": "f0afa026-1584-442a-b38b-fbf4298988c6"
      },
      "source": [
        "p_valor <= significancia"
      ],
      "execution_count": 47,
      "outputs": [
        {
          "output_type": "execute_result",
          "data": {
            "text/plain": [
              "False"
            ]
          },
          "metadata": {
            "tags": []
          },
          "execution_count": 47
        }
      ]
    },
    {
      "cell_type": "markdown",
      "metadata": {
        "id": "wlUdcJnDpsla"
      },
      "source": [
        "---"
      ]
    },
    {
      "cell_type": "markdown",
      "metadata": {
        "id": "L7_ZbBBtpslb"
      },
      "source": [
        "## <font color=green>3.4 Testes para Duas Amostras</font>\n",
        "***"
      ]
    },
    {
      "cell_type": "markdown",
      "metadata": {
        "id": "lmAJLIu8pslb"
      },
      "source": [
        "## <font color='red'>Problema</font>"
      ]
    },
    {
      "cell_type": "markdown",
      "metadata": {
        "id": "0zUUY8klpslc"
      },
      "source": [
        "Em nosso dataset temos os rendimento dos chefes de domicílio obtidos da Pesquisa Nacional por Amostra de Domicílios - PNAD no ano de 2015. Um problema bastante conhecido em nosso país diz respeito a desigualdade de renda, principalmente entre homens e mulheres.\n",
        "\n",
        "Duas amostras aleatórias, uma de **500 homens** e outra com **500 mulheres**, foram selecionadas em nosso dataset. Com o objetivo de comprovar tal desigualdade, **teste a igualdade das médias** entre estas duas amostras com um nível de **significância de 1%**."
      ]
    },
    {
      "cell_type": "markdown",
      "metadata": {
        "id": "WUknTBZgpslc"
      },
      "source": [
        "---"
      ]
    },
    {
      "cell_type": "markdown",
      "metadata": {
        "id": "gFIUL8Hgpslc"
      },
      "source": [
        "É possível também utilizar testes de hipóteses para comparar duas diferentes amostras. Neste tipo de teste se deseja decidir se uma amostra é diferente da outra."
      ]
    },
    {
      "cell_type": "markdown",
      "metadata": {
        "id": "xzGuwM4xpslc"
      },
      "source": [
        "### Seleção das amostras"
      ]
    },
    {
      "cell_type": "code",
      "metadata": {
        "id": "nuNSrzfYpsld",
        "scrolled": true
      },
      "source": [
        "homens = dados.query('Sexo==0').sample(n=500, random_state=101).Renda"
      ],
      "execution_count": 48,
      "outputs": []
    },
    {
      "cell_type": "code",
      "metadata": {
        "id": "W-W9IOs1psle",
        "scrolled": true
      },
      "source": [
        "mulheres = dados.query('Sexo==1').sample(n=500, random_state=101).Renda"
      ],
      "execution_count": 49,
      "outputs": []
    },
    {
      "cell_type": "markdown",
      "metadata": {
        "id": "FOFa-cHwpslg"
      },
      "source": [
        "### Dados do problema"
      ]
    },
    {
      "cell_type": "code",
      "metadata": {
        "id": "BGyXCbompslh",
        "colab": {
          "base_uri": "https://localhost:8080/"
        },
        "outputId": "6bbd66e2-08b7-4c3c-d578-a6b334a70188"
      },
      "source": [
        "media_amostra_M = mulheres.mean()\n",
        "media_amostra_M"
      ],
      "execution_count": 50,
      "outputs": [
        {
          "output_type": "execute_result",
          "data": {
            "text/plain": [
              "1357.528"
            ]
          },
          "metadata": {
            "tags": []
          },
          "execution_count": 50
        }
      ]
    },
    {
      "cell_type": "code",
      "metadata": {
        "id": "-cSpXXTepsln",
        "colab": {
          "base_uri": "https://localhost:8080/"
        },
        "outputId": "82e3a1c5-7ab8-4dac-86e9-031cb76c23e2"
      },
      "source": [
        "desvio_padrao_amostra_M = mulheres.std()\n",
        "desvio_padrao_amostra_M"
      ],
      "execution_count": 51,
      "outputs": [
        {
          "output_type": "execute_result",
          "data": {
            "text/plain": [
              "1569.9011907484578"
            ]
          },
          "metadata": {
            "tags": []
          },
          "execution_count": 51
        }
      ]
    },
    {
      "cell_type": "code",
      "metadata": {
        "id": "RoxFOCA3pslk",
        "colab": {
          "base_uri": "https://localhost:8080/"
        },
        "outputId": "db4c1c9e-06e5-4bc8-dbec-6555a933d29a"
      },
      "source": [
        "media_amostra_H = homens.mean()\n",
        "media_amostra_H"
      ],
      "execution_count": 52,
      "outputs": [
        {
          "output_type": "execute_result",
          "data": {
            "text/plain": [
              "2142.608"
            ]
          },
          "metadata": {
            "tags": []
          },
          "execution_count": 52
        }
      ]
    },
    {
      "cell_type": "code",
      "metadata": {
        "id": "Of8L6Hygpsll",
        "colab": {
          "base_uri": "https://localhost:8080/"
        },
        "outputId": "2a2dfb27-b42b-40a6-a69f-8b5af5eaa681"
      },
      "source": [
        "desvio_padrao_amostra_H = homens.std()\n",
        "desvio_padrao_amostra_H"
      ],
      "execution_count": 53,
      "outputs": [
        {
          "output_type": "execute_result",
          "data": {
            "text/plain": [
              "2548.050802499875"
            ]
          },
          "metadata": {
            "tags": []
          },
          "execution_count": 53
        }
      ]
    },
    {
      "cell_type": "code",
      "metadata": {
        "id": "Cl7kdxkUpslo"
      },
      "source": [
        "significancia = 0.01\n",
        "confianca = 1 - significancia\n",
        "n_M = 500\n",
        "n_H = 500\n",
        "D_0 = 0 #diferença entre as médias"
      ],
      "execution_count": 54,
      "outputs": []
    },
    {
      "cell_type": "markdown",
      "metadata": {
        "id": "PGoWwWwjpslp"
      },
      "source": [
        "---"
      ]
    },
    {
      "cell_type": "markdown",
      "metadata": {
        "id": "tO597Oxgpslp"
      },
      "source": [
        "### **Passo 1** - formulação das hipóteses $H_0$ e $H_1$\n",
        "\n",
        "#### <font color='red'>Lembre-se, a hipótese nula sempre contém a alegação de igualdade</font>"
      ]
    },
    {
      "cell_type": "markdown",
      "metadata": {
        "id": "LysVU-7fpslr"
      },
      "source": [
        "### $\\mu_1 \\Rightarrow$ Média das rendas dos chefes de domicílios do sexo masculino\n",
        "### $\\mu_2 \\Rightarrow$ Média das rendas dos chefes de domicílios do sexo feminino\n",
        "\n",
        "### $\n",
        "\\begin{cases}\n",
        "H_0: \\mu_1 \\leq \\mu_2\\\\\n",
        "H_1: \\mu_1 > \\mu_2\n",
        "\\end{cases}\n",
        "$\n",
        "\n",
        "### ou\n",
        "\n",
        "### $\n",
        "\\begin{cases}\n",
        "H_0: \\mu_1 -\\mu_2 \\leq 0\\\\\n",
        "H_1: \\mu_1 -\\mu_2 > 0\n",
        "\\end{cases}\n",
        "$"
      ]
    },
    {
      "cell_type": "markdown",
      "metadata": {
        "id": "ENKqbCgQpslr"
      },
      "source": [
        "---"
      ]
    },
    {
      "cell_type": "markdown",
      "metadata": {
        "id": "dBA05Y3Zpslr"
      },
      "source": [
        "### **Passo 2** - escolha da distribuição amostral adequada\n",
        "<img src='https://caelum-online-public.s3.amazonaws.com/1229-estatistica-parte3/01/img003.png' width=70%>\n",
        "\n",
        "### <font color='red'>Observação importante</font>\n",
        "> Em testes que envolvam duas amostras com o emprego da tabela $t$ de Student, o número de graus de liberdade será sempre igual a $n_1 + n_2 - 2$"
      ]
    },
    {
      "cell_type": "markdown",
      "metadata": {
        "id": "6_Q_Wtjlpsls"
      },
      "source": [
        "### O tamanho da amostra é maior que 30?\n",
        "#### Resp.: Sim\n",
        "\n",
        "### O desvio padrão populacional é conhecido?\n",
        "#### Resp.: Não"
      ]
    },
    {
      "cell_type": "markdown",
      "metadata": {
        "id": "T6sVzVjVpsls"
      },
      "source": [
        "---"
      ]
    },
    {
      "cell_type": "markdown",
      "metadata": {
        "id": "SUN4yJqzpsls"
      },
      "source": [
        "### **Passo 3** - fixação da significância do teste ($\\alpha$)"
      ]
    },
    {
      "cell_type": "code",
      "metadata": {
        "id": "b3Y_CZmzpsls",
        "colab": {
          "base_uri": "https://localhost:8080/"
        },
        "outputId": "6a78e3fc-90c7-40d5-c03e-a0d7e01d9c10"
      },
      "source": [
        "probabilidade = confianca\n",
        "probabilidade"
      ],
      "execution_count": 55,
      "outputs": [
        {
          "output_type": "execute_result",
          "data": {
            "text/plain": [
              "0.99"
            ]
          },
          "metadata": {
            "tags": []
          },
          "execution_count": 55
        }
      ]
    },
    {
      "cell_type": "code",
      "metadata": {
        "id": "qNse2bFRpslu",
        "colab": {
          "base_uri": "https://localhost:8080/"
        },
        "outputId": "81345df3-e92e-41e1-fc8c-656743bbdc02"
      },
      "source": [
        "z_alpha = norm.ppf(probabilidade)\n",
        "z_alpha.round(2)"
      ],
      "execution_count": 56,
      "outputs": [
        {
          "output_type": "execute_result",
          "data": {
            "text/plain": [
              "2.33"
            ]
          },
          "metadata": {
            "tags": []
          },
          "execution_count": 56
        }
      ]
    },
    {
      "cell_type": "markdown",
      "metadata": {
        "id": "y9u_zd8Opslv"
      },
      "source": [
        "![Região de Aceitação](https://caelum-online-public.s3.amazonaws.com/1229-estatistica-parte3/01/img011.png)"
      ]
    },
    {
      "cell_type": "markdown",
      "metadata": {
        "id": "xUhiEXRMpslv"
      },
      "source": [
        "---"
      ]
    },
    {
      "cell_type": "markdown",
      "metadata": {
        "id": "iooB1aPHpslv"
      },
      "source": [
        "### **Passo 4** - cálculo da estatística-teste e verificação desse valor com as áreas de aceitação e rejeição do teste\n",
        "\n",
        "# $$z = \\frac{(\\bar{x_1} - \\bar{x_2})-D_0}{\\sqrt{\\frac{s_1^2}{n_1} + \\frac{s_2^2}{n_2}}}$$"
      ]
    },
    {
      "cell_type": "code",
      "metadata": {
        "id": "AL2i9JOTpslw",
        "colab": {
          "base_uri": "https://localhost:8080/"
        },
        "outputId": "115858da-bbea-4119-9d9a-e32cc77c447f"
      },
      "source": [
        "z = ((media_amostra_H - media_amostra_M) - D_0) / np.sqrt((homens.var()/n_H) + (mulheres.var()/n_M))\n",
        "z"
      ],
      "execution_count": 57,
      "outputs": [
        {
          "output_type": "execute_result",
          "data": {
            "text/plain": [
              "5.86562005776475"
            ]
          },
          "metadata": {
            "tags": []
          },
          "execution_count": 57
        }
      ]
    },
    {
      "cell_type": "markdown",
      "metadata": {
        "id": "jXrfHvH5pslx"
      },
      "source": [
        "![Estatística-Teste](https://caelum-online-public.s3.amazonaws.com/1229-estatistica-parte3/01/img012.png)"
      ]
    },
    {
      "cell_type": "markdown",
      "metadata": {
        "id": "4dn58Fc2pslx"
      },
      "source": [
        "---"
      ]
    },
    {
      "cell_type": "markdown",
      "metadata": {
        "id": "P-7NL33-pslx"
      },
      "source": [
        "### **Passo 5** - Aceitação ou rejeição da hipótese nula"
      ]
    },
    {
      "cell_type": "markdown",
      "metadata": {
        "id": "n_djxfYtpslx"
      },
      "source": [
        "<img src='https://caelum-online-public.s3.amazonaws.com/1229-estatistica-parte3/01/img014.png' width=90%>"
      ]
    },
    {
      "cell_type": "markdown",
      "metadata": {
        "id": "QrObW-BXpsly"
      },
      "source": [
        "### <font color='red'>Critério do valor crítico</font>\n",
        "\n",
        "> ### Teste Unicaudal\n",
        "> ### Rejeitar $H_0$ se $z \\geq z_{\\alpha}$"
      ]
    },
    {
      "cell_type": "code",
      "metadata": {
        "id": "tkJSji7gpsly",
        "colab": {
          "base_uri": "https://localhost:8080/"
        },
        "outputId": "8a126003-147c-48b7-cc61-8ff31bd6e83a"
      },
      "source": [
        "z >= z_alpha"
      ],
      "execution_count": 58,
      "outputs": [
        {
          "output_type": "execute_result",
          "data": {
            "text/plain": [
              "True"
            ]
          },
          "metadata": {
            "tags": []
          },
          "execution_count": 58
        }
      ]
    },
    {
      "cell_type": "markdown",
      "metadata": {
        "id": "UnBVO1uDpslz"
      },
      "source": [
        "### <font color='green'>Conclusão: Com um nível de confiança de 99% rejeitamos $H_0$, isto é, concluímos que a média das rendas dos chefes de domicílios do sexo masculino é maior que a média das rendas das chefes de domicílios do sexo feminino. Confirmando a alegação de desigualdade de renda entre os sexos.</font>"
      ]
    },
    {
      "cell_type": "markdown",
      "metadata": {
        "id": "cyuNEHfwpsl0"
      },
      "source": [
        "### <font color='red'>Critério do valor $p$</font>\n",
        "\n",
        "> ### Teste Unicaudal\n",
        "> ### Rejeitar $H_0$ se o valor $p\\leq\\alpha$"
      ]
    },
    {
      "cell_type": "markdown",
      "metadata": {
        "id": "9WgvHygWpsl0"
      },
      "source": [
        "https://www.statsmodels.org/dev/generated/statsmodels.stats.weightstats.DescrStatsW.html\n",
        "\n",
        "https://www.statsmodels.org/dev/generated/statsmodels.stats.weightstats.CompareMeans.ttest_ind.html"
      ]
    },
    {
      "cell_type": "code",
      "metadata": {
        "id": "UkFRl3hTpsl0"
      },
      "source": [
        "from statsmodels.stats.weightstats import CompareMeans"
      ],
      "execution_count": 59,
      "outputs": []
    },
    {
      "cell_type": "code",
      "metadata": {
        "id": "uW0uVFnFpsl1"
      },
      "source": [
        "test_H = DescrStatsW(homens)"
      ],
      "execution_count": 60,
      "outputs": []
    },
    {
      "cell_type": "code",
      "metadata": {
        "id": "kP92TQqupsl1"
      },
      "source": [
        "test_M = DescrStatsW(mulheres)"
      ],
      "execution_count": 61,
      "outputs": []
    },
    {
      "cell_type": "code",
      "metadata": {
        "id": "diOjg4G8psl2"
      },
      "source": [
        "test = test_H.get_compare(test_M)"
      ],
      "execution_count": 62,
      "outputs": []
    },
    {
      "cell_type": "code",
      "metadata": {
        "id": "tweh7q_spsl5",
        "colab": {
          "base_uri": "https://localhost:8080/"
        },
        "outputId": "4eb75156-db2a-4110-f47c-98af374b0d07"
      },
      "source": [
        "z, p_valor = test.ztest_ind(alternative='larger', value=0)\n",
        "(z, p_valor)"
      ],
      "execution_count": 67,
      "outputs": [
        {
          "output_type": "execute_result",
          "data": {
            "text/plain": [
              "(5.865620057764754, 2.2372867859458255e-09)"
            ]
          },
          "metadata": {
            "tags": []
          },
          "execution_count": 67
        }
      ]
    },
    {
      "cell_type": "code",
      "metadata": {
        "id": "E3NF1BzYpsl6",
        "colab": {
          "base_uri": "https://localhost:8080/"
        },
        "outputId": "1fa83a6b-8831-4ae8-9d3d-6f83c44e8f70"
      },
      "source": [
        "p_valor <= significancia"
      ],
      "execution_count": 68,
      "outputs": [
        {
          "output_type": "execute_result",
          "data": {
            "text/plain": [
              "True"
            ]
          },
          "metadata": {
            "tags": []
          },
          "execution_count": 68
        }
      ]
    },
    {
      "cell_type": "code",
      "metadata": {
        "id": "qRkrt2XZhL9v"
      },
      "source": [
        "test_B = CompareMeans(test_H, test_M)"
      ],
      "execution_count": 69,
      "outputs": []
    },
    {
      "cell_type": "code",
      "metadata": {
        "id": "tSbOZem9hLvs",
        "colab": {
          "base_uri": "https://localhost:8080/"
        },
        "outputId": "e1066af5-2c87-48f3-9ee9-d1036c564fbd"
      },
      "source": [
        "z, p_valor_B = test_B.ztest_ind(alternative='larger', value=0)\n",
        "(z, p_valor_B)"
      ],
      "execution_count": 71,
      "outputs": [
        {
          "output_type": "execute_result",
          "data": {
            "text/plain": [
              "(5.865620057764754, 2.2372867859458255e-09)"
            ]
          },
          "metadata": {
            "tags": []
          },
          "execution_count": 71
        }
      ]
    },
    {
      "cell_type": "code",
      "metadata": {
        "colab": {
          "base_uri": "https://localhost:8080/"
        },
        "id": "rv8wDzoAnKsA",
        "outputId": "0e5d6d74-29ce-421b-d658-1ceff38f8893"
      },
      "source": [
        "p_valor_B <= significancia"
      ],
      "execution_count": 72,
      "outputs": [
        {
          "output_type": "execute_result",
          "data": {
            "text/plain": [
              "True"
            ]
          },
          "metadata": {
            "tags": []
          },
          "execution_count": 72
        }
      ]
    },
    {
      "cell_type": "markdown",
      "metadata": {
        "id": "0gxk-t4jpsl8"
      },
      "source": [
        "---"
      ]
    },
    {
      "cell_type": "markdown",
      "metadata": {
        "id": "IEHa9ZC_psl8"
      },
      "source": [
        "# <font color=green>4 TESTES NÃO PARAMÉTRICOS</font>\n",
        "***"
      ]
    },
    {
      "cell_type": "markdown",
      "metadata": {
        "id": "8iRwKn9Wpsl8"
      },
      "source": [
        "O trabalho com pequenas amostras pode levar a não aceitação da validade do teorema central do limite e também na impossibilidade de fazer suposições sobre a distribuição da variável avaliada. Quando isso ocorre torna-se necessária a aplicação de testes não paramétricos. Nos testes não paramétricos, não fazemos hipóteses sobre a distribuição (de probabilidade) das quais as observações são extraídas."
      ]
    },
    {
      "cell_type": "markdown",
      "metadata": {
        "id": "ngqmtRxFpsl9"
      },
      "source": [
        "## <font color='red'>Problema</font>"
      ]
    },
    {
      "cell_type": "markdown",
      "metadata": {
        "id": "Al0BiC02psl9"
      },
      "source": [
        "Antes de cada partida do campeonato nacional de futebol, as moedas utilizadas pelos árbitros devem ser verificadas para se ter certeza de que não são viciadas, ou seja, que não tendam para determinado resultado. Para isso um teste simples deve ser realizado antes de cada partida. Este teste consiste em lançar a moeda do jogo **50 vezes** e contar as frequências de **CARAS** e **COROAS** obtidas. A tabela abaixo mostra o resultado obtido no experimento:\n",
        "\n",
        "||CARA|COROA|\n",
        "|-|-|-|\n",
        "|Observado|17|33|\n",
        "|Esperado|25|25|\n",
        "\n",
        "A um **nível de significância de 5%**, é possível afirmar que a moeda não é honesta, isto é, que a moeda apresenta uma probabilidade maior de cair com a face **CARA** voltada para cima?"
      ]
    },
    {
      "cell_type": "markdown",
      "metadata": {
        "id": "56KA3Hnupsl9"
      },
      "source": [
        "## <font color=green>4.1 Teste do Qui-Quadrado ( $\\chi^2$)</font>\n",
        "***"
      ]
    },
    {
      "cell_type": "markdown",
      "metadata": {
        "id": "GxTlvB4Zpsl9"
      },
      "source": [
        "Também conhecido como teste de adequação ao ajustamento, seu nome se deve ao fato de utilizar uma variável estatística padronizada, representada pela letra grega qui ( $\\chi$) elevada ao quadrado. A tabela com os valores padronizados e como obtê-la podem ser vistos logo abaixo.\n",
        "\n",
        "O teste do $\\chi^2$ testa a hipótese nula de não haver diferença entre as frequências observadas de um determinado evento e as frequências que são realmente esperadas para este evento.\n",
        "\n",
        "Os passos de aplicação do teste são bem parecidos aos vistos para os testes paramétricos.\n",
        "\n",
        "![Região de Aceitação](https://caelum-online-public.s3.amazonaws.com/1229-estatistica-parte3/01/img017.png)"
      ]
    },
    {
      "cell_type": "markdown",
      "metadata": {
        "id": "1lbHtKGfpsl9"
      },
      "source": [
        "### Construindo tabela $\\chi^2$\n",
        "https://docs.scipy.org/doc/scipy/reference/generated/scipy.stats.chi.html"
      ]
    },
    {
      "cell_type": "code",
      "metadata": {
        "id": "k7sZCK8dpsl-",
        "scrolled": false,
        "colab": {
          "base_uri": "https://localhost:8080/",
          "height": 965
        },
        "outputId": "a86bf023-c6bc-407a-baab-60d51a46c8aa"
      },
      "source": [
        "from scipy.stats import chi\n",
        "\n",
        "tabela_t_chi_2 = pd.DataFrame(\n",
        "    [], \n",
        "    index=[i for i in range(1, 31)],\n",
        "    columns = [0.005, 0.01, 0.025, 0.05, 0.1, 0.25, 0.5, 0.75, 0.9, 0.975, 0.95, 0.99, 0.995]\n",
        ")\n",
        "\n",
        "for index in tabela_t_chi_2.index:\n",
        "    for column in tabela_t_chi_2.columns:\n",
        "        tabela_t_chi_2.loc[index, column] = \"{0:0.4f}\".format(chi.ppf(float(column), index)**2)\n",
        "\n",
        "tabela_t_chi_2.index.name='Graus de Liberdade'\n",
        "tabela_t_chi_2.rename_axis(['p'], axis=1, inplace = True)\n",
        "\n",
        "tabela_t_chi_2"
      ],
      "execution_count": 74,
      "outputs": [
        {
          "output_type": "execute_result",
          "data": {
            "text/html": [
              "<div>\n",
              "<style scoped>\n",
              "    .dataframe tbody tr th:only-of-type {\n",
              "        vertical-align: middle;\n",
              "    }\n",
              "\n",
              "    .dataframe tbody tr th {\n",
              "        vertical-align: top;\n",
              "    }\n",
              "\n",
              "    .dataframe thead th {\n",
              "        text-align: right;\n",
              "    }\n",
              "</style>\n",
              "<table border=\"1\" class=\"dataframe\">\n",
              "  <thead>\n",
              "    <tr style=\"text-align: right;\">\n",
              "      <th>p</th>\n",
              "      <th>0.005</th>\n",
              "      <th>0.010</th>\n",
              "      <th>0.025</th>\n",
              "      <th>0.050</th>\n",
              "      <th>0.100</th>\n",
              "      <th>0.250</th>\n",
              "      <th>0.500</th>\n",
              "      <th>0.750</th>\n",
              "      <th>0.900</th>\n",
              "      <th>0.975</th>\n",
              "      <th>0.950</th>\n",
              "      <th>0.990</th>\n",
              "      <th>0.995</th>\n",
              "    </tr>\n",
              "    <tr>\n",
              "      <th>Graus de Liberdade</th>\n",
              "      <th></th>\n",
              "      <th></th>\n",
              "      <th></th>\n",
              "      <th></th>\n",
              "      <th></th>\n",
              "      <th></th>\n",
              "      <th></th>\n",
              "      <th></th>\n",
              "      <th></th>\n",
              "      <th></th>\n",
              "      <th></th>\n",
              "      <th></th>\n",
              "      <th></th>\n",
              "    </tr>\n",
              "  </thead>\n",
              "  <tbody>\n",
              "    <tr>\n",
              "      <th>1</th>\n",
              "      <td>0.0000</td>\n",
              "      <td>0.0002</td>\n",
              "      <td>0.0010</td>\n",
              "      <td>0.0039</td>\n",
              "      <td>0.0158</td>\n",
              "      <td>0.1015</td>\n",
              "      <td>0.4549</td>\n",
              "      <td>1.3233</td>\n",
              "      <td>2.7055</td>\n",
              "      <td>5.0239</td>\n",
              "      <td>3.8415</td>\n",
              "      <td>6.6349</td>\n",
              "      <td>7.8794</td>\n",
              "    </tr>\n",
              "    <tr>\n",
              "      <th>2</th>\n",
              "      <td>0.0100</td>\n",
              "      <td>0.0201</td>\n",
              "      <td>0.0506</td>\n",
              "      <td>0.1026</td>\n",
              "      <td>0.2107</td>\n",
              "      <td>0.5754</td>\n",
              "      <td>1.3863</td>\n",
              "      <td>2.7726</td>\n",
              "      <td>4.6052</td>\n",
              "      <td>7.3778</td>\n",
              "      <td>5.9915</td>\n",
              "      <td>9.2103</td>\n",
              "      <td>10.5966</td>\n",
              "    </tr>\n",
              "    <tr>\n",
              "      <th>3</th>\n",
              "      <td>0.0717</td>\n",
              "      <td>0.1148</td>\n",
              "      <td>0.2158</td>\n",
              "      <td>0.3518</td>\n",
              "      <td>0.5844</td>\n",
              "      <td>1.2125</td>\n",
              "      <td>2.3660</td>\n",
              "      <td>4.1083</td>\n",
              "      <td>6.2514</td>\n",
              "      <td>9.3484</td>\n",
              "      <td>7.8147</td>\n",
              "      <td>11.3449</td>\n",
              "      <td>12.8382</td>\n",
              "    </tr>\n",
              "    <tr>\n",
              "      <th>4</th>\n",
              "      <td>0.2070</td>\n",
              "      <td>0.2971</td>\n",
              "      <td>0.4844</td>\n",
              "      <td>0.7107</td>\n",
              "      <td>1.0636</td>\n",
              "      <td>1.9226</td>\n",
              "      <td>3.3567</td>\n",
              "      <td>5.3853</td>\n",
              "      <td>7.7794</td>\n",
              "      <td>11.1433</td>\n",
              "      <td>9.4877</td>\n",
              "      <td>13.2767</td>\n",
              "      <td>14.8603</td>\n",
              "    </tr>\n",
              "    <tr>\n",
              "      <th>5</th>\n",
              "      <td>0.4117</td>\n",
              "      <td>0.5543</td>\n",
              "      <td>0.8312</td>\n",
              "      <td>1.1455</td>\n",
              "      <td>1.6103</td>\n",
              "      <td>2.6746</td>\n",
              "      <td>4.3515</td>\n",
              "      <td>6.6257</td>\n",
              "      <td>9.2364</td>\n",
              "      <td>12.8325</td>\n",
              "      <td>11.0705</td>\n",
              "      <td>15.0863</td>\n",
              "      <td>16.7496</td>\n",
              "    </tr>\n",
              "    <tr>\n",
              "      <th>6</th>\n",
              "      <td>0.6757</td>\n",
              "      <td>0.8721</td>\n",
              "      <td>1.2373</td>\n",
              "      <td>1.6354</td>\n",
              "      <td>2.2041</td>\n",
              "      <td>3.4546</td>\n",
              "      <td>5.3481</td>\n",
              "      <td>7.8408</td>\n",
              "      <td>10.6446</td>\n",
              "      <td>14.4494</td>\n",
              "      <td>12.5916</td>\n",
              "      <td>16.8119</td>\n",
              "      <td>18.5476</td>\n",
              "    </tr>\n",
              "    <tr>\n",
              "      <th>7</th>\n",
              "      <td>0.9893</td>\n",
              "      <td>1.2390</td>\n",
              "      <td>1.6899</td>\n",
              "      <td>2.1673</td>\n",
              "      <td>2.8331</td>\n",
              "      <td>4.2549</td>\n",
              "      <td>6.3458</td>\n",
              "      <td>9.0371</td>\n",
              "      <td>12.0170</td>\n",
              "      <td>16.0128</td>\n",
              "      <td>14.0671</td>\n",
              "      <td>18.4753</td>\n",
              "      <td>20.2777</td>\n",
              "    </tr>\n",
              "    <tr>\n",
              "      <th>8</th>\n",
              "      <td>1.3444</td>\n",
              "      <td>1.6465</td>\n",
              "      <td>2.1797</td>\n",
              "      <td>2.7326</td>\n",
              "      <td>3.4895</td>\n",
              "      <td>5.0706</td>\n",
              "      <td>7.3441</td>\n",
              "      <td>10.2189</td>\n",
              "      <td>13.3616</td>\n",
              "      <td>17.5345</td>\n",
              "      <td>15.5073</td>\n",
              "      <td>20.0902</td>\n",
              "      <td>21.9550</td>\n",
              "    </tr>\n",
              "    <tr>\n",
              "      <th>9</th>\n",
              "      <td>1.7349</td>\n",
              "      <td>2.0879</td>\n",
              "      <td>2.7004</td>\n",
              "      <td>3.3251</td>\n",
              "      <td>4.1682</td>\n",
              "      <td>5.8988</td>\n",
              "      <td>8.3428</td>\n",
              "      <td>11.3888</td>\n",
              "      <td>14.6837</td>\n",
              "      <td>19.0228</td>\n",
              "      <td>16.9190</td>\n",
              "      <td>21.6660</td>\n",
              "      <td>23.5894</td>\n",
              "    </tr>\n",
              "    <tr>\n",
              "      <th>10</th>\n",
              "      <td>2.1559</td>\n",
              "      <td>2.5582</td>\n",
              "      <td>3.2470</td>\n",
              "      <td>3.9403</td>\n",
              "      <td>4.8652</td>\n",
              "      <td>6.7372</td>\n",
              "      <td>9.3418</td>\n",
              "      <td>12.5489</td>\n",
              "      <td>15.9872</td>\n",
              "      <td>20.4832</td>\n",
              "      <td>18.3070</td>\n",
              "      <td>23.2093</td>\n",
              "      <td>25.1882</td>\n",
              "    </tr>\n",
              "    <tr>\n",
              "      <th>11</th>\n",
              "      <td>2.6032</td>\n",
              "      <td>3.0535</td>\n",
              "      <td>3.8157</td>\n",
              "      <td>4.5748</td>\n",
              "      <td>5.5778</td>\n",
              "      <td>7.5841</td>\n",
              "      <td>10.3410</td>\n",
              "      <td>13.7007</td>\n",
              "      <td>17.2750</td>\n",
              "      <td>21.9200</td>\n",
              "      <td>19.6751</td>\n",
              "      <td>24.7250</td>\n",
              "      <td>26.7568</td>\n",
              "    </tr>\n",
              "    <tr>\n",
              "      <th>12</th>\n",
              "      <td>3.0738</td>\n",
              "      <td>3.5706</td>\n",
              "      <td>4.4038</td>\n",
              "      <td>5.2260</td>\n",
              "      <td>6.3038</td>\n",
              "      <td>8.4384</td>\n",
              "      <td>11.3403</td>\n",
              "      <td>14.8454</td>\n",
              "      <td>18.5493</td>\n",
              "      <td>23.3367</td>\n",
              "      <td>21.0261</td>\n",
              "      <td>26.2170</td>\n",
              "      <td>28.2995</td>\n",
              "    </tr>\n",
              "    <tr>\n",
              "      <th>13</th>\n",
              "      <td>3.5650</td>\n",
              "      <td>4.1069</td>\n",
              "      <td>5.0088</td>\n",
              "      <td>5.8919</td>\n",
              "      <td>7.0415</td>\n",
              "      <td>9.2991</td>\n",
              "      <td>12.3398</td>\n",
              "      <td>15.9839</td>\n",
              "      <td>19.8119</td>\n",
              "      <td>24.7356</td>\n",
              "      <td>22.3620</td>\n",
              "      <td>27.6882</td>\n",
              "      <td>29.8195</td>\n",
              "    </tr>\n",
              "    <tr>\n",
              "      <th>14</th>\n",
              "      <td>4.0747</td>\n",
              "      <td>4.6604</td>\n",
              "      <td>5.6287</td>\n",
              "      <td>6.5706</td>\n",
              "      <td>7.7895</td>\n",
              "      <td>10.1653</td>\n",
              "      <td>13.3393</td>\n",
              "      <td>17.1169</td>\n",
              "      <td>21.0641</td>\n",
              "      <td>26.1189</td>\n",
              "      <td>23.6848</td>\n",
              "      <td>29.1412</td>\n",
              "      <td>31.3193</td>\n",
              "    </tr>\n",
              "    <tr>\n",
              "      <th>15</th>\n",
              "      <td>4.6009</td>\n",
              "      <td>5.2293</td>\n",
              "      <td>6.2621</td>\n",
              "      <td>7.2609</td>\n",
              "      <td>8.5468</td>\n",
              "      <td>11.0365</td>\n",
              "      <td>14.3389</td>\n",
              "      <td>18.2451</td>\n",
              "      <td>22.3071</td>\n",
              "      <td>27.4884</td>\n",
              "      <td>24.9958</td>\n",
              "      <td>30.5779</td>\n",
              "      <td>32.8013</td>\n",
              "    </tr>\n",
              "    <tr>\n",
              "      <th>16</th>\n",
              "      <td>5.1422</td>\n",
              "      <td>5.8122</td>\n",
              "      <td>6.9077</td>\n",
              "      <td>7.9616</td>\n",
              "      <td>9.3122</td>\n",
              "      <td>11.9122</td>\n",
              "      <td>15.3385</td>\n",
              "      <td>19.3689</td>\n",
              "      <td>23.5418</td>\n",
              "      <td>28.8454</td>\n",
              "      <td>26.2962</td>\n",
              "      <td>31.9999</td>\n",
              "      <td>34.2672</td>\n",
              "    </tr>\n",
              "    <tr>\n",
              "      <th>17</th>\n",
              "      <td>5.6972</td>\n",
              "      <td>6.4078</td>\n",
              "      <td>7.5642</td>\n",
              "      <td>8.6718</td>\n",
              "      <td>10.0852</td>\n",
              "      <td>12.7919</td>\n",
              "      <td>16.3382</td>\n",
              "      <td>20.4887</td>\n",
              "      <td>24.7690</td>\n",
              "      <td>30.1910</td>\n",
              "      <td>27.5871</td>\n",
              "      <td>33.4087</td>\n",
              "      <td>35.7185</td>\n",
              "    </tr>\n",
              "    <tr>\n",
              "      <th>18</th>\n",
              "      <td>6.2648</td>\n",
              "      <td>7.0149</td>\n",
              "      <td>8.2307</td>\n",
              "      <td>9.3905</td>\n",
              "      <td>10.8649</td>\n",
              "      <td>13.6753</td>\n",
              "      <td>17.3379</td>\n",
              "      <td>21.6049</td>\n",
              "      <td>25.9894</td>\n",
              "      <td>31.5264</td>\n",
              "      <td>28.8693</td>\n",
              "      <td>34.8053</td>\n",
              "      <td>37.1565</td>\n",
              "    </tr>\n",
              "    <tr>\n",
              "      <th>19</th>\n",
              "      <td>6.8440</td>\n",
              "      <td>7.6327</td>\n",
              "      <td>8.9065</td>\n",
              "      <td>10.1170</td>\n",
              "      <td>11.6509</td>\n",
              "      <td>14.5620</td>\n",
              "      <td>18.3377</td>\n",
              "      <td>22.7178</td>\n",
              "      <td>27.2036</td>\n",
              "      <td>32.8523</td>\n",
              "      <td>30.1435</td>\n",
              "      <td>36.1909</td>\n",
              "      <td>38.5823</td>\n",
              "    </tr>\n",
              "    <tr>\n",
              "      <th>20</th>\n",
              "      <td>7.4338</td>\n",
              "      <td>8.2604</td>\n",
              "      <td>9.5908</td>\n",
              "      <td>10.8508</td>\n",
              "      <td>12.4426</td>\n",
              "      <td>15.4518</td>\n",
              "      <td>19.3374</td>\n",
              "      <td>23.8277</td>\n",
              "      <td>28.4120</td>\n",
              "      <td>34.1696</td>\n",
              "      <td>31.4104</td>\n",
              "      <td>37.5662</td>\n",
              "      <td>39.9968</td>\n",
              "    </tr>\n",
              "    <tr>\n",
              "      <th>21</th>\n",
              "      <td>8.0337</td>\n",
              "      <td>8.8972</td>\n",
              "      <td>10.2829</td>\n",
              "      <td>11.5913</td>\n",
              "      <td>13.2396</td>\n",
              "      <td>16.3444</td>\n",
              "      <td>20.3372</td>\n",
              "      <td>24.9348</td>\n",
              "      <td>29.6151</td>\n",
              "      <td>35.4789</td>\n",
              "      <td>32.6706</td>\n",
              "      <td>38.9322</td>\n",
              "      <td>41.4011</td>\n",
              "    </tr>\n",
              "    <tr>\n",
              "      <th>22</th>\n",
              "      <td>8.6427</td>\n",
              "      <td>9.5425</td>\n",
              "      <td>10.9823</td>\n",
              "      <td>12.3380</td>\n",
              "      <td>14.0415</td>\n",
              "      <td>17.2396</td>\n",
              "      <td>21.3370</td>\n",
              "      <td>26.0393</td>\n",
              "      <td>30.8133</td>\n",
              "      <td>36.7807</td>\n",
              "      <td>33.9244</td>\n",
              "      <td>40.2894</td>\n",
              "      <td>42.7957</td>\n",
              "    </tr>\n",
              "    <tr>\n",
              "      <th>23</th>\n",
              "      <td>9.2604</td>\n",
              "      <td>10.1957</td>\n",
              "      <td>11.6886</td>\n",
              "      <td>13.0905</td>\n",
              "      <td>14.8480</td>\n",
              "      <td>18.1373</td>\n",
              "      <td>22.3369</td>\n",
              "      <td>27.1413</td>\n",
              "      <td>32.0069</td>\n",
              "      <td>38.0756</td>\n",
              "      <td>35.1725</td>\n",
              "      <td>41.6384</td>\n",
              "      <td>44.1813</td>\n",
              "    </tr>\n",
              "    <tr>\n",
              "      <th>24</th>\n",
              "      <td>9.8862</td>\n",
              "      <td>10.8564</td>\n",
              "      <td>12.4012</td>\n",
              "      <td>13.8484</td>\n",
              "      <td>15.6587</td>\n",
              "      <td>19.0373</td>\n",
              "      <td>23.3367</td>\n",
              "      <td>28.2412</td>\n",
              "      <td>33.1962</td>\n",
              "      <td>39.3641</td>\n",
              "      <td>36.4150</td>\n",
              "      <td>42.9798</td>\n",
              "      <td>45.5585</td>\n",
              "    </tr>\n",
              "    <tr>\n",
              "      <th>25</th>\n",
              "      <td>10.5197</td>\n",
              "      <td>11.5240</td>\n",
              "      <td>13.1197</td>\n",
              "      <td>14.6114</td>\n",
              "      <td>16.4734</td>\n",
              "      <td>19.9393</td>\n",
              "      <td>24.3366</td>\n",
              "      <td>29.3389</td>\n",
              "      <td>34.3816</td>\n",
              "      <td>40.6465</td>\n",
              "      <td>37.6525</td>\n",
              "      <td>44.3141</td>\n",
              "      <td>46.9279</td>\n",
              "    </tr>\n",
              "    <tr>\n",
              "      <th>26</th>\n",
              "      <td>11.1602</td>\n",
              "      <td>12.1981</td>\n",
              "      <td>13.8439</td>\n",
              "      <td>15.3792</td>\n",
              "      <td>17.2919</td>\n",
              "      <td>20.8434</td>\n",
              "      <td>25.3365</td>\n",
              "      <td>30.4346</td>\n",
              "      <td>35.5632</td>\n",
              "      <td>41.9232</td>\n",
              "      <td>38.8851</td>\n",
              "      <td>45.6417</td>\n",
              "      <td>48.2899</td>\n",
              "    </tr>\n",
              "    <tr>\n",
              "      <th>27</th>\n",
              "      <td>11.8076</td>\n",
              "      <td>12.8785</td>\n",
              "      <td>14.5734</td>\n",
              "      <td>16.1514</td>\n",
              "      <td>18.1139</td>\n",
              "      <td>21.7494</td>\n",
              "      <td>26.3363</td>\n",
              "      <td>31.5284</td>\n",
              "      <td>36.7412</td>\n",
              "      <td>43.1945</td>\n",
              "      <td>40.1133</td>\n",
              "      <td>46.9629</td>\n",
              "      <td>49.6449</td>\n",
              "    </tr>\n",
              "    <tr>\n",
              "      <th>28</th>\n",
              "      <td>12.4613</td>\n",
              "      <td>13.5647</td>\n",
              "      <td>15.3079</td>\n",
              "      <td>16.9279</td>\n",
              "      <td>18.9392</td>\n",
              "      <td>22.6572</td>\n",
              "      <td>27.3362</td>\n",
              "      <td>32.6205</td>\n",
              "      <td>37.9159</td>\n",
              "      <td>44.4608</td>\n",
              "      <td>41.3371</td>\n",
              "      <td>48.2782</td>\n",
              "      <td>50.9934</td>\n",
              "    </tr>\n",
              "    <tr>\n",
              "      <th>29</th>\n",
              "      <td>13.1211</td>\n",
              "      <td>14.2565</td>\n",
              "      <td>16.0471</td>\n",
              "      <td>17.7084</td>\n",
              "      <td>19.7677</td>\n",
              "      <td>23.5666</td>\n",
              "      <td>28.3361</td>\n",
              "      <td>33.7109</td>\n",
              "      <td>39.0875</td>\n",
              "      <td>45.7223</td>\n",
              "      <td>42.5570</td>\n",
              "      <td>49.5879</td>\n",
              "      <td>52.3356</td>\n",
              "    </tr>\n",
              "    <tr>\n",
              "      <th>30</th>\n",
              "      <td>13.7867</td>\n",
              "      <td>14.9535</td>\n",
              "      <td>16.7908</td>\n",
              "      <td>18.4927</td>\n",
              "      <td>20.5992</td>\n",
              "      <td>24.4776</td>\n",
              "      <td>29.3360</td>\n",
              "      <td>34.7997</td>\n",
              "      <td>40.2560</td>\n",
              "      <td>46.9792</td>\n",
              "      <td>43.7730</td>\n",
              "      <td>50.8922</td>\n",
              "      <td>53.6720</td>\n",
              "    </tr>\n",
              "  </tbody>\n",
              "</table>\n",
              "</div>"
            ],
            "text/plain": [
              "p                     0.005    0.010    0.025  ...    0.950    0.990    0.995\n",
              "Graus de Liberdade                             ...                           \n",
              "1                    0.0000   0.0002   0.0010  ...   3.8415   6.6349   7.8794\n",
              "2                    0.0100   0.0201   0.0506  ...   5.9915   9.2103  10.5966\n",
              "3                    0.0717   0.1148   0.2158  ...   7.8147  11.3449  12.8382\n",
              "4                    0.2070   0.2971   0.4844  ...   9.4877  13.2767  14.8603\n",
              "5                    0.4117   0.5543   0.8312  ...  11.0705  15.0863  16.7496\n",
              "6                    0.6757   0.8721   1.2373  ...  12.5916  16.8119  18.5476\n",
              "7                    0.9893   1.2390   1.6899  ...  14.0671  18.4753  20.2777\n",
              "8                    1.3444   1.6465   2.1797  ...  15.5073  20.0902  21.9550\n",
              "9                    1.7349   2.0879   2.7004  ...  16.9190  21.6660  23.5894\n",
              "10                   2.1559   2.5582   3.2470  ...  18.3070  23.2093  25.1882\n",
              "11                   2.6032   3.0535   3.8157  ...  19.6751  24.7250  26.7568\n",
              "12                   3.0738   3.5706   4.4038  ...  21.0261  26.2170  28.2995\n",
              "13                   3.5650   4.1069   5.0088  ...  22.3620  27.6882  29.8195\n",
              "14                   4.0747   4.6604   5.6287  ...  23.6848  29.1412  31.3193\n",
              "15                   4.6009   5.2293   6.2621  ...  24.9958  30.5779  32.8013\n",
              "16                   5.1422   5.8122   6.9077  ...  26.2962  31.9999  34.2672\n",
              "17                   5.6972   6.4078   7.5642  ...  27.5871  33.4087  35.7185\n",
              "18                   6.2648   7.0149   8.2307  ...  28.8693  34.8053  37.1565\n",
              "19                   6.8440   7.6327   8.9065  ...  30.1435  36.1909  38.5823\n",
              "20                   7.4338   8.2604   9.5908  ...  31.4104  37.5662  39.9968\n",
              "21                   8.0337   8.8972  10.2829  ...  32.6706  38.9322  41.4011\n",
              "22                   8.6427   9.5425  10.9823  ...  33.9244  40.2894  42.7957\n",
              "23                   9.2604  10.1957  11.6886  ...  35.1725  41.6384  44.1813\n",
              "24                   9.8862  10.8564  12.4012  ...  36.4150  42.9798  45.5585\n",
              "25                  10.5197  11.5240  13.1197  ...  37.6525  44.3141  46.9279\n",
              "26                  11.1602  12.1981  13.8439  ...  38.8851  45.6417  48.2899\n",
              "27                  11.8076  12.8785  14.5734  ...  40.1133  46.9629  49.6449\n",
              "28                  12.4613  13.5647  15.3079  ...  41.3371  48.2782  50.9934\n",
              "29                  13.1211  14.2565  16.0471  ...  42.5570  49.5879  52.3356\n",
              "30                  13.7867  14.9535  16.7908  ...  43.7730  50.8922  53.6720\n",
              "\n",
              "[30 rows x 13 columns]"
            ]
          },
          "metadata": {
            "tags": []
          },
          "execution_count": 74
        }
      ]
    },
    {
      "cell_type": "markdown",
      "metadata": {
        "id": "UkzhYAPDpsl_"
      },
      "source": [
        "<img src='https://caelum-online-public.s3.amazonaws.com/1229-estatistica-parte3/01/img016.png' width='250px'>\n",
        "\n",
        "Tabela com os valores de $\\chi_p^2$ em função dos graus de liberdade $(n - 1)$ e de $p = P(\\chi^2 \\leq \\chi_p^2)$"
      ]
    },
    {
      "cell_type": "markdown",
      "metadata": {
        "id": "cCPOqVFKpsl_"
      },
      "source": [
        "## <font color='red'>Problema</font>"
      ]
    },
    {
      "cell_type": "markdown",
      "metadata": {
        "id": "GTq1wpkbpsl_"
      },
      "source": [
        "Antes de cada partida do campeonato nacional de futebol, as moedas utilizadas pelos árbitros devem ser verificadas para se ter certeza de que não são viciadas, ou seja, que não tendam para determinado resultado. Para isso um teste simples deve ser realizado antes de cada partida. Este teste consiste em lançar a moeda do jogo **50 vezes** e contar as frequências de **CARAS** e **COROAS** obtidas. A tabela abaixo mostra o resultado obtido no experimento:\n",
        "\n",
        "||CARA|COROA|\n",
        "|-|-|-|\n",
        "|Observado|17|33|\n",
        "|Esperado|25|25|\n",
        "\n",
        "A um **nível de significância de 5%**, é possível afirmar que a moeda não é honesta, isto é, que a moeda apresenta uma probabilidade maior de cair com a face **CARA** voltada para cima?"
      ]
    },
    {
      "cell_type": "markdown",
      "metadata": {
        "id": "CSlCI1wUpsl_"
      },
      "source": [
        "---"
      ]
    },
    {
      "cell_type": "markdown",
      "metadata": {
        "id": "Op26YDWnpsmA"
      },
      "source": [
        "### Dados do problema"
      ]
    },
    {
      "cell_type": "code",
      "metadata": {
        "id": "p5iOqxk2psmA"
      },
      "source": [
        "F_Observada = [17, 33]\n",
        "F_Esperada = [25, 25]\n",
        "significancia = 0.05\n",
        "confianca = 1 - significancia\n",
        "k = 2 # Número de eventos possíveis\n",
        "graus_de_liberdade = k - 1"
      ],
      "execution_count": 75,
      "outputs": []
    },
    {
      "cell_type": "markdown",
      "metadata": {
        "id": "w6A74pM-psmB"
      },
      "source": [
        "### **Passo 1** - formulação das hipóteses $H_0$ e $H_1$\n",
        "\n",
        "#### <font color='red'>Lembre-se, a hipótese nula sempre contém a alegação de igualdade</font>"
      ]
    },
    {
      "cell_type": "markdown",
      "metadata": {
        "id": "zA4AD5_8psmB"
      },
      "source": [
        "### $H_0: F_{CARA} = F_{COROA}$\n",
        "\n",
        "### $H_1: F_{CARA} \\neq F_{COROA}$"
      ]
    },
    {
      "cell_type": "markdown",
      "metadata": {
        "id": "rUtuw6_bpsmB"
      },
      "source": [
        "---"
      ]
    },
    {
      "cell_type": "markdown",
      "metadata": {
        "id": "Zi2oE6ZbpsmB"
      },
      "source": [
        "### **Passo 2** - fixação da significância do teste ($\\alpha$)"
      ]
    },
    {
      "cell_type": "markdown",
      "metadata": {
        "id": "cCL8Wyy7psmC"
      },
      "source": [
        "https://docs.scipy.org/doc/scipy/reference/generated/scipy.stats.chi.html"
      ]
    },
    {
      "cell_type": "code",
      "metadata": {
        "id": "5bF7GEd-psmD",
        "colab": {
          "base_uri": "https://localhost:8080/",
          "height": 166
        },
        "outputId": "f83ba82f-9534-4645-c0d1-1262df48edd6"
      },
      "source": [
        "tabela_t_chi_2[:3]"
      ],
      "execution_count": 76,
      "outputs": [
        {
          "output_type": "execute_result",
          "data": {
            "text/html": [
              "<div>\n",
              "<style scoped>\n",
              "    .dataframe tbody tr th:only-of-type {\n",
              "        vertical-align: middle;\n",
              "    }\n",
              "\n",
              "    .dataframe tbody tr th {\n",
              "        vertical-align: top;\n",
              "    }\n",
              "\n",
              "    .dataframe thead th {\n",
              "        text-align: right;\n",
              "    }\n",
              "</style>\n",
              "<table border=\"1\" class=\"dataframe\">\n",
              "  <thead>\n",
              "    <tr style=\"text-align: right;\">\n",
              "      <th>p</th>\n",
              "      <th>0.005</th>\n",
              "      <th>0.010</th>\n",
              "      <th>0.025</th>\n",
              "      <th>0.050</th>\n",
              "      <th>0.100</th>\n",
              "      <th>0.250</th>\n",
              "      <th>0.500</th>\n",
              "      <th>0.750</th>\n",
              "      <th>0.900</th>\n",
              "      <th>0.975</th>\n",
              "      <th>0.950</th>\n",
              "      <th>0.990</th>\n",
              "      <th>0.995</th>\n",
              "    </tr>\n",
              "    <tr>\n",
              "      <th>Graus de Liberdade</th>\n",
              "      <th></th>\n",
              "      <th></th>\n",
              "      <th></th>\n",
              "      <th></th>\n",
              "      <th></th>\n",
              "      <th></th>\n",
              "      <th></th>\n",
              "      <th></th>\n",
              "      <th></th>\n",
              "      <th></th>\n",
              "      <th></th>\n",
              "      <th></th>\n",
              "      <th></th>\n",
              "    </tr>\n",
              "  </thead>\n",
              "  <tbody>\n",
              "    <tr>\n",
              "      <th>1</th>\n",
              "      <td>0.0000</td>\n",
              "      <td>0.0002</td>\n",
              "      <td>0.0010</td>\n",
              "      <td>0.0039</td>\n",
              "      <td>0.0158</td>\n",
              "      <td>0.1015</td>\n",
              "      <td>0.4549</td>\n",
              "      <td>1.3233</td>\n",
              "      <td>2.7055</td>\n",
              "      <td>5.0239</td>\n",
              "      <td>3.8415</td>\n",
              "      <td>6.6349</td>\n",
              "      <td>7.8794</td>\n",
              "    </tr>\n",
              "    <tr>\n",
              "      <th>2</th>\n",
              "      <td>0.0100</td>\n",
              "      <td>0.0201</td>\n",
              "      <td>0.0506</td>\n",
              "      <td>0.1026</td>\n",
              "      <td>0.2107</td>\n",
              "      <td>0.5754</td>\n",
              "      <td>1.3863</td>\n",
              "      <td>2.7726</td>\n",
              "      <td>4.6052</td>\n",
              "      <td>7.3778</td>\n",
              "      <td>5.9915</td>\n",
              "      <td>9.2103</td>\n",
              "      <td>10.5966</td>\n",
              "    </tr>\n",
              "    <tr>\n",
              "      <th>3</th>\n",
              "      <td>0.0717</td>\n",
              "      <td>0.1148</td>\n",
              "      <td>0.2158</td>\n",
              "      <td>0.3518</td>\n",
              "      <td>0.5844</td>\n",
              "      <td>1.2125</td>\n",
              "      <td>2.3660</td>\n",
              "      <td>4.1083</td>\n",
              "      <td>6.2514</td>\n",
              "      <td>9.3484</td>\n",
              "      <td>7.8147</td>\n",
              "      <td>11.3449</td>\n",
              "      <td>12.8382</td>\n",
              "    </tr>\n",
              "  </tbody>\n",
              "</table>\n",
              "</div>"
            ],
            "text/plain": [
              "p                    0.005   0.010   0.025  ...   0.950    0.990    0.995\n",
              "Graus de Liberdade                          ...                          \n",
              "1                   0.0000  0.0002  0.0010  ...  3.8415   6.6349   7.8794\n",
              "2                   0.0100  0.0201  0.0506  ...  5.9915   9.2103  10.5966\n",
              "3                   0.0717  0.1148  0.2158  ...  7.8147  11.3449  12.8382\n",
              "\n",
              "[3 rows x 13 columns]"
            ]
          },
          "metadata": {
            "tags": []
          },
          "execution_count": 76
        }
      ]
    },
    {
      "cell_type": "markdown",
      "metadata": {
        "id": "0RRjHQm7psmF"
      },
      "source": [
        "### Obtendo $\\chi_{\\alpha}^2$"
      ]
    },
    {
      "cell_type": "code",
      "metadata": {
        "id": "6rXyih-lpsmH",
        "colab": {
          "base_uri": "https://localhost:8080/"
        },
        "outputId": "710be95a-41c1-4ec0-ad68-c7643bca0810"
      },
      "source": [
        "chi_2_alpha = chi.ppf(confianca, graus_de_liberdade) ** 2\n",
        "chi_2_alpha"
      ],
      "execution_count": 78,
      "outputs": [
        {
          "output_type": "execute_result",
          "data": {
            "text/plain": [
              "3.8414588206941245"
            ]
          },
          "metadata": {
            "tags": []
          },
          "execution_count": 78
        }
      ]
    },
    {
      "cell_type": "markdown",
      "metadata": {
        "id": "aHxm3ZCupsmJ"
      },
      "source": [
        "![Região de Aceitação](https://caelum-online-public.s3.amazonaws.com/1229-estatistica-parte3/01/img018.png)"
      ]
    },
    {
      "cell_type": "markdown",
      "metadata": {
        "id": "FxLr2OnDpsmJ"
      },
      "source": [
        "---"
      ]
    },
    {
      "cell_type": "markdown",
      "metadata": {
        "id": "JcUvBM5OpsmJ"
      },
      "source": [
        "### **Passo 3** - cálculo da estatística-teste e verificação desse valor com as áreas de aceitação e rejeição do teste\n",
        "\n",
        "# $$\\chi^2 = \\sum_{i=1}^{k}{\\frac{(F_{i}^{Obs} - F_{i}^{Esp})^2}{F_{i}^{Esp}}}$$\n",
        "\n",
        "Onde\n",
        "\n",
        "$F_{i}^{Obs}$ = frequência observada para o evento $i$\n",
        "\n",
        "$F_{i}^{Esp}$ = frequência esperada para o evento $i$\n",
        "\n",
        "$k$ = total de eventos possíveis"
      ]
    },
    {
      "cell_type": "code",
      "metadata": {
        "id": "2b32Y6HiuT-u",
        "colab": {
          "base_uri": "https://localhost:8080/"
        },
        "outputId": "8d5afc6f-f7ca-422e-8795-77b2a1eba52e"
      },
      "source": [
        "chi_2 = ((F_Observada[0] - F_Esperada[0]) ** 2 / F_Esperada[0]) + ((F_Observada[1] - F_Esperada[1]) ** 2 / F_Esperada[1])\n",
        "chi_2"
      ],
      "execution_count": 79,
      "outputs": [
        {
          "output_type": "execute_result",
          "data": {
            "text/plain": [
              "5.12"
            ]
          },
          "metadata": {
            "tags": []
          },
          "execution_count": 79
        }
      ]
    },
    {
      "cell_type": "code",
      "metadata": {
        "id": "7eL97ts8psmJ",
        "colab": {
          "base_uri": "https://localhost:8080/"
        },
        "outputId": "2cb71d54-ca4e-4fa4-d33a-51c7c1e31177"
      },
      "source": [
        "chi_2 = 0\n",
        "\n",
        "for i in range(k):\n",
        "  chi_2 += (F_Observada[i] - F_Esperada[i]) ** 2 / F_Esperada[i]\n",
        "\n",
        "chi_2"
      ],
      "execution_count": 80,
      "outputs": [
        {
          "output_type": "execute_result",
          "data": {
            "text/plain": [
              "5.12"
            ]
          },
          "metadata": {
            "tags": []
          },
          "execution_count": 80
        }
      ]
    },
    {
      "cell_type": "markdown",
      "metadata": {
        "id": "gdwiYn6ZpsmK"
      },
      "source": [
        "![Estatística-Teste](https://caelum-online-public.s3.amazonaws.com/1229-estatistica-parte3/01/img019.png)"
      ]
    },
    {
      "cell_type": "markdown",
      "metadata": {
        "id": "7v6msKABpsmK"
      },
      "source": [
        "---"
      ]
    },
    {
      "cell_type": "markdown",
      "metadata": {
        "id": "PHLhbZ3IpsmK"
      },
      "source": [
        "### **Passo 4** - Aceitação ou rejeição da hipótese nula"
      ]
    },
    {
      "cell_type": "markdown",
      "metadata": {
        "id": "tiQ0gAMGpsmL"
      },
      "source": [
        "<img src='https://caelum-online-public.s3.amazonaws.com/1229-estatistica-parte3/01/img020.png' width=80%>"
      ]
    },
    {
      "cell_type": "markdown",
      "metadata": {
        "id": "lhFLib7-psmM"
      },
      "source": [
        "### <font color='red'>Critério do valor crítico</font>\n",
        "\n",
        "> ### Rejeitar $H_0$ se $\\chi_{teste}^2 > \\chi_{\\alpha}^2$"
      ]
    },
    {
      "cell_type": "code",
      "metadata": {
        "id": "HSOhw7E7psmM"
      },
      "source": [
        ""
      ],
      "execution_count": 59,
      "outputs": []
    },
    {
      "cell_type": "markdown",
      "metadata": {
        "id": "hvHTGAOepsmN"
      },
      "source": [
        "### <font color='green'>Conclusão: Com um nível de confiança de 95% rejeitamos a hipótese nula ($H_0$) e concluímos que as frequências observadas e esperadas são discrepantes, ou seja, a moeda não é honesta e precisa ser substituída.</font>"
      ]
    },
    {
      "cell_type": "markdown",
      "metadata": {
        "id": "VcqxUxnopsmN"
      },
      "source": [
        "### <font color='red'>Critério do valor $p$</font>\n",
        "\n",
        "> ### Rejeitar $H_0$ se o valor $p\\leq\\alpha$"
      ]
    },
    {
      "cell_type": "code",
      "metadata": {
        "id": "fP8w-6MZpsmO"
      },
      "source": [
        ""
      ],
      "execution_count": 59,
      "outputs": []
    },
    {
      "cell_type": "code",
      "metadata": {
        "id": "LWCqrM2rpsmP"
      },
      "source": [
        ""
      ],
      "execution_count": 59,
      "outputs": []
    },
    {
      "cell_type": "code",
      "metadata": {
        "id": "uFG6yszWpsmQ"
      },
      "source": [
        ""
      ],
      "execution_count": 59,
      "outputs": []
    },
    {
      "cell_type": "markdown",
      "metadata": {
        "id": "WpvavOAVpsmR"
      },
      "source": [
        "https://docs.scipy.org/doc/scipy/reference/generated/scipy.stats.chisquare.html"
      ]
    },
    {
      "cell_type": "code",
      "metadata": {
        "id": "Jc1RkAn6psmR"
      },
      "source": [
        ""
      ],
      "execution_count": 59,
      "outputs": []
    },
    {
      "cell_type": "code",
      "metadata": {
        "id": "jjiIlObspsmR"
      },
      "source": [
        ""
      ],
      "execution_count": 59,
      "outputs": []
    },
    {
      "cell_type": "code",
      "metadata": {
        "id": "reKBubKWpsmT"
      },
      "source": [
        ""
      ],
      "execution_count": 59,
      "outputs": []
    },
    {
      "cell_type": "markdown",
      "metadata": {
        "id": "WlHU5fNNpsmU"
      },
      "source": [
        "---"
      ]
    },
    {
      "cell_type": "markdown",
      "metadata": {
        "id": "PUXdBJ9FpsmU"
      },
      "source": [
        "## <font color='red'>Problema</font>"
      ]
    },
    {
      "cell_type": "markdown",
      "metadata": {
        "id": "DXvJ2JnKpsmU"
      },
      "source": [
        "Um novo tratamento para acabar com o hábito de fumar está sendo empregado em um grupo de **35 pacientes** voluntários. De cada paciente testado foram obtidas as informações de quantidades de cigarros consumidos por dia antes e depois do término do tratamento. Assumindo um **nível de confiança de 95%** é possível concluir que, depois da aplicação do novo tratamento, houve uma mudança no hábito de fumar do grupo de pacientes testado?"
      ]
    },
    {
      "cell_type": "markdown",
      "metadata": {
        "id": "BqE_PN7IpsmU"
      },
      "source": [
        "## <font color=green>4.2 Teste Wilcoxon</font>\n",
        "### Comparação de duas populações - amostras dependentes\n",
        "***"
      ]
    },
    {
      "cell_type": "markdown",
      "metadata": {
        "id": "1MxFBYB-psmU"
      },
      "source": [
        "Empregado quando se deseja comparar duas amostras relacionadas, amostras emparelhadas. Pode ser aplicado quando se deseja testar a diferença de duas condições, isto é, quando um mesmo elemento é submetido a duas medidas."
      ]
    },
    {
      "cell_type": "markdown",
      "metadata": {
        "id": "3H67Y7P7psmV"
      },
      "source": [
        "### Dados do problema"
      ]
    },
    {
      "cell_type": "code",
      "metadata": {
        "id": "JBh5-HrnpsmV"
      },
      "source": [
        ""
      ],
      "execution_count": 59,
      "outputs": []
    },
    {
      "cell_type": "code",
      "metadata": {
        "id": "AfEGWBp1psmW",
        "scrolled": true
      },
      "source": [
        ""
      ],
      "execution_count": 59,
      "outputs": []
    },
    {
      "cell_type": "code",
      "metadata": {
        "id": "oNQvLLR8psmX"
      },
      "source": [
        ""
      ],
      "execution_count": 59,
      "outputs": []
    },
    {
      "cell_type": "code",
      "metadata": {
        "id": "wOgIYP0upsmZ"
      },
      "source": [
        ""
      ],
      "execution_count": 59,
      "outputs": []
    },
    {
      "cell_type": "markdown",
      "metadata": {
        "id": "gvnOmelVpsma"
      },
      "source": [
        "### **Passo 1** - formulação das hipóteses $H_0$ e $H_1$\n",
        "\n",
        "#### <font color='red'>Lembre-se, a hipótese nula sempre contém a alegação de igualdade</font>"
      ]
    },
    {
      "cell_type": "markdown",
      "metadata": {
        "id": "1AXOiD_epsma"
      },
      "source": [
        "### $H_0: \\mu_{antes} = \\mu_{depois}$\n",
        "\n",
        "### $H_1: \\mu_{antes} > \\mu_{depois}$"
      ]
    },
    {
      "cell_type": "markdown",
      "metadata": {
        "id": "degUD6b2psmb"
      },
      "source": [
        "---"
      ]
    },
    {
      "cell_type": "markdown",
      "metadata": {
        "id": "3jrV_c2Opsmb"
      },
      "source": [
        "### **Passo 2** - escolha da distribuição amostral adequada"
      ]
    },
    {
      "cell_type": "markdown",
      "metadata": {
        "id": "vF-9xAPzpsmc"
      },
      "source": [
        "### O tamanho da amostra é maior que 20?\n",
        "#### Resp.: Sim"
      ]
    },
    {
      "cell_type": "markdown",
      "metadata": {
        "id": "tvxXutrGpsmc"
      },
      "source": [
        "---"
      ]
    },
    {
      "cell_type": "markdown",
      "metadata": {
        "id": "aihd76Wkpsmc"
      },
      "source": [
        "### **Passo 3** - fixação da significância do teste ($\\alpha$)"
      ]
    },
    {
      "cell_type": "markdown",
      "metadata": {
        "id": "XF6AA8qLpsmc"
      },
      "source": [
        "### Obtendo $z_{\\alpha/2}$"
      ]
    },
    {
      "cell_type": "code",
      "metadata": {
        "id": "UsRrnCnXpsmd"
      },
      "source": [
        ""
      ],
      "execution_count": 59,
      "outputs": []
    },
    {
      "cell_type": "code",
      "metadata": {
        "id": "PTmwCAq9psme"
      },
      "source": [
        ""
      ],
      "execution_count": 59,
      "outputs": []
    },
    {
      "cell_type": "markdown",
      "metadata": {
        "id": "S2dqQHQJpsmf"
      },
      "source": [
        "![Região de Aceitação](https://caelum-online-public.s3.amazonaws.com/1229-estatistica-parte3/01/img006.png)"
      ]
    },
    {
      "cell_type": "markdown",
      "metadata": {
        "id": "z0iEZ685psmf"
      },
      "source": [
        "---"
      ]
    },
    {
      "cell_type": "markdown",
      "metadata": {
        "id": "zpYLf-dZpsmg"
      },
      "source": [
        "### **Passo 4** - cálculo da estatística-teste e verificação desse valor com as áreas de aceitação e rejeição do teste\n",
        "\n",
        "# $$Z = \\frac{T - \\mu_T}{\\sigma_T}$$\n",
        "\n",
        "Onde\n",
        "\n",
        "## $T$ = menor das somas de postos de mesmo sinal\n",
        "\n",
        "# $$\\mu_T = \\frac{n(n+1)}{4}$$\n",
        "# $$\\sigma_T = \\sqrt{\\frac{n(n + 1)(2n + 1)}{24}}$$"
      ]
    },
    {
      "cell_type": "markdown",
      "metadata": {
        "id": "ZTY9IuIIpsmg"
      },
      "source": [
        "### Construindo a tabela com os postos"
      ]
    },
    {
      "cell_type": "code",
      "metadata": {
        "id": "o0fp6m3iqIlu"
      },
      "source": [
        ""
      ],
      "execution_count": 59,
      "outputs": []
    },
    {
      "cell_type": "code",
      "metadata": {
        "id": "T4KmZijZotWj"
      },
      "source": [
        ""
      ],
      "execution_count": 59,
      "outputs": []
    },
    {
      "cell_type": "code",
      "metadata": {
        "id": "c4fvYVrdotTL"
      },
      "source": [
        ""
      ],
      "execution_count": 59,
      "outputs": []
    },
    {
      "cell_type": "code",
      "metadata": {
        "id": "hwqK3Uu7otP7"
      },
      "source": [
        ""
      ],
      "execution_count": 59,
      "outputs": []
    },
    {
      "cell_type": "code",
      "metadata": {
        "id": "K_JKSwLHotMx"
      },
      "source": [
        ""
      ],
      "execution_count": 59,
      "outputs": []
    },
    {
      "cell_type": "code",
      "metadata": {
        "id": "h8TXHLh1otJh"
      },
      "source": [
        ""
      ],
      "execution_count": 59,
      "outputs": []
    },
    {
      "cell_type": "code",
      "metadata": {
        "id": "fjX9_aRIotGD"
      },
      "source": [
        ""
      ],
      "execution_count": 59,
      "outputs": []
    },
    {
      "cell_type": "code",
      "metadata": {
        "id": "uk79v15dotCn"
      },
      "source": [
        ""
      ],
      "execution_count": 59,
      "outputs": []
    },
    {
      "cell_type": "code",
      "metadata": {
        "id": "qCdc7pGgos_T"
      },
      "source": [
        ""
      ],
      "execution_count": 59,
      "outputs": []
    },
    {
      "cell_type": "code",
      "metadata": {
        "id": "R2Nyk4E_os77"
      },
      "source": [
        ""
      ],
      "execution_count": 59,
      "outputs": []
    },
    {
      "cell_type": "code",
      "metadata": {
        "id": "PoL2W6c7os4d"
      },
      "source": [
        ""
      ],
      "execution_count": 59,
      "outputs": []
    },
    {
      "cell_type": "code",
      "metadata": {
        "id": "kIu3BKAwos0z"
      },
      "source": [
        ""
      ],
      "execution_count": 59,
      "outputs": []
    },
    {
      "cell_type": "markdown",
      "metadata": {
        "id": "QrhSJfAipsmh"
      },
      "source": [
        "### Obter $T$\n",
        "\n",
        "## $T$ = menor das somas de postos de mesmo sinal"
      ]
    },
    {
      "cell_type": "code",
      "metadata": {
        "id": "TTWy-3OQpsmh"
      },
      "source": [
        ""
      ],
      "execution_count": 59,
      "outputs": []
    },
    {
      "cell_type": "markdown",
      "metadata": {
        "id": "3y4Tn1y4psmi"
      },
      "source": [
        "### Obter $\\mu_T$\n",
        "\n",
        "# $$\\mu_T = \\frac{n(n+1)}{4}$$\n"
      ]
    },
    {
      "cell_type": "code",
      "metadata": {
        "id": "0KhV5ph6psmi"
      },
      "source": [
        ""
      ],
      "execution_count": 59,
      "outputs": []
    },
    {
      "cell_type": "markdown",
      "metadata": {
        "id": "ZqFb-m08psmj"
      },
      "source": [
        "### Obter $\\sigma_T$\n",
        "\n",
        "# $$\\sigma_T = \\sqrt{\\frac{n(n + 1)(2n + 1)}{24}}$$"
      ]
    },
    {
      "cell_type": "code",
      "metadata": {
        "id": "c6dypGFSpsmj"
      },
      "source": [
        ""
      ],
      "execution_count": 59,
      "outputs": []
    },
    {
      "cell_type": "markdown",
      "metadata": {
        "id": "qEk2CUKApsmk"
      },
      "source": [
        "### Obter $Z_{teste}$\n",
        "\n",
        "# $$Z = \\frac{T - \\mu_T}{\\sigma_T}$$"
      ]
    },
    {
      "cell_type": "code",
      "metadata": {
        "id": "KqPQgbBEpsmk"
      },
      "source": [
        ""
      ],
      "execution_count": 59,
      "outputs": []
    },
    {
      "cell_type": "markdown",
      "metadata": {
        "id": "iMpU26IZpsmm"
      },
      "source": [
        "![Estatística-Teste](https://caelum-online-public.s3.amazonaws.com/1229-estatistica-parte3/01/img021.png)"
      ]
    },
    {
      "cell_type": "markdown",
      "metadata": {
        "id": "XFgoaLzSpsmm"
      },
      "source": [
        "---"
      ]
    },
    {
      "cell_type": "markdown",
      "metadata": {
        "id": "YYGhG-lSpsmm"
      },
      "source": [
        "### **Passo 5** - Aceitação ou rejeição da hipótese nula"
      ]
    },
    {
      "cell_type": "markdown",
      "metadata": {
        "id": "pDOdx-Vqpsmm"
      },
      "source": [
        "<img src='https://caelum-online-public.s3.amazonaws.com/1229-estatistica-parte3/01/img022.png' width='80%'>"
      ]
    },
    {
      "cell_type": "markdown",
      "metadata": {
        "id": "ODKOD-rkpsmm"
      },
      "source": [
        "### <font color='red'>Critério do valor crítico</font>\n",
        "\n",
        "> ### Rejeitar $H_0$ se $Z \\leq -z_{\\alpha / 2}$ ou se $Z \\geq z_{\\alpha / 2}$"
      ]
    },
    {
      "cell_type": "code",
      "metadata": {
        "id": "Gmp8dB6Apsmm"
      },
      "source": [
        ""
      ],
      "execution_count": 59,
      "outputs": []
    },
    {
      "cell_type": "code",
      "metadata": {
        "id": "E9jxoexkpsmn"
      },
      "source": [
        ""
      ],
      "execution_count": 59,
      "outputs": []
    },
    {
      "cell_type": "markdown",
      "metadata": {
        "id": "n0gtzn53psmo"
      },
      "source": [
        "### <font color='green'>Conclusão: Rejeitamos a hipótese de que não existe diferença entre os grupos, isto é, existe uma diferença entre as médias de cigarros fumados pelos pacientes antes e depois do tratamento. E como é possível verificar através das médias de cigarros fumados por dia antes (31.86) e depois (11.2) do tratamento, podemos concluir que o tratamento apresentou resultado satisfatório.</font>"
      ]
    },
    {
      "cell_type": "markdown",
      "metadata": {
        "id": "8bP36mQ-psmp"
      },
      "source": [
        "### <font color='red'>Critério do valor $p$</font>\n",
        "\n",
        "> ### Rejeitar $H_0$ se o valor $p\\leq\\alpha$"
      ]
    },
    {
      "cell_type": "markdown",
      "metadata": {
        "id": "H8kFeqh1psmp"
      },
      "source": [
        "https://docs.scipy.org/doc/scipy/reference/generated/scipy.stats.wilcoxon.html"
      ]
    },
    {
      "cell_type": "code",
      "metadata": {
        "id": "bgWrxnBmpsmp"
      },
      "source": [
        ""
      ],
      "execution_count": 59,
      "outputs": []
    },
    {
      "cell_type": "code",
      "metadata": {
        "id": "PsdWRoHCpsmp"
      },
      "source": [
        ""
      ],
      "execution_count": 59,
      "outputs": []
    },
    {
      "cell_type": "code",
      "metadata": {
        "id": "Qk13I21vpsmq",
        "scrolled": true
      },
      "source": [
        ""
      ],
      "execution_count": 59,
      "outputs": []
    },
    {
      "cell_type": "markdown",
      "metadata": {
        "id": "ZGNui18Xpsms"
      },
      "source": [
        "---"
      ]
    },
    {
      "cell_type": "markdown",
      "metadata": {
        "id": "sIs_74V5psms"
      },
      "source": [
        "## <font color='red'>Problema</font>"
      ]
    },
    {
      "cell_type": "markdown",
      "metadata": {
        "id": "Rk4GknKUpsms"
      },
      "source": [
        "Em nosso dataset temos os rendimento dos chefes de domicílio obtidos da Pesquisa Nacional por Amostra de Domicílios - PNAD no ano de 2015. Um problema bastante conhecido em nosso país diz respeito a desigualdade de renda, principalmente entre homens e mulheres.\n",
        "\n",
        "Duas amostras aleatórias, uma de **6 homens** e outra com **8 mulheres**, foram selecionadas em nosso dataset. Com o objetivo de comprovar tal desigualdade **teste a igualdade das médias** entra estas duas amostras com um nível de **significância de 5%**."
      ]
    },
    {
      "cell_type": "markdown",
      "metadata": {
        "id": "iHBuQumppsmt"
      },
      "source": [
        "## <font color=green>4.3 Teste de Mann-Whitney</font>\n",
        "### Comparação de duas populações - amostras independentes\n",
        "***"
      ]
    },
    {
      "cell_type": "markdown",
      "metadata": {
        "id": "bDyY8UUPpsmt"
      },
      "source": [
        "Mann-Whitney é um teste não paramétrico utilizado para verificar se duas amostras independentes foram selecionadas a partir de populações que têm a mesma média. Por ser um teste não paramétrico, Mann-Whitney torna-se uma alternativa ao teste paramétrico de comparação de médias."
      ]
    },
    {
      "cell_type": "markdown",
      "metadata": {
        "id": "DjWTAICFpsmt"
      },
      "source": [
        "### Seleção das amostras"
      ]
    },
    {
      "cell_type": "code",
      "metadata": {
        "id": "k_MCXHjIpsmt",
        "scrolled": true
      },
      "source": [
        ""
      ],
      "execution_count": 59,
      "outputs": []
    },
    {
      "cell_type": "code",
      "metadata": {
        "id": "whXUtsKLpsmu",
        "scrolled": true
      },
      "source": [
        ""
      ],
      "execution_count": 59,
      "outputs": []
    },
    {
      "cell_type": "markdown",
      "metadata": {
        "id": "HvQY_Wwjpsmx"
      },
      "source": [
        "### Dados do problema"
      ]
    },
    {
      "cell_type": "code",
      "metadata": {
        "id": "3fz8oLQspsmx"
      },
      "source": [
        ""
      ],
      "execution_count": 59,
      "outputs": []
    },
    {
      "cell_type": "code",
      "metadata": {
        "id": "qJa9ykpJpsmz"
      },
      "source": [
        ""
      ],
      "execution_count": 59,
      "outputs": []
    },
    {
      "cell_type": "code",
      "metadata": {
        "id": "9_cFuYzJpsm1"
      },
      "source": [
        ""
      ],
      "execution_count": 59,
      "outputs": []
    },
    {
      "cell_type": "markdown",
      "metadata": {
        "id": "rnHNRcb5psm1"
      },
      "source": [
        "### **Passo 1** - formulação das hipóteses $H_0$ e $H_1$\n",
        "\n",
        "#### <font color='red'>Lembre-se, a hipótese nula sempre contém a alegação de igualdade</font>"
      ]
    },
    {
      "cell_type": "markdown",
      "metadata": {
        "id": "F-q66nqDpsm2"
      },
      "source": [
        "### $\\mu_m \\Rightarrow$ Média das rendas dos chefes de domicílios do sexo feminino\n",
        "### $\\mu_h \\Rightarrow$ Média das rendas dos chefes de domicílios do sexo masculino\n",
        "\n",
        "### $\n",
        "\\begin{cases}\n",
        "H_0: \\mu_m = \\mu_h\\\\\n",
        "H_1: \\mu_m < \\mu_h\n",
        "\\end{cases}\n",
        "$"
      ]
    },
    {
      "cell_type": "markdown",
      "metadata": {
        "id": "-A8XaMDnpsm3"
      },
      "source": [
        "---"
      ]
    },
    {
      "cell_type": "markdown",
      "metadata": {
        "id": "VhpHwyi3psm3"
      },
      "source": [
        "### **Passo 2** - escolha da distribuição amostral adequada"
      ]
    },
    {
      "cell_type": "markdown",
      "metadata": {
        "id": "hh2UhSRApsm4"
      },
      "source": [
        "Deve-se optar pela distribuição **$t$ de Student**, já que nada é mencionado sobre a distribuição da população, o desvio padrão populacional é desconhecido e o número de elementos investigados é menor que 30."
      ]
    },
    {
      "cell_type": "markdown",
      "metadata": {
        "id": "PP_3zdrWpsm4"
      },
      "source": [
        "---"
      ]
    },
    {
      "cell_type": "markdown",
      "metadata": {
        "id": "RALoS1ddpsm4"
      },
      "source": [
        "### **Passo 3** - fixação da significância do teste ($\\alpha$)"
      ]
    },
    {
      "cell_type": "markdown",
      "metadata": {
        "id": "0Ohhw-i5psm4"
      },
      "source": [
        "### Obtendo $t_{\\alpha}$"
      ]
    },
    {
      "cell_type": "code",
      "metadata": {
        "id": "oVNraTWypsm4"
      },
      "source": [
        ""
      ],
      "execution_count": 59,
      "outputs": []
    },
    {
      "cell_type": "code",
      "metadata": {
        "id": "px40muD3psm6",
        "scrolled": true
      },
      "source": [
        ""
      ],
      "execution_count": 59,
      "outputs": []
    },
    {
      "cell_type": "code",
      "metadata": {
        "id": "5iCApoGNpsm7"
      },
      "source": [
        ""
      ],
      "execution_count": 59,
      "outputs": []
    },
    {
      "cell_type": "markdown",
      "metadata": {
        "id": "Hv5Wk8G0psm7"
      },
      "source": [
        "![Região de Aceitação](https://caelum-online-public.s3.amazonaws.com/1229-estatistica-parte3/01/img023.png)"
      ]
    },
    {
      "cell_type": "markdown",
      "metadata": {
        "id": "qF2QVjmtpsm7"
      },
      "source": [
        "---"
      ]
    },
    {
      "cell_type": "markdown",
      "metadata": {
        "id": "mD62Ibrupsm8"
      },
      "source": [
        "### **Passo 4** - cálculo da estatística-teste e verificação desse valor com as áreas de aceitação e rejeição do teste\n",
        "## 1. Definir os n's:\n",
        "### $n_1$ = nº de elementos do menor grupo\n",
        "### $n_2$ = nº de elementos do maior grupo\n",
        "---\n",
        "## 2. Obter a soma dos postos\n",
        "### $R_1$ = soma dos postos do grupo $n_1$\n",
        "### $R_2$ = soma dos postos do grupo $n_2$\n",
        "---\n",
        "## 3. Obter as estatísticas\n",
        "# $$u_1 = n_1 \\times n_2 + \\frac{n_1 \\times (n_1 + 1)}{2} - R_1$$\n",
        "# $$u_2 = n_1 \\times n_2 + \\frac{n_2 \\times (n_2 + 1)}{2} - R_2$$\n",
        "---\n",
        "## 4. Selecionar o menor U\n",
        "# $$u = min(u_1, u_2)$$\n",
        "---\n",
        "## 5. Obter a estatística de teste\n",
        "# $$Z = \\frac{u - \\mu{(u)}}{\\sigma{(u)}}$$\n",
        "\n",
        "Onde\n",
        "\n",
        "# $$\\mu{(u)} = \\frac{n_1 \\times n_2}{2}$$\n",
        "# $$\\sigma{(u)} = \\sqrt{\\frac{n_1 \\times n_2 \\times (n_1 + n_2 + 1)}{12}}$$"
      ]
    },
    {
      "cell_type": "markdown",
      "metadata": {
        "id": "DsVNwKjOpsm8"
      },
      "source": [
        "### Obtendo os postos"
      ]
    },
    {
      "cell_type": "code",
      "metadata": {
        "id": "mjUNCgykpsm8"
      },
      "source": [
        ""
      ],
      "execution_count": 59,
      "outputs": []
    },
    {
      "cell_type": "code",
      "metadata": {
        "id": "y68IGk4o8mgB"
      },
      "source": [
        ""
      ],
      "execution_count": 59,
      "outputs": []
    },
    {
      "cell_type": "code",
      "metadata": {
        "id": "HFVjaj4f8mOi"
      },
      "source": [
        ""
      ],
      "execution_count": 59,
      "outputs": []
    },
    {
      "cell_type": "code",
      "metadata": {
        "id": "cpN2H9kFpsm-"
      },
      "source": [
        ""
      ],
      "execution_count": 59,
      "outputs": []
    },
    {
      "cell_type": "code",
      "metadata": {
        "id": "YCT6KsRS8-by"
      },
      "source": [
        ""
      ],
      "execution_count": 59,
      "outputs": []
    },
    {
      "cell_type": "code",
      "metadata": {
        "id": "tEuMTSSU8-OE"
      },
      "source": [
        ""
      ],
      "execution_count": 59,
      "outputs": []
    },
    {
      "cell_type": "code",
      "metadata": {
        "id": "S9rtsrl88-LB"
      },
      "source": [
        ""
      ],
      "execution_count": 59,
      "outputs": []
    },
    {
      "cell_type": "code",
      "metadata": {
        "id": "w0sqa3j-8-H6"
      },
      "source": [
        ""
      ],
      "execution_count": 59,
      "outputs": []
    },
    {
      "cell_type": "code",
      "metadata": {
        "id": "K4Qn49E78-Ed"
      },
      "source": [
        ""
      ],
      "execution_count": 59,
      "outputs": []
    },
    {
      "cell_type": "markdown",
      "metadata": {
        "id": "LFcpe4l_psm-"
      },
      "source": [
        "### Obtendo $R$\n",
        "\n",
        "### $R_1$ = soma dos postos do grupo $n_1$\n",
        "### $R_2$ = soma dos postos do grupo $n_2$"
      ]
    },
    {
      "cell_type": "code",
      "metadata": {
        "id": "Y3OnPJ7_psm_"
      },
      "source": [
        ""
      ],
      "execution_count": 59,
      "outputs": []
    },
    {
      "cell_type": "code",
      "metadata": {
        "id": "mkbp_OgepsnA"
      },
      "source": [
        ""
      ],
      "execution_count": 59,
      "outputs": []
    },
    {
      "cell_type": "code",
      "metadata": {
        "id": "zZuZTlp0psnB"
      },
      "source": [
        ""
      ],
      "execution_count": 59,
      "outputs": []
    },
    {
      "cell_type": "markdown",
      "metadata": {
        "id": "VheEyfc8psnC"
      },
      "source": [
        "### Obter $u$\n",
        "\n",
        "# $$u_1 = n_1 \\times n_2 + \\frac{n_1 \\times (n_1 + 1)}{2} - R_1$$\n",
        "# $$u_2 = n_1 \\times n_2 + \\frac{n_2 \\times (n_2 + 1)}{2} - R_2$$\n",
        "\n",
        "# $$u = min(u_1, u_2)$$\n"
      ]
    },
    {
      "cell_type": "code",
      "metadata": {
        "id": "zUr2AlPcpsnC"
      },
      "source": [
        ""
      ],
      "execution_count": 59,
      "outputs": []
    },
    {
      "cell_type": "code",
      "metadata": {
        "id": "rFYBYtf9psnE"
      },
      "source": [
        ""
      ],
      "execution_count": 59,
      "outputs": []
    },
    {
      "cell_type": "code",
      "metadata": {
        "id": "2TodtD_jpsnF"
      },
      "source": [
        ""
      ],
      "execution_count": 59,
      "outputs": []
    },
    {
      "cell_type": "markdown",
      "metadata": {
        "id": "v9JqAVXTpsnH"
      },
      "source": [
        "### Obter $\\mu{(u)}$\n",
        "\n",
        "# $$\\mu{(u)} = \\frac{n_1 \\times n_2}{2}$$"
      ]
    },
    {
      "cell_type": "code",
      "metadata": {
        "id": "ANX33u8upsnH"
      },
      "source": [
        ""
      ],
      "execution_count": 59,
      "outputs": []
    },
    {
      "cell_type": "markdown",
      "metadata": {
        "id": "mAEF6gUVpsnI"
      },
      "source": [
        "### Obter $\\sigma{(u)}$\n",
        "\n",
        "# $$\\sigma{(u)} = \\sqrt{\\frac{n_1 \\times n_2 \\times (n_1 + n_2 + 1)}{12}}$$"
      ]
    },
    {
      "cell_type": "code",
      "metadata": {
        "id": "fyoNElj2psnI"
      },
      "source": [
        ""
      ],
      "execution_count": 59,
      "outputs": []
    },
    {
      "cell_type": "markdown",
      "metadata": {
        "id": "T_s3WFVtpsnI"
      },
      "source": [
        "### Obter $Z$\n",
        "\n",
        "# $$Z = \\frac{u - \\mu{(u)}}{\\sigma{(u)}}$$"
      ]
    },
    {
      "cell_type": "code",
      "metadata": {
        "id": "YwySSfs1psnJ"
      },
      "source": [
        ""
      ],
      "execution_count": 59,
      "outputs": []
    },
    {
      "cell_type": "markdown",
      "metadata": {
        "id": "ET0XFyyTpsnJ"
      },
      "source": [
        "![Estatística-Teste](https://caelum-online-public.s3.amazonaws.com/1229-estatistica-parte3/01/img024.png)"
      ]
    },
    {
      "cell_type": "markdown",
      "metadata": {
        "id": "qSMrqg9lpsnJ"
      },
      "source": [
        "---"
      ]
    },
    {
      "cell_type": "markdown",
      "metadata": {
        "id": "04hb7sbUpsnK"
      },
      "source": [
        "### **Passo 5** - Aceitação ou rejeição da hipótese nula"
      ]
    },
    {
      "cell_type": "markdown",
      "metadata": {
        "id": "u_jtIZQYpsnK"
      },
      "source": [
        "<img src='https://caelum-online-public.s3.amazonaws.com/1229-estatistica-parte3/01/img025.png' width='80%'>"
      ]
    },
    {
      "cell_type": "markdown",
      "metadata": {
        "id": "tKXPtt7ypsnK"
      },
      "source": [
        "### <font color='red'>Critério do valor crítico</font>\n",
        "\n",
        "> ### Rejeitar $H_0$ se $Z \\leq -t_{\\alpha}$"
      ]
    },
    {
      "cell_type": "code",
      "metadata": {
        "id": "YUnoj7r5psnK"
      },
      "source": [
        ""
      ],
      "execution_count": 59,
      "outputs": []
    },
    {
      "cell_type": "markdown",
      "metadata": {
        "id": "2vh3CcxgpsnM"
      },
      "source": [
        "### <font color='green'>Conclusão: Rejeitamos a hipótese de que não existe diferença entre os grupos, isto é, concluímos que a média das rendas dos chefes de domicílios do sexo feminino é menor que a média das rendas dos chefes de domicílios do sexo masculino. Confirmando a alegação de desigualdade de renda entre os sexos.</font>"
      ]
    },
    {
      "cell_type": "markdown",
      "metadata": {
        "id": "EJiw3TwCpsnM"
      },
      "source": [
        "### <font color='red'>Critério do valor $p$</font>\n",
        "\n",
        "> ### Rejeitar $H_0$ se o valor $p\\leq\\alpha$"
      ]
    },
    {
      "cell_type": "markdown",
      "metadata": {
        "id": "U__FbtXEpsnM"
      },
      "source": [
        "https://docs.scipy.org/doc/scipy/reference/generated/scipy.stats.mannwhitneyu.html"
      ]
    },
    {
      "cell_type": "code",
      "metadata": {
        "id": "b21fe4hQpsnM"
      },
      "source": [
        ""
      ],
      "execution_count": 59,
      "outputs": []
    },
    {
      "cell_type": "code",
      "metadata": {
        "id": "xBG8n1qPpsnN"
      },
      "source": [
        ""
      ],
      "execution_count": 59,
      "outputs": []
    },
    {
      "cell_type": "code",
      "metadata": {
        "id": "DIo9w6wNpsnO"
      },
      "source": [
        ""
      ],
      "execution_count": 59,
      "outputs": []
    },
    {
      "cell_type": "markdown",
      "metadata": {
        "id": "aydvymEdpsnO"
      },
      "source": [
        "---"
      ]
    }
  ]
}