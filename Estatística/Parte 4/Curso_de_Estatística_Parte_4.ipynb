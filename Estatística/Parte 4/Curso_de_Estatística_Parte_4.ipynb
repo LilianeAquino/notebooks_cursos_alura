{
  "nbformat": 4,
  "nbformat_minor": 0,
  "metadata": {
    "colab": {
      "name": "Curso_de_Estatística_Parte_4.ipynb",
      "provenance": [],
      "collapsed_sections": [
        "z66qdhEPcakB",
        "Q5Z7pL4ncakB",
        "zgSmQYrHcakb",
        "OgecrWGdcakf",
        "T0nLJKtLcak8",
        "bIhWKDuK75k2",
        "lzD2VpXccak9",
        "yOR8pKHkcak9",
        "bIsppET0cak-",
        "HTFJyCNCcalE",
        "2R8QzULvcalF",
        "dpWo8F-fcalI",
        "ZOrXXyygcalJ",
        "ls1COzpxcalN",
        "UsCtTk3pcalP",
        "EX-oAn2rcalU",
        "v4QCFagscalW",
        "SjcncMd1calY",
        "Ud6O4f-qcalY",
        "OZs1ykL_calh",
        "pyVnbv7vcali",
        "POcFkp72calp",
        "Je8U449lcalq",
        "qNpJclcrcalr",
        "hRRoxxAwcals",
        "OZBs0luwcalv",
        "3P0ZtB-Qcalz",
        "NfEjm65Gcal2",
        "2FUvXCAW75mL",
        "7mFDWvhFcal7",
        "72hPAKNKcamD",
        "d3X2NkIicamv",
        "R5QuIfRCoT_W",
        "ciYucebH75mU",
        "2faHnARf75mW",
        "qzIqboEg75mY",
        "OMz_pGr375ma",
        "BwQR3YxTcam0",
        "ePVflM9mtd9Z",
        "imBNBULStd9a",
        "3xHqA9Gicam0",
        "hupnxGgFtd9g",
        "mr85iUdatd9q",
        "mEuMAudxtd9u",
        "ZXe59tB-td9w",
        "z9tmldlUtd9y",
        "Xb6DWLiTtd9z",
        "Sjj0cgC7td94",
        "lU747h33td97",
        "-Il6O2H6td98",
        "dW7cJcnQtd9_",
        "EP5tgnmttd-D",
        "fEAeu55gtd-E",
        "boZIhWUmtd-E",
        "gT3WGPkNtd-E",
        "OEzKwQYztd-K",
        "MpTZNPXgtd-S",
        "c60PkV_Std-U",
        "5ilwY6HQtd-d",
        "D52bUcYStd-g",
        "19Z7h_Jhtd-h",
        "C7GvNaJztd-j"
      ]
    },
    "kernelspec": {
      "display_name": "Python 3",
      "language": "python",
      "name": "python3"
    },
    "language_info": {
      "codemirror_mode": {
        "name": "ipython",
        "version": 3
      },
      "file_extension": ".py",
      "mimetype": "text/x-python",
      "name": "python",
      "nbconvert_exporter": "python",
      "pygments_lexer": "ipython3",
      "version": "3.6.5"
    }
  },
  "cells": [
    {
      "cell_type": "markdown",
      "metadata": {
        "id": "WvMflodMjQKe"
      },
      "source": [
        "# <font color=green size=10>CURSO DE ESTATÍSTICA - PARTE 4</font>\n",
        "***"
      ]
    },
    {
      "cell_type": "markdown",
      "metadata": {
        "id": "cVgsZ_E3jQKg"
      },
      "source": [
        "# <font color=green>1 CONHECENDO OS DADOS</font>\n",
        "***"
      ]
    },
    {
      "cell_type": "markdown",
      "metadata": {
        "id": "TDjqYYNojQKh"
      },
      "source": [
        "## <font color=green>1.1 Dataset do projeto</font>\n",
        "***"
      ]
    },
    {
      "cell_type": "markdown",
      "metadata": {
        "id": "iN1gIbaKjQKh"
      },
      "source": [
        "### Pesquisa Nacional por Amostra de Domicílios - 2015\n",
        "\n",
        "A <b>Pesquisa Nacional por Amostra de Domicílios - PNAD</b> investiga anualmente, de forma permanente, características gerais da população, de educação, trabalho, rendimento e habitação e outras, com periodicidade variável, de acordo com as necessidades de informação para o país, como as características sobre migração, fecundidade, nupcialidade, saúde, segurança alimentar, entre outros temas. O levantamento dessas estatísticas constitui, ao longo dos 49 anos de realização da pesquisa, um importante instrumento para formulação, validação e avaliação de políticas orientadas para o desenvolvimento socioeconômico e a melhoria das condições de vida no Brasil."
      ]
    },
    {
      "cell_type": "markdown",
      "metadata": {
        "id": "U6V7br1RjQKi"
      },
      "source": [
        "### Fonte dos Dados\n",
        "\n",
        "https://ww2.ibge.gov.br/home/estatistica/populacao/trabalhoerendimento/pnad2015/microdados.shtm"
      ]
    },
    {
      "cell_type": "markdown",
      "metadata": {
        "id": "r0Fe_qnzjQKj"
      },
      "source": [
        "### Variáveis utilizadas\n",
        "\n",
        "> ### Renda\n",
        "> ***\n",
        "\n",
        "Rendimento mensal do trabalho principal para pessoas de 10 anos ou mais de idade.\n",
        "\n",
        "> ### Idade\n",
        "> ***\n",
        "\n",
        "Idade do morador na data de referência em anos.\n",
        "\n",
        "> ### Altura (elaboração própria)\n",
        "> ***\n",
        "\n",
        "Altura do morador em metros.\n",
        "\n",
        "> ### UF\n",
        "> ***\n",
        "\n",
        "|Código|Descrição|\n",
        "|---|---|\n",
        "|11|Rondônia|\n",
        "|12|Acre|\n",
        "|13|Amazonas|\n",
        "|14|Roraima|\n",
        "|15|Pará|\n",
        "|16|Amapá|\n",
        "|17|Tocantins|\n",
        "|21|Maranhão|\n",
        "|22|Piauí|\n",
        "|23|Ceará|\n",
        "|24|Rio Grande do Norte|\n",
        "|25|Paraíba|\n",
        "|26|Pernambuco|\n",
        "|27|Alagoas|\n",
        "|28|Sergipe|\n",
        "|29|Bahia|\n",
        "|31|Minas Gerais|\n",
        "|32|Espírito Santo|\n",
        "|33|Rio de Janeiro|\n",
        "|35|São Paulo|\n",
        "|41|Paraná|\n",
        "|42|Santa Catarina|\n",
        "|43|Rio Grande do Sul|\n",
        "|50|Mato Grosso do Sul|\n",
        "|51|Mato Grosso|\n",
        "|52|Goiás|\n",
        "|53|Distrito Federal|\n",
        "\n",
        "> ### Sexo\t\n",
        "> ***\n",
        "\n",
        "|Código|Descrição|\n",
        "|---|---|\n",
        "|0|Masculino|\n",
        "|1|Feminino|\n",
        "\n",
        "> ### Anos de Estudo\n",
        "> ***\n",
        "\n",
        "|Código|Descrição|\n",
        "|---|---|\n",
        "|1|Sem instrução e menos de 1 ano|\n",
        "|2|1 ano|\n",
        "|3|2 anos|\n",
        "|4|3 anos|\n",
        "|5|4 anos|\n",
        "|6|5 anos|\n",
        "|7|6 anos|\n",
        "|8|7 anos|\n",
        "|9|8 anos|\n",
        "|10|9 anos|\n",
        "|11|10 anos|\n",
        "|12|11 anos|\n",
        "|13|12 anos|\n",
        "|14|13 anos|\n",
        "|15|14 anos|\n",
        "|16|15 anos ou mais|\n",
        "|17|Não determinados| \n",
        "||Não aplicável|\n",
        "\n",
        "> ### Cor\n",
        "> ***\n",
        "\n",
        "|Código|Descrição|\n",
        "|---|---|\n",
        "|0|Indígena|\n",
        "|2|Branca|\n",
        "|4|Preta|\n",
        "|6|Amarela|\n",
        "|8|Parda|\n",
        "|9|Sem declaração|"
      ]
    },
    {
      "cell_type": "markdown",
      "metadata": {
        "id": "OK1IQH5cX7Gb"
      },
      "source": [
        "#### <font color='red'>Observação</font>\n",
        "***\n",
        "> Os seguintes tratamentos foram realizados nos dados originais:\n",
        "> 1. Foram eliminados os registros onde a <b>Renda</b> era inválida (999 999 999 999);\n",
        "> 2. Foram eliminados os registros onde a <b>Renda</b> era missing;\n",
        "> 3. Foram considerados somente os registros das <b>Pessoas de Referência</b> de cada domicílio (responsável pelo domicílio)."
      ]
    },
    {
      "cell_type": "markdown",
      "metadata": {
        "id": "_mFnZ15pcmu1"
      },
      "source": [
        "### Solução do problema com dependência do statsmodels"
      ]
    },
    {
      "cell_type": "code",
      "metadata": {
        "id": "m5QYUoH4cnp1"
      },
      "source": [
        "# Retire o comentário da linha de código abaixo caso precise fazer a correção\n",
        "\n",
        "# !pip install scipy==1.2 --upgrade"
      ],
      "execution_count": 1,
      "outputs": []
    },
    {
      "cell_type": "markdown",
      "metadata": {
        "id": "MAO1aY6GcajB"
      },
      "source": [
        "### Importando bibliotecas\n",
        "\n",
        "https://pandas.pydata.org/\n",
        "\n",
        "https://www.numpy.org/\n",
        "\n",
        "https://seaborn.pydata.org/"
      ]
    },
    {
      "cell_type": "code",
      "metadata": {
        "id": "8QgOpE-wjQKl"
      },
      "source": [
        "import pandas as pd\n",
        "import numpy as np\n",
        "import seaborn as sns\n",
        "import matplotlib.pyplot as plt\n",
        "%matplotlib inline"
      ],
      "execution_count": 2,
      "outputs": []
    },
    {
      "cell_type": "code",
      "metadata": {
        "colab": {
          "base_uri": "https://localhost:8080/"
        },
        "id": "70FonYIk254j",
        "outputId": "80c61c33-766c-4a0c-b2a7-ea26f472f950"
      },
      "source": [
        "from google.colab import drive\n",
        "drive.mount('/content/drive')"
      ],
      "execution_count": 3,
      "outputs": [
        {
          "output_type": "stream",
          "text": [
            "Mounted at /content/drive\n"
          ],
          "name": "stdout"
        }
      ]
    },
    {
      "cell_type": "markdown",
      "metadata": {
        "id": "8Rw70V6ojQKk"
      },
      "source": [
        "### Lendo o dataset do projeto"
      ]
    },
    {
      "cell_type": "code",
      "metadata": {
        "id": "ufRZ7TLwjQKo"
      },
      "source": [
        "dados = pd.read_csv('/content/drive/MyDrive/Colab Notebooks/Alura/dados.csv')"
      ],
      "execution_count": 4,
      "outputs": []
    },
    {
      "cell_type": "code",
      "metadata": {
        "colab": {
          "base_uri": "https://localhost:8080/",
          "height": 195
        },
        "id": "GsC_WhLFjQKq",
        "scrolled": true,
        "outputId": "c2b9d405-e5a7-4028-b03d-de82d40ee42c"
      },
      "source": [
        "dados.head()"
      ],
      "execution_count": 5,
      "outputs": [
        {
          "output_type": "execute_result",
          "data": {
            "text/html": [
              "<div>\n",
              "<style scoped>\n",
              "    .dataframe tbody tr th:only-of-type {\n",
              "        vertical-align: middle;\n",
              "    }\n",
              "\n",
              "    .dataframe tbody tr th {\n",
              "        vertical-align: top;\n",
              "    }\n",
              "\n",
              "    .dataframe thead th {\n",
              "        text-align: right;\n",
              "    }\n",
              "</style>\n",
              "<table border=\"1\" class=\"dataframe\">\n",
              "  <thead>\n",
              "    <tr style=\"text-align: right;\">\n",
              "      <th></th>\n",
              "      <th>UF</th>\n",
              "      <th>Sexo</th>\n",
              "      <th>Idade</th>\n",
              "      <th>Cor</th>\n",
              "      <th>Anos de Estudo</th>\n",
              "      <th>Renda</th>\n",
              "      <th>Altura</th>\n",
              "    </tr>\n",
              "  </thead>\n",
              "  <tbody>\n",
              "    <tr>\n",
              "      <th>0</th>\n",
              "      <td>11</td>\n",
              "      <td>0</td>\n",
              "      <td>23</td>\n",
              "      <td>8</td>\n",
              "      <td>12</td>\n",
              "      <td>800</td>\n",
              "      <td>1.603808</td>\n",
              "    </tr>\n",
              "    <tr>\n",
              "      <th>1</th>\n",
              "      <td>11</td>\n",
              "      <td>1</td>\n",
              "      <td>23</td>\n",
              "      <td>2</td>\n",
              "      <td>12</td>\n",
              "      <td>1150</td>\n",
              "      <td>1.739790</td>\n",
              "    </tr>\n",
              "    <tr>\n",
              "      <th>2</th>\n",
              "      <td>11</td>\n",
              "      <td>1</td>\n",
              "      <td>35</td>\n",
              "      <td>8</td>\n",
              "      <td>15</td>\n",
              "      <td>880</td>\n",
              "      <td>1.760444</td>\n",
              "    </tr>\n",
              "    <tr>\n",
              "      <th>3</th>\n",
              "      <td>11</td>\n",
              "      <td>0</td>\n",
              "      <td>46</td>\n",
              "      <td>2</td>\n",
              "      <td>6</td>\n",
              "      <td>3500</td>\n",
              "      <td>1.783158</td>\n",
              "    </tr>\n",
              "    <tr>\n",
              "      <th>4</th>\n",
              "      <td>11</td>\n",
              "      <td>1</td>\n",
              "      <td>47</td>\n",
              "      <td>8</td>\n",
              "      <td>9</td>\n",
              "      <td>150</td>\n",
              "      <td>1.690631</td>\n",
              "    </tr>\n",
              "  </tbody>\n",
              "</table>\n",
              "</div>"
            ],
            "text/plain": [
              "   UF  Sexo  Idade  Cor  Anos de Estudo  Renda    Altura\n",
              "0  11     0     23    8              12    800  1.603808\n",
              "1  11     1     23    2              12   1150  1.739790\n",
              "2  11     1     35    8              15    880  1.760444\n",
              "3  11     0     46    2               6   3500  1.783158\n",
              "4  11     1     47    8               9    150  1.690631"
            ]
          },
          "metadata": {
            "tags": []
          },
          "execution_count": 5
        }
      ]
    },
    {
      "cell_type": "markdown",
      "metadata": {
        "id": "I8SZvx_GcajO"
      },
      "source": [
        "---"
      ]
    },
    {
      "cell_type": "markdown",
      "metadata": {
        "id": "dPTT675fcajP"
      },
      "source": [
        "# <font color=green>2 RODANDO UMA REGRESSÃO LINEAR</font>\n",
        "***"
      ]
    },
    {
      "cell_type": "markdown",
      "metadata": {
        "id": "yRxm2BrFcajQ"
      },
      "source": [
        "## Dataset de exemplo\n",
        "> ### $Y$ = Gasto das famílias\n",
        "> ### $X$ = Renda das Famílias"
      ]
    },
    {
      "cell_type": "code",
      "metadata": {
        "id": "TvENegfwcajQ"
      },
      "source": [
        "dataset = {\n",
        "    'Y': [3011, 1305, 1879, 2654, 2849, 1068, 2892, 2543, 3074, 849, 2184, 2943, 1357, 2755, 2163, 3099, 1600, 353, 1778, 740, 2129, 3302, 2412, 2683, 2515, 2395, 2292, 1000, 600, 1864, 3027, 1978, 2791, 1982, 900, 1964, 1247, 3067, 700, 1500, 3110, 2644, 1378, 2601, 501, 1292, 2125, 1431, 2260, 1770],\n",
        "    'X': [9714, 3728, 6062, 8845, 8378, 3338, 8507, 7947, 9915, 1632, 6825, 8918, 4100, 9184, 6180, 9997, 4500, 1069, 5925, 2466, 6083, 9712, 7780, 8383, 7185, 7483, 7640, 2100, 2000, 6012, 8902, 5345, 8210, 5662, 2700, 6546, 2900, 9894, 1500, 5000, 8885, 8813, 3446, 7881, 1164, 3401, 6641, 3329, 6648, 4800]\n",
        "}"
      ],
      "execution_count": 6,
      "outputs": []
    },
    {
      "cell_type": "code",
      "metadata": {
        "colab": {
          "base_uri": "https://localhost:8080/",
          "height": 195
        },
        "id": "HfeWvtFWcajT",
        "outputId": "aecfb27e-3c72-48b3-8a83-fa2d1e5b0f41"
      },
      "source": [
        "dataset = pd.DataFrame(dataset)\n",
        "dataset.head()"
      ],
      "execution_count": 7,
      "outputs": [
        {
          "output_type": "execute_result",
          "data": {
            "text/html": [
              "<div>\n",
              "<style scoped>\n",
              "    .dataframe tbody tr th:only-of-type {\n",
              "        vertical-align: middle;\n",
              "    }\n",
              "\n",
              "    .dataframe tbody tr th {\n",
              "        vertical-align: top;\n",
              "    }\n",
              "\n",
              "    .dataframe thead th {\n",
              "        text-align: right;\n",
              "    }\n",
              "</style>\n",
              "<table border=\"1\" class=\"dataframe\">\n",
              "  <thead>\n",
              "    <tr style=\"text-align: right;\">\n",
              "      <th></th>\n",
              "      <th>Y</th>\n",
              "      <th>X</th>\n",
              "    </tr>\n",
              "  </thead>\n",
              "  <tbody>\n",
              "    <tr>\n",
              "      <th>0</th>\n",
              "      <td>3011</td>\n",
              "      <td>9714</td>\n",
              "    </tr>\n",
              "    <tr>\n",
              "      <th>1</th>\n",
              "      <td>1305</td>\n",
              "      <td>3728</td>\n",
              "    </tr>\n",
              "    <tr>\n",
              "      <th>2</th>\n",
              "      <td>1879</td>\n",
              "      <td>6062</td>\n",
              "    </tr>\n",
              "    <tr>\n",
              "      <th>3</th>\n",
              "      <td>2654</td>\n",
              "      <td>8845</td>\n",
              "    </tr>\n",
              "    <tr>\n",
              "      <th>4</th>\n",
              "      <td>2849</td>\n",
              "      <td>8378</td>\n",
              "    </tr>\n",
              "  </tbody>\n",
              "</table>\n",
              "</div>"
            ],
            "text/plain": [
              "      Y     X\n",
              "0  3011  9714\n",
              "1  1305  3728\n",
              "2  1879  6062\n",
              "3  2654  8845\n",
              "4  2849  8378"
            ]
          },
          "metadata": {
            "tags": []
          },
          "execution_count": 7
        }
      ]
    },
    {
      "cell_type": "code",
      "metadata": {
        "colab": {
          "base_uri": "https://localhost:8080/"
        },
        "id": "NGPOPV1VcajX",
        "outputId": "985002b6-a7a0-4796-8d64-ba496ebc81d1"
      },
      "source": [
        "dataset.shape"
      ],
      "execution_count": 8,
      "outputs": [
        {
          "output_type": "execute_result",
          "data": {
            "text/plain": [
              "(50, 2)"
            ]
          },
          "metadata": {
            "tags": []
          },
          "execution_count": 8
        }
      ]
    },
    {
      "cell_type": "markdown",
      "metadata": {
        "id": "y0Lt1C-Ccaja"
      },
      "source": [
        "### Estatísticas descritivas"
      ]
    },
    {
      "cell_type": "code",
      "metadata": {
        "colab": {
          "base_uri": "https://localhost:8080/",
          "height": 284
        },
        "id": "POZusgEccajb",
        "outputId": "05718e85-80c5-4ad9-f7a0-142ff59c9809"
      },
      "source": [
        "dataset.describe()"
      ],
      "execution_count": 9,
      "outputs": [
        {
          "output_type": "execute_result",
          "data": {
            "text/html": [
              "<div>\n",
              "<style scoped>\n",
              "    .dataframe tbody tr th:only-of-type {\n",
              "        vertical-align: middle;\n",
              "    }\n",
              "\n",
              "    .dataframe tbody tr th {\n",
              "        vertical-align: top;\n",
              "    }\n",
              "\n",
              "    .dataframe thead th {\n",
              "        text-align: right;\n",
              "    }\n",
              "</style>\n",
              "<table border=\"1\" class=\"dataframe\">\n",
              "  <thead>\n",
              "    <tr style=\"text-align: right;\">\n",
              "      <th></th>\n",
              "      <th>Y</th>\n",
              "      <th>X</th>\n",
              "    </tr>\n",
              "  </thead>\n",
              "  <tbody>\n",
              "    <tr>\n",
              "      <th>count</th>\n",
              "      <td>50.000000</td>\n",
              "      <td>50.000000</td>\n",
              "    </tr>\n",
              "    <tr>\n",
              "      <th>mean</th>\n",
              "      <td>2011.120000</td>\n",
              "      <td>6065.500000</td>\n",
              "    </tr>\n",
              "    <tr>\n",
              "      <th>std</th>\n",
              "      <td>817.214648</td>\n",
              "      <td>2707.187812</td>\n",
              "    </tr>\n",
              "    <tr>\n",
              "      <th>min</th>\n",
              "      <td>353.000000</td>\n",
              "      <td>1069.000000</td>\n",
              "    </tr>\n",
              "    <tr>\n",
              "      <th>25%</th>\n",
              "      <td>1362.250000</td>\n",
              "      <td>3516.500000</td>\n",
              "    </tr>\n",
              "    <tr>\n",
              "      <th>50%</th>\n",
              "      <td>2127.000000</td>\n",
              "      <td>6363.000000</td>\n",
              "    </tr>\n",
              "    <tr>\n",
              "      <th>75%</th>\n",
              "      <td>2675.750000</td>\n",
              "      <td>8381.750000</td>\n",
              "    </tr>\n",
              "    <tr>\n",
              "      <th>max</th>\n",
              "      <td>3302.000000</td>\n",
              "      <td>9997.000000</td>\n",
              "    </tr>\n",
              "  </tbody>\n",
              "</table>\n",
              "</div>"
            ],
            "text/plain": [
              "                 Y            X\n",
              "count    50.000000    50.000000\n",
              "mean   2011.120000  6065.500000\n",
              "std     817.214648  2707.187812\n",
              "min     353.000000  1069.000000\n",
              "25%    1362.250000  3516.500000\n",
              "50%    2127.000000  6363.000000\n",
              "75%    2675.750000  8381.750000\n",
              "max    3302.000000  9997.000000"
            ]
          },
          "metadata": {
            "tags": []
          },
          "execution_count": 9
        }
      ]
    },
    {
      "cell_type": "markdown",
      "metadata": {
        "id": "tVozByhrcajd"
      },
      "source": [
        "### Análise gráfica\n",
        "\n",
        "https://seaborn.pydata.org/generated/seaborn.boxplot.html"
      ]
    },
    {
      "cell_type": "code",
      "metadata": {
        "colab": {
          "base_uri": "https://localhost:8080/",
          "height": 414
        },
        "id": "xPtAowUacajf",
        "outputId": "0c39b4e3-45f2-46bb-aeea-e4b924087d8f"
      },
      "source": [
        "ax = sns.boxplot(data=dataset, orient='h', width=0.5)\n",
        "ax.figure.set_size_inches(12, 6)\n",
        "ax.set_title('Box plot', fontsize=20)\n",
        "ax.set_xlabel('Reais (R$)', fontsize=16)\n",
        "plt.show()"
      ],
      "execution_count": 10,
      "outputs": [
        {
          "output_type": "display_data",
          "data": {
            "image/png": "[encoded data removed]",
            "text/plain": [
              "<Figure size 864x432 with 1 Axes>"
            ]
          },
          "metadata": {
            "tags": [],
            "needs_background": "light"
          }
        }
      ]
    },
    {
      "cell_type": "markdown",
      "metadata": {
        "id": "Fg0MIFfgcaji"
      },
      "source": [
        "https://seaborn.pydata.org/generated/seaborn.lmplot.html"
      ]
    },
    {
      "cell_type": "code",
      "metadata": {
        "colab": {
          "base_uri": "https://localhost:8080/",
          "height": 473
        },
        "id": "s2ZFx_INcajj",
        "outputId": "0fbdef91-291e-41b1-e056-63db41d85a10"
      },
      "source": [
        "ax = sns.lmplot(x='X', y='Y', data=dataset)\n",
        "ax.fig.set_size_inches(12, 6)\n",
        "ax.fig.suptitle('Reta de Regressão - Gasto X Renda', fontsize=16, y=1.02)\n",
        "ax.set_xlabels('Renda das Famílias', fontsize=14)\n",
        "ax.set_ylabels('Gasto das Famílias', fontsize=14)\n",
        "plt.show()"
      ],
      "execution_count": 11,
      "outputs": [
        {
          "output_type": "display_data",
          "data": {
            "image/png": "[encoded data removed]",
            "text/plain": [
              "<Figure size 864x432 with 1 Axes>"
            ]
          },
          "metadata": {
            "tags": [],
            "needs_background": "light"
          }
        }
      ]
    },
    {
      "cell_type": "markdown",
      "metadata": {
        "id": "c2OpdF85cajl"
      },
      "source": [
        "### Análise da correlação\n",
        "\n",
        "https://pandas.pydata.org/pandas-docs/stable/reference/api/pandas.DataFrame.corr.html"
      ]
    },
    {
      "cell_type": "code",
      "metadata": {
        "colab": {
          "base_uri": "https://localhost:8080/",
          "height": 107
        },
        "id": "eQEiUOdccajm",
        "scrolled": true,
        "outputId": "80d30d82-f561-4867-d387-2c6dcb3657ad"
      },
      "source": [
        "dataset.corr()"
      ],
      "execution_count": 12,
      "outputs": [
        {
          "output_type": "execute_result",
          "data": {
            "text/html": [
              "<div>\n",
              "<style scoped>\n",
              "    .dataframe tbody tr th:only-of-type {\n",
              "        vertical-align: middle;\n",
              "    }\n",
              "\n",
              "    .dataframe tbody tr th {\n",
              "        vertical-align: top;\n",
              "    }\n",
              "\n",
              "    .dataframe thead th {\n",
              "        text-align: right;\n",
              "    }\n",
              "</style>\n",
              "<table border=\"1\" class=\"dataframe\">\n",
              "  <thead>\n",
              "    <tr style=\"text-align: right;\">\n",
              "      <th></th>\n",
              "      <th>Y</th>\n",
              "      <th>X</th>\n",
              "    </tr>\n",
              "  </thead>\n",
              "  <tbody>\n",
              "    <tr>\n",
              "      <th>Y</th>\n",
              "      <td>1.000000</td>\n",
              "      <td>0.984835</td>\n",
              "    </tr>\n",
              "    <tr>\n",
              "      <th>X</th>\n",
              "      <td>0.984835</td>\n",
              "      <td>1.000000</td>\n",
              "    </tr>\n",
              "  </tbody>\n",
              "</table>\n",
              "</div>"
            ],
            "text/plain": [
              "          Y         X\n",
              "Y  1.000000  0.984835\n",
              "X  0.984835  1.000000"
            ]
          },
          "metadata": {
            "tags": []
          },
          "execution_count": 12
        }
      ]
    },
    {
      "cell_type": "markdown",
      "metadata": {
        "id": "cPOlHTg2cajo"
      },
      "source": [
        "### Modelo de regressão linear simples\n",
        "\n",
        "https://www.statsmodels.org/stable/regression.html"
      ]
    },
    {
      "cell_type": "code",
      "metadata": {
        "id": "SidSGHeQcajo",
        "colab": {
          "base_uri": "https://localhost:8080/"
        },
        "outputId": "2f73619a-aa95-491f-e88b-06a924ae3215"
      },
      "source": [
        "import statsmodels.api as sm"
      ],
      "execution_count": 13,
      "outputs": [
        {
          "output_type": "stream",
          "text": [
            "/usr/local/lib/python3.7/dist-packages/statsmodels/tools/_testing.py:19: FutureWarning: pandas.util.testing is deprecated. Use the functions in the public API at pandas.testing instead.\n",
            "  import pandas.util.testing as tm\n"
          ],
          "name": "stderr"
        }
      ]
    },
    {
      "cell_type": "code",
      "metadata": {
        "id": "iBQFGkf_cajr"
      },
      "source": [
        "Y = dataset.Y\n",
        "X = sm.add_constant(dataset.X)"
      ],
      "execution_count": 14,
      "outputs": []
    },
    {
      "cell_type": "code",
      "metadata": {
        "colab": {
          "base_uri": "https://localhost:8080/"
        },
        "id": "PdS9cDXqcajt",
        "scrolled": true,
        "outputId": "a7ab64d2-3ebd-4c6f-95f3-268e15231a60"
      },
      "source": [
        "Y.head(2)"
      ],
      "execution_count": 15,
      "outputs": [
        {
          "output_type": "execute_result",
          "data": {
            "text/plain": [
              "0    3011\n",
              "1    1305\n",
              "Name: Y, dtype: int64"
            ]
          },
          "metadata": {
            "tags": []
          },
          "execution_count": 15
        }
      ]
    },
    {
      "cell_type": "code",
      "metadata": {
        "colab": {
          "base_uri": "https://localhost:8080/",
          "height": 107
        },
        "id": "lBrVRfVfcajv",
        "scrolled": true,
        "outputId": "ae043a38-4474-4289-a4e9-25102c1a04e5"
      },
      "source": [
        "X.head(2)"
      ],
      "execution_count": 16,
      "outputs": [
        {
          "output_type": "execute_result",
          "data": {
            "text/html": [
              "<div>\n",
              "<style scoped>\n",
              "    .dataframe tbody tr th:only-of-type {\n",
              "        vertical-align: middle;\n",
              "    }\n",
              "\n",
              "    .dataframe tbody tr th {\n",
              "        vertical-align: top;\n",
              "    }\n",
              "\n",
              "    .dataframe thead th {\n",
              "        text-align: right;\n",
              "    }\n",
              "</style>\n",
              "<table border=\"1\" class=\"dataframe\">\n",
              "  <thead>\n",
              "    <tr style=\"text-align: right;\">\n",
              "      <th></th>\n",
              "      <th>const</th>\n",
              "      <th>X</th>\n",
              "    </tr>\n",
              "  </thead>\n",
              "  <tbody>\n",
              "    <tr>\n",
              "      <th>0</th>\n",
              "      <td>1.0</td>\n",
              "      <td>9714</td>\n",
              "    </tr>\n",
              "    <tr>\n",
              "      <th>1</th>\n",
              "      <td>1.0</td>\n",
              "      <td>3728</td>\n",
              "    </tr>\n",
              "  </tbody>\n",
              "</table>\n",
              "</div>"
            ],
            "text/plain": [
              "   const     X\n",
              "0    1.0  9714\n",
              "1    1.0  3728"
            ]
          },
          "metadata": {
            "tags": []
          },
          "execution_count": 16
        }
      ]
    },
    {
      "cell_type": "markdown",
      "metadata": {
        "id": "Dkg9S5tWcajy"
      },
      "source": [
        "### Estimando o modelo"
      ]
    },
    {
      "cell_type": "code",
      "metadata": {
        "id": "9O0dhVTfcajz"
      },
      "source": [
        "resultado_regressao = sm.OLS(Y, X).fit()"
      ],
      "execution_count": 17,
      "outputs": []
    },
    {
      "cell_type": "code",
      "metadata": {
        "colab": {
          "base_uri": "https://localhost:8080/"
        },
        "id": "8W1oGgNecaj0",
        "outputId": "eba42f0f-c4d6-416e-d275-c33c1e1d75ee"
      },
      "source": [
        "print(resultado_regressao.summary())"
      ],
      "execution_count": 18,
      "outputs": [
        {
          "output_type": "stream",
          "text": [
            "                            OLS Regression Results                            \n",
            "==============================================================================\n",
            "Dep. Variable:                      Y   R-squared:                       0.970\n",
            "Model:                            OLS   Adj. R-squared:                  0.969\n",
            "Method:                 Least Squares   F-statistic:                     1547.\n",
            "Date:                Thu, 04 Mar 2021   Prob (F-statistic):           3.56e-38\n",
            "Time:                        10:16:02   Log-Likelihood:                -318.16\n",
            "No. Observations:                  50   AIC:                             640.3\n",
            "Df Residuals:                      48   BIC:                             644.1\n",
            "Df Model:                           1                                         \n",
            "Covariance Type:            nonrobust                                         \n",
            "==============================================================================\n",
            "                 coef    std err          t      P>|t|      [0.025      0.975]\n",
            "------------------------------------------------------------------------------\n",
            "const        207.9033     50.127      4.148      0.000     107.117     308.690\n",
            "X              0.2973      0.008     39.328      0.000       0.282       0.312\n",
            "==============================================================================\n",
            "Omnibus:                       22.833   Durbin-Watson:                   2.408\n",
            "Prob(Omnibus):                  0.000   Jarque-Bera (JB):                3.915\n",
            "Skew:                           0.073   Prob(JB):                        0.141\n",
            "Kurtosis:                       1.637   Cond. No.                     1.64e+04\n",
            "==============================================================================\n",
            "\n",
            "Warnings:\n",
            "[1] Standard Errors assume that the covariance matrix of the errors is correctly specified.\n",
            "[2] The condition number is large, 1.64e+04. This might indicate that there are\n",
            "strong multicollinearity or other numerical problems.\n"
          ],
          "name": "stdout"
        }
      ]
    },
    {
      "cell_type": "markdown",
      "metadata": {
        "id": "eP2wm9fBcaj2"
      },
      "source": [
        "### Obtendo as previsões dentro da amostra"
      ]
    },
    {
      "cell_type": "code",
      "metadata": {
        "colab": {
          "base_uri": "https://localhost:8080/",
          "height": 195
        },
        "id": "cbuzGLB-caj2",
        "scrolled": true,
        "outputId": "8abf5c4a-5058-434c-cc75-718e96c79b94"
      },
      "source": [
        "dataset['Y_previsto'] = resultado_regressao.predict()\n",
        "dataset.head()"
      ],
      "execution_count": 19,
      "outputs": [
        {
          "output_type": "execute_result",
          "data": {
            "text/html": [
              "<div>\n",
              "<style scoped>\n",
              "    .dataframe tbody tr th:only-of-type {\n",
              "        vertical-align: middle;\n",
              "    }\n",
              "\n",
              "    .dataframe tbody tr th {\n",
              "        vertical-align: top;\n",
              "    }\n",
              "\n",
              "    .dataframe thead th {\n",
              "        text-align: right;\n",
              "    }\n",
              "</style>\n",
              "<table border=\"1\" class=\"dataframe\">\n",
              "  <thead>\n",
              "    <tr style=\"text-align: right;\">\n",
              "      <th></th>\n",
              "      <th>Y</th>\n",
              "      <th>X</th>\n",
              "      <th>Y_previsto</th>\n",
              "    </tr>\n",
              "  </thead>\n",
              "  <tbody>\n",
              "    <tr>\n",
              "      <th>0</th>\n",
              "      <td>3011</td>\n",
              "      <td>9714</td>\n",
              "      <td>3095.785086</td>\n",
              "    </tr>\n",
              "    <tr>\n",
              "      <th>1</th>\n",
              "      <td>1305</td>\n",
              "      <td>3728</td>\n",
              "      <td>1316.203010</td>\n",
              "    </tr>\n",
              "    <tr>\n",
              "      <th>2</th>\n",
              "      <td>1879</td>\n",
              "      <td>6062</td>\n",
              "      <td>2010.079483</td>\n",
              "    </tr>\n",
              "    <tr>\n",
              "      <th>3</th>\n",
              "      <td>2654</td>\n",
              "      <td>8845</td>\n",
              "      <td>2837.439476</td>\n",
              "    </tr>\n",
              "    <tr>\n",
              "      <th>4</th>\n",
              "      <td>2849</td>\n",
              "      <td>8378</td>\n",
              "      <td>2698.604723</td>\n",
              "    </tr>\n",
              "  </tbody>\n",
              "</table>\n",
              "</div>"
            ],
            "text/plain": [
              "      Y     X   Y_previsto\n",
              "0  3011  9714  3095.785086\n",
              "1  1305  3728  1316.203010\n",
              "2  1879  6062  2010.079483\n",
              "3  2654  8845  2837.439476\n",
              "4  2849  8378  2698.604723"
            ]
          },
          "metadata": {
            "tags": []
          },
          "execution_count": 19
        }
      ]
    },
    {
      "cell_type": "markdown",
      "metadata": {
        "id": "QTCRxEClcaj-"
      },
      "source": [
        "---"
      ]
    },
    {
      "cell_type": "markdown",
      "metadata": {
        "id": "DU3ADw3fdeS1"
      },
      "source": [
        "# <font color=green>3 CORRELAÇÃO</font>\n",
        "***"
      ]
    },
    {
      "cell_type": "markdown",
      "metadata": {
        "id": "_8zdNQvrcakA"
      },
      "source": [
        "## <font color=green>3.1 Covariância</font>\n",
        "***"
      ]
    },
    {
      "cell_type": "markdown",
      "metadata": {
        "id": "E5xyRLiYcakB"
      },
      "source": [
        "A covariância, ou variância conjunta, é a medida do grau de interdependência (ou inter-relação) numérica entre duas variáveis. É definida da seguinte maneira:"
      ]
    },
    {
      "cell_type": "markdown",
      "metadata": {
        "id": "z66qdhEPcakB"
      },
      "source": [
        "### Covariância populacional\n",
        "\n",
        "# $$\\sigma_{xy} = \\frac 1n\\sum_{i=1}^{n}(X_i-\\mu_x)(Y_i-\\mu_y)$$"
      ]
    },
    {
      "cell_type": "markdown",
      "metadata": {
        "id": "Q5Z7pL4ncakB"
      },
      "source": [
        "### Covariância amostral\n",
        "\n",
        "# $$S_{xy} = \\frac 1{n-1}\\sum_{i=1}^{n}(X_i-\\bar{X})(Y_i-\\bar{Y})$$"
      ]
    },
    {
      "cell_type": "markdown",
      "metadata": {
        "id": "jL1SrReTcakC"
      },
      "source": [
        "### Gerando uma amostra aleatória para facilitar o entendimento"
      ]
    },
    {
      "cell_type": "code",
      "metadata": {
        "id": "ulha75EgcakC"
      },
      "source": [
        "amostra = dados.query('Renda < 5000').sample(n=20, random_state=101)"
      ],
      "execution_count": 20,
      "outputs": []
    },
    {
      "cell_type": "markdown",
      "metadata": {
        "id": "ZssTPkXGcakD"
      },
      "source": [
        "### Obtendo a matriz de covariância"
      ]
    },
    {
      "cell_type": "code",
      "metadata": {
        "id": "hU6Ca7k3cakE",
        "colab": {
          "base_uri": "https://localhost:8080/",
          "height": 166
        },
        "outputId": "ef9de244-d48a-4800-ebb7-71556fcc0240"
      },
      "source": [
        "amostra[['Idade', 'Renda', 'Anos de Estudo', 'Altura']].cov() #na diagonal está a variância"
      ],
      "execution_count": 22,
      "outputs": [
        {
          "output_type": "execute_result",
          "data": {
            "text/html": [
              "<div>\n",
              "<style scoped>\n",
              "    .dataframe tbody tr th:only-of-type {\n",
              "        vertical-align: middle;\n",
              "    }\n",
              "\n",
              "    .dataframe tbody tr th {\n",
              "        vertical-align: top;\n",
              "    }\n",
              "\n",
              "    .dataframe thead th {\n",
              "        text-align: right;\n",
              "    }\n",
              "</style>\n",
              "<table border=\"1\" class=\"dataframe\">\n",
              "  <thead>\n",
              "    <tr style=\"text-align: right;\">\n",
              "      <th></th>\n",
              "      <th>Idade</th>\n",
              "      <th>Renda</th>\n",
              "      <th>Anos de Estudo</th>\n",
              "      <th>Altura</th>\n",
              "    </tr>\n",
              "  </thead>\n",
              "  <tbody>\n",
              "    <tr>\n",
              "      <th>Idade</th>\n",
              "      <td>134.410526</td>\n",
              "      <td>-4947.968421</td>\n",
              "      <td>-16.410526</td>\n",
              "      <td>0.016506</td>\n",
              "    </tr>\n",
              "    <tr>\n",
              "      <th>Renda</th>\n",
              "      <td>-4947.968421</td>\n",
              "      <td>764668.326316</td>\n",
              "      <td>2209.021053</td>\n",
              "      <td>-7.138236</td>\n",
              "    </tr>\n",
              "    <tr>\n",
              "      <th>Anos de Estudo</th>\n",
              "      <td>-16.410526</td>\n",
              "      <td>2209.021053</td>\n",
              "      <td>16.936842</td>\n",
              "      <td>0.111281</td>\n",
              "    </tr>\n",
              "    <tr>\n",
              "      <th>Altura</th>\n",
              "      <td>0.016506</td>\n",
              "      <td>-7.138236</td>\n",
              "      <td>0.111281</td>\n",
              "      <td>0.003354</td>\n",
              "    </tr>\n",
              "  </tbody>\n",
              "</table>\n",
              "</div>"
            ],
            "text/plain": [
              "                      Idade          Renda  Anos de Estudo    Altura\n",
              "Idade            134.410526   -4947.968421      -16.410526  0.016506\n",
              "Renda          -4947.968421  764668.326316     2209.021053 -7.138236\n",
              "Anos de Estudo   -16.410526    2209.021053       16.936842  0.111281\n",
              "Altura             0.016506      -7.138236        0.111281  0.003354"
            ]
          },
          "metadata": {
            "tags": []
          },
          "execution_count": 22
        }
      ]
    },
    {
      "cell_type": "markdown",
      "metadata": {
        "id": "dodkzGyBcakG"
      },
      "source": [
        "### Identificando as variâncias na diagonal principal da matriz"
      ]
    },
    {
      "cell_type": "code",
      "metadata": {
        "id": "iG3mpmBfcakH",
        "colab": {
          "base_uri": "https://localhost:8080/"
        },
        "outputId": "ac48bf37-fcea-46e1-ecc7-7359463a6f45"
      },
      "source": [
        "amostra['Idade'].var()"
      ],
      "execution_count": 23,
      "outputs": [
        {
          "output_type": "execute_result",
          "data": {
            "text/plain": [
              "134.4105263157895"
            ]
          },
          "metadata": {
            "tags": []
          },
          "execution_count": 23
        }
      ]
    },
    {
      "cell_type": "markdown",
      "metadata": {
        "id": "9I8MVJAscakK"
      },
      "source": [
        "## <font color=green>3.2 Interpretação da Covariância</font>\n",
        "***"
      ]
    },
    {
      "cell_type": "markdown",
      "metadata": {
        "id": "_H2Y3PVZcakK"
      },
      "source": [
        "Valor de $S_{xy}$ positivo indica uma associação linear positiva entre x e y, ou seja, à medida que o valor de x aumenta, o valor de y também aumenta. Neste caso, podemos ver na figura abaixo que os pontos que têm a maior influência sobre $S_{xy}$ devem estar nos quadrantes I e III.\n",
        "\n",
        "Se o valor de $S_{xy}$ for negativo temos um indicativo de associação linear negativa entre x e y, ou seja, à medida que x aumenta, o valor de y diminui. Neste caso, podemos ver na figura abaixo que os pontos que têm a maior influência sobre $S_{xy}$ devem estar nos quadrantes II e IV.\n",
        "\n",
        "Finalmente, se os pontos estiverem uniformemente distribuídos pelos quadrantes, o valor de $S_{xy}$ se aproximará de zero, indicando que não existe nenhuma associação linear entre x e y.\n",
        "\n",
        "<img src=\"https://caelum-online-public.s3.amazonaws.com/1273-estatistica-parte4/01/img026.png\" width=50%>"
      ]
    },
    {
      "cell_type": "markdown",
      "metadata": {
        "id": "frhw7Uc8cakL"
      },
      "source": [
        "### Verificando a existência de uma associação linear negativa"
      ]
    },
    {
      "cell_type": "code",
      "metadata": {
        "id": "Xb__N-ZlcakL",
        "colab": {
          "base_uri": "https://localhost:8080/",
          "height": 442
        },
        "outputId": "1554c9ee-a295-40db-8d80-f3193837193c"
      },
      "source": [
        "x = amostra.Renda\n",
        "y = amostra.Idade\n",
        "\n",
        "ax = sns.scatterplot(x, y)\n",
        "ax.figure.set_size_inches(10, 6)\n",
        "ax.hlines(y=y.mean(), xmin=x.min(), xmax=x.max(), colors='black', linestyles='dashed')\n",
        "ax.vlines(x=x.mean(), ymin=y.min(), ymax=y.max(), colors='black', linestyles='dashed')\n",
        "plt.show()"
      ],
      "execution_count": 26,
      "outputs": [
        {
          "output_type": "stream",
          "text": [
            "/usr/local/lib/python3.7/dist-packages/seaborn/_decorators.py:43: FutureWarning: Pass the following variables as keyword args: x, y. From version 0.12, the only valid positional argument will be `data`, and passing other arguments without an explicit keyword will result in an error or misinterpretation.\n",
            "  FutureWarning\n"
          ],
          "name": "stderr"
        },
        {
          "output_type": "display_data",
          "data": {
            "image/png": "[encoded data removed]",
            "text/plain": [
              "<Figure size 720x432 with 1 Axes>"
            ]
          },
          "metadata": {
            "tags": [],
            "needs_background": "light"
          }
        }
      ]
    },
    {
      "cell_type": "markdown",
      "metadata": {
        "id": "es2CobcCcakQ"
      },
      "source": [
        "### Verificando a existência de uma associação linear positiva"
      ]
    },
    {
      "cell_type": "code",
      "metadata": {
        "id": "eLc5JmYCcakQ",
        "colab": {
          "base_uri": "https://localhost:8080/",
          "height": 442
        },
        "outputId": "a3a576cf-8704-4a7b-ac2a-6ed870c37eab"
      },
      "source": [
        "x = amostra.Renda\n",
        "y = amostra['Anos de Estudo']\n",
        "\n",
        "ax = sns.scatterplot(x, y)\n",
        "ax.figure.set_size_inches(10, 6)\n",
        "ax.hlines(y=y.mean(), xmin=x.min(), xmax=x.max(), colors='black', linestyles='dashed')\n",
        "ax.vlines(x=x.mean(), ymin=y.min(), ymax=y.max(), colors='black', linestyles='dashed')\n",
        "plt.show()"
      ],
      "execution_count": 27,
      "outputs": [
        {
          "output_type": "stream",
          "text": [
            "/usr/local/lib/python3.7/dist-packages/seaborn/_decorators.py:43: FutureWarning: Pass the following variables as keyword args: x, y. From version 0.12, the only valid positional argument will be `data`, and passing other arguments without an explicit keyword will result in an error or misinterpretation.\n",
            "  FutureWarning\n"
          ],
          "name": "stderr"
        },
        {
          "output_type": "display_data",
          "data": {
            "image/png": "[encoded data removed]",
            "text/plain": [
              "<Figure size 720x432 with 1 Axes>"
            ]
          },
          "metadata": {
            "tags": [],
            "needs_background": "light"
          }
        }
      ]
    },
    {
      "cell_type": "markdown",
      "metadata": {
        "id": "mYYlKQeHcakS"
      },
      "source": [
        "### Verificando a inexistência de uma associação linear entre as variáveis"
      ]
    },
    {
      "cell_type": "code",
      "metadata": {
        "id": "R0S1AiBlcakS",
        "colab": {
          "base_uri": "https://localhost:8080/",
          "height": 442
        },
        "outputId": "5230dc9c-9514-4995-d0e0-c87132a02a1f"
      },
      "source": [
        "x = amostra.Idade\n",
        "y = amostra.Altura\n",
        "\n",
        "ax = sns.scatterplot(x, y)\n",
        "ax.figure.set_size_inches(10, 6)\n",
        "ax.hlines(y=y.mean(), xmin=x.min(), xmax=x.max(), colors='black', linestyles='dashed')\n",
        "ax.vlines(x=x.mean(), ymin=y.min(), ymax=y.max(), colors='black', linestyles='dashed')\n",
        "plt.show()"
      ],
      "execution_count": 29,
      "outputs": [
        {
          "output_type": "stream",
          "text": [
            "/usr/local/lib/python3.7/dist-packages/seaborn/_decorators.py:43: FutureWarning: Pass the following variables as keyword args: x, y. From version 0.12, the only valid positional argument will be `data`, and passing other arguments without an explicit keyword will result in an error or misinterpretation.\n",
            "  FutureWarning\n"
          ],
          "name": "stderr"
        },
        {
          "output_type": "display_data",
          "data": {
            "image/png": "[encoded data removed]",
            "text/plain": [
              "<Figure size 720x432 with 1 Axes>"
            ]
          },
          "metadata": {
            "tags": [],
            "needs_background": "light"
          }
        }
      ]
    },
    {
      "cell_type": "markdown",
      "metadata": {
        "id": "zgSmQYrHcakb"
      },
      "source": [
        "### <font color='red'>Observação Importante:</font>\n",
        "> Pelo que foi apresentado pode parecer que valores elevados, tanto positivos quanto negativos, para a covariância indicam relações lineares fortes entre as variáveis envolvidas. No entanto, um problema quando se usa a covariância como uma medida da intensidade da relação linear é que o valor da covariância depende das unidades de medida para x e y.\n",
        "> \n",
        "> Uma medida da relação entre duas variáveis que não é afetada pelas unidades de medida para x e y é o coeficiente de correlação que veremos no próximo tópico."
      ]
    },
    {
      "cell_type": "markdown",
      "metadata": {
        "id": "oPAxUkyQcakb"
      },
      "source": [
        "## <font color=green>3.3 Coeficiente de correlação de Pearson</font>\n",
        "***"
      ]
    },
    {
      "cell_type": "markdown",
      "metadata": {
        "id": "6TYCLh0Hcakf"
      },
      "source": [
        "É obtido dividindo-se a covariância da população ou amostra pelo produto do desvio padrão populacional ou amostral de x pelo desvio padrão populacional ou amostral de y.\n",
        "\n",
        "O coeficiente de correlação varia de -1 a +1. Valores que se aproximam de -1 ou +1 indicam uma relação linear forte. Quanto mais próxima a correlação estiver de zero, mais fraca será a relação.\n",
        "\n",
        "Um ponto importante é que o coeficiente de correlação é uma medida de associação linear e não necessariamente de causação. Uma correlação alta entre duas variáveis não significa, necessariamente, que variações em uma delas provocará alterações na outra."
      ]
    },
    {
      "cell_type": "markdown",
      "metadata": {
        "id": "OgecrWGdcakf"
      },
      "source": [
        "### Coeficiente de correlação de Pearson - dados populacionais\n",
        "\n",
        "# $$\\rho_{xy} = \\frac{\\sigma_{xy}}{\\sigma_{x}\\sigma_{y}}$$\n",
        "\n",
        "### Coeficiente de correlação de Pearson - dados amostrais\n",
        "\n",
        "# $$r_{xy} = \\frac{s_{xy}}{s_{x}s_{y}}$$\n",
        "\n",
        "Onde\n",
        "\n",
        "$\\sigma_{xy}$ = covariância populacional entre x e y\n",
        "\n",
        "$s_{xy}$ = covariância amostral entre x e y\n",
        "\n",
        "$\\sigma_{x}$ e $\\sigma_{y}$ = desvios padrão populacionais de x e y, respectivamente\n",
        "\n",
        "$s_{x}$ e $s_{y}$ = desvios padrão amostrais de x e y, respectivamente"
      ]
    },
    {
      "cell_type": "markdown",
      "metadata": {
        "id": "jPk2i26acakg"
      },
      "source": [
        "### Obtendo $s_{xy}$"
      ]
    },
    {
      "cell_type": "code",
      "metadata": {
        "id": "lc6MNkgQcakg",
        "colab": {
          "base_uri": "https://localhost:8080/",
          "height": 107
        },
        "outputId": "c67049d1-978f-4938-e87c-8306d168b351"
      },
      "source": [
        "s_xy = dados[['Altura', 'Renda']].cov()\n",
        "s_xy"
      ],
      "execution_count": 30,
      "outputs": [
        {
          "output_type": "execute_result",
          "data": {
            "text/html": [
              "<div>\n",
              "<style scoped>\n",
              "    .dataframe tbody tr th:only-of-type {\n",
              "        vertical-align: middle;\n",
              "    }\n",
              "\n",
              "    .dataframe tbody tr th {\n",
              "        vertical-align: top;\n",
              "    }\n",
              "\n",
              "    .dataframe thead th {\n",
              "        text-align: right;\n",
              "    }\n",
              "</style>\n",
              "<table border=\"1\" class=\"dataframe\">\n",
              "  <thead>\n",
              "    <tr style=\"text-align: right;\">\n",
              "      <th></th>\n",
              "      <th>Altura</th>\n",
              "      <th>Renda</th>\n",
              "    </tr>\n",
              "  </thead>\n",
              "  <tbody>\n",
              "    <tr>\n",
              "      <th>Altura</th>\n",
              "      <td>0.006355</td>\n",
              "      <td>-1.078964e+00</td>\n",
              "    </tr>\n",
              "    <tr>\n",
              "      <th>Renda</th>\n",
              "      <td>-1.078964</td>\n",
              "      <td>1.104491e+07</td>\n",
              "    </tr>\n",
              "  </tbody>\n",
              "</table>\n",
              "</div>"
            ],
            "text/plain": [
              "          Altura         Renda\n",
              "Altura  0.006355 -1.078964e+00\n",
              "Renda  -1.078964  1.104491e+07"
            ]
          },
          "metadata": {
            "tags": []
          },
          "execution_count": 30
        }
      ]
    },
    {
      "cell_type": "code",
      "metadata": {
        "id": "_8KNoxdhcakj",
        "colab": {
          "base_uri": "https://localhost:8080/"
        },
        "outputId": "8fbc9a29-c372-42f8-a919-b63c3799e222"
      },
      "source": [
        "s_xy = s_xy.Altura.loc['Renda']\n",
        "s_xy"
      ],
      "execution_count": 31,
      "outputs": [
        {
          "output_type": "execute_result",
          "data": {
            "text/plain": [
              "-1.0789639314252726"
            ]
          },
          "metadata": {
            "tags": []
          },
          "execution_count": 31
        }
      ]
    },
    {
      "cell_type": "markdown",
      "metadata": {
        "id": "sDybJtCMcakl"
      },
      "source": [
        "### Obtendo $s_x$ e $s_y$"
      ]
    },
    {
      "cell_type": "code",
      "metadata": {
        "id": "LTEEbMIzcakl",
        "colab": {
          "base_uri": "https://localhost:8080/"
        },
        "outputId": "d23b6bdf-1374-4135-f438-cea724ef96fa"
      },
      "source": [
        "s_x = dados['Altura'].std()\n",
        "s_y = dados['Renda'].std()\n",
        "print(s_x, '/', s_y)"
      ],
      "execution_count": 34,
      "outputs": [
        {
          "output_type": "stream",
          "text": [
            "0.07971743006825312 / 3323.3877303470294\n"
          ],
          "name": "stdout"
        }
      ]
    },
    {
      "cell_type": "markdown",
      "metadata": {
        "id": "VVpQ5QcCcakm"
      },
      "source": [
        "### Obtendo o coeficiente de correlação $r_{xy}$"
      ]
    },
    {
      "cell_type": "code",
      "metadata": {
        "id": "TuPWxVgccakq",
        "colab": {
          "base_uri": "https://localhost:8080/"
        },
        "outputId": "07c5aa11-d4bd-4b34-dd85-6ad35eb5067b"
      },
      "source": [
        "r_xy = s_xy / (s_x * s_y)\n",
        "r_xy"
      ],
      "execution_count": 35,
      "outputs": [
        {
          "output_type": "execute_result",
          "data": {
            "text/plain": [
              "-0.0040726081433995155"
            ]
          },
          "metadata": {
            "tags": []
          },
          "execution_count": 35
        }
      ]
    },
    {
      "cell_type": "markdown",
      "metadata": {
        "id": "miyTUNqpcakr"
      },
      "source": [
        "### Obtendo uma matriz de correlação com o Pandas"
      ]
    },
    {
      "cell_type": "code",
      "metadata": {
        "id": "SjQUE6wVcakt",
        "colab": {
          "base_uri": "https://localhost:8080/",
          "height": 107
        },
        "outputId": "e9655aa3-bc73-4d50-dd15-1df085a998d0"
      },
      "source": [
        "dados[['Altura', 'Renda']].corr()"
      ],
      "execution_count": 36,
      "outputs": [
        {
          "output_type": "execute_result",
          "data": {
            "text/html": [
              "<div>\n",
              "<style scoped>\n",
              "    .dataframe tbody tr th:only-of-type {\n",
              "        vertical-align: middle;\n",
              "    }\n",
              "\n",
              "    .dataframe tbody tr th {\n",
              "        vertical-align: top;\n",
              "    }\n",
              "\n",
              "    .dataframe thead th {\n",
              "        text-align: right;\n",
              "    }\n",
              "</style>\n",
              "<table border=\"1\" class=\"dataframe\">\n",
              "  <thead>\n",
              "    <tr style=\"text-align: right;\">\n",
              "      <th></th>\n",
              "      <th>Altura</th>\n",
              "      <th>Renda</th>\n",
              "    </tr>\n",
              "  </thead>\n",
              "  <tbody>\n",
              "    <tr>\n",
              "      <th>Altura</th>\n",
              "      <td>1.000000</td>\n",
              "      <td>-0.004073</td>\n",
              "    </tr>\n",
              "    <tr>\n",
              "      <th>Renda</th>\n",
              "      <td>-0.004073</td>\n",
              "      <td>1.000000</td>\n",
              "    </tr>\n",
              "  </tbody>\n",
              "</table>\n",
              "</div>"
            ],
            "text/plain": [
              "          Altura     Renda\n",
              "Altura  1.000000 -0.004073\n",
              "Renda  -0.004073  1.000000"
            ]
          },
          "metadata": {
            "tags": []
          },
          "execution_count": 36
        }
      ]
    },
    {
      "cell_type": "code",
      "metadata": {
        "id": "r-Iasce4cakv",
        "colab": {
          "base_uri": "https://localhost:8080/",
          "height": 107
        },
        "outputId": "7dac221f-4c04-47b6-c27e-84bb57b2939c"
      },
      "source": [
        "dataset[['Y', 'X']].corr()"
      ],
      "execution_count": 37,
      "outputs": [
        {
          "output_type": "execute_result",
          "data": {
            "text/html": [
              "<div>\n",
              "<style scoped>\n",
              "    .dataframe tbody tr th:only-of-type {\n",
              "        vertical-align: middle;\n",
              "    }\n",
              "\n",
              "    .dataframe tbody tr th {\n",
              "        vertical-align: top;\n",
              "    }\n",
              "\n",
              "    .dataframe thead th {\n",
              "        text-align: right;\n",
              "    }\n",
              "</style>\n",
              "<table border=\"1\" class=\"dataframe\">\n",
              "  <thead>\n",
              "    <tr style=\"text-align: right;\">\n",
              "      <th></th>\n",
              "      <th>Y</th>\n",
              "      <th>X</th>\n",
              "    </tr>\n",
              "  </thead>\n",
              "  <tbody>\n",
              "    <tr>\n",
              "      <th>Y</th>\n",
              "      <td>1.000000</td>\n",
              "      <td>0.984835</td>\n",
              "    </tr>\n",
              "    <tr>\n",
              "      <th>X</th>\n",
              "      <td>0.984835</td>\n",
              "      <td>1.000000</td>\n",
              "    </tr>\n",
              "  </tbody>\n",
              "</table>\n",
              "</div>"
            ],
            "text/plain": [
              "          Y         X\n",
              "Y  1.000000  0.984835\n",
              "X  0.984835  1.000000"
            ]
          },
          "metadata": {
            "tags": []
          },
          "execution_count": 37
        }
      ]
    },
    {
      "cell_type": "code",
      "metadata": {
        "id": "0Zddu4ajcakx",
        "colab": {
          "base_uri": "https://localhost:8080/",
          "height": 442
        },
        "outputId": "85e089c1-8384-488c-de7f-ea34f7188ce9"
      },
      "source": [
        "x = amostra.Renda\n",
        "y = amostra.Altura\n",
        "\n",
        "ax = sns.scatterplot(x, y)\n",
        "ax.figure.set_size_inches(10, 6)\n",
        "ax.hlines(y=y.mean(), xmin=x.min(), xmax=x.max(), colors='black', linestyles='dashed')\n",
        "ax.vlines(x=x.mean(), ymin=y.min(), ymax=y.max(), colors='black', linestyles='dashed')\n",
        "plt.show()"
      ],
      "execution_count": 38,
      "outputs": [
        {
          "output_type": "stream",
          "text": [
            "/usr/local/lib/python3.7/dist-packages/seaborn/_decorators.py:43: FutureWarning: Pass the following variables as keyword args: x, y. From version 0.12, the only valid positional argument will be `data`, and passing other arguments without an explicit keyword will result in an error or misinterpretation.\n",
            "  FutureWarning\n"
          ],
          "name": "stderr"
        },
        {
          "output_type": "display_data",
          "data": {
            "image/png": "[encoded data removed]",
            "text/plain": [
              "<Figure size 720x432 with 1 Axes>"
            ]
          },
          "metadata": {
            "tags": [],
            "needs_background": "light"
          }
        }
      ]
    },
    {
      "cell_type": "code",
      "metadata": {
        "id": "iMNkYpnhcak0",
        "colab": {
          "base_uri": "https://localhost:8080/",
          "height": 442
        },
        "outputId": "3c0bdeea-aa63-4e17-feb9-789f264ace2c"
      },
      "source": [
        "x = dataset.Y\n",
        "y = dataset.X\n",
        "\n",
        "ax = sns.scatterplot(x, y)\n",
        "ax.figure.set_size_inches(10, 6)\n",
        "ax.hlines(y=y.mean(), xmin=x.min(), xmax=x.max(), colors='black', linestyles='dashed')\n",
        "ax.vlines(x=x.mean(), ymin=y.min(), ymax=y.max(), colors='black', linestyles='dashed')\n",
        "plt.show()"
      ],
      "execution_count": 39,
      "outputs": [
        {
          "output_type": "stream",
          "text": [
            "/usr/local/lib/python3.7/dist-packages/seaborn/_decorators.py:43: FutureWarning: Pass the following variables as keyword args: x, y. From version 0.12, the only valid positional argument will be `data`, and passing other arguments without an explicit keyword will result in an error or misinterpretation.\n",
            "  FutureWarning\n"
          ],
          "name": "stderr"
        },
        {
          "output_type": "display_data",
          "data": {
            "image/png": "[encoded data removed]",
            "text/plain": [
              "<Figure size 720x432 with 1 Axes>"
            ]
          },
          "metadata": {
            "tags": [],
            "needs_background": "light"
          }
        }
      ]
    },
    {
      "cell_type": "markdown",
      "metadata": {
        "id": "HSF3lXxzcak3"
      },
      "source": [
        "---"
      ]
    },
    {
      "cell_type": "markdown",
      "metadata": {
        "id": "glWc43l2hLnL"
      },
      "source": [
        "# <font color=green>4 REGRESSÃO LINEAR</font>\n",
        "***"
      ]
    },
    {
      "cell_type": "markdown",
      "metadata": {
        "id": "T0nLJKtLcak8"
      },
      "source": [
        "A análise de regressão diz respeito ao estudo da dependência de uma variável (a variável dependente) em relação a uma ou mais variáveis, as variáveis explicativas ou independentes, visando estimar e/ou prever o valor médio da primeira em termos dos valores conhecidos ou fixados das segundas.\n",
        "\n",
        "#### Terminologia\n",
        "\n",
        "> A variável que é prevista é conhecida como variável dependente (*Y*).\n",
        "\n",
        "> A variável utilizada para prever o valor da variável dependente é conhecida como variável independente (*X*).\n",
        "\n",
        "Em nosso treinamento vamos abordar o tipo mais simples de análise de regressão que considera uma variável dependente e apenas uma variável independente onde a relação entre as variáveis se aproxima de uma linha reta."
      ]
    },
    {
      "cell_type": "markdown",
      "metadata": {
        "id": "jIXc6LA7cak9"
      },
      "source": [
        "## <font color=green>4.1 Regressão linear simples</font>\n",
        "***"
      ]
    },
    {
      "cell_type": "markdown",
      "metadata": {
        "id": "bIhWKDuK75k2"
      },
      "source": [
        "### Função consumo\n",
        "\n",
        "Um economista famoso do passado concluiu em um de seus estudos que os indivíduos tendem a aumentar o seu consumo conforme sua renda aumenta. Logicamente esta teoria ganhou um pouco mais de complexidade, mas vamos utilizar sua forma mais simples para entender o procedimento de análise de regressão com a seguninte formulação:\n",
        "\n",
        "# $$Y_i = \\beta_1 + \\beta_2X_i$$\n",
        "\n",
        "Onde\n",
        "\n",
        "- $Y_i$ é o gasto das famílias ou consumo das famílias\n",
        "\n",
        "- $X_i$ é a renda disponível\n",
        "\n",
        "- $\\beta_1$ é conhecido como intercepto (no modelo teórico acima é conhecido como consumo autônomo, ou seja, o consumo quando o rendimento é zero)\n",
        "\n",
        "- $\\beta_2$ é o coefiente angular (no modelo teórico é a propensão marginal a consumir)\n",
        "\n",
        "Em uma análise de regressão linear simples, o interesse está em estimar a função de regressão populacional como a apresentada acima, ou seja, estimar os valores dos parâmetros $\\beta_1$ e $\\beta_2$ com base nas observações de $Y$ e $X$."
      ]
    },
    {
      "cell_type": "markdown",
      "metadata": {
        "id": "1kkZ2NxPcak-"
      },
      "source": [
        "### Carregando o dataset"
      ]
    },
    {
      "cell_type": "code",
      "metadata": {
        "id": "-um71iXqcak-"
      },
      "source": [
        "dataset = {\n",
        "    'Y': [3011, 1305, 1879, 2654, 2849, 1068, 2892, 2543, 3074, 849, 2184, 2943, 1357, 2755, 2163, 3099, 1600, 353, 1778, 740, 2129, 3302, 2412, 2683, 2515, 2395, 2292, 1000, 600, 1864, 3027, 1978, 2791, 1982, 900, 1964, 1247, 3067, 700, 1500, 3110, 2644, 1378, 2601, 501, 1292, 2125, 1431, 2260, 1770],\n",
        "    'X': [9714, 3728, 6062, 8845, 8378, 3338, 8507, 7947, 9915, 1632, 6825, 8918, 4100, 9184, 6180, 9997, 4500, 1069, 5925, 2466, 6083, 9712, 7780, 8383, 7185, 7483, 7640, 2100, 2000, 6012, 8902, 5345, 8210, 5662, 2700, 6546, 2900, 9894, 1500, 5000, 8885, 8813, 3446, 7881, 1164, 3401, 6641, 3329, 6648, 4800]\n",
        "}"
      ],
      "execution_count": 43,
      "outputs": []
    },
    {
      "cell_type": "code",
      "metadata": {
        "id": "eVisdrGdcak_",
        "scrolled": true,
        "colab": {
          "base_uri": "https://localhost:8080/",
          "height": 195
        },
        "outputId": "77004e4d-f47d-450d-aaa8-7de30b92fead"
      },
      "source": [
        "dataset = pd.DataFrame(dataset)\n",
        "dataset.head()"
      ],
      "execution_count": 44,
      "outputs": [
        {
          "output_type": "execute_result",
          "data": {
            "text/html": [
              "<div>\n",
              "<style scoped>\n",
              "    .dataframe tbody tr th:only-of-type {\n",
              "        vertical-align: middle;\n",
              "    }\n",
              "\n",
              "    .dataframe tbody tr th {\n",
              "        vertical-align: top;\n",
              "    }\n",
              "\n",
              "    .dataframe thead th {\n",
              "        text-align: right;\n",
              "    }\n",
              "</style>\n",
              "<table border=\"1\" class=\"dataframe\">\n",
              "  <thead>\n",
              "    <tr style=\"text-align: right;\">\n",
              "      <th></th>\n",
              "      <th>Y</th>\n",
              "      <th>X</th>\n",
              "    </tr>\n",
              "  </thead>\n",
              "  <tbody>\n",
              "    <tr>\n",
              "      <th>0</th>\n",
              "      <td>3011</td>\n",
              "      <td>9714</td>\n",
              "    </tr>\n",
              "    <tr>\n",
              "      <th>1</th>\n",
              "      <td>1305</td>\n",
              "      <td>3728</td>\n",
              "    </tr>\n",
              "    <tr>\n",
              "      <th>2</th>\n",
              "      <td>1879</td>\n",
              "      <td>6062</td>\n",
              "    </tr>\n",
              "    <tr>\n",
              "      <th>3</th>\n",
              "      <td>2654</td>\n",
              "      <td>8845</td>\n",
              "    </tr>\n",
              "    <tr>\n",
              "      <th>4</th>\n",
              "      <td>2849</td>\n",
              "      <td>8378</td>\n",
              "    </tr>\n",
              "  </tbody>\n",
              "</table>\n",
              "</div>"
            ],
            "text/plain": [
              "      Y     X\n",
              "0  3011  9714\n",
              "1  1305  3728\n",
              "2  1879  6062\n",
              "3  2654  8845\n",
              "4  2849  8378"
            ]
          },
          "metadata": {
            "tags": []
          },
          "execution_count": 44
        }
      ]
    },
    {
      "cell_type": "markdown",
      "metadata": {
        "id": "FnwGB3f1calB"
      },
      "source": [
        "### Identificando a relação entre as variáveis\n",
        "\n",
        "https://seaborn.pydata.org/generated/seaborn.lmplot.html\n",
        "\n",
        "Plota a reta de regressão entre duas variáveis juntamente com a dispersão entre elas."
      ]
    },
    {
      "cell_type": "code",
      "metadata": {
        "id": "DI16LyC7calB",
        "colab": {
          "base_uri": "https://localhost:8080/",
          "height": 473
        },
        "outputId": "a18fed6c-dc32-4fad-fe47-02c2c1eebdd9"
      },
      "source": [
        "ax = sns.lmplot(x='X', y='Y', data=dataset)\n",
        "ax.fig.set_size_inches(10, 6)\n",
        "ax.fig.suptitle('Reta de regressão - Gastos x Renda', fontsize=16, y=1.02)\n",
        "ax.set_xlabels('Renda das famílias', fontsize=14)\n",
        "ax.set_ylabels('Gastos das famílias', fontsize=14)\n",
        "plt.show()"
      ],
      "execution_count": 47,
      "outputs": [
        {
          "output_type": "display_data",
          "data": {
            "image/png": "[encoded data removed]",
            "text/plain": [
              "<Figure size 720x432 with 1 Axes>"
            ]
          },
          "metadata": {
            "tags": [],
            "needs_background": "light"
          }
        }
      ]
    },
    {
      "cell_type": "markdown",
      "metadata": {
        "id": "5_PIOCAv75k9"
      },
      "source": [
        "### Matriz de correlação"
      ]
    },
    {
      "cell_type": "code",
      "metadata": {
        "id": "R7Zr6nuy75k-",
        "colab": {
          "base_uri": "https://localhost:8080/",
          "height": 107
        },
        "outputId": "a1790dce-6672-421b-a652-1bf8fa793a36"
      },
      "source": [
        "dataset.corr()"
      ],
      "execution_count": 48,
      "outputs": [
        {
          "output_type": "execute_result",
          "data": {
            "text/html": [
              "<div>\n",
              "<style scoped>\n",
              "    .dataframe tbody tr th:only-of-type {\n",
              "        vertical-align: middle;\n",
              "    }\n",
              "\n",
              "    .dataframe tbody tr th {\n",
              "        vertical-align: top;\n",
              "    }\n",
              "\n",
              "    .dataframe thead th {\n",
              "        text-align: right;\n",
              "    }\n",
              "</style>\n",
              "<table border=\"1\" class=\"dataframe\">\n",
              "  <thead>\n",
              "    <tr style=\"text-align: right;\">\n",
              "      <th></th>\n",
              "      <th>Y</th>\n",
              "      <th>X</th>\n",
              "    </tr>\n",
              "  </thead>\n",
              "  <tbody>\n",
              "    <tr>\n",
              "      <th>Y</th>\n",
              "      <td>1.000000</td>\n",
              "      <td>0.984835</td>\n",
              "    </tr>\n",
              "    <tr>\n",
              "      <th>X</th>\n",
              "      <td>0.984835</td>\n",
              "      <td>1.000000</td>\n",
              "    </tr>\n",
              "  </tbody>\n",
              "</table>\n",
              "</div>"
            ],
            "text/plain": [
              "          Y         X\n",
              "Y  1.000000  0.984835\n",
              "X  0.984835  1.000000"
            ]
          },
          "metadata": {
            "tags": []
          },
          "execution_count": 48
        }
      ]
    },
    {
      "cell_type": "markdown",
      "metadata": {
        "id": "lzD2VpXccak9"
      },
      "source": [
        "### Função de regressão populacional\n",
        "\n",
        "A equação formulada acima é conhecida como **função de regressão populacional (FRP)** e em alguns livros é também representada da seguinte forma:\n",
        "\n",
        "# $$E(Y|X_i) = \\beta_1 + \\beta_2X_i$$\n",
        "\n",
        "Ela afirma que o valor esperado da distribuição de $Y$, dado $X_i$, tem uma relação funcional com $X_i$, isto é, a resposta média de $Y$ varia com $X$. O coeficientes $\\beta_1$ e $\\beta_2$ são conhecidos como coeficientes de regressão e também são conhecidos como intercepto e coeficiente angular, respectivamente.\n",
        "\n",
        "<img src=\"https://caelum-online-public.s3.amazonaws.com/1273-estatistica-parte4/01/img027.png\" width=50%>\n",
        "\n",
        "O gráfico de dispersão acima deixa claro que com o aumento da renda familiar, em média, as despesas de consumo das famílias aumentam, mas não no mesmo nível. O que podemos dizer é que para um nível de renda $X_i$ as despesas médias de consumo de uma\n",
        "família agrupam-se em torno do consumo médio de todas as famílias deste nível $X_i$, isto é, em torno de sua esperança condicional $E(Y|X_i)$. Portanto, podemos expressar o desvio individual de $Y_i$ em torno de seu valor esperado da seguinte forma:\n",
        "\n",
        "# $$u_i = Y_i - E(Y|X_i)$$\n",
        "\n",
        "ou\n",
        "\n",
        "# $$Y_i = E(Y|X_i) + u_i$$\n",
        "\n",
        "onde o desvio $u_i$ é uma variável aleatória não-observável que assume valores positivos ou negativos. Esta variável é também cohecida como termo de erro estocástico.\n",
        "\n",
        "Observe que a podemos representar a FRP em sua forma estocástica da seguinte maneira:\n",
        "\n",
        "# $$Y_i = \\beta_1 + \\beta_2X_i + u_i$$"
      ]
    },
    {
      "cell_type": "markdown",
      "metadata": {
        "id": "yOR8pKHkcak9"
      },
      "source": [
        "## <font color=green>4.2 O método de mínimos quadrados</font>\n",
        "***"
      ]
    },
    {
      "cell_type": "markdown",
      "metadata": {
        "id": "M-iKUvPlcak-"
      },
      "source": [
        "Considere a seguinte **função de regressão da população (FRP)** para duas variáveis:\n",
        "\n",
        "# $$Y_i = \\beta_1 + \\beta_2X_i + u_i$$\n",
        "\n",
        "Como a **FRP** não pode ser obtida de forma direta, precisamos estimá-la através da **função de regressão amostral (FRA)**.\n",
        "\n",
        "# $$Y_i = \\hat{\\beta}_1 + \\hat{\\beta}_2X_i + \\hat{u}_i$$\n",
        "# $$Y_i = \\hat{Y}_i + \\hat{u}_i$$\n",
        "\n",
        "onde $\\hat{Y}_i$ é o valor estimado de $Y_i$.\n",
        "\n",
        "A partir da equação acima podemos expressar o erro da seguinte maneira:\n",
        "\n",
        "# $$\\hat{u}_i = Y_i - \\hat{Y}_i$$\n",
        "# $$\\hat{u}_i = Y_i - \\hat{\\beta}_1 - \\hat{\\beta}_2X_i$$\n",
        "\n",
        "A ideia é determinar **FRA** de forma que fique o mais próximo possível do valor observado de $Y$. Intuitivamente uma forma interessante de fazer isso seria determinar **FRA** de maneira que a soma dos resíduos seja a menor possível.\n",
        "\n",
        "# $$\\sum\\hat{u}_i = \\sum{(Y_i - \\hat{Y}_i)}$$\n",
        "\n",
        "Avaliando a figura abaixo se pode verificar que talvez o critério de minimizar a soma dos resíduos não seja a melhor abordagem para solucionar o problema.\n",
        "\n",
        "<img src=\"https://caelum-online-public.s3.amazonaws.com/1273-estatistica-parte4/01/img015.png\" width=50%>\n",
        "\n",
        "O critério de minimização da soma dos resíduos assume que todos os resíduos tem o mesmo peso no somatório, o que nem sempre se comprova. Em nosso exemplo os resíduos $\\hat{u}_1$ e $\\hat{u}_4$ encontram-se bem mais afastados da **FRA** que $\\hat{u}_2$ e $\\hat{u}_3$. Isso acarreta na possibilidade de que a soma dos $\\hat{u}_i$'s seja bastante pequena e até mesmo nula, mesmo que os resíduos estejam muito dispersos em relação a reta de regressão.\n",
        "\n",
        "Para evitar tal problema adotou-se o critério de minimização da soma dos quadrados dos resíduos que é conhecido como **Método de Mínimos Quadrados**.\n",
        "\n",
        "# $$\\sum\\hat{u}_i^2 = \\sum{(Y_i - \\hat{Y}_i)^2}$$\n",
        "# $$\\sum\\hat{u}_i^2 = \\sum{(Y_i - \\hat{\\beta}_1 - \\hat{\\beta}_2X_i)^2}$$\n",
        "\n",
        "Após um procedimento de diferenciação, algumas simplificações e manipulações algébricas obtemos os **estimadores de mínimos quadrados**.\n",
        "\n",
        "# $$\n",
        "\\begin{equation}\n",
        "\\boxed{\\hat{\\beta}_2 = \\frac{n\\sum{X_iY_i} - \\sum{X_i}\\sum{Y_i}}{n\\sum{X_i^2} - (\\sum{X_i})^2}}\n",
        "\\end{equation}\n",
        "$$\n",
        "\n",
        "# $$\n",
        "\\begin{equation}\n",
        "\\boxed{\n",
        "\\begin{eqnarray}\n",
        "\\hat{\\beta}_1 &=& \\frac{\\sum{X_i^2}\\sum{Y_i} - \\sum{X_i}\\sum{X_iY_i}}{n\\sum{X_i^2} - (\\sum{X_i})^2}\\\\\n",
        "&=& \\bar{Y} - \\hat{\\beta}_2\\bar{X}\n",
        "\\end{eqnarray}\n",
        "}\n",
        "\\end{equation}\n",
        "$$"
      ]
    },
    {
      "cell_type": "markdown",
      "metadata": {
        "id": "bIsppET0cak-"
      },
      "source": [
        "## <font color=green>4.3 Estimadores de mínimos quadrados ordinários</font>\n",
        "***"
      ]
    },
    {
      "cell_type": "markdown",
      "metadata": {
        "id": "HTFJyCNCcalE"
      },
      "source": [
        "### Obter $n$"
      ]
    },
    {
      "cell_type": "code",
      "metadata": {
        "id": "ZcHOhSNRcalE"
      },
      "source": [
        ""
      ],
      "execution_count": 19,
      "outputs": []
    },
    {
      "cell_type": "markdown",
      "metadata": {
        "id": "2R8QzULvcalF"
      },
      "source": [
        "### Obter $\\sum{Y}$"
      ]
    },
    {
      "cell_type": "code",
      "metadata": {
        "id": "wfY4FHLgcalG"
      },
      "source": [
        ""
      ],
      "execution_count": 19,
      "outputs": []
    },
    {
      "cell_type": "markdown",
      "metadata": {
        "id": "dpWo8F-fcalI"
      },
      "source": [
        "### Obter $\\sum{X}$"
      ]
    },
    {
      "cell_type": "code",
      "metadata": {
        "id": "vgRIhNl9calI"
      },
      "source": [
        ""
      ],
      "execution_count": 19,
      "outputs": []
    },
    {
      "cell_type": "markdown",
      "metadata": {
        "id": "ZOrXXyygcalJ"
      },
      "source": [
        "### Obter $\\sum{X^2}$"
      ]
    },
    {
      "cell_type": "code",
      "metadata": {
        "id": "boXBQUIJcalK",
        "scrolled": true
      },
      "source": [
        ""
      ],
      "execution_count": 19,
      "outputs": []
    },
    {
      "cell_type": "code",
      "metadata": {
        "id": "ce-I43picalL"
      },
      "source": [
        ""
      ],
      "execution_count": 19,
      "outputs": []
    },
    {
      "cell_type": "code",
      "metadata": {
        "id": "TAiTZKfOcalM"
      },
      "source": [
        ""
      ],
      "execution_count": 19,
      "outputs": []
    },
    {
      "cell_type": "markdown",
      "metadata": {
        "id": "ls1COzpxcalN"
      },
      "source": [
        "### Obter $\\sum{Y^2}$"
      ]
    },
    {
      "cell_type": "code",
      "metadata": {
        "id": "gYc_poUmcalN"
      },
      "source": [
        ""
      ],
      "execution_count": 19,
      "outputs": []
    },
    {
      "cell_type": "markdown",
      "metadata": {
        "id": "UsCtTk3pcalP"
      },
      "source": [
        "### Obter $\\sum{XY}$"
      ]
    },
    {
      "cell_type": "code",
      "metadata": {
        "id": "Mw4pfCAEcalP",
        "scrolled": true
      },
      "source": [
        ""
      ],
      "execution_count": 19,
      "outputs": []
    },
    {
      "cell_type": "code",
      "metadata": {
        "id": "s1NNuoM4calQ"
      },
      "source": [
        ""
      ],
      "execution_count": 19,
      "outputs": []
    },
    {
      "cell_type": "code",
      "metadata": {
        "id": "fwAWf3SScalR"
      },
      "source": [
        ""
      ],
      "execution_count": 19,
      "outputs": []
    },
    {
      "cell_type": "code",
      "metadata": {
        "id": "_6-qQG_ucalS"
      },
      "source": [
        ""
      ],
      "execution_count": 19,
      "outputs": []
    },
    {
      "cell_type": "markdown",
      "metadata": {
        "id": "EX-oAn2rcalU"
      },
      "source": [
        "### Obter $\\hat{\\beta}_2$\n",
        "\n",
        "# $$\\hat{\\beta}_2 = \\frac{n\\sum{X_iY_i} - \\sum{X_i}\\sum{Y_i}}{n\\sum{X_i^2} - (\\sum{X_i})^2}$$"
      ]
    },
    {
      "cell_type": "code",
      "metadata": {
        "id": "UY-nWn7LcalU"
      },
      "source": [
        ""
      ],
      "execution_count": 19,
      "outputs": []
    },
    {
      "cell_type": "markdown",
      "metadata": {
        "id": "v4QCFagscalW"
      },
      "source": [
        "### Obter $\\hat{\\beta}_1$\n",
        "\n",
        "# $$\n",
        "\\begin{eqnarray}\n",
        "\\hat{\\beta}_1 &=& \\frac{\\sum{X_i^2}\\sum{Y_i} - \\sum{X_i}\\sum{X_iY_i}}{n\\sum{X_i^2} - (\\sum{X_i})^2}\\\\\n",
        "&=& \\bar{Y} - \\hat{\\beta}_2\\bar{X}\n",
        "\\end{eqnarray}\n",
        "$$ "
      ]
    },
    {
      "cell_type": "code",
      "metadata": {
        "id": "-Gjc1ra5calW"
      },
      "source": [
        ""
      ],
      "execution_count": 19,
      "outputs": []
    },
    {
      "cell_type": "markdown",
      "metadata": {
        "id": "SjcncMd1calY"
      },
      "source": [
        "### Obtendo a estimativa dos parâmetros com o StatsModels"
      ]
    },
    {
      "cell_type": "markdown",
      "metadata": {
        "id": "Ud6O4f-qcalY"
      },
      "source": [
        "### Importando a biblioteca\n",
        "https://www.statsmodels.org/stable/index.html"
      ]
    },
    {
      "cell_type": "code",
      "metadata": {
        "id": "QnYZ2T-7calZ"
      },
      "source": [
        ""
      ],
      "execution_count": 19,
      "outputs": []
    },
    {
      "cell_type": "code",
      "metadata": {
        "id": "sUlIFQh-calb"
      },
      "source": [
        ""
      ],
      "execution_count": 19,
      "outputs": []
    },
    {
      "cell_type": "code",
      "metadata": {
        "id": "6Npgg9NNcald",
        "scrolled": true
      },
      "source": [
        ""
      ],
      "execution_count": 19,
      "outputs": []
    },
    {
      "cell_type": "code",
      "metadata": {
        "id": "eDgJXjCAcale",
        "scrolled": true
      },
      "source": [
        ""
      ],
      "execution_count": 19,
      "outputs": []
    },
    {
      "cell_type": "markdown",
      "metadata": {
        "id": "OZs1ykL_calh"
      },
      "source": [
        "### Estimando o modelo"
      ]
    },
    {
      "cell_type": "code",
      "metadata": {
        "id": "CGGritStcalh"
      },
      "source": [
        ""
      ],
      "execution_count": 19,
      "outputs": []
    },
    {
      "cell_type": "markdown",
      "metadata": {
        "id": "pyVnbv7vcali"
      },
      "source": [
        "### Visualizando os parâmetros estimados"
      ]
    },
    {
      "cell_type": "code",
      "metadata": {
        "id": "Ye2sF_ygcalj"
      },
      "source": [
        ""
      ],
      "execution_count": 19,
      "outputs": []
    },
    {
      "cell_type": "code",
      "metadata": {
        "id": "5RGcqao9call"
      },
      "source": [
        ""
      ],
      "execution_count": 19,
      "outputs": []
    },
    {
      "cell_type": "code",
      "metadata": {
        "id": "RUScqQ1dcalm"
      },
      "source": [
        ""
      ],
      "execution_count": 19,
      "outputs": []
    },
    {
      "cell_type": "code",
      "metadata": {
        "id": "9geqX6FScaln"
      },
      "source": [
        ""
      ],
      "execution_count": 19,
      "outputs": []
    },
    {
      "cell_type": "code",
      "metadata": {
        "id": "U238WwEVcalo"
      },
      "source": [
        ""
      ],
      "execution_count": 19,
      "outputs": []
    },
    {
      "cell_type": "markdown",
      "metadata": {
        "id": "POcFkp72calp"
      },
      "source": [
        "### Intervalo de confiança para os parâmetros estimados"
      ]
    },
    {
      "cell_type": "code",
      "metadata": {
        "id": "-VrPhUV8calp"
      },
      "source": [
        ""
      ],
      "execution_count": 19,
      "outputs": []
    },
    {
      "cell_type": "markdown",
      "metadata": {
        "id": "Je8U449lcalq"
      },
      "source": [
        "## <font color=green>4.4 Obtendo previsões</font>\n",
        "***"
      ]
    },
    {
      "cell_type": "markdown",
      "metadata": {
        "id": "PNPQFFsrcalq"
      },
      "source": [
        "# $$\\hat{Y}_i = 207,9033 + 0,2973X_i$$"
      ]
    },
    {
      "cell_type": "markdown",
      "metadata": {
        "id": "qNpJclcrcalr"
      },
      "source": [
        "### Previsões dentro da amostra"
      ]
    },
    {
      "cell_type": "code",
      "metadata": {
        "id": "fqOX7ssAcalr",
        "scrolled": true
      },
      "source": [
        ""
      ],
      "execution_count": 19,
      "outputs": []
    },
    {
      "cell_type": "markdown",
      "metadata": {
        "id": "hRRoxxAwcals"
      },
      "source": [
        "### Utilizando o statsmodels"
      ]
    },
    {
      "cell_type": "code",
      "metadata": {
        "id": "qLhv0yTgcals",
        "scrolled": true
      },
      "source": [
        ""
      ],
      "execution_count": 19,
      "outputs": []
    },
    {
      "cell_type": "code",
      "metadata": {
        "id": "FctIV05Kcalu",
        "scrolled": true
      },
      "source": [
        ""
      ],
      "execution_count": 19,
      "outputs": []
    },
    {
      "cell_type": "markdown",
      "metadata": {
        "id": "OZBs0luwcalv"
      },
      "source": [
        "### Estimando o 'Gasto das Famílias' fora da amostra"
      ]
    },
    {
      "cell_type": "code",
      "metadata": {
        "id": "4gXSqx41calv"
      },
      "source": [
        ""
      ],
      "execution_count": 19,
      "outputs": []
    },
    {
      "cell_type": "code",
      "metadata": {
        "id": "RyBwrPlQcalx"
      },
      "source": [
        ""
      ],
      "execution_count": 19,
      "outputs": []
    },
    {
      "cell_type": "markdown",
      "metadata": {
        "id": "3P0ZtB-Qcalz"
      },
      "source": [
        "### Estimando o 'Gasto das Famílias' fora da amostra via StatsModels"
      ]
    },
    {
      "cell_type": "code",
      "metadata": {
        "id": "DpDu_yiecal0"
      },
      "source": [
        ""
      ],
      "execution_count": 19,
      "outputs": []
    },
    {
      "cell_type": "markdown",
      "metadata": {
        "id": "NfEjm65Gcal2"
      },
      "source": [
        "## <font color=green>4.5 Resíduos</font>\n",
        "***"
      ]
    },
    {
      "cell_type": "markdown",
      "metadata": {
        "id": "RVAQCkvH75mH"
      },
      "source": [
        "Como vimos anteriormente, o resíduo da i-ésima observação é a diferença entre o valor observado de nossa variável dependente ($Y_i$) e o valor estimado da variável dependente ($\\hat{Y}_i$)."
      ]
    },
    {
      "cell_type": "markdown",
      "metadata": {
        "id": "EAGrrY7xcal3"
      },
      "source": [
        "# $$\\hat{u}_i = Y_i - \\hat{Y}_i$$"
      ]
    },
    {
      "cell_type": "markdown",
      "metadata": {
        "id": "QVekZtNU75mH"
      },
      "source": [
        "Em outras palavras, $\\hat{u}_i$ é o erro obtido ao se utilizar a equação de regressão estimada para prever o valor da variável dependente."
      ]
    },
    {
      "cell_type": "code",
      "metadata": {
        "id": "oiB2JiOLcal3",
        "scrolled": true
      },
      "source": [
        ""
      ],
      "execution_count": 41,
      "outputs": []
    },
    {
      "cell_type": "code",
      "metadata": {
        "id": "_rtZhoU8cal5"
      },
      "source": [
        ""
      ],
      "execution_count": null,
      "outputs": []
    },
    {
      "cell_type": "code",
      "metadata": {
        "id": "GbnSv-B-cal6",
        "scrolled": true
      },
      "source": [
        ""
      ],
      "execution_count": 19,
      "outputs": []
    },
    {
      "cell_type": "code",
      "metadata": {
        "id": "HQZQyrCzmHha"
      },
      "source": [
        ""
      ],
      "execution_count": 19,
      "outputs": []
    },
    {
      "cell_type": "markdown",
      "metadata": {
        "id": "2FUvXCAW75mL"
      },
      "source": [
        "## <font color=green>4.6 Suposições sobre o termo de erro $u$</font>\n",
        "***\n",
        "\n",
        "### 1. O termo de erro $u$ é uma variável aleatória com média igual a zero: $E(u) = 0$\n",
        "### 2. A variância de $u$ é a mesma para todos os valores de $X$\n",
        "### 3. O valores de $u$ são independentes\n",
        "### 4. O termo de erro $u$ é uma variável aleatória normalmente distribuída."
      ]
    },
    {
      "cell_type": "markdown",
      "metadata": {
        "id": "7mFDWvhFcal7"
      },
      "source": [
        "### Plotando os resíduos do modelo\n",
        "\n",
        "https://seaborn.pydata.org/generated/seaborn.scatterplot.html"
      ]
    },
    {
      "cell_type": "code",
      "metadata": {
        "id": "r3RhXDBccal8"
      },
      "source": [
        ""
      ],
      "execution_count": 19,
      "outputs": []
    },
    {
      "cell_type": "code",
      "metadata": {
        "id": "6An7Ir6275mN"
      },
      "source": [
        ""
      ],
      "execution_count": 19,
      "outputs": []
    },
    {
      "cell_type": "markdown",
      "metadata": {
        "id": "72hPAKNKcamD"
      },
      "source": [
        "### Hipótese de variância constante"
      ]
    },
    {
      "cell_type": "markdown",
      "metadata": {
        "id": "dm_pfD0jcamE"
      },
      "source": [
        "<img src=\"https://caelum-online-public.s3.amazonaws.com/1273-estatistica-parte4/01/img028.jpg\" width=80%>\n",
        "Fonte: Econometria Básica - 5ª edição - Gujarati e Porter"
      ]
    },
    {
      "cell_type": "code",
      "metadata": {
        "id": "lCys_bu_camE"
      },
      "source": [
        ""
      ],
      "execution_count": 19,
      "outputs": []
    },
    {
      "cell_type": "markdown",
      "metadata": {
        "id": "d3X2NkIicamv"
      },
      "source": [
        "## <font color=green>4.7 O coeficiente de determinação $R^2$</font>\n",
        "***"
      ]
    },
    {
      "cell_type": "markdown",
      "metadata": {
        "id": "02AXBeBrcamw"
      },
      "source": [
        "O **coeficiente de determinação R²** é uma medida resumida que diz quanto a linha de regressão amostral se ajusta aos dados. Pode ser obtido a partir da seguinte fórmula:\n",
        "\n",
        "# $$R^2 = \\frac{\\big[\\sum{(Y_i - \\bar{Y})(\\hat{Y}_i - \\bar{Y})}\\big]^2}{\\sum{(Y_i - \\bar{Y}})^2 \\sum{(\\hat{Y}_i - \\bar{Y}})^2}$$\n",
        "\n",
        "Sabemos que o i-ésimo resíduo representa o erro de usarmos $\\hat{Y}_i$ para estimar $Y_i$. A soma dos quadrados desses resíduos é o valor que é minimizado pelo método dos mínimos quadrados. Esse valor pode ser representado da seguinte forma:\n",
        "\n",
        "# $$SQE = \\sum{(Y_i - \\hat{Y}_i)^2}$$\n",
        "\n",
        "O valor da SQE é uma medida do erro de se usar a equação de regressão estimada para estimar os valores da variável dependente na amostra.\n",
        "\n",
        "Outro componente que podemos medir é a soma dos quadrados total (SQT) que representa a medida do erro envolvido no uso da média ($\\bar{Y}$) para fazer as estimativas. A SQT pode ser representada da forma abaixo:\n",
        "\n",
        "# $$SQT = \\sum{(Y_i - \\bar{Y})^2}$$\n",
        "\n",
        "Para quantificar o quanto os valores estimados ($\\hat{Y}_i$) se afastam da média ($\\bar{Y}$) podemos obter mais uma soma de quadrados. Essa soma é chamada de soma dos quadrados da regressão (SQR) e é representada pela seguinte fórmula:\n",
        "\n",
        "# $$SQR = \\sum{(\\hat{Y}_i - \\bar{Y})^2}$$\n"
      ]
    },
    {
      "cell_type": "markdown",
      "metadata": {
        "id": "R5QuIfRCoT_W"
      },
      "source": [
        "### Soma do quadrados do erros (SQE)"
      ]
    },
    {
      "cell_type": "code",
      "metadata": {
        "id": "mjDVczwGcamw"
      },
      "source": [
        ""
      ],
      "execution_count": 19,
      "outputs": []
    },
    {
      "cell_type": "code",
      "metadata": {
        "id": "fJ9ANPnIcamx"
      },
      "source": [
        ""
      ],
      "execution_count": 19,
      "outputs": []
    },
    {
      "cell_type": "code",
      "metadata": {
        "id": "EzaZHZas75mT"
      },
      "source": [
        ""
      ],
      "execution_count": 19,
      "outputs": []
    },
    {
      "cell_type": "markdown",
      "metadata": {
        "id": "ciYucebH75mU"
      },
      "source": [
        "### Soma do quadrados total (SQT)"
      ]
    },
    {
      "cell_type": "code",
      "metadata": {
        "id": "8nBBr4HE75mV"
      },
      "source": [
        ""
      ],
      "execution_count": 19,
      "outputs": []
    },
    {
      "cell_type": "markdown",
      "metadata": {
        "id": "2faHnARf75mW"
      },
      "source": [
        "### Soma do quadrados da regressão (SQR)"
      ]
    },
    {
      "cell_type": "code",
      "metadata": {
        "id": "sOIQrg2q75mW"
      },
      "source": [
        ""
      ],
      "execution_count": 19,
      "outputs": []
    },
    {
      "cell_type": "code",
      "metadata": {
        "id": "6Z_ZWswM75mX"
      },
      "source": [
        ""
      ],
      "execution_count": 19,
      "outputs": []
    },
    {
      "cell_type": "markdown",
      "metadata": {
        "id": "qzIqboEg75mY"
      },
      "source": [
        "### Relação entre as somas de quadrados\n",
        "\n",
        "# $$SQT = SQR + SQE$$\n",
        "\n",
        "Onde,\n",
        "\n",
        "\n",
        "### $SQE = \\sum{(Y_i - \\hat{Y}_i)^2}$\n",
        "\n",
        "### $SQT = \\sum{(Y_i - \\bar{Y})^2}$\n",
        "\n",
        "### $SQR = \\sum{(\\hat{Y}_i - \\bar{Y})^2}$\n",
        "\n",
        "\n",
        "<img src=\"https://caelum-online-public.s3.amazonaws.com/1273-estatistica-parte4/01/img029.png\" width=50%>"
      ]
    },
    {
      "cell_type": "code",
      "metadata": {
        "id": "GOcnkBJY75mZ"
      },
      "source": [
        ""
      ],
      "execution_count": 19,
      "outputs": []
    },
    {
      "cell_type": "markdown",
      "metadata": {
        "id": "OMz_pGr375ma"
      },
      "source": [
        "### Coeficiente de determinação (R²)\n",
        "\n",
        "A regressão estimada teria um ajuste perfeito se todos os valores da variável dependente ($Y_i$) estiverem sobre a reta de regressão estimada. Quando isso ocorre temos $Y_i - \\hat{Y}_i = 0$ para todas as observações, o que resulta em uma $SQE = 0$. Como $SQT=SQR+SQE$, é possível deduzir que para termos um ajuste perfeito $SQT$ deve ser igual a $SQR$ e a razão entre estas medidas ($\\frac{SQR}{SQT}$) deve ser igual a 1.\n",
        "\n",
        "Quando o ajuste não é tão perfeito nota-se que a $SQE$ apresenta valores maiores o que faz a razão $\\frac{SQR}{SQT}$ diminuir, e em uma situação de total imperfeição do ajuste teríamos uma $SQR=0$ e $SQE=SQT$ levando a $\\frac{SQR}{SQT}=0$.\n",
        "\n",
        "A razão $\\frac{SQR}{SQT}$, que assume valores entre 0 e 1, é utilizada como medida de eficiência do ajuste da equação de regressão estimada. Essa medida é conhecida como coeficiente de determinação (R²).\n",
        "\n",
        "# $$R^2 = \\frac{SQR}{SQT}$$\n",
        "\n",
        "## <font color='red'>Observação</font>\n",
        "> Somente com a utilização do R² não é possível tirar conclusões sobre a relação entre $Y$ e $X$ ser ou não ser estatisticamente\n",
        "significativa. Este tipo de afirmação deve basear-se em considerações que envolvem o tamanho da amostra e as propriedades da distribuição amostral dos estimadores mínimos quadrados."
      ]
    },
    {
      "cell_type": "code",
      "metadata": {
        "id": "dKUngOqP75ma"
      },
      "source": [
        ""
      ],
      "execution_count": 19,
      "outputs": []
    },
    {
      "cell_type": "code",
      "metadata": {
        "id": "oFowDxPB75mb"
      },
      "source": [
        ""
      ],
      "execution_count": 19,
      "outputs": []
    },
    {
      "cell_type": "markdown",
      "metadata": {
        "id": "BwQR3YxTcam0"
      },
      "source": [
        "## <font color=green>4.8 Testes aplicados a modelos de regressão</font>\n",
        "***"
      ]
    },
    {
      "cell_type": "markdown",
      "metadata": {
        "id": "eGZZaMp4td9Y"
      },
      "source": [
        "Como vimos, em uma regressão linear simples, a média da variável dependente ($Y$) é uma função linear da variável independente ($X$):\n",
        "\n",
        "# $$Y_i = \\beta_1 + \\beta_2X_i$$\n",
        "\n",
        "Se o valor de $\\beta_2$ for zero podemos verificar que o valor médio de $Y$ não depende do valor de $X$ e, portanto, concluímos que $X$ e $Y$ não estão linearmente relacionados. De forma alternativa, se o valor de $\\beta_2$ não for igual a zero, concluímos que as duas variáveis estão relacionadas.\n",
        "\n",
        "Para testar se a relação de regressão é significativa, é preciso realizar um **teste de hipóteses** para determinar se o valor de $\\beta_2$ é zero. Antes de realizar este tipo de teste precisamos obter uma estimativa para $\\sigma^2$ (variância do erro)."
      ]
    },
    {
      "cell_type": "markdown",
      "metadata": {
        "id": "ePVflM9mtd9Z"
      },
      "source": [
        "### Output do modelo de regressão estimado"
      ]
    },
    {
      "cell_type": "code",
      "metadata": {
        "id": "xZu92Yaztd9Z"
      },
      "source": [
        ""
      ],
      "execution_count": 19,
      "outputs": []
    },
    {
      "cell_type": "markdown",
      "metadata": {
        "id": "imBNBULStd9a"
      },
      "source": [
        "### Erro quadrático médio - estimativa de $\\sigma^2$\n",
        "\n",
        "Lembre-se que a **soma dos quadrados do erros (SQE)** é uma medida numérica da variabilidade dos dados observados em torno da reta de regressão estimada. Todas as somas de quadrados, estudadas anteriormente, estão associadas a um determinado número de graus de liberdade. No caso da SQE, como devem ser estimados dois parâmetros, temos $n-2$ graus de liberdade.\n",
        "\n",
        "O **erro quadrático médio**, representado pela equação abaixo, pode ser obtido dividindo-se a SQE por $n-2$ graus de liberdade.\n",
        "\n",
        "# $$EQM = \\frac{SQE}{n-2}$$"
      ]
    },
    {
      "cell_type": "code",
      "metadata": {
        "id": "aDxRwFWJtd9a"
      },
      "source": [
        ""
      ],
      "execution_count": 19,
      "outputs": []
    },
    {
      "cell_type": "code",
      "metadata": {
        "id": "qg5nZub3CEFx"
      },
      "source": [
        ""
      ],
      "execution_count": 19,
      "outputs": []
    },
    {
      "cell_type": "code",
      "metadata": {
        "id": "TXfeyZwvtd9b"
      },
      "source": [
        ""
      ],
      "execution_count": 19,
      "outputs": []
    },
    {
      "cell_type": "code",
      "metadata": {
        "id": "CF28rNuKtd9d"
      },
      "source": [
        ""
      ],
      "execution_count": 19,
      "outputs": []
    },
    {
      "cell_type": "markdown",
      "metadata": {
        "id": "3xHqA9Gicam0"
      },
      "source": [
        "### Teste de hipótese para nulidade do coeficiente angular"
      ]
    },
    {
      "cell_type": "markdown",
      "metadata": {
        "id": "QpUUlnKw9Ac_"
      },
      "source": [
        "Considere o seguinte modelo de regressão linear simples:\n",
        "\n",
        "# $$Y_i = \\beta_1 + \\beta_2X_i + u_i$$\n",
        "\n",
        "Se as variáveis $Y$ e $X$ são linearmente relacionadas, espera-se que $\\beta_2$ seja diferente de zero. Para testar esta hipótese formulamos um teste de hipótese com a seguinte especificação de hipóteses nula e alternativa:\n",
        "\n",
        "## $H_0: \\beta_2 = 0$\n",
        "## $H_1: \\beta_2 \\neq 0$\n",
        "\n",
        "Caso $H_0$ seja rejeitada, concluiremos que existe uma relação linear estatisticamente significativa entre as duas variáveis.\n",
        "\n",
        "Considere agora que $b_1$ e $b_2$ são nossos estimadores de mínimos quadrados. Considere que a distribuição amostral de $b_2$ segue uma normal e também as seguintes propriedades:\n",
        "\n",
        "# $$E(b_2) = \\beta_2$$\n",
        "# $$\\sigma_{b_2} = \\frac{\\sigma}{\\sqrt{\\sum{(X_i - \\bar{X})^2}}}$$\n",
        "\n",
        "Como não conhecemos o valor de $\\sigma$, utilizamos $s$ como estimativa:\n",
        "\n",
        "# $$s_{b_2} = \\frac{s}{\\sqrt{\\sum{(X_i - \\bar{X})^2}}}$$\n",
        "\n",
        "Note que o valor esperado de $b_2$ é $\\beta_2$, logo, $b_2$ é um estimador não viesado de $\\beta_2$. Abaixo temos a estatística de teste (t) que segue uma distribuição t de Student com $n-2$ graus de liberdade.\n",
        "\n",
        "# $$t = \\frac{b_2 - \\beta_2}{s_{b_2}}$$"
      ]
    },
    {
      "cell_type": "markdown",
      "metadata": {
        "id": "hupnxGgFtd9g"
      },
      "source": [
        "### Calculando $s$"
      ]
    },
    {
      "cell_type": "code",
      "metadata": {
        "id": "9r87ZchPcam2"
      },
      "source": [
        ""
      ],
      "execution_count": 19,
      "outputs": []
    },
    {
      "cell_type": "markdown",
      "metadata": {
        "id": "mr85iUdatd9q"
      },
      "source": [
        "### Calculando $\\sum{(X_i - \\bar{X})^2}$"
      ]
    },
    {
      "cell_type": "code",
      "metadata": {
        "id": "exNBEriWtd9q"
      },
      "source": [
        ""
      ],
      "execution_count": 19,
      "outputs": []
    },
    {
      "cell_type": "markdown",
      "metadata": {
        "id": "mEuMAudxtd9u"
      },
      "source": [
        "### Calculando $s_{b_2}$"
      ]
    },
    {
      "cell_type": "code",
      "metadata": {
        "id": "uwr9JWN_td9u"
      },
      "source": [
        ""
      ],
      "execution_count": 19,
      "outputs": []
    },
    {
      "cell_type": "markdown",
      "metadata": {
        "id": "ZXe59tB-td9w"
      },
      "source": [
        "### Determinando as áreas de aceitação e rejeição de $H_0$"
      ]
    },
    {
      "cell_type": "code",
      "metadata": {
        "id": "sYjgmVgUtd9w"
      },
      "source": [
        ""
      ],
      "execution_count": 19,
      "outputs": []
    },
    {
      "cell_type": "markdown",
      "metadata": {
        "id": "cuvV9yC-td9x"
      },
      "source": [
        "![Região de Aceitação](https://caelum-online-public.s3.amazonaws.com/1273-estatistica-parte4/01/img031.png)"
      ]
    },
    {
      "cell_type": "markdown",
      "metadata": {
        "id": "z9tmldlUtd9y"
      },
      "source": [
        "### Níveis de confiança e significância"
      ]
    },
    {
      "cell_type": "code",
      "metadata": {
        "id": "x6imEPp0td9y"
      },
      "source": [
        ""
      ],
      "execution_count": 19,
      "outputs": []
    },
    {
      "cell_type": "code",
      "metadata": {
        "id": "VFJGcIRGD-ai"
      },
      "source": [
        ""
      ],
      "execution_count": 19,
      "outputs": []
    },
    {
      "cell_type": "markdown",
      "metadata": {
        "id": "Xb6DWLiTtd9z"
      },
      "source": [
        "### Obtendo $t_{\\alpha/2}$"
      ]
    },
    {
      "cell_type": "code",
      "metadata": {
        "id": "yVEsPYPitd9z"
      },
      "source": [
        ""
      ],
      "execution_count": 19,
      "outputs": []
    },
    {
      "cell_type": "code",
      "metadata": {
        "id": "_Cfvwj7Ktd91"
      },
      "source": [
        ""
      ],
      "execution_count": 19,
      "outputs": []
    },
    {
      "cell_type": "markdown",
      "metadata": {
        "id": "oW11PFl4td94"
      },
      "source": [
        "![Região de Aceitação](https://caelum-online-public.s3.amazonaws.com/1273-estatistica-parte4/01/img032.png)"
      ]
    },
    {
      "cell_type": "markdown",
      "metadata": {
        "id": "Sjj0cgC7td94"
      },
      "source": [
        "### Obtendo $t = \\frac{b_2 - \\beta_2}{s_{b_2}}$"
      ]
    },
    {
      "cell_type": "code",
      "metadata": {
        "id": "Db8oVrEWtd94"
      },
      "source": [
        ""
      ],
      "execution_count": 19,
      "outputs": []
    },
    {
      "cell_type": "code",
      "metadata": {
        "id": "h-Tm7-Qstd95"
      },
      "source": [
        ""
      ],
      "execution_count": 19,
      "outputs": []
    },
    {
      "cell_type": "markdown",
      "metadata": {
        "id": "jOvLKfvitd97"
      },
      "source": [
        "![Região de Aceitação](https://caelum-online-public.s3.amazonaws.com/1273-estatistica-parte4/01/img033.png)"
      ]
    },
    {
      "cell_type": "markdown",
      "metadata": {
        "id": "lU747h33td97"
      },
      "source": [
        "### Etapas e regras de decisão do teste t de significância dos parâmetros"
      ]
    },
    {
      "cell_type": "markdown",
      "metadata": {
        "id": "kDHBbSAitd97"
      },
      "source": [
        "<img src=\"https://caelum-online-public.s3.amazonaws.com/1273-estatistica-parte4/01/img030.png\" width=90%>"
      ]
    },
    {
      "cell_type": "markdown",
      "metadata": {
        "id": "-Il6O2H6td98"
      },
      "source": [
        "### <font color='red'>Critério do valor crítico</font>\n",
        "\n",
        "> ### Teste Bicaudal\n",
        "> ### Rejeitar $H_0$ se $t \\leq -t_{\\alpha / 2}$ ou se $t \\geq t_{\\alpha / 2}$"
      ]
    },
    {
      "cell_type": "code",
      "metadata": {
        "id": "24_4-073td99"
      },
      "source": [
        ""
      ],
      "execution_count": 19,
      "outputs": []
    },
    {
      "cell_type": "code",
      "metadata": {
        "id": "jya2Bqvktd9-"
      },
      "source": [
        ""
      ],
      "execution_count": 19,
      "outputs": []
    },
    {
      "cell_type": "markdown",
      "metadata": {
        "id": "dW7cJcnQtd9_"
      },
      "source": [
        "### <font color='red'>Critério do $p-valor$</font>\n",
        "\n",
        "> ### Teste Bicaudal\n",
        "> ### Rejeitar $H_0$ se o valor $p\\leq\\alpha$"
      ]
    },
    {
      "cell_type": "code",
      "metadata": {
        "id": "LJQ3BBpBtd9_"
      },
      "source": [
        ""
      ],
      "execution_count": 19,
      "outputs": []
    },
    {
      "cell_type": "code",
      "metadata": {
        "id": "gpVuM3Gvtd-B"
      },
      "source": [
        ""
      ],
      "execution_count": 19,
      "outputs": []
    },
    {
      "cell_type": "code",
      "metadata": {
        "id": "Qtmjl1oBtd-C"
      },
      "source": [
        ""
      ],
      "execution_count": 19,
      "outputs": []
    },
    {
      "cell_type": "markdown",
      "metadata": {
        "id": "EP5tgnmttd-D"
      },
      "source": [
        "### <font color='green'>Conclusão: Rejeitamos $H_0$ e concluímos que existe uma relação significativa entre as duas variáveis.</font>"
      ]
    },
    {
      "cell_type": "code",
      "metadata": {
        "id": "HMaewwFXtd-D"
      },
      "source": [
        ""
      ],
      "execution_count": 19,
      "outputs": []
    },
    {
      "cell_type": "markdown",
      "metadata": {
        "id": "HTW4vH03td-E"
      },
      "source": [
        "---"
      ]
    },
    {
      "cell_type": "markdown",
      "metadata": {
        "id": "fEAeu55gtd-E"
      },
      "source": [
        "### Teste F"
      ]
    },
    {
      "cell_type": "markdown",
      "metadata": {
        "id": "boZIhWUmtd-E"
      },
      "source": [
        "O teste F também é uma ferramenta para testar a significância na regressão. Baseado na distribuição F de probabilidade, o teste F é utilizado para verificar a significância global na regressão, isto é, em uma regressão múltipla, onde existe mais de uma variável independente, o teste F verifica a nulidade de todos os parâmetros do modelo conjuntamente.\n",
        "\n",
        "Em nosso caso (regressão linear simples) ele fornece a mesma conclusão obtida com o teste t.\n",
        "\n",
        "**Hipóteses:**\n",
        "\n",
        "## $H_0: \\beta_2 = 0$\n",
        "## $H_0: \\beta_2 \\neq 0$\n",
        "\n",
        "**Estatística de teste:**\n",
        "\n",
        "# $$F = \\frac{\\frac{SQR}{k}}{\\frac{SQE}{n-k-1}}$$\n",
        "\n",
        "Onde,\n",
        "\n",
        "$SQR$ - soma dos quadrados da regressão\n",
        "\n",
        "$SQE$ - soma dos quadrados dos erros\n",
        "\n",
        "$k$ - total de variáveis independentes ($X$)\n",
        "\n",
        "**Regras de rejeição de $H_0$:**\n",
        "\n",
        "**Critério do valor crítico** $\\rightarrow$ Rejeitar se $F \\geq F_{\\alpha}$\n",
        "\n",
        "Onde,\n",
        "\n",
        "$F_{\\alpha}$ - baseia-se na distribuição F com $k$ graus de liberdade no numerador e $n-k-1$ no denominador.\n",
        "\n",
        "**Critério do p-valor** $\\rightarrow$ Rejeitar se $p-valor \\leq \\alpha$"
      ]
    },
    {
      "cell_type": "markdown",
      "metadata": {
        "id": "gT3WGPkNtd-E"
      },
      "source": [
        "### Calculando a estatística de teste ($F$)"
      ]
    },
    {
      "cell_type": "code",
      "metadata": {
        "id": "kGfJb7gVtd-E"
      },
      "source": [
        ""
      ],
      "execution_count": 19,
      "outputs": []
    },
    {
      "cell_type": "code",
      "metadata": {
        "id": "v-ano9jmtd-H"
      },
      "source": [
        ""
      ],
      "execution_count": 19,
      "outputs": []
    },
    {
      "cell_type": "code",
      "metadata": {
        "id": "9vtS-VQ2td-I"
      },
      "source": [
        ""
      ],
      "execution_count": 19,
      "outputs": []
    },
    {
      "cell_type": "code",
      "metadata": {
        "id": "w8yfK5k1td-K"
      },
      "source": [
        ""
      ],
      "execution_count": 19,
      "outputs": []
    },
    {
      "cell_type": "markdown",
      "metadata": {
        "id": "OEzKwQYztd-K"
      },
      "source": [
        "### Obtendo o p-valor"
      ]
    },
    {
      "cell_type": "code",
      "metadata": {
        "id": "XTl2Y4u5td-K"
      },
      "source": [
        ""
      ],
      "execution_count": 19,
      "outputs": []
    },
    {
      "cell_type": "code",
      "metadata": {
        "id": "OWswoJrHtd-M"
      },
      "source": [
        ""
      ],
      "execution_count": 19,
      "outputs": []
    },
    {
      "cell_type": "code",
      "metadata": {
        "id": "GH127n5atd-O"
      },
      "source": [
        ""
      ],
      "execution_count": 19,
      "outputs": []
    },
    {
      "cell_type": "code",
      "metadata": {
        "id": "TmkXMaKktd-P"
      },
      "source": [
        ""
      ],
      "execution_count": 19,
      "outputs": []
    },
    {
      "cell_type": "markdown",
      "metadata": {
        "id": "jy32sWqYtd-S"
      },
      "source": [
        "# <font color=green>5 EXTRAS</font>\n",
        "***"
      ]
    },
    {
      "cell_type": "markdown",
      "metadata": {
        "id": "MpTZNPXgtd-S"
      },
      "source": [
        "## <font color=green>5.1 Outros testes</font>\n",
        "***"
      ]
    },
    {
      "cell_type": "code",
      "metadata": {
        "id": "dP3-Wwp9td-S"
      },
      "source": [
        ""
      ],
      "execution_count": 19,
      "outputs": []
    },
    {
      "cell_type": "markdown",
      "metadata": {
        "id": "c60PkV_Std-U"
      },
      "source": [
        "### Normalidade dos resíduos - Omnibus\n",
        "\n",
        "> ### $H_0:$ Os dados se distribuem como uma normal\n",
        "\n",
        "https://docs.scipy.org/doc/scipy/reference/generated/scipy.stats.normaltest.html"
      ]
    },
    {
      "cell_type": "code",
      "metadata": {
        "id": "-Q6xvpfstd-U"
      },
      "source": [
        ""
      ],
      "execution_count": 19,
      "outputs": []
    },
    {
      "cell_type": "code",
      "metadata": {
        "id": "zrxNEHpstd-W"
      },
      "source": [
        ""
      ],
      "execution_count": 19,
      "outputs": []
    },
    {
      "cell_type": "markdown",
      "metadata": {
        "id": "trrfvTbQtd-X"
      },
      "source": [
        "https://docs.scipy.org/doc/scipy/reference/generated/scipy.stats.probplot.html"
      ]
    },
    {
      "cell_type": "code",
      "metadata": {
        "id": "Rv_9YHwutd-Z"
      },
      "source": [
        ""
      ],
      "execution_count": 19,
      "outputs": []
    },
    {
      "cell_type": "code",
      "metadata": {
        "id": "dYwjwYdMtd-b"
      },
      "source": [
        ""
      ],
      "execution_count": 19,
      "outputs": []
    },
    {
      "cell_type": "code",
      "metadata": {
        "id": "I5AOPc2vtd-c"
      },
      "source": [
        ""
      ],
      "execution_count": 19,
      "outputs": []
    },
    {
      "cell_type": "markdown",
      "metadata": {
        "id": "5ilwY6HQtd-d"
      },
      "source": [
        "### Verificando a simetria\n",
        "\n",
        "https://docs.scipy.org/doc/scipy/reference/generated/scipy.stats.skew.html"
      ]
    },
    {
      "cell_type": "code",
      "metadata": {
        "id": "6EuSXLHZtd-d"
      },
      "source": [
        ""
      ],
      "execution_count": 19,
      "outputs": []
    },
    {
      "cell_type": "code",
      "metadata": {
        "id": "dWLfxBy3td-g"
      },
      "source": [
        ""
      ],
      "execution_count": 19,
      "outputs": []
    },
    {
      "cell_type": "markdown",
      "metadata": {
        "id": "D52bUcYStd-g"
      },
      "source": [
        "### Verificando a curtose\n",
        "\n",
        "https://docs.scipy.org/doc/scipy/reference/generated/scipy.stats.kurtosis.html"
      ]
    },
    {
      "cell_type": "code",
      "metadata": {
        "id": "B_Zcx_cNtd-h"
      },
      "source": [
        ""
      ],
      "execution_count": 19,
      "outputs": []
    },
    {
      "cell_type": "markdown",
      "metadata": {
        "id": "19Z7h_Jhtd-h"
      },
      "source": [
        "### Normalidade dos resíduos - Jarque-Bera (statsmodels)\n",
        "\n",
        "> ### $H_0:$ Os dados se distribuem como uma normal\n",
        "\n",
        "> ### Estatística de teste\n",
        "> ### $$JB = \\frac{n}{6}(S^2 + \\frac{1}{4}(C - 3)^2)$$\n",
        "> #### Onde,\n",
        "> #### $n$ - número de observações\n",
        "> #### $S$ - Coeficiente de assimetria\n",
        "> #### $C$ - Coeficiente de curtose"
      ]
    },
    {
      "cell_type": "code",
      "metadata": {
        "id": "r356qjpOtd-h"
      },
      "source": [
        ""
      ],
      "execution_count": 19,
      "outputs": []
    },
    {
      "cell_type": "code",
      "metadata": {
        "id": "aK8Lvwvbtd-i"
      },
      "source": [
        ""
      ],
      "execution_count": 19,
      "outputs": []
    },
    {
      "cell_type": "code",
      "metadata": {
        "id": "4vvZL2V5td-j"
      },
      "source": [
        ""
      ],
      "execution_count": 19,
      "outputs": []
    },
    {
      "cell_type": "markdown",
      "metadata": {
        "id": "C7GvNaJztd-j"
      },
      "source": [
        "### Normalidade dos resíduos - Jarque-Bera (Correção)\n",
        "\n",
        "> ### $H_0:$ Os dados se distribuem como uma normal\n",
        "\n",
        "> ### Estatística de teste\n",
        "> ### $$JB = \\frac{n-k}{6}(S^2 + \\frac{1}{4}(C - 3)^2)$$\n",
        "> #### Onde,\n",
        "> #### $n$ - número de observações\n",
        "> #### $k$ - número de parâmetros do modelo\n",
        "> #### $S$ - Coeficiente de assimetria\n",
        "> #### $C$ - Coeficiente de curtose"
      ]
    },
    {
      "cell_type": "code",
      "metadata": {
        "id": "Xy-1QQn-td-j"
      },
      "source": [
        ""
      ],
      "execution_count": 19,
      "outputs": []
    },
    {
      "cell_type": "code",
      "metadata": {
        "id": "ynNMLEO3td-k"
      },
      "source": [
        ""
      ],
      "execution_count": 19,
      "outputs": []
    },
    {
      "cell_type": "code",
      "metadata": {
        "id": "9gRlfnxLtd-l"
      },
      "source": [
        ""
      ],
      "execution_count": 19,
      "outputs": []
    },
    {
      "cell_type": "code",
      "metadata": {
        "id": "Bspj3u5vtd-n"
      },
      "source": [
        ""
      ],
      "execution_count": 19,
      "outputs": []
    }
  ]
}