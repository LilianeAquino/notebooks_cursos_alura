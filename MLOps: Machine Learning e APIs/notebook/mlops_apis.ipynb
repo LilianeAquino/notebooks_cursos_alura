{
 "cells": [
  {
   "cell_type": "markdown",
   "id": "instructional-mexico",
   "metadata": {},
   "source": [
    "# MLOps: Machine Learning e APIs"
   ]
  },
  {
   "cell_type": "markdown",
   "id": "large-commission",
   "metadata": {},
   "source": [
    "## Imports e outras inicializações"
   ]
  },
  {
   "cell_type": "code",
   "execution_count": 1,
   "id": "noted-camping",
   "metadata": {
    "ExecuteTime": {
     "end_time": "2021-05-22T14:04:34.722186Z",
     "start_time": "2021-05-22T14:04:33.491764Z"
    }
   },
   "outputs": [],
   "source": [
    "import warnings\n",
    "import pandas as pd\n",
    "import numpy as np\n",
    "import seaborn as sns\n",
    "import matplotlib.pyplot as plt\n",
    "from textblob import TextBlob\n",
    "\n",
    "%matplotlib inline\n",
    "warnings.filterwarnings('ignore')"
   ]
  },
  {
   "cell_type": "markdown",
   "id": "timely-marine",
   "metadata": {},
   "source": [
    "## Análise de sentimento\n",
    "\n",
    "> 0: neutro | 1: positivo | -1: negativo\n"
   ]
  },
  {
   "cell_type": "code",
   "execution_count": 2,
   "id": "architectural-musician",
   "metadata": {
    "ExecuteTime": {
     "end_time": "2021-05-22T14:04:35.041159Z",
     "start_time": "2021-05-22T14:04:34.724809Z"
    }
   },
   "outputs": [
    {
     "data": {
      "text/plain": [
       "1.0"
      ]
     },
     "execution_count": 2,
     "metadata": {},
     "output_type": "execute_result"
    }
   ],
   "source": [
    "frase = 'Python é ótimo para machine learning!'\n",
    "tb = TextBlob(frase)\n",
    "tb_en = tb.translate(to='en')\n",
    "tb_en.sentiment.polarity"
   ]
  },
  {
   "cell_type": "markdown",
   "id": "hawaiian-climb",
   "metadata": {},
   "source": [
    "## Preços das casas"
   ]
  },
  {
   "cell_type": "markdown",
   "id": "instrumental-quest",
   "metadata": {},
   "source": [
    "### Carregamento dos dados"
   ]
  },
  {
   "cell_type": "code",
   "execution_count": 6,
   "id": "solid-tongue",
   "metadata": {
    "ExecuteTime": {
     "end_time": "2021-05-22T14:08:20.813506Z",
     "start_time": "2021-05-22T14:08:20.793674Z"
    }
   },
   "outputs": [
    {
     "name": "stdout",
     "output_type": "stream",
     "text": [
      "(1460, 4)\n"
     ]
    },
    {
     "data": {
      "text/html": [
       "<div>\n",
       "<style scoped>\n",
       "    .dataframe tbody tr th:only-of-type {\n",
       "        vertical-align: middle;\n",
       "    }\n",
       "\n",
       "    .dataframe tbody tr th {\n",
       "        vertical-align: top;\n",
       "    }\n",
       "\n",
       "    .dataframe thead th {\n",
       "        text-align: right;\n",
       "    }\n",
       "</style>\n",
       "<table border=\"1\" class=\"dataframe\">\n",
       "  <thead>\n",
       "    <tr style=\"text-align: right;\">\n",
       "      <th></th>\n",
       "      <th>tamanho</th>\n",
       "      <th>ano</th>\n",
       "      <th>garagem</th>\n",
       "      <th>preco</th>\n",
       "    </tr>\n",
       "  </thead>\n",
       "  <tbody>\n",
       "    <tr>\n",
       "      <th>0</th>\n",
       "      <td>159.0</td>\n",
       "      <td>2003</td>\n",
       "      <td>2</td>\n",
       "      <td>208500</td>\n",
       "    </tr>\n",
       "    <tr>\n",
       "      <th>1</th>\n",
       "      <td>117.0</td>\n",
       "      <td>1976</td>\n",
       "      <td>2</td>\n",
       "      <td>181500</td>\n",
       "    </tr>\n",
       "    <tr>\n",
       "      <th>2</th>\n",
       "      <td>166.0</td>\n",
       "      <td>2001</td>\n",
       "      <td>2</td>\n",
       "      <td>223500</td>\n",
       "    </tr>\n",
       "    <tr>\n",
       "      <th>3</th>\n",
       "      <td>160.0</td>\n",
       "      <td>1915</td>\n",
       "      <td>3</td>\n",
       "      <td>140000</td>\n",
       "    </tr>\n",
       "    <tr>\n",
       "      <th>4</th>\n",
       "      <td>204.0</td>\n",
       "      <td>2000</td>\n",
       "      <td>3</td>\n",
       "      <td>250000</td>\n",
       "    </tr>\n",
       "  </tbody>\n",
       "</table>\n",
       "</div>"
      ],
      "text/plain": [
       "   tamanho   ano  garagem   preco\n",
       "0    159.0  2003        2  208500\n",
       "1    117.0  1976        2  181500\n",
       "2    166.0  2001        2  223500\n",
       "3    160.0  1915        3  140000\n",
       "4    204.0  2000        3  250000"
      ]
     },
     "execution_count": 6,
     "metadata": {},
     "output_type": "execute_result"
    }
   ],
   "source": [
    "df = pd.read_csv('./datasets/casas.csv')\n",
    "print(df.shape)\n",
    "df.head()"
   ]
  },
  {
   "cell_type": "markdown",
   "id": "alternate-sympathy",
   "metadata": {},
   "source": [
    "### Separação dos dados"
   ]
  },
  {
   "cell_type": "code",
   "execution_count": 11,
   "id": "designing-armstrong",
   "metadata": {
    "ExecuteTime": {
     "end_time": "2021-05-22T14:13:00.919389Z",
     "start_time": "2021-05-22T14:13:00.899544Z"
    }
   },
   "outputs": [],
   "source": [
    "from sklearn.model_selection import train_test_split\n",
    "\n",
    "X = df[['tamanho']]\n",
    "y = df[['preco']]\n",
    "X_train, X_test, y_train, y_test = train_test_split(X, y, test_size=0.3, random_state=42)"
   ]
  },
  {
   "cell_type": "markdown",
   "id": "lasting-daniel",
   "metadata": {},
   "source": [
    "### Modelo"
   ]
  },
  {
   "cell_type": "code",
   "execution_count": 17,
   "id": "modern-smell",
   "metadata": {
    "ExecuteTime": {
     "end_time": "2021-05-22T14:14:26.001591Z",
     "start_time": "2021-05-22T14:14:25.856114Z"
    }
   },
   "outputs": [],
   "source": [
    "from sklearn.linear_model import LinearRegression\n",
    "modelo = LinearRegression()\n",
    "_ = modelo.fit(X_train, y_train)"
   ]
  },
  {
   "cell_type": "markdown",
   "id": "cathedral-organ",
   "metadata": {},
   "source": [
    "### Métricas"
   ]
  },
  {
   "cell_type": "code",
   "execution_count": 24,
   "id": "ultimate-houston",
   "metadata": {
    "ExecuteTime": {
     "end_time": "2021-05-22T14:19:32.590040Z",
     "start_time": "2021-05-22T14:19:32.577577Z"
    }
   },
   "outputs": [
    {
     "data": {
      "text/plain": [
       "55987.08"
      ]
     },
     "execution_count": 24,
     "metadata": {},
     "output_type": "execute_result"
    }
   ],
   "source": [
    "from sklearn.metrics import mean_squared_error\n",
    "y_pred = modelo.predict(X_test)\n",
    "np.sqrt(mean_squared_error(y_test, y_pred)).round(2)"
   ]
  }
 ],
 "metadata": {
  "hide_input": false,
  "kernelspec": {
   "display_name": "Python 3",
   "language": "python",
   "name": "python3"
  },
  "language_info": {
   "codemirror_mode": {
    "name": "ipython",
    "version": 3
   },
   "file_extension": ".py",
   "mimetype": "text/x-python",
   "name": "python",
   "nbconvert_exporter": "python",
   "pygments_lexer": "ipython3",
   "version": "3.7.5"
  },
  "nbTranslate": {
   "displayLangs": [
    "*"
   ],
   "hotkey": "alt-t",
   "langInMainMenu": true,
   "sourceLang": "en",
   "targetLang": "fr",
   "useGoogleTranslate": true
  },
  "toc": {
   "base_numbering": 1,
   "nav_menu": {},
   "number_sections": true,
   "sideBar": true,
   "skip_h1_title": false,
   "title_cell": "Table of Contents",
   "title_sidebar": "Contents",
   "toc_cell": false,
   "toc_position": {
    "height": "calc(100% - 180px)",
    "left": "10px",
    "top": "150px",
    "width": "165px"
   },
   "toc_section_display": true,
   "toc_window_display": false
  }
 },
 "nbformat": 4,
 "nbformat_minor": 5
}
