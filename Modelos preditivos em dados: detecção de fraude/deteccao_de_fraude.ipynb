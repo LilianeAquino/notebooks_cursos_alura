{
 "cells": [
  {
   "cell_type": "markdown",
   "metadata": {},
   "source": [
    "# Detecção de fraude no e-commerce"
   ]
  },
  {
   "cell_type": "markdown",
   "metadata": {},
   "source": [
    "### Bibliotecas básicas"
   ]
  },
  {
   "cell_type": "code",
   "execution_count": 1,
   "metadata": {
    "ExecuteTime": {
     "end_time": "2021-05-01T13:21:02.263717Z",
     "start_time": "2021-05-01T13:20:55.780944Z"
    }
   },
   "outputs": [],
   "source": [
    "import pandas as pd\n",
    "import numpy as np\n",
    "import seaborn as sns\n",
    "import matplotlib.pyplot as plt\n",
    "%matplotlib inline\n",
    "\n",
    "from scipy import special\n",
    "import itertools\n",
    "from datetime import timedelta\n",
    "from IPython.display import display\n",
    "\n",
    "import warnings\n",
    "warnings.filterwarnings('ignore')"
   ]
  },
  {
   "cell_type": "markdown",
   "metadata": {},
   "source": [
    "### Carregamento dos dados"
   ]
  },
  {
   "cell_type": "markdown",
   "metadata": {},
   "source": [
    "#### Compras"
   ]
  },
  {
   "cell_type": "code",
   "execution_count": 2,
   "metadata": {
    "ExecuteTime": {
     "end_time": "2021-05-01T13:21:03.511874Z",
     "start_time": "2021-05-01T13:21:02.317752Z"
    }
   },
   "outputs": [
    {
     "name": "stdout",
     "output_type": "stream",
     "text": [
      "Linhas: 151112 | Colunas: 11\n"
     ]
    },
    {
     "data": {
      "text/html": [
       "<div>\n",
       "<style scoped>\n",
       "    .dataframe tbody tr th:only-of-type {\n",
       "        vertical-align: middle;\n",
       "    }\n",
       "\n",
       "    .dataframe tbody tr th {\n",
       "        vertical-align: top;\n",
       "    }\n",
       "\n",
       "    .dataframe thead th {\n",
       "        text-align: right;\n",
       "    }\n",
       "</style>\n",
       "<table border=\"1\" class=\"dataframe\">\n",
       "  <thead>\n",
       "    <tr style=\"text-align: right;\">\n",
       "      <th></th>\n",
       "      <th>id</th>\n",
       "      <th>cadastro</th>\n",
       "      <th>compra</th>\n",
       "      <th>valor</th>\n",
       "      <th>id_dispositivo</th>\n",
       "      <th>fonte</th>\n",
       "      <th>browser</th>\n",
       "      <th>genero</th>\n",
       "      <th>idade</th>\n",
       "      <th>ip</th>\n",
       "      <th>fraude</th>\n",
       "    </tr>\n",
       "  </thead>\n",
       "  <tbody>\n",
       "    <tr>\n",
       "      <th>0</th>\n",
       "      <td>22058</td>\n",
       "      <td>2015-02-24 22:55:49</td>\n",
       "      <td>2015-04-18 02:47:11</td>\n",
       "      <td>34</td>\n",
       "      <td>QVPSPJUOCKZAR</td>\n",
       "      <td>SEO</td>\n",
       "      <td>Chrome</td>\n",
       "      <td>M</td>\n",
       "      <td>39</td>\n",
       "      <td>7.327584e+08</td>\n",
       "      <td>0</td>\n",
       "    </tr>\n",
       "    <tr>\n",
       "      <th>1</th>\n",
       "      <td>333320</td>\n",
       "      <td>2015-06-07 20:39:50</td>\n",
       "      <td>2015-06-08 01:38:54</td>\n",
       "      <td>16</td>\n",
       "      <td>EOGFQPIZPYXFZ</td>\n",
       "      <td>Ads</td>\n",
       "      <td>Chrome</td>\n",
       "      <td>F</td>\n",
       "      <td>53</td>\n",
       "      <td>3.503114e+08</td>\n",
       "      <td>0</td>\n",
       "    </tr>\n",
       "    <tr>\n",
       "      <th>2</th>\n",
       "      <td>1359</td>\n",
       "      <td>2015-01-01 18:52:44</td>\n",
       "      <td>2015-01-01 18:52:45</td>\n",
       "      <td>15</td>\n",
       "      <td>YSSKYOSJHPPLJ</td>\n",
       "      <td>SEO</td>\n",
       "      <td>Opera</td>\n",
       "      <td>M</td>\n",
       "      <td>53</td>\n",
       "      <td>2.621474e+09</td>\n",
       "      <td>1</td>\n",
       "    </tr>\n",
       "    <tr>\n",
       "      <th>3</th>\n",
       "      <td>150084</td>\n",
       "      <td>2015-04-28 21:13:25</td>\n",
       "      <td>2015-05-04 13:54:50</td>\n",
       "      <td>44</td>\n",
       "      <td>ATGTXKYKUDUQN</td>\n",
       "      <td>SEO</td>\n",
       "      <td>Safari</td>\n",
       "      <td>M</td>\n",
       "      <td>41</td>\n",
       "      <td>3.840542e+09</td>\n",
       "      <td>0</td>\n",
       "    </tr>\n",
       "    <tr>\n",
       "      <th>4</th>\n",
       "      <td>221365</td>\n",
       "      <td>2015-07-21 07:09:52</td>\n",
       "      <td>2015-09-09 18:40:53</td>\n",
       "      <td>39</td>\n",
       "      <td>NAUITBZFJKHWW</td>\n",
       "      <td>Ads</td>\n",
       "      <td>Safari</td>\n",
       "      <td>M</td>\n",
       "      <td>45</td>\n",
       "      <td>4.155831e+08</td>\n",
       "      <td>0</td>\n",
       "    </tr>\n",
       "  </tbody>\n",
       "</table>\n",
       "</div>"
      ],
      "text/plain": [
       "       id             cadastro               compra  valor id_dispositivo  \\\n",
       "0   22058  2015-02-24 22:55:49  2015-04-18 02:47:11     34  QVPSPJUOCKZAR   \n",
       "1  333320  2015-06-07 20:39:50  2015-06-08 01:38:54     16  EOGFQPIZPYXFZ   \n",
       "2    1359  2015-01-01 18:52:44  2015-01-01 18:52:45     15  YSSKYOSJHPPLJ   \n",
       "3  150084  2015-04-28 21:13:25  2015-05-04 13:54:50     44  ATGTXKYKUDUQN   \n",
       "4  221365  2015-07-21 07:09:52  2015-09-09 18:40:53     39  NAUITBZFJKHWW   \n",
       "\n",
       "  fonte browser genero  idade            ip  fraude  \n",
       "0   SEO  Chrome      M     39  7.327584e+08       0  \n",
       "1   Ads  Chrome      F     53  3.503114e+08       0  \n",
       "2   SEO   Opera      M     53  2.621474e+09       1  \n",
       "3   SEO  Safari      M     41  3.840542e+09       0  \n",
       "4   Ads  Safari      M     45  4.155831e+08       0  "
      ]
     },
     "execution_count": 2,
     "metadata": {},
     "output_type": "execute_result"
    }
   ],
   "source": [
    "fraude_df = pd.read_csv('./datasets/Fraud_Data.csv', header=0)\n",
    "print(f'Linhas: {fraude_df.shape[0]} | Colunas: {fraude_df.shape[1]}')\n",
    "fraude_df.head()"
   ]
  },
  {
   "cell_type": "markdown",
   "metadata": {},
   "source": [
    "Tipos:"
   ]
  },
  {
   "cell_type": "code",
   "execution_count": 3,
   "metadata": {
    "ExecuteTime": {
     "end_time": "2021-05-01T13:21:03.670220Z",
     "start_time": "2021-05-01T13:21:03.658874Z"
    }
   },
   "outputs": [
    {
     "data": {
      "text/plain": [
       "id                  int64\n",
       "cadastro           object\n",
       "compra             object\n",
       "valor               int64\n",
       "id_dispositivo     object\n",
       "fonte              object\n",
       "browser            object\n",
       "genero             object\n",
       "idade               int64\n",
       "ip                float64\n",
       "fraude              int64\n",
       "dtype: object"
      ]
     },
     "execution_count": 3,
     "metadata": {},
     "output_type": "execute_result"
    }
   ],
   "source": [
    "fraude_df.dtypes"
   ]
  },
  {
   "cell_type": "markdown",
   "metadata": {},
   "source": [
    "Valores nulos:"
   ]
  },
  {
   "cell_type": "code",
   "execution_count": 4,
   "metadata": {
    "ExecuteTime": {
     "end_time": "2021-05-01T13:21:04.070158Z",
     "start_time": "2021-05-01T13:21:03.833331Z"
    }
   },
   "outputs": [
    {
     "name": "stdout",
     "output_type": "stream",
     "text": [
      "# de valores nulos em id: 0\n",
      "# de valores nulos em cadastro: 0\n",
      "# de valores nulos em compra: 0\n",
      "# de valores nulos em valor: 0\n",
      "# de valores nulos em id_dispositivo: 0\n",
      "# de valores nulos em fonte: 0\n",
      "# de valores nulos em browser: 0\n",
      "# de valores nulos em genero: 0\n",
      "# de valores nulos em idade: 0\n",
      "# de valores nulos em ip: 0\n",
      "# de valores nulos em fraude: 0\n"
     ]
    }
   ],
   "source": [
    "for col in fraude_df.columns:\n",
    "    print('# de valores nulos em {}: {}'.format(col, fraude_df[col].isnull().sum()))"
   ]
  },
  {
   "cell_type": "markdown",
   "metadata": {},
   "source": [
    "Resumo dos dados:"
   ]
  },
  {
   "cell_type": "code",
   "execution_count": 5,
   "metadata": {
    "ExecuteTime": {
     "end_time": "2021-05-01T13:21:04.325990Z",
     "start_time": "2021-05-01T13:21:04.233480Z"
    }
   },
   "outputs": [
    {
     "data": {
      "text/html": [
       "<div>\n",
       "<style scoped>\n",
       "    .dataframe tbody tr th:only-of-type {\n",
       "        vertical-align: middle;\n",
       "    }\n",
       "\n",
       "    .dataframe tbody tr th {\n",
       "        vertical-align: top;\n",
       "    }\n",
       "\n",
       "    .dataframe thead th {\n",
       "        text-align: right;\n",
       "    }\n",
       "</style>\n",
       "<table border=\"1\" class=\"dataframe\">\n",
       "  <thead>\n",
       "    <tr style=\"text-align: right;\">\n",
       "      <th></th>\n",
       "      <th>id</th>\n",
       "      <th>valor</th>\n",
       "      <th>idade</th>\n",
       "      <th>ip</th>\n",
       "      <th>fraude</th>\n",
       "    </tr>\n",
       "  </thead>\n",
       "  <tbody>\n",
       "    <tr>\n",
       "      <th>count</th>\n",
       "      <td>151112.000000</td>\n",
       "      <td>151112.000000</td>\n",
       "      <td>151112.000000</td>\n",
       "      <td>1.511120e+05</td>\n",
       "      <td>151112.000000</td>\n",
       "    </tr>\n",
       "    <tr>\n",
       "      <th>mean</th>\n",
       "      <td>200171.040970</td>\n",
       "      <td>36.935372</td>\n",
       "      <td>33.140704</td>\n",
       "      <td>2.152145e+09</td>\n",
       "      <td>0.093646</td>\n",
       "    </tr>\n",
       "    <tr>\n",
       "      <th>std</th>\n",
       "      <td>115369.285024</td>\n",
       "      <td>18.322762</td>\n",
       "      <td>8.617733</td>\n",
       "      <td>1.248497e+09</td>\n",
       "      <td>0.291336</td>\n",
       "    </tr>\n",
       "    <tr>\n",
       "      <th>min</th>\n",
       "      <td>2.000000</td>\n",
       "      <td>9.000000</td>\n",
       "      <td>18.000000</td>\n",
       "      <td>5.209350e+04</td>\n",
       "      <td>0.000000</td>\n",
       "    </tr>\n",
       "    <tr>\n",
       "      <th>25%</th>\n",
       "      <td>100642.500000</td>\n",
       "      <td>22.000000</td>\n",
       "      <td>27.000000</td>\n",
       "      <td>1.085934e+09</td>\n",
       "      <td>0.000000</td>\n",
       "    </tr>\n",
       "    <tr>\n",
       "      <th>50%</th>\n",
       "      <td>199958.000000</td>\n",
       "      <td>35.000000</td>\n",
       "      <td>33.000000</td>\n",
       "      <td>2.154770e+09</td>\n",
       "      <td>0.000000</td>\n",
       "    </tr>\n",
       "    <tr>\n",
       "      <th>75%</th>\n",
       "      <td>300054.000000</td>\n",
       "      <td>49.000000</td>\n",
       "      <td>39.000000</td>\n",
       "      <td>3.243258e+09</td>\n",
       "      <td>0.000000</td>\n",
       "    </tr>\n",
       "    <tr>\n",
       "      <th>max</th>\n",
       "      <td>400000.000000</td>\n",
       "      <td>154.000000</td>\n",
       "      <td>76.000000</td>\n",
       "      <td>4.294850e+09</td>\n",
       "      <td>1.000000</td>\n",
       "    </tr>\n",
       "  </tbody>\n",
       "</table>\n",
       "</div>"
      ],
      "text/plain": [
       "                  id          valor          idade            ip  \\\n",
       "count  151112.000000  151112.000000  151112.000000  1.511120e+05   \n",
       "mean   200171.040970      36.935372      33.140704  2.152145e+09   \n",
       "std    115369.285024      18.322762       8.617733  1.248497e+09   \n",
       "min         2.000000       9.000000      18.000000  5.209350e+04   \n",
       "25%    100642.500000      22.000000      27.000000  1.085934e+09   \n",
       "50%    199958.000000      35.000000      33.000000  2.154770e+09   \n",
       "75%    300054.000000      49.000000      39.000000  3.243258e+09   \n",
       "max    400000.000000     154.000000      76.000000  4.294850e+09   \n",
       "\n",
       "              fraude  \n",
       "count  151112.000000  \n",
       "mean        0.093646  \n",
       "std         0.291336  \n",
       "min         0.000000  \n",
       "25%         0.000000  \n",
       "50%         0.000000  \n",
       "75%         0.000000  \n",
       "max         1.000000  "
      ]
     },
     "execution_count": 5,
     "metadata": {},
     "output_type": "execute_result"
    }
   ],
   "source": [
    "fraude_df.describe()"
   ]
  },
  {
   "cell_type": "markdown",
   "metadata": {},
   "source": [
    "#### Escala de IPs de cada país"
   ]
  },
  {
   "cell_type": "code",
   "execution_count": 6,
   "metadata": {
    "ExecuteTime": {
     "end_time": "2021-05-01T13:21:04.866946Z",
     "start_time": "2021-05-01T13:21:04.473801Z"
    }
   },
   "outputs": [
    {
     "name": "stdout",
     "output_type": "stream",
     "text": [
      "Linhas: 138846 | Colunas: 3\n"
     ]
    },
    {
     "data": {
      "text/html": [
       "<div>\n",
       "<style scoped>\n",
       "    .dataframe tbody tr th:only-of-type {\n",
       "        vertical-align: middle;\n",
       "    }\n",
       "\n",
       "    .dataframe tbody tr th {\n",
       "        vertical-align: top;\n",
       "    }\n",
       "\n",
       "    .dataframe thead th {\n",
       "        text-align: right;\n",
       "    }\n",
       "</style>\n",
       "<table border=\"1\" class=\"dataframe\">\n",
       "  <thead>\n",
       "    <tr style=\"text-align: right;\">\n",
       "      <th></th>\n",
       "      <th>limite_inferior_ip</th>\n",
       "      <th>limite_superior_ip</th>\n",
       "      <th>pais</th>\n",
       "    </tr>\n",
       "  </thead>\n",
       "  <tbody>\n",
       "    <tr>\n",
       "      <th>0</th>\n",
       "      <td>16777216.0</td>\n",
       "      <td>16777471</td>\n",
       "      <td>Australia</td>\n",
       "    </tr>\n",
       "    <tr>\n",
       "      <th>1</th>\n",
       "      <td>16777472.0</td>\n",
       "      <td>16777727</td>\n",
       "      <td>China</td>\n",
       "    </tr>\n",
       "    <tr>\n",
       "      <th>2</th>\n",
       "      <td>16777728.0</td>\n",
       "      <td>16778239</td>\n",
       "      <td>China</td>\n",
       "    </tr>\n",
       "    <tr>\n",
       "      <th>3</th>\n",
       "      <td>16778240.0</td>\n",
       "      <td>16779263</td>\n",
       "      <td>Australia</td>\n",
       "    </tr>\n",
       "    <tr>\n",
       "      <th>4</th>\n",
       "      <td>16779264.0</td>\n",
       "      <td>16781311</td>\n",
       "      <td>China</td>\n",
       "    </tr>\n",
       "  </tbody>\n",
       "</table>\n",
       "</div>"
      ],
      "text/plain": [
       "   limite_inferior_ip  limite_superior_ip       pais\n",
       "0          16777216.0            16777471  Australia\n",
       "1          16777472.0            16777727      China\n",
       "2          16777728.0            16778239      China\n",
       "3          16778240.0            16779263  Australia\n",
       "4          16779264.0            16781311      China"
      ]
     },
     "execution_count": 6,
     "metadata": {},
     "output_type": "execute_result"
    }
   ],
   "source": [
    "ISP_df = pd.read_csv('./datasets/IpAddress_to_Country.csv', header=0)\n",
    "print(f'Linhas: {ISP_df.shape[0]} | Colunas: {ISP_df.shape[1]}')\n",
    "ISP_df.head()"
   ]
  },
  {
   "cell_type": "markdown",
   "metadata": {},
   "source": [
    "Tipos:"
   ]
  },
  {
   "cell_type": "code",
   "execution_count": 7,
   "metadata": {
    "ExecuteTime": {
     "end_time": "2021-05-01T13:21:05.082451Z",
     "start_time": "2021-05-01T13:21:05.072313Z"
    }
   },
   "outputs": [
    {
     "data": {
      "text/plain": [
       "limite_inferior_ip    float64\n",
       "limite_superior_ip      int64\n",
       "pais                   object\n",
       "dtype: object"
      ]
     },
     "execution_count": 7,
     "metadata": {},
     "output_type": "execute_result"
    }
   ],
   "source": [
    "ISP_df.dtypes"
   ]
  },
  {
   "cell_type": "code",
   "execution_count": 8,
   "metadata": {
    "ExecuteTime": {
     "end_time": "2021-05-01T13:21:05.365687Z",
     "start_time": "2021-05-01T13:21:05.277162Z"
    }
   },
   "outputs": [
    {
     "name": "stdout",
     "output_type": "stream",
     "text": [
      "Número de limites inferiores de IPs com decimal não-zero: 0\n"
     ]
    }
   ],
   "source": [
    "ip_floats = ISP_df['limite_inferior_ip'].apply(lambda x : not x.is_integer()).sum()\n",
    "print(f'Número de limites inferiores de IPs com decimal não-zero: {ip_floats}')"
   ]
  },
  {
   "cell_type": "code",
   "execution_count": 9,
   "metadata": {
    "ExecuteTime": {
     "end_time": "2021-05-01T13:21:05.583151Z",
     "start_time": "2021-05-01T13:21:05.572998Z"
    }
   },
   "outputs": [
    {
     "data": {
      "text/plain": [
       "limite_inferior_ip     int64\n",
       "limite_superior_ip     int64\n",
       "pais                  object\n",
       "dtype: object"
      ]
     },
     "execution_count": 9,
     "metadata": {},
     "output_type": "execute_result"
    }
   ],
   "source": [
    "ISP_df['limite_inferior_ip'] = ISP_df['limite_inferior_ip'].astype(int)\n",
    "ISP_df.dtypes"
   ]
  },
  {
   "cell_type": "markdown",
   "metadata": {},
   "source": [
    "Valores nulos:"
   ]
  },
  {
   "cell_type": "code",
   "execution_count": 10,
   "metadata": {
    "ExecuteTime": {
     "end_time": "2021-05-01T13:21:05.875874Z",
     "start_time": "2021-05-01T13:21:05.793084Z"
    }
   },
   "outputs": [
    {
     "name": "stdout",
     "output_type": "stream",
     "text": [
      "# de valores nulos em limite_inferior_ip: 0\n",
      "# de valores nulos em limite_superior_ip: 0\n",
      "# de valores nulos em pais: 0\n"
     ]
    }
   ],
   "source": [
    "for col in ISP_df.columns:\n",
    "    print('# de valores nulos em {}: {}'.format(col, ISP_df[col].isnull().sum()))"
   ]
  },
  {
   "cell_type": "markdown",
   "metadata": {},
   "source": [
    "Resumo dos dados:"
   ]
  },
  {
   "cell_type": "code",
   "execution_count": 11,
   "metadata": {
    "ExecuteTime": {
     "end_time": "2021-05-01T13:21:11.949436Z",
     "start_time": "2021-05-01T13:21:11.914854Z"
    }
   },
   "outputs": [
    {
     "data": {
      "text/html": [
       "<div>\n",
       "<style scoped>\n",
       "    .dataframe tbody tr th:only-of-type {\n",
       "        vertical-align: middle;\n",
       "    }\n",
       "\n",
       "    .dataframe tbody tr th {\n",
       "        vertical-align: top;\n",
       "    }\n",
       "\n",
       "    .dataframe thead th {\n",
       "        text-align: right;\n",
       "    }\n",
       "</style>\n",
       "<table border=\"1\" class=\"dataframe\">\n",
       "  <thead>\n",
       "    <tr style=\"text-align: right;\">\n",
       "      <th></th>\n",
       "      <th>limite_inferior_ip</th>\n",
       "      <th>limite_superior_ip</th>\n",
       "    </tr>\n",
       "  </thead>\n",
       "  <tbody>\n",
       "    <tr>\n",
       "      <th>count</th>\n",
       "      <td>1.388460e+05</td>\n",
       "      <td>1.388460e+05</td>\n",
       "    </tr>\n",
       "    <tr>\n",
       "      <th>mean</th>\n",
       "      <td>2.724532e+09</td>\n",
       "      <td>2.724557e+09</td>\n",
       "    </tr>\n",
       "    <tr>\n",
       "      <th>std</th>\n",
       "      <td>8.975215e+08</td>\n",
       "      <td>8.974979e+08</td>\n",
       "    </tr>\n",
       "    <tr>\n",
       "      <th>min</th>\n",
       "      <td>1.677722e+07</td>\n",
       "      <td>1.677747e+07</td>\n",
       "    </tr>\n",
       "    <tr>\n",
       "      <th>25%</th>\n",
       "      <td>1.919930e+09</td>\n",
       "      <td>1.920008e+09</td>\n",
       "    </tr>\n",
       "    <tr>\n",
       "      <th>50%</th>\n",
       "      <td>3.230887e+09</td>\n",
       "      <td>3.230888e+09</td>\n",
       "    </tr>\n",
       "    <tr>\n",
       "      <th>75%</th>\n",
       "      <td>3.350465e+09</td>\n",
       "      <td>3.350466e+09</td>\n",
       "    </tr>\n",
       "    <tr>\n",
       "      <th>max</th>\n",
       "      <td>3.758096e+09</td>\n",
       "      <td>3.758096e+09</td>\n",
       "    </tr>\n",
       "  </tbody>\n",
       "</table>\n",
       "</div>"
      ],
      "text/plain": [
       "       limite_inferior_ip  limite_superior_ip\n",
       "count        1.388460e+05        1.388460e+05\n",
       "mean         2.724532e+09        2.724557e+09\n",
       "std          8.975215e+08        8.974979e+08\n",
       "min          1.677722e+07        1.677747e+07\n",
       "25%          1.919930e+09        1.920008e+09\n",
       "50%          3.230887e+09        3.230888e+09\n",
       "75%          3.350465e+09        3.350466e+09\n",
       "max          3.758096e+09        3.758096e+09"
      ]
     },
     "execution_count": 11,
     "metadata": {},
     "output_type": "execute_result"
    }
   ],
   "source": [
    "ISP_df.describe()"
   ]
  },
  {
   "cell_type": "markdown",
   "metadata": {},
   "source": [
    "Valores discrepantes:"
   ]
  },
  {
   "cell_type": "code",
   "execution_count": 12,
   "metadata": {
    "ExecuteTime": {
     "end_time": "2021-05-01T13:21:14.315596Z",
     "start_time": "2021-05-01T13:21:14.288525Z"
    }
   },
   "outputs": [
    {
     "data": {
      "text/html": [
       "<div>\n",
       "<style scoped>\n",
       "    .dataframe tbody tr th:only-of-type {\n",
       "        vertical-align: middle;\n",
       "    }\n",
       "\n",
       "    .dataframe tbody tr th {\n",
       "        vertical-align: top;\n",
       "    }\n",
       "\n",
       "    .dataframe thead th {\n",
       "        text-align: right;\n",
       "    }\n",
       "</style>\n",
       "<table border=\"1\" class=\"dataframe\">\n",
       "  <thead>\n",
       "    <tr style=\"text-align: right;\">\n",
       "      <th></th>\n",
       "      <th>limite_inferior_ip</th>\n",
       "      <th>limite_superior_ip</th>\n",
       "      <th>pais</th>\n",
       "    </tr>\n",
       "  </thead>\n",
       "  <tbody>\n",
       "    <tr>\n",
       "      <th>138845</th>\n",
       "      <td>3758096128</td>\n",
       "      <td>3758096383</td>\n",
       "      <td>Australia</td>\n",
       "    </tr>\n",
       "  </tbody>\n",
       "</table>\n",
       "</div>"
      ],
      "text/plain": [
       "        limite_inferior_ip  limite_superior_ip       pais\n",
       "138845          3758096128          3758096383  Australia"
      ]
     },
     "metadata": {},
     "output_type": "display_data"
    },
    {
     "data": {
      "text/html": [
       "<div>\n",
       "<style scoped>\n",
       "    .dataframe tbody tr th:only-of-type {\n",
       "        vertical-align: middle;\n",
       "    }\n",
       "\n",
       "    .dataframe tbody tr th {\n",
       "        vertical-align: top;\n",
       "    }\n",
       "\n",
       "    .dataframe thead th {\n",
       "        text-align: right;\n",
       "    }\n",
       "</style>\n",
       "<table border=\"1\" class=\"dataframe\">\n",
       "  <thead>\n",
       "    <tr style=\"text-align: right;\">\n",
       "      <th></th>\n",
       "      <th>limite_inferior_ip</th>\n",
       "      <th>limite_superior_ip</th>\n",
       "      <th>pais</th>\n",
       "    </tr>\n",
       "  </thead>\n",
       "  <tbody>\n",
       "    <tr>\n",
       "      <th>138845</th>\n",
       "      <td>3758096128</td>\n",
       "      <td>3758096383</td>\n",
       "      <td>Australia</td>\n",
       "    </tr>\n",
       "  </tbody>\n",
       "</table>\n",
       "</div>"
      ],
      "text/plain": [
       "        limite_inferior_ip  limite_superior_ip       pais\n",
       "138845          3758096128          3758096383  Australia"
      ]
     },
     "metadata": {},
     "output_type": "display_data"
    }
   ],
   "source": [
    "display(ISP_df[ISP_df['limite_inferior_ip'] == ISP_df['limite_inferior_ip'].max()])\n",
    "display(ISP_df[ISP_df['limite_superior_ip'] == ISP_df['limite_superior_ip'].max()])"
   ]
  },
  {
   "cell_type": "markdown",
   "metadata": {},
   "source": [
    "### Limpeza dos dados"
   ]
  },
  {
   "cell_type": "code",
   "execution_count": 14,
   "metadata": {
    "ExecuteTime": {
     "end_time": "2021-05-01T13:28:53.702457Z",
     "start_time": "2021-05-01T13:23:23.300121Z"
    }
   },
   "outputs": [],
   "source": [
    "def ip_para_pais(ip):\n",
    "    tmp = ISP_df[(ISP_df.limite_inferior_ip <= ip)& (ISP_df.limite_superior_ip >= ip)]['pais']\n",
    "    if tmp.shape[0] == 1:\n",
    "        return tmp.iloc[0]\n",
    "    elif tmp.shape[0] < 1:\n",
    "        return 'Faltando'\n",
    "    elif tmp.shape[0] > 1:\n",
    "        return 'Erro'\n",
    "\n",
    "fraude_df['pais'] = fraude_df['ip'].apply(ip_para_pais)"
   ]
  },
  {
   "cell_type": "markdown",
   "metadata": {
    "ExecuteTime": {
     "end_time": "2021-04-28T17:34:42.235810Z",
     "start_time": "2021-04-28T17:24:07.284Z"
    }
   },
   "source": [
    "### Análise exploratória"
   ]
  },
  {
   "cell_type": "code",
   "execution_count": 16,
   "metadata": {
    "ExecuteTime": {
     "end_time": "2021-05-01T13:28:55.150914Z",
     "start_time": "2021-05-01T13:28:54.677458Z"
    }
   },
   "outputs": [
    {
     "data": {
      "image/png": "[encoded data removed]",
      "text/plain": [
       "<Figure size 432x288 with 1 Axes>"
      ]
     },
     "metadata": {
      "needs_background": "light"
     },
     "output_type": "display_data"
    }
   ],
   "source": [
    "sns.countplot(x='genero', hue='fraude', data=fraude_df)\n",
    "plt.xlabel('Gênero', fontsize=14)\n",
    "plt.ylabel('Casos', fontsize=14)\n",
    "plt.title('Gênero x Casos de fraude', fontsize=16)\n",
    "plt.show()"
   ]
  },
  {
   "cell_type": "code",
   "execution_count": 17,
   "metadata": {
    "ExecuteTime": {
     "end_time": "2021-05-01T13:28:58.774837Z",
     "start_time": "2021-05-01T13:28:55.365661Z"
    }
   },
   "outputs": [
    {
     "data": {
      "image/png": "[encoded data removed]",
      "text/plain": [
       "<Figure size 360x360 with 1 Axes>"
      ]
     },
     "metadata": {
      "needs_background": "light"
     },
     "output_type": "display_data"
    }
   ],
   "source": [
    "sns.factorplot(x='fraude', y='valor', data=fraude_df)\n",
    "plt.xlabel('Não são fraude (0) / Fraude (1)', fontsize=14)\n",
    "plt.ylabel('Valor de compra', fontsize=14)\n",
    "plt.title('Casos de fraude x Valor de compra', fontsize=16)\n",
    "plt.show()"
   ]
  },
  {
   "cell_type": "code",
   "execution_count": 18,
   "metadata": {
    "ExecuteTime": {
     "end_time": "2021-05-01T13:29:02.401120Z",
     "start_time": "2021-05-01T13:28:58.979193Z"
    }
   },
   "outputs": [
    {
     "data": {
      "image/png": "[encoded data removed]",
      "text/plain": [
       "<Figure size 360x360 with 1 Axes>"
      ]
     },
     "metadata": {
      "needs_background": "light"
     },
     "output_type": "display_data"
    }
   ],
   "source": [
    "sns.factorplot(x='fraude', y='idade', data=fraude_df)\n",
    "plt.xlabel('Não são fraude (0) / Fraude (1)', fontsize=14)\n",
    "plt.ylabel('Idade', fontsize=14)\n",
    "plt.title('Casos de fraude x Idade', fontsize=16)\n",
    "plt.show()"
   ]
  },
  {
   "cell_type": "code",
   "execution_count": 19,
   "metadata": {
    "ExecuteTime": {
     "end_time": "2021-05-01T13:29:03.021478Z",
     "start_time": "2021-05-01T13:29:02.675955Z"
    }
   },
   "outputs": [
    {
     "data": {
      "image/png": "[encoded data removed]",
      "text/plain": [
       "<Figure size 432x288 with 1 Axes>"
      ]
     },
     "metadata": {
      "needs_background": "light"
     },
     "output_type": "display_data"
    }
   ],
   "source": [
    "sns.countplot(x='fonte', hue='fraude', data=fraude_df)\n",
    "plt.xlabel('Fonte de marketing', fontsize=14)\n",
    "plt.ylabel('Contagem', fontsize=14)\n",
    "plt.title('Fonte x Casos de fraude', fontsize=16)\n",
    "plt.show()"
   ]
  },
  {
   "cell_type": "markdown",
   "metadata": {},
   "source": [
    "####  País de origem x Fraude"
   ]
  },
  {
   "cell_type": "code",
   "execution_count": 20,
   "metadata": {
    "ExecuteTime": {
     "end_time": "2021-05-01T13:29:03.928952Z",
     "start_time": "2021-05-01T13:29:03.230864Z"
    }
   },
   "outputs": [
    {
     "data": {
      "image/png": "[encoded data removed]",
      "text/plain": [
       "<Figure size 1080x576 with 1 Axes>"
      ]
     },
     "metadata": {
      "needs_background": "light"
     },
     "output_type": "display_data"
    }
   ],
   "source": [
    "soma_fraudes_por_pais = fraude_df.query('fraude == 1')['fraude'].groupby(fraude_df['pais']).sum().reset_index()\n",
    "soma_fraudes_por_pais = soma_fraudes_por_pais.sort_values('fraude', ascending=False)\n",
    "\n",
    "f, ax = plt.subplots(figsize=(15, 8))\n",
    "sns.set_color_codes('muted')\n",
    "sns.barplot(x='fraude', y='pais', data=soma_fraudes_por_pais.query('fraude >= 50'), label='Total', color='k')\n",
    "plt.xlabel('Contagem', fontsize=14)\n",
    "plt.ylabel('Países', fontsize=14)\n",
    "plt.title('Contagem fraudes por país', fontsize=16, y=1.03)\n",
    "plt.show()"
   ]
  },
  {
   "cell_type": "markdown",
   "metadata": {},
   "source": [
    "#### Número de IDs por cliente para cada dispositivo e para cada IP"
   ]
  },
  {
   "cell_type": "code",
   "execution_count": 21,
   "metadata": {
    "ExecuteTime": {
     "end_time": "2021-05-01T13:29:12.008837Z",
     "start_time": "2021-05-01T13:29:04.177861Z"
    }
   },
   "outputs": [
    {
     "data": {
      "text/html": [
       "<div>\n",
       "<style scoped>\n",
       "    .dataframe tbody tr th:only-of-type {\n",
       "        vertical-align: middle;\n",
       "    }\n",
       "\n",
       "    .dataframe tbody tr th {\n",
       "        vertical-align: top;\n",
       "    }\n",
       "\n",
       "    .dataframe thead th {\n",
       "        text-align: right;\n",
       "    }\n",
       "</style>\n",
       "<table border=\"1\" class=\"dataframe\">\n",
       "  <thead>\n",
       "    <tr style=\"text-align: right;\">\n",
       "      <th></th>\n",
       "      <th>fraude</th>\n",
       "      <th>id_por_dispositivo</th>\n",
       "      <th>id_por_ip</th>\n",
       "    </tr>\n",
       "  </thead>\n",
       "  <tbody>\n",
       "    <tr>\n",
       "      <th>0</th>\n",
       "      <td>0</td>\n",
       "      <td>1</td>\n",
       "      <td>1</td>\n",
       "    </tr>\n",
       "    <tr>\n",
       "      <th>1</th>\n",
       "      <td>0</td>\n",
       "      <td>1</td>\n",
       "      <td>1</td>\n",
       "    </tr>\n",
       "    <tr>\n",
       "      <th>2</th>\n",
       "      <td>1</td>\n",
       "      <td>12</td>\n",
       "      <td>12</td>\n",
       "    </tr>\n",
       "    <tr>\n",
       "      <th>3</th>\n",
       "      <td>0</td>\n",
       "      <td>1</td>\n",
       "      <td>1</td>\n",
       "    </tr>\n",
       "    <tr>\n",
       "      <th>4</th>\n",
       "      <td>0</td>\n",
       "      <td>1</td>\n",
       "      <td>1</td>\n",
       "    </tr>\n",
       "  </tbody>\n",
       "</table>\n",
       "</div>"
      ],
      "text/plain": [
       "   fraude  id_por_dispositivo  id_por_ip\n",
       "0       0                   1          1\n",
       "1       0                   1          1\n",
       "2       1                  12         12\n",
       "3       0                   1          1\n",
       "4       0                   1          1"
      ]
     },
     "execution_count": 21,
     "metadata": {},
     "output_type": "execute_result"
    }
   ],
   "source": [
    "tmp_df = pd.DataFrame(columns=('fraude', 'id_por_dispositivo', 'id_por_ip'))\n",
    "tmp_df['fraude'] = fraude_df['fraude']\n",
    "\n",
    "userid_count = fraude_df.groupby(by=['id_dispositivo']).id.count()\n",
    "tmp_df['id_por_dispositivo'] = fraude_df['id_dispositivo'].apply(lambda x: userid_count[x])\n",
    "\n",
    "userid_count2 = fraude_df.groupby(by=['ip']).id.count()\n",
    "tmp_df['id_por_ip'] = fraude_df['ip'].apply(lambda x: userid_count2[x])\n",
    "\n",
    "tmp_df.head()"
   ]
  },
  {
   "cell_type": "code",
   "execution_count": 22,
   "metadata": {
    "ExecuteTime": {
     "end_time": "2021-05-01T13:29:18.949878Z",
     "start_time": "2021-05-01T13:29:12.307633Z"
    }
   },
   "outputs": [
    {
     "data": {
      "image/png": "[encoded data removed]",
      "text/plain": [
       "<Figure size 360x360 with 1 Axes>"
      ]
     },
     "metadata": {
      "needs_background": "light"
     },
     "output_type": "display_data"
    },
    {
     "data": {
      "image/png": "[encoded data removed]",
      "text/plain": [
       "<Figure size 360x360 with 1 Axes>"
      ]
     },
     "metadata": {
      "needs_background": "light"
     },
     "output_type": "display_data"
    }
   ],
   "source": [
    "sns.factorplot(x='fraude', y='id_por_dispositivo', data=tmp_df)\n",
    "plt.xlabel('Não fraude (0) / Fraude (1)', fontsize=14)\n",
    "plt.ylabel('ID de usuário por dispositivo', fontsize=14)\n",
    "\n",
    "sns.factorplot(x='fraude', y='id_por_ip', data=tmp_df)\n",
    "plt.xlabel('Não fraude (0) / Fraude (1)', fontsize=14)\n",
    "plt.ylabel('ID de usuário por endereço IP', fontsize=14)\n",
    "plt.show()"
   ]
  },
  {
   "cell_type": "markdown",
   "metadata": {},
   "source": [
    "#### Fraude x tempo de compra"
   ]
  },
  {
   "cell_type": "code",
   "execution_count": 23,
   "metadata": {
    "ExecuteTime": {
     "end_time": "2021-05-01T13:30:27.479319Z",
     "start_time": "2021-05-01T13:29:19.335106Z"
    }
   },
   "outputs": [
    {
     "data": {
      "image/png": "[encoded data removed]",
      "text/plain": [
       "<Figure size 360x360 with 1 Axes>"
      ]
     },
     "metadata": {
      "needs_background": "light"
     },
     "output_type": "display_data"
    }
   ],
   "source": [
    "tmp_df['cadastro'] = fraude_df['cadastro'].apply(pd.to_datetime)\n",
    "tmp_df['compra'] = fraude_df['compra'].apply(pd.to_datetime)\n",
    "tmp_df['tempo'] = (tmp_df['compra'] - tmp_df['cadastro']).apply(lambda x: x.seconds)\n",
    "\n",
    "sns.factorplot(x='fraude', y='tempo', data=tmp_df)\n",
    "plt.xlabel('Não fraude (0) / Fraude (1)', fontsize=14)\n",
    "plt.ylabel('Tempo entre início e compra (segundos)', fontsize=14)\n",
    "plt.title('Tempo de compra x Fraude', fontsize=16, y=1.03)\n",
    "plt.show()"
   ]
  },
  {
   "cell_type": "code",
   "execution_count": 24,
   "metadata": {
    "ExecuteTime": {
     "end_time": "2021-05-01T13:30:28.537270Z",
     "start_time": "2021-05-01T13:30:27.816451Z"
    }
   },
   "outputs": [
    {
     "data": {
      "image/png": "[encoded data removed]",
      "text/plain": [
       "<Figure size 432x288 with 1 Axes>"
      ]
     },
     "metadata": {
      "needs_background": "light"
     },
     "output_type": "display_data"
    }
   ],
   "source": [
    "tmp_df[tmp_df['fraude'] == 1].cadastro.apply(lambda x: x.hour).hist()\n",
    "plt.xlabel('Hora do dia', fontsize=14)\n",
    "plt.ylabel('Contagem', fontsize=14)\n",
    "plt.title('Hora do dia x Fraude', fontsize=16, y=1.03)\n",
    "plt.grid(False)\n",
    "plt.show()"
   ]
  },
  {
   "cell_type": "code",
   "execution_count": 25,
   "metadata": {
    "ExecuteTime": {
     "end_time": "2021-05-01T13:30:29.208515Z",
     "start_time": "2021-05-01T13:30:28.848675Z"
    }
   },
   "outputs": [
    {
     "data": {
      "image/png": "[encoded data removed]",
      "text/plain": [
       "<Figure size 432x288 with 1 Axes>"
      ]
     },
     "metadata": {
      "needs_background": "light"
     },
     "output_type": "display_data"
    }
   ],
   "source": [
    "tmp_df[tmp_df[\"fraude\"] == 1].cadastro.apply(lambda x: x.dayofweek).hist()\n",
    "plt.xlabel('Dia da semana', fontsize=14)\n",
    "plt.ylabel('Contagem', fontsize=14)\n",
    "plt.title('Dia da semana x Fraude', fontsize=16, y=1.03)\n",
    "plt.grid(False)\n",
    "plt.show()"
   ]
  },
  {
   "cell_type": "code",
   "execution_count": 26,
   "metadata": {
    "ExecuteTime": {
     "end_time": "2021-05-01T13:30:29.931537Z",
     "start_time": "2021-05-01T13:30:29.535882Z"
    }
   },
   "outputs": [
    {
     "data": {
      "image/png": "[encoded data removed]",
      "text/plain": [
       "<Figure size 432x288 with 1 Axes>"
      ]
     },
     "metadata": {
      "needs_background": "light"
     },
     "output_type": "display_data"
    }
   ],
   "source": [
    "tmp_df[tmp_df['fraude'] == 1].cadastro.apply(lambda x: x.week).hist()\n",
    "plt.xlabel('Semana do ano', fontsize=14)\n",
    "plt.ylabel('Contagem', fontsize=14)\n",
    "plt.title('Semana do ano x Fraude', fontsize=16, y=1.03)\n",
    "plt.grid(False)\n",
    "plt.show()"
   ]
  },
  {
   "cell_type": "markdown",
   "metadata": {},
   "source": [
    "### Engenharia de recursos"
   ]
  },
  {
   "cell_type": "code",
   "execution_count": 27,
   "metadata": {
    "ExecuteTime": {
     "end_time": "2021-05-01T13:31:44.909828Z",
     "start_time": "2021-05-01T13:30:30.243214Z"
    }
   },
   "outputs": [
    {
     "data": {
      "text/html": [
       "<div>\n",
       "<style scoped>\n",
       "    .dataframe tbody tr th:only-of-type {\n",
       "        vertical-align: middle;\n",
       "    }\n",
       "\n",
       "    .dataframe tbody tr th {\n",
       "        vertical-align: top;\n",
       "    }\n",
       "\n",
       "    .dataframe thead th {\n",
       "        text-align: right;\n",
       "    }\n",
       "</style>\n",
       "<table border=\"1\" class=\"dataframe\">\n",
       "  <thead>\n",
       "    <tr style=\"text-align: right;\">\n",
       "      <th></th>\n",
       "      <th>id</th>\n",
       "      <th>cadastro</th>\n",
       "      <th>compra</th>\n",
       "      <th>valor</th>\n",
       "      <th>id_dispositivo</th>\n",
       "      <th>fonte</th>\n",
       "      <th>browser</th>\n",
       "      <th>genero</th>\n",
       "      <th>idade</th>\n",
       "      <th>ip</th>\n",
       "      <th>fraude</th>\n",
       "      <th>pais</th>\n",
       "      <th>id_por_dispositivo</th>\n",
       "      <th>id_por_ip</th>\n",
       "      <th>media_id</th>\n",
       "      <th>tempo</th>\n",
       "    </tr>\n",
       "  </thead>\n",
       "  <tbody>\n",
       "    <tr>\n",
       "      <th>0</th>\n",
       "      <td>22058</td>\n",
       "      <td>2015-02-24 22:55:49</td>\n",
       "      <td>2015-04-18 02:47:11</td>\n",
       "      <td>34</td>\n",
       "      <td>QVPSPJUOCKZAR</td>\n",
       "      <td>SEO</td>\n",
       "      <td>Chrome</td>\n",
       "      <td>M</td>\n",
       "      <td>39</td>\n",
       "      <td>7.327584e+08</td>\n",
       "      <td>0</td>\n",
       "      <td>Japan</td>\n",
       "      <td>1</td>\n",
       "      <td>1</td>\n",
       "      <td>1.0</td>\n",
       "      <td>13882</td>\n",
       "    </tr>\n",
       "    <tr>\n",
       "      <th>1</th>\n",
       "      <td>333320</td>\n",
       "      <td>2015-06-07 20:39:50</td>\n",
       "      <td>2015-06-08 01:38:54</td>\n",
       "      <td>16</td>\n",
       "      <td>EOGFQPIZPYXFZ</td>\n",
       "      <td>Ads</td>\n",
       "      <td>Chrome</td>\n",
       "      <td>F</td>\n",
       "      <td>53</td>\n",
       "      <td>3.503114e+08</td>\n",
       "      <td>0</td>\n",
       "      <td>United States</td>\n",
       "      <td>1</td>\n",
       "      <td>1</td>\n",
       "      <td>1.0</td>\n",
       "      <td>17944</td>\n",
       "    </tr>\n",
       "  </tbody>\n",
       "</table>\n",
       "</div>"
      ],
      "text/plain": [
       "       id            cadastro              compra  valor id_dispositivo fonte  \\\n",
       "0   22058 2015-02-24 22:55:49 2015-04-18 02:47:11     34  QVPSPJUOCKZAR   SEO   \n",
       "1  333320 2015-06-07 20:39:50 2015-06-08 01:38:54     16  EOGFQPIZPYXFZ   Ads   \n",
       "\n",
       "  browser genero  idade            ip  fraude           pais  \\\n",
       "0  Chrome      M     39  7.327584e+08       0          Japan   \n",
       "1  Chrome      F     53  3.503114e+08       0  United States   \n",
       "\n",
       "   id_por_dispositivo  id_por_ip  media_id  tempo  \n",
       "0                   1          1       1.0  13882  \n",
       "1                   1          1       1.0  17944  "
      ]
     },
     "execution_count": 27,
     "metadata": {},
     "output_type": "execute_result"
    }
   ],
   "source": [
    "userid_count3 = fraude_df.groupby(by=['id_dispositivo']).id.count()\n",
    "fraude_df['id_por_dispositivo'] = fraude_df['id_dispositivo'].apply(lambda x: userid_count3[x])\n",
    "\n",
    "userid_count4 = fraude_df.groupby(by=['ip']).id.count()\n",
    "fraude_df['id_por_ip'] = fraude_df['ip'].apply(lambda x: userid_count4[x])\n",
    "\n",
    "fraude_df['media_id'] = (fraude_df['id_por_dispositivo'] + fraude_df['id_por_ip']) * 0.5\n",
    "\n",
    "for col in ['cadastro', 'compra']:\n",
    "    fraude_df[col] = fraude_df[col].apply(pd.to_datetime)\n",
    "    \n",
    "fraude_df['tempo'] = (fraude_df['compra'] - fraude_df['cadastro']).apply(lambda x: x.seconds)\n",
    "fraude_df.head(2)"
   ]
  },
  {
   "cell_type": "code",
   "execution_count": 28,
   "metadata": {
    "ExecuteTime": {
     "end_time": "2021-05-01T13:31:45.714678Z",
     "start_time": "2021-05-01T13:31:45.292355Z"
    }
   },
   "outputs": [
    {
     "data": {
      "text/html": [
       "<div>\n",
       "<style scoped>\n",
       "    .dataframe tbody tr th:only-of-type {\n",
       "        vertical-align: middle;\n",
       "    }\n",
       "\n",
       "    .dataframe tbody tr th {\n",
       "        vertical-align: top;\n",
       "    }\n",
       "\n",
       "    .dataframe thead th {\n",
       "        text-align: right;\n",
       "    }\n",
       "</style>\n",
       "<table border=\"1\" class=\"dataframe\">\n",
       "  <thead>\n",
       "    <tr style=\"text-align: right;\">\n",
       "      <th></th>\n",
       "      <th>fraude</th>\n",
       "      <th>media_id</th>\n",
       "      <th>tempo</th>\n",
       "      <th>pais_Afghanistan</th>\n",
       "      <th>pais_Albania</th>\n",
       "      <th>pais_Algeria</th>\n",
       "      <th>pais_Angola</th>\n",
       "      <th>pais_Antigua and Barbuda</th>\n",
       "      <th>pais_Argentina</th>\n",
       "      <th>pais_Armenia</th>\n",
       "      <th>...</th>\n",
       "      <th>pais_United States</th>\n",
       "      <th>pais_Uruguay</th>\n",
       "      <th>pais_Uzbekistan</th>\n",
       "      <th>pais_Vanuatu</th>\n",
       "      <th>pais_Venezuela</th>\n",
       "      <th>pais_Viet Nam</th>\n",
       "      <th>pais_Virgin Islands (U.S.)</th>\n",
       "      <th>pais_Yemen</th>\n",
       "      <th>pais_Zambia</th>\n",
       "      <th>pais_Zimbabwe</th>\n",
       "    </tr>\n",
       "  </thead>\n",
       "  <tbody>\n",
       "    <tr>\n",
       "      <th>0</th>\n",
       "      <td>0</td>\n",
       "      <td>1.0</td>\n",
       "      <td>13882</td>\n",
       "      <td>0</td>\n",
       "      <td>0</td>\n",
       "      <td>0</td>\n",
       "      <td>0</td>\n",
       "      <td>0</td>\n",
       "      <td>0</td>\n",
       "      <td>0</td>\n",
       "      <td>...</td>\n",
       "      <td>0</td>\n",
       "      <td>0</td>\n",
       "      <td>0</td>\n",
       "      <td>0</td>\n",
       "      <td>0</td>\n",
       "      <td>0</td>\n",
       "      <td>0</td>\n",
       "      <td>0</td>\n",
       "      <td>0</td>\n",
       "      <td>0</td>\n",
       "    </tr>\n",
       "    <tr>\n",
       "      <th>1</th>\n",
       "      <td>0</td>\n",
       "      <td>1.0</td>\n",
       "      <td>17944</td>\n",
       "      <td>0</td>\n",
       "      <td>0</td>\n",
       "      <td>0</td>\n",
       "      <td>0</td>\n",
       "      <td>0</td>\n",
       "      <td>0</td>\n",
       "      <td>0</td>\n",
       "      <td>...</td>\n",
       "      <td>1</td>\n",
       "      <td>0</td>\n",
       "      <td>0</td>\n",
       "      <td>0</td>\n",
       "      <td>0</td>\n",
       "      <td>0</td>\n",
       "      <td>0</td>\n",
       "      <td>0</td>\n",
       "      <td>0</td>\n",
       "      <td>0</td>\n",
       "    </tr>\n",
       "    <tr>\n",
       "      <th>2</th>\n",
       "      <td>1</td>\n",
       "      <td>12.0</td>\n",
       "      <td>1</td>\n",
       "      <td>0</td>\n",
       "      <td>0</td>\n",
       "      <td>0</td>\n",
       "      <td>0</td>\n",
       "      <td>0</td>\n",
       "      <td>0</td>\n",
       "      <td>0</td>\n",
       "      <td>...</td>\n",
       "      <td>1</td>\n",
       "      <td>0</td>\n",
       "      <td>0</td>\n",
       "      <td>0</td>\n",
       "      <td>0</td>\n",
       "      <td>0</td>\n",
       "      <td>0</td>\n",
       "      <td>0</td>\n",
       "      <td>0</td>\n",
       "      <td>0</td>\n",
       "    </tr>\n",
       "    <tr>\n",
       "      <th>3</th>\n",
       "      <td>0</td>\n",
       "      <td>1.0</td>\n",
       "      <td>60085</td>\n",
       "      <td>0</td>\n",
       "      <td>0</td>\n",
       "      <td>0</td>\n",
       "      <td>0</td>\n",
       "      <td>0</td>\n",
       "      <td>0</td>\n",
       "      <td>0</td>\n",
       "      <td>...</td>\n",
       "      <td>0</td>\n",
       "      <td>0</td>\n",
       "      <td>0</td>\n",
       "      <td>0</td>\n",
       "      <td>0</td>\n",
       "      <td>0</td>\n",
       "      <td>0</td>\n",
       "      <td>0</td>\n",
       "      <td>0</td>\n",
       "      <td>0</td>\n",
       "    </tr>\n",
       "    <tr>\n",
       "      <th>4</th>\n",
       "      <td>0</td>\n",
       "      <td>1.0</td>\n",
       "      <td>41461</td>\n",
       "      <td>0</td>\n",
       "      <td>0</td>\n",
       "      <td>0</td>\n",
       "      <td>0</td>\n",
       "      <td>0</td>\n",
       "      <td>0</td>\n",
       "      <td>0</td>\n",
       "      <td>...</td>\n",
       "      <td>1</td>\n",
       "      <td>0</td>\n",
       "      <td>0</td>\n",
       "      <td>0</td>\n",
       "      <td>0</td>\n",
       "      <td>0</td>\n",
       "      <td>0</td>\n",
       "      <td>0</td>\n",
       "      <td>0</td>\n",
       "      <td>0</td>\n",
       "    </tr>\n",
       "  </tbody>\n",
       "</table>\n",
       "<p>5 rows × 185 columns</p>\n",
       "</div>"
      ],
      "text/plain": [
       "   fraude  media_id  tempo  pais_Afghanistan  pais_Albania  pais_Algeria  \\\n",
       "0       0       1.0  13882                 0             0             0   \n",
       "1       0       1.0  17944                 0             0             0   \n",
       "2       1      12.0      1                 0             0             0   \n",
       "3       0       1.0  60085                 0             0             0   \n",
       "4       0       1.0  41461                 0             0             0   \n",
       "\n",
       "   pais_Angola  pais_Antigua and Barbuda  pais_Argentina  pais_Armenia  ...  \\\n",
       "0            0                         0               0             0  ...   \n",
       "1            0                         0               0             0  ...   \n",
       "2            0                         0               0             0  ...   \n",
       "3            0                         0               0             0  ...   \n",
       "4            0                         0               0             0  ...   \n",
       "\n",
       "   pais_United States  pais_Uruguay  pais_Uzbekistan  pais_Vanuatu  \\\n",
       "0                   0             0                0             0   \n",
       "1                   1             0                0             0   \n",
       "2                   1             0                0             0   \n",
       "3                   0             0                0             0   \n",
       "4                   1             0                0             0   \n",
       "\n",
       "   pais_Venezuela  pais_Viet Nam  pais_Virgin Islands (U.S.)  pais_Yemen  \\\n",
       "0               0              0                           0           0   \n",
       "1               0              0                           0           0   \n",
       "2               0              0                           0           0   \n",
       "3               0              0                           0           0   \n",
       "4               0              0                           0           0   \n",
       "\n",
       "   pais_Zambia  pais_Zimbabwe  \n",
       "0            0              0  \n",
       "1            0              0  \n",
       "2            0              0  \n",
       "3            0              0  \n",
       "4            0              0  \n",
       "\n",
       "[5 rows x 185 columns]"
      ]
     },
     "execution_count": 28,
     "metadata": {},
     "output_type": "execute_result"
    }
   ],
   "source": [
    "pais_dummies = pd.get_dummies(fraude_df['pais'], prefix='pais')\n",
    "fraude_df = pd.concat([fraude_df, pais_dummies], axis=1)\n",
    "\n",
    "fraude_df.drop(['id', 'cadastro', 'compra', 'id_dispositivo', 'ip', 'id_por_dispositivo', 'id_por_ip', 'pais', 'fonte', 'browser', \n",
    "                'genero', 'idade', 'valor'], axis=1, inplace=True)\n",
    "fraude_df.head()"
   ]
  },
  {
   "cell_type": "markdown",
   "metadata": {},
   "source": [
    "Seleção de recursos"
   ]
  },
  {
   "cell_type": "code",
   "execution_count": 29,
   "metadata": {
    "ExecuteTime": {
     "end_time": "2021-05-01T13:31:46.789197Z",
     "start_time": "2021-05-01T13:31:46.407532Z"
    }
   },
   "outputs": [
    {
     "data": {
      "image/png": "[encoded data removed]",
      "text/plain": [
       "<Figure size 432x288 with 1 Axes>"
      ]
     },
     "metadata": {
      "needs_background": "light"
     },
     "output_type": "display_data"
    }
   ],
   "source": [
    "fraude_df[fraude_df['fraude'] == 1].media_id.hist(density=True, bins=25)\n",
    "plt.xlabel('Número médio de IDs', fontsize=14)\n",
    "plt.ylabel('Contagem normalizada', fontsize=14)\n",
    "plt.title('Histograma - Número médio de Ids', fontsize=16, y=1.03)\n",
    "plt.grid(False)\n",
    "plt.show()"
   ]
  },
  {
   "cell_type": "code",
   "execution_count": 30,
   "metadata": {
    "ExecuteTime": {
     "end_time": "2021-05-01T13:31:47.792907Z",
     "start_time": "2021-05-01T13:31:47.452723Z"
    }
   },
   "outputs": [
    {
     "data": {
      "image/png": "[encoded data removed]",
      "text/plain": [
       "<Figure size 432x288 with 1 Axes>"
      ]
     },
     "metadata": {
      "needs_background": "light"
     },
     "output_type": "display_data"
    }
   ],
   "source": [
    "fraude_df['tempo'].hist(density=True, bins=25)\n",
    "plt.xlabel('Tempo de compra e inscrição (segundos)', fontsize=14)\n",
    "plt.ylabel('Contagem normalizada', fontsize=14)\n",
    "plt.title('Histograma - Tempo de compra', fontsize=16, y=1.03)\n",
    "plt.grid(False)\n",
    "plt.show()"
   ]
  },
  {
   "cell_type": "code",
   "execution_count": 31,
   "metadata": {
    "ExecuteTime": {
     "end_time": "2021-05-01T13:31:49.932059Z",
     "start_time": "2021-05-01T13:31:48.466537Z"
    },
    "scrolled": true
   },
   "outputs": [
    {
     "data": {
      "image/png": "[encoded data removed]",
      "text/plain": [
       "<Figure size 432x288 with 1 Axes>"
      ]
     },
     "metadata": {
      "needs_background": "light"
     },
     "output_type": "display_data"
    }
   ],
   "source": [
    "def rescale_series(serie):\n",
    "    serie_min = serie.min() - 1e-5\n",
    "    serie_max = serie.max() + 1e-5\n",
    "    new_serie = (serie - serie_min) / (serie_max - serie_min)\n",
    "    new_serie = new_serie.apply(lambda x: np.sqrt(2)*special.erfinv(2*x - 1))\n",
    "    return new_serie\n",
    "\n",
    "fraude_df['tempo'] = rescale_series(fraude_df['tempo'])\n",
    "fraude_df['tempo'].hist(density=True, bins=25)\n",
    "plt.xlabel('Tempo entre compra e inscrição(segundos)', fontsize=14)\n",
    "plt.ylabel('Contagem normalizada', fontsize=14)\n",
    "plt.title('Histograma - Tempo de compra', fontsize=16, y=1.03)\n",
    "plt.grid(False)\n",
    "plt.show()"
   ]
  },
  {
   "cell_type": "markdown",
   "metadata": {},
   "source": [
    "Identificando variáveis importantes"
   ]
  },
  {
   "cell_type": "code",
   "execution_count": 32,
   "metadata": {
    "ExecuteTime": {
     "end_time": "2021-05-01T13:31:50.645590Z",
     "start_time": "2021-05-01T13:31:50.604702Z"
    }
   },
   "outputs": [],
   "source": [
    "def rescale_series(serie):\n",
    "    return (serie - serie.min()) / (serie.max() - serie.min())\n",
    "\n",
    "one_hot_encoded = [feature for feature in fraude_df.columns if 'pais' not in feature and feature != 'fraude']\n",
    "\n",
    "for col in one_hot_encoded:\n",
    "    fraude_df[col] = rescale_series(fraude_df[col])\n",
    "\n",
    "X = fraude_df[[col for col in fraude_df.columns if col != 'fraude']]\n",
    "Y = fraude_df['fraude']"
   ]
  },
  {
   "cell_type": "code",
   "execution_count": 33,
   "metadata": {
    "ExecuteTime": {
     "end_time": "2021-05-01T13:33:32.435782Z",
     "start_time": "2021-05-01T13:31:51.448123Z"
    }
   },
   "outputs": [
    {
     "data": {
      "text/html": [
       "<div>\n",
       "<style scoped>\n",
       "    .dataframe tbody tr th:only-of-type {\n",
       "        vertical-align: middle;\n",
       "    }\n",
       "\n",
       "    .dataframe tbody tr th {\n",
       "        vertical-align: top;\n",
       "    }\n",
       "\n",
       "    .dataframe thead th {\n",
       "        text-align: right;\n",
       "    }\n",
       "</style>\n",
       "<table border=\"1\" class=\"dataframe\">\n",
       "  <thead>\n",
       "    <tr style=\"text-align: right;\">\n",
       "      <th></th>\n",
       "      <th>feature</th>\n",
       "      <th>importancia</th>\n",
       "    </tr>\n",
       "  </thead>\n",
       "  <tbody>\n",
       "    <tr>\n",
       "      <th>1</th>\n",
       "      <td>tempo</td>\n",
       "      <td>0.685177</td>\n",
       "    </tr>\n",
       "    <tr>\n",
       "      <th>0</th>\n",
       "      <td>media_id</td>\n",
       "      <td>0.309389</td>\n",
       "    </tr>\n",
       "  </tbody>\n",
       "</table>\n",
       "</div>"
      ],
      "text/plain": [
       "    feature  importancia\n",
       "1     tempo     0.685177\n",
       "0  media_id     0.309389"
      ]
     },
     "execution_count": 33,
     "metadata": {},
     "output_type": "execute_result"
    }
   ],
   "source": [
    "from sklearn.ensemble import ExtraTreesClassifier\n",
    "\n",
    "clf = ExtraTreesClassifier()\n",
    "_ = clf.fit(X, Y)\n",
    "\n",
    "features = pd.DataFrame()\n",
    "features['feature'] = X.columns\n",
    "features['importancia'] = clf.feature_importances_\n",
    "features [features['importancia'] > np.mean(features['importancia'])].sort_values(by='importancia', ascending=False)"
   ]
  },
  {
   "cell_type": "markdown",
   "metadata": {},
   "source": [
    "### Modelo supervisionado"
   ]
  },
  {
   "cell_type": "code",
   "execution_count": 34,
   "metadata": {
    "ExecuteTime": {
     "end_time": "2021-05-01T13:33:33.600708Z",
     "start_time": "2021-05-01T13:33:33.275154Z"
    }
   },
   "outputs": [],
   "source": [
    "from sklearn.preprocessing import RobustScaler\n",
    "from sklearn.model_selection import train_test_split\n",
    "from sklearn.ensemble import IsolationForest\n",
    "from sklearn.model_selection import GridSearchCV\n",
    "from sklearn.metrics import classification_report, roc_auc_score, roc_curve\n",
    "from sklearn.metrics import f1_score\n",
    "\n",
    "X_train, X_test, y_train, y_test = train_test_split(X, Y, train_size=0.75, random_state=23)\n",
    "y_train = y_train.apply(lambda x: 1 if x == 0 else -1)\n",
    "y_test = y_test.apply(lambda x: 1 if x == 0 else -1)\n",
    "\n",
    "# clf_if = IsolationForest(max_samples='auto', contamination=0.095, random_state=1)\n",
    "# param_grid = {'n_estimators': [100, 150, 200, 250, 300, 350, 400, 450, 500]}\n",
    "# clf = GridSearchCV(clf_if, param_grid, cv=5, n_jobs=-1, scoring='f1', verbose=2)\n",
    "# _ = clf.fit(X_train, y_train)"
   ]
  },
  {
   "cell_type": "markdown",
   "metadata": {},
   "source": [
    "clf.best_estimator_ = IsolationForest(contamination=0.095, n_estimators=500, random_state=1)"
   ]
  },
  {
   "cell_type": "code",
   "execution_count": 36,
   "metadata": {
    "ExecuteTime": {
     "end_time": "2021-05-01T13:37:16.311937Z",
     "start_time": "2021-05-01T13:34:36.935770Z"
    }
   },
   "outputs": [
    {
     "name": "stdout",
     "output_type": "stream",
     "text": [
      "Área sob a curva ROC: {:0, 3f} 0.7382974055009928\n",
      "              precision    recall  f1-score   support\n",
      "\n",
      "     anômalo       0.52      0.53      0.52      3546\n",
      "      normal       0.95      0.95      0.95     34232\n",
      "\n",
      "    accuracy                           0.91     37778\n",
      "   macro avg       0.74      0.74      0.74     37778\n",
      "weighted avg       0.91      0.91      0.91     37778\n",
      "\n"
     ]
    }
   ],
   "source": [
    "clf_if_best = IsolationForest(contamination=0.095, n_estimators=500, random_state=1)\n",
    "_ = clf_if_best.fit(X_train, y_train)\n",
    "\n",
    "y_pred = clf_if_best.predict(X_test)\n",
    "roc_auc = roc_auc_score(y_test, y_pred)\n",
    "print('Área sob a curva ROC: {:0, 3f}', format(roc_auc))\n",
    "print (classification_report(y_test, y_pred, target_names=['anômalo', 'normal']))"
   ]
  },
  {
   "cell_type": "code",
   "execution_count": 37,
   "metadata": {
    "ExecuteTime": {
     "end_time": "2021-05-01T13:37:39.527019Z",
     "start_time": "2021-05-01T13:37:17.369908Z"
    }
   },
   "outputs": [
    {
     "data": {
      "image/png": "[encoded data removed]",
      "text/plain": [
       "<Figure size 720x360 with 1 Axes>"
      ]
     },
     "metadata": {
      "needs_background": "light"
     },
     "output_type": "display_data"
    }
   ],
   "source": [
    "if_probs = clf_if_best.decision_function(X_test)\n",
    "fpr, tpr, threshold = roc_curve(y_test, if_probs)\n",
    "plt.figure(figsize=(10, 5))\n",
    "plt.plot(fpr, tpr, lw=1, label=f'Isolation Forest: {roc_auc}', color='k')\n",
    "plt.plot([0,1],[0,1], '--', color=(0.6,0.6,0.6), label='Baseline')\n",
    "plt.xlim([-0.05, 1.05])\n",
    "plt.ylim([-0.05, 1.05])\n",
    "plt.xlabel('Taxa de falsos positivos', fontsize=14)\n",
    "plt.ylabel('Tava de verdadeiros positivos', fontsize=14)\n",
    "plt.title('Curva ROC', fontsize=16, y=1.03)\n",
    "plt.legend()\n",
    "plt.show()"
   ]
  },
  {
   "cell_type": "code",
   "execution_count": 38,
   "metadata": {
    "ExecuteTime": {
     "end_time": "2021-05-01T13:37:40.618099Z",
     "start_time": "2021-05-01T13:37:40.564165Z"
    }
   },
   "outputs": [
    {
     "name": "stdout",
     "output_type": "stream",
     "text": [
      "[[ 1866  1680]\n",
      " [ 1699 32533]]\n"
     ]
    }
   ],
   "source": [
    "from sklearn.metrics import confusion_matrix\n",
    "print(confusion_matrix(y_test, y_pred))"
   ]
  },
  {
   "cell_type": "markdown",
   "metadata": {},
   "source": [
    "### Modelo não supervisionado"
   ]
  },
  {
   "cell_type": "code",
   "execution_count": 39,
   "metadata": {
    "ExecuteTime": {
     "end_time": "2021-05-01T13:37:42.588102Z",
     "start_time": "2021-05-01T13:37:41.586548Z"
    }
   },
   "outputs": [],
   "source": [
    "import random\n",
    "\n",
    "X['fraude'] = Y\n",
    "X_anomalias = X[X['fraude'] == 1]\n",
    "X_normal = X[X['fraude'] == 0]\n",
    "\n",
    "train_idxs = random.sample(list(X_normal.index), int(0.7*X_normal.shape[0]))\n",
    "X_train_NSuper = X_normal.loc[train_idxs]\n",
    "\n",
    "X_testing = X_normal.drop(train_idxs)\n",
    "X_testing = pd.concat([X_testing, X_anomalias], axis=0)\n",
    "\n",
    "X_train_NSuper = X_train_NSuper.sample(frac=1).reset_index(drop=True)\n",
    "X_testing = X_testing.sample(frac=1).reset_index(drop=True)\n",
    "\n",
    "Y_testing = X_testing['fraude']\n",
    "X_testing = X_testing [[col for col in X_testing.columns if col != 'fraude']]\n",
    "\n",
    "X_cv, X_eval, Y_cv, Y_eval = train_test_split(X_testing, Y_testing, train_size=0.7, random_state=23)\n",
    "Y_cv = Y_cv.apply(lambda x: 1 if x==0 else -1)\n",
    "Y_eval = Y_eval.apply(lambda x: 1 if x==0 else -1)\n",
    "\n",
    "X_train = X_train[[col for col in X_testing.columns if col != 'fraude']]"
   ]
  },
  {
   "cell_type": "code",
   "execution_count": 40,
   "metadata": {
    "ExecuteTime": {
     "end_time": "2021-05-01T13:46:58.143269Z",
     "start_time": "2021-05-01T13:37:44.354692Z"
    }
   },
   "outputs": [
    {
     "name": "stdout",
     "output_type": "stream",
     "text": [
      "Fitando modelo...\n",
      "Fitando modelo...\n",
      "Fitando modelo...\n",
      "Fitando modelo...\n",
      "Fitando modelo...\n",
      "Fitando modelo...\n",
      "Fitando modelo...\n",
      "Fitando modelo...\n",
      "Fitando modelo...\n",
      "Fitando modelo...\n"
     ]
    }
   ],
   "source": [
    "from sklearn.svm import OneClassSVM\n",
    "\n",
    "param_grid = {'nu': np.linspace(0.001, 0.01, 5), 'gamma': [0.01, 0.03, 0.1, 0.3]}\n",
    "param_list = list(itertools.product(param_grid['nu'], param_grid['gamma']))\n",
    "\n",
    "\n",
    "def random_gridsearch(param_list, n_sample, X_train_NSuper, X_cv, Y_cv):\n",
    "    f1_max = 0\n",
    "    param_list = random.sample(param_list, n_sample)\n",
    "    remaining_fits = n_sample\n",
    "    \n",
    "    for params in param_list:\n",
    "        nu, gamma = params\n",
    "        OCSVM = OneClassSVM(kernel='rbf', nu=nu, gamma=gamma)\n",
    "        print('Fitando modelo...')\n",
    "        OCSVM.fit(X_train_NSuper)\n",
    "\n",
    "        cv_preds = OCSVM.predict(X_cv)\n",
    "        f1 = f1_score(Y_cv.values, cv_preds, average='binary')\n",
    "\n",
    "        if f1 > f1_max:\n",
    "            f1_max = f1\n",
    "            OCSVM_best = OCSVM\n",
    "            remaining_fits -=1\n",
    "    return f1_max, OCSVM\n",
    "\n",
    "f1_max, OCSVM_best = random_gridsearch(param_list, 10, X_train, X_cv, Y_cv)"
   ]
  },
  {
   "cell_type": "code",
   "execution_count": 41,
   "metadata": {
    "ExecuteTime": {
     "end_time": "2021-05-01T13:47:48.449010Z",
     "start_time": "2021-05-01T13:46:59.902132Z"
    }
   },
   "outputs": [
    {
     "name": "stdout",
     "output_type": "stream",
     "text": [
      "Área sob a curva ROC: {:0.3f} 0.5114595334255904\n",
      "              precision    recall  f1-score   support\n",
      "\n",
      "    anormais       0.71      0.03      0.05      4228\n",
      "     normais       0.75      1.00      0.86     12344\n",
      "\n",
      "    accuracy                           0.75     16572\n",
      "   macro avg       0.73      0.51      0.45     16572\n",
      "weighted avg       0.74      0.75      0.65     16572\n",
      "\n"
     ]
    }
   ],
   "source": [
    "OCSVM_best.fit(X_train)\n",
    "Y_predicted = OCSVM_best.predict(X_eval)\n",
    "roc_auc = roc_auc_score(Y_eval, Y_predicted)\n",
    "print('Área sob a curva ROC: {:0.3f}', format(roc_auc))\n",
    "print(classification_report(Y_eval, Y_predicted, target_names=['anormais', 'normais']))"
   ]
  },
  {
   "cell_type": "code",
   "execution_count": 42,
   "metadata": {
    "ExecuteTime": {
     "end_time": "2021-05-01T13:47:54.481138Z",
     "start_time": "2021-05-01T13:47:50.223747Z"
    }
   },
   "outputs": [
    {
     "data": {
      "image/png": "[encoded data removed]",
      "text/plain": [
       "<Figure size 720x360 with 1 Axes>"
      ]
     },
     "metadata": {
      "needs_background": "light"
     },
     "output_type": "display_data"
    }
   ],
   "source": [
    "OCSVM_probs = OCSVM_best.decision_function(X_eval)\n",
    "fpr, tpr, threshold = roc_curve(Y_eval, OCSVM_probs)\n",
    "\n",
    "plt.figure(figsize=(10, 5))\n",
    "plt.plot(fpr, tpr, lw=1, label=f'OCSVM: {roc_auc}', color='k')\n",
    "plt.plot([0,1], [0,1], '--', color=[0.6, 0.6, 0.6], label='Baseline')\n",
    "plt.xlim([-0.05, 1.05])\n",
    "plt.ylim([-0.05, 1.05])\n",
    "plt.xlabel('Taxa de positivos falsos', fontsize=14)\n",
    "plt.ylabel('Taxa de positivos verdadeiros', fontsize=14)\n",
    "plt.title('Curva ROC', fontsize=16, y=1.03)\n",
    "plt.legend()\n",
    "plt.show()"
   ]
  },
  {
   "cell_type": "code",
   "execution_count": 43,
   "metadata": {
    "ExecuteTime": {
     "end_time": "2021-05-01T13:47:56.295268Z",
     "start_time": "2021-05-01T13:47:56.267833Z"
    }
   },
   "outputs": [
    {
     "name": "stdout",
     "output_type": "stream",
     "text": [
      "[[  113  4115]\n",
      " [   47 12297]]\n"
     ]
    }
   ],
   "source": [
    "print(confusion_matrix(Y_eval, Y_predicted))"
   ]
  },
  {
   "cell_type": "markdown",
   "metadata": {},
   "source": [
    "### Melhorando o modelo"
   ]
  },
  {
   "cell_type": "code",
   "execution_count": 44,
   "metadata": {
    "ExecuteTime": {
     "end_time": "2021-05-01T13:48:05.997599Z",
     "start_time": "2021-05-01T13:47:58.061359Z"
    }
   },
   "outputs": [
    {
     "name": "stdout",
     "output_type": "stream",
     "text": [
      "Área sob a curva ROC: {:0.3f} 0.7613002027108875\n",
      "              precision    recall  f1-score   support\n",
      "\n",
      "    anormais       0.58      0.57      0.57      3546\n",
      "     normais       0.96      0.96      0.96     34232\n",
      "\n",
      "    accuracy                           0.92     37778\n",
      "   macro avg       0.77      0.76      0.76     37778\n",
      "weighted avg       0.92      0.92      0.92     37778\n",
      "\n"
     ]
    }
   ],
   "source": [
    "from sklearn.tree import DecisionTreeClassifier\n",
    "\n",
    "decision_tree = DecisionTreeClassifier(random_state=1)\n",
    "decision_tree.fit(X_train, y_train)\n",
    "y_predicted = decision_tree.predict(X_test)\n",
    "roc_auc = roc_auc_score(y_test, y_predicted)\n",
    "print('Área sob a curva ROC: {:0.3f}', format(roc_auc))\n",
    "print(classification_report(y_test, y_predicted, target_names=['anormais', 'normais']))"
   ]
  },
  {
   "cell_type": "code",
   "execution_count": 45,
   "metadata": {
    "ExecuteTime": {
     "end_time": "2021-05-01T13:48:08.113317Z",
     "start_time": "2021-05-01T13:48:07.735113Z"
    }
   },
   "outputs": [
    {
     "data": {
      "image/png": "[encoded data removed]",
      "text/plain": [
       "<Figure size 720x360 with 1 Axes>"
      ]
     },
     "metadata": {
      "needs_background": "light"
     },
     "output_type": "display_data"
    }
   ],
   "source": [
    "dt_probs = decision_tree.predict_proba(X_test)\n",
    "fpr, tpr, threshold = roc_curve(y_test, y_predicted)\n",
    "\n",
    "plt.figure(figsize=(10, 5))\n",
    "plt.plot(fpr, tpr, lw=1, label=f'Decision Tree: {roc_auc}', color='k')\n",
    "plt.plot([0,1], [0,1], '--', color=[0.6, 0.6, 0.6], label='Baseline')\n",
    "plt.xlim([-0.05, 1.05])\n",
    "plt.ylim([-0.05, 1.05])\n",
    "plt.xlabel('Taxa de positivos falsos', fontsize=14)\n",
    "plt.ylabel('Taxa de positivos verdadeiros', fontsize=14)\n",
    "plt.title('Curva ROC')\n",
    "plt.legend()\n",
    "plt.show()"
   ]
  },
  {
   "cell_type": "code",
   "execution_count": 46,
   "metadata": {
    "ExecuteTime": {
     "end_time": "2021-05-01T13:48:09.901682Z",
     "start_time": "2021-05-01T13:48:09.845678Z"
    }
   },
   "outputs": [
    {
     "name": "stdout",
     "output_type": "stream",
     "text": [
      "[[ 2005  1541]\n",
      " [ 1466 32766]]\n"
     ]
    }
   ],
   "source": [
    "print(confusion_matrix(y_test, y_predicted))"
   ]
  }
 ],
 "metadata": {
  "hide_input": false,
  "kernelspec": {
   "display_name": "Python 3",
   "language": "python",
   "name": "python3"
  },
  "language_info": {
   "codemirror_mode": {
    "name": "ipython",
    "version": 3
   },
   "file_extension": ".py",
   "mimetype": "text/x-python",
   "name": "python",
   "nbconvert_exporter": "python",
   "pygments_lexer": "ipython3",
   "version": "3.7.5"
  },
  "toc": {
   "base_numbering": 1,
   "nav_menu": {},
   "number_sections": false,
   "sideBar": false,
   "skip_h1_title": false,
   "title_cell": "Table of Contents",
   "title_sidebar": "Contents",
   "toc_cell": false,
   "toc_position": {},
   "toc_section_display": false,
   "toc_window_display": false
  },
  "varInspector": {
   "cols": {
    "lenName": 16,
    "lenType": 16,
    "lenVar": 40
   },
   "kernels_config": {
    "python": {
     "delete_cmd_postfix": "",
     "delete_cmd_prefix": "del ",
     "library": "var_list.py",
     "varRefreshCmd": "print(var_dic_list())"
    },
    "r": {
     "delete_cmd_postfix": ") ",
     "delete_cmd_prefix": "rm(",
     "library": "var_list.r",
     "varRefreshCmd": "cat(var_dic_list()) "
    }
   },
   "types_to_exclude": [
    "module",
    "function",
    "builtin_function_or_method",
    "instance",
    "_Feature"
   ],
   "window_display": false
  }
 },
 "nbformat": 4,
 "nbformat_minor": 4
}
