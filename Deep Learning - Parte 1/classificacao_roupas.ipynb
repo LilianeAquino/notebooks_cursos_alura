{
  "nbformat": 4,
  "nbformat_minor": 0,
  "metadata": {
    "colab": {
      "name": "classificacao_roupas.ipynb",
      "provenance": [],
      "collapsed_sections": []
    },
    "kernelspec": {
      "name": "python3",
      "display_name": "Python 3"
    }
  },
  "cells": [
    {
      "cell_type": "markdown",
      "metadata": {
        "id": "mdhUIWs4-qJC"
      },
      "source": [
        "# Introdução com Keras"
      ]
    },
    {
      "cell_type": "code",
      "metadata": {
        "colab": {
          "base_uri": "https://localhost:8080/"
        },
        "id": "3uVHEtE23li8",
        "outputId": "26369a06-e2ef-46b5-b6c9-91061856be54"
      },
      "source": [
        "from google.colab import drive\n",
        "drive.mount('/content/drive')"
      ],
      "execution_count": 1,
      "outputs": [
        {
          "output_type": "stream",
          "text": [
            "Drive already mounted at /content/drive; to attempt to forcibly remount, call drive.mount(\"/content/drive\", force_remount=True).\n"
          ],
          "name": "stdout"
        }
      ]
    },
    {
      "cell_type": "markdown",
      "metadata": {
        "id": "GbYya2p7-z9t"
      },
      "source": [
        "### Bibliotecas básicas"
      ]
    },
    {
      "cell_type": "code",
      "metadata": {
        "id": "wNBE3J-I-pjn"
      },
      "source": [
        "import numpy as np\n",
        "import pandas as pd\n",
        "import seaborn as sns\n",
        "import matplotlib.pyplot as plt\n",
        "%matplotlib inline\n",
        "\n",
        "import tensorflow\n",
        "from tensorflow import keras\n",
        "\n",
        "import warnings\n",
        "warnings.filterwarnings('ignore')"
      ],
      "execution_count": 2,
      "outputs": []
    },
    {
      "cell_type": "markdown",
      "metadata": {
        "id": "y9ovis2D-5qr"
      },
      "source": [
        "### Carregando o dataset"
      ]
    },
    {
      "cell_type": "code",
      "metadata": {
        "id": "qnBOMfgCT8vY"
      },
      "source": [
        "dataset = keras.datasets.fashion_mnist\n",
        "((imagens_treino, identificacoes_treino), (imagens_teste, identificacoes_teste)) = dataset.load_data()"
      ],
      "execution_count": 3,
      "outputs": []
    },
    {
      "cell_type": "markdown",
      "metadata": {
        "id": "RC3WtJ5xEFMd"
      },
      "source": [
        "### Exploração dos dados"
      ]
    },
    {
      "cell_type": "code",
      "metadata": {
        "colab": {
          "base_uri": "https://localhost:8080/"
        },
        "id": "V3HUukUB_sEd",
        "outputId": "bb6a384c-433c-414a-d1f9-c84c2c679d5f"
      },
      "source": [
        "print(f'Shape treino: {imagens_treino.shape}')\n",
        "print(f'Shape teste: {imagens_teste.shape}')"
      ],
      "execution_count": 4,
      "outputs": [
        {
          "output_type": "stream",
          "text": [
            "Shape treino: (60000, 28, 28)\n",
            "Shape teste: (10000, 28, 28)\n"
          ],
          "name": "stdout"
        }
      ]
    },
    {
      "cell_type": "markdown",
      "metadata": {
        "id": "t4ImEjUXEISQ"
      },
      "source": [
        "### Exibição dos dados"
      ]
    },
    {
      "cell_type": "code",
      "metadata": {
        "colab": {
          "base_uri": "https://localhost:8080/",
          "height": 280
        },
        "id": "CI5jaGAP_fi9",
        "outputId": "afe541ab-a7ba-4ec3-eba6-9d45b98a9204"
      },
      "source": [
        "plt.imshow(imagens_treino[0])\n",
        "plt.title(identificacoes_treino[0])\n",
        "plt.show()"
      ],
      "execution_count": 5,
      "outputs": [
        {
          "output_type": "display_data",
          "data": {
            "image/png": "[encoded data removed]",
            "text/plain": [
              "<Figure size 432x288 with 1 Axes>"
            ]
          },
          "metadata": {
            "tags": [],
            "needs_background": "light"
          }
        }
      ]
    },
    {
      "cell_type": "code",
      "metadata": {
        "colab": {
          "base_uri": "https://localhost:8080/",
          "height": 331
        },
        "id": "UBL_i5XmEXa6",
        "outputId": "e9a16dec-129b-4b64-8a7d-0590138ac87e"
      },
      "source": [
        "total_labels = 10\n",
        "nome_classificacoes = ['camiseta', 'calça', 'pullover', 'vestido', 'casaco', 'sandália', 'camisa', 'tênis', 'bolsa', 'bota']\n",
        "\n",
        "\n",
        "for imagem in range(3):\n",
        "  plt.subplot(2, 5, imagem+1)\n",
        "  plt.imshow(imagens_treino[imagem])\n",
        "  plt.title(nome_classificacoes[identificacoes_treino[imagem]])\n",
        "  plt.show()  "
      ],
      "execution_count": 6,
      "outputs": [
        {
          "output_type": "display_data",
          "data": {
            "image/png": "[encoded data removed]",
            "text/plain": [
              "<Figure size 432x288 with 1 Axes>"
            ]
          },
          "metadata": {
            "tags": [],
            "needs_background": "light"
          }
        },
        {
          "output_type": "display_data",
          "data": {
            "image/png": "[encoded data removed]",
            "text/plain": [
              "<Figure size 432x288 with 1 Axes>"
            ]
          },
          "metadata": {
            "tags": [],
            "needs_background": "light"
          }
        },
        {
          "output_type": "display_data",
          "data": {
            "image/png": "[encoded data removed]",
            "text/plain": [
              "<Figure size 432x288 with 1 Axes>"
            ]
          },
          "metadata": {
            "tags": [],
            "needs_background": "light"
          }
        }
      ]
    },
    {
      "cell_type": "code",
      "metadata": {
        "colab": {
          "base_uri": "https://localhost:8080/",
          "height": 265
        },
        "id": "iWWCq0y7MJqx",
        "outputId": "1b43cc0a-25fb-42c5-cda6-96e7a8bb48a6"
      },
      "source": [
        "plt.imshow(imagens_treino[0])\n",
        "plt.colorbar()\n",
        "plt.show()"
      ],
      "execution_count": 7,
      "outputs": [
        {
          "output_type": "display_data",
          "data": {
            "image/png": "[encoded data removed]",
            "text/plain": [
              "<Figure size 432x288 with 2 Axes>"
            ]
          },
          "metadata": {
            "tags": [],
            "needs_background": "light"
          }
        }
      ]
    },
    {
      "cell_type": "markdown",
      "metadata": {
        "id": "KogF6T7qFpfH"
      },
      "source": [
        "### Criando o modelo\n",
        "\n",
        "\n",
        "     modelo sequencia\n",
        "                        entrada\n",
        "                        processamento\n",
        "                        saída"
      ]
    },
    {
      "cell_type": "code",
      "metadata": {
        "id": "AK5uzRQFNCTi"
      },
      "source": [
        "imagens_treino_normalizado = imagens_treino/255.0"
      ],
      "execution_count": 8,
      "outputs": []
    },
    {
      "cell_type": "code",
      "metadata": {
        "id": "aMUUUPt7Frai",
        "colab": {
          "base_uri": "https://localhost:8080/"
        },
        "outputId": "fcf077ea-1d3d-4ff1-95cd-7528edd479ea"
      },
      "source": [
        "modelo = keras.Sequential([\n",
        "                           keras.layers.Flatten(input_shape=(28, 28)),\n",
        "                           keras.layers.Dense(256, activation=tensorflow.nn.relu),\n",
        "                           keras.layers.Dropout(0.2),\n",
        "                           keras.layers.Dense(total_labels, activation=tensorflow.nn.softmax)\n",
        "                           ])\n",
        "modelo.compile(optimizer='adam', loss='sparse_categorical_crossentropy', metrics='accuracy')\n",
        "historico = modelo.fit(imagens_treino_normalizado, identificacoes_treino, epochs=5, validation_split=0.2)"
      ],
      "execution_count": 9,
      "outputs": [
        {
          "output_type": "stream",
          "text": [
            "Epoch 1/5\n",
            "1500/1500 [==============================] - 5s 3ms/step - loss: 0.6684 - accuracy: 0.7667 - val_loss: 0.4008 - val_accuracy: 0.8560\n",
            "Epoch 2/5\n",
            "1500/1500 [==============================] - 4s 3ms/step - loss: 0.4128 - accuracy: 0.8478 - val_loss: 0.3638 - val_accuracy: 0.8696\n",
            "Epoch 3/5\n",
            "1500/1500 [==============================] - 4s 3ms/step - loss: 0.3722 - accuracy: 0.8629 - val_loss: 0.3598 - val_accuracy: 0.8687\n",
            "Epoch 4/5\n",
            "1500/1500 [==============================] - 4s 3ms/step - loss: 0.3466 - accuracy: 0.8713 - val_loss: 0.3597 - val_accuracy: 0.8723\n",
            "Epoch 5/5\n",
            "1500/1500 [==============================] - 4s 3ms/step - loss: 0.3281 - accuracy: 0.8792 - val_loss: 0.3587 - val_accuracy: 0.8718\n"
          ],
          "name": "stdout"
        }
      ]
    },
    {
      "cell_type": "markdown",
      "metadata": {
        "id": "N5rTr3sHRQtF"
      },
      "source": [
        "### Avaliando o modelo"
      ]
    },
    {
      "cell_type": "code",
      "metadata": {
        "colab": {
          "base_uri": "https://localhost:8080/"
        },
        "id": "LlMOClx-RDwU",
        "outputId": "a375a059-0f43-4d46-cd8f-edc4d599692b"
      },
      "source": [
        "testes = modelo.predict(imagens_teste)\n",
        "print(f'Predito: {np.argmax(testes[0])}')\n",
        "print(f'Real: {identificacoes_teste[0]}')"
      ],
      "execution_count": 10,
      "outputs": [
        {
          "output_type": "stream",
          "text": [
            "Predito: 9\n",
            "Real: 9\n"
          ],
          "name": "stdout"
        }
      ]
    },
    {
      "cell_type": "code",
      "metadata": {
        "colab": {
          "base_uri": "https://localhost:8080/"
        },
        "id": "J-Lr1T8lRQSE",
        "outputId": "5798ab14-2192-4227-8f76-dc7ee564ec44"
      },
      "source": [
        "perda_teste, acuracia_teste = modelo.evaluate(imagens_teste, identificacoes_teste)\n",
        "print(f'Perda: {perda_teste} | Acurácia: {acuracia_teste}')"
      ],
      "execution_count": 11,
      "outputs": [
        {
          "output_type": "stream",
          "text": [
            "313/313 [==============================] - 1s 2ms/step - loss: 67.9801 - accuracy: 0.8386\n",
            "Perda: 67.98007202148438 | Acurácia: 0.8385999798774719\n"
          ],
          "name": "stdout"
        }
      ]
    },
    {
      "cell_type": "markdown",
      "metadata": {
        "id": "DL5INsYSTYzs"
      },
      "source": [
        "### Visualização das acurácias de treino e validação por época"
      ]
    },
    {
      "cell_type": "code",
      "metadata": {
        "colab": {
          "base_uri": "https://localhost:8080/",
          "height": 296
        },
        "id": "tQMPKdC3TaLe",
        "outputId": "a25f9ae0-15d6-480f-ab00-bb301582b647"
      },
      "source": [
        "plt.plot(historico.history['accuracy'])\n",
        "plt.plot(historico.history['val_accuracy'])\n",
        "plt.title('Acurácia por épocas')\n",
        "plt.xlabel('Épocas')\n",
        "plt.ylabel('Acurácia ')\n",
        "plt.legend(['treino', 'validação'])\n",
        "plt.show()"
      ],
      "execution_count": 12,
      "outputs": [
        {
          "output_type": "display_data",
          "data": {
            "image/png": "[encoded data removed]",
            "text/plain": [
              "<Figure size 432x288 with 1 Axes>"
            ]
          },
          "metadata": {
            "tags": [],
            "needs_background": "light"
          }
        }
      ]
    },
    {
      "cell_type": "markdown",
      "metadata": {
        "id": "CTB43j1Z5QZM"
      },
      "source": [
        "### Visualização das perdas de treino e validação por época"
      ]
    },
    {
      "cell_type": "code",
      "metadata": {
        "colab": {
          "base_uri": "https://localhost:8080/",
          "height": 296
        },
        "id": "LgPiDCOiUoVG",
        "outputId": "69cdb7c2-88a0-4f78-9415-8df7e9805044"
      },
      "source": [
        "plt.plot(historico.history['loss'])\n",
        "plt.plot(historico.history['val_loss'])\n",
        "plt.title('Perda por épocas')\n",
        "plt.xlabel('Épocas')\n",
        "plt.ylabel('Perda ')\n",
        "plt.legend(['treino', 'validação'])\n",
        "plt.show()"
      ],
      "execution_count": 13,
      "outputs": [
        {
          "output_type": "display_data",
          "data": {
            "image/png": "[encoded data removed]",
            "text/plain": [
              "<Figure size 432x288 with 1 Axes>"
            ]
          },
          "metadata": {
            "tags": [],
            "needs_background": "light"
          }
        }
      ]
    },
    {
      "cell_type": "markdown",
      "metadata": {
        "id": "lqdgnBMmXUVZ"
      },
      "source": [
        "### Salvando o modelo"
      ]
    },
    {
      "cell_type": "code",
      "metadata": {
        "id": "iBxvOVlrXV3O"
      },
      "source": [
        "modelo.save('/content/drive/MyDrive/Colab Notebooks/Alura/modelo.h5')"
      ],
      "execution_count": 14,
      "outputs": []
    },
    {
      "cell_type": "markdown",
      "metadata": {
        "id": "43sisYEx4uGr"
      },
      "source": [
        "### Carregando o modelo"
      ]
    },
    {
      "cell_type": "code",
      "metadata": {
        "id": "4mn0LfuCXkh9"
      },
      "source": [
        "from tensorflow.keras.models import load_model\n",
        "modelo_salvo = load_model('/content/drive/MyDrive/Colab Notebooks/Alura/modelo.h5')"
      ],
      "execution_count": 15,
      "outputs": []
    },
    {
      "cell_type": "markdown",
      "metadata": {
        "id": "1nYJim5D4xBv"
      },
      "source": [
        "### Predição"
      ]
    },
    {
      "cell_type": "code",
      "metadata": {
        "colab": {
          "base_uri": "https://localhost:8080/"
        },
        "id": "2zOK8WXN4Irt",
        "outputId": "2d35f76c-48d6-4181-89ed-0ec1c27866af"
      },
      "source": [
        "testes_modelo_salvo = modelo_salvo.predict(imagens_teste)\n",
        "print(f'Predito: {np.argmax(testes_modelo_salvo[0])}')"
      ],
      "execution_count": 16,
      "outputs": [
        {
          "output_type": "stream",
          "text": [
            "Predito: 9\n"
          ],
          "name": "stdout"
        }
      ]
    }
  ]
}