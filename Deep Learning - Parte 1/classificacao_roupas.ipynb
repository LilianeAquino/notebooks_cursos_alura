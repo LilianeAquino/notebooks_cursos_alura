{
  "nbformat": 4,
  "nbformat_minor": 0,
  "metadata": {
    "colab": {
      "name": "classificacao_roupas.ipynb",
      "provenance": [],
      "collapsed_sections": []
    },
    "kernelspec": {
      "name": "python3",
      "display_name": "Python 3"
    }
  },
  "cells": [
    {
      "cell_type": "markdown",
      "metadata": {
        "id": "mdhUIWs4-qJC"
      },
      "source": [
        "# Introdução com Keras"
      ]
    },
    {
      "cell_type": "markdown",
      "metadata": {
        "id": "GbYya2p7-z9t"
      },
      "source": [
        "### Bibliotecas básicas"
      ]
    },
    {
      "cell_type": "code",
      "metadata": {
        "id": "wNBE3J-I-pjn"
      },
      "source": [
        "import numpy as np\n",
        "import pandas as pd\n",
        "import seaborn as sns\n",
        "import matplotlib.pyplot as plt\n",
        "%matplotlib inline\n",
        "\n",
        "import tensorflow\n",
        "from tensorflow import keras\n",
        "\n",
        "import warnings\n",
        "warnings.filterwarnings('ignore')"
      ],
      "execution_count": 1,
      "outputs": []
    },
    {
      "cell_type": "markdown",
      "metadata": {
        "id": "y9ovis2D-5qr"
      },
      "source": [
        "### Carregando o dataset"
      ]
    },
    {
      "cell_type": "code",
      "metadata": {
        "id": "qnBOMfgCT8vY"
      },
      "source": [
        "dataset = keras.datasets.fashion_mnist\n",
        "((imagens_treino, identificacoes_treino), (imagens_teste, identificacoes_teste)) = dataset.load_data()"
      ],
      "execution_count": 2,
      "outputs": []
    },
    {
      "cell_type": "markdown",
      "metadata": {
        "id": "RC3WtJ5xEFMd"
      },
      "source": [
        "### Exploração dos dados"
      ]
    },
    {
      "cell_type": "code",
      "metadata": {
        "colab": {
          "base_uri": "https://localhost:8080/"
        },
        "id": "V3HUukUB_sEd",
        "outputId": "b817bb70-309a-4d57-8f6b-e78b0c5e8a0b"
      },
      "source": [
        "print(f'Shape treino: {imagens_treino.shape}')\n",
        "print(f'Shape teste: {imagens_teste.shape}')"
      ],
      "execution_count": 3,
      "outputs": [
        {
          "output_type": "stream",
          "text": [
            "Shape treino: (60000, 28, 28)\n",
            "Shape teste: (10000, 28, 28)\n"
          ],
          "name": "stdout"
        }
      ]
    },
    {
      "cell_type": "markdown",
      "metadata": {
        "id": "t4ImEjUXEISQ"
      },
      "source": [
        "### Exibição dos dados"
      ]
    },
    {
      "cell_type": "code",
      "metadata": {
        "colab": {
          "base_uri": "https://localhost:8080/",
          "height": 280
        },
        "id": "CI5jaGAP_fi9",
        "outputId": "6f1f3461-408c-41d6-d5ed-da45ab48854e"
      },
      "source": [
        "plt.imshow(imagens_treino[0])\n",
        "plt.title(identificacoes_treino[0])\n",
        "plt.show()"
      ],
      "execution_count": 4,
      "outputs": [
        {
          "output_type": "display_data",
          "data": {
            "image/png": "[encoded data removed]",
            "text/plain": [
              "<Figure size 432x288 with 1 Axes>"
            ]
          },
          "metadata": {
            "tags": [],
            "needs_background": "light"
          }
        }
      ]
    },
    {
      "cell_type": "code",
      "metadata": {
        "colab": {
          "base_uri": "https://localhost:8080/",
          "height": 331
        },
        "id": "UBL_i5XmEXa6",
        "outputId": "91905fa2-e46a-406a-df26-fb60e0932709"
      },
      "source": [
        "total_labels = 10\n",
        "nome_classificacoes = ['camiseta', 'calça', 'pullover', 'vestido', 'casaco', 'sandália', 'camisa', 'tênis', 'bolsa', 'bota']\n",
        "\n",
        "\n",
        "for imagem in range(3):\n",
        "  plt.subplot(2, 5, imagem+1)\n",
        "  plt.imshow(imagens_treino[imagem])\n",
        "  plt.title(nome_classificacoes[identificacoes_treino[imagem]])\n",
        "  plt.show()  "
      ],
      "execution_count": 5,
      "outputs": [
        {
          "output_type": "display_data",
          "data": {
            "image/png": "[encoded data removed]",
            "text/plain": [
              "<Figure size 432x288 with 1 Axes>"
            ]
          },
          "metadata": {
            "tags": [],
            "needs_background": "light"
          }
        },
        {
          "output_type": "display_data",
          "data": {
            "image/png": "[encoded data removed]",
            "text/plain": [
              "<Figure size 432x288 with 1 Axes>"
            ]
          },
          "metadata": {
            "tags": [],
            "needs_background": "light"
          }
        },
        {
          "output_type": "display_data",
          "data": {
            "image/png": "[encoded data removed]",
            "text/plain": [
              "<Figure size 432x288 with 1 Axes>"
            ]
          },
          "metadata": {
            "tags": [],
            "needs_background": "light"
          }
        }
      ]
    },
    {
      "cell_type": "code",
      "metadata": {
        "colab": {
          "base_uri": "https://localhost:8080/",
          "height": 265
        },
        "id": "iWWCq0y7MJqx",
        "outputId": "9dd08bb1-ca8b-49e5-c8a9-575210921ad8"
      },
      "source": [
        "plt.imshow(imagens_treino[0])\n",
        "plt.colorbar()\n",
        "plt.show()"
      ],
      "execution_count": 6,
      "outputs": [
        {
          "output_type": "display_data",
          "data": {
            "image/png": "[encoded data removed]",
            "text/plain": [
              "<Figure size 432x288 with 2 Axes>"
            ]
          },
          "metadata": {
            "tags": [],
            "needs_background": "light"
          }
        }
      ]
    },
    {
      "cell_type": "markdown",
      "metadata": {
        "id": "KogF6T7qFpfH"
      },
      "source": [
        "### Criando o modelo\n",
        "\n",
        "\n",
        "     modelo sequencia\n",
        "                        entrada\n",
        "                        processamento\n",
        "                        saída"
      ]
    },
    {
      "cell_type": "code",
      "metadata": {
        "id": "AK5uzRQFNCTi"
      },
      "source": [
        "imagens_treino_normalizado = imagens_treino/255.0"
      ],
      "execution_count": 7,
      "outputs": []
    },
    {
      "cell_type": "code",
      "metadata": {
        "id": "aMUUUPt7Frai",
        "colab": {
          "base_uri": "https://localhost:8080/"
        },
        "outputId": "d9b21481-1429-4a1b-c8eb-ae7c1de5e221"
      },
      "source": [
        "modelo = keras.Sequential([\n",
        "                           keras.layers.Flatten(input_shape=(28, 28)),\n",
        "                           keras.layers.Dense(256, activation=tensorflow.nn.relu),\n",
        "                           keras.layers.Dropout(0.2),\n",
        "                           keras.layers.Dense(total_labels, activation=tensorflow.nn.softmax)\n",
        "                           ])\n",
        "modelo.compile(optimizer='adam', loss='sparse_categorical_crossentropy', metrics='accuracy')\n",
        "historico = modelo.fit(imagens_treino_normalizado, identificacoes_treino, epochs=5, validation_split=0.2)"
      ],
      "execution_count": 8,
      "outputs": [
        {
          "output_type": "stream",
          "text": [
            "Epoch 1/5\n",
            "1500/1500 [==============================] - 6s 4ms/step - loss: 0.6733 - accuracy: 0.7640 - val_loss: 0.4197 - val_accuracy: 0.8418\n",
            "Epoch 2/5\n",
            "1500/1500 [==============================] - 5s 3ms/step - loss: 0.4159 - accuracy: 0.8486 - val_loss: 0.3826 - val_accuracy: 0.8562\n",
            "Epoch 3/5\n",
            "1500/1500 [==============================] - 5s 4ms/step - loss: 0.3660 - accuracy: 0.8695 - val_loss: 0.3485 - val_accuracy: 0.8737\n",
            "Epoch 4/5\n",
            "1500/1500 [==============================] - 5s 3ms/step - loss: 0.3432 - accuracy: 0.8752 - val_loss: 0.3747 - val_accuracy: 0.8649\n",
            "Epoch 5/5\n",
            "1500/1500 [==============================] - 5s 4ms/step - loss: 0.3216 - accuracy: 0.8818 - val_loss: 0.3279 - val_accuracy: 0.8808\n"
          ],
          "name": "stdout"
        }
      ]
    },
    {
      "cell_type": "markdown",
      "metadata": {
        "id": "N5rTr3sHRQtF"
      },
      "source": [
        "### Avaliando o modelo"
      ]
    },
    {
      "cell_type": "code",
      "metadata": {
        "colab": {
          "base_uri": "https://localhost:8080/"
        },
        "id": "LlMOClx-RDwU",
        "outputId": "0b5d223a-80e6-462d-deae-cd53755a4b6b"
      },
      "source": [
        "testes = modelo.predict(imagens_teste)\n",
        "print(f'Predito: {np.argmax(testes[0])}')\n",
        "print(f'Real: {identificacoes_teste[0]}')"
      ],
      "execution_count": 9,
      "outputs": [
        {
          "output_type": "stream",
          "text": [
            "Predito: 9\n",
            "Real: 9\n"
          ],
          "name": "stdout"
        }
      ]
    },
    {
      "cell_type": "code",
      "metadata": {
        "colab": {
          "base_uri": "https://localhost:8080/"
        },
        "id": "J-Lr1T8lRQSE",
        "outputId": "34e73811-dcda-4e81-90fa-292acb236ca3"
      },
      "source": [
        "perda_teste, acuracia_teste = modelo.evaluate(imagens_teste, identificacoes_teste)\n",
        "print(f'Perda: {perda_teste} | Acurácia: {acuracia_teste}')"
      ],
      "execution_count": 10,
      "outputs": [
        {
          "output_type": "stream",
          "text": [
            "313/313 [==============================] - 1s 2ms/step - loss: 51.1348 - accuracy: 0.8722\n",
            "Perda: 51.13479232788086 | Acurácia: 0.8722000122070312\n"
          ],
          "name": "stdout"
        }
      ]
    },
    {
      "cell_type": "markdown",
      "metadata": {
        "id": "DL5INsYSTYzs"
      },
      "source": [
        "### Validação"
      ]
    },
    {
      "cell_type": "code",
      "metadata": {
        "colab": {
          "base_uri": "https://localhost:8080/",
          "height": 296
        },
        "id": "tQMPKdC3TaLe",
        "outputId": "b661fdf5-1e3d-44d6-dd10-0e2dbd3f0ce9"
      },
      "source": [
        "plt.plot(historico.history['accuracy'])\n",
        "plt.plot(historico.history['val_accuracy'])\n",
        "plt.title('Acurácia por épocas')\n",
        "plt.xlabel('Épocas')\n",
        "plt.ylabel('Acurácia ')\n",
        "plt.legend(['treino', 'validação'])\n",
        "plt.show()"
      ],
      "execution_count": 11,
      "outputs": [
        {
          "output_type": "display_data",
          "data": {
            "image/png": "[encoded data removed]",
            "text/plain": [
              "<Figure size 432x288 with 1 Axes>"
            ]
          },
          "metadata": {
            "tags": [],
            "needs_background": "light"
          }
        }
      ]
    },
    {
      "cell_type": "code",
      "metadata": {
        "colab": {
          "base_uri": "https://localhost:8080/",
          "height": 296
        },
        "id": "LgPiDCOiUoVG",
        "outputId": "787d7b20-775f-4562-cbaf-11257dd43923"
      },
      "source": [
        "plt.plot(historico.history['loss'])\n",
        "plt.plot(historico.history['val_loss'])\n",
        "plt.title('Perda por épocas')\n",
        "plt.xlabel('Épocas')\n",
        "plt.ylabel('Perda ')\n",
        "plt.legend(['treino', 'validação'])\n",
        "plt.show()"
      ],
      "execution_count": 12,
      "outputs": [
        {
          "output_type": "display_data",
          "data": {
            "image/png": "[encoded data removed]",
            "text/plain": [
              "<Figure size 432x288 with 1 Axes>"
            ]
          },
          "metadata": {
            "tags": [],
            "needs_background": "light"
          }
        }
      ]
    },
    {
      "cell_type": "markdown",
      "metadata": {
        "id": "lqdgnBMmXUVZ"
      },
      "source": [
        "### Salvando e carregando o modelo"
      ]
    },
    {
      "cell_type": "code",
      "metadata": {
        "id": "iBxvOVlrXV3O"
      },
      "source": [
        "modelo.save('modelo.h5')"
      ],
      "execution_count": 13,
      "outputs": []
    },
    {
      "cell_type": "code",
      "metadata": {
        "id": "4mn0LfuCXkh9"
      },
      "source": [
        "from tensorflow.keras.models import load_model\n",
        "modelo_salvo = load_model('modelo.h5')"
      ],
      "execution_count": 15,
      "outputs": []
    }
  ]
}