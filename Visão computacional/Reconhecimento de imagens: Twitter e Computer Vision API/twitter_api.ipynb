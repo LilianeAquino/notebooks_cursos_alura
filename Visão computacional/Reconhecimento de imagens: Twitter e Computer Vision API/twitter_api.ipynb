{
 "cells": [
  {
   "cell_type": "markdown",
   "metadata": {},
   "source": [
    "# Reconhecimento de imagens: Twitter e Computer Vision API"
   ]
  },
  {
   "cell_type": "markdown",
   "metadata": {},
   "source": [
    "## Bibliotecas básicas e outras inicializações"
   ]
  },
  {
   "cell_type": "code",
   "execution_count": 1,
   "metadata": {
    "ExecuteTime": {
     "end_time": "2021-05-06T11:21:25.584463Z",
     "start_time": "2021-05-06T11:21:25.533176Z"
    }
   },
   "outputs": [],
   "source": [
    "import tweepy as tw\n",
    "%run credentials/credentials.py"
   ]
  },
  {
   "cell_type": "markdown",
   "metadata": {},
   "source": [
    "## APP Twitter"
   ]
  },
  {
   "cell_type": "markdown",
   "metadata": {},
   "source": [
    "### Autenticação"
   ]
  },
  {
   "cell_type": "code",
   "execution_count": 2,
   "metadata": {
    "ExecuteTime": {
     "end_time": "2021-05-06T11:21:25.827991Z",
     "start_time": "2021-05-06T11:21:25.589753Z"
    }
   },
   "outputs": [],
   "source": [
    "api_key = credentials['api_key']\n",
    "api_secret_key = credentials['api_secret_key']\n",
    "access_token = credentials['access_token']\n",
    "access_token_secret = credentials['access_token_secret']"
   ]
  },
  {
   "cell_type": "markdown",
   "metadata": {},
   "source": [
    "### Primeiro tweet"
   ]
  },
  {
   "cell_type": "code",
   "execution_count": 3,
   "metadata": {
    "ExecuteTime": {
     "end_time": "2021-05-06T11:21:26.894216Z",
     "start_time": "2021-05-06T11:21:25.834064Z"
    }
   },
   "outputs": [],
   "source": [
    "auth = tw.OAuthHandler(api_key, api_secret_key)\n",
    "auth.set_access_token(access_token, access_token_secret)\n",
    "api = tw.API(auth)\n",
    "tweet = api.update_status(\"Python e Twitter na #Alura\")"
   ]
  },
  {
   "cell_type": "markdown",
   "metadata": {},
   "source": [
    "### Pesquisando tweets"
   ]
  },
  {
   "cell_type": "code",
   "execution_count": 6,
   "metadata": {
    "ExecuteTime": {
     "end_time": "2021-05-06T11:26:06.475551Z",
     "start_time": "2021-05-06T11:26:02.251795Z"
    },
    "scrolled": false
   },
   "outputs": [
    {
     "name": "stdout",
     "output_type": "stream",
     "text": [
      "paanalytics1\n",
      "São Paulo\n",
      "2021-05-06 11:00:06.394061 - Consultoria em Data Science e Analytics: Análise de Dados, Machine Learning, Construçã… https://t.co/tfuMMCkuIK\n",
      "-----------------------------------------------------------------------------\n",
      "\n",
      "MesumRazaHemani\n",
      "Karachi\n",
      "TDataScience: A Data Science Template by @LucasEnkrateia \n",
      "https://t.co/JRScGxzDhg\n",
      "-----------------------------------------------------------------------------\n",
      "\n",
      "quarentenor\n",
      "São Paulo\n",
      "@Vazorlnd @StelaSalgado @BohrerIsadora @barbaramaria_ @oatila 5. você diz \"a matéria da science não diz que a quebr… https://t.co/Yc3wlS4rX6\n",
      "-----------------------------------------------------------------------------\n",
      "\n",
      "Vazorlnd\n",
      "\n",
      "@quarentenor @StelaSalgado @BohrerIsadora @barbaramaria_ @oatila calma lá companheiro... onde está sua educação?\n",
      "\n",
      "a… https://t.co/SvppE0c8dN\n",
      "-----------------------------------------------------------------------------\n",
      "\n",
      "djhonyy\n",
      "Florianópolis\n",
      "@JorgeWill12 Recomendo a Alura e também a Data Science Academy.\n",
      "-----------------------------------------------------------------------------\n",
      "\n"
     ]
    }
   ],
   "source": [
    "tweets = tw.Cursor(api.search, q='data science', since='2021-01-01', lang='pt').items(5)\n",
    "for tweet in tweets:\n",
    "    print(tweet.user.screen_name)\n",
    "    print(tweet.user.location)\n",
    "    print(tweet.text)\n",
    "    print('-----------------------------------------------------------------------------\\n')"
   ]
  },
  {
   "cell_type": "markdown",
   "metadata": {},
   "source": [
    "### Pesquisando famosos"
   ]
  },
  {
   "cell_type": "code",
   "execution_count": 5,
   "metadata": {
    "ExecuteTime": {
     "end_time": "2021-05-06T11:21:36.248371Z",
     "start_time": "2021-05-06T11:21:28.429226Z"
    }
   },
   "outputs": [
    {
     "name": "stdout",
     "output_type": "stream",
     "text": [
      "Autor do tweet:  cauareymond\n",
      "Imagens postadas: \n",
      "http://pbs.twimg.com/media/E0oLkjIXsAUezqb.jpg\n",
      "http://pbs.twimg.com/media/E0oLkjIXsAUezqb.jpg\n",
      "http://pbs.twimg.com/media/E0oLkjIXsAUezqb.jpg\n",
      "http://pbs.twimg.com/media/EzxFkuLXMAMgx-V.jpg\n",
      "http://pbs.twimg.com/ext_tw_video_thumb/1389728594155425793/pu/img/_RIjRAFjkQDH6eEG.jpg\n",
      "http://pbs.twimg.com/media/E0kumzaXIAELkh7.jpg\n",
      "http://pbs.twimg.com/media/E0kumzaXIAELkh7.jpg\n",
      "http://pbs.twimg.com/media/E0kumzaXIAELkh7.jpg\n",
      "http://pbs.twimg.com/media/E0kumzaXIAELkh7.jpg\n",
      "http://pbs.twimg.com/media/E0kumzaXIAELkh7.jpg\n",
      "---------------------------\n",
      "\n",
      "Autor do tweet:  ivetesangalo\n",
      "Imagens postadas: \n",
      "http://pbs.twimg.com/media/E0ssCrUWEAgUDH-.jpg\n",
      "http://pbs.twimg.com/media/E0rd9RhWUAEKHuC.jpg\n",
      "---------------------------\n",
      "\n",
      "Autor do tweet:  Tatawerneck\n",
      "Imagens postadas: \n",
      "http://pbs.twimg.com/ext_tw_video_thumb/1390083584086749189/pu/img/LnkoLVEB_zQCrjyw.jpg\n",
      "http://pbs.twimg.com/ext_tw_video_thumb/1390083584086749189/pu/img/LnkoLVEB_zQCrjyw.jpg\n",
      "http://pbs.twimg.com/ext_tw_video_thumb/1390083584086749189/pu/img/LnkoLVEB_zQCrjyw.jpg\n",
      "http://pbs.twimg.com/ext_tw_video_thumb/1390083584086749189/pu/img/LnkoLVEB_zQCrjyw.jpg\n",
      "---------------------------\n",
      "\n"
     ]
    }
   ],
   "source": [
    "famosos = ['cauareymond', 'ivetesangalo', 'Tatawerneck']\n",
    "\n",
    "for famoso in famosos:\n",
    "    tweets = tw.Cursor(api.search, q=famoso, since='2019-01-01').items(20)\n",
    "    print('Autor do tweet: ', famoso)\n",
    "    print('Imagens postadas: ')\n",
    "    for tweet in tweets:\n",
    "        if 'media' in tweet.entities:\n",
    "            print(tweet.entities['media'][0]['media_url'])\n",
    "            \n",
    "    print('---------------------------\\n')"
   ]
  },
  {
   "cell_type": "markdown",
   "metadata": {},
   "source": [
    "### Streaming"
   ]
  },
  {
   "cell_type": "code",
   "execution_count": 10,
   "metadata": {
    "ExecuteTime": {
     "end_time": "2021-05-06T11:35:34.088585Z",
     "start_time": "2021-05-06T11:35:34.082827Z"
    }
   },
   "outputs": [],
   "source": [
    "class MinhaStreamListener(tw.StreamListener):\n",
    "    def on_status(self, status):\n",
    "        print(status.user.screen_name)\n",
    "        print(status.text)\n",
    "        print('----------------------\\n')\n",
    "        \n",
    "\n",
    "minhaStream = tw.Stream(auth=auth, listener=MinhaStreamListener())\n",
    "minhaStream.filter(track='famosos')"
   ]
  }
 ],
 "metadata": {
  "hide_input": false,
  "kernelspec": {
   "display_name": "Python 3",
   "language": "python",
   "name": "python3"
  },
  "language_info": {
   "codemirror_mode": {
    "name": "ipython",
    "version": 3
   },
   "file_extension": ".py",
   "mimetype": "text/x-python",
   "name": "python",
   "nbconvert_exporter": "python",
   "pygments_lexer": "ipython3",
   "version": "3.7.5"
  },
  "toc": {
   "base_numbering": 1,
   "nav_menu": {},
   "number_sections": false,
   "sideBar": false,
   "skip_h1_title": false,
   "title_cell": "Table of Contents",
   "title_sidebar": "Contents",
   "toc_cell": false,
   "toc_position": {},
   "toc_section_display": false,
   "toc_window_display": false
  },
  "varInspector": {
   "cols": {
    "lenName": 16,
    "lenType": 16,
    "lenVar": 40
   },
   "kernels_config": {
    "python": {
     "delete_cmd_postfix": "",
     "delete_cmd_prefix": "del ",
     "library": "var_list.py",
     "varRefreshCmd": "print(var_dic_list())"
    },
    "r": {
     "delete_cmd_postfix": ") ",
     "delete_cmd_prefix": "rm(",
     "library": "var_list.r",
     "varRefreshCmd": "cat(var_dic_list()) "
    }
   },
   "types_to_exclude": [
    "module",
    "function",
    "builtin_function_or_method",
    "instance",
    "_Feature"
   ],
   "window_display": false
  }
 },
 "nbformat": 4,
 "nbformat_minor": 4
}
