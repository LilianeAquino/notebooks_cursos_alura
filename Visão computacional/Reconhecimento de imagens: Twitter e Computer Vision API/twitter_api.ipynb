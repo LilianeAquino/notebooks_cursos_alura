{
 "cells": [
  {
   "cell_type": "markdown",
   "metadata": {},
   "source": [
    "# Reconhecimento de imagens: Twitter e Computer Vision API"
   ]
  },
  {
   "cell_type": "markdown",
   "metadata": {},
   "source": [
    "## Bibliotecas básicas e outras inicializações"
   ]
  },
  {
   "cell_type": "code",
   "execution_count": 1,
   "metadata": {
    "ExecuteTime": {
     "end_time": "2021-05-08T11:57:55.080064Z",
     "start_time": "2021-05-08T11:57:55.038248Z"
    }
   },
   "outputs": [],
   "source": [
    "import tweepy as tw\n",
    "%run credentials/credentials.py"
   ]
  },
  {
   "cell_type": "markdown",
   "metadata": {},
   "source": [
    "## APP Twitter"
   ]
  },
  {
   "cell_type": "markdown",
   "metadata": {},
   "source": [
    "### Autenticação"
   ]
  },
  {
   "cell_type": "code",
   "execution_count": 2,
   "metadata": {
    "ExecuteTime": {
     "end_time": "2021-05-08T11:57:55.438990Z",
     "start_time": "2021-05-08T11:57:55.083531Z"
    }
   },
   "outputs": [],
   "source": [
    "api_key = credentials['api_key']\n",
    "api_secret_key = credentials['api_secret_key']\n",
    "access_token = credentials['access_token']\n",
    "access_token_secret = credentials['access_token_secret']"
   ]
  },
  {
   "cell_type": "markdown",
   "metadata": {},
   "source": [
    "### Primeiro tweet"
   ]
  },
  {
   "cell_type": "code",
   "execution_count": 3,
   "metadata": {
    "ExecuteTime": {
     "end_time": "2021-05-08T11:57:56.509981Z",
     "start_time": "2021-05-08T11:57:55.444257Z"
    }
   },
   "outputs": [],
   "source": [
    "auth = tw.OAuthHandler(api_key, api_secret_key)\n",
    "auth.set_access_token(access_token, access_token_secret)\n",
    "api = tw.API(auth)\n",
    "tweet = api.update_status(\"Python e Twitter na #Alura\")"
   ]
  },
  {
   "cell_type": "markdown",
   "metadata": {},
   "source": [
    "### Pesquisando tweets"
   ]
  },
  {
   "cell_type": "code",
   "execution_count": 4,
   "metadata": {
    "ExecuteTime": {
     "end_time": "2021-05-08T11:57:57.848791Z",
     "start_time": "2021-05-08T11:57:56.513264Z"
    },
    "scrolled": false
   },
   "outputs": [
    {
     "name": "stdout",
     "output_type": "stream",
     "text": [
      "paanalytics1\n",
      "São Paulo\n",
      "2021-05-08 11:00:05.510105 - Consultoria em Data Science e Analytics: Análise de Dados, Machine Learning, Construçã… https://t.co/stXkIyDQcv\n",
      "-----------------------------------------------------------------------------\n",
      "\n",
      "Luis_OrEa\n",
      "Recife, Brasil\n",
      "RT @curso_r: @anarina @gilnogueiraofc Bora vigoRaR estudando R com a gente, @gilnogueiraofc ? Inclusive acabamos de liberar o cupom GILDOVI…\n",
      "-----------------------------------------------------------------------------\n",
      "\n",
      "daft_zebra_\n",
      "Now\n",
      "Data science é cornojob gourmet e eu posso provar\n",
      "-----------------------------------------------------------------------------\n",
      "\n",
      "hnrqlds\n",
      "Brazil\n",
      "Agora esses picaretas inveterados da Empiricus se deram conta que data science é buzzword e FLOODARAM o youtube com ads sobre isso.\n",
      "-----------------------------------------------------------------------------\n",
      "\n",
      "SoyRafa28309693\n",
      "\n",
      "@anarina @gilnogueiraofc @curso_r Tem algum programa da Globo pra jovens na área de Data Science?\n",
      "-----------------------------------------------------------------------------\n",
      "\n"
     ]
    }
   ],
   "source": [
    "tweets = tw.Cursor(api.search, q='data science', since='2021-01-01', lang='pt').items(5)\n",
    "for tweet in tweets:\n",
    "    print(tweet.user.screen_name)\n",
    "    print(tweet.user.location)\n",
    "    print(tweet.text)\n",
    "    print('-----------------------------------------------------------------------------\\n')"
   ]
  },
  {
   "cell_type": "markdown",
   "metadata": {},
   "source": [
    "### Pesquisando famosos"
   ]
  },
  {
   "cell_type": "code",
   "execution_count": 5,
   "metadata": {
    "ExecuteTime": {
     "end_time": "2021-05-08T11:58:05.733478Z",
     "start_time": "2021-05-08T11:57:57.860774Z"
    }
   },
   "outputs": [
    {
     "name": "stdout",
     "output_type": "stream",
     "text": [
      "Autor do tweet:  cauareymond\n",
      "Imagens postadas: \n",
      "http://pbs.twimg.com/media/E0y2nfOWUAgU6n2.jpg\n",
      "http://pbs.twimg.com/media/Ezw2S6hWQAIRzCy.jpg\n",
      "http://pbs.twimg.com/media/Ez77yR9WQAAnjuD.jpg\n",
      "http://pbs.twimg.com/ext_tw_video_thumb/1390747675021168645/pu/img/X74BSpzO0Nnb7nVv.jpg\n",
      "http://pbs.twimg.com/ext_tw_video_thumb/1390740768780922883/pu/img/NCe0pcwOm14bKbUQ.jpg\n",
      "http://pbs.twimg.com/media/E0zmQkpWEAIp-4h.jpg\n",
      "http://pbs.twimg.com/media/E0zlyJFX0AEolsy.jpg\n",
      "http://pbs.twimg.com/ext_tw_video_thumb/1390541364006461443/pu/img/A3NoE8X6G11Xa9n8.jpg\n",
      "http://pbs.twimg.com/ext_tw_video_thumb/1390541364006461443/pu/img/A3NoE8X6G11Xa9n8.jpg\n",
      "---------------------------\n",
      "\n",
      "Autor do tweet:  ivetesangalo\n",
      "Imagens postadas: \n",
      "---------------------------\n",
      "\n",
      "Autor do tweet:  Tatawerneck\n",
      "Imagens postadas: \n",
      "---------------------------\n",
      "\n"
     ]
    }
   ],
   "source": [
    "famosos = ['cauareymond', 'ivetesangalo', 'Tatawerneck']\n",
    "\n",
    "for famoso in famosos:\n",
    "    tweets = tw.Cursor(api.search, q=famoso, since='2019-01-01').items(20)\n",
    "    print('Autor do tweet: ', famoso)\n",
    "    print('Imagens postadas: ')\n",
    "    for tweet in tweets:\n",
    "        if 'media' in tweet.entities:\n",
    "            print(tweet.entities['media'][0]['media_url'])\n",
    "            \n",
    "    print('---------------------------\\n')"
   ]
  },
  {
   "cell_type": "markdown",
   "metadata": {},
   "source": [
    "### Streaming"
   ]
  },
  {
   "cell_type": "code",
   "execution_count": 6,
   "metadata": {
    "ExecuteTime": {
     "end_time": "2021-05-08T11:58:05.740848Z",
     "start_time": "2021-05-08T11:58:05.737545Z"
    }
   },
   "outputs": [],
   "source": [
    "class MinhaStreamListener(tw.StreamListener):\n",
    "    def on_status(self, status):\n",
    "        print(status.user.screen_name)\n",
    "        print(status.text)\n",
    "        print('----------------------\\n')\n",
    "        \n",
    "\n",
    "minhaStream = tw.Stream(auth=auth, listener=MinhaStreamListener())\n",
    "minhaStream.filter(track='famosos')"
   ]
  },
  {
   "cell_type": "markdown",
   "metadata": {},
   "source": [
    "### Azure"
   ]
  },
  {
   "cell_type": "code",
   "execution_count": 7,
   "metadata": {
    "ExecuteTime": {
     "end_time": "2021-05-08T11:58:06.047736Z",
     "start_time": "2021-05-08T11:58:05.744014Z"
    }
   },
   "outputs": [],
   "source": [
    "from azure.cognitiveservices.vision.computervision import ComputerVisionClient\n",
    "from msrest.authentication import CognitiveServicesCredentials\n",
    "\n",
    "credenciais = CognitiveServicesCredentials(credentials['azure'])\n",
    "client = ComputerVisionClient('https://westcentralus.api.cognitive.microsoft.com', credenciais)\n",
    "client.api_version"
   ]
  },
  {
   "cell_type": "markdown",
   "metadata": {
    "ExecuteTime": {
     "end_time": "2021-05-08T11:50:59.836481Z",
     "start_time": "2021-05-08T11:50:59.832539Z"
    }
   },
   "source": [
    "### Análise de imagens"
   ]
  },
  {
   "cell_type": "code",
   "execution_count": 8,
   "metadata": {
    "ExecuteTime": {
     "end_time": "2021-05-08T11:58:06.157812Z",
     "start_time": "2021-05-08T11:58:06.054193Z"
    }
   },
   "outputs": [],
   "source": [
    "from azure.cognitiveservices.vision.computervision.models import VisualFeatureTypes\n",
    "\n",
    "url = 'http://pbs.twimg.com/media/ECx6hK-WwAAPzeE.jpg'\n",
    "analize_de_imagem = client.analyze_image(url, VisualFeatureTypes.tags)\n",
    "for tag in analize_de_imagem.tags:\n",
    "    print(tag)"
   ]
  },
  {
   "cell_type": "markdown",
   "metadata": {},
   "source": [
    "### Análise de celebridades"
   ]
  },
  {
   "cell_type": "code",
   "execution_count": 9,
   "metadata": {
    "ExecuteTime": {
     "end_time": "2021-05-08T11:58:06.268006Z",
     "start_time": "2021-05-08T11:58:06.163288Z"
    }
   },
   "outputs": [],
   "source": [
    "analise_celebridades = client.analyze_image_by_domain('celebrities', url, 'en')\n",
    "\n",
    "for celebridade in analise_celebridades.result['celebrities']:\n",
    "    print(celebridade['name'])\n",
    "    print(celebridade['confidence'])"
   ]
  },
  {
   "cell_type": "code",
   "execution_count": 10,
   "metadata": {
    "ExecuteTime": {
     "end_time": "2021-05-08T11:58:06.377480Z",
     "start_time": "2021-05-08T11:58:06.273825Z"
    }
   },
   "outputs": [],
   "source": [
    "analise_celebridades.result['celebrities']"
   ]
  },
  {
   "cell_type": "markdown",
   "metadata": {},
   "source": [
    "### Descrição da imagem"
   ]
  },
  {
   "cell_type": "code",
   "execution_count": 11,
   "metadata": {
    "ExecuteTime": {
     "end_time": "2021-05-08T11:58:06.486818Z",
     "start_time": "2021-05-08T11:58:06.383146Z"
    }
   },
   "outputs": [],
   "source": [
    "descricao = client.describe_image(url, 3, 'en')\n",
    "for caption in descricao.captions:\n",
    "    print(caption.text)\n",
    "    print(caption.confidence)"
   ]
  },
  {
   "cell_type": "code",
   "execution_count": 12,
   "metadata": {
    "ExecuteTime": {
     "end_time": "2021-05-08T11:58:06.782113Z",
     "start_time": "2021-05-08T11:58:06.493180Z"
    }
   },
   "outputs": [],
   "source": [
    "descricao.captions[0].text"
   ]
  },
  {
   "cell_type": "markdown",
   "metadata": {},
   "source": [
    "### Streaming + Vision API"
   ]
  },
  {
   "cell_type": "code",
   "execution_count": 14,
   "metadata": {
    "ExecuteTime": {
     "end_time": "2021-05-08T12:34:10.940333Z",
     "start_time": "2021-05-08T12:34:10.933127Z"
    }
   },
   "outputs": [],
   "source": [
    "famosos_id = []\n",
    "\n",
    "for famoso in famosos:\n",
    "    famoso_id = api.get_user(famoso).id_str\n",
    "    famosos_id.append(famoso_id)"
   ]
  },
  {
   "cell_type": "code",
   "execution_count": 13,
   "metadata": {
    "ExecuteTime": {
     "end_time": "2021-05-08T11:58:07.005383Z",
     "start_time": "2021-05-08T11:58:06.788051Z"
    }
   },
   "outputs": [],
   "source": [
    "class MinhaStreamListener(tw.StreamListener):\n",
    "    def on_status(self, status):\n",
    "        print('Usuário:', status.user.screen_name)\n",
    "        print('Texto:', status.text)\n",
    "    \n",
    "        if 'media' in status.entities:\n",
    "            url = status.entities['media'][0]['media_url']\n",
    "            print('URL: ', url)\n",
    "\n",
    "            analise_celebridades = client.analyze_image_by_domain('celebrities', url, 'en')\n",
    "            lista_celebridades = [celebridade['name'] for celebridade in analise_celebridades.result['celebrities']]\n",
    "            print(lista_celebridades)\n",
    "\n",
    "            descricao = client.describe_image(url, 1, 'en')\n",
    "            texto_descricao = descricao.captions[0].text\n",
    "            print('Descricao: ', texto_descricao)\n",
    "            \n",
    "            analize_de_imagem = client.analyze_image(url,VisualFeatureTypes.tags)\n",
    "            lista_tags = [tag.name for tag in analize_de_imagem.tags]\n",
    "            print('Tag: ', lista_tags)\n",
    "      \n",
    "            resultados = {\n",
    "              'usuario': status.user.screen_name,\n",
    "              'texto': status.text,\n",
    "              'url': url,\n",
    "              'celebridades': lista_celebridades,\n",
    "              'descricao': texto_descricao,\n",
    "              'tags': lista_tags\n",
    "            }\n",
    "        \n",
    "        with open('tweets.txt', 'a') as arquivo:\n",
    "            arquivo.write(json.dumps(resultados))\n",
    "            arquivo.write('\\n')\n",
    "\n",
    "        print('-----')\n",
    "        print('\\n')\n",
    "        \n",
    "minhaStream = None\n",
    "minhaStream = tw.Stream(auth = auth, listener=MinhaStreamListener())\n",
    "minhaStream.filter(follow=famosos_id)"
   ]
  },
  {
   "cell_type": "markdown",
   "metadata": {},
   "source": [
    "### Avaliando Resultados"
   ]
  },
  {
   "cell_type": "code",
   "execution_count": 15,
   "metadata": {
    "ExecuteTime": {
     "end_time": "2021-05-08T12:37:48.281069Z",
     "start_time": "2021-05-08T12:37:48.278049Z"
    }
   },
   "outputs": [],
   "source": [
    "lista_arquivo = []\n",
    "\n",
    "with open('tweets.txt', 'r') as arquivo:\n",
    "    for linha in arquivo:\n",
    "        lista_arquivo.append(json.loads(linha))\n",
    "        \n",
    "imagens = pd.DataFrame(lista_arquivo)\n",
    "imagens.head()"
   ]
  },
  {
   "cell_type": "code",
   "execution_count": 16,
   "metadata": {
    "ExecuteTime": {
     "end_time": "2021-05-08T12:38:42.752866Z",
     "start_time": "2021-05-08T12:38:42.746494Z"
    }
   },
   "outputs": [],
   "source": [
    "pesquisa = 'concert'\n",
    "achados = [(pesquisa in lista) for lista in imagens.tags]\n",
    "imagens[achados]"
   ]
  },
  {
   "cell_type": "code",
   "execution_count": 17,
   "metadata": {
    "ExecuteTime": {
     "end_time": "2021-05-08T12:39:18.038502Z",
     "start_time": "2021-05-08T12:39:18.035609Z"
    }
   },
   "outputs": [],
   "source": [
    "imagens[achados].descricao.iloc[0]"
   ]
  },
  {
   "cell_type": "code",
   "execution_count": 18,
   "metadata": {
    "ExecuteTime": {
     "end_time": "2021-05-08T12:39:20.712765Z",
     "start_time": "2021-05-08T12:39:20.705839Z"
    }
   },
   "outputs": [],
   "source": [
    "imagens[achados].tags.iloc[0]"
   ]
  },
  {
   "cell_type": "code",
   "execution_count": 19,
   "metadata": {
    "ExecuteTime": {
     "end_time": "2021-05-08T12:39:23.002021Z",
     "start_time": "2021-05-08T12:39:22.996454Z"
    }
   },
   "outputs": [],
   "source": [
    "imagens[achados].url.iloc[0]"
   ]
  }
 ],
 "metadata": {
  "hide_input": false,
  "kernelspec": {
   "display_name": "Python 3",
   "language": "python",
   "name": "python3"
  },
  "language_info": {
   "codemirror_mode": {
    "name": "ipython",
    "version": 3
   },
   "file_extension": ".py",
   "mimetype": "text/x-python",
   "name": "python",
   "nbconvert_exporter": "python",
   "pygments_lexer": "ipython3",
   "version": "3.7.5"
  },
  "toc": {
   "base_numbering": 1,
   "nav_menu": {},
   "number_sections": false,
   "sideBar": false,
   "skip_h1_title": false,
   "title_cell": "Table of Contents",
   "title_sidebar": "Contents",
   "toc_cell": false,
   "toc_position": {},
   "toc_section_display": false,
   "toc_window_display": false
  },
  "varInspector": {
   "cols": {
    "lenName": 16,
    "lenType": 16,
    "lenVar": 40
   },
   "kernels_config": {
    "python": {
     "delete_cmd_postfix": "",
     "delete_cmd_prefix": "del ",
     "library": "var_list.py",
     "varRefreshCmd": "print(var_dic_list())"
    },
    "r": {
     "delete_cmd_postfix": ") ",
     "delete_cmd_prefix": "rm(",
     "library": "var_list.r",
     "varRefreshCmd": "cat(var_dic_list()) "
    }
   },
   "types_to_exclude": [
    "module",
    "function",
    "builtin_function_or_method",
    "instance",
    "_Feature"
   ],
   "window_display": false
  }
 },
 "nbformat": 4,
 "nbformat_minor": 4
}
