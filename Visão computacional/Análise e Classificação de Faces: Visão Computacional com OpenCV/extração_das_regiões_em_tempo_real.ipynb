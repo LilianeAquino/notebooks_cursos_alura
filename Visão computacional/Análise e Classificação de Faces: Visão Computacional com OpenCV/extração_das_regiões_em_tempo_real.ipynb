{
 "cells": [
  {
   "cell_type": "markdown",
   "id": "norman-microwave",
   "metadata": {},
   "source": [
    "# Extração das regiões em tempo real"
   ]
  },
  {
   "cell_type": "markdown",
   "id": "joined-first",
   "metadata": {},
   "source": [
    "### Imports e outras inicializações"
   ]
  },
  {
   "cell_type": "code",
   "execution_count": 1,
   "id": "literary-pixel",
   "metadata": {
    "ExecuteTime": {
     "end_time": "2021-05-16T13:10:29.488601Z",
     "start_time": "2021-05-16T13:10:29.154301Z"
    }
   },
   "outputs": [],
   "source": [
    "from io import BytesIO\n",
    "from IPython.display import clear_output, Image, display\n",
    "from PIL import Image as Img\n",
    "import cv2\n",
    "import numpy as np\n",
    "import dlib\n",
    "from scipy.spatial import distance as dist"
   ]
  },
  {
   "cell_type": "markdown",
   "id": "narrative-emerald",
   "metadata": {
    "ExecuteTime": {
     "end_time": "2021-05-16T12:57:57.330757Z",
     "start_time": "2021-05-16T12:57:57.325059Z"
    }
   },
   "source": [
    "### Extração em tempo real"
   ]
  },
  {
   "cell_type": "code",
   "execution_count": 2,
   "id": "touched-sunset",
   "metadata": {
    "ExecuteTime": {
     "end_time": "2021-05-16T13:10:32.302955Z",
     "start_time": "2021-05-16T13:10:29.493454Z"
    }
   },
   "outputs": [],
   "source": [
    "classificador_dlib_68_pontos = './classificadores/shape_predictor_68_face_landmarks.dat'\n",
    "classificador_dlib = dlib.shape_predictor(classificador_dlib_68_pontos)\n",
    "detector_face = dlib.get_frontal_face_detector()"
   ]
  },
  {
   "cell_type": "code",
   "execution_count": 3,
   "id": "twenty-eugene",
   "metadata": {
    "ExecuteTime": {
     "end_time": "2021-05-16T13:10:32.669710Z",
     "start_time": "2021-05-16T13:10:32.306392Z"
    }
   },
   "outputs": [],
   "source": [
    "FACE = list(range(17, 68))\n",
    "FACE_COMPLETA = list(range(0, 68))\n",
    "LABIO = list(range(48, 61))\n",
    "SOMBRANCELHA_DIREITA = list(range(17, 22))\n",
    "SOMBRANCELHA_ESQUERDA = list(range(22, 27))\n",
    "OLHO_DIREITO = list(range(36, 42))\n",
    "OLHO_ESQUERDO = list(range(42, 48))\n",
    "NARIZ = list(range(27, 35))\n",
    "MANDIBULA = list(range(0, 17))\n",
    "\n",
    "\n",
    "def padronizar_imagem(imagem):\n",
    "    imagem = cv2.cvtColor(imagem, cv2.COLOR_BGR2RGB)\n",
    "    imagem = cv2.resize(imagem, (800, 600))\n",
    "    return imagem\n",
    "\n",
    "\n",
    "def exibir_video(frame):\n",
    "    img = Img.fromarray(frame, 'RGB')\n",
    "    buffer = BytesIO()\n",
    "    img.save(buffer, format='JPEG')\n",
    "    display(Image(data=buffer.getvalue()))\n",
    "    clear_output(wait=True)\n",
    "\n",
    "\n",
    "def pontos_marcos_faciais(imagem):\n",
    "    retangulos = detector_face(imagem, 1)\n",
    "\n",
    "    if len(retangulos) == 0:\n",
    "        return None\n",
    "\n",
    "    marcos = []\n",
    "    for retangulo in retangulos:\n",
    "        marcos.append(np.matrix([[p.x, p.y] for p in classificador_dlib(imagem, retangulo).parts()]))\n",
    "    return marcos\n",
    "\n",
    "\n",
    "def anotar_marcos_faciais(imagem, marcos_faciais):\n",
    "    if imagem is None:\n",
    "        return None\n",
    "\n",
    "    for marco in marcos_faciais:\n",
    "        for idx, ponto in enumerate(marco):\n",
    "            centro = (ponto[0, 0], ponto[0, 1])\n",
    "            cv2.circle(imagem, centro, 3, color=(255, 255, 0), thickness=-1)\n",
    "    return imagem\n",
    "\n",
    "\n",
    "def aspecto_razao_boca(pontos_boca):\n",
    "    a = dist.euclidean(pontos_boca[3], pontos_boca[9])\n",
    "    b = dist.euclidean(pontos_boca[2], pontos_boca[10])\n",
    "    c = dist.euclidean(pontos_boca[4], pontos_boca[8])\n",
    "    d = dist.euclidean(pontos_boca[0], pontos_boca[6])\n",
    "    aspecto_razao = (a + b + c)/(3.0 * d)\n",
    "    return aspecto_razao"
   ]
  },
  {
   "cell_type": "code",
   "execution_count": 4,
   "id": "ranking-dinner",
   "metadata": {
    "ExecuteTime": {
     "end_time": "2021-05-16T13:10:55.796246Z",
     "start_time": "2021-05-16T13:10:32.673466Z"
    }
   },
   "outputs": [
    {
     "name": "stdout",
     "output_type": "stream",
     "text": [
      "Interrompido\n"
     ]
    }
   ],
   "source": [
    "captura_video = cv2.VideoCapture(0)\n",
    "\n",
    "try:\n",
    "    while(True):\n",
    "        captura_ok, frame = captura_video.read()\n",
    "\n",
    "        if captura_ok:\n",
    "            frame = padronizar_imagem(frame)\n",
    "            pontos = pontos_marcos_faciais(frame)\n",
    "            if pontos is not None:\n",
    "                frame = anotar_marcos_faciais(frame, pontos)\n",
    "                pontos = pontos[0]\n",
    "                ar = aspecto_razao_boca(pontos[LABIO])\n",
    "                ar = round(ar, 3)\n",
    "\n",
    "                if ar > 0.5:\n",
    "                    (x, y, w, h) = cv2.boundingRect(pontos[LABIO])\n",
    "                    frame = cv2.rectangle(\n",
    "                        frame, (x, y), (x+w, y+h), (255, 255, 0), 2)\n",
    "\n",
    "                coord = tuple(pontos[LABIO][0].A1.reshape(1, -1)[0])\n",
    "                coord = (coord[0], coord[1] + 20)\n",
    "                cv2.putText(frame, 'Aspecto Razao ' + str(ar), coord,\n",
    "                            cv2.FONT_HERSHEY_SIMPLEX, 0.5, (255, 255, 0), 2)\n",
    "\n",
    "            exibir_video(frame)\n",
    "\n",
    "except KeyboardInterrupt:\n",
    "    captura_video.release()\n",
    "    print('Interrompido')"
   ]
  }
 ],
 "metadata": {
  "hide_input": false,
  "kernelspec": {
   "display_name": "Python 3",
   "language": "python",
   "name": "python3"
  },
  "language_info": {
   "codemirror_mode": {
    "name": "ipython",
    "version": 3
   },
   "file_extension": ".py",
   "mimetype": "text/x-python",
   "name": "python",
   "nbconvert_exporter": "python",
   "pygments_lexer": "ipython3",
   "version": "3.7.5"
  },
  "nbTranslate": {
   "displayLangs": [
    "*"
   ],
   "hotkey": "alt-t",
   "langInMainMenu": true,
   "sourceLang": "en",
   "targetLang": "fr",
   "useGoogleTranslate": true
  },
  "toc": {
   "base_numbering": 1,
   "nav_menu": {},
   "number_sections": true,
   "sideBar": false,
   "skip_h1_title": false,
   "title_cell": "Table of Contents",
   "title_sidebar": "Contents",
   "toc_cell": false,
   "toc_position": {},
   "toc_section_display": false,
   "toc_window_display": false
  }
 },
 "nbformat": 4,
 "nbformat_minor": 5
}
