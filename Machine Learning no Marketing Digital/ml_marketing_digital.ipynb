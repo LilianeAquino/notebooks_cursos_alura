{
 "cells": [
  {
   "cell_type": "markdown",
   "metadata": {},
   "source": [
    "# Machine Learning no Marketing Digital"
   ]
  },
  {
   "cell_type": "markdown",
   "metadata": {},
   "source": [
    "### Imports e outras inicializações"
   ]
  },
  {
   "cell_type": "code",
   "execution_count": 1,
   "metadata": {
    "ExecuteTime": {
     "end_time": "2021-05-04T11:21:41.437343Z",
     "start_time": "2021-05-04T11:21:40.441178Z"
    }
   },
   "outputs": [],
   "source": [
    "import pandas as pd\n",
    "import numpy as np\n",
    "import seaborn as sns\n",
    "import matplotlib.pyplot as plt\n",
    "%matplotlib inline\n",
    "\n",
    "import warnings\n",
    "warnings.filterwarnings('ignore')"
   ]
  },
  {
   "cell_type": "markdown",
   "metadata": {},
   "source": [
    "### Carregamento dos dados"
   ]
  },
  {
   "cell_type": "code",
   "execution_count": 2,
   "metadata": {
    "ExecuteTime": {
     "end_time": "2021-05-04T11:21:41.715222Z",
     "start_time": "2021-05-04T11:21:41.441204Z"
    }
   },
   "outputs": [
    {
     "name": "stdout",
     "output_type": "stream",
     "text": [
      "Linhas: 12283 | Colunas: 12\n"
     ]
    }
   ],
   "source": [
    "df = pd.read_csv('./datasets/train.csv', dtype={'date':object,'fullVisitorId':object,'VisitId':object})\n",
    "print(f'Linhas: {df.shape[0]} | Colunas: {df.shape[1]}')"
   ]
  },
  {
   "cell_type": "code",
   "execution_count": 3,
   "metadata": {
    "ExecuteTime": {
     "end_time": "2021-05-04T11:21:41.952474Z",
     "start_time": "2021-05-04T11:21:41.720757Z"
    }
   },
   "outputs": [
    {
     "data": {
      "text/html": [
       "<div>\n",
       "<style scoped>\n",
       "    .dataframe tbody tr th:only-of-type {\n",
       "        vertical-align: middle;\n",
       "    }\n",
       "\n",
       "    .dataframe tbody tr th {\n",
       "        vertical-align: top;\n",
       "    }\n",
       "\n",
       "    .dataframe thead th {\n",
       "        text-align: right;\n",
       "    }\n",
       "</style>\n",
       "<table border=\"1\" class=\"dataframe\">\n",
       "  <thead>\n",
       "    <tr style=\"text-align: right;\">\n",
       "      <th></th>\n",
       "      <th>channelGrouping</th>\n",
       "      <th>date</th>\n",
       "      <th>device</th>\n",
       "      <th>fullVisitorId</th>\n",
       "      <th>geoNetwork</th>\n",
       "      <th>sessionId</th>\n",
       "      <th>socialEngagementType</th>\n",
       "      <th>totals</th>\n",
       "      <th>trafficSource</th>\n",
       "      <th>visitId</th>\n",
       "      <th>visitNumber</th>\n",
       "      <th>visitStartTime</th>\n",
       "    </tr>\n",
       "  </thead>\n",
       "  <tbody>\n",
       "    <tr>\n",
       "      <th>0</th>\n",
       "      <td>Organic Search</td>\n",
       "      <td>20160902</td>\n",
       "      <td>{\"browser\": \"Chrome\", \"browserVersion\": \"not a...</td>\n",
       "      <td>9674781571160116268</td>\n",
       "      <td>{\"continent\": \"Asia\", \"subContinent\": \"Southea...</td>\n",
       "      <td>9674781571160116268_1472804607</td>\n",
       "      <td>Not Socially Engaged</td>\n",
       "      <td>{\"visits\": \"1\", \"hits\": \"1\", \"pageviews\": \"1\",...</td>\n",
       "      <td>{\"campaign\": \"(not set)\", \"source\": \"google\", ...</td>\n",
       "      <td>1472804607</td>\n",
       "      <td>1</td>\n",
       "      <td>1472804607</td>\n",
       "    </tr>\n",
       "    <tr>\n",
       "      <th>1</th>\n",
       "      <td>Organic Search</td>\n",
       "      <td>20160902</td>\n",
       "      <td>{\"browser\": \"Chrome\", \"browserVersion\": \"not a...</td>\n",
       "      <td>8590648239310839049</td>\n",
       "      <td>{\"continent\": \"Europe\", \"subContinent\": \"Easte...</td>\n",
       "      <td>8590648239310839049_1472835928</td>\n",
       "      <td>Not Socially Engaged</td>\n",
       "      <td>{\"visits\": \"1\", \"hits\": \"1\", \"pageviews\": \"1\",...</td>\n",
       "      <td>{\"campaign\": \"(not set)\", \"source\": \"google\", ...</td>\n",
       "      <td>1472835928</td>\n",
       "      <td>1</td>\n",
       "      <td>1472835928</td>\n",
       "    </tr>\n",
       "  </tbody>\n",
       "</table>\n",
       "</div>"
      ],
      "text/plain": [
       "  channelGrouping      date  \\\n",
       "0  Organic Search  20160902   \n",
       "1  Organic Search  20160902   \n",
       "\n",
       "                                              device        fullVisitorId  \\\n",
       "0  {\"browser\": \"Chrome\", \"browserVersion\": \"not a...  9674781571160116268   \n",
       "1  {\"browser\": \"Chrome\", \"browserVersion\": \"not a...  8590648239310839049   \n",
       "\n",
       "                                          geoNetwork  \\\n",
       "0  {\"continent\": \"Asia\", \"subContinent\": \"Southea...   \n",
       "1  {\"continent\": \"Europe\", \"subContinent\": \"Easte...   \n",
       "\n",
       "                        sessionId  socialEngagementType  \\\n",
       "0  9674781571160116268_1472804607  Not Socially Engaged   \n",
       "1  8590648239310839049_1472835928  Not Socially Engaged   \n",
       "\n",
       "                                              totals  \\\n",
       "0  {\"visits\": \"1\", \"hits\": \"1\", \"pageviews\": \"1\",...   \n",
       "1  {\"visits\": \"1\", \"hits\": \"1\", \"pageviews\": \"1\",...   \n",
       "\n",
       "                                       trafficSource     visitId  visitNumber  \\\n",
       "0  {\"campaign\": \"(not set)\", \"source\": \"google\", ...  1472804607            1   \n",
       "1  {\"campaign\": \"(not set)\", \"source\": \"google\", ...  1472835928            1   \n",
       "\n",
       "   visitStartTime  \n",
       "0      1472804607  \n",
       "1      1472835928  "
      ]
     },
     "execution_count": 3,
     "metadata": {},
     "output_type": "execute_result"
    }
   ],
   "source": [
    "df.head(2)"
   ]
  },
  {
   "cell_type": "code",
   "execution_count": 4,
   "metadata": {
    "ExecuteTime": {
     "end_time": "2021-05-04T11:21:42.090997Z",
     "start_time": "2021-05-04T11:21:41.958715Z"
    }
   },
   "outputs": [
    {
     "name": "stdout",
     "output_type": "stream",
     "text": [
      "# usuários únicos da base:  9997\n"
     ]
    }
   ],
   "source": [
    "print('# usuários únicos da base: ', len(df['fullVisitorId'].unique()))"
   ]
  },
  {
   "cell_type": "code",
   "execution_count": 5,
   "metadata": {
    "ExecuteTime": {
     "end_time": "2021-05-04T11:21:42.290494Z",
     "start_time": "2021-05-04T11:21:42.094053Z"
    }
   },
   "outputs": [
    {
     "name": "stdout",
     "output_type": "stream",
     "text": [
      "Tipos dos dados: \n"
     ]
    },
    {
     "data": {
      "text/plain": [
       "channelGrouping         object\n",
       "date                    object\n",
       "device                  object\n",
       "fullVisitorId           object\n",
       "geoNetwork              object\n",
       "sessionId               object\n",
       "socialEngagementType    object\n",
       "totals                  object\n",
       "trafficSource           object\n",
       "visitId                  int64\n",
       "visitNumber              int64\n",
       "visitStartTime           int64\n",
       "dtype: object"
      ]
     },
     "execution_count": 5,
     "metadata": {},
     "output_type": "execute_result"
    }
   ],
   "source": [
    "print('Tipos dos dados: ')\n",
    "df.dtypes"
   ]
  },
  {
   "cell_type": "markdown",
   "metadata": {
    "ExecuteTime": {
     "end_time": "2021-05-02T12:01:19.909887Z",
     "start_time": "2021-05-02T12:01:19.906754Z"
    }
   },
   "source": [
    "### Dicionário dos dados\n",
    "\n",
    "Link: https://support.google.com/analytics/answer/3437719?hl=pt-BR"
   ]
  },
  {
   "cell_type": "markdown",
   "metadata": {},
   "source": [
    "- **channelGrouping**: grupo de canais padrão associado a uma sessão do usuário final para essa vista. (object)\n",
    "\n",
    "- **date**: data da sessão no formato AAAAMMDD. (object)\n",
    "\n",
    "- **device**: informações sobre os dispositivos dos usuários. (object)\n",
    "\n",
    "- **fullVisitorId**: id exclusivo do visitante. (object)\n",
    "\n",
    "- **geoNetwork**: informações sobre a localização geográfica do usuário. (object)\n",
    "\n",
    "- **sessionId**: id da sessão. (object)\n",
    "\n",
    "- **socialEngagementType**: tipo de engajamento, seja \"Com engajamento social\" ou \"Sem engajamento social\".(object)\n",
    "\n",
    "- **totals**:  valores agregados em toda a sessão. (object)\n",
    "\n",
    "- **trafficSource**: informações sobre a origem do tráfego que gerou a sessão. (object)\n",
    "\n",
    "- **visitId**: identificador para essa sessão. Esse valor só é único para o usuário. (int64)\n",
    "\n",
    "- **visitNumber**: número da sessão desse usuário. Se for a primeira sessão, o valor será definido como 1. (int64)\n",
    "\n",
    "- **visitStartTime**: timestamp (expressa no horário POSIX). (int64)"
   ]
  },
  {
   "cell_type": "markdown",
   "metadata": {},
   "source": [
    "### Desmembrando as colunas que estão em formato de dicionário"
   ]
  },
  {
   "cell_type": "code",
   "execution_count": 6,
   "metadata": {
    "ExecuteTime": {
     "end_time": "2021-05-04T11:21:43.440061Z",
     "start_time": "2021-05-04T11:21:42.294073Z"
    }
   },
   "outputs": [
    {
     "name": "stdout",
     "output_type": "stream",
     "text": [
      "Linhas: 12283 | Colunas: 50\n"
     ]
    },
    {
     "data": {
      "text/html": [
       "<div>\n",
       "<style scoped>\n",
       "    .dataframe tbody tr th:only-of-type {\n",
       "        vertical-align: middle;\n",
       "    }\n",
       "\n",
       "    .dataframe tbody tr th {\n",
       "        vertical-align: top;\n",
       "    }\n",
       "\n",
       "    .dataframe thead th {\n",
       "        text-align: right;\n",
       "    }\n",
       "</style>\n",
       "<table border=\"1\" class=\"dataframe\">\n",
       "  <thead>\n",
       "    <tr style=\"text-align: right;\">\n",
       "      <th></th>\n",
       "      <th>channelGrouping</th>\n",
       "      <th>date</th>\n",
       "      <th>fullVisitorId</th>\n",
       "      <th>sessionId</th>\n",
       "      <th>socialEngagementType</th>\n",
       "      <th>visitId</th>\n",
       "      <th>visitNumber</th>\n",
       "      <th>visitStartTime</th>\n",
       "      <th>browser</th>\n",
       "      <th>browserVersion</th>\n",
       "      <th>...</th>\n",
       "      <th>isTrueDirect</th>\n",
       "      <th>referralPath</th>\n",
       "      <th>adContent</th>\n",
       "      <th>campaignCode</th>\n",
       "      <th>visits</th>\n",
       "      <th>hits</th>\n",
       "      <th>pageviews</th>\n",
       "      <th>bounces</th>\n",
       "      <th>newVisits</th>\n",
       "      <th>transactionRevenue</th>\n",
       "    </tr>\n",
       "  </thead>\n",
       "  <tbody>\n",
       "    <tr>\n",
       "      <th>0</th>\n",
       "      <td>Organic Search</td>\n",
       "      <td>20160902</td>\n",
       "      <td>9674781571160116268</td>\n",
       "      <td>9674781571160116268_1472804607</td>\n",
       "      <td>Not Socially Engaged</td>\n",
       "      <td>1472804607</td>\n",
       "      <td>1</td>\n",
       "      <td>1472804607</td>\n",
       "      <td>Chrome</td>\n",
       "      <td>not available in demo dataset</td>\n",
       "      <td>...</td>\n",
       "      <td>NaN</td>\n",
       "      <td>NaN</td>\n",
       "      <td>NaN</td>\n",
       "      <td>NaN</td>\n",
       "      <td>1</td>\n",
       "      <td>1</td>\n",
       "      <td>1</td>\n",
       "      <td>1</td>\n",
       "      <td>1</td>\n",
       "      <td>NaN</td>\n",
       "    </tr>\n",
       "    <tr>\n",
       "      <th>1</th>\n",
       "      <td>Organic Search</td>\n",
       "      <td>20160902</td>\n",
       "      <td>8590648239310839049</td>\n",
       "      <td>8590648239310839049_1472835928</td>\n",
       "      <td>Not Socially Engaged</td>\n",
       "      <td>1472835928</td>\n",
       "      <td>1</td>\n",
       "      <td>1472835928</td>\n",
       "      <td>Chrome</td>\n",
       "      <td>not available in demo dataset</td>\n",
       "      <td>...</td>\n",
       "      <td>NaN</td>\n",
       "      <td>NaN</td>\n",
       "      <td>NaN</td>\n",
       "      <td>NaN</td>\n",
       "      <td>1</td>\n",
       "      <td>1</td>\n",
       "      <td>1</td>\n",
       "      <td>1</td>\n",
       "      <td>1</td>\n",
       "      <td>NaN</td>\n",
       "    </tr>\n",
       "  </tbody>\n",
       "</table>\n",
       "<p>2 rows × 50 columns</p>\n",
       "</div>"
      ],
      "text/plain": [
       "  channelGrouping      date        fullVisitorId  \\\n",
       "0  Organic Search  20160902  9674781571160116268   \n",
       "1  Organic Search  20160902  8590648239310839049   \n",
       "\n",
       "                        sessionId  socialEngagementType     visitId  \\\n",
       "0  9674781571160116268_1472804607  Not Socially Engaged  1472804607   \n",
       "1  8590648239310839049_1472835928  Not Socially Engaged  1472835928   \n",
       "\n",
       "   visitNumber  visitStartTime browser                 browserVersion  ...  \\\n",
       "0            1      1472804607  Chrome  not available in demo dataset  ...   \n",
       "1            1      1472835928  Chrome  not available in demo dataset  ...   \n",
       "\n",
       "  isTrueDirect referralPath adContent  campaignCode visits hits pageviews  \\\n",
       "0          NaN          NaN       NaN           NaN      1    1         1   \n",
       "1          NaN          NaN       NaN           NaN      1    1         1   \n",
       "\n",
       "  bounces newVisits transactionRevenue  \n",
       "0       1         1                NaN  \n",
       "1       1         1                NaN  \n",
       "\n",
       "[2 rows x 50 columns]"
      ]
     },
     "execution_count": 6,
     "metadata": {},
     "output_type": "execute_result"
    }
   ],
   "source": [
    "import json\n",
    "\n",
    "dicionarios = ['device', 'geoNetwork', 'trafficSource', 'totals']\n",
    "for coluna in dicionarios:\n",
    "    df = df.join(pd.DataFrame([json.loads(linha) for linha in df[coluna]]))\n",
    "\n",
    "df.drop(dicionarios, axis=1, inplace=True)\n",
    "print(f'Linhas: {df.shape[0]} | Colunas: {df.shape[1]}')\n",
    "df.head(2)"
   ]
  },
  {
   "cell_type": "markdown",
   "metadata": {},
   "source": [
    "### Limpando os dados"
   ]
  },
  {
   "cell_type": "markdown",
   "metadata": {},
   "source": [
    "Removendo a coluna em forma de dicionário que não traz informação relevante"
   ]
  },
  {
   "cell_type": "code",
   "execution_count": 7,
   "metadata": {
    "ExecuteTime": {
     "end_time": "2021-05-04T11:21:43.464221Z",
     "start_time": "2021-05-04T11:21:43.444202Z"
    }
   },
   "outputs": [],
   "source": [
    "df.drop(['adwordsClickInfo'], axis=1, inplace=True)"
   ]
  },
  {
   "cell_type": "markdown",
   "metadata": {},
   "source": [
    "Removendo colunas com apenas 1 valor"
   ]
  },
  {
   "cell_type": "code",
   "execution_count": 8,
   "metadata": {
    "ExecuteTime": {
     "end_time": "2021-05-04T11:21:44.052312Z",
     "start_time": "2021-05-04T11:21:43.468071Z"
    }
   },
   "outputs": [],
   "source": [
    "coluna_na = []       \n",
    "coluna_na = [coluna for coluna in df.columns if len(df[coluna].unique()) == 1]\n",
    "df.drop(coluna_na, axis=1, inplace=True)"
   ]
  },
  {
   "cell_type": "markdown",
   "metadata": {},
   "source": [
    "Visualizando o total de valores únicos por coluna"
   ]
  },
  {
   "cell_type": "code",
   "execution_count": 9,
   "metadata": {
    "ExecuteTime": {
     "end_time": "2021-05-04T11:21:44.201522Z",
     "start_time": "2021-05-04T11:21:44.055765Z"
    }
   },
   "outputs": [
    {
     "name": "stdout",
     "output_type": "stream",
     "text": [
      "channelGrouping: 8\n",
      "date: 366\n",
      "fullVisitorId: 9997\n",
      "sessionId: 12276\n",
      "visitId: 12272\n",
      "visitNumber: 50\n",
      "visitStartTime: 12279\n",
      "browser: 22\n",
      "operatingSystem: 12\n",
      "isMobile: 2\n",
      "deviceCategory: 3\n",
      "continent: 6\n",
      "subContinent: 22\n",
      "country: 145\n",
      "region: 212\n",
      "metro: 53\n",
      "city: 296\n",
      "networkDomain: 1747\n",
      "campaign: 7\n",
      "source: 76\n",
      "medium: 7\n",
      "keyword: 129\n",
      "isTrueDirect: 2\n",
      "referralPath: 198\n",
      "adContent: 16\n",
      "campaignCode: 2\n",
      "hits: 96\n",
      "pageviews: 75\n",
      "bounces: 2\n",
      "newVisits: 2\n",
      "transactionRevenue: 147\n"
     ]
    }
   ],
   "source": [
    "for coluna in df.columns:\n",
    "    print(coluna + ': ' + str(len(df[coluna].unique())))"
   ]
  },
  {
   "cell_type": "markdown",
   "metadata": {},
   "source": [
    "### Engenharia de features"
   ]
  },
  {
   "cell_type": "code",
   "execution_count": 10,
   "metadata": {
    "ExecuteTime": {
     "end_time": "2021-05-04T11:21:44.390798Z",
     "start_time": "2021-05-04T11:21:44.205879Z"
    }
   },
   "outputs": [],
   "source": [
    "quantitativas = ['bounces', 'hits', 'newVisits', 'pageviews', 'transactionRevenue']\n",
    "for coluna in quantitativas:\n",
    "    df[coluna] = pd.to_numeric(df[coluna])"
   ]
  },
  {
   "cell_type": "markdown",
   "metadata": {},
   "source": [
    "Tratando a variável resposta"
   ]
  },
  {
   "cell_type": "code",
   "execution_count": 11,
   "metadata": {
    "ExecuteTime": {
     "end_time": "2021-05-04T11:21:44.558576Z",
     "start_time": "2021-05-04T11:21:44.393397Z"
    }
   },
   "outputs": [
    {
     "name": "stdout",
     "output_type": "stream",
     "text": [
      "% nulos da variável respostas:  98.66 %\n"
     ]
    }
   ],
   "source": [
    "print('% nulos da variável respostas: ', round((df['transactionRevenue'].isna().sum() / df.shape[0]) * 100, 2), '%')\n",
    "df['transactionRevenue'].fillna(0, inplace=True)"
   ]
  },
  {
   "cell_type": "code",
   "execution_count": 12,
   "metadata": {
    "ExecuteTime": {
     "end_time": "2021-05-04T11:21:44.686148Z",
     "start_time": "2021-05-04T11:21:44.560884Z"
    }
   },
   "outputs": [
    {
     "name": "stdout",
     "output_type": "stream",
     "text": [
      "Valor multiplicado por 10⁶:  31490000.0\n",
      "Valor real da compra:  31.49\n"
     ]
    }
   ],
   "source": [
    "print('Valor multiplicado por 10⁶: ', df['transactionRevenue'][93])\n",
    "df['transactionRevenue'] = df['transactionRevenue']/1000000\n",
    "print('Valor real da compra: ', df['transactionRevenue'][93])"
   ]
  },
  {
   "cell_type": "markdown",
   "metadata": {},
   "source": [
    "Criando as variáveis que vão alimentar o modelo"
   ]
  },
  {
   "cell_type": "code",
   "execution_count": 13,
   "metadata": {
    "ExecuteTime": {
     "end_time": "2021-05-04T11:21:44.813863Z",
     "start_time": "2021-05-04T11:21:44.689453Z"
    }
   },
   "outputs": [
    {
     "name": "stdout",
     "output_type": "stream",
     "text": [
      "Linhas: 9997 | Colunas: 6\n"
     ]
    },
    {
     "data": {
      "text/html": [
       "<div>\n",
       "<style scoped>\n",
       "    .dataframe tbody tr th:only-of-type {\n",
       "        vertical-align: middle;\n",
       "    }\n",
       "\n",
       "    .dataframe tbody tr th {\n",
       "        vertical-align: top;\n",
       "    }\n",
       "\n",
       "    .dataframe thead th {\n",
       "        text-align: right;\n",
       "    }\n",
       "</style>\n",
       "<table border=\"1\" class=\"dataframe\">\n",
       "  <thead>\n",
       "    <tr style=\"text-align: right;\">\n",
       "      <th></th>\n",
       "      <th>fullVisitorId</th>\n",
       "      <th>bounces</th>\n",
       "      <th>hits</th>\n",
       "      <th>newVisits</th>\n",
       "      <th>pageviews</th>\n",
       "      <th>transactionRevenue</th>\n",
       "    </tr>\n",
       "  </thead>\n",
       "  <tbody>\n",
       "    <tr>\n",
       "      <th>0</th>\n",
       "      <td>0002365800130207040</td>\n",
       "      <td>1.0</td>\n",
       "      <td>1</td>\n",
       "      <td>1.0</td>\n",
       "      <td>1</td>\n",
       "      <td>0.0</td>\n",
       "    </tr>\n",
       "    <tr>\n",
       "      <th>1</th>\n",
       "      <td>0010286039787739137</td>\n",
       "      <td>0.0</td>\n",
       "      <td>4</td>\n",
       "      <td>1.0</td>\n",
       "      <td>3</td>\n",
       "      <td>0.0</td>\n",
       "    </tr>\n",
       "    <tr>\n",
       "      <th>2</th>\n",
       "      <td>0011056874471185769</td>\n",
       "      <td>0.0</td>\n",
       "      <td>2</td>\n",
       "      <td>1.0</td>\n",
       "      <td>2</td>\n",
       "      <td>0.0</td>\n",
       "    </tr>\n",
       "    <tr>\n",
       "      <th>3</th>\n",
       "      <td>0014443856125569702</td>\n",
       "      <td>1.0</td>\n",
       "      <td>1</td>\n",
       "      <td>1.0</td>\n",
       "      <td>1</td>\n",
       "      <td>0.0</td>\n",
       "    </tr>\n",
       "    <tr>\n",
       "      <th>4</th>\n",
       "      <td>0017260116665815114</td>\n",
       "      <td>0.0</td>\n",
       "      <td>2</td>\n",
       "      <td>0.0</td>\n",
       "      <td>2</td>\n",
       "      <td>0.0</td>\n",
       "    </tr>\n",
       "  </tbody>\n",
       "</table>\n",
       "</div>"
      ],
      "text/plain": [
       "         fullVisitorId  bounces  hits  newVisits  pageviews  \\\n",
       "0  0002365800130207040      1.0     1        1.0          1   \n",
       "1  0010286039787739137      0.0     4        1.0          3   \n",
       "2  0011056874471185769      0.0     2        1.0          2   \n",
       "3  0014443856125569702      1.0     1        1.0          1   \n",
       "4  0017260116665815114      0.0     2        0.0          2   \n",
       "\n",
       "   transactionRevenue  \n",
       "0                 0.0  \n",
       "1                 0.0  \n",
       "2                 0.0  \n",
       "3                 0.0  \n",
       "4                 0.0  "
      ]
     },
     "execution_count": 13,
     "metadata": {},
     "output_type": "execute_result"
    }
   ],
   "source": [
    "df_quant = df.groupby('fullVisitorId', as_index=False)[quantitativas].sum()\n",
    "print(f'Linhas: {df_quant.shape[0]} | Colunas: {df_quant.shape[1]}')\n",
    "df_quant.head()"
   ]
  },
  {
   "cell_type": "markdown",
   "metadata": {},
   "source": [
    "### Separando as bases"
   ]
  },
  {
   "cell_type": "code",
   "execution_count": 14,
   "metadata": {
    "ExecuteTime": {
     "end_time": "2021-05-04T11:21:44.940181Z",
     "start_time": "2021-05-04T11:21:44.816905Z"
    }
   },
   "outputs": [],
   "source": [
    "y = df_quant['transactionRevenue'].copy()\n",
    "X = df_quant.drop(['transactionRevenue'], axis=1)"
   ]
  },
  {
   "cell_type": "code",
   "execution_count": 15,
   "metadata": {
    "ExecuteTime": {
     "end_time": "2021-05-04T11:21:45.098981Z",
     "start_time": "2021-05-04T11:21:44.943818Z"
    }
   },
   "outputs": [
    {
     "name": "stdout",
     "output_type": "stream",
     "text": [
      "Treino: (6997, 5) + (6997,)\n",
      "Teste:  (3000, 5)  + (3000,)\n"
     ]
    }
   ],
   "source": [
    "from sklearn.model_selection import train_test_split\n",
    "X_train, X_test, y_train, y_test = train_test_split(X, y, test_size=0.3, random_state=42)\n",
    "print(f'Treino: {X_train.shape} + {y_train.shape}')\n",
    "print(f'Teste:  {X_test.shape}  + {y_test.shape}')"
   ]
  },
  {
   "cell_type": "markdown",
   "metadata": {},
   "source": [
    "### Regressão Linear"
   ]
  },
  {
   "cell_type": "code",
   "execution_count": 16,
   "metadata": {
    "ExecuteTime": {
     "end_time": "2021-05-04T11:21:45.256791Z",
     "start_time": "2021-05-04T11:21:45.102209Z"
    }
   },
   "outputs": [],
   "source": [
    "from sklearn.linear_model import LinearRegression\n",
    "reg = LinearRegression()\n",
    "_ = reg.fit(X_train, y_train)"
   ]
  },
  {
   "cell_type": "code",
   "execution_count": 17,
   "metadata": {
    "ExecuteTime": {
     "end_time": "2021-05-04T11:21:45.336210Z",
     "start_time": "2021-05-04T11:21:45.259846Z"
    }
   },
   "outputs": [],
   "source": [
    "pred = reg.predict(X_test)"
   ]
  },
  {
   "cell_type": "markdown",
   "metadata": {},
   "source": [
    "### Avaliando os resultados"
   ]
  },
  {
   "cell_type": "code",
   "execution_count": 18,
   "metadata": {
    "ExecuteTime": {
     "end_time": "2021-05-04T11:21:45.483056Z",
     "start_time": "2021-05-04T11:21:45.342543Z"
    }
   },
   "outputs": [
    {
     "data": {
      "text/html": [
       "<div>\n",
       "<style scoped>\n",
       "    .dataframe tbody tr th:only-of-type {\n",
       "        vertical-align: middle;\n",
       "    }\n",
       "\n",
       "    .dataframe tbody tr th {\n",
       "        vertical-align: top;\n",
       "    }\n",
       "\n",
       "    .dataframe thead th {\n",
       "        text-align: right;\n",
       "    }\n",
       "</style>\n",
       "<table border=\"1\" class=\"dataframe\">\n",
       "  <thead>\n",
       "    <tr style=\"text-align: right;\">\n",
       "      <th></th>\n",
       "      <th>revenue</th>\n",
       "      <th>predict</th>\n",
       "      <th>erro</th>\n",
       "    </tr>\n",
       "  </thead>\n",
       "  <tbody>\n",
       "    <tr>\n",
       "      <th>4122</th>\n",
       "      <td>0.0</td>\n",
       "      <td>1.551660</td>\n",
       "      <td>1.551660</td>\n",
       "    </tr>\n",
       "    <tr>\n",
       "      <th>4065</th>\n",
       "      <td>0.0</td>\n",
       "      <td>1.555209</td>\n",
       "      <td>1.555209</td>\n",
       "    </tr>\n",
       "    <tr>\n",
       "      <th>1731</th>\n",
       "      <td>0.0</td>\n",
       "      <td>1.687726</td>\n",
       "      <td>1.687726</td>\n",
       "    </tr>\n",
       "    <tr>\n",
       "      <th>4740</th>\n",
       "      <td>0.0</td>\n",
       "      <td>1.515492</td>\n",
       "      <td>1.515492</td>\n",
       "    </tr>\n",
       "    <tr>\n",
       "      <th>6391</th>\n",
       "      <td>0.0</td>\n",
       "      <td>1.422655</td>\n",
       "      <td>1.422655</td>\n",
       "    </tr>\n",
       "  </tbody>\n",
       "</table>\n",
       "</div>"
      ],
      "text/plain": [
       "      revenue   predict      erro\n",
       "4122      0.0  1.551660  1.551660\n",
       "4065      0.0  1.555209  1.555209\n",
       "1731      0.0  1.687726  1.687726\n",
       "4740      0.0  1.515492  1.515492\n",
       "6391      0.0  1.422655  1.422655"
      ]
     },
     "execution_count": 18,
     "metadata": {},
     "output_type": "execute_result"
    }
   ],
   "source": [
    "resultados = pd.DataFrame({'revenue': y_test, 'predict': pred, 'erro': pred - y_test})\n",
    "resultados.head()"
   ]
  },
  {
   "cell_type": "code",
   "execution_count": 19,
   "metadata": {
    "ExecuteTime": {
     "end_time": "2021-05-04T11:21:45.574266Z",
     "start_time": "2021-05-04T11:21:45.486526Z"
    }
   },
   "outputs": [
    {
     "data": {
      "text/html": [
       "<div>\n",
       "<style scoped>\n",
       "    .dataframe tbody tr th:only-of-type {\n",
       "        vertical-align: middle;\n",
       "    }\n",
       "\n",
       "    .dataframe tbody tr th {\n",
       "        vertical-align: top;\n",
       "    }\n",
       "\n",
       "    .dataframe thead th {\n",
       "        text-align: right;\n",
       "    }\n",
       "</style>\n",
       "<table border=\"1\" class=\"dataframe\">\n",
       "  <thead>\n",
       "    <tr style=\"text-align: right;\">\n",
       "      <th></th>\n",
       "      <th>revenue</th>\n",
       "      <th>predict</th>\n",
       "      <th>erro</th>\n",
       "    </tr>\n",
       "  </thead>\n",
       "  <tbody>\n",
       "    <tr>\n",
       "      <th>3006</th>\n",
       "      <td>32.49</td>\n",
       "      <td>1.616211</td>\n",
       "      <td>-30.873789</td>\n",
       "    </tr>\n",
       "    <tr>\n",
       "      <th>5928</th>\n",
       "      <td>74.85</td>\n",
       "      <td>1.449755</td>\n",
       "      <td>-73.400245</td>\n",
       "    </tr>\n",
       "    <tr>\n",
       "      <th>8361</th>\n",
       "      <td>424.50</td>\n",
       "      <td>1.306194</td>\n",
       "      <td>-423.193806</td>\n",
       "    </tr>\n",
       "    <tr>\n",
       "      <th>8612</th>\n",
       "      <td>55.99</td>\n",
       "      <td>1.291322</td>\n",
       "      <td>-54.698678</td>\n",
       "    </tr>\n",
       "    <tr>\n",
       "      <th>416</th>\n",
       "      <td>15.19</td>\n",
       "      <td>1.831725</td>\n",
       "      <td>-13.358275</td>\n",
       "    </tr>\n",
       "  </tbody>\n",
       "</table>\n",
       "</div>"
      ],
      "text/plain": [
       "      revenue   predict        erro\n",
       "3006    32.49  1.616211  -30.873789\n",
       "5928    74.85  1.449755  -73.400245\n",
       "8361   424.50  1.306194 -423.193806\n",
       "8612    55.99  1.291322  -54.698678\n",
       "416     15.19  1.831725  -13.358275"
      ]
     },
     "execution_count": 19,
     "metadata": {},
     "output_type": "execute_result"
    }
   ],
   "source": [
    "resultados.query('revenue>0').head(5)"
   ]
  },
  {
   "cell_type": "markdown",
   "metadata": {},
   "source": [
    "### MSE"
   ]
  },
  {
   "cell_type": "code",
   "execution_count": 20,
   "metadata": {
    "ExecuteTime": {
     "end_time": "2021-05-04T11:21:45.757414Z",
     "start_time": "2021-05-04T11:21:45.577391Z"
    }
   },
   "outputs": [
    {
     "name": "stdout",
     "output_type": "stream",
     "text": [
      "MSE: 807.245929682092\n"
     ]
    }
   ],
   "source": [
    "print(f'MSE: {np.mean((pred - y_test)**2)}')"
   ]
  },
  {
   "cell_type": "markdown",
   "metadata": {},
   "source": [
    "### RMSE"
   ]
  },
  {
   "cell_type": "code",
   "execution_count": 21,
   "metadata": {
    "ExecuteTime": {
     "end_time": "2021-05-04T11:21:45.959233Z",
     "start_time": "2021-05-04T11:21:45.759989Z"
    }
   },
   "outputs": [
    {
     "name": "stdout",
     "output_type": "stream",
     "text": [
      "RMSE: 28.412073660366502\n"
     ]
    }
   ],
   "source": [
    "print(f'RMSE: {np.sqrt(np.mean((pred - y_test)**2))}')"
   ]
  },
  {
   "cell_type": "code",
   "execution_count": 22,
   "metadata": {
    "ExecuteTime": {
     "end_time": "2021-05-04T11:21:46.062727Z",
     "start_time": "2021-05-04T11:21:45.968096Z"
    }
   },
   "outputs": [
    {
     "name": "stdout",
     "output_type": "stream",
     "text": [
      "RMSE: 28.412073660366516\n"
     ]
    }
   ],
   "source": [
    "from sklearn.metrics import mean_squared_error\n",
    "print(f'RMSE: {np.sqrt(mean_squared_error(y_test, pred))}')"
   ]
  },
  {
   "cell_type": "markdown",
   "metadata": {},
   "source": [
    "### Média e desvio padrão da base"
   ]
  },
  {
   "cell_type": "code",
   "execution_count": 23,
   "metadata": {
    "ExecuteTime": {
     "end_time": "2021-05-04T11:21:46.173732Z",
     "start_time": "2021-05-04T11:21:46.065656Z"
    }
   },
   "outputs": [
    {
     "name": "stdout",
     "output_type": "stream",
     "text": [
      "Media de gasto:  1.778953686105831\n",
      "Desvio padrão:  25.129905708017944\n"
     ]
    }
   ],
   "source": [
    "print('Media de gasto: ', np.mean(df_quant['transactionRevenue']))\n",
    "print('Desvio padrão: ', np.std(df_quant['transactionRevenue']))"
   ]
  },
  {
   "cell_type": "markdown",
   "metadata": {},
   "source": [
    "**OBS.**: O modelo está errando mais do que o desvio padrão natural dos dados"
   ]
  },
  {
   "cell_type": "markdown",
   "metadata": {},
   "source": [
    "### Análise gráfica do modelo"
   ]
  },
  {
   "cell_type": "code",
   "execution_count": 24,
   "metadata": {
    "ExecuteTime": {
     "end_time": "2021-05-04T11:21:46.608245Z",
     "start_time": "2021-05-04T11:21:46.176955Z"
    }
   },
   "outputs": [
    {
     "data": {
      "image/png": "[encoded data removed]",
      "text/plain": [
       "<Figure size 720x360 with 1 Axes>"
      ]
     },
     "metadata": {
      "needs_background": "light"
     },
     "output_type": "display_data"
    }
   ],
   "source": [
    "plt.figure(figsize=(10, 5))\n",
    "sns.boxplot(y_test, color='c')\n",
    "plt.title('Boxplot valores reais', fontsize=16, y=1.03)\n",
    "plt.xlabel('Transaction Revenue', fontsize=14)\n",
    "plt.show()"
   ]
  },
  {
   "cell_type": "code",
   "execution_count": 25,
   "metadata": {
    "ExecuteTime": {
     "end_time": "2021-05-04T11:21:46.847816Z",
     "start_time": "2021-05-04T11:21:46.611326Z"
    }
   },
   "outputs": [
    {
     "data": {
      "image/png": "[encoded data removed]",
      "text/plain": [
       "<Figure size 720x360 with 1 Axes>"
      ]
     },
     "metadata": {
      "needs_background": "light"
     },
     "output_type": "display_data"
    }
   ],
   "source": [
    "plt.figure(figsize=(10, 5))\n",
    "sns.boxplot(pred, color='c')\n",
    "plt.title('Boxplot valores preditos', fontsize=16, y=1.03)\n",
    "plt.xlabel('Transaction Revenue', fontsize=14)\n",
    "plt.show()"
   ]
  },
  {
   "cell_type": "code",
   "execution_count": 26,
   "metadata": {
    "ExecuteTime": {
     "end_time": "2021-05-04T11:21:47.320636Z",
     "start_time": "2021-05-04T11:21:46.851648Z"
    }
   },
   "outputs": [
    {
     "data": {
      "image/png": "[encoded data removed]",
      "text/plain": [
       "<Figure size 720x360 with 1 Axes>"
      ]
     },
     "metadata": {
      "needs_background": "light"
     },
     "output_type": "display_data"
    }
   ],
   "source": [
    "plt.figure(figsize=(10, 5))\n",
    "sns.distplot(pred - y_test, color='k')\n",
    "plt.title('Distribuição do erro', fontsize=16, y=1.03)\n",
    "plt.xlabel('Transaction Revenue', fontsize=14)\n",
    "plt.ylabel('Erro', fontsize=14)\n",
    "plt.show()"
   ]
  },
  {
   "cell_type": "markdown",
   "metadata": {},
   "source": [
    "### Melhorando a engenharia de features"
   ]
  },
  {
   "cell_type": "markdown",
   "metadata": {},
   "source": [
    "#### Última visita do usuário"
   ]
  },
  {
   "cell_type": "code",
   "execution_count": 27,
   "metadata": {
    "ExecuteTime": {
     "end_time": "2021-05-04T11:21:47.383623Z",
     "start_time": "2021-05-04T11:21:47.324101Z"
    }
   },
   "outputs": [
    {
     "data": {
      "text/html": [
       "<div>\n",
       "<style scoped>\n",
       "    .dataframe tbody tr th:only-of-type {\n",
       "        vertical-align: middle;\n",
       "    }\n",
       "\n",
       "    .dataframe tbody tr th {\n",
       "        vertical-align: top;\n",
       "    }\n",
       "\n",
       "    .dataframe thead th {\n",
       "        text-align: right;\n",
       "    }\n",
       "</style>\n",
       "<table border=\"1\" class=\"dataframe\">\n",
       "  <thead>\n",
       "    <tr style=\"text-align: right;\">\n",
       "      <th></th>\n",
       "      <th>fullVisitorId</th>\n",
       "      <th>visitNumber</th>\n",
       "    </tr>\n",
       "  </thead>\n",
       "  <tbody>\n",
       "    <tr>\n",
       "      <th>0</th>\n",
       "      <td>0002365800130207040</td>\n",
       "      <td>1</td>\n",
       "    </tr>\n",
       "    <tr>\n",
       "      <th>1</th>\n",
       "      <td>0010286039787739137</td>\n",
       "      <td>1</td>\n",
       "    </tr>\n",
       "    <tr>\n",
       "      <th>2</th>\n",
       "      <td>0011056874471185769</td>\n",
       "      <td>1</td>\n",
       "    </tr>\n",
       "    <tr>\n",
       "      <th>3</th>\n",
       "      <td>0014443856125569702</td>\n",
       "      <td>1</td>\n",
       "    </tr>\n",
       "    <tr>\n",
       "      <th>4</th>\n",
       "      <td>0017260116665815114</td>\n",
       "      <td>6</td>\n",
       "    </tr>\n",
       "  </tbody>\n",
       "</table>\n",
       "</div>"
      ],
      "text/plain": [
       "         fullVisitorId  visitNumber\n",
       "0  0002365800130207040            1\n",
       "1  0010286039787739137            1\n",
       "2  0011056874471185769            1\n",
       "3  0014443856125569702            1\n",
       "4  0017260116665815114            6"
      ]
     },
     "execution_count": 27,
     "metadata": {},
     "output_type": "execute_result"
    }
   ],
   "source": [
    "visitas_ultima =  df.groupby('fullVisitorId', as_index=False)['visitNumber'].max()\n",
    "visitas_ultima.head()"
   ]
  },
  {
   "cell_type": "code",
   "execution_count": 28,
   "metadata": {
    "ExecuteTime": {
     "end_time": "2021-05-04T11:21:47.627317Z",
     "start_time": "2021-05-04T11:21:47.387125Z"
    }
   },
   "outputs": [
    {
     "data": {
      "text/plain": [
       "(12270, 31)"
      ]
     },
     "execution_count": 28,
     "metadata": {},
     "output_type": "execute_result"
    }
   ],
   "source": [
    "usuarios_visitas_unicos = df.drop_duplicates(subset=['fullVisitorId', 'visitNumber'])\n",
    "usuarios_visitas_unicos.shape"
   ]
  },
  {
   "cell_type": "code",
   "execution_count": 29,
   "metadata": {
    "ExecuteTime": {
     "end_time": "2021-05-04T11:21:47.925819Z",
     "start_time": "2021-05-04T11:21:47.629827Z"
    }
   },
   "outputs": [
    {
     "name": "stdout",
     "output_type": "stream",
     "text": [
      "(9997, 31)\n"
     ]
    },
    {
     "data": {
      "text/html": [
       "<div>\n",
       "<style scoped>\n",
       "    .dataframe tbody tr th:only-of-type {\n",
       "        vertical-align: middle;\n",
       "    }\n",
       "\n",
       "    .dataframe tbody tr th {\n",
       "        vertical-align: top;\n",
       "    }\n",
       "\n",
       "    .dataframe thead th {\n",
       "        text-align: right;\n",
       "    }\n",
       "</style>\n",
       "<table border=\"1\" class=\"dataframe\">\n",
       "  <thead>\n",
       "    <tr style=\"text-align: right;\">\n",
       "      <th></th>\n",
       "      <th>fullVisitorId</th>\n",
       "      <th>visitNumber</th>\n",
       "      <th>channelGrouping</th>\n",
       "      <th>date</th>\n",
       "      <th>sessionId</th>\n",
       "      <th>visitId</th>\n",
       "      <th>visitStartTime</th>\n",
       "      <th>browser</th>\n",
       "      <th>operatingSystem</th>\n",
       "      <th>isMobile</th>\n",
       "      <th>...</th>\n",
       "      <th>keyword</th>\n",
       "      <th>isTrueDirect</th>\n",
       "      <th>referralPath</th>\n",
       "      <th>adContent</th>\n",
       "      <th>campaignCode</th>\n",
       "      <th>hits</th>\n",
       "      <th>pageviews</th>\n",
       "      <th>bounces</th>\n",
       "      <th>newVisits</th>\n",
       "      <th>transactionRevenue</th>\n",
       "    </tr>\n",
       "  </thead>\n",
       "  <tbody>\n",
       "    <tr>\n",
       "      <th>0</th>\n",
       "      <td>0002365800130207040</td>\n",
       "      <td>1</td>\n",
       "      <td>Social</td>\n",
       "      <td>20160904</td>\n",
       "      <td>0002365800130207040_1472974804</td>\n",
       "      <td>1472974804</td>\n",
       "      <td>1472974804</td>\n",
       "      <td>Edge</td>\n",
       "      <td>Windows</td>\n",
       "      <td>False</td>\n",
       "      <td>...</td>\n",
       "      <td>NaN</td>\n",
       "      <td>NaN</td>\n",
       "      <td>/yt/about/ru/</td>\n",
       "      <td>NaN</td>\n",
       "      <td>NaN</td>\n",
       "      <td>1</td>\n",
       "      <td>1</td>\n",
       "      <td>1.0</td>\n",
       "      <td>1.0</td>\n",
       "      <td>0.0</td>\n",
       "    </tr>\n",
       "    <tr>\n",
       "      <th>1</th>\n",
       "      <td>0010286039787739137</td>\n",
       "      <td>1</td>\n",
       "      <td>Organic Search</td>\n",
       "      <td>20160928</td>\n",
       "      <td>0010286039787739137_1475084026</td>\n",
       "      <td>1475084026</td>\n",
       "      <td>1475084026</td>\n",
       "      <td>Chrome</td>\n",
       "      <td>Chrome OS</td>\n",
       "      <td>False</td>\n",
       "      <td>...</td>\n",
       "      <td>(not provided)</td>\n",
       "      <td>NaN</td>\n",
       "      <td>NaN</td>\n",
       "      <td>NaN</td>\n",
       "      <td>NaN</td>\n",
       "      <td>4</td>\n",
       "      <td>3</td>\n",
       "      <td>NaN</td>\n",
       "      <td>1.0</td>\n",
       "      <td>0.0</td>\n",
       "    </tr>\n",
       "    <tr>\n",
       "      <th>2</th>\n",
       "      <td>0011056874471185769</td>\n",
       "      <td>1</td>\n",
       "      <td>Social</td>\n",
       "      <td>20161205</td>\n",
       "      <td>0011056874471185769_1480996024</td>\n",
       "      <td>1480996024</td>\n",
       "      <td>1480996024</td>\n",
       "      <td>Chrome</td>\n",
       "      <td>Windows</td>\n",
       "      <td>False</td>\n",
       "      <td>...</td>\n",
       "      <td>NaN</td>\n",
       "      <td>NaN</td>\n",
       "      <td>/yt/about/</td>\n",
       "      <td>NaN</td>\n",
       "      <td>NaN</td>\n",
       "      <td>2</td>\n",
       "      <td>2</td>\n",
       "      <td>NaN</td>\n",
       "      <td>1.0</td>\n",
       "      <td>0.0</td>\n",
       "    </tr>\n",
       "    <tr>\n",
       "      <th>3</th>\n",
       "      <td>0014443856125569702</td>\n",
       "      <td>1</td>\n",
       "      <td>Social</td>\n",
       "      <td>20161002</td>\n",
       "      <td>0014443856125569702_1475423502</td>\n",
       "      <td>1475423502</td>\n",
       "      <td>1475423502</td>\n",
       "      <td>Opera</td>\n",
       "      <td>Windows</td>\n",
       "      <td>False</td>\n",
       "      <td>...</td>\n",
       "      <td>NaN</td>\n",
       "      <td>NaN</td>\n",
       "      <td>/yt/about/ro/</td>\n",
       "      <td>NaN</td>\n",
       "      <td>NaN</td>\n",
       "      <td>1</td>\n",
       "      <td>1</td>\n",
       "      <td>1.0</td>\n",
       "      <td>1.0</td>\n",
       "      <td>0.0</td>\n",
       "    </tr>\n",
       "    <tr>\n",
       "      <th>4</th>\n",
       "      <td>0017260116665815114</td>\n",
       "      <td>6</td>\n",
       "      <td>Direct</td>\n",
       "      <td>20170420</td>\n",
       "      <td>0017260116665815114_1492707286</td>\n",
       "      <td>1492707286</td>\n",
       "      <td>1492707286</td>\n",
       "      <td>Safari</td>\n",
       "      <td>Macintosh</td>\n",
       "      <td>False</td>\n",
       "      <td>...</td>\n",
       "      <td>NaN</td>\n",
       "      <td>True</td>\n",
       "      <td>NaN</td>\n",
       "      <td>NaN</td>\n",
       "      <td>NaN</td>\n",
       "      <td>2</td>\n",
       "      <td>2</td>\n",
       "      <td>NaN</td>\n",
       "      <td>NaN</td>\n",
       "      <td>0.0</td>\n",
       "    </tr>\n",
       "  </tbody>\n",
       "</table>\n",
       "<p>5 rows × 31 columns</p>\n",
       "</div>"
      ],
      "text/plain": [
       "         fullVisitorId  visitNumber channelGrouping      date  \\\n",
       "0  0002365800130207040            1          Social  20160904   \n",
       "1  0010286039787739137            1  Organic Search  20160928   \n",
       "2  0011056874471185769            1          Social  20161205   \n",
       "3  0014443856125569702            1          Social  20161002   \n",
       "4  0017260116665815114            6          Direct  20170420   \n",
       "\n",
       "                        sessionId     visitId  visitStartTime browser  \\\n",
       "0  0002365800130207040_1472974804  1472974804      1472974804    Edge   \n",
       "1  0010286039787739137_1475084026  1475084026      1475084026  Chrome   \n",
       "2  0011056874471185769_1480996024  1480996024      1480996024  Chrome   \n",
       "3  0014443856125569702_1475423502  1475423502      1475423502   Opera   \n",
       "4  0017260116665815114_1492707286  1492707286      1492707286  Safari   \n",
       "\n",
       "  operatingSystem  isMobile  ...         keyword isTrueDirect   referralPath  \\\n",
       "0         Windows     False  ...             NaN          NaN  /yt/about/ru/   \n",
       "1       Chrome OS     False  ...  (not provided)          NaN            NaN   \n",
       "2         Windows     False  ...             NaN          NaN     /yt/about/   \n",
       "3         Windows     False  ...             NaN          NaN  /yt/about/ro/   \n",
       "4       Macintosh     False  ...             NaN         True            NaN   \n",
       "\n",
       "  adContent campaignCode hits pageviews bounces newVisits transactionRevenue  \n",
       "0       NaN          NaN    1         1     1.0       1.0                0.0  \n",
       "1       NaN          NaN    4         3     NaN       1.0                0.0  \n",
       "2       NaN          NaN    2         2     NaN       1.0                0.0  \n",
       "3       NaN          NaN    1         1     1.0       1.0                0.0  \n",
       "4       NaN          NaN    2         2     NaN       NaN                0.0  \n",
       "\n",
       "[5 rows x 31 columns]"
      ]
     },
     "execution_count": 29,
     "metadata": {},
     "output_type": "execute_result"
    }
   ],
   "source": [
    "visitas = pd.merge(visitas_ultima, usuarios_visitas_unicos, \n",
    "                   left_on=['fullVisitorId', 'visitNumber'], \n",
    "                   right_on=['fullVisitorId', 'visitNumber'], \n",
    "                   how='left')\n",
    "print(visitas.shape)\n",
    "visitas.head()"
   ]
  },
  {
   "cell_type": "markdown",
   "metadata": {},
   "source": [
    "#### Primeira visita do usuário"
   ]
  },
  {
   "cell_type": "code",
   "execution_count": 30,
   "metadata": {
    "ExecuteTime": {
     "end_time": "2021-05-04T11:21:47.986393Z",
     "start_time": "2021-05-04T11:21:47.942617Z"
    }
   },
   "outputs": [],
   "source": [
    "visitas_primeira =  df.groupby('fullVisitorId', as_index=False)['visitNumber'].min()\n",
    "visitas_primeira.set_index('fullVisitorId', inplace=True)\n",
    "visitas = visitas.join(visitas_primeira, how='left', on='fullVisitorId', rsuffix='_primeira')"
   ]
  },
  {
   "cell_type": "code",
   "execution_count": 31,
   "metadata": {
    "ExecuteTime": {
     "end_time": "2021-05-04T11:21:48.186633Z",
     "start_time": "2021-05-04T11:21:48.001004Z"
    }
   },
   "outputs": [
    {
     "name": "stdout",
     "output_type": "stream",
     "text": [
      "(9997, 62)\n"
     ]
    },
    {
     "data": {
      "text/html": [
       "<div>\n",
       "<style scoped>\n",
       "    .dataframe tbody tr th:only-of-type {\n",
       "        vertical-align: middle;\n",
       "    }\n",
       "\n",
       "    .dataframe tbody tr th {\n",
       "        vertical-align: top;\n",
       "    }\n",
       "\n",
       "    .dataframe thead th {\n",
       "        text-align: right;\n",
       "    }\n",
       "</style>\n",
       "<table border=\"1\" class=\"dataframe\">\n",
       "  <thead>\n",
       "    <tr style=\"text-align: right;\">\n",
       "      <th></th>\n",
       "      <th>fullVisitorId</th>\n",
       "      <th>visitNumber_ultimaVisita</th>\n",
       "      <th>channelGrouping_ultimaVisita</th>\n",
       "      <th>date_ultimaVisita</th>\n",
       "      <th>sessionId_ultimaVisita</th>\n",
       "      <th>visitId_ultimaVisita</th>\n",
       "      <th>visitStartTime_ultimaVisita</th>\n",
       "      <th>browser_ultimaVisita</th>\n",
       "      <th>operatingSystem_ultimaVisita</th>\n",
       "      <th>isMobile_ultimaVisita</th>\n",
       "      <th>...</th>\n",
       "      <th>keyword_primeiraVisita</th>\n",
       "      <th>isTrueDirect_primeiraVisita</th>\n",
       "      <th>referralPath_primeiraVisita</th>\n",
       "      <th>adContent_primeiraVisita</th>\n",
       "      <th>campaignCode_primeiraVisita</th>\n",
       "      <th>hits_primeiraVisita</th>\n",
       "      <th>pageviews_primeiraVisita</th>\n",
       "      <th>bounces_primeiraVisita</th>\n",
       "      <th>newVisits_primeiraVisita</th>\n",
       "      <th>transactionRevenue_primeiraVisita</th>\n",
       "    </tr>\n",
       "  </thead>\n",
       "  <tbody>\n",
       "    <tr>\n",
       "      <th>0</th>\n",
       "      <td>0002365800130207040</td>\n",
       "      <td>1</td>\n",
       "      <td>Social</td>\n",
       "      <td>20160904</td>\n",
       "      <td>0002365800130207040_1472974804</td>\n",
       "      <td>1472974804</td>\n",
       "      <td>1472974804</td>\n",
       "      <td>Edge</td>\n",
       "      <td>Windows</td>\n",
       "      <td>False</td>\n",
       "      <td>...</td>\n",
       "      <td>NaN</td>\n",
       "      <td>NaN</td>\n",
       "      <td>/yt/about/ru/</td>\n",
       "      <td>NaN</td>\n",
       "      <td>NaN</td>\n",
       "      <td>1</td>\n",
       "      <td>1</td>\n",
       "      <td>1.0</td>\n",
       "      <td>1.0</td>\n",
       "      <td>0.0</td>\n",
       "    </tr>\n",
       "    <tr>\n",
       "      <th>1</th>\n",
       "      <td>0010286039787739137</td>\n",
       "      <td>1</td>\n",
       "      <td>Organic Search</td>\n",
       "      <td>20160928</td>\n",
       "      <td>0010286039787739137_1475084026</td>\n",
       "      <td>1475084026</td>\n",
       "      <td>1475084026</td>\n",
       "      <td>Chrome</td>\n",
       "      <td>Chrome OS</td>\n",
       "      <td>False</td>\n",
       "      <td>...</td>\n",
       "      <td>(not provided)</td>\n",
       "      <td>NaN</td>\n",
       "      <td>NaN</td>\n",
       "      <td>NaN</td>\n",
       "      <td>NaN</td>\n",
       "      <td>4</td>\n",
       "      <td>3</td>\n",
       "      <td>NaN</td>\n",
       "      <td>1.0</td>\n",
       "      <td>0.0</td>\n",
       "    </tr>\n",
       "    <tr>\n",
       "      <th>2</th>\n",
       "      <td>0011056874471185769</td>\n",
       "      <td>1</td>\n",
       "      <td>Social</td>\n",
       "      <td>20161205</td>\n",
       "      <td>0011056874471185769_1480996024</td>\n",
       "      <td>1480996024</td>\n",
       "      <td>1480996024</td>\n",
       "      <td>Chrome</td>\n",
       "      <td>Windows</td>\n",
       "      <td>False</td>\n",
       "      <td>...</td>\n",
       "      <td>NaN</td>\n",
       "      <td>NaN</td>\n",
       "      <td>/yt/about/</td>\n",
       "      <td>NaN</td>\n",
       "      <td>NaN</td>\n",
       "      <td>2</td>\n",
       "      <td>2</td>\n",
       "      <td>NaN</td>\n",
       "      <td>1.0</td>\n",
       "      <td>0.0</td>\n",
       "    </tr>\n",
       "    <tr>\n",
       "      <th>3</th>\n",
       "      <td>0014443856125569702</td>\n",
       "      <td>1</td>\n",
       "      <td>Social</td>\n",
       "      <td>20161002</td>\n",
       "      <td>0014443856125569702_1475423502</td>\n",
       "      <td>1475423502</td>\n",
       "      <td>1475423502</td>\n",
       "      <td>Opera</td>\n",
       "      <td>Windows</td>\n",
       "      <td>False</td>\n",
       "      <td>...</td>\n",
       "      <td>NaN</td>\n",
       "      <td>NaN</td>\n",
       "      <td>/yt/about/ro/</td>\n",
       "      <td>NaN</td>\n",
       "      <td>NaN</td>\n",
       "      <td>1</td>\n",
       "      <td>1</td>\n",
       "      <td>1.0</td>\n",
       "      <td>1.0</td>\n",
       "      <td>0.0</td>\n",
       "    </tr>\n",
       "    <tr>\n",
       "      <th>4</th>\n",
       "      <td>0017260116665815114</td>\n",
       "      <td>6</td>\n",
       "      <td>Direct</td>\n",
       "      <td>20170420</td>\n",
       "      <td>0017260116665815114_1492707286</td>\n",
       "      <td>1492707286</td>\n",
       "      <td>1492707286</td>\n",
       "      <td>Safari</td>\n",
       "      <td>Macintosh</td>\n",
       "      <td>False</td>\n",
       "      <td>...</td>\n",
       "      <td>NaN</td>\n",
       "      <td>True</td>\n",
       "      <td>NaN</td>\n",
       "      <td>NaN</td>\n",
       "      <td>NaN</td>\n",
       "      <td>2</td>\n",
       "      <td>2</td>\n",
       "      <td>NaN</td>\n",
       "      <td>NaN</td>\n",
       "      <td>0.0</td>\n",
       "    </tr>\n",
       "  </tbody>\n",
       "</table>\n",
       "<p>5 rows × 62 columns</p>\n",
       "</div>"
      ],
      "text/plain": [
       "         fullVisitorId  visitNumber_ultimaVisita channelGrouping_ultimaVisita  \\\n",
       "0  0002365800130207040                         1                       Social   \n",
       "1  0010286039787739137                         1               Organic Search   \n",
       "2  0011056874471185769                         1                       Social   \n",
       "3  0014443856125569702                         1                       Social   \n",
       "4  0017260116665815114                         6                       Direct   \n",
       "\n",
       "  date_ultimaVisita          sessionId_ultimaVisita  visitId_ultimaVisita  \\\n",
       "0          20160904  0002365800130207040_1472974804            1472974804   \n",
       "1          20160928  0010286039787739137_1475084026            1475084026   \n",
       "2          20161205  0011056874471185769_1480996024            1480996024   \n",
       "3          20161002  0014443856125569702_1475423502            1475423502   \n",
       "4          20170420  0017260116665815114_1492707286            1492707286   \n",
       "\n",
       "   visitStartTime_ultimaVisita browser_ultimaVisita  \\\n",
       "0                   1472974804                 Edge   \n",
       "1                   1475084026               Chrome   \n",
       "2                   1480996024               Chrome   \n",
       "3                   1475423502                Opera   \n",
       "4                   1492707286               Safari   \n",
       "\n",
       "  operatingSystem_ultimaVisita  isMobile_ultimaVisita  ...  \\\n",
       "0                      Windows                  False  ...   \n",
       "1                    Chrome OS                  False  ...   \n",
       "2                      Windows                  False  ...   \n",
       "3                      Windows                  False  ...   \n",
       "4                    Macintosh                  False  ...   \n",
       "\n",
       "  keyword_primeiraVisita isTrueDirect_primeiraVisita  \\\n",
       "0                    NaN                         NaN   \n",
       "1         (not provided)                         NaN   \n",
       "2                    NaN                         NaN   \n",
       "3                    NaN                         NaN   \n",
       "4                    NaN                        True   \n",
       "\n",
       "  referralPath_primeiraVisita adContent_primeiraVisita  \\\n",
       "0               /yt/about/ru/                      NaN   \n",
       "1                         NaN                      NaN   \n",
       "2                  /yt/about/                      NaN   \n",
       "3               /yt/about/ro/                      NaN   \n",
       "4                         NaN                      NaN   \n",
       "\n",
       "  campaignCode_primeiraVisita hits_primeiraVisita pageviews_primeiraVisita  \\\n",
       "0                         NaN                   1                        1   \n",
       "1                         NaN                   4                        3   \n",
       "2                         NaN                   2                        2   \n",
       "3                         NaN                   1                        1   \n",
       "4                         NaN                   2                        2   \n",
       "\n",
       "  bounces_primeiraVisita newVisits_primeiraVisita  \\\n",
       "0                    1.0                      1.0   \n",
       "1                    NaN                      1.0   \n",
       "2                    NaN                      1.0   \n",
       "3                    1.0                      1.0   \n",
       "4                    NaN                      NaN   \n",
       "\n",
       "  transactionRevenue_primeiraVisita  \n",
       "0                               0.0  \n",
       "1                               0.0  \n",
       "2                               0.0  \n",
       "3                               0.0  \n",
       "4                               0.0  \n",
       "\n",
       "[5 rows x 62 columns]"
      ]
     },
     "execution_count": 31,
     "metadata": {},
     "output_type": "execute_result"
    }
   ],
   "source": [
    "visitas = pd.merge(visitas, usuarios_visitas_unicos, \n",
    "                   left_on=['fullVisitorId', 'visitNumber_primeira'], \n",
    "                   right_on=['fullVisitorId', 'visitNumber'], \n",
    "                   how='left', suffixes=['_ultimaVisita', '_primeiraVisita'])\n",
    "print(visitas.shape)\n",
    "visitas.head()"
   ]
  },
  {
   "cell_type": "markdown",
   "metadata": {},
   "source": [
    "#### Limpeza da base"
   ]
  },
  {
   "cell_type": "code",
   "execution_count": 32,
   "metadata": {
    "ExecuteTime": {
     "end_time": "2021-05-04T11:21:48.525795Z",
     "start_time": "2021-05-04T11:21:48.189660Z"
    }
   },
   "outputs": [],
   "source": [
    "for coluna in quantitativas:\n",
    "    visitas.drop(coluna+'_ultimaVisita', axis=1, inplace=True)\n",
    "    visitas.drop(coluna+'_primeiraVisita', axis=1, inplace=True)"
   ]
  },
  {
   "cell_type": "code",
   "execution_count": 33,
   "metadata": {
    "ExecuteTime": {
     "end_time": "2021-05-04T11:21:48.552199Z",
     "start_time": "2021-05-04T11:21:48.528639Z"
    }
   },
   "outputs": [],
   "source": [
    "ids = ['sessionId_ultimaVisita', 'sessionId_primeiraVisita', 'visitId_ultimaVisita', 'visitId_primeiraVisita']\n",
    "visitas.drop(ids, axis=1, inplace=True)"
   ]
  },
  {
   "cell_type": "code",
   "execution_count": 34,
   "metadata": {
    "ExecuteTime": {
     "end_time": "2021-05-04T11:21:48.733455Z",
     "start_time": "2021-05-04T11:21:48.555742Z"
    }
   },
   "outputs": [],
   "source": [
    "geo = ['continent_primeiraVisita', 'subContinent_primeiraVisita', 'country_primeiraVisita', 'region_primeiraVisita', \n",
    "       'metro_primeiraVisita', 'city_primeiraVisita', 'networkDomain_primeiraVisita']\n",
    "visitas.drop(geo, axis=1, inplace=True)"
   ]
  },
  {
   "cell_type": "markdown",
   "metadata": {},
   "source": [
    "#### Criando mais algumas variáveis"
   ]
  },
  {
   "cell_type": "code",
   "execution_count": 35,
   "metadata": {
    "ExecuteTime": {
     "end_time": "2021-05-04T11:21:49.043877Z",
     "start_time": "2021-05-04T11:21:48.736491Z"
    }
   },
   "outputs": [],
   "source": [
    "visitas = pd.merge(visitas, df_quant, left_on=['fullVisitorId'], right_on=['fullVisitorId'], how='left')"
   ]
  },
  {
   "cell_type": "code",
   "execution_count": 36,
   "metadata": {
    "ExecuteTime": {
     "end_time": "2021-05-04T11:21:49.197113Z",
     "start_time": "2021-05-04T11:21:49.046585Z"
    }
   },
   "outputs": [],
   "source": [
    "visitas['tempo_dif'] = visitas['visitStartTime_ultimaVisita'] - visitas['visitStartTime_primeiraVisita']\n",
    "visitas['total_visits'] = df.groupby('fullVisitorId', as_index=False).count()['visitNumber'].values"
   ]
  },
  {
   "cell_type": "code",
   "execution_count": 37,
   "metadata": {
    "ExecuteTime": {
     "end_time": "2021-05-04T11:21:49.329230Z",
     "start_time": "2021-05-04T11:21:49.199605Z"
    }
   },
   "outputs": [],
   "source": [
    "visitas['ano_ultima'] = pd.to_numeric([data[0:4] for data in visitas['date_ultimaVisita']])\n",
    "visitas['mes_ultima'] = pd.to_numeric([data[4:6] for data in visitas['date_ultimaVisita']])\n",
    "visitas['dia_ultima'] = pd.to_numeric([data[6:8] for data in visitas['date_ultimaVisita']])\n",
    "\n",
    "visitas['ano_primeira'] = pd.to_numeric([data[0:4] for data in visitas['date_primeiraVisita']])\n",
    "visitas['mes_primeira'] = pd.to_numeric([data[4:6] for data in visitas['date_primeiraVisita']])\n",
    "visitas['dia_primeira'] = pd.to_numeric([data[6:8] for data in visitas['date_primeiraVisita']])"
   ]
  },
  {
   "cell_type": "code",
   "execution_count": 38,
   "metadata": {
    "ExecuteTime": {
     "end_time": "2021-05-04T11:21:49.474785Z",
     "start_time": "2021-05-04T11:21:49.332096Z"
    }
   },
   "outputs": [
    {
     "data": {
      "text/html": [
       "<div>\n",
       "<style scoped>\n",
       "    .dataframe tbody tr th:only-of-type {\n",
       "        vertical-align: middle;\n",
       "    }\n",
       "\n",
       "    .dataframe tbody tr th {\n",
       "        vertical-align: top;\n",
       "    }\n",
       "\n",
       "    .dataframe thead th {\n",
       "        text-align: right;\n",
       "    }\n",
       "</style>\n",
       "<table border=\"1\" class=\"dataframe\">\n",
       "  <thead>\n",
       "    <tr style=\"text-align: right;\">\n",
       "      <th></th>\n",
       "      <th>fullVisitorId</th>\n",
       "      <th>visitNumber_ultimaVisita</th>\n",
       "      <th>channelGrouping_ultimaVisita</th>\n",
       "      <th>date_ultimaVisita</th>\n",
       "      <th>visitStartTime_ultimaVisita</th>\n",
       "      <th>browser_ultimaVisita</th>\n",
       "      <th>operatingSystem_ultimaVisita</th>\n",
       "      <th>isMobile_ultimaVisita</th>\n",
       "      <th>deviceCategory_ultimaVisita</th>\n",
       "      <th>continent_ultimaVisita</th>\n",
       "      <th>...</th>\n",
       "      <th>pageviews</th>\n",
       "      <th>transactionRevenue</th>\n",
       "      <th>tempo_dif</th>\n",
       "      <th>total_visits</th>\n",
       "      <th>ano_ultima</th>\n",
       "      <th>mes_ultima</th>\n",
       "      <th>dia_ultima</th>\n",
       "      <th>ano_primeira</th>\n",
       "      <th>mes_primeira</th>\n",
       "      <th>dia_primeira</th>\n",
       "    </tr>\n",
       "  </thead>\n",
       "  <tbody>\n",
       "    <tr>\n",
       "      <th>0</th>\n",
       "      <td>0002365800130207040</td>\n",
       "      <td>1</td>\n",
       "      <td>Social</td>\n",
       "      <td>20160904</td>\n",
       "      <td>1472974804</td>\n",
       "      <td>Edge</td>\n",
       "      <td>Windows</td>\n",
       "      <td>False</td>\n",
       "      <td>desktop</td>\n",
       "      <td>Europe</td>\n",
       "      <td>...</td>\n",
       "      <td>1</td>\n",
       "      <td>0.0</td>\n",
       "      <td>0</td>\n",
       "      <td>1</td>\n",
       "      <td>2016</td>\n",
       "      <td>9</td>\n",
       "      <td>4</td>\n",
       "      <td>2016</td>\n",
       "      <td>9</td>\n",
       "      <td>4</td>\n",
       "    </tr>\n",
       "    <tr>\n",
       "      <th>1</th>\n",
       "      <td>0010286039787739137</td>\n",
       "      <td>1</td>\n",
       "      <td>Organic Search</td>\n",
       "      <td>20160928</td>\n",
       "      <td>1475084026</td>\n",
       "      <td>Chrome</td>\n",
       "      <td>Chrome OS</td>\n",
       "      <td>False</td>\n",
       "      <td>desktop</td>\n",
       "      <td>Americas</td>\n",
       "      <td>...</td>\n",
       "      <td>3</td>\n",
       "      <td>0.0</td>\n",
       "      <td>0</td>\n",
       "      <td>1</td>\n",
       "      <td>2016</td>\n",
       "      <td>9</td>\n",
       "      <td>28</td>\n",
       "      <td>2016</td>\n",
       "      <td>9</td>\n",
       "      <td>28</td>\n",
       "    </tr>\n",
       "    <tr>\n",
       "      <th>2</th>\n",
       "      <td>0011056874471185769</td>\n",
       "      <td>1</td>\n",
       "      <td>Social</td>\n",
       "      <td>20161205</td>\n",
       "      <td>1480996024</td>\n",
       "      <td>Chrome</td>\n",
       "      <td>Windows</td>\n",
       "      <td>False</td>\n",
       "      <td>desktop</td>\n",
       "      <td>Asia</td>\n",
       "      <td>...</td>\n",
       "      <td>2</td>\n",
       "      <td>0.0</td>\n",
       "      <td>0</td>\n",
       "      <td>1</td>\n",
       "      <td>2016</td>\n",
       "      <td>12</td>\n",
       "      <td>5</td>\n",
       "      <td>2016</td>\n",
       "      <td>12</td>\n",
       "      <td>5</td>\n",
       "    </tr>\n",
       "    <tr>\n",
       "      <th>3</th>\n",
       "      <td>0014443856125569702</td>\n",
       "      <td>1</td>\n",
       "      <td>Social</td>\n",
       "      <td>20161002</td>\n",
       "      <td>1475423502</td>\n",
       "      <td>Opera</td>\n",
       "      <td>Windows</td>\n",
       "      <td>False</td>\n",
       "      <td>desktop</td>\n",
       "      <td>Europe</td>\n",
       "      <td>...</td>\n",
       "      <td>1</td>\n",
       "      <td>0.0</td>\n",
       "      <td>0</td>\n",
       "      <td>1</td>\n",
       "      <td>2016</td>\n",
       "      <td>10</td>\n",
       "      <td>2</td>\n",
       "      <td>2016</td>\n",
       "      <td>10</td>\n",
       "      <td>2</td>\n",
       "    </tr>\n",
       "    <tr>\n",
       "      <th>4</th>\n",
       "      <td>0017260116665815114</td>\n",
       "      <td>6</td>\n",
       "      <td>Direct</td>\n",
       "      <td>20170420</td>\n",
       "      <td>1492707286</td>\n",
       "      <td>Safari</td>\n",
       "      <td>Macintosh</td>\n",
       "      <td>False</td>\n",
       "      <td>desktop</td>\n",
       "      <td>Americas</td>\n",
       "      <td>...</td>\n",
       "      <td>2</td>\n",
       "      <td>0.0</td>\n",
       "      <td>0</td>\n",
       "      <td>1</td>\n",
       "      <td>2017</td>\n",
       "      <td>4</td>\n",
       "      <td>20</td>\n",
       "      <td>2017</td>\n",
       "      <td>4</td>\n",
       "      <td>20</td>\n",
       "    </tr>\n",
       "  </tbody>\n",
       "</table>\n",
       "<p>5 rows × 54 columns</p>\n",
       "</div>"
      ],
      "text/plain": [
       "         fullVisitorId  visitNumber_ultimaVisita channelGrouping_ultimaVisita  \\\n",
       "0  0002365800130207040                         1                       Social   \n",
       "1  0010286039787739137                         1               Organic Search   \n",
       "2  0011056874471185769                         1                       Social   \n",
       "3  0014443856125569702                         1                       Social   \n",
       "4  0017260116665815114                         6                       Direct   \n",
       "\n",
       "  date_ultimaVisita  visitStartTime_ultimaVisita browser_ultimaVisita  \\\n",
       "0          20160904                   1472974804                 Edge   \n",
       "1          20160928                   1475084026               Chrome   \n",
       "2          20161205                   1480996024               Chrome   \n",
       "3          20161002                   1475423502                Opera   \n",
       "4          20170420                   1492707286               Safari   \n",
       "\n",
       "  operatingSystem_ultimaVisita  isMobile_ultimaVisita  \\\n",
       "0                      Windows                  False   \n",
       "1                    Chrome OS                  False   \n",
       "2                      Windows                  False   \n",
       "3                      Windows                  False   \n",
       "4                    Macintosh                  False   \n",
       "\n",
       "  deviceCategory_ultimaVisita continent_ultimaVisita  ... pageviews  \\\n",
       "0                     desktop                 Europe  ...         1   \n",
       "1                     desktop               Americas  ...         3   \n",
       "2                     desktop                   Asia  ...         2   \n",
       "3                     desktop                 Europe  ...         1   \n",
       "4                     desktop               Americas  ...         2   \n",
       "\n",
       "  transactionRevenue tempo_dif total_visits ano_ultima mes_ultima dia_ultima  \\\n",
       "0                0.0         0            1       2016          9          4   \n",
       "1                0.0         0            1       2016          9         28   \n",
       "2                0.0         0            1       2016         12          5   \n",
       "3                0.0         0            1       2016         10          2   \n",
       "4                0.0         0            1       2017          4         20   \n",
       "\n",
       "  ano_primeira mes_primeira dia_primeira  \n",
       "0         2016            9            4  \n",
       "1         2016            9           28  \n",
       "2         2016           12            5  \n",
       "3         2016           10            2  \n",
       "4         2017            4           20  \n",
       "\n",
       "[5 rows x 54 columns]"
      ]
     },
     "execution_count": 38,
     "metadata": {},
     "output_type": "execute_result"
    }
   ],
   "source": [
    "visitas.head()"
   ]
  },
  {
   "cell_type": "markdown",
   "metadata": {},
   "source": [
    "#### Label encoder"
   ]
  },
  {
   "cell_type": "code",
   "execution_count": 39,
   "metadata": {
    "ExecuteTime": {
     "end_time": "2021-05-04T11:21:49.640621Z",
     "start_time": "2021-05-04T11:21:49.477853Z"
    }
   },
   "outputs": [],
   "source": [
    "visitas.drop(['fullVisitorId'], axis=1, inplace=True)\n",
    "\n",
    "y = visitas['transactionRevenue'].copy()\n",
    "X = visitas.drop(['transactionRevenue'], axis=1)"
   ]
  },
  {
   "cell_type": "code",
   "execution_count": 40,
   "metadata": {
    "ExecuteTime": {
     "end_time": "2021-05-04T11:21:50.564734Z",
     "start_time": "2021-05-04T11:21:49.643330Z"
    }
   },
   "outputs": [],
   "source": [
    "from sklearn.preprocessing import LabelEncoder\n",
    "\n",
    "qualitativas = visitas.dtypes[visitas.dtypes == object].keys()\n",
    "for coluna in qualitativas:\n",
    "    lbl = LabelEncoder()\n",
    "    strings = list(X[coluna].values.astype('str'))\n",
    "    X[coluna] = lbl.fit_transform(strings)"
   ]
  },
  {
   "cell_type": "markdown",
   "metadata": {},
   "source": [
    "#### Separação dos dados"
   ]
  },
  {
   "cell_type": "code",
   "execution_count": 41,
   "metadata": {
    "ExecuteTime": {
     "end_time": "2021-05-04T11:21:50.585844Z",
     "start_time": "2021-05-04T11:21:50.567347Z"
    }
   },
   "outputs": [
    {
     "name": "stdout",
     "output_type": "stream",
     "text": [
      "Treino: (6997, 52) + (6997,)\n",
      "Teste:  (3000, 52)  + (3000,)\n"
     ]
    }
   ],
   "source": [
    "X_train, X_test, y_train, y_test = train_test_split(X, y, test_size=0.3, random_state=42)\n",
    "print(f'Treino: {X_train.shape} + {y_train.shape}')\n",
    "print(f'Teste:  {X_test.shape}  + {y_test.shape}')"
   ]
  },
  {
   "cell_type": "markdown",
   "metadata": {},
   "source": [
    "#### Regressão Linear"
   ]
  },
  {
   "cell_type": "code",
   "execution_count": 42,
   "metadata": {
    "ExecuteTime": {
     "end_time": "2021-05-04T11:21:50.829913Z",
     "start_time": "2021-05-04T11:21:50.589327Z"
    }
   },
   "outputs": [],
   "source": [
    "reg = LinearRegression()\n",
    "_ = reg.fit(X_train, y_train)\n",
    "\n",
    "pred = reg.predict(X_test)\n",
    "pred[pred < 0] = 0"
   ]
  },
  {
   "cell_type": "markdown",
   "metadata": {},
   "source": [
    "#### Avaliando o resultado"
   ]
  },
  {
   "cell_type": "code",
   "execution_count": 43,
   "metadata": {
    "ExecuteTime": {
     "end_time": "2021-05-04T11:21:50.906483Z",
     "start_time": "2021-05-04T11:21:50.833591Z"
    }
   },
   "outputs": [
    {
     "data": {
      "text/html": [
       "<div>\n",
       "<style scoped>\n",
       "    .dataframe tbody tr th:only-of-type {\n",
       "        vertical-align: middle;\n",
       "    }\n",
       "\n",
       "    .dataframe tbody tr th {\n",
       "        vertical-align: top;\n",
       "    }\n",
       "\n",
       "    .dataframe thead th {\n",
       "        text-align: right;\n",
       "    }\n",
       "</style>\n",
       "<table border=\"1\" class=\"dataframe\">\n",
       "  <thead>\n",
       "    <tr style=\"text-align: right;\">\n",
       "      <th></th>\n",
       "      <th>revenue</th>\n",
       "      <th>predict</th>\n",
       "      <th>erro</th>\n",
       "    </tr>\n",
       "  </thead>\n",
       "  <tbody>\n",
       "    <tr>\n",
       "      <th>4122</th>\n",
       "      <td>0.0</td>\n",
       "      <td>0.059646</td>\n",
       "      <td>0.059646</td>\n",
       "    </tr>\n",
       "    <tr>\n",
       "      <th>4065</th>\n",
       "      <td>0.0</td>\n",
       "      <td>0.000000</td>\n",
       "      <td>0.000000</td>\n",
       "    </tr>\n",
       "    <tr>\n",
       "      <th>1731</th>\n",
       "      <td>0.0</td>\n",
       "      <td>0.000000</td>\n",
       "      <td>0.000000</td>\n",
       "    </tr>\n",
       "    <tr>\n",
       "      <th>4740</th>\n",
       "      <td>0.0</td>\n",
       "      <td>0.437595</td>\n",
       "      <td>0.437595</td>\n",
       "    </tr>\n",
       "    <tr>\n",
       "      <th>6391</th>\n",
       "      <td>0.0</td>\n",
       "      <td>0.000000</td>\n",
       "      <td>0.000000</td>\n",
       "    </tr>\n",
       "  </tbody>\n",
       "</table>\n",
       "</div>"
      ],
      "text/plain": [
       "      revenue   predict      erro\n",
       "4122      0.0  0.059646  0.059646\n",
       "4065      0.0  0.000000  0.000000\n",
       "1731      0.0  0.000000  0.000000\n",
       "4740      0.0  0.437595  0.437595\n",
       "6391      0.0  0.000000  0.000000"
      ]
     },
     "execution_count": 43,
     "metadata": {},
     "output_type": "execute_result"
    }
   ],
   "source": [
    "resultados = pd.DataFrame({'revenue': y_test, 'predict': pred, 'erro': pred - y_test})\n",
    "resultados.head()"
   ]
  },
  {
   "cell_type": "code",
   "execution_count": 45,
   "metadata": {
    "ExecuteTime": {
     "end_time": "2021-05-04T11:24:04.529131Z",
     "start_time": "2021-05-04T11:24:04.521435Z"
    }
   },
   "outputs": [
    {
     "name": "stdout",
     "output_type": "stream",
     "text": [
      "RMSE: 25.032867765858477\n",
      "Media de gasto:  1.778953686105831\n",
      "Desvio padrão:  25.129905708017944\n"
     ]
    }
   ],
   "source": [
    "print(f'RMSE: {np.sqrt(mean_squared_error(y_test, pred))}')\n",
    "print('Media de gasto: ', np.mean(df_quant['transactionRevenue']))\n",
    "print('Desvio padrão: ', np.std(df_quant['transactionRevenue']))"
   ]
  },
  {
   "cell_type": "code",
   "execution_count": 46,
   "metadata": {
    "ExecuteTime": {
     "end_time": "2021-05-04T11:24:34.569169Z",
     "start_time": "2021-05-04T11:24:34.324244Z"
    }
   },
   "outputs": [
    {
     "data": {
      "image/png": "[encoded data removed]",
      "text/plain": [
       "<Figure size 720x360 with 1 Axes>"
      ]
     },
     "metadata": {
      "needs_background": "light"
     },
     "output_type": "display_data"
    }
   ],
   "source": [
    "plt.figure(figsize=(10, 5))\n",
    "sns.boxplot(pred, color='c')\n",
    "plt.title('Boxplot valores preditos', fontsize=16, y=1.03)\n",
    "plt.xlabel('Transaction Revenue', fontsize=14)\n",
    "plt.show()"
   ]
  },
  {
   "cell_type": "markdown",
   "metadata": {},
   "source": [
    "#### Gradient boosting"
   ]
  },
  {
   "cell_type": "code",
   "execution_count": 48,
   "metadata": {
    "ExecuteTime": {
     "end_time": "2021-05-04T11:27:59.524271Z",
     "start_time": "2021-05-04T11:27:55.476145Z"
    }
   },
   "outputs": [],
   "source": [
    "from sklearn.ensemble import GradientBoostingRegressor\n",
    "\n",
    "gbr = GradientBoostingRegressor(random_state=42)\n",
    "_ = gbr.fit(X_train, y_train)\n",
    "pred = gbr.predict(X_test)\n",
    "pred[pred < 0] = 0"
   ]
  },
  {
   "cell_type": "code",
   "execution_count": 49,
   "metadata": {
    "ExecuteTime": {
     "end_time": "2021-05-04T11:28:01.806176Z",
     "start_time": "2021-05-04T11:28:01.799021Z"
    }
   },
   "outputs": [
    {
     "name": "stdout",
     "output_type": "stream",
     "text": [
      "RMSE: 23.09413632899293\n",
      "Media de gasto:  1.778953686105831\n",
      "Desvio padrão:  25.129905708017944\n"
     ]
    }
   ],
   "source": [
    "print(f'RMSE: {np.sqrt(mean_squared_error(y_test, pred))}')\n",
    "print('Media de gasto: ', np.mean(df_quant['transactionRevenue']))\n",
    "print('Desvio padrão: ', np.std(df_quant['transactionRevenue']))"
   ]
  },
  {
   "cell_type": "code",
   "execution_count": 50,
   "metadata": {
    "ExecuteTime": {
     "end_time": "2021-05-04T11:28:53.916428Z",
     "start_time": "2021-05-04T11:28:53.664001Z"
    }
   },
   "outputs": [
    {
     "data": {
      "image/png": "[encoded data removed]",
      "text/plain": [
       "<Figure size 720x360 with 1 Axes>"
      ]
     },
     "metadata": {
      "needs_background": "light"
     },
     "output_type": "display_data"
    }
   ],
   "source": [
    "plt.figure(figsize=(10, 5))\n",
    "sns.boxplot(pred, color='c')\n",
    "plt.title('Boxplot valores preditos', fontsize=16, y=1.03)\n",
    "plt.xlabel('Transaction Revenue', fontsize=14)\n",
    "plt.show()"
   ]
  }
 ],
 "metadata": {
  "hide_input": false,
  "kernelspec": {
   "display_name": "Python 3",
   "language": "python",
   "name": "python3"
  },
  "language_info": {
   "codemirror_mode": {
    "name": "ipython",
    "version": 3
   },
   "file_extension": ".py",
   "mimetype": "text/x-python",
   "name": "python",
   "nbconvert_exporter": "python",
   "pygments_lexer": "ipython3",
   "version": "3.7.5"
  },
  "toc": {
   "base_numbering": 1,
   "nav_menu": {},
   "number_sections": false,
   "sideBar": false,
   "skip_h1_title": false,
   "title_cell": "Table of Contents",
   "title_sidebar": "Contents",
   "toc_cell": false,
   "toc_position": {},
   "toc_section_display": false,
   "toc_window_display": false
  },
  "varInspector": {
   "cols": {
    "lenName": 16,
    "lenType": 16,
    "lenVar": 40
   },
   "kernels_config": {
    "python": {
     "delete_cmd_postfix": "",
     "delete_cmd_prefix": "del ",
     "library": "var_list.py",
     "varRefreshCmd": "print(var_dic_list())"
    },
    "r": {
     "delete_cmd_postfix": ") ",
     "delete_cmd_prefix": "rm(",
     "library": "var_list.r",
     "varRefreshCmd": "cat(var_dic_list()) "
    }
   },
   "types_to_exclude": [
    "module",
    "function",
    "builtin_function_or_method",
    "instance",
    "_Feature"
   ],
   "window_display": false
  }
 },
 "nbformat": 4,
 "nbformat_minor": 2
}
